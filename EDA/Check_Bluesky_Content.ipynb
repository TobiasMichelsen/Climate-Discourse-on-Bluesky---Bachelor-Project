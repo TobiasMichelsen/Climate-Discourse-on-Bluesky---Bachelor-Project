{
 "cells": [
  {
   "attachments": {},
   "cell_type": "markdown",
   "metadata": {},
   "source": [
    "# This Notebook allows for manual checking of json files:"
   ]
  },
  {
   "attachments": {},
   "cell_type": "markdown",
   "metadata": {},
   "source": [
    "## Function to see posts on the Bluesky App"
   ]
  },
  {
   "cell_type": "code",
   "execution_count": 12,
   "metadata": {},
   "outputs": [],
   "source": [
    "def see_posts_on_bsky(posts):\n",
    "    for post in posts:\n",
    "        did = post[\"repo\"]\n",
    "        cid = post[\"cid\"]\n",
    "        uri = post[\"uri\"]\n",
    "        text = post[\"text\"]\n",
    "        \n",
    "        rkey = uri.split(\"/\")[-1]\n",
    "        \n",
    "        bsky_link = f\"https://bsky.app/profile/{did}/post/{rkey}\"\n",
    "        \n",
    "        print(\"------\")\n",
    "        print(f\"DID: {did}\")\n",
    "        print(f\"CID: {cid}\")\n",
    "        print(f\"Text: {text}\")\n",
    "        print(f\"Post Link: {bsky_link}\")\n",
    "\n"
   ]
  },
  {
   "cell_type": "code",
   "execution_count": 13,
   "metadata": {},
   "outputs": [],
   "source": [
    "posts = [\n",
    "    {\n",
    "        \"repo\": \"did:plc:hwv5wjhn2hpzeixn3pvbp3fl\",\n",
    "        \"timestamp\": \"2025-03-21T16:28:09.026Z\",\n",
    "        \"seq\": 6803530504,\n",
    "        \"text\": \"Huskies doing husky things....😉😆\",\n",
    "        \"langs\": [\"en\"],\n",
    "        \"cid\": \"bafyreidrdndzgsdfbtlc5pb45uqyx2dz6bef7lfcjrvsl5jxzcx7ypqolq\",\n",
    "        \"uri\": \"at://did:plc:hwv5wjhn2hpzeixn3pvbp3fl/app.bsky.feed.post/3lkvmyqqwuk2v\"\n",
    "    },\n",
    "    {\n",
    "        \"repo\": \"did:plc:lmweh26fda6vfon43m3rbb4o\",\n",
    "        \"timestamp\": \"2025-03-21T16:28:09.028Z\",\n",
    "        \"seq\": 6803530508,\n",
    "        \"text\": \"I know Marin County a bit. Other than Sausalito, I visited Muir Woods and Point Reyes on my way to Sonoma in 2017. Beautiful place!\",\n",
    "        \"langs\": [\"en\"],\n",
    "        \"cid\": \"bafyreigeutmfwmveakxbn2tt5kz7sjalo5dhg4nwop34ungylq7y5vboaa\",\n",
    "        \"uri\": \"at://did:plc:lmweh26fda6vfon43m3rbb4o/app.bsky.feed.post/3lkvmyqe5os26\"\n",
    "    }\n",
    "]"
   ]
  },
  {
   "cell_type": "code",
   "execution_count": 14,
   "metadata": {},
   "outputs": [
    {
     "name": "stdout",
     "output_type": "stream",
     "text": [
      "------\n",
      "DID: did:plc:hwv5wjhn2hpzeixn3pvbp3fl\n",
      "CID: bafyreidrdndzgsdfbtlc5pb45uqyx2dz6bef7lfcjrvsl5jxzcx7ypqolq\n",
      "Text: Huskies doing husky things....😉😆\n",
      "Post Link: https://bsky.app/profile/did:plc:hwv5wjhn2hpzeixn3pvbp3fl/post/3lkvmyqqwuk2v\n",
      "------\n",
      "DID: did:plc:lmweh26fda6vfon43m3rbb4o\n",
      "CID: bafyreigeutmfwmveakxbn2tt5kz7sjalo5dhg4nwop34ungylq7y5vboaa\n",
      "Text: I know Marin County a bit. Other than Sausalito, I visited Muir Woods and Point Reyes on my way to Sonoma in 2017. Beautiful place!\n",
      "Post Link: https://bsky.app/profile/did:plc:lmweh26fda6vfon43m3rbb4o/post/3lkvmyqe5os26\n"
     ]
    }
   ],
   "source": [
    "see_posts_on_bsky(posts)"
   ]
  },
  {
   "attachments": {},
   "cell_type": "markdown",
   "metadata": {},
   "source": [
    "## Function to see Likes"
   ]
  },
  {
   "cell_type": "code",
   "execution_count": 15,
   "metadata": {},
   "outputs": [],
   "source": [
    "\n",
    "def see_likes_on_bsky(likes):\n",
    "    for like in likes:\n",
    "        did = like[\"repo\"]\n",
    "        cid = like.get(\"liked_post_cid\")\n",
    "        uri = like.get(\"liked_post_uri\")\n",
    "\n",
    "        if uri:\n",
    "            rkey = uri.split(\"/\")[-1]\n",
    "            bsky_link = f\"https://bsky.app/profile/{uri.split('/')[2]}/post/{rkey}\"\n",
    "        else:\n",
    "            bsky_link = \"Unavailable\"\n",
    "\n",
    "        print(\"------\")\n",
    "        print(f\"[LIKE]\")\n",
    "        print(f\"DID: {did}\")\n",
    "        print(f\"Liked CID: {cid}\")\n",
    "        print(f\"Liked URI: {uri}\")\n",
    "        print(f\"Link: {bsky_link}\")"
   ]
  },
  {
   "cell_type": "code",
   "execution_count": 16,
   "metadata": {},
   "outputs": [],
   "source": [
    "likes = [{\"repo\": \"did:plc:75faeh4ne7o4uj7coojuvkvf\", \"timestamp\": \"2025-03-21T18:35:24.843Z\", \"seq\": 6808468994, \"liked_post_cid\": \"bafyreih6ihtwsotyah2f3agn2wynnezrijv2itihuhloz6evmqvk2qi6d4\", \"liked_post_uri\": \"at://did:plc:cbmnfa7tzixsf42kvjbr6wmc/app.bsky.feed.post/3lkvtqf4wbc2o\"}, {\"repo\": \"did:plc:xewh3lmy4vgf3v7a2gtidty3\", \"timestamp\": \"2025-03-21T18:35:24.843Z\", \"seq\": 6808468995, \"liked_post_cid\": \"bafyreiduriny2demuat7gww5qorqqnrdnkqwfub5wrpwwasbngp7pr235i\", \"liked_post_uri\": \"at://did:plc:xccx7ujmsaolft6ukd2oakkx/app.bsky.feed.post/3lkvfmjj2vk2g\"}, {\"repo\": \"did:plc:lf2g33q4yo4qtvtusfyjbfzw\", \"timestamp\": \"2025-03-21T18:35:24.844Z\", \"seq\": 6808468996, \"liked_post_cid\": \"bafyreicfvxhakelgr2s5dafmhmtvvy62vhyfgi3klkqtjfp57gflmekrvi\", \"liked_post_uri\": \"at://did:plc:vmfg5xc727mul2zgvecfitd6/app.bsky.feed.post/3lkvtiywtuk22\"}, {\"repo\": \"did:plc:x4jtbuxybxid43eylpxqoymv\", \"timestamp\": \"2025-03-21T18:35:24.845Z\", \"seq\": 6808468997, \"liked_post_cid\": \"bafyreiga7hncw6mi4p3dlmefrk3dy76bkxihfcmwhquwpixoiqng6u6fu4\", \"liked_post_uri\": \"at://did:plc:23k5jpw7moddnbg2tkign6ff/app.bsky.feed.post/3lkvsi74o722o\"}, {\"repo\": \"did:plc:vok3wjc6woxe37rnbuqyxuxs\", \"timestamp\": \"2025-03-21T18:35:24.849Z\", \"seq\": 6808468998, \"liked_post_cid\": \"bafyreiaeykcgndy5sn7qrtvx63j3scw6pfwdhyrvxe2by3477g4csvxbaa\", \"liked_post_uri\": \"at://did:plc:vec6j3mhpkofgo2fylvdlvjj/app.bsky.feed.post/3lkvj4vyze22k\"}, {\"repo\": \"did:plc:icooycqe4gcdks2g523ludim\", \"timestamp\": \"2025-03-21T18:35:24.850Z\", \"seq\": 6808468999, \"liked_post_cid\": \"bafyreigssqwpta27b664dtp7ucxaijjtrrd4gx6t4u4cmnamq7ahv4mfnm\", \"liked_post_uri\": \"at://did:plc:pgxe4n2jtcprrq5tb2lgetcr/app.bsky.feed.post/3lkvtsainbs2d\"}, {\"repo\": \"did:plc:753ozbav6axfl4yxgcmmj3qv\", \"timestamp\": \"2025-03-21T18:35:24.852Z\", \"seq\": 6808469000, \"liked_post_cid\": \"bafyreifrbn7lcp6fvd5tdjllbbxa5h4kidedd6dh7yukydosyclhh644ye\", \"liked_post_uri\": \"at://did:plc:qydzer3kn47ah4oyxyutb7hd/app.bsky.feed.post/3lk6wxfggwc26\"}, {\"repo\": \"did:plc:dmzz7mhoqu5yqsdcy2msht5w\", \"timestamp\": \"2025-03-21T18:35:24.852Z\", \"seq\": 6808469001, \"liked_post_cid\": \"bafyreid3ef6ndv5svqt7xqw7bprlicuooxwzxulefwaez6bcoem3abvckm\", \"liked_post_uri\": \"at://did:plc:twasya42lpacrrncfhcrbjyv/app.bsky.feed.post/3lkva5j2lmk2z\"}, {\"repo\": \"did:plc:keq54i45kl22er6jees4mhrh\", \"timestamp\": \"2025-03-21T18:35:24.853Z\", \"seq\": 6808469002, \"liked_post_cid\": \"bafyreifgdwfbxbfnpztmpigyf3bfsf6bdbtpobxzbsmqjaamk4i2kjpvzm\", \"liked_post_uri\": \"at://did:plc:apo2t7ketcjpsxsdtrbzhyzo/app.bsky.feed.post/3lku2ilxbyc24\"}, {\"repo\": \"did:plc:nqimmzz5fiqubefgeuc7eeko\", \"timestamp\": \"2025-03-21T18:35:24.858Z\", \"seq\": 6808469006, \"liked_post_cid\": \"bafyreieqlkj4uxdwlkyrdxrbgcjy3pb7kz6a6dp6y7xmzwqagijxnygzdq\", \"liked_post_uri\": \"at://did:plc:75p4rehvs5puorb3wl55okyk/app.bsky.feed.post/3lkvjxtiz522s\"}, {\"repo\": \"did:plc:bfh7otxbcgl5mo3lo7ioor32\", \"timestamp\": \"2025-03-21T18:35:24.859Z\", \"seq\": 6808469007, \"liked_post_cid\": \"bafyreigbpyeeuibnqnw4jl2qpq2k2rb24ieiviqwgt4sz7s5haaobn563y\", \"liked_post_uri\": \"at://did:plc:aunpu65mdrhwfie7ynymlzeh/app.bsky.feed.post/3lkvj6w6o7u2t\"}, {\"repo\": \"did:plc:kpiehqnhriznvu3jraezuzio\", \"timestamp\": \"2025-03-21T18:35:24.859Z\", \"seq\": 6808469008, \"liked_post_cid\": \"bafyreif2pq7xrayxy4vhwxc4ykmjjonv5gqyyte6sobgvpmrmo6huzhrya\", \"liked_post_uri\": \"at://did:plc:6vkr5dtwm33z4xw3sw6czzik/app.bsky.feed.post/3lkvtt4iahr2o\"}, {\"repo\": \"did:plc:lorqjms3ofhj62dqsnsgawgi\", \"timestamp\": \"2025-03-21T18:35:24.859Z\", \"seq\": 6808469009, \"liked_post_cid\": \"bafyreifwkyhodrdopnoaszqbxfov2na5i7uvtuzhkx2jekuv5cqbgr5s5u\", \"liked_post_uri\": \"at://did:plc:ru5zioxqfv6fctxyl45qqcj7/app.bsky.feed.post/3lkvr3nwhr22c\"}]"
   ]
  },
  {
   "cell_type": "code",
   "execution_count": 17,
   "metadata": {},
   "outputs": [
    {
     "name": "stdout",
     "output_type": "stream",
     "text": [
      "------\n",
      "[LIKE]\n",
      "DID: did:plc:75faeh4ne7o4uj7coojuvkvf\n",
      "Liked CID: bafyreih6ihtwsotyah2f3agn2wynnezrijv2itihuhloz6evmqvk2qi6d4\n",
      "Liked URI: at://did:plc:cbmnfa7tzixsf42kvjbr6wmc/app.bsky.feed.post/3lkvtqf4wbc2o\n",
      "Link: https://bsky.app/profile/did:plc:cbmnfa7tzixsf42kvjbr6wmc/post/3lkvtqf4wbc2o\n",
      "------\n",
      "[LIKE]\n",
      "DID: did:plc:xewh3lmy4vgf3v7a2gtidty3\n",
      "Liked CID: bafyreiduriny2demuat7gww5qorqqnrdnkqwfub5wrpwwasbngp7pr235i\n",
      "Liked URI: at://did:plc:xccx7ujmsaolft6ukd2oakkx/app.bsky.feed.post/3lkvfmjj2vk2g\n",
      "Link: https://bsky.app/profile/did:plc:xccx7ujmsaolft6ukd2oakkx/post/3lkvfmjj2vk2g\n",
      "------\n",
      "[LIKE]\n",
      "DID: did:plc:lf2g33q4yo4qtvtusfyjbfzw\n",
      "Liked CID: bafyreicfvxhakelgr2s5dafmhmtvvy62vhyfgi3klkqtjfp57gflmekrvi\n",
      "Liked URI: at://did:plc:vmfg5xc727mul2zgvecfitd6/app.bsky.feed.post/3lkvtiywtuk22\n",
      "Link: https://bsky.app/profile/did:plc:vmfg5xc727mul2zgvecfitd6/post/3lkvtiywtuk22\n",
      "------\n",
      "[LIKE]\n",
      "DID: did:plc:x4jtbuxybxid43eylpxqoymv\n",
      "Liked CID: bafyreiga7hncw6mi4p3dlmefrk3dy76bkxihfcmwhquwpixoiqng6u6fu4\n",
      "Liked URI: at://did:plc:23k5jpw7moddnbg2tkign6ff/app.bsky.feed.post/3lkvsi74o722o\n",
      "Link: https://bsky.app/profile/did:plc:23k5jpw7moddnbg2tkign6ff/post/3lkvsi74o722o\n",
      "------\n",
      "[LIKE]\n",
      "DID: did:plc:vok3wjc6woxe37rnbuqyxuxs\n",
      "Liked CID: bafyreiaeykcgndy5sn7qrtvx63j3scw6pfwdhyrvxe2by3477g4csvxbaa\n",
      "Liked URI: at://did:plc:vec6j3mhpkofgo2fylvdlvjj/app.bsky.feed.post/3lkvj4vyze22k\n",
      "Link: https://bsky.app/profile/did:plc:vec6j3mhpkofgo2fylvdlvjj/post/3lkvj4vyze22k\n",
      "------\n",
      "[LIKE]\n",
      "DID: did:plc:icooycqe4gcdks2g523ludim\n",
      "Liked CID: bafyreigssqwpta27b664dtp7ucxaijjtrrd4gx6t4u4cmnamq7ahv4mfnm\n",
      "Liked URI: at://did:plc:pgxe4n2jtcprrq5tb2lgetcr/app.bsky.feed.post/3lkvtsainbs2d\n",
      "Link: https://bsky.app/profile/did:plc:pgxe4n2jtcprrq5tb2lgetcr/post/3lkvtsainbs2d\n",
      "------\n",
      "[LIKE]\n",
      "DID: did:plc:753ozbav6axfl4yxgcmmj3qv\n",
      "Liked CID: bafyreifrbn7lcp6fvd5tdjllbbxa5h4kidedd6dh7yukydosyclhh644ye\n",
      "Liked URI: at://did:plc:qydzer3kn47ah4oyxyutb7hd/app.bsky.feed.post/3lk6wxfggwc26\n",
      "Link: https://bsky.app/profile/did:plc:qydzer3kn47ah4oyxyutb7hd/post/3lk6wxfggwc26\n",
      "------\n",
      "[LIKE]\n",
      "DID: did:plc:dmzz7mhoqu5yqsdcy2msht5w\n",
      "Liked CID: bafyreid3ef6ndv5svqt7xqw7bprlicuooxwzxulefwaez6bcoem3abvckm\n",
      "Liked URI: at://did:plc:twasya42lpacrrncfhcrbjyv/app.bsky.feed.post/3lkva5j2lmk2z\n",
      "Link: https://bsky.app/profile/did:plc:twasya42lpacrrncfhcrbjyv/post/3lkva5j2lmk2z\n",
      "------\n",
      "[LIKE]\n",
      "DID: did:plc:keq54i45kl22er6jees4mhrh\n",
      "Liked CID: bafyreifgdwfbxbfnpztmpigyf3bfsf6bdbtpobxzbsmqjaamk4i2kjpvzm\n",
      "Liked URI: at://did:plc:apo2t7ketcjpsxsdtrbzhyzo/app.bsky.feed.post/3lku2ilxbyc24\n",
      "Link: https://bsky.app/profile/did:plc:apo2t7ketcjpsxsdtrbzhyzo/post/3lku2ilxbyc24\n",
      "------\n",
      "[LIKE]\n",
      "DID: did:plc:nqimmzz5fiqubefgeuc7eeko\n",
      "Liked CID: bafyreieqlkj4uxdwlkyrdxrbgcjy3pb7kz6a6dp6y7xmzwqagijxnygzdq\n",
      "Liked URI: at://did:plc:75p4rehvs5puorb3wl55okyk/app.bsky.feed.post/3lkvjxtiz522s\n",
      "Link: https://bsky.app/profile/did:plc:75p4rehvs5puorb3wl55okyk/post/3lkvjxtiz522s\n",
      "------\n",
      "[LIKE]\n",
      "DID: did:plc:bfh7otxbcgl5mo3lo7ioor32\n",
      "Liked CID: bafyreigbpyeeuibnqnw4jl2qpq2k2rb24ieiviqwgt4sz7s5haaobn563y\n",
      "Liked URI: at://did:plc:aunpu65mdrhwfie7ynymlzeh/app.bsky.feed.post/3lkvj6w6o7u2t\n",
      "Link: https://bsky.app/profile/did:plc:aunpu65mdrhwfie7ynymlzeh/post/3lkvj6w6o7u2t\n",
      "------\n",
      "[LIKE]\n",
      "DID: did:plc:kpiehqnhriznvu3jraezuzio\n",
      "Liked CID: bafyreif2pq7xrayxy4vhwxc4ykmjjonv5gqyyte6sobgvpmrmo6huzhrya\n",
      "Liked URI: at://did:plc:6vkr5dtwm33z4xw3sw6czzik/app.bsky.feed.post/3lkvtt4iahr2o\n",
      "Link: https://bsky.app/profile/did:plc:6vkr5dtwm33z4xw3sw6czzik/post/3lkvtt4iahr2o\n",
      "------\n",
      "[LIKE]\n",
      "DID: did:plc:lorqjms3ofhj62dqsnsgawgi\n",
      "Liked CID: bafyreifwkyhodrdopnoaszqbxfov2na5i7uvtuzhkx2jekuv5cqbgr5s5u\n",
      "Liked URI: at://did:plc:ru5zioxqfv6fctxyl45qqcj7/app.bsky.feed.post/3lkvr3nwhr22c\n",
      "Link: https://bsky.app/profile/did:plc:ru5zioxqfv6fctxyl45qqcj7/post/3lkvr3nwhr22c\n"
     ]
    }
   ],
   "source": [
    "see_likes_on_bsky(likes)"
   ]
  },
  {
   "attachments": {},
   "cell_type": "markdown",
   "metadata": {},
   "source": [
    "## Function to see Reposts"
   ]
  },
  {
   "cell_type": "code",
   "execution_count": 18,
   "metadata": {},
   "outputs": [],
   "source": [
    "def see_reposts_on_bsky(reposts):\n",
    "    for repost in reposts:\n",
    "        did = repost[\"repo\"]\n",
    "        cid = repost.get(\"reposted_post_cid\")\n",
    "        uri = repost.get(\"reposted_post_uri\")\n",
    "\n",
    "        if uri:\n",
    "            rkey = uri.split(\"/\")[-1]\n",
    "            bsky_link = f\"https://bsky.app/profile/{uri.split('/')[2]}/post/{rkey}\"\n",
    "        else:\n",
    "            bsky_link = \"Unavailable\"\n",
    "\n",
    "        print(\"------\")\n",
    "        print(f\"[REPOST]\")\n",
    "        print(f\"DID: {did}\")\n",
    "        print(f\"Reposted CID: {cid}\")\n",
    "        print(f\"Reposted URI: {uri}\")\n",
    "        print(f\"Link: {bsky_link}\")"
   ]
  },
  {
   "cell_type": "code",
   "execution_count": 19,
   "metadata": {},
   "outputs": [],
   "source": [
    "reposts = [{\"repo\": \"did:plc:ledvwwvt3eyow2qdvy5ysobm\", \"timestamp\": \"2025-03-21T18:34:48.034Z\", \"seq\": 6808445532, \"reposted_post_cid\": \"bafyreihzdngo46a2rvyhrxcm7iyt4mjcayy4eze6iallb6352v2va6ckga\", \"reposted_post_uri\": \"at://did:plc:ledvwwvt3eyow2qdvy5ysobm/app.bsky.feed.post/3lkozgahrr22w\"}, {\"repo\": \"did:plc:vd2zjp4fkzwcuc54xsxro4o4\", \"timestamp\": \"2025-03-21T18:34:48.051Z\", \"seq\": 6808445537, \"reposted_post_cid\": \"bafyreihz2mt2tpcxos4pljyqbmeoua3fooa4usykhfezmbqezub6w5lvbq\", \"reposted_post_uri\": \"at://did:plc:redbwwkd7qaoppjmstdev6hz/app.bsky.feed.post/3lkvlhdlnlk2q\"}, {\"repo\": \"did:plc:g6nsxfd3xm3zocyghrmvmocm\", \"timestamp\": \"2025-03-21T18:34:48.051Z\", \"seq\": 6808445540, \"reposted_post_cid\": \"bafyreid5czsnxuvvs6gaqey2wdaepzpkcr6ktd7mbnkpd4mtgwlfypcu5m\", \"reposted_post_uri\": \"at://did:plc:y5t3tgyytllqmju25v3s4ejs/app.bsky.feed.post/3lkvtrvzmlc2d\"}, {\"repo\": \"did:plc:zwlhg4ls3kvoombtardrwidf\", \"timestamp\": \"2025-03-21T18:34:48.052Z\", \"seq\": 6808445541, \"reposted_post_cid\": \"bafyreifzpokmx744jri7silty526doajhocq5jvodcg4qd4yqphfsukrey\", \"reposted_post_uri\": \"at://did:plc:incfl4n2czk57qdkt7u5h35x/app.bsky.feed.post/3lkqxa2xfps2m\"}, {\"repo\": \"did:plc:xcu2bfvjz2osnxb4fo3bu4zq\", \"timestamp\": \"2025-03-21T18:34:48.063Z\", \"seq\": 6808445548, \"reposted_post_cid\": \"bafyreibjpqo52anfidt2sqmcxcz6pimqphvl5pcmiay42p76v3qyszr7nu\", \"reposted_post_uri\": \"at://did:plc:6ujabxgplanrducda3kfmwjq/app.bsky.feed.post/3lkvkwtjp7k22\"}, {\"repo\": \"did:plc:pv75nxsntuyyh3zujdqyhglq\", \"timestamp\": \"2025-03-21T18:34:48.073Z\", \"seq\": 6808445557, \"reposted_post_cid\": \"bafyreic72xfcvbtpcl7aznjyifewjyzktzs67xxmnj5jvl6hohvdns7nrq\", \"reposted_post_uri\": \"at://did:plc:mg6sfmolxnwbh2z2fzx3zhae/app.bsky.feed.post/3lkvr6y4j2s2r\"}, {\"repo\": \"did:plc:eviomfaa6lt3kdvqlrj3bbsq\", \"timestamp\": \"2025-03-21T18:34:48.101Z\", \"seq\": 6808445569, \"reposted_post_cid\": \"bafyreie7asey235ljhrt2uwf3fhxdlewluu3azk2gm7ybdv63tkf3gw6ju\", \"reposted_post_uri\": \"at://did:plc:chrddzqhzhspe7emekys57m7/app.bsky.feed.post/3lkvtevtnrk2t\"}, {\"repo\": \"did:plc:pepdesmp7xhr2354buq7eqhm\", \"timestamp\": \"2025-03-21T18:34:48.119Z\", \"seq\": 6808445588, \"reposted_post_cid\": \"bafyreidkmbir2ykuibg5pgphanjvk6642dkzp4bf7wedrspafls2pf7f5y\", \"reposted_post_uri\": \"at://did:plc:4u3hwe3p7oy3hoy3amlw7rp2/app.bsky.feed.post/3lkvsxzqtxm26\"}, {\"repo\": \"did:plc:6rtsoqztljnpr4qxib4z5hv3\", \"timestamp\": \"2025-03-21T18:34:48.134Z\", \"seq\": 6808445594, \"reposted_post_cid\": \"bafyreibjwtngewprijqkmp4zx4rjfnqcn7fieknuxni6y2in2sqedbp6wa\", \"reposted_post_uri\": \"at://did:plc:qxudeqrdbv6676vzjssrhllo/app.bsky.feed.post/3lkvlxpvl5c2l\"}, {\"repo\": \"did:plc:ae2tel26lwqkftsb3xvqmwih\", \"timestamp\": \"2025-03-21T18:34:48.170Z\", \"seq\": 6808445610, \"reposted_post_cid\": \"bafyreidc7ofwa342wtvf3qsbtsamt2nzf3qjyanm5dxarol3jeu4i2zvhq\", \"reposted_post_uri\": \"at://did:plc:ny5mscvguz4r636nekozpqac/app.bsky.feed.post/3lkvtyrwm6c2w\"}]"
   ]
  },
  {
   "cell_type": "code",
   "execution_count": 20,
   "metadata": {},
   "outputs": [
    {
     "name": "stdout",
     "output_type": "stream",
     "text": [
      "------\n",
      "[REPOST]\n",
      "DID: did:plc:ledvwwvt3eyow2qdvy5ysobm\n",
      "Reposted CID: bafyreihzdngo46a2rvyhrxcm7iyt4mjcayy4eze6iallb6352v2va6ckga\n",
      "Reposted URI: at://did:plc:ledvwwvt3eyow2qdvy5ysobm/app.bsky.feed.post/3lkozgahrr22w\n",
      "Link: https://bsky.app/profile/did:plc:ledvwwvt3eyow2qdvy5ysobm/post/3lkozgahrr22w\n",
      "------\n",
      "[REPOST]\n",
      "DID: did:plc:vd2zjp4fkzwcuc54xsxro4o4\n",
      "Reposted CID: bafyreihz2mt2tpcxos4pljyqbmeoua3fooa4usykhfezmbqezub6w5lvbq\n",
      "Reposted URI: at://did:plc:redbwwkd7qaoppjmstdev6hz/app.bsky.feed.post/3lkvlhdlnlk2q\n",
      "Link: https://bsky.app/profile/did:plc:redbwwkd7qaoppjmstdev6hz/post/3lkvlhdlnlk2q\n",
      "------\n",
      "[REPOST]\n",
      "DID: did:plc:g6nsxfd3xm3zocyghrmvmocm\n",
      "Reposted CID: bafyreid5czsnxuvvs6gaqey2wdaepzpkcr6ktd7mbnkpd4mtgwlfypcu5m\n",
      "Reposted URI: at://did:plc:y5t3tgyytllqmju25v3s4ejs/app.bsky.feed.post/3lkvtrvzmlc2d\n",
      "Link: https://bsky.app/profile/did:plc:y5t3tgyytllqmju25v3s4ejs/post/3lkvtrvzmlc2d\n",
      "------\n",
      "[REPOST]\n",
      "DID: did:plc:zwlhg4ls3kvoombtardrwidf\n",
      "Reposted CID: bafyreifzpokmx744jri7silty526doajhocq5jvodcg4qd4yqphfsukrey\n",
      "Reposted URI: at://did:plc:incfl4n2czk57qdkt7u5h35x/app.bsky.feed.post/3lkqxa2xfps2m\n",
      "Link: https://bsky.app/profile/did:plc:incfl4n2czk57qdkt7u5h35x/post/3lkqxa2xfps2m\n",
      "------\n",
      "[REPOST]\n",
      "DID: did:plc:xcu2bfvjz2osnxb4fo3bu4zq\n",
      "Reposted CID: bafyreibjpqo52anfidt2sqmcxcz6pimqphvl5pcmiay42p76v3qyszr7nu\n",
      "Reposted URI: at://did:plc:6ujabxgplanrducda3kfmwjq/app.bsky.feed.post/3lkvkwtjp7k22\n",
      "Link: https://bsky.app/profile/did:plc:6ujabxgplanrducda3kfmwjq/post/3lkvkwtjp7k22\n",
      "------\n",
      "[REPOST]\n",
      "DID: did:plc:pv75nxsntuyyh3zujdqyhglq\n",
      "Reposted CID: bafyreic72xfcvbtpcl7aznjyifewjyzktzs67xxmnj5jvl6hohvdns7nrq\n",
      "Reposted URI: at://did:plc:mg6sfmolxnwbh2z2fzx3zhae/app.bsky.feed.post/3lkvr6y4j2s2r\n",
      "Link: https://bsky.app/profile/did:plc:mg6sfmolxnwbh2z2fzx3zhae/post/3lkvr6y4j2s2r\n",
      "------\n",
      "[REPOST]\n",
      "DID: did:plc:eviomfaa6lt3kdvqlrj3bbsq\n",
      "Reposted CID: bafyreie7asey235ljhrt2uwf3fhxdlewluu3azk2gm7ybdv63tkf3gw6ju\n",
      "Reposted URI: at://did:plc:chrddzqhzhspe7emekys57m7/app.bsky.feed.post/3lkvtevtnrk2t\n",
      "Link: https://bsky.app/profile/did:plc:chrddzqhzhspe7emekys57m7/post/3lkvtevtnrk2t\n",
      "------\n",
      "[REPOST]\n",
      "DID: did:plc:pepdesmp7xhr2354buq7eqhm\n",
      "Reposted CID: bafyreidkmbir2ykuibg5pgphanjvk6642dkzp4bf7wedrspafls2pf7f5y\n",
      "Reposted URI: at://did:plc:4u3hwe3p7oy3hoy3amlw7rp2/app.bsky.feed.post/3lkvsxzqtxm26\n",
      "Link: https://bsky.app/profile/did:plc:4u3hwe3p7oy3hoy3amlw7rp2/post/3lkvsxzqtxm26\n",
      "------\n",
      "[REPOST]\n",
      "DID: did:plc:6rtsoqztljnpr4qxib4z5hv3\n",
      "Reposted CID: bafyreibjwtngewprijqkmp4zx4rjfnqcn7fieknuxni6y2in2sqedbp6wa\n",
      "Reposted URI: at://did:plc:qxudeqrdbv6676vzjssrhllo/app.bsky.feed.post/3lkvlxpvl5c2l\n",
      "Link: https://bsky.app/profile/did:plc:qxudeqrdbv6676vzjssrhllo/post/3lkvlxpvl5c2l\n",
      "------\n",
      "[REPOST]\n",
      "DID: did:plc:ae2tel26lwqkftsb3xvqmwih\n",
      "Reposted CID: bafyreidc7ofwa342wtvf3qsbtsamt2nzf3qjyanm5dxarol3jeu4i2zvhq\n",
      "Reposted URI: at://did:plc:ny5mscvguz4r636nekozpqac/app.bsky.feed.post/3lkvtyrwm6c2w\n",
      "Link: https://bsky.app/profile/did:plc:ny5mscvguz4r636nekozpqac/post/3lkvtyrwm6c2w\n"
     ]
    }
   ],
   "source": [
    "see_reposts_on_bsky(reposts)"
   ]
  },
  {
   "attachments": {},
   "cell_type": "markdown",
   "metadata": {},
   "source": [
    "## Function to see Follows: Which User followed another User\n"
   ]
  },
  {
   "cell_type": "code",
   "execution_count": 24,
   "metadata": {},
   "outputs": [],
   "source": [
    "def see_follows_on_bsky(follows):\n",
    "    for follow in follows:\n",
    "        follower_did = follow[\"repo\"]\n",
    "        followed_user = follow.get(\"followed_user\")\n",
    "\n",
    "        bsky_link = f\"https://bsky.app/profile/{followed_user}\" if followed_user else \"Unavailable\"\n",
    "\n",
    "        print(\"------\")\n",
    "        print(f\"[FOLLOW]\")\n",
    "        print(f\"{follower_did} followed {followed_user}\")\n",
    "        print(f\"Followed Profile: {bsky_link}\")"
   ]
  },
  {
   "cell_type": "code",
   "execution_count": 25,
   "metadata": {},
   "outputs": [],
   "source": [
    "follows = [{\"repo\": \"did:plc:y44yelq5hyftg2jpvux5sh3j\", \"timestamp\": \"2025-03-21T18:34:48.016Z\", \"seq\": 6808445512, \"followed_user\": \"did:plc:o3gcn7p7ixcusdvyb5f3iwxw\"}]"
   ]
  },
  {
   "cell_type": "code",
   "execution_count": 26,
   "metadata": {},
   "outputs": [
    {
     "name": "stdout",
     "output_type": "stream",
     "text": [
      "------\n",
      "[FOLLOW]\n",
      "did:plc:y44yelq5hyftg2jpvux5sh3j followed did:plc:o3gcn7p7ixcusdvyb5f3iwxw\n",
      "Followed Profile: https://bsky.app/profile/did:plc:o3gcn7p7ixcusdvyb5f3iwxw\n"
     ]
    }
   ],
   "source": [
    "see_follows_on_bsky(follows)"
   ]
  },
  {
   "attachments": {},
   "cell_type": "markdown",
   "metadata": {},
   "source": [
    "## Function to see User / Account"
   ]
  },
  {
   "cell_type": "code",
   "execution_count": 30,
   "metadata": {},
   "outputs": [],
   "source": [
    "def see_user(did):\n",
    "\n",
    "    bsky_link = f\"https://bsky.app/profile/{did}\"\n",
    "    print(f\"Bluesky Profile: {bsky_link}\")\n"
   ]
  },
  {
   "cell_type": "code",
   "execution_count": 32,
   "metadata": {},
   "outputs": [
    {
     "name": "stdout",
     "output_type": "stream",
     "text": [
      "Bluesky Profile: https://bsky.app/profile/did:plc:y44yelq5hyftg2jpvux5sh3j\n"
     ]
    }
   ],
   "source": [
    "see_user(\"did:plc:y44yelq5hyftg2jpvux5sh3j\")"
   ]
  },
  {
   "cell_type": "code",
   "execution_count": null,
   "metadata": {},
   "outputs": [],
   "source": []
  }
 ],
 "metadata": {
  "kernelspec": {
   "display_name": "Python 3",
   "language": "python",
   "name": "python3"
  },
  "language_info": {
   "codemirror_mode": {
    "name": "ipython",
    "version": 3
   },
   "file_extension": ".py",
   "mimetype": "text/x-python",
   "name": "python",
   "nbconvert_exporter": "python",
   "pygments_lexer": "ipython3",
   "version": "3.9.6"
  },
  "orig_nbformat": 4,
  "vscode": {
   "interpreter": {
    "hash": "31f2aee4e71d21fbe5cf8b01ff0e069b9275f58929596ceb00d14d90e3e16cd6"
   }
  }
 },
 "nbformat": 4,
 "nbformat_minor": 2
}
