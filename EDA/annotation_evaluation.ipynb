{
 "cells": [
  {
   "attachments": {},
   "cell_type": "markdown",
   "metadata": {},
   "source": [
    "### Evaluation of Climate Classifier over full, 0.95 and 0.99 datasets:"
   ]
  },
  {
   "attachments": {},
   "cell_type": "markdown",
   "metadata": {},
   "source": [
    "### FULL"
   ]
  },
  {
   "cell_type": "code",
   "execution_count": 27,
   "metadata": {},
   "outputs": [
    {
     "name": "stdout",
     "output_type": "stream",
     "text": [
      "Evaluation: Abel vs Model\n",
      "              precision    recall  f1-score   support\n",
      "\n",
      "          no      1.000     0.573     0.729        89\n",
      "         yes      0.224     1.000     0.367        11\n",
      "\n",
      "    accuracy                          0.620       100\n",
      "   macro avg      0.612     0.787     0.548       100\n",
      "weighted avg      0.915     0.620     0.689       100\n",
      "\n",
      "\n",
      "Evaluation: Tobias vs Model\n",
      "              precision    recall  f1-score   support\n",
      "\n",
      "          no      0.980     0.585     0.733        82\n",
      "         yes      0.333     0.944     0.493        18\n",
      "\n",
      "    accuracy                          0.650       100\n",
      "   macro avg      0.656     0.765     0.613       100\n",
      "weighted avg      0.863     0.650     0.690       100\n",
      "\n"
     ]
    }
   ],
   "source": [
    "import pandas as pd\n",
    "from sklearn.metrics import classification_report\n",
    "\n",
    "# File paths\n",
    "BASE_PATH = \"/Users/tobiasmichelsen/Bachelor_Project/DS_BachelorProject_PH/data/processed/annotated\"\n",
    "full_path = f\"{BASE_PATH}/manual_labels_fullsample_full.json\"\n",
    "abel_path = f\"{BASE_PATH}/manual_labels_fullsample_abel.json\"\n",
    "tobias_path = f\"{BASE_PATH}/manual_labels_fullsample_tobias.json\"\n",
    "\n",
    "# Load data\n",
    "df_full = pd.read_json(full_path)\n",
    "df_abel = pd.read_json(abel_path)\n",
    "df_tobias = pd.read_json(tobias_path)\n",
    "\n",
    "# Join on 'seq' to align labels\n",
    "df_abel = df_abel.merge(df_full[[\"seq\", \"label\"]], on=\"seq\", how=\"inner\")\n",
    "df_tobias = df_tobias.merge(df_full[[\"seq\", \"label\"]], on=\"seq\", how=\"inner\")\n",
    "\n",
    "# Normalize for comparison\n",
    "df_abel[\"annotation\"] = df_abel[\"annotation\"].str.lower()\n",
    "df_abel[\"label\"] = df_abel[\"label\"].str.lower()\n",
    "df_tobias[\"annotation\"] = df_tobias[\"annotation\"].str.lower()\n",
    "df_tobias[\"label\"] = df_tobias[\"label\"].str.lower()\n",
    "\n",
    "# Filter to valid yes/no\n",
    "\n",
    "\n",
    "# Compare each\n",
    "print(\"Evaluation: Abel vs Model\")\n",
    "print(classification_report(df_abel[\"annotation\"], df_abel[\"label\"], digits=3, zero_division=0))\n",
    "\n",
    "print(\"\\nEvaluation: Tobias vs Model\")\n",
    "print(classification_report(df_tobias[\"annotation\"], df_tobias[\"label\"], digits=3, zero_division=0))\n"
   ]
  },
  {
   "cell_type": "code",
   "execution_count": 17,
   "metadata": {},
   "outputs": [
    {
     "data": {
      "text/plain": [
       "99"
      ]
     },
     "execution_count": 17,
     "metadata": {},
     "output_type": "execute_result"
    }
   ],
   "source": [
    "len(df_tobias)"
   ]
  },
  {
   "cell_type": "code",
   "execution_count": 19,
   "metadata": {},
   "outputs": [
    {
     "name": "stdout",
     "output_type": "stream",
     "text": [
      "Empty DataFrame\n",
      "Columns: [repo, seq, text, timestamp, cid, uri, annotation, label]\n",
      "Index: []\n"
     ]
    }
   ],
   "source": [
    "bad_rows = df_tobias[~df_tobias[\"annotation\"].isin([\"yes\", \"no\"])]\n",
    "print(bad_rows)"
   ]
  },
  {
   "attachments": {},
   "cell_type": "markdown",
   "metadata": {},
   "source": [
    "### 0.95 Dataset"
   ]
  },
  {
   "cell_type": "code",
   "execution_count": 26,
   "metadata": {},
   "outputs": [
    {
     "name": "stdout",
     "output_type": "stream",
     "text": [
      "Evaluation: Abel vs Model (score95)\n",
      "              precision    recall  f1-score   support\n",
      "\n",
      "          no      1.000     0.811     0.896        37\n",
      "         yes      0.650     1.000     0.788        13\n",
      "\n",
      "    accuracy                          0.860        50\n",
      "   macro avg      0.825     0.905     0.842        50\n",
      "weighted avg      0.909     0.860     0.868        50\n",
      "\n",
      "\n",
      "Evaluation: Tobias vs Model (score95)\n",
      "              precision    recall  f1-score   support\n",
      "\n",
      "          no      0.950     0.594     0.731        32\n",
      "         yes      0.567     0.944     0.708        18\n",
      "\n",
      "    accuracy                          0.720        50\n",
      "   macro avg      0.758     0.769     0.720        50\n",
      "weighted avg      0.812     0.720     0.723        50\n",
      "\n"
     ]
    }
   ],
   "source": [
    "import pandas as pd\n",
    "from sklearn.metrics import classification_report\n",
    "\n",
    "# File paths\n",
    "BASE_PATH = \"/Users/tobiasmichelsen/Bachelor_Project/DS_BachelorProject_PH/data/processed/annotated\"\n",
    "full_path = f\"{BASE_PATH}/manual_labels_score95_full.json\"\n",
    "abel_path = f\"{BASE_PATH}/manual_labels_score95_abel.json\"\n",
    "tobias_path = f\"{BASE_PATH}/manual_labels_score95_tobias.json\"\n",
    "\n",
    "# Load data\n",
    "df_full = pd.read_json(full_path)\n",
    "df_abel = pd.read_json(abel_path)\n",
    "df_tobias = pd.read_json(tobias_path)\n",
    "\n",
    "# Join on 'seq' to get model label into each DataFrame\n",
    "df_abel = df_abel.merge(df_full[[\"seq\", \"label\"]], on=\"seq\", how=\"inner\")\n",
    "df_tobias = df_tobias.merge(df_full[[\"seq\", \"label\"]], on=\"seq\", how=\"inner\")\n",
    "\n",
    "# Normalize and filter to valid labels\n",
    "for df in [df_abel, df_tobias]:\n",
    "    df[\"annotation\"] = df[\"annotation\"].str.lower()\n",
    "    df[\"label\"] = df[\"label\"].str.lower()\n",
    "    df.dropna(subset=[\"annotation\", \"label\"], inplace=True)\n",
    "    df = df[df[\"annotation\"].isin([\"yes\", \"no\"]) & df[\"label\"].isin([\"yes\", \"no\"])]\n",
    "\n",
    "# Evaluation\n",
    "print(\"Evaluation: Abel vs Model (score95)\")\n",
    "print(classification_report(df_abel[\"annotation\"], df_abel[\"label\"], digits=3, zero_division=0))\n",
    "\n",
    "print(\"\\nEvaluation: Tobias vs Model (score95)\")\n",
    "print(classification_report(df_tobias[\"annotation\"], df_tobias[\"label\"], digits=3, zero_division=0))\n"
   ]
  },
  {
   "cell_type": "code",
   "execution_count": 25,
   "metadata": {},
   "outputs": [
    {
     "name": "stdout",
     "output_type": "stream",
     "text": [
      "Evaluation: Abel vs Model (score99)\n",
      "              precision    recall  f1-score   support\n",
      "\n",
      "          no      1.000     0.909     0.952        33\n",
      "         yes      0.850     1.000     0.919        17\n",
      "\n",
      "    accuracy                          0.940        50\n",
      "   macro avg      0.925     0.955     0.936        50\n",
      "weighted avg      0.949     0.940     0.941        50\n",
      "\n",
      "\n",
      "Evaluation: Tobias vs Model (score99)\n",
      "              precision    recall  f1-score   support\n",
      "\n",
      "          no      1.000     0.800     0.889        25\n",
      "         yes      0.833     1.000     0.909        25\n",
      "\n",
      "    accuracy                          0.900        50\n",
      "   macro avg      0.917     0.900     0.899        50\n",
      "weighted avg      0.917     0.900     0.899        50\n",
      "\n"
     ]
    }
   ],
   "source": [
    "import pandas as pd\n",
    "from sklearn.metrics import classification_report\n",
    "\n",
    "# File paths\n",
    "BASE_PATH = \"/Users/tobiasmichelsen/Bachelor_Project/DS_BachelorProject_PH/data/processed/annotated\"\n",
    "full_path = f\"{BASE_PATH}/manual_labels_score99_full.json\"\n",
    "abel_path = f\"{BASE_PATH}/manual_labels_score99_abel.json\"\n",
    "tobias_path = f\"{BASE_PATH}/manual_labels_score99_tobias.json\"\n",
    "\n",
    "# Load data\n",
    "df_full = pd.read_json(full_path)\n",
    "df_abel = pd.read_json(abel_path)\n",
    "df_tobias = pd.read_json(tobias_path)\n",
    "\n",
    "# Join on 'seq' to get model label into each DataFrame\n",
    "df_abel = df_abel.merge(df_full[[\"seq\", \"label\"]], on=\"seq\", how=\"inner\")\n",
    "df_tobias = df_tobias.merge(df_full[[\"seq\", \"label\"]], on=\"seq\", how=\"inner\")\n",
    "\n",
    "# Normalize and filter to valid labels\n",
    "for df in [df_abel, df_tobias]:\n",
    "    df[\"annotation\"] = df[\"annotation\"].str.lower()\n",
    "    df[\"label\"] = df[\"label\"].str.lower()\n",
    "    df.dropna(subset=[\"annotation\", \"label\"], inplace=True)\n",
    "    df = df[df[\"annotation\"].isin([\"yes\", \"no\"]) & df[\"label\"].isin([\"yes\", \"no\"])]\n",
    "\n",
    "# Evaluation\n",
    "print(\"Evaluation: Abel vs Model (score99)\")\n",
    "print(classification_report(df_abel[\"annotation\"], df_abel[\"label\"], digits=3, zero_division=0))\n",
    "\n",
    "print(\"\\nEvaluation: Tobias vs Model (score99)\")\n",
    "print(classification_report(df_tobias[\"annotation\"], df_tobias[\"label\"], digits=3, zero_division=0))\n"
   ]
  },
  {
   "cell_type": "code",
   "execution_count": 31,
   "metadata": {},
   "outputs": [
    {
     "ename": "ModuleNotFoundError",
     "evalue": "No module named 'ace_tools'",
     "output_type": "error",
     "traceback": [
      "\u001b[0;31m---------------------------------------------------------------------------\u001b[0m",
      "\u001b[0;31mModuleNotFoundError\u001b[0m                       Traceback (most recent call last)",
      "Cell \u001b[0;32mIn[31], line 12\u001b[0m\n\u001b[1;32m      2\u001b[0m summary_data \u001b[39m=\u001b[39m [\n\u001b[1;32m      3\u001b[0m     {\u001b[39m\"\u001b[39m\u001b[39mAnnotator\u001b[39m\u001b[39m\"\u001b[39m: \u001b[39m\"\u001b[39m\u001b[39mAbel\u001b[39m\u001b[39m\"\u001b[39m, \u001b[39m\"\u001b[39m\u001b[39mSubset\u001b[39m\u001b[39m\"\u001b[39m: \u001b[39m\"\u001b[39m\u001b[39mfullsample\u001b[39m\u001b[39m\"\u001b[39m, \u001b[39m\"\u001b[39m\u001b[39mF1_yes\u001b[39m\u001b[39m\"\u001b[39m: \u001b[39m0.367\u001b[39m, \u001b[39m\"\u001b[39m\u001b[39mF1_no\u001b[39m\u001b[39m\"\u001b[39m: \u001b[39m0.729\u001b[39m, \u001b[39m\"\u001b[39m\u001b[39mAccuracy\u001b[39m\u001b[39m\"\u001b[39m: \u001b[39m0.620\u001b[39m},\n\u001b[1;32m      4\u001b[0m     {\u001b[39m\"\u001b[39m\u001b[39mAnnotator\u001b[39m\u001b[39m\"\u001b[39m: \u001b[39m\"\u001b[39m\u001b[39mAbel\u001b[39m\u001b[39m\"\u001b[39m, \u001b[39m\"\u001b[39m\u001b[39mSubset\u001b[39m\u001b[39m\"\u001b[39m: \u001b[39m\"\u001b[39m\u001b[39mscore95\u001b[39m\u001b[39m\"\u001b[39m,    \u001b[39m\"\u001b[39m\u001b[39mF1_yes\u001b[39m\u001b[39m\"\u001b[39m: \u001b[39m0.520\u001b[39m, \u001b[39m\"\u001b[39m\u001b[39mF1_no\u001b[39m\u001b[39m\"\u001b[39m: \u001b[39m0.833\u001b[39m, \u001b[39m\"\u001b[39m\u001b[39mAccuracy\u001b[39m\u001b[39m\"\u001b[39m: \u001b[39m0.720\u001b[39m},\n\u001b[0;32m   (...)\u001b[0m\n\u001b[1;32m      8\u001b[0m     {\u001b[39m\"\u001b[39m\u001b[39mAnnotator\u001b[39m\u001b[39m\"\u001b[39m: \u001b[39m\"\u001b[39m\u001b[39mTobias\u001b[39m\u001b[39m\"\u001b[39m, \u001b[39m\"\u001b[39m\u001b[39mSubset\u001b[39m\u001b[39m\"\u001b[39m: \u001b[39m\"\u001b[39m\u001b[39mscore99\u001b[39m\u001b[39m\"\u001b[39m,    \u001b[39m\"\u001b[39m\u001b[39mF1_yes\u001b[39m\u001b[39m\"\u001b[39m: \u001b[39m0.702\u001b[39m, \u001b[39m\"\u001b[39m\u001b[39mF1_no\u001b[39m\u001b[39m\"\u001b[39m: \u001b[39m0.871\u001b[39m, \u001b[39m\"\u001b[39m\u001b[39mAccuracy\u001b[39m\u001b[39m\"\u001b[39m: \u001b[39m0.805\u001b[39m},\n\u001b[1;32m      9\u001b[0m ]\n\u001b[1;32m     11\u001b[0m df_eval_summary \u001b[39m=\u001b[39m pd\u001b[39m.\u001b[39mDataFrame(summary_data)\n\u001b[0;32m---> 12\u001b[0m \u001b[39mimport\u001b[39;00m \u001b[39mace_tools\u001b[39;00m \u001b[39mas\u001b[39;00m \u001b[39mtools\u001b[39;00m; tools\u001b[39m.\u001b[39mdisplay_dataframe_to_user(name\u001b[39m=\u001b[39m\u001b[39m\"\u001b[39m\u001b[39mModel Evaluation Summary\u001b[39m\u001b[39m\"\u001b[39m, dataframe\u001b[39m=\u001b[39mdf_eval_summary)\n",
      "\u001b[0;31mModuleNotFoundError\u001b[0m: No module named 'ace_tools'"
     ]
    }
   ],
   "source": []
  },
  {
   "cell_type": "code",
   "execution_count": 29,
   "metadata": {},
   "outputs": [
    {
     "name": "stdout",
     "output_type": "stream",
     "text": [
      "Tobias - full   | F1 (yes): 0.493 | F1 (no): 0.733 | Acc: 0.650\n"
     ]
    }
   ],
   "source": []
  },
  {
   "cell_type": "code",
   "execution_count": null,
   "metadata": {},
   "outputs": [],
   "source": []
  },
  {
   "cell_type": "code",
   "execution_count": null,
   "metadata": {},
   "outputs": [],
   "source": []
  }
 ],
 "metadata": {
  "kernelspec": {
   "display_name": "Python 3",
   "language": "python",
   "name": "python3"
  },
  "language_info": {
   "codemirror_mode": {
    "name": "ipython",
    "version": 3
   },
   "file_extension": ".py",
   "mimetype": "text/x-python",
   "name": "python",
   "nbconvert_exporter": "python",
   "pygments_lexer": "ipython3",
   "version": "3.9.6"
  },
  "orig_nbformat": 4,
  "vscode": {
   "interpreter": {
    "hash": "31f2aee4e71d21fbe5cf8b01ff0e069b9275f58929596ceb00d14d90e3e16cd6"
   }
  }
 },
 "nbformat": 4,
 "nbformat_minor": 2
}
