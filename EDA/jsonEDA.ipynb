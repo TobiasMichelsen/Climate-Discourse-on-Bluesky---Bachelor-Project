{
 "cells": [
  {
   "cell_type": "code",
   "execution_count": 13,
   "metadata": {},
   "outputs": [],
   "source": [
    "import json"
   ]
  },
  {
   "cell_type": "code",
   "execution_count": 14,
   "metadata": {},
   "outputs": [],
   "source": [
    "def open_file(list_name, n):\n",
    "    with open (f\"../data/backups_test/{list_name}/{list_name}_backup_{n}.json\", encoding=\"utf-8\", errors=\"ignore\") as file:\n",
    "        f = json.load(file)\n",
    "    return f"
   ]
  },
  {
   "cell_type": "code",
   "execution_count": 15,
   "metadata": {},
   "outputs": [],
   "source": [
    "def find_english(list_name):\n",
    "    i = 1\n",
    "    languages = {}\n",
    "    counts = {}\n",
    "    while True:\n",
    "        try:\n",
    "            file = open_file(list_name,i)\n",
    "            i += 1\n",
    "        except Exception as e:\n",
    "            print(\"encountered error:\")\n",
    "            print(e)\n",
    "            break"
   ]
  },
  {
   "cell_type": "code",
   "execution_count": 16,
   "metadata": {},
   "outputs": [
    {
     "data": {
      "text/plain": [
       "{'repo': 'did:plc:f4ogcj35jkjoabckxzcmb25i',\n",
       " 'timestamp': '2025-03-24T15:37:26.440Z',\n",
       " 'seq': 6931993625,\n",
       " 'text': 'Youch, I had a conversation with the Dr about medication and they were keen to prescribe but suggested some ahem lifestyle mods which seem to be keeping things at bay and are annoyingly sensible for a middle aged man',\n",
       " 'langs': ['en'],\n",
       " 'cid': 'bafyreifibyvzeip6pi4pthllr4zi5eus4mr2qyrp4vc4cqwdr6hhcyqxru',\n",
       " 'uri': 'at://did:plc:f4ogcj35jkjoabckxzcmb25i/app.bsky.feed.post/3ll53ksfkl22m'}"
      ]
     },
     "execution_count": 16,
     "metadata": {},
     "output_type": "execute_result"
    }
   ],
   "source": [
    "file = open_file(\"posts\",1)\n",
    "file[1]"
   ]
  },
  {
   "cell_type": "code",
   "execution_count": 17,
   "metadata": {},
   "outputs": [
    {
     "data": {
      "text/plain": [
       "{'repo': 'did:plc:gztltz6bcpdybn4oux3ii4i4',\n",
       " 'timestamp': '2025-03-24T15:37:26.413Z',\n",
       " 'seq': 6931993604,\n",
       " 'liked_post_cid': 'bafyreidzcjn7pmedizgbhpfkodj463wcsxghwfykeouju77waobgf236u4',\n",
       " 'liked_post_uri': 'at://did:plc:qealhr2gmncfimdh3ywyytgq/app.bsky.feed.post/3ll4xnvnom224'}"
      ]
     },
     "execution_count": 17,
     "metadata": {},
     "output_type": "execute_result"
    }
   ],
   "source": [
    "file = open_file(\"likes\",1)\n",
    "file[0]"
   ]
  },
  {
   "cell_type": "code",
   "execution_count": 18,
   "metadata": {},
   "outputs": [
    {
     "data": {
      "text/plain": [
       "{'repo': 'did:plc:i3mn5ca4oyiuy7vx2o6pnwza',\n",
       " 'timestamp': '2025-03-24T15:37:26.413Z',\n",
       " 'seq': 6931993603,\n",
       " 'followed_user': 'did:plc:vj44y5nimysf6eszilvf5c5v'}"
      ]
     },
     "execution_count": 18,
     "metadata": {},
     "output_type": "execute_result"
    }
   ],
   "source": [
    "file = open_file(\"follows\",1)\n",
    "file[0]"
   ]
  },
  {
   "cell_type": "code",
   "execution_count": 19,
   "metadata": {},
   "outputs": [
    {
     "data": {
      "text/plain": [
       "{'repo': 'did:plc:ovf5l46vctrnscii22bmlzud',\n",
       " 'timestamp': '2025-03-24T15:37:26.473Z',\n",
       " 'seq': 6931993637,\n",
       " 'reposted_post_cid': 'bafyreibdir34ecijsjjpi4frmbg7pvysfy5iibtwiv753i4f6ij6f6wga4',\n",
       " 'reposted_post_uri': 'at://did:plc:kakfwvoofvwvsgfrhtayvb4r/app.bsky.feed.post/3ll2vmz4kbk2d'}"
      ]
     },
     "execution_count": 19,
     "metadata": {},
     "output_type": "execute_result"
    }
   ],
   "source": [
    "file = open_file(\"reposts\",1)\n",
    "file[0]"
   ]
  },
  {
   "cell_type": "code",
   "execution_count": 20,
   "metadata": {},
   "outputs": [
    {
     "data": {
      "text/plain": [
       "{'did': 'did:plc:ty7qqwb24v4pp26dgrohmq7j',\n",
       " 'seq': 6931993927,\n",
       " 'time': '2025-03-24T15:37:26.644Z',\n",
       " 'handle': 'ataraxia777.bsky.social'}"
      ]
     },
     "execution_count": 20,
     "metadata": {},
     "output_type": "execute_result"
    }
   ],
   "source": [
    "file = open_file(\"identity\",1)\n",
    "file[0]"
   ]
  },
  {
   "cell_type": "code",
   "execution_count": 21,
   "metadata": {},
   "outputs": [
    {
     "data": {
      "text/plain": [
       "{'did': 'did:plc:ty7qqwb24v4pp26dgrohmq7j',\n",
       " 'seq': 6931993941,\n",
       " 'time': '2025-03-24T15:37:26.644Z',\n",
       " 'active': True}"
      ]
     },
     "execution_count": 21,
     "metadata": {},
     "output_type": "execute_result"
    }
   ],
   "source": [
    "file = open_file(\"account\",1)\n",
    "file[0]"
   ]
  },
  {
   "cell_type": "code",
   "execution_count": 22,
   "metadata": {},
   "outputs": [
    {
     "name": "stdout",
     "output_type": "stream",
     "text": [
      "encountered error:\n",
      "[Errno 2] No such file or directory: '../data/backups_test/posts/posts_backup_23.json'\n",
      "en\n",
      "unknown\n",
      "ja\n",
      "pt\n",
      "es\n",
      "de\n",
      "fr\n",
      "ko\n",
      "nl\n",
      "ru\n",
      "it\n",
      "pl\n",
      "tr\n",
      "sv\n",
      "zh\n",
      "fi\n",
      "ar\n",
      "en-US\n",
      "ca\n",
      "el\n",
      "uk\n",
      "th\n",
      "cs\n",
      "nb\n",
      "da\n",
      "ja-JP\n",
      "he\n",
      "id\n",
      "fa\n",
      "hu\n",
      "gl\n",
      "ak\n",
      "bg\n",
      "sr\n",
      "is\n",
      "en-AU\n",
      "ae\n",
      "sk\n",
      "de-DE\n",
      "sl\n",
      "am\n",
      "vi\n",
      "hr\n",
      "af\n",
      "it-IT\n",
      "aa\n",
      "nl-NL\n",
      "eu\n",
      "nn\n",
      "ro-RO\n",
      "cy\n",
      "ms\n",
      "sv-FI\n",
      "fr-FR\n",
      "av\n",
      "lv\n",
      "an\n",
      "pt-BR\n",
      "ay\n",
      "en-GB\n",
      "no\n",
      "es-ES\n",
      "ro\n",
      "et\n",
      "jp\n",
      "be\n",
      "ab\n",
      "da-DK\n",
      "az\n",
      "as\n",
      "cu\n",
      "tl\n",
      "pl-PL\n",
      "und\n",
      "yue\n",
      "en-UK\n",
      "lt\n",
      "ga\n",
      "zh-CN\n",
      "en-CA\n",
      "lo\n",
      "bn\n",
      "ber\n",
      "nl-BE\n",
      "ti\n",
      "pt-PT\n",
      "Angika\n",
      "en-us\n",
      "ca-ES\n",
      "fr-CA\n",
      "jp-JP\n",
      "gd\n",
      "fil\n",
      "ksh\n",
      "ku\n",
      "la\n",
      "hi\n"
     ]
    }
   ],
   "source": [
    "i = 1\n",
    "languages = {}\n",
    "counts = {}\n",
    "while True:\n",
    "    try:\n",
    "        file = open_file(\"posts\",i)\n",
    "        i += 1\n",
    "        for f in file:\n",
    "            lang = f[\"langs\"]\n",
    "            if lang:\n",
    "                count = len(lang)\n",
    "                if count > 1:\n",
    "                    counts[count] = counts.get(count,0) + 1\n",
    "                lang = lang[0]      #sometimes there are more than 1 lang, this does not use those\n",
    "                languages[lang] = languages.get(lang, 0) + 1\n",
    "            else:\n",
    "                languages[\"unknown\"] = languages.get(\"unknown\", 0) + 1\n",
    "    except Exception as e:\n",
    "        print(\"encountered error:\")\n",
    "        print(e)\n",
    "        break\n",
    "    \n",
    "sorted_languages = dict(sorted(languages.items(), key=lambda item: item[1], reverse = True))\n",
    "\n",
    "for i in sorted_languages:\n",
    "    print(i)"
   ]
  },
  {
   "cell_type": "code",
   "execution_count": 23,
   "metadata": {},
   "outputs": [
    {
     "name": "stdout",
     "output_type": "stream",
     "text": [
      "{'Angika': 1,\n",
      " 'aa': 14,\n",
      " 'ab': 4,\n",
      " 'ae': 29,\n",
      " 'af': 16,\n",
      " 'ak': 48,\n",
      " 'am': 21,\n",
      " 'an': 7,\n",
      " 'ar': 367,\n",
      " 'as': 3,\n",
      " 'av': 7,\n",
      " 'ay': 7,\n",
      " 'az': 3,\n",
      " 'be': 4,\n",
      " 'ber': 1,\n",
      " 'bg': 36,\n",
      " 'bn': 2,\n",
      " 'ca': 307,\n",
      " 'ca-ES': 1,\n",
      " 'cs': 225,\n",
      " 'cu': 3,\n",
      " 'cy': 10,\n",
      " 'da': 172,\n",
      " 'da-DK': 4,\n",
      " 'de': 5439,\n",
      " 'de-DE': 24,\n",
      " 'el': 256,\n",
      " 'en': 143800,\n",
      " 'en-AU': 30,\n",
      " 'en-CA': 2,\n",
      " 'en-GB': 6,\n",
      " 'en-UK': 2,\n",
      " 'en-US': 322,\n",
      " 'en-us': 1,\n",
      " 'es': 5931,\n",
      " 'es-ES': 5,\n",
      " 'et': 4,\n",
      " 'eu': 13,\n",
      " 'fa': 69,\n",
      " 'fi': 422,\n",
      " 'fil': 1,\n",
      " 'fr': 3942,\n",
      " 'fr-CA': 1,\n",
      " 'fr-FR': 8,\n",
      " 'ga': 2,\n",
      " 'gd': 1,\n",
      " 'gl': 54,\n",
      " 'he': 115,\n",
      " 'hi': 1,\n",
      " 'hr': 16,\n",
      " 'hu': 65,\n",
      " 'id': 71,\n",
      " 'is': 30,\n",
      " 'it': 809,\n",
      " 'it-IT': 16,\n",
      " 'ja': 11362,\n",
      " 'ja-JP': 155,\n",
      " 'jp': 4,\n",
      " 'jp-JP': 1,\n",
      " 'ko': 1822,\n",
      " 'ksh': 1,\n",
      " 'ku': 1,\n",
      " 'la': 1,\n",
      " 'lo': 2,\n",
      " 'lt': 2,\n",
      " 'lv': 7,\n",
      " 'ms': 8,\n",
      " 'nb': 181,\n",
      " 'nl': 1693,\n",
      " 'nl-BE': 1,\n",
      " 'nl-NL': 14,\n",
      " 'nn': 11,\n",
      " 'no': 5,\n",
      " 'pl': 751,\n",
      " 'pl-PL': 2,\n",
      " 'pt': 9000,\n",
      " 'pt-BR': 7,\n",
      " 'pt-PT': 1,\n",
      " 'ro': 4,\n",
      " 'ro-RO': 11,\n",
      " 'ru': 930,\n",
      " 'sk': 24,\n",
      " 'sl': 23,\n",
      " 'sr': 35,\n",
      " 'sv': 677,\n",
      " 'sv-FI': 8,\n",
      " 'th': 242,\n",
      " 'ti': 1,\n",
      " 'tl': 3,\n",
      " 'tr': 688,\n",
      " 'uk': 251,\n",
      " 'und': 2,\n",
      " 'unknown': 20140,\n",
      " 'vi': 17,\n",
      " 'yue': 2,\n",
      " 'zh': 436,\n",
      " 'zh-CN': 2}\n"
     ]
    }
   ],
   "source": [
    "import pprint\n",
    "pprint.pprint(sorted_languages)"
   ]
  },
  {
   "cell_type": "code",
   "execution_count": null,
   "metadata": {},
   "outputs": [],
   "source": []
  }
 ],
 "metadata": {
  "kernelspec": {
   "display_name": "Python 3",
   "language": "python",
   "name": "python3"
  },
  "language_info": {
   "codemirror_mode": {
    "name": "ipython",
    "version": 3
   },
   "file_extension": ".py",
   "mimetype": "text/x-python",
   "name": "python",
   "nbconvert_exporter": "python",
   "pygments_lexer": "ipython3",
   "version": "3.12.5"
  }
 },
 "nbformat": 4,
 "nbformat_minor": 2
}
