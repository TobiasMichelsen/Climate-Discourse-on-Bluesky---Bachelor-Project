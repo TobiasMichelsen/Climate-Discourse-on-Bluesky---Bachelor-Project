{
 "cells": [
  {
   "cell_type": "code",
   "execution_count": 6,
   "metadata": {},
   "outputs": [],
   "source": [
    "import json"
   ]
  },
  {
   "cell_type": "code",
   "execution_count": 48,
   "metadata": {},
   "outputs": [],
   "source": [
    "def open_file(list_name, n):\n",
    "    with open (f\"../data/backups_test/{list_name}/{list_name}_backup_{n}.json\", encoding=\"utf-8\", errors=\"ignore\") as file:\n",
    "        f = json.load(file)\n",
    "    return f"
   ]
  },
  {
   "cell_type": "code",
   "execution_count": 59,
   "metadata": {},
   "outputs": [
    {
     "data": {
      "text/plain": [
       "{'repo': 'did:plc:n7adbgdg2ub4rem2kkr7cy2n',\n",
       " 'timestamp': '2025-03-24T15:37:26.436Z',\n",
       " 'seq': 6931993619,\n",
       " 'text': '4 αισθητηριακές δραστηριότητες που διευκολύνουν τον ύπνο των παιδιών\\n\\nhttps://e-press.gr/4-aisthitiriakes-drastiriotites-pou-diefkolynoun-ton-ypno-ton-paidion/',\n",
       " 'langs': None,\n",
       " 'cid': 'bafyreiaoww3oauyyc5jewm56fdytnvv336iwzgu27znjhugd666pvgl3iu',\n",
       " 'uri': 'at://did:plc:n7adbgdg2ub4rem2kkr7cy2n/app.bsky.feed.post/3ll53ktdkvj2g'}"
      ]
     },
     "execution_count": 59,
     "metadata": {},
     "output_type": "execute_result"
    }
   ],
   "source": [
    "file = open_file(\"posts\",1)\n",
    "file[0]"
   ]
  },
  {
   "cell_type": "code",
   "execution_count": 50,
   "metadata": {},
   "outputs": [
    {
     "data": {
      "text/plain": [
       "{'repo': 'did:plc:gztltz6bcpdybn4oux3ii4i4',\n",
       " 'timestamp': '2025-03-24T15:37:26.413Z',\n",
       " 'seq': 6931993604,\n",
       " 'liked_post_cid': 'bafyreidzcjn7pmedizgbhpfkodj463wcsxghwfykeouju77waobgf236u4',\n",
       " 'liked_post_uri': 'at://did:plc:qealhr2gmncfimdh3ywyytgq/app.bsky.feed.post/3ll4xnvnom224'}"
      ]
     },
     "execution_count": 50,
     "metadata": {},
     "output_type": "execute_result"
    }
   ],
   "source": [
    "file = open_file(\"likes\",1)\n",
    "file[0]"
   ]
  },
  {
   "cell_type": "code",
   "execution_count": 51,
   "metadata": {},
   "outputs": [
    {
     "data": {
      "text/plain": [
       "{'repo': 'did:plc:i3mn5ca4oyiuy7vx2o6pnwza',\n",
       " 'timestamp': '2025-03-24T15:37:26.413Z',\n",
       " 'seq': 6931993603,\n",
       " 'followed_user': 'did:plc:vj44y5nimysf6eszilvf5c5v'}"
      ]
     },
     "execution_count": 51,
     "metadata": {},
     "output_type": "execute_result"
    }
   ],
   "source": [
    "file = open_file(\"follows\",1)\n",
    "file[0]"
   ]
  },
  {
   "cell_type": "code",
   "execution_count": 52,
   "metadata": {},
   "outputs": [
    {
     "data": {
      "text/plain": [
       "{'repo': 'did:plc:ovf5l46vctrnscii22bmlzud',\n",
       " 'timestamp': '2025-03-24T15:37:26.473Z',\n",
       " 'seq': 6931993637,\n",
       " 'reposted_post_cid': 'bafyreibdir34ecijsjjpi4frmbg7pvysfy5iibtwiv753i4f6ij6f6wga4',\n",
       " 'reposted_post_uri': 'at://did:plc:kakfwvoofvwvsgfrhtayvb4r/app.bsky.feed.post/3ll2vmz4kbk2d'}"
      ]
     },
     "execution_count": 52,
     "metadata": {},
     "output_type": "execute_result"
    }
   ],
   "source": [
    "file = open_file(\"reposts\",1)\n",
    "file[0]"
   ]
  },
  {
   "cell_type": "code",
   "execution_count": 53,
   "metadata": {},
   "outputs": [
    {
     "data": {
      "text/plain": [
       "{'did': 'did:plc:ty7qqwb24v4pp26dgrohmq7j',\n",
       " 'seq': 6931993927,\n",
       " 'time': '2025-03-24T15:37:26.644Z',\n",
       " 'handle': 'ataraxia777.bsky.social'}"
      ]
     },
     "execution_count": 53,
     "metadata": {},
     "output_type": "execute_result"
    }
   ],
   "source": [
    "file = open_file(\"identity\",1)\n",
    "file[0]"
   ]
  },
  {
   "cell_type": "code",
   "execution_count": 37,
   "metadata": {},
   "outputs": [
    {
     "data": {
      "text/plain": [
       "{'did': 'did:plc:ty7qqwb24v4pp26dgrohmq7j',\n",
       " 'seq': 6931993941,\n",
       " 'time': '2025-03-24T15:37:26.644Z',\n",
       " 'active': True}"
      ]
     },
     "execution_count": 37,
     "metadata": {},
     "output_type": "execute_result"
    }
   ],
   "source": [
    "file = open_file(\"account\",1)\n",
    "file[0]"
   ]
  },
  {
   "cell_type": "code",
   "execution_count": 65,
   "metadata": {},
   "outputs": [
    {
     "data": {
      "text/plain": [
       "['en']"
      ]
     },
     "execution_count": 65,
     "metadata": {},
     "output_type": "execute_result"
    }
   ],
   "source": [
    "file = open_file(\"posts\",1)\n",
    "file[3][\"langs\"]"
   ]
  },
  {
   "cell_type": "code",
   "execution_count": null,
   "metadata": {},
   "outputs": [
    {
     "name": "stdout",
     "output_type": "stream",
     "text": [
      "encountered error:\n",
      "'unknown'\n"
     ]
    },
    {
     "data": {
      "text/plain": [
       "{}"
      ]
     },
     "execution_count": 67,
     "metadata": {},
     "output_type": "execute_result"
    }
   ],
   "source": [
    "i = 1\n",
    "languages = {}\n",
    "\n",
    "while True:\n",
    "    try:\n",
    "        file = open_file(\"posts\",i)\n",
    "        i += 1\n",
    "        for f in file:\n",
    "            lang = f[\"langs\"]\n",
    "            if lang:\n",
    "                languages[lang] += 1\n",
    "            else:\n",
    "                languages[\"unknown\"] += 1\n",
    "    except Exception as e:\n",
    "        print(\"encountered error:\")\n",
    "        print(e)\n",
    "        break\n",
    "print(languages)"
   ]
  },
  {
   "cell_type": "code",
   "execution_count": null,
   "metadata": {},
   "outputs": [],
   "source": []
  }
 ],
 "metadata": {
  "kernelspec": {
   "display_name": "Python 3",
   "language": "python",
   "name": "python3"
  },
  "language_info": {
   "codemirror_mode": {
    "name": "ipython",
    "version": 3
   },
   "file_extension": ".py",
   "mimetype": "text/x-python",
   "name": "python",
   "nbconvert_exporter": "python",
   "pygments_lexer": "ipython3",
   "version": "3.12.5"
  }
 },
 "nbformat": 4,
 "nbformat_minor": 2
}
