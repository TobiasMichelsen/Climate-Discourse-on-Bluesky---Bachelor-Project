{
 "cells": [
  {
   "cell_type": "code",
   "execution_count": 3,
   "metadata": {},
   "outputs": [],
   "source": [
    "import json"
   ]
  },
  {
   "cell_type": "code",
   "execution_count": 4,
   "metadata": {},
   "outputs": [],
   "source": [
    "def open_file(list_name, n):\n",
    "    with open (f\"../data/backups_test/{list_name}/{list_name}_backup_{n}.json\", encoding=\"utf-8\", errors=\"ignore\") as file:\n",
    "        f = json.load(file)\n",
    "    return f"
   ]
  },
  {
   "cell_type": "code",
   "execution_count": 5,
   "metadata": {},
   "outputs": [],
   "source": [
    "def open_all(list_name):\n",
    "    i = 1\n",
    "    languages = {}\n",
    "    counts = {}\n",
    "    while True:\n",
    "        try:\n",
    "            file = open_file(list_name,i)\n",
    "            i += 1\n",
    "        except Exception as e:\n",
    "            print(\"encountered error:\")\n",
    "            print(e)\n",
    "            break"
   ]
  },
  {
   "cell_type": "code",
   "execution_count": 59,
   "metadata": {},
   "outputs": [
    {
     "data": {
      "text/plain": [
       "{'repo': 'did:plc:n7adbgdg2ub4rem2kkr7cy2n',\n",
       " 'timestamp': '2025-03-24T15:37:26.436Z',\n",
       " 'seq': 6931993619,\n",
       " 'text': '4 αισθητηριακές δραστηριότητες που διευκολύνουν τον ύπνο των παιδιών\\n\\nhttps://e-press.gr/4-aisthitiriakes-drastiriotites-pou-diefkolynoun-ton-ypno-ton-paidion/',\n",
       " 'langs': None,\n",
       " 'cid': 'bafyreiaoww3oauyyc5jewm56fdytnvv336iwzgu27znjhugd666pvgl3iu',\n",
       " 'uri': 'at://did:plc:n7adbgdg2ub4rem2kkr7cy2n/app.bsky.feed.post/3ll53ktdkvj2g'}"
      ]
     },
     "execution_count": 59,
     "metadata": {},
     "output_type": "execute_result"
    }
   ],
   "source": [
    "file = open_file(\"posts\",1)\n",
    "file[0]"
   ]
  },
  {
   "cell_type": "code",
   "execution_count": 50,
   "metadata": {},
   "outputs": [
    {
     "data": {
      "text/plain": [
       "{'repo': 'did:plc:gztltz6bcpdybn4oux3ii4i4',\n",
       " 'timestamp': '2025-03-24T15:37:26.413Z',\n",
       " 'seq': 6931993604,\n",
       " 'liked_post_cid': 'bafyreidzcjn7pmedizgbhpfkodj463wcsxghwfykeouju77waobgf236u4',\n",
       " 'liked_post_uri': 'at://did:plc:qealhr2gmncfimdh3ywyytgq/app.bsky.feed.post/3ll4xnvnom224'}"
      ]
     },
     "execution_count": 50,
     "metadata": {},
     "output_type": "execute_result"
    }
   ],
   "source": [
    "file = open_file(\"likes\",1)\n",
    "file[0]"
   ]
  },
  {
   "cell_type": "code",
   "execution_count": 51,
   "metadata": {},
   "outputs": [
    {
     "data": {
      "text/plain": [
       "{'repo': 'did:plc:i3mn5ca4oyiuy7vx2o6pnwza',\n",
       " 'timestamp': '2025-03-24T15:37:26.413Z',\n",
       " 'seq': 6931993603,\n",
       " 'followed_user': 'did:plc:vj44y5nimysf6eszilvf5c5v'}"
      ]
     },
     "execution_count": 51,
     "metadata": {},
     "output_type": "execute_result"
    }
   ],
   "source": [
    "file = open_file(\"follows\",1)\n",
    "file[0]"
   ]
  },
  {
   "cell_type": "code",
   "execution_count": 52,
   "metadata": {},
   "outputs": [
    {
     "data": {
      "text/plain": [
       "{'repo': 'did:plc:ovf5l46vctrnscii22bmlzud',\n",
       " 'timestamp': '2025-03-24T15:37:26.473Z',\n",
       " 'seq': 6931993637,\n",
       " 'reposted_post_cid': 'bafyreibdir34ecijsjjpi4frmbg7pvysfy5iibtwiv753i4f6ij6f6wga4',\n",
       " 'reposted_post_uri': 'at://did:plc:kakfwvoofvwvsgfrhtayvb4r/app.bsky.feed.post/3ll2vmz4kbk2d'}"
      ]
     },
     "execution_count": 52,
     "metadata": {},
     "output_type": "execute_result"
    }
   ],
   "source": [
    "file = open_file(\"reposts\",1)\n",
    "file[0]"
   ]
  },
  {
   "cell_type": "code",
   "execution_count": 53,
   "metadata": {},
   "outputs": [
    {
     "data": {
      "text/plain": [
       "{'did': 'did:plc:ty7qqwb24v4pp26dgrohmq7j',\n",
       " 'seq': 6931993927,\n",
       " 'time': '2025-03-24T15:37:26.644Z',\n",
       " 'handle': 'ataraxia777.bsky.social'}"
      ]
     },
     "execution_count": 53,
     "metadata": {},
     "output_type": "execute_result"
    }
   ],
   "source": [
    "file = open_file(\"identity\",1)\n",
    "file[0]"
   ]
  },
  {
   "cell_type": "code",
   "execution_count": 37,
   "metadata": {},
   "outputs": [
    {
     "data": {
      "text/plain": [
       "{'did': 'did:plc:ty7qqwb24v4pp26dgrohmq7j',\n",
       " 'seq': 6931993941,\n",
       " 'time': '2025-03-24T15:37:26.644Z',\n",
       " 'active': True}"
      ]
     },
     "execution_count": 37,
     "metadata": {},
     "output_type": "execute_result"
    }
   ],
   "source": [
    "file = open_file(\"account\",1)\n",
    "file[0]"
   ]
  },
  {
   "cell_type": "code",
   "execution_count": 6,
   "metadata": {},
   "outputs": [
    {
     "name": "stdout",
     "output_type": "stream",
     "text": [
      "encountered error:\n",
      "[Errno 2] No such file or directory: '../data/backups_test/posts/posts_backup_23.json'\n"
     ]
    },
    {
     "data": {
      "text/plain": [
       "{'en': 143800,\n",
       " 'unknown': 20140,\n",
       " 'ja': 11362,\n",
       " 'pt': 9000,\n",
       " 'es': 5931,\n",
       " 'de': 5439,\n",
       " 'fr': 3942,\n",
       " 'ko': 1822,\n",
       " 'nl': 1693,\n",
       " 'ru': 930,\n",
       " 'it': 809,\n",
       " 'pl': 751,\n",
       " 'tr': 688,\n",
       " 'sv': 677,\n",
       " 'zh': 436,\n",
       " 'fi': 422,\n",
       " 'ar': 367,\n",
       " 'en-US': 322,\n",
       " 'ca': 307,\n",
       " 'el': 256,\n",
       " 'uk': 251,\n",
       " 'th': 242,\n",
       " 'cs': 225,\n",
       " 'nb': 181,\n",
       " 'da': 172,\n",
       " 'ja-JP': 155,\n",
       " 'he': 115,\n",
       " 'id': 71,\n",
       " 'fa': 69,\n",
       " 'hu': 65,\n",
       " 'gl': 54,\n",
       " 'ak': 48,\n",
       " 'bg': 36,\n",
       " 'sr': 35,\n",
       " 'is': 30,\n",
       " 'en-AU': 30,\n",
       " 'ae': 29,\n",
       " 'sk': 24,\n",
       " 'de-DE': 24,\n",
       " 'sl': 23,\n",
       " 'am': 21,\n",
       " 'vi': 17,\n",
       " 'hr': 16,\n",
       " 'af': 16,\n",
       " 'it-IT': 16,\n",
       " 'aa': 14,\n",
       " 'nl-NL': 14,\n",
       " 'eu': 13,\n",
       " 'nn': 11,\n",
       " 'ro-RO': 11,\n",
       " 'cy': 10,\n",
       " 'ms': 8,\n",
       " 'sv-FI': 8,\n",
       " 'fr-FR': 8,\n",
       " 'av': 7,\n",
       " 'lv': 7,\n",
       " 'an': 7,\n",
       " 'pt-BR': 7,\n",
       " 'ay': 7,\n",
       " 'en-GB': 6,\n",
       " 'no': 5,\n",
       " 'es-ES': 5,\n",
       " 'ro': 4,\n",
       " 'et': 4,\n",
       " 'jp': 4,\n",
       " 'be': 4,\n",
       " 'ab': 4,\n",
       " 'da-DK': 4,\n",
       " 'az': 3,\n",
       " 'as': 3,\n",
       " 'cu': 3,\n",
       " 'tl': 3,\n",
       " 'pl-PL': 2,\n",
       " 'und': 2,\n",
       " 'yue': 2,\n",
       " 'en-UK': 2,\n",
       " 'lt': 2,\n",
       " 'ga': 2,\n",
       " 'zh-CN': 2,\n",
       " 'en-CA': 2,\n",
       " 'lo': 2,\n",
       " 'bn': 2,\n",
       " 'ber': 1,\n",
       " 'nl-BE': 1,\n",
       " 'ti': 1,\n",
       " 'pt-PT': 1,\n",
       " 'Angika': 1,\n",
       " 'en-us': 1,\n",
       " 'ca-ES': 1,\n",
       " 'fr-CA': 1,\n",
       " 'jp-JP': 1,\n",
       " 'gd': 1,\n",
       " 'fil': 1,\n",
       " 'ksh': 1,\n",
       " 'ku': 1,\n",
       " 'la': 1,\n",
       " 'hi': 1}"
      ]
     },
     "execution_count": 6,
     "metadata": {},
     "output_type": "execute_result"
    }
   ],
   "source": [
    "i = 1\n",
    "languages = {}\n",
    "counts = {}\n",
    "while True:\n",
    "    try:\n",
    "        file = open_file(\"posts\",i)\n",
    "        i += 1\n",
    "        for f in file:\n",
    "            lang = f[\"langs\"]\n",
    "            if lang:\n",
    "                count = len(lang)\n",
    "                if count > 1:\n",
    "                    counts[count] = counts.get(count,0) + 1\n",
    "                lang = lang[0]      #sometimes there are more than 1 lang, this does not use those\n",
    "                languages[lang] = languages.get(lang, 0) + 1\n",
    "            else:\n",
    "                languages[\"unknown\"] = languages.get(\"unknown\", 0) + 1\n",
    "    except Exception as e:\n",
    "        print(\"encountered error:\")\n",
    "        print(e)\n",
    "        break\n",
    "    \n",
    "sorted_languages = dict(sorted(languages.items(), key=lambda item: item[1], reverse = True))\n",
    "sorted_languages"
   ]
  },
  {
   "cell_type": "code",
   "execution_count": null,
   "metadata": {},
   "outputs": [
    {
     "data": {
      "text/plain": [
       "{'en': 143800,\n",
       " 'unknown': 20140,\n",
       " 'ja': 11362,\n",
       " 'pt': 9000,\n",
       " 'es': 5931,\n",
       " 'de': 5439,\n",
       " 'fr': 3942,\n",
       " 'ko': 1822,\n",
       " 'nl': 1693,\n",
       " 'ru': 930,\n",
       " 'it': 809,\n",
       " 'pl': 751,\n",
       " 'tr': 688,\n",
       " 'sv': 677,\n",
       " 'zh': 436,\n",
       " 'fi': 422,\n",
       " 'ar': 367,\n",
       " 'en-US': 322,\n",
       " 'ca': 307,\n",
       " 'el': 256,\n",
       " 'uk': 251,\n",
       " 'th': 242,\n",
       " 'cs': 225,\n",
       " 'nb': 181,\n",
       " 'da': 172,\n",
       " 'ja-JP': 155,\n",
       " 'he': 115,\n",
       " 'id': 71,\n",
       " 'fa': 69,\n",
       " 'hu': 65,\n",
       " 'gl': 54,\n",
       " 'ak': 48,\n",
       " 'bg': 36,\n",
       " 'sr': 35,\n",
       " 'is': 30,\n",
       " 'en-AU': 30,\n",
       " 'ae': 29,\n",
       " 'sk': 24,\n",
       " 'de-DE': 24,\n",
       " 'sl': 23,\n",
       " 'am': 21,\n",
       " 'vi': 17,\n",
       " 'hr': 16,\n",
       " 'af': 16,\n",
       " 'it-IT': 16,\n",
       " 'aa': 14,\n",
       " 'nl-NL': 14,\n",
       " 'eu': 13,\n",
       " 'nn': 11,\n",
       " 'ro-RO': 11,\n",
       " 'cy': 10,\n",
       " 'ms': 8,\n",
       " 'sv-FI': 8,\n",
       " 'fr-FR': 8,\n",
       " 'av': 7,\n",
       " 'lv': 7,\n",
       " 'an': 7,\n",
       " 'pt-BR': 7,\n",
       " 'ay': 7,\n",
       " 'en-GB': 6,\n",
       " 'no': 5,\n",
       " 'es-ES': 5,\n",
       " 'ro': 4,\n",
       " 'et': 4,\n",
       " 'jp': 4,\n",
       " 'be': 4,\n",
       " 'ab': 4,\n",
       " 'da-DK': 4,\n",
       " 'az': 3,\n",
       " 'as': 3,\n",
       " 'cu': 3,\n",
       " 'tl': 3,\n",
       " 'pl-PL': 2,\n",
       " 'und': 2,\n",
       " 'yue': 2,\n",
       " 'en-UK': 2,\n",
       " 'lt': 2,\n",
       " 'ga': 2,\n",
       " 'zh-CN': 2,\n",
       " 'en-CA': 2,\n",
       " 'lo': 2,\n",
       " 'bn': 2,\n",
       " 'ber': 1,\n",
       " 'nl-BE': 1,\n",
       " 'ti': 1,\n",
       " 'pt-PT': 1,\n",
       " 'Angika': 1,\n",
       " 'en-us': 1,\n",
       " 'ca-ES': 1,\n",
       " 'fr-CA': 1,\n",
       " 'jp-JP': 1,\n",
       " 'gd': 1,\n",
       " 'fil': 1,\n",
       " 'ksh': 1,\n",
       " 'ku': 1,\n",
       " 'la': 1,\n",
       " 'hi': 1}"
      ]
     },
     "execution_count": 83,
     "metadata": {},
     "output_type": "execute_result"
    }
   ],
   "source": []
  },
  {
   "cell_type": "code",
   "execution_count": null,
   "metadata": {},
   "outputs": [],
   "source": []
  }
 ],
 "metadata": {
  "kernelspec": {
   "display_name": "Python 3",
   "language": "python",
   "name": "python3"
  },
  "language_info": {
   "codemirror_mode": {
    "name": "ipython",
    "version": 3
   },
   "file_extension": ".py",
   "mimetype": "text/x-python",
   "name": "python",
   "nbconvert_exporter": "python",
   "pygments_lexer": "ipython3",
   "version": "3.12.5"
  }
 },
 "nbformat": 4,
 "nbformat_minor": 2
}
