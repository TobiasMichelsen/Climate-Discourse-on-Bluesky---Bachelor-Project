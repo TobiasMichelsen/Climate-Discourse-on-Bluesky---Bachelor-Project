{
 "cells": [
  {
   "cell_type": "code",
   "execution_count": 8,
   "id": "f104b641",
   "metadata": {},
   "outputs": [],
   "source": [
    "import pandas as pd\n",
    "from collections import Counter\n"
   ]
  },
  {
   "cell_type": "code",
   "execution_count": 89,
   "id": "e540d4dc",
   "metadata": {},
   "outputs": [],
   "source": [
    "df1 = pd.read_json(\"posts_backup_1.json\")\n",
    "df2 = pd.read_json(\"posts_filtered_1.json\")\n",
    "df3 = pd.read_json(\"climate_classified_posts_1.json\")\n",
    "df4 = pd.read_json(\"cleaned_run3_input.json\",lines=True)\n",
    "df5 = pd.read_json(\"run3_result.json\",lines=True)\n",
    "df6 = pd.read_json(\"run4_result.json\",lines=True)\n",
    "df8 = pd.read_json(\"run1_result.json\",lines=True)\n",
    "df8_0 = df8[df8.topic==0]\n",
    "df8_dedup = df8_0.drop_duplicates(subset=\"cid\", keep=\"first\")"
   ]
  },
  {
   "cell_type": "code",
   "execution_count": 37,
   "id": "49af2e13",
   "metadata": {},
   "outputs": [],
   "source": [
    "#clear ram\n",
    "df1 = 1\n",
    "df2 = 1\n",
    "df3 = 1\n",
    "df4 = 1\n",
    "df5 = 1\n",
    "df6 = 1\n",
    "df7 = 1\n",
    "df8 = 1"
   ]
  },
  {
   "cell_type": "code",
   "execution_count": 91,
   "id": "885c3b86",
   "metadata": {},
   "outputs": [
    {
     "data": {
      "text/plain": [
       "array([ 0, -1,  2,  1])"
      ]
     },
     "execution_count": 91,
     "metadata": {},
     "output_type": "execute_result"
    }
   ],
   "source": [
    "df8.topic.unique()"
   ]
  },
  {
   "cell_type": "code",
   "execution_count": 31,
   "id": "64f2b3fb",
   "metadata": {},
   "outputs": [
    {
     "name": "stdout",
     "output_type": "stream",
     "text": [
      "100000\n",
      "93974\n",
      "Counter({'en': 68672, 'ja': 5127, 'tr': 4994, 'pt': 3435, 'de': 2514, 'es': 2510, 'fr': 1892, 'ko': 743, 'nl': 677, 'ru': 536, 'pl': 480, 'ar': 400, 'it': 362, 'sv': 261, 'zh': 242, 'fi': 187, 'en-US': 150, 'th': 149, 'el': 110, 'ca': 103, 'nb': 93, 'uk': 80, 'da': 74, 'cs': 73, 'he': 66, 'id': 62, 'sq': 48, 'ja-JP': 47, 'fa': 33, 'jp': 30, 'gl': 25, 'hu': 22, 'am': 17, 'ab': 15, 'ak': 15, 'tl': 14, 'en-AU': 14, 'sr': 12, 'et': 12, 'af': 12, 'av': 12, 'nn': 12, 'is': 11, 'no': 11, 'pt-BR': 10, 'eu': 9, 'az': 9, 'sk': 8, 'bg': 8, 'sl': 7, 'de-DE': 7, 'hy': 6, 'fr-FR': 6, 'mk': 5, 'zza': 5, 'an': 4, 'aa': 4, 'ga': 4, 'cy': 4, 'Angika': 3, 'es-ES': 3, 'lt': 3, 'en-CA': 3, 'it-IT': 3, 'nl-NL': 3, 'as': 2, 'pt-PT': 2, 'vi': 2, 'ay': 2, 'hr': 2, 'lv': 1, 'ro': 1, 'ast': 1, 'kw': 1, 'bs': 1, 'sv-FI': 1, 'sv-SE': 1, 'sa': 1, 'pa': 1, 'hi': 1, 'be': 1, 'tlh': 1, 'zh-CN': 1, 'bn': 1, 'ur': 1, 'ho': 1, 'ae': 1, 'bm': 1})\n"
     ]
    }
   ],
   "source": [
    "#proportion of data kept\n",
    "print(len(df1))\n",
    "df1 = df1.loc[df1.langs.notna()]\n",
    "print(len(df1))\n",
    "all_langs = [lang for sublist in df1[\"langs\"] for lang in sublist]\n",
    "\n",
    "# Count each language\n",
    "lang_counts = Counter(all_langs)\n",
    "print(lang_counts)"
   ]
  },
  {
   "cell_type": "code",
   "execution_count": 21,
   "id": "8f9e5610",
   "metadata": {},
   "outputs": [
    {
     "data": {
      "text/plain": [
       "Counter({-1: 77996,\n",
       "         0: 11054,\n",
       "         1: 8072,\n",
       "         2: 7269,\n",
       "         3: 6122,\n",
       "         4: 6060,\n",
       "         5: 4990,\n",
       "         6: 4872,\n",
       "         7: 3784,\n",
       "         8: 3069,\n",
       "         9: 2734,\n",
       "         10: 2643,\n",
       "         11: 2621,\n",
       "         12: 2373,\n",
       "         13: 2240,\n",
       "         14: 1709,\n",
       "         15: 1622,\n",
       "         16: 1608,\n",
       "         17: 1594,\n",
       "         18: 1541,\n",
       "         19: 1529,\n",
       "         20: 1219,\n",
       "         21: 1190,\n",
       "         22: 1034,\n",
       "         23: 1033,\n",
       "         24: 855,\n",
       "         25: 756,\n",
       "         26: 737,\n",
       "         27: 636,\n",
       "         28: 535,\n",
       "         29: 492,\n",
       "         30: 483,\n",
       "         31: 418,\n",
       "         32: 411,\n",
       "         33: 381,\n",
       "         34: 375,\n",
       "         35: 346,\n",
       "         36: 328,\n",
       "         37: 305,\n",
       "         38: 301,\n",
       "         39: 293,\n",
       "         40: 279,\n",
       "         41: 257,\n",
       "         42: 255,\n",
       "         43: 220,\n",
       "         44: 213,\n",
       "         45: 212,\n",
       "         46: 207,\n",
       "         47: 206,\n",
       "         48: 201})"
      ]
     },
     "execution_count": 21,
     "metadata": {},
     "output_type": "execute_result"
    }
   ],
   "source": [
    "Counter(df5.topic)"
   ]
  },
  {
   "cell_type": "code",
   "execution_count": 25,
   "id": "465eefe0",
   "metadata": {},
   "outputs": [
    {
     "data": {
      "text/plain": [
       "Counter({-1: 52024,\n",
       "         0: 6199,\n",
       "         1: 1882,\n",
       "         2: 1568,\n",
       "         3: 1131,\n",
       "         4: 1041,\n",
       "         5: 976,\n",
       "         6: 899,\n",
       "         7: 813,\n",
       "         8: 749,\n",
       "         9: 745,\n",
       "         10: 651,\n",
       "         11: 628,\n",
       "         12: 568,\n",
       "         13: 552,\n",
       "         14: 545,\n",
       "         15: 512,\n",
       "         16: 509,\n",
       "         17: 495,\n",
       "         18: 472,\n",
       "         19: 438,\n",
       "         20: 356,\n",
       "         21: 304,\n",
       "         22: 294,\n",
       "         23: 238,\n",
       "         24: 208,\n",
       "         25: 188,\n",
       "         26: 182,\n",
       "         27: 170,\n",
       "         28: 169,\n",
       "         29: 168,\n",
       "         30: 161,\n",
       "         31: 150,\n",
       "         33: 145,\n",
       "         32: 145,\n",
       "         34: 132,\n",
       "         35: 129,\n",
       "         36: 126,\n",
       "         37: 123,\n",
       "         38: 118,\n",
       "         40: 114,\n",
       "         41: 114,\n",
       "         39: 114,\n",
       "         42: 113,\n",
       "         43: 109,\n",
       "         44: 108,\n",
       "         45: 108,\n",
       "         46: 107,\n",
       "         47: 106,\n",
       "         48: 100})"
      ]
     },
     "execution_count": 25,
     "metadata": {},
     "output_type": "execute_result"
    }
   ],
   "source": [
    "Counter(df6.topic)"
   ]
  },
  {
   "cell_type": "code",
   "execution_count": 95,
   "id": "71dbf702",
   "metadata": {},
   "outputs": [
    {
     "data": {
      "text/plain": [
       "seq\n",
       "7595575636    21\n",
       "7594814253    19\n",
       "7594690730    19\n",
       "7594788371    17\n",
       "7595314854    15\n",
       "              ..\n",
       "7594988657     2\n",
       "7595075112     2\n",
       "7594742213     2\n",
       "7595982859     2\n",
       "7595983646     2\n",
       "Name: count, Length: 858, dtype: int64"
      ]
     },
     "execution_count": 95,
     "metadata": {},
     "output_type": "execute_result"
    }
   ],
   "source": [
    "df1[\"seq\"].value_counts()[df1[\"seq\"].value_counts() > 1]"
   ]
  },
  {
   "cell_type": "code",
   "execution_count": 30,
   "id": "bb09dab6",
   "metadata": {},
   "outputs": [
    {
     "data": {
      "text/plain": [
       "Series([], Name: count, dtype: int64)"
      ]
     },
     "execution_count": 30,
     "metadata": {},
     "output_type": "execute_result"
    }
   ],
   "source": [
    "df3[\"cid\"].value_counts()[df3[\"cid\"].value_counts() > 1]"
   ]
  },
  {
   "cell_type": "code",
   "execution_count": 33,
   "id": "0c591fce",
   "metadata": {},
   "outputs": [
    {
     "data": {
      "text/plain": [
       "Series([], Name: count, dtype: int64)"
      ]
     },
     "execution_count": 33,
     "metadata": {},
     "output_type": "execute_result"
    }
   ],
   "source": [
    "df7[\"cid\"].value_counts()[df7[\"cid\"].value_counts() > 1]"
   ]
  },
  {
   "cell_type": "code",
   "execution_count": 86,
   "id": "73e3af55",
   "metadata": {},
   "outputs": [
    {
     "name": "stdout",
     "output_type": "stream",
     "text": [
      "(267331, 4)\n",
      "(139007, 4)\n"
     ]
    }
   ],
   "source": [
    "#merge the cleaned data with the cid data\n",
    "\n",
    "clean_df = df4.merge(df8[[\"cid\",\"text\"]], on=\"text\", how=\"left\")\n",
    "print(clean_df.shape)\n",
    "clean_df = clean_df.drop_duplicates(subset=\"cid\", keep=\"first\")\n",
    "print(clean_df.shape)"
   ]
  },
  {
   "cell_type": "code",
   "execution_count": 77,
   "id": "8aae8dce",
   "metadata": {},
   "outputs": [],
   "source": [
    "dupe_cids = df8[df8[\"cid\"].duplicated(keep=False)]  # All duplicate cids, not just the second occurrence\n",
    "cid_counts = Counter(dupe_cids[\"cid\"])\n",
    "sorted_counts = cid_counts.most_common()"
   ]
  },
  {
   "cell_type": "code",
   "execution_count": 81,
   "id": "0a3b737c",
   "metadata": {},
   "outputs": [
    {
     "data": {
      "text/plain": [
       "[]"
      ]
     },
     "execution_count": 81,
     "metadata": {},
     "output_type": "execute_result"
    }
   ],
   "source": [
    "sorted_counts"
   ]
  },
  {
   "cell_type": "code",
   "execution_count": 82,
   "id": "da45a1c6",
   "metadata": {},
   "outputs": [
    {
     "data": {
      "text/html": [
       "<div>\n",
       "<style scoped>\n",
       "    .dataframe tbody tr th:only-of-type {\n",
       "        vertical-align: middle;\n",
       "    }\n",
       "\n",
       "    .dataframe tbody tr th {\n",
       "        vertical-align: top;\n",
       "    }\n",
       "\n",
       "    .dataframe thead th {\n",
       "        text-align: right;\n",
       "    }\n",
       "</style>\n",
       "<table border=\"1\" class=\"dataframe\">\n",
       "  <thead>\n",
       "    <tr style=\"text-align: right;\">\n",
       "      <th></th>\n",
       "      <th>cid</th>\n",
       "      <th>text</th>\n",
       "      <th>topic</th>\n",
       "    </tr>\n",
       "  </thead>\n",
       "  <tbody>\n",
       "    <tr>\n",
       "      <th>148163</th>\n",
       "      <td>bafyreigiyitdh2tlbfrpsg6mskpotrt3eqkzfijxbxzu7...</td>\n",
       "      <td>apnews.comarticletrum... exempts nearly 70 coa...</td>\n",
       "      <td>0</td>\n",
       "    </tr>\n",
       "  </tbody>\n",
       "</table>\n",
       "</div>"
      ],
      "text/plain": [
       "                                                      cid  \\\n",
       "148163  bafyreigiyitdh2tlbfrpsg6mskpotrt3eqkzfijxbxzu7...   \n",
       "\n",
       "                                                     text  topic  \n",
       "148163  apnews.comarticletrum... exempts nearly 70 coa...      0  "
      ]
     },
     "execution_count": 82,
     "metadata": {},
     "output_type": "execute_result"
    }
   ],
   "source": [
    "df8[df8.cid == \"bafyreigiyitdh2tlbfrpsg6mskpotrt3eqkzfijxbxzu7vgq6ucmnke3ku\"]"
   ]
  },
  {
   "cell_type": "code",
   "execution_count": 83,
   "id": "c22ed528",
   "metadata": {},
   "outputs": [
    {
     "data": {
      "text/html": [
       "<div>\n",
       "<style scoped>\n",
       "    .dataframe tbody tr th:only-of-type {\n",
       "        vertical-align: middle;\n",
       "    }\n",
       "\n",
       "    .dataframe tbody tr th {\n",
       "        vertical-align: top;\n",
       "    }\n",
       "\n",
       "    .dataframe thead th {\n",
       "        text-align: right;\n",
       "    }\n",
       "</style>\n",
       "<table border=\"1\" class=\"dataframe\">\n",
       "  <thead>\n",
       "    <tr style=\"text-align: right;\">\n",
       "      <th></th>\n",
       "      <th>seq</th>\n",
       "      <th>text</th>\n",
       "      <th>topic</th>\n",
       "    </tr>\n",
       "  </thead>\n",
       "  <tbody>\n",
       "    <tr>\n",
       "      <th>6</th>\n",
       "      <td>7594666256</td>\n",
       "      <td>Ukraine will send a team to the US next week f...</td>\n",
       "      <td>59</td>\n",
       "    </tr>\n",
       "    <tr>\n",
       "      <th>30</th>\n",
       "      <td>7594876880</td>\n",
       "      <td>Your Sunday morning podcast is HERE. Fire up t...</td>\n",
       "      <td>99</td>\n",
       "    </tr>\n",
       "    <tr>\n",
       "      <th>31</th>\n",
       "      <td>7594894311</td>\n",
       "      <td>Ukraine will send a team to the US next week f...</td>\n",
       "      <td>59</td>\n",
       "    </tr>\n",
       "    <tr>\n",
       "      <th>100</th>\n",
       "      <td>7595382388</td>\n",
       "      <td>If you see this, quote with the energy you bri...</td>\n",
       "      <td>26</td>\n",
       "    </tr>\n",
       "    <tr>\n",
       "      <th>122</th>\n",
       "      <td>7595570922</td>\n",
       "      <td>4,000 Meters Below Sea Level, Scientists Have ...</td>\n",
       "      <td>-1</td>\n",
       "    </tr>\n",
       "    <tr>\n",
       "      <th>...</th>\n",
       "      <td>...</td>\n",
       "      <td>...</td>\n",
       "      <td>...</td>\n",
       "    </tr>\n",
       "    <tr>\n",
       "      <th>169591</th>\n",
       "      <td>8220861710</td>\n",
       "      <td>WD-40 Specialist Cleaner Degreaser, Multi-Surf...</td>\n",
       "      <td>-1</td>\n",
       "    </tr>\n",
       "    <tr>\n",
       "      <th>169601</th>\n",
       "      <td>8220930202</td>\n",
       "      <td>WD-40 Specialist Cleaner Degreaser, Multi-Surf...</td>\n",
       "      <td>-1</td>\n",
       "    </tr>\n",
       "    <tr>\n",
       "      <th>169670</th>\n",
       "      <td>8221252263</td>\n",
       "      <td>Trump is such an amazing president for the env...</td>\n",
       "      <td>-1</td>\n",
       "    </tr>\n",
       "    <tr>\n",
       "      <th>169675</th>\n",
       "      <td>8221266709</td>\n",
       "      <td>Trump is such an amazing president for the env...</td>\n",
       "      <td>-1</td>\n",
       "    </tr>\n",
       "    <tr>\n",
       "      <th>169679</th>\n",
       "      <td>8221286231</td>\n",
       "      <td>Trump is such an amazing president for the env...</td>\n",
       "      <td>-1</td>\n",
       "    </tr>\n",
       "  </tbody>\n",
       "</table>\n",
       "<p>64079 rows × 3 columns</p>\n",
       "</div>"
      ],
      "text/plain": [
       "               seq                                               text  topic\n",
       "6       7594666256  Ukraine will send a team to the US next week f...     59\n",
       "30      7594876880  Your Sunday morning podcast is HERE. Fire up t...     99\n",
       "31      7594894311  Ukraine will send a team to the US next week f...     59\n",
       "100     7595382388  If you see this, quote with the energy you bri...     26\n",
       "122     7595570922  4,000 Meters Below Sea Level, Scientists Have ...     -1\n",
       "...            ...                                                ...    ...\n",
       "169591  8220861710  WD-40 Specialist Cleaner Degreaser, Multi-Surf...     -1\n",
       "169601  8220930202  WD-40 Specialist Cleaner Degreaser, Multi-Surf...     -1\n",
       "169670  8221252263  Trump is such an amazing president for the env...     -1\n",
       "169675  8221266709  Trump is such an amazing president for the env...     -1\n",
       "169679  8221286231  Trump is such an amazing president for the env...     -1\n",
       "\n",
       "[64079 rows x 3 columns]"
      ]
     },
     "execution_count": 83,
     "metadata": {},
     "output_type": "execute_result"
    }
   ],
   "source": [
    "df4[df4[\"text\"].duplicated(keep=False) == True]\n",
    "# df8.shape"
   ]
  },
  {
   "cell_type": "code",
   "execution_count": 93,
   "id": "c15addf0",
   "metadata": {},
   "outputs": [
    {
     "data": {
      "text/plain": [
       "array([ 0, -1,  2,  1])"
      ]
     },
     "execution_count": 93,
     "metadata": {},
     "output_type": "execute_result"
    }
   ],
   "source": [
    "df8.topic.unique()"
   ]
  },
  {
   "cell_type": "code",
   "execution_count": 98,
   "id": "b55dfd1a",
   "metadata": {},
   "outputs": [
    {
     "data": {
      "text/html": [
       "<div>\n",
       "<style scoped>\n",
       "    .dataframe tbody tr th:only-of-type {\n",
       "        vertical-align: middle;\n",
       "    }\n",
       "\n",
       "    .dataframe tbody tr th {\n",
       "        vertical-align: top;\n",
       "    }\n",
       "\n",
       "    .dataframe thead th {\n",
       "        text-align: right;\n",
       "    }\n",
       "</style>\n",
       "<table border=\"1\" class=\"dataframe\">\n",
       "  <thead>\n",
       "    <tr style=\"text-align: right;\">\n",
       "      <th></th>\n",
       "      <th>Run</th>\n",
       "      <th>min_cluster_size</th>\n",
       "      <th>min_samples</th>\n",
       "      <th>n_neighbors</th>\n",
       "      <th>n_components</th>\n",
       "      <th>min_dist</th>\n",
       "    </tr>\n",
       "  </thead>\n",
       "  <tbody>\n",
       "    <tr>\n",
       "      <th>0</th>\n",
       "      <td>1</td>\n",
       "      <td>1000</td>\n",
       "      <td>300</td>\n",
       "      <td>15</td>\n",
       "      <td>7</td>\n",
       "      <td>0.0</td>\n",
       "    </tr>\n",
       "    <tr>\n",
       "      <th>1</th>\n",
       "      <td>2</td>\n",
       "      <td>200</td>\n",
       "      <td>50</td>\n",
       "      <td>20</td>\n",
       "      <td>7</td>\n",
       "      <td>0.0</td>\n",
       "    </tr>\n",
       "    <tr>\n",
       "      <th>2</th>\n",
       "      <td>3</td>\n",
       "      <td>200</td>\n",
       "      <td>50</td>\n",
       "      <td>20</td>\n",
       "      <td>11</td>\n",
       "      <td>0.0</td>\n",
       "    </tr>\n",
       "    <tr>\n",
       "      <th>3</th>\n",
       "      <td>4</td>\n",
       "      <td>100</td>\n",
       "      <td>25</td>\n",
       "      <td>20</td>\n",
       "      <td>11</td>\n",
       "      <td>0.0</td>\n",
       "    </tr>\n",
       "  </tbody>\n",
       "</table>\n",
       "</div>"
      ],
      "text/plain": [
       "   Run  min_cluster_size  min_samples  n_neighbors  n_components  min_dist\n",
       "0    1              1000          300           15             7       0.0\n",
       "1    2               200           50           20             7       0.0\n",
       "2    3               200           50           20            11       0.0\n",
       "3    4               100           25           20            11       0.0"
      ]
     },
     "execution_count": 98,
     "metadata": {},
     "output_type": "execute_result"
    }
   ],
   "source": [
    "import pandas as pd\n",
    "\n",
    "params = [\n",
    "    {\"Run\": 1, \"min_cluster_size\": 1000, \"min_samples\": 300, \"n_neighbors\": 15, \"n_components\": 7, \"min_dist\": 0.0},\n",
    "    {\"Run\": 2, \"min_cluster_size\": 200,  \"min_samples\": 50, \"n_neighbors\": 20, \"n_components\": 7, \"min_dist\": 0.0},\n",
    "    {\"Run\": 3, \"min_cluster_size\": 200,  \"min_samples\": 50, \"n_neighbors\": 20, \"n_components\": 11, \"min_dist\": 0.0},\n",
    "    {\"Run\": 4, \"min_cluster_size\": 100,  \"min_samples\": 25, \"n_neighbors\": 20, \"n_components\": 11, \"min_dist\": 0.0},\n",
    "]\n",
    "\n",
    "df = pd.DataFrame(params)\n",
    "df"
   ]
  },
  {
   "cell_type": "code",
   "execution_count": 100,
   "id": "07b5f8c8",
   "metadata": {},
   "outputs": [],
   "source": [
    "df.to_csv(\"params.csv\", index=False)"
   ]
  },
  {
   "cell_type": "code",
   "execution_count": null,
   "id": "f93156ec",
   "metadata": {},
   "outputs": [],
   "source": []
  }
 ],
 "metadata": {
  "kernelspec": {
   "display_name": "Python 3",
   "language": "python",
   "name": "python3"
  },
  "language_info": {
   "codemirror_mode": {
    "name": "ipython",
    "version": 3
   },
   "file_extension": ".py",
   "mimetype": "text/x-python",
   "name": "python",
   "nbconvert_exporter": "python",
   "pygments_lexer": "ipython3",
   "version": "3.12.5"
  }
 },
 "nbformat": 4,
 "nbformat_minor": 5
}
