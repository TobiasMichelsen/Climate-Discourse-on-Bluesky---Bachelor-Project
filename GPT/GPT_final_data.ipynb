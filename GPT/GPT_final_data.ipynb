{
 "cells": [
  {
   "cell_type": "code",
   "execution_count": 2,
   "metadata": {},
   "outputs": [
    {
     "name": "stdout",
     "output_type": "stream",
     "text": [
      "\u001b[33mWARNING: You are using pip version 21.2.4; however, version 25.1.1 is available.\n",
      "You should consider upgrading via the '/Library/Developer/CommandLineTools/usr/bin/python3 -m pip install --upgrade pip' command.\u001b[0m\n",
      "Note: you may need to restart the kernel to use updated packages.\n"
     ]
    }
   ],
   "source": [
    "pip install openai -q"
   ]
  },
  {
   "cell_type": "code",
   "execution_count": 3,
   "metadata": {},
   "outputs": [
    {
     "name": "stdout",
     "output_type": "stream",
     "text": [
      "\u001b[33mWARNING: You are using pip version 21.2.4; however, version 25.1.1 is available.\n",
      "You should consider upgrading via the '/Library/Developer/CommandLineTools/usr/bin/python3 -m pip install --upgrade pip' command.\u001b[0m\n",
      "Note: you may need to restart the kernel to use updated packages.\n"
     ]
    }
   ],
   "source": [
    "pip install python-dotenv -q"
   ]
  },
  {
   "cell_type": "code",
   "execution_count": 4,
   "metadata": {},
   "outputs": [],
   "source": [
    "import os\n",
    "import json\n",
    "import pandas as pd\n",
    "import openai\n",
    "import time\n",
    "from dotenv import load_dotenv\n",
    "from pathlib import Path"
   ]
  },
  {
   "cell_type": "code",
   "execution_count": 5,
   "metadata": {},
   "outputs": [],
   "source": [
    "load_dotenv()\n",
    "openai.api_key = os.getenv(\"OPENAI_API_KEY\")"
   ]
  },
  {
   "cell_type": "code",
   "execution_count": 6,
   "metadata": {},
   "outputs": [],
   "source": [
    "INPUT_PATH = \"/Users/tobiasmichelsen/Bachelor_Project/DS_BachelorProject_PH/data/BERTopicResult/BERTopic_final_result.json\"\n",
    "OUTPUT_DIR = Path(\"/Users/tobiasmichelsen/Bachelor_Project/DS_BachelorProject_PH/data/llm_subtopic\")"
   ]
  },
  {
   "cell_type": "code",
   "execution_count": 7,
   "metadata": {},
   "outputs": [],
   "source": [
    "PROMPT_TEMPLATE = \"\"\"\n",
    "You are a helpful assistant that classifies text into one or more climate-related categories.\n",
    "\n",
    "Use the examples below to guide your classification:\n",
    "\n",
    "- Activism: \"Thousands marched in the climate strike demanding government action.\", \"Youth-led campaigns are pressuring lawmakers to enact stronger climate policies.\", \"Environmental activists chained themselves to construction equipment to protest deforestation.\"\n",
    "- Agriculture: \"Crops are failing due to prolonged droughts intensified by climate change.\", \"Pollinators like bees are disappearing, threatening global food security.\", \"Rising temperatures are affecting livestock health and reducing dairy production on farms.\"\n",
    "- Disaster: \"Wildfires have devastated thousands of acres in California.\", \"Flooding from intense storms has displaced hundreds of families across the region.\", \"A powerful hurricane made landfall, causing widespread destruction and power outages.\"\n",
    "- Fossil: \"Oil prices continue to rise amid geopolitical tensions and supply constraints.\", \"New coal-fired power plants are being built despite international climate agreements.\", \"Natural gas usage has surged as countries transition away from coal and nuclear energy.\"\n",
    "- Lifestyle: \"People are embracing minimalist living to reduce their carbon footprint.\", \"Plant-based diets are gaining popularity for their environmental benefits.\", \"Air pollution is linked to rising asthma rates in urban areas.\"\n",
    "- Politics: \"The new administration reversed several environmental protections.\", \"Communities of color are disproportionately affected by environmental hazards.\", \"Lawmakers are debating a new bill aimed at cutting national carbon emissions by 2030.\"\n",
    "- Renewable: \"Government subsidies are making rooftop solar panels more accessible.\", \"Community wind projects are helping rural areas become energy independent.\", \"Drought conditions are affecting the electricity output of hydropower plants in Brazil.\"\n",
    "- Waste: \"Cities are expanding composting and recycling programs to reduce landfill use.\", \"Single-use plastics are being banned in several countries to combat environmental pollution.\", \"Innovative startups are turning food waste into sustainable packaging materials.\"\n",
    "- Weather: \"Global temperatures hit a new record high this year.\", \"An unprecedented heatwave swept across Europe, breaking temperature records.\", \"Heavy rainfall and flash floods have disrupted transportation in the region.\"\n",
    "- Nature: \"Biodiversity is very important for a healthy ecosystem and we should be looking after wildlife.\", \"Mass extinction of plants and animals is a real danger we have to consider\", \"Trees are magnificent creatures and I believe are a key element in combating climate change.\"\n",
    "- Nuclear: \"Nuclear energy is key for our future as we transition to low-carbon power sources.\", \"Debates continue over the safety and waste management of nuclear power plants.\", \"Several countries are investing in next-generation nuclear reactors to meet climate goals.\"\n",
    "- Electricity: \"Electricity demand is expected to surge with the rise of electric vehicles and heat pumps.\", \"Power outages are becoming more frequent due to aging electrical grids and extreme weather.\", \"Renewables now supply a growing share of global electricity production.\"\n",
    "- Construction: \"Green construction practices are reducing the carbon footprint of new buildings.\", \"Urban expansion is driving increased demand for sustainable construction materials.\", \"The construction industry faces pressure to cut emissions and improve energy efficiency.\"\n",
    "- Transportation: \"Public transportation systems are expanding to reduce urban congestion and pollution.\", \"Electric vehicles are transforming the future of transportation infrastructure.\", \"Transportation remains a major source of greenhouse gas emissions globally.\"\n",
    "\n",
    "\n",
    "If the text belongs to more than one category, list all relevant categories separated by commas.\n",
    "If the text does not fit any category above, assign a new category name.\n",
    "\n",
    "Classify the following text:\n",
    "\"{text}\"\n",
    "\n",
    "Response:\n",
    "\"\"\""
   ]
  },
  {
   "cell_type": "code",
   "execution_count": 8,
   "metadata": {},
   "outputs": [],
   "source": [
    "def calculate_n(df, max_n=20):\n",
    "    N = len(df)\n",
    "    Z = 1.96\n",
    "    p = 0.5\n",
    "    E = 0.05\n",
    "    n = round((N * Z**2 * p * (1 - p)) / ((E**2 * (N - 1)) + (Z**2 * p * (1 - p))))\n",
    "    return min(n, max_n)"
   ]
  },
  {
   "cell_type": "code",
   "execution_count": 9,
   "metadata": {},
   "outputs": [],
   "source": [
    "df = pd.read_json(INPUT_PATH, lines=True)\n",
    "df = df.rename(columns={\"topic\": \"cluster\"}) "
   ]
  },
  {
   "cell_type": "code",
   "execution_count": 10,
   "metadata": {},
   "outputs": [],
   "source": [
    "def run_classification(df):\n",
    "    for cluster_id in df.cluster.unique():\n",
    "        df_cl = df[df.cluster == cluster_id]\n",
    "        n = calculate_n(df_cl)\n",
    "        df_samp = df_cl.sample(n=n, random_state=42)\n",
    "\n",
    "        topic_data = {\n",
    "            \"topic\": int(cluster_id),\n",
    "            \"samples\": []\n",
    "        }\n",
    "\n",
    "        for idx, row in df_samp.iterrows():\n",
    "            prompt = PROMPT_TEMPLATE.format(text=row[\"text\"])\n",
    "\n",
    "            try:\n",
    "                response = openai.ChatCompletion.create(\n",
    "                    model=\"gpt-3.5-turbo\",\n",
    "                    messages=[\n",
    "                        {\"role\": \"system\", \"content\": \"You are a helpful assistant.\"},\n",
    "                        {\"role\": \"user\", \"content\": prompt}\n",
    "                    ],\n",
    "                    temperature=0.0,\n",
    "                    max_tokens=50\n",
    "                )\n",
    "                label = response[\"choices\"][0][\"message\"][\"content\"].strip()\n",
    "            except Exception as e:\n",
    "                label = f\"ERROR: {str(e)}\"\n",
    "\n",
    "            topic_data[\"samples\"].append({\n",
    "                \"seq\": row[\"seq\"],\n",
    "                \"cid\": row.get(\"cid\"),\n",
    "                \"text\": row[\"text\"],\n",
    "                \"gpt_label\": label\n",
    "            })\n",
    "\n",
    "            if idx % 5 == 0:\n",
    "                print(f\"[Cluster {cluster_id}] Processed {idx + 1}/{n} samples\")\n",
    "\n",
    "        topic_dir = OUTPUT_DIR\n",
    "        topic_dir.mkdir(parents=True, exist_ok=True)\n",
    "        topic_file = topic_dir / f\"topic_{str(cluster_id).zfill(4)}.json\"\n",
    "        with open(topic_file, \"w\") as f:\n",
    "            json.dump(topic_data, f, indent=2)"
   ]
  },
  {
   "cell_type": "code",
   "execution_count": 12,
   "metadata": {},
   "outputs": [
    {
     "name": "stdout",
     "output_type": "stream",
     "text": [
      "Total unique topics: 98\n",
      "[0, 1, 2, 3, 4, 5, 6, 7, 8, 9]\n"
     ]
    }
   ],
   "source": [
    "#Run \n",
    "\n",
    "run_classification(df)\n",
    "\n"
   ]
  },
  {
   "cell_type": "code",
   "execution_count": null,
   "metadata": {},
   "outputs": [],
   "source": []
  }
 ],
 "metadata": {
  "kernelspec": {
   "display_name": "Python 3",
   "language": "python",
   "name": "python3"
  },
  "language_info": {
   "codemirror_mode": {
    "name": "ipython",
    "version": 3
   },
   "file_extension": ".py",
   "mimetype": "text/x-python",
   "name": "python",
   "nbconvert_exporter": "python",
   "pygments_lexer": "ipython3",
   "version": "3.9.6"
  },
  "orig_nbformat": 4,
  "vscode": {
   "interpreter": {
    "hash": "31f2aee4e71d21fbe5cf8b01ff0e069b9275f58929596ceb00d14d90e3e16cd6"
   }
  }
 },
 "nbformat": 4,
 "nbformat_minor": 2
}
