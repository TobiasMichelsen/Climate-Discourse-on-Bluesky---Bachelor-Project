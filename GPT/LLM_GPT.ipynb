{
 "cells": [
  {
   "attachments": {},
   "cell_type": "markdown",
   "metadata": {},
   "source": [
    "## Objectives:\n",
    "1. Take input (clusters)\n",
    "\n",
    "2. Remove noisey clusters (outliers, spam: weather reports, amazon, etc.)\n",
    "\n",
    "3. Randomly sample 100 text entries from relevant cluster(s)\n",
    "\n",
    "4. Run through GPT classification prompt. \n",
    "\n",
    "5. Store outputs\n",
    "\n",
    "6. Analyze label distributions"
   ]
  },
  {
   "cell_type": "code",
   "execution_count": 8,
   "metadata": {},
   "outputs": [
    {
     "ename": "SyntaxError",
     "evalue": "invalid syntax (3219844315.py, line 1)",
     "output_type": "error",
     "traceback": [
      "\u001b[0;36m  Cell \u001b[0;32mIn[8], line 1\u001b[0;36m\u001b[0m\n\u001b[0;31m    pip install openai -q\u001b[0m\n\u001b[0m        ^\u001b[0m\n\u001b[0;31mSyntaxError\u001b[0m\u001b[0;31m:\u001b[0m invalid syntax\n"
     ]
    }
   ],
   "source": [
    "pip install openai -q\n"
   ]
  },
  {
   "cell_type": "code",
   "execution_count": 9,
   "metadata": {},
   "outputs": [
    {
     "name": "stdout",
     "output_type": "stream",
     "text": [
      "\u001b[33mWARNING: You are using pip version 21.2.4; however, version 25.1 is available.\n",
      "You should consider upgrading via the '/Library/Developer/CommandLineTools/usr/bin/python3 -m pip install --upgrade pip' command.\u001b[0m\n",
      "Note: you may need to restart the kernel to use updated packages.\n"
     ]
    }
   ],
   "source": [
    "pip install python-dotenv -q"
   ]
  },
  {
   "cell_type": "code",
   "execution_count": 19,
   "metadata": {},
   "outputs": [],
   "source": [
    "# Imports\n",
    "import os\n",
    "import pandas as pd\n",
    "import openai\n",
    "import pandas as pd\n",
    "import time\n",
    "import pickle\n",
    "from dotenv import load_dotenv"
   ]
  },
  {
   "cell_type": "code",
   "execution_count": 20,
   "metadata": {},
   "outputs": [],
   "source": [
    "load_dotenv()\n",
    "openai.api_key = os.getenv(\"OPENAI_API_KEY\")"
   ]
  },
  {
   "cell_type": "code",
   "execution_count": 26,
   "metadata": {},
   "outputs": [],
   "source": [
    "# Input\n",
    "\n",
    "# Note: Current input uses clusters from Run1: 3 topics\n",
    "\n",
    "input_path = \"/Users/tobiasmichelsen/Bachelor_Project/DS_BachelorProject_PH/GPT/all_clusters.json\"\n",
    "\n",
    "df = pd.read_json(input_path,lines=True)\n",
    "df_cluster0 = df[df.topic==0]\n",
    "sampled_df = df_cluster0.sample(n=min(100, len(df_cluster0)), random_state=42).reset_index(drop=True)"
   ]
  },
  {
   "cell_type": "code",
   "execution_count": 27,
   "metadata": {},
   "outputs": [
    {
     "name": "stdout",
     "output_type": "stream",
     "text": [
      "           seq                                               text  topic\n",
      "0   7845056826  UN, Germany say tackling climate crisis is pat...      0\n",
      "1   7834751068  One of my favorite youtubers that I have watch...      0\n",
      "2   8164487717  There is no 'controversey' over efficiency sta...      0\n",
      "3   8051802123  Update on the bucket system. So far so good, j...      0\n",
      "4   8094293684  tumblr.comreblogfanfi... HazbinHotel Alastor H...      0\n",
      "..         ...                                                ...    ...\n",
      "95  8180397464  The US government is preparing executive order...      0\n",
      "96  7947942100  The UK exports tons of ferrous scrap because i...      0\n",
      "97  7959037306  The Greens are bringing bold ideas like Guaran...      0\n",
      "98  8066135003  detection could be unlocked across a range of ...      0\n",
      "99  8093921828  This morning we celebrated the opening of the ...      0\n",
      "\n",
      "[100 rows x 3 columns]\n"
     ]
    }
   ],
   "source": [
    "print(sampled_df)"
   ]
  },
  {
   "cell_type": "code",
   "execution_count": 30,
   "metadata": {},
   "outputs": [],
   "source": [
    "multi_label_prompt_template = \"\"\"\n",
    "You are a helpful assistant that classifies text into one or more climate-related categories.\n",
    "\n",
    "Use the examples below to guide your classification:\n",
    "\n",
    "- Activism: \"Thousands marched in the climate strike demanding government action.\", \"Youth-led campaigns are pressuring lawmakers to enact stronger climate policies.\", \"Environmental activists chained themselves to construction equipment to protest deforestation.\"\n",
    "- Agriculture: \"Crops are failing due to prolonged droughts intensified by climate change.\", \"Pollinators like bees are disappearing, threatening global food security.\", \"Rising temperatures are affecting livestock health and reducing dairy production on farms.\"\n",
    "- Disaster: \"Wildfires have devastated thousands of acres in California.\", \"Flooding from intense storms has displaced hundreds of families across the region.\", \"A powerful hurricane made landfall, causing widespread destruction and power outages.\"\n",
    "- Fossil: \"Oil prices continue to rise amid geopolitical tensions and supply constraints.\", \"New coal-fired power plants are being built despite international climate agreements.\", \"Natural gas usage has surged as countries transition away from coal and nuclear energy.\"\n",
    "- Lifestyle: \"People are embracing minimalist living to reduce their carbon footprint.\", \"Plant-based diets are gaining popularity for their environmental benefits.\", \"Air pollution is linked to rising asthma rates in urban areas.\"\n",
    "- Politics: \"The new administration reversed several environmental protections.\", \"Communities of color are disproportionately affected by environmental hazards.\", \"Lawmakers are debating a new bill aimed at cutting national carbon emissions by 2030.\"\n",
    "- Renewable: \"Government subsidies are making rooftop solar panels more accessible.\", \"Community wind projects are helping rural areas become energy independent.\", \"Drought conditions are affecting the electricity output of hydropower plants in Brazil.\"\n",
    "- Waste: \"Cities are expanding composting and recycling programs to reduce landfill use.\", \"Single-use plastics are being banned in several countries to combat environmental pollution.\", \"Innovative startups are turning food waste into sustainable packaging materials.\"\n",
    "- Weather: \"Global temperatures hit a new record high this year.\", \"An unprecedented heatwave swept across Europe, breaking temperature records.\", \"Heavy rainfall and flash floods have disrupted transportation in the region.\"\n",
    "\n",
    "If the text belongs to more than one category, list all relevant categories separated by commas.\n",
    "If the text does not fit any category above, assign a new category name.\n",
    "\n",
    "Classify the following text:\n",
    "\"{text}\"\n",
    "\n",
    "Response:\n",
    "\"\"\"\n",
    "\n",
    "\n"
   ]
  },
  {
   "cell_type": "code",
   "execution_count": 29,
   "metadata": {},
   "outputs": [],
   "source": [
    "def run_classification(df, prompt_template, label_type=\"multi\"):\n",
    "    results = []\n",
    "\n",
    "    for idx, row in df.iterrows():\n",
    "        text = row[\"text\"]\n",
    "        seq = row[\"seq\"]\n",
    "        prompt = prompt_template.format(text=text)\n",
    "\n",
    "        try:\n",
    "            response = openai.ChatCompletion.create(\n",
    "                model=\"gpt-3.5-turbo\",\n",
    "                messages=[\n",
    "                    {\"role\": \"system\", \"content\": \"You are a helpful assistant.\"},\n",
    "                    {\"role\": \"user\", \"content\": prompt}\n",
    "                ],\n",
    "                temperature=0.0,\n",
    "                max_tokens=50\n",
    "            )\n",
    "            label = response[\"choices\"][0][\"message\"][\"content\"].strip()\n",
    "\n",
    "        except Exception as e:\n",
    "            label = f\"ERROR: {str(e)}\"\n",
    "\n",
    "        results.append({\n",
    "            \"seq\": seq,\n",
    "            \"text\": text,\n",
    "            \"label_type\": label_type,\n",
    "            \"gpt_response\": label\n",
    "        })\n",
    "\n",
    "        if idx % 10 == 0:\n",
    "            print(f\"[{label_type}] Processed {idx+1} samples\")\n",
    "\n",
    "    return pd.DataFrame(results)"
   ]
  },
  {
   "cell_type": "code",
   "execution_count": null,
   "metadata": {},
   "outputs": [],
   "source": [
    "multi_df = run_classification(sampled_df, multi_label_prompt_template, label_type=\"multi\")\n",
    "#single_df = run_classification(sampled_df, single_label_prompt_template, label_type=\"single\")\n",
    "\n",
    "# Save results\n",
    "multi_df.to_csv(\"/Users/tobiasmichelsen/Bachelor_Project/DS_BachelorProject_PH/GPT/artifacts/gpt_cluster0_multilabel.csv\", index=False)\n",
    "#single_df.to_csv(\"gpt_cluster0_singlelabel.csv\", index=False)\n"
   ]
  }
 ],
 "metadata": {
  "kernelspec": {
   "display_name": "Python 3",
   "language": "python",
   "name": "python3"
  },
  "language_info": {
   "codemirror_mode": {
    "name": "ipython",
    "version": 3
   },
   "file_extension": ".py",
   "mimetype": "text/x-python",
   "name": "python",
   "nbconvert_exporter": "python",
   "pygments_lexer": "ipython3",
   "version": "3.9.6"
  },
  "orig_nbformat": 4,
  "vscode": {
   "interpreter": {
    "hash": "31f2aee4e71d21fbe5cf8b01ff0e069b9275f58929596ceb00d14d90e3e16cd6"
   }
  }
 },
 "nbformat": 4,
 "nbformat_minor": 2
}
