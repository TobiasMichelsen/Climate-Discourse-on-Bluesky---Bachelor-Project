{
 "cells": [
  {
   "cell_type": "code",
   "execution_count": 25,
   "metadata": {},
   "outputs": [
    {
     "name": "stdout",
     "output_type": "stream",
     "text": [
      "Defaulting to user installation because normal site-packages is not writeable\n",
      "Requirement already satisfied: openai in /Users/tobiasmichelsen/Library/Python/3.9/lib/python/site-packages (1.78.0)\n",
      "Requirement already satisfied: anyio<5,>=3.5.0 in /Users/tobiasmichelsen/Library/Python/3.9/lib/python/site-packages (from openai) (4.8.0)\n",
      "Requirement already satisfied: httpx<1,>=0.23.0 in /Users/tobiasmichelsen/Library/Python/3.9/lib/python/site-packages (from openai) (0.27.2)\n",
      "Requirement already satisfied: typing-extensions<5,>=4.11 in /Users/tobiasmichelsen/Library/Python/3.9/lib/python/site-packages (from openai) (4.12.2)\n",
      "Requirement already satisfied: pydantic<3,>=1.9.0 in /Users/tobiasmichelsen/Library/Python/3.9/lib/python/site-packages (from openai) (2.10.6)\n",
      "Requirement already satisfied: distro<2,>=1.7.0 in /Users/tobiasmichelsen/Library/Python/3.9/lib/python/site-packages (from openai) (1.9.0)\n",
      "Requirement already satisfied: tqdm>4 in /Users/tobiasmichelsen/Library/Python/3.9/lib/python/site-packages (from openai) (4.67.1)\n",
      "Requirement already satisfied: sniffio in /Users/tobiasmichelsen/Library/Python/3.9/lib/python/site-packages (from openai) (1.3.1)\n",
      "Requirement already satisfied: jiter<1,>=0.4.0 in /Users/tobiasmichelsen/Library/Python/3.9/lib/python/site-packages (from openai) (0.9.0)\n",
      "Requirement already satisfied: exceptiongroup>=1.0.2 in /Users/tobiasmichelsen/Library/Python/3.9/lib/python/site-packages (from anyio<5,>=3.5.0->openai) (1.1.3)\n",
      "Requirement already satisfied: idna>=2.8 in /Users/tobiasmichelsen/Library/Python/3.9/lib/python/site-packages (from anyio<5,>=3.5.0->openai) (3.10)\n",
      "Requirement already satisfied: certifi in /Users/tobiasmichelsen/Library/Python/3.9/lib/python/site-packages (from httpx<1,>=0.23.0->openai) (2025.1.31)\n",
      "Requirement already satisfied: httpcore==1.* in /Users/tobiasmichelsen/Library/Python/3.9/lib/python/site-packages (from httpx<1,>=0.23.0->openai) (1.0.7)\n",
      "Requirement already satisfied: h11<0.15,>=0.13 in /Users/tobiasmichelsen/Library/Python/3.9/lib/python/site-packages (from httpcore==1.*->httpx<1,>=0.23.0->openai) (0.14.0)\n",
      "Requirement already satisfied: annotated-types>=0.6.0 in /Users/tobiasmichelsen/Library/Python/3.9/lib/python/site-packages (from pydantic<3,>=1.9.0->openai) (0.7.0)\n",
      "Requirement already satisfied: pydantic-core==2.27.2 in /Users/tobiasmichelsen/Library/Python/3.9/lib/python/site-packages (from pydantic<3,>=1.9.0->openai) (2.27.2)\n",
      "\u001b[33mWARNING: You are using pip version 21.2.4; however, version 25.1.1 is available.\n",
      "You should consider upgrading via the '/Library/Developer/CommandLineTools/usr/bin/python3 -m pip install --upgrade pip' command.\u001b[0m\n",
      "Note: you may need to restart the kernel to use updated packages.\n"
     ]
    }
   ],
   "source": [
    "pip install openai "
   ]
  },
  {
   "cell_type": "code",
   "execution_count": 31,
   "metadata": {},
   "outputs": [
    {
     "name": "stdout",
     "output_type": "stream",
     "text": [
      "\u001b[33mWARNING: You are using pip version 21.2.4; however, version 25.1.1 is available.\n",
      "You should consider upgrading via the '/Library/Developer/CommandLineTools/usr/bin/python3 -m pip install --upgrade pip' command.\u001b[0m\n",
      "Note: you may need to restart the kernel to use updated packages.\n"
     ]
    }
   ],
   "source": [
    "pip install python-dotenv -q"
   ]
  },
  {
   "cell_type": "code",
   "execution_count": 27,
   "metadata": {},
   "outputs": [
    {
     "name": "stdout",
     "output_type": "stream",
     "text": [
      "Name: openai\n",
      "Version: 1.78.0\n",
      "Summary: The official Python library for the openai API\n",
      "Home-page: \n",
      "Author: \n",
      "Author-email: OpenAI <support@openai.com>\n",
      "License: Apache-2.0\n",
      "Location: /Users/tobiasmichelsen/Library/Python/3.9/lib/python/site-packages\n",
      "Requires: typing-extensions, sniffio, distro, pydantic, anyio, tqdm, jiter, httpx\n",
      "Required-by: \n",
      "Note: you may need to restart the kernel to use updated packages.\n"
     ]
    }
   ],
   "source": [
    "pip show openai"
   ]
  },
  {
   "cell_type": "code",
   "execution_count": 28,
   "metadata": {},
   "outputs": [
    {
     "name": "stdout",
     "output_type": "stream",
     "text": [
      "Defaulting to user installation because normal site-packages is not writeable\n",
      "Requirement already satisfied: openai in /Users/tobiasmichelsen/Library/Python/3.9/lib/python/site-packages (1.78.0)\n",
      "Requirement already satisfied: typing-extensions<5,>=4.11 in /Users/tobiasmichelsen/Library/Python/3.9/lib/python/site-packages (from openai) (4.12.2)\n",
      "Requirement already satisfied: distro<2,>=1.7.0 in /Users/tobiasmichelsen/Library/Python/3.9/lib/python/site-packages (from openai) (1.9.0)\n",
      "Requirement already satisfied: pydantic<3,>=1.9.0 in /Users/tobiasmichelsen/Library/Python/3.9/lib/python/site-packages (from openai) (2.10.6)\n",
      "Requirement already satisfied: jiter<1,>=0.4.0 in /Users/tobiasmichelsen/Library/Python/3.9/lib/python/site-packages (from openai) (0.9.0)\n",
      "Requirement already satisfied: tqdm>4 in /Users/tobiasmichelsen/Library/Python/3.9/lib/python/site-packages (from openai) (4.67.1)\n",
      "Requirement already satisfied: httpx<1,>=0.23.0 in /Users/tobiasmichelsen/Library/Python/3.9/lib/python/site-packages (from openai) (0.27.2)\n",
      "Requirement already satisfied: sniffio in /Users/tobiasmichelsen/Library/Python/3.9/lib/python/site-packages (from openai) (1.3.1)\n",
      "Requirement already satisfied: anyio<5,>=3.5.0 in /Users/tobiasmichelsen/Library/Python/3.9/lib/python/site-packages (from openai) (4.8.0)\n",
      "Requirement already satisfied: idna>=2.8 in /Users/tobiasmichelsen/Library/Python/3.9/lib/python/site-packages (from anyio<5,>=3.5.0->openai) (3.10)\n",
      "Requirement already satisfied: exceptiongroup>=1.0.2 in /Users/tobiasmichelsen/Library/Python/3.9/lib/python/site-packages (from anyio<5,>=3.5.0->openai) (1.1.3)\n",
      "Requirement already satisfied: certifi in /Users/tobiasmichelsen/Library/Python/3.9/lib/python/site-packages (from httpx<1,>=0.23.0->openai) (2025.1.31)\n",
      "Requirement already satisfied: httpcore==1.* in /Users/tobiasmichelsen/Library/Python/3.9/lib/python/site-packages (from httpx<1,>=0.23.0->openai) (1.0.7)\n",
      "Requirement already satisfied: h11<0.15,>=0.13 in /Users/tobiasmichelsen/Library/Python/3.9/lib/python/site-packages (from httpcore==1.*->httpx<1,>=0.23.0->openai) (0.14.0)\n",
      "Requirement already satisfied: annotated-types>=0.6.0 in /Users/tobiasmichelsen/Library/Python/3.9/lib/python/site-packages (from pydantic<3,>=1.9.0->openai) (0.7.0)\n",
      "Requirement already satisfied: pydantic-core==2.27.2 in /Users/tobiasmichelsen/Library/Python/3.9/lib/python/site-packages (from pydantic<3,>=1.9.0->openai) (2.27.2)\n",
      "\u001b[33mWARNING: You are using pip version 21.2.4; however, version 25.1.1 is available.\n",
      "You should consider upgrading via the '/Library/Developer/CommandLineTools/usr/bin/python3 -m pip install --upgrade pip' command.\u001b[0m\n",
      "Note: you may need to restart the kernel to use updated packages.\n"
     ]
    }
   ],
   "source": [
    "pip install --upgrade openai"
   ]
  },
  {
   "cell_type": "code",
   "execution_count": 33,
   "metadata": {},
   "outputs": [
    {
     "ename": "ImportError",
     "evalue": "cannot import name 'OpenAI' from 'openai' (/Users/tobiasmichelsen/Library/Python/3.9/lib/python/site-packages/openai/__init__.py)",
     "output_type": "error",
     "traceback": [
      "\u001b[0;31m---------------------------------------------------------------------------\u001b[0m",
      "\u001b[0;31mImportError\u001b[0m                               Traceback (most recent call last)",
      "Cell \u001b[0;32mIn[33], line 4\u001b[0m\n\u001b[1;32m      2\u001b[0m \u001b[39mimport\u001b[39;00m \u001b[39mjson\u001b[39;00m\n\u001b[1;32m      3\u001b[0m \u001b[39mimport\u001b[39;00m \u001b[39mpandas\u001b[39;00m \u001b[39mas\u001b[39;00m \u001b[39mpd\u001b[39;00m\n\u001b[0;32m----> 4\u001b[0m \u001b[39mfrom\u001b[39;00m \u001b[39mopenai\u001b[39;00m \u001b[39mimport\u001b[39;00m OpenAI\n\u001b[1;32m      5\u001b[0m \u001b[39mimport\u001b[39;00m \u001b[39mtime\u001b[39;00m\n\u001b[1;32m      6\u001b[0m \u001b[39mfrom\u001b[39;00m \u001b[39mdotenv\u001b[39;00m \u001b[39mimport\u001b[39;00m load_dotenv\n",
      "\u001b[0;31mImportError\u001b[0m: cannot import name 'OpenAI' from 'openai' (/Users/tobiasmichelsen/Library/Python/3.9/lib/python/site-packages/openai/__init__.py)"
     ]
    }
   ],
   "source": [
    "import os\n",
    "import json\n",
    "import pandas as pd\n",
    "from openai import OpenAI\n",
    "import time\n",
    "from dotenv import load_dotenv\n",
    "from pathlib import Path"
   ]
  },
  {
   "cell_type": "code",
   "execution_count": 32,
   "metadata": {},
   "outputs": [
    {
     "ename": "NameError",
     "evalue": "name 'load_dotenv' is not defined",
     "output_type": "error",
     "traceback": [
      "\u001b[0;31m---------------------------------------------------------------------------\u001b[0m",
      "\u001b[0;31mNameError\u001b[0m                                 Traceback (most recent call last)",
      "Cell \u001b[0;32mIn[32], line 1\u001b[0m\n\u001b[0;32m----> 1\u001b[0m load_dotenv()\n\u001b[1;32m      2\u001b[0m client \u001b[39m=\u001b[39m OpenAI()\n",
      "\u001b[0;31mNameError\u001b[0m: name 'load_dotenv' is not defined"
     ]
    }
   ],
   "source": [
    "load_dotenv()\n",
    "client = OpenAI()"
   ]
  },
  {
   "cell_type": "code",
   "execution_count": null,
   "metadata": {},
   "outputs": [],
   "source": []
  },
  {
   "cell_type": "code",
   "execution_count": 7,
   "metadata": {},
   "outputs": [
    {
     "ename": "NameError",
     "evalue": "name 'Path' is not defined",
     "output_type": "error",
     "traceback": [
      "\u001b[0;31m---------------------------------------------------------------------------\u001b[0m",
      "\u001b[0;31mNameError\u001b[0m                                 Traceback (most recent call last)",
      "Cell \u001b[0;32mIn[7], line 2\u001b[0m\n\u001b[1;32m      1\u001b[0m INPUT_PATH \u001b[39m=\u001b[39m \u001b[39m\"\u001b[39m\u001b[39m/Users/tobiasmichelsen/Bachelor_Project/DS_BachelorProject_PH/data/BERTopicResult/BERTopic_final_result.json\u001b[39m\u001b[39m\"\u001b[39m\n\u001b[0;32m----> 2\u001b[0m OUTPUT_DIR \u001b[39m=\u001b[39m Path(\u001b[39m\"\u001b[39m\u001b[39m/Users/tobiasmichelsen/Bachelor_Project/DS_BachelorProject_PH/data/llm_subtopic/multi_label/\u001b[39m\u001b[39m\"\u001b[39m) \u001b[39m#Change for run\u001b[39;00m\n",
      "\u001b[0;31mNameError\u001b[0m: name 'Path' is not defined"
     ]
    }
   ],
   "source": [
    "INPUT_PATH = \"/Users/tobiasmichelsen/Bachelor_Project/DS_BachelorProject_PH/data/BERTopicResult/BERTopic_final_result.json\"\n",
    "OUTPUT_DIR = Path(\"/Users/tobiasmichelsen/Bachelor_Project/DS_BachelorProject_PH/data/llm_subtopic/multi_label/\") #Change for run"
   ]
  },
  {
   "cell_type": "code",
   "execution_count": 8,
   "metadata": {},
   "outputs": [],
   "source": [
    "PROMPT_TEMPLATE_MULTI = \"\"\"\n",
    "You are a helpful assistant that classifies text into one or more climate-related categories.\n",
    "\n",
    "Use the examples below to guide your classification:\n",
    "\n",
    "- Activism: \"Thousands marched in the climate strike demanding government action.\", \"Youth-led campaigns are pressuring lawmakers to enact stronger climate policies.\", \"Environmental activists chained themselves to construction equipment to protest deforestation.\"\n",
    "- Agriculture: \"Crops are failing due to prolonged droughts intensified by climate change.\", \"Pollinators like bees are disappearing, threatening global food security.\", \"Rising temperatures are affecting livestock health and reducing dairy production on farms.\"\n",
    "- Disaster: \"Wildfires have devastated thousands of acres in California.\", \"Flooding from intense storms has displaced hundreds of families across the region.\", \"A powerful hurricane made landfall, causing widespread destruction and power outages.\"\n",
    "- Fossil: \"Oil prices continue to rise amid geopolitical tensions and supply constraints.\", \"New coal-fired power plants are being built despite international climate agreements.\", \"Natural gas usage has surged as countries transition away from coal and nuclear energy.\"\n",
    "- Lifestyle: \"People are embracing minimalist living to reduce their carbon footprint.\", \"Plant-based diets are gaining popularity for their environmental benefits.\", \"Air pollution is linked to rising asthma rates in urban areas.\"\n",
    "- Politics: \"The new administration reversed several environmental protections.\", \"Communities of color are disproportionately affected by environmental hazards.\", \"Lawmakers are debating a new bill aimed at cutting national carbon emissions by 2030.\"\n",
    "- Renewable: \"Government subsidies are making rooftop solar panels more accessible.\", \"Community wind projects are helping rural areas become energy independent.\", \"Drought conditions are affecting the electricity output of hydropower plants in Brazil.\"\n",
    "- Waste: \"Cities are expanding composting and recycling programs to reduce landfill use.\", \"Single-use plastics are being banned in several countries to combat environmental pollution.\", \"Innovative startups are turning food waste into sustainable packaging materials.\"\n",
    "- Weather: \"Global temperatures hit a new record high this year.\", \"An unprecedented heatwave swept across Europe, breaking temperature records.\", \"Heavy rainfall and flash floods have disrupted transportation in the region.\"\n",
    "- Nature: \"Biodiversity is very important for a healthy ecosystem and we should be looking after wildlife.\", \"Mass extinction of plants and animals is a real danger we have to consider\", \"Trees are magnificent creatures and I believe are a key element in combating climate change.\"\n",
    "- Nuclear: \"Nuclear energy is key for our future as we transition to low-carbon power sources.\", \"Debates continue over the safety and waste management of nuclear power plants.\", \"Several countries are investing in next-generation nuclear reactors to meet climate goals.\"\n",
    "- Electricity: \"Electricity demand is expected to surge with the rise of electric vehicles and heat pumps.\", \"Power outages are becoming more frequent due to aging electrical grids and extreme weather.\", \"Renewables now supply a growing share of global electricity production.\"\n",
    "- Construction: \"Green construction practices are reducing the carbon footprint of new buildings.\", \"Urban expansion is driving increased demand for sustainable construction materials.\", \"The construction industry faces pressure to cut emissions and improve energy efficiency.\"\n",
    "- Transportation: \"Public transportation systems are expanding to reduce urban congestion and pollution.\", \"Electric vehicles are transforming the future of transportation infrastructure.\", \"Transportation remains a major source of greenhouse gas emissions globally.\"\n",
    "\n",
    "\n",
    "If the text belongs to more than one category, list all relevant categories. If the text does not fit any category above, assign a new category name.\n",
    "\n",
    "Classify the following text:\n",
    "\"{text}\"\n",
    "\n",
    "Respond with one or more category names only, separated by commas. Do not include quotation marks or explanations.\n",
    "\"\"\""
   ]
  },
  {
   "cell_type": "code",
   "execution_count": 9,
   "metadata": {},
   "outputs": [],
   "source": [
    "PROMPT_TEMPLATE_SINGLE = \"\"\"\n",
    "You are a helpful assistant that classifies text into exactly one climate-related categories.\n",
    "\n",
    "Use the examples below to guide your classification:\n",
    "\n",
    "- Activism: \"Thousands marched in the climate strike demanding government action.\", \"Youth-led campaigns are pressuring lawmakers to enact stronger climate policies.\", \"Environmental activists chained themselves to construction equipment to protest deforestation.\"\n",
    "- Agriculture: \"Crops are failing due to prolonged droughts intensified by climate change.\", \"Pollinators like bees are disappearing, threatening global food security.\", \"Rising temperatures are affecting livestock health and reducing dairy production on farms.\"\n",
    "- Disaster: \"Wildfires have devastated thousands of acres in California.\", \"Flooding from intense storms has displaced hundreds of families across the region.\", \"A powerful hurricane made landfall, causing widespread destruction and power outages.\"\n",
    "- Fossil: \"Oil prices continue to rise amid geopolitical tensions and supply constraints.\", \"New coal-fired power plants are being built despite international climate agreements.\", \"Natural gas usage has surged as countries transition away from coal and nuclear energy.\"\n",
    "- Lifestyle: \"People are embracing minimalist living to reduce their carbon footprint.\", \"Plant-based diets are gaining popularity for their environmental benefits.\", \"Air pollution is linked to rising asthma rates in urban areas.\"\n",
    "- Politics: \"The new administration reversed several environmental protections.\", \"Communities of color are disproportionately affected by environmental hazards.\", \"Lawmakers are debating a new bill aimed at cutting national carbon emissions by 2030.\"\n",
    "- Renewable: \"Government subsidies are making rooftop solar panels more accessible.\", \"Community wind projects are helping rural areas become energy independent.\", \"Drought conditions are affecting the electricity output of hydropower plants in Brazil.\"\n",
    "- Waste: \"Cities are expanding composting and recycling programs to reduce landfill use.\", \"Single-use plastics are being banned in several countries to combat environmental pollution.\", \"Innovative startups are turning food waste into sustainable packaging materials.\"\n",
    "- Weather: \"Global temperatures hit a new record high this year.\", \"An unprecedented heatwave swept across Europe, breaking temperature records.\", \"Heavy rainfall and flash floods have disrupted transportation in the region.\"\n",
    "- Nature: \"Biodiversity is very important for a healthy ecosystem and we should be looking after wildlife.\", \"Mass extinction of plants and animals is a real danger we have to consider\", \"Trees are magnificent creatures and I believe are a key element in combating climate change.\"\n",
    "- Nuclear: \"Nuclear energy is key for our future as we transition to low-carbon power sources.\", \"Debates continue over the safety and waste management of nuclear power plants.\", \"Several countries are investing in next-generation nuclear reactors to meet climate goals.\"\n",
    "- Electricity: \"Electricity demand is expected to surge with the rise of electric vehicles and heat pumps.\", \"Power outages are becoming more frequent due to aging electrical grids and extreme weather.\", \"Renewables now supply a growing share of global electricity production.\"\n",
    "- Construction: \"Green construction practices are reducing the carbon footprint of new buildings.\", \"Urban expansion is driving increased demand for sustainable construction materials.\", \"The construction industry faces pressure to cut emissions and improve energy efficiency.\"\n",
    "- Transportation: \"Public transportation systems are expanding to reduce urban congestion and pollution.\", \"Electric vehicles are transforming the future of transportation infrastructure.\", \"Transportation remains a major source of greenhouse gas emissions globally.\"\n",
    "\n",
    "\n",
    "If the text does not fit any category above, assign a new category name.\n",
    "\n",
    "Classify the following text:\n",
    "\"{text}\"\n",
    "\n",
    "Respond with only the category name. Do not include quotation marks or explanations.\n",
    "\"\"\""
   ]
  },
  {
   "cell_type": "code",
   "execution_count": 10,
   "metadata": {},
   "outputs": [
    {
     "name": "stdout",
     "output_type": "stream",
     "text": [
      "26\n",
      "58\n",
      "70\n",
      "135\n",
      "156\n",
      "278\n",
      "370\n"
     ]
    }
   ],
   "source": [
    "def calculate_n(N, max_n=300):\n",
    "    # Adjust Z and E based on N\n",
    "    if N < 200:\n",
    "        Z = 1.64  # Lower confidence level (90%)\n",
    "        E = 0.15  # Larger margin of error\n",
    "    elif N < 500:\n",
    "        Z = 1.81\n",
    "        E = 0.1\n",
    "    elif N < 1000:\n",
    "        Z = 1.90\n",
    "        E = 0.07\n",
    "    else:\n",
    "        Z = 1.96\n",
    "        E = 0.05\n",
    "    p = 0.5  # Most conservative\n",
    "    \n",
    "    n = round((N * Z**2 * p * (1 - p)) / ((E**2 * (N - 1)) + (Z**2 * p * (1 - p))))\n",
    "    return min(n, max_n)\n",
    "\n",
    "print(calculate_n(199, max_n=500))\n",
    "print(calculate_n(200, max_n=500))\n",
    "print(calculate_n(499, max_n=500))\n",
    "print(calculate_n(500, max_n=500))\n",
    "print(calculate_n(999, max_n=500))\n",
    "print(calculate_n(1000, max_n=500))\n",
    "print(calculate_n(10000, max_n=500))"
   ]
  },
  {
   "cell_type": "code",
   "execution_count": 11,
   "metadata": {},
   "outputs": [],
   "source": [
    "df = pd.read_json(INPUT_PATH, lines=True)\n",
    "df = df.rename(columns={\"topic\": \"cluster\"}) "
   ]
  },
  {
   "cell_type": "code",
   "execution_count": 12,
   "metadata": {},
   "outputs": [],
   "source": [
    "def run_classification(df):\n",
    "    for cluster_id in df.cluster.unique():\n",
    "        df_cl = df[df.cluster == cluster_id]\n",
    "        n = calculate_n(df_cl)\n",
    "        df_samp = df_cl.sample(n=n, random_state=42)\n",
    "\n",
    "        topic_data = {\n",
    "            \"topic\": int(cluster_id),\n",
    "            \"samples\": []\n",
    "        }\n",
    "\n",
    "        for idx, row in df_samp.reset_index(drop=True).iterrows():\n",
    "            prompt = PROMPT_TEMPLATE_MULTI.format(text=row[\"text\"])\n",
    "\n",
    "            try:\n",
    "                response = client.chat.completions.create(\n",
    "                    model=\"gpt-3.5-turbo\",\n",
    "                    messages=[\n",
    "                        {\"role\": \"system\", \"content\": \"You are a helpful assistant.\"},\n",
    "                        {\"role\": \"user\", \"content\": prompt}\n",
    "                    ],\n",
    "                    temperature=0.0,\n",
    "                    max_tokens=50\n",
    "                )\n",
    "                label = response.choices[0].message.content.strip()\n",
    "            except Exception as e:\n",
    "                label = f\"ERROR: {str(e)}\"\n",
    "\n",
    "            topic_data[\"samples\"].append({\n",
    "                \"cid\": row.get(\"cid\"),\n",
    "                \"text\": row[\"text\"],\n",
    "                \"gpt_label\": label\n",
    "            })\n",
    "\n",
    "            if idx % 5 == 0:\n",
    "                print(f\"[Cluster {cluster_id}] Processed {idx + 1}/{n} samples\")\n",
    "\n",
    "        topic_dir = OUTPUT_DIR\n",
    "        topic_dir.mkdir(parents=True, exist_ok=True)\n",
    "        topic_file = topic_dir / f\"topic_{str(cluster_id).zfill(4)}.json\"\n",
    "        with open(topic_file, \"w\") as f:\n",
    "            json.dump(topic_data, f, indent=2)"
   ]
  },
  {
   "cell_type": "code",
   "execution_count": 13,
   "metadata": {},
   "outputs": [
    {
     "ename": "TypeError",
     "evalue": "'<' not supported between instances of 'str' and 'int'",
     "output_type": "error",
     "traceback": [
      "\u001b[0;31m---------------------------------------------------------------------------\u001b[0m",
      "\u001b[0;31mTypeError\u001b[0m                                 Traceback (most recent call last)",
      "Cell \u001b[0;32mIn[13], line 3\u001b[0m\n\u001b[1;32m      1\u001b[0m \u001b[39m#Run \u001b[39;00m\n\u001b[0;32m----> 3\u001b[0m run_classification(df)\n",
      "Cell \u001b[0;32mIn[12], line 4\u001b[0m, in \u001b[0;36mrun_classification\u001b[0;34m(df)\u001b[0m\n\u001b[1;32m      2\u001b[0m \u001b[39mfor\u001b[39;00m cluster_id \u001b[39min\u001b[39;00m df\u001b[39m.\u001b[39mcluster\u001b[39m.\u001b[39munique():\n\u001b[1;32m      3\u001b[0m     df_cl \u001b[39m=\u001b[39m df[df\u001b[39m.\u001b[39mcluster \u001b[39m==\u001b[39m cluster_id]\n\u001b[0;32m----> 4\u001b[0m     n \u001b[39m=\u001b[39m calculate_n(df_cl)\n\u001b[1;32m      5\u001b[0m     df_samp \u001b[39m=\u001b[39m df_cl\u001b[39m.\u001b[39msample(n\u001b[39m=\u001b[39mn, random_state\u001b[39m=\u001b[39m\u001b[39m42\u001b[39m)\n\u001b[1;32m      7\u001b[0m     topic_data \u001b[39m=\u001b[39m {\n\u001b[1;32m      8\u001b[0m         \u001b[39m\"\u001b[39m\u001b[39mtopic\u001b[39m\u001b[39m\"\u001b[39m: \u001b[39mint\u001b[39m(cluster_id),\n\u001b[1;32m      9\u001b[0m         \u001b[39m\"\u001b[39m\u001b[39msamples\u001b[39m\u001b[39m\"\u001b[39m: []\n\u001b[1;32m     10\u001b[0m     }\n",
      "Cell \u001b[0;32mIn[10], line 3\u001b[0m, in \u001b[0;36mcalculate_n\u001b[0;34m(N, max_n)\u001b[0m\n\u001b[1;32m      1\u001b[0m \u001b[39mdef\u001b[39;00m \u001b[39mcalculate_n\u001b[39m(N, max_n\u001b[39m=\u001b[39m\u001b[39m300\u001b[39m):\n\u001b[1;32m      2\u001b[0m     \u001b[39m# Adjust Z and E based on N\u001b[39;00m\n\u001b[0;32m----> 3\u001b[0m     \u001b[39mif\u001b[39;00m N \u001b[39m<\u001b[39;49m \u001b[39m200\u001b[39;49m:\n\u001b[1;32m      4\u001b[0m         Z \u001b[39m=\u001b[39m \u001b[39m1.64\u001b[39m  \u001b[39m# Lower confidence level (90%)\u001b[39;00m\n\u001b[1;32m      5\u001b[0m         E \u001b[39m=\u001b[39m \u001b[39m0.15\u001b[39m  \u001b[39m# Larger margin of error\u001b[39;00m\n",
      "File \u001b[0;32m~/Library/Python/3.9/lib/python/site-packages/pandas/core/ops/common.py:76\u001b[0m, in \u001b[0;36m_unpack_zerodim_and_defer.<locals>.new_method\u001b[0;34m(self, other)\u001b[0m\n\u001b[1;32m     72\u001b[0m             \u001b[39mreturn\u001b[39;00m \u001b[39mNotImplemented\u001b[39m\n\u001b[1;32m     74\u001b[0m other \u001b[39m=\u001b[39m item_from_zerodim(other)\n\u001b[0;32m---> 76\u001b[0m \u001b[39mreturn\u001b[39;00m method(\u001b[39mself\u001b[39;49m, other)\n",
      "File \u001b[0;32m~/Library/Python/3.9/lib/python/site-packages/pandas/core/arraylike.py:48\u001b[0m, in \u001b[0;36mOpsMixin.__lt__\u001b[0;34m(self, other)\u001b[0m\n\u001b[1;32m     46\u001b[0m \u001b[39m@unpack_zerodim_and_defer\u001b[39m(\u001b[39m\"\u001b[39m\u001b[39m__lt__\u001b[39m\u001b[39m\"\u001b[39m)\n\u001b[1;32m     47\u001b[0m \u001b[39mdef\u001b[39;00m \u001b[39m__lt__\u001b[39m(\u001b[39mself\u001b[39m, other):\n\u001b[0;32m---> 48\u001b[0m     \u001b[39mreturn\u001b[39;00m \u001b[39mself\u001b[39;49m\u001b[39m.\u001b[39;49m_cmp_method(other, operator\u001b[39m.\u001b[39;49mlt)\n",
      "File \u001b[0;32m~/Library/Python/3.9/lib/python/site-packages/pandas/core/frame.py:7900\u001b[0m, in \u001b[0;36mDataFrame._cmp_method\u001b[0;34m(self, other, op)\u001b[0m\n\u001b[1;32m   7897\u001b[0m \u001b[39mself\u001b[39m, other \u001b[39m=\u001b[39m \u001b[39mself\u001b[39m\u001b[39m.\u001b[39m_align_for_op(other, axis, flex\u001b[39m=\u001b[39m\u001b[39mFalse\u001b[39;00m, level\u001b[39m=\u001b[39m\u001b[39mNone\u001b[39;00m)\n\u001b[1;32m   7899\u001b[0m \u001b[39m# See GH#4537 for discussion of scalar op behavior\u001b[39;00m\n\u001b[0;32m-> 7900\u001b[0m new_data \u001b[39m=\u001b[39m \u001b[39mself\u001b[39;49m\u001b[39m.\u001b[39;49m_dispatch_frame_op(other, op, axis\u001b[39m=\u001b[39;49maxis)\n\u001b[1;32m   7901\u001b[0m \u001b[39mreturn\u001b[39;00m \u001b[39mself\u001b[39m\u001b[39m.\u001b[39m_construct_result(new_data)\n",
      "File \u001b[0;32m~/Library/Python/3.9/lib/python/site-packages/pandas/core/frame.py:7945\u001b[0m, in \u001b[0;36mDataFrame._dispatch_frame_op\u001b[0;34m(self, right, func, axis)\u001b[0m\n\u001b[1;32m   7942\u001b[0m right \u001b[39m=\u001b[39m lib\u001b[39m.\u001b[39mitem_from_zerodim(right)\n\u001b[1;32m   7943\u001b[0m \u001b[39mif\u001b[39;00m \u001b[39mnot\u001b[39;00m is_list_like(right):\n\u001b[1;32m   7944\u001b[0m     \u001b[39m# i.e. scalar, faster than checking np.ndim(right) == 0\u001b[39;00m\n\u001b[0;32m-> 7945\u001b[0m     bm \u001b[39m=\u001b[39m \u001b[39mself\u001b[39;49m\u001b[39m.\u001b[39;49m_mgr\u001b[39m.\u001b[39;49mapply(array_op, right\u001b[39m=\u001b[39;49mright)\n\u001b[1;32m   7946\u001b[0m     \u001b[39mreturn\u001b[39;00m \u001b[39mself\u001b[39m\u001b[39m.\u001b[39m_constructor_from_mgr(bm, axes\u001b[39m=\u001b[39mbm\u001b[39m.\u001b[39maxes)\n\u001b[1;32m   7948\u001b[0m \u001b[39melif\u001b[39;00m \u001b[39misinstance\u001b[39m(right, DataFrame):\n",
      "File \u001b[0;32m~/Library/Python/3.9/lib/python/site-packages/pandas/core/internals/managers.py:361\u001b[0m, in \u001b[0;36mBaseBlockManager.apply\u001b[0;34m(self, f, align_keys, **kwargs)\u001b[0m\n\u001b[1;32m    358\u001b[0m             kwargs[k] \u001b[39m=\u001b[39m obj[b\u001b[39m.\u001b[39mmgr_locs\u001b[39m.\u001b[39mindexer]\n\u001b[1;32m    360\u001b[0m \u001b[39mif\u001b[39;00m \u001b[39mcallable\u001b[39m(f):\n\u001b[0;32m--> 361\u001b[0m     applied \u001b[39m=\u001b[39m b\u001b[39m.\u001b[39;49mapply(f, \u001b[39m*\u001b[39;49m\u001b[39m*\u001b[39;49mkwargs)\n\u001b[1;32m    362\u001b[0m \u001b[39melse\u001b[39;00m:\n\u001b[1;32m    363\u001b[0m     applied \u001b[39m=\u001b[39m \u001b[39mgetattr\u001b[39m(b, f)(\u001b[39m*\u001b[39m\u001b[39m*\u001b[39mkwargs)\n",
      "File \u001b[0;32m~/Library/Python/3.9/lib/python/site-packages/pandas/core/internals/blocks.py:393\u001b[0m, in \u001b[0;36mBlock.apply\u001b[0;34m(self, func, **kwargs)\u001b[0m\n\u001b[1;32m    387\u001b[0m \u001b[39m@final\u001b[39m\n\u001b[1;32m    388\u001b[0m \u001b[39mdef\u001b[39;00m \u001b[39mapply\u001b[39m(\u001b[39mself\u001b[39m, func, \u001b[39m*\u001b[39m\u001b[39m*\u001b[39mkwargs) \u001b[39m-\u001b[39m\u001b[39m>\u001b[39m \u001b[39mlist\u001b[39m[Block]:\n\u001b[1;32m    389\u001b[0m \u001b[39m    \u001b[39m\u001b[39m\"\"\"\u001b[39;00m\n\u001b[1;32m    390\u001b[0m \u001b[39m    apply the function to my values; return a block if we are not\u001b[39;00m\n\u001b[1;32m    391\u001b[0m \u001b[39m    one\u001b[39;00m\n\u001b[1;32m    392\u001b[0m \u001b[39m    \"\"\"\u001b[39;00m\n\u001b[0;32m--> 393\u001b[0m     result \u001b[39m=\u001b[39m func(\u001b[39mself\u001b[39;49m\u001b[39m.\u001b[39;49mvalues, \u001b[39m*\u001b[39;49m\u001b[39m*\u001b[39;49mkwargs)\n\u001b[1;32m    395\u001b[0m     result \u001b[39m=\u001b[39m maybe_coerce_values(result)\n\u001b[1;32m    396\u001b[0m     \u001b[39mreturn\u001b[39;00m \u001b[39mself\u001b[39m\u001b[39m.\u001b[39m_split_op_result(result)\n",
      "File \u001b[0;32m~/Library/Python/3.9/lib/python/site-packages/pandas/core/ops/array_ops.py:344\u001b[0m, in \u001b[0;36mcomparison_op\u001b[0;34m(left, right, op)\u001b[0m\n\u001b[1;32m    341\u001b[0m     \u001b[39mreturn\u001b[39;00m invalid_comparison(lvalues, rvalues, op)\n\u001b[1;32m    343\u001b[0m \u001b[39melif\u001b[39;00m lvalues\u001b[39m.\u001b[39mdtype \u001b[39m==\u001b[39m \u001b[39mobject\u001b[39m \u001b[39mor\u001b[39;00m \u001b[39misinstance\u001b[39m(rvalues, \u001b[39mstr\u001b[39m):\n\u001b[0;32m--> 344\u001b[0m     res_values \u001b[39m=\u001b[39m comp_method_OBJECT_ARRAY(op, lvalues, rvalues)\n\u001b[1;32m    346\u001b[0m \u001b[39melse\u001b[39;00m:\n\u001b[1;32m    347\u001b[0m     res_values \u001b[39m=\u001b[39m _na_arithmetic_op(lvalues, rvalues, op, is_cmp\u001b[39m=\u001b[39m\u001b[39mTrue\u001b[39;00m)\n",
      "File \u001b[0;32m~/Library/Python/3.9/lib/python/site-packages/pandas/core/ops/array_ops.py:129\u001b[0m, in \u001b[0;36mcomp_method_OBJECT_ARRAY\u001b[0;34m(op, x, y)\u001b[0m\n\u001b[1;32m    127\u001b[0m     result \u001b[39m=\u001b[39m libops\u001b[39m.\u001b[39mvec_compare(x\u001b[39m.\u001b[39mravel(), y\u001b[39m.\u001b[39mravel(), op)\n\u001b[1;32m    128\u001b[0m \u001b[39melse\u001b[39;00m:\n\u001b[0;32m--> 129\u001b[0m     result \u001b[39m=\u001b[39m libops\u001b[39m.\u001b[39;49mscalar_compare(x\u001b[39m.\u001b[39;49mravel(), y, op)\n\u001b[1;32m    130\u001b[0m \u001b[39mreturn\u001b[39;00m result\u001b[39m.\u001b[39mreshape(x\u001b[39m.\u001b[39mshape)\n",
      "File \u001b[0;32mops.pyx:107\u001b[0m, in \u001b[0;36mpandas._libs.ops.scalar_compare\u001b[0;34m()\u001b[0m\n",
      "\u001b[0;31mTypeError\u001b[0m: '<' not supported between instances of 'str' and 'int'"
     ]
    }
   ],
   "source": [
    "#Run \n",
    "\n",
    "run_classification(df)\n",
    "\n"
   ]
  },
  {
   "cell_type": "code",
   "execution_count": null,
   "metadata": {},
   "outputs": [],
   "source": []
  }
 ],
 "metadata": {
  "kernelspec": {
   "display_name": "Python 3",
   "language": "python",
   "name": "python3"
  },
  "language_info": {
   "codemirror_mode": {
    "name": "ipython",
    "version": 3
   },
   "file_extension": ".py",
   "mimetype": "text/x-python",
   "name": "python",
   "nbconvert_exporter": "python",
   "pygments_lexer": "ipython3",
   "version": "3.9.6"
  },
  "orig_nbformat": 4,
  "vscode": {
   "interpreter": {
    "hash": "31f2aee4e71d21fbe5cf8b01ff0e069b9275f58929596ceb00d14d90e3e16cd6"
   }
  }
 },
 "nbformat": 4,
 "nbformat_minor": 2
}
