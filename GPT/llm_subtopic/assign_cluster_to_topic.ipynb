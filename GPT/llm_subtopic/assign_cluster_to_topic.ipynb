{
 "cells": [
  {
   "cell_type": "code",
   "execution_count": 12,
   "metadata": {},
   "outputs": [
    {
     "name": "stdout",
     "output_type": "stream",
     "text": [
      "[multi_label] Wrote 780 samples to Politics_multi_label.json\n",
      "[multi_label] Wrote 100 samples to Fossil_multi_label.json\n",
      "[multi_label] Wrote 340 samples to Renewable_multi_label.json\n",
      "[multi_label] Wrote 40 samples to Transportation_multi_label.json\n",
      "[multi_label] Wrote 260 samples to Nature_multi_label.json\n",
      "[multi_label] Wrote 120 samples to Waste_multi_label.json\n",
      "[multi_label] Wrote 60 samples to Agriculture_multi_label.json\n",
      "[multi_label] Wrote 60 samples to Weather_multi_label.json\n",
      "[multi_label] Wrote 80 samples to Activism_multi_label.json\n",
      "[multi_label] Wrote 20 samples to Disaster_multi_label.json\n",
      "[multi_label] Wrote 40 samples to Construction_multi_label.json\n",
      "[multi_label] Wrote 60 samples to Lifestyle_multi_label.json\n",
      "[single_label] Wrote 740 samples to Politics_single_label.json\n",
      "[single_label] Wrote 140 samples to Fossil_single_label.json\n",
      "[single_label] Wrote 280 samples to Renewable_single_label.json\n",
      "[single_label] Wrote 40 samples to Transportation_single_label.json\n",
      "[single_label] Wrote 100 samples to Activism_single_label.json\n",
      "[single_label] Wrote 80 samples to Waste_single_label.json\n",
      "[single_label] Wrote 40 samples to Agriculture_single_label.json\n",
      "[single_label] Wrote 280 samples to Nature_single_label.json\n",
      "[single_label] Wrote 20 samples to Electricity_single_label.json\n",
      "[single_label] Wrote 80 samples to Weather_single_label.json\n",
      "[single_label] Wrote 40 samples to Disaster_single_label.json\n",
      "[single_label] Wrote 40 samples to Construction_single_label.json\n",
      "[single_label] Wrote 20 samples to Technology_single_label.json\n",
      "[single_label] Wrote 60 samples to Lifestyle_single_label.json\n"
     ]
    }
   ],
   "source": [
    "import os\n",
    "import json\n",
    "from pathlib import Path\n",
    "from collections import defaultdict\n",
    "import pandas as pd\n",
    "\n",
    "# --- Paths ---\n",
    "BASE_PATH = Path(\"/Users/tobiasmichelsen/Bachelor_Project/DS_BachelorProject_PH/data/llm_subtopic\")\n",
    "CSV_PATH = BASE_PATH / \"datasets\" / \"LLM_Clusters_Topic_Assignment.csv\"\n",
    "OUTPUT_PATH = BASE_PATH / \"combined_by_label\"\n",
    "OUTPUT_PATH.mkdir(parents=True, exist_ok=True)\n",
    "\n",
    "# --- Load assignment CSV ---\n",
    "df_final = pd.read_csv(CSV_PATH)\n",
    "\n",
    "# --- Group samples by (assigned_label, mode) ---\n",
    "label_to_samples = defaultdict(list)\n",
    "\n",
    "for _, row in df_final.iterrows():\n",
    "    file_name = row[\"file\"]\n",
    "    mode = row[\"mode\"]\n",
    "    assigned_label = row[\"assigned_label\"]\n",
    "\n",
    "    # Try both folders to locate the file\n",
    "    found = False\n",
    "    for folder in [\"single_label\", \"multi_label\"]:\n",
    "        file_path = BASE_PATH / folder / file_name\n",
    "        if file_path.exists():\n",
    "            with open(file_path, \"r\") as f:\n",
    "                data = json.load(f)\n",
    "                samples = data.get(\"samples\", [])\n",
    "                label_to_samples[(assigned_label, mode)].extend(samples)\n",
    "                found = True\n",
    "            break\n",
    "\n",
    "    if not found:\n",
    "        print(f\"[WARNING] File not found: {file_name} in either folder\")\n",
    "\n",
    "# --- Write output per (label, mode) ---\n",
    "for (label, mode), samples in label_to_samples.items():\n",
    "    label_clean = label.replace(\" \", \"_\")\n",
    "    out_file = OUTPUT_PATH / f\"{label_clean}_{mode}.json\"\n",
    "    with open(out_file, \"w\") as f:\n",
    "        json.dump(samples, f, indent=2)\n",
    "    print(f\"[{mode}] Wrote {len(samples)} samples to {out_file.name}\")\n"
   ]
  },
  {
   "cell_type": "code",
   "execution_count": null,
   "metadata": {},
   "outputs": [],
   "source": []
  }
 ],
 "metadata": {
  "kernelspec": {
   "display_name": "Python 3",
   "language": "python",
   "name": "python3"
  },
  "language_info": {
   "codemirror_mode": {
    "name": "ipython",
    "version": 3
   },
   "file_extension": ".py",
   "mimetype": "text/x-python",
   "name": "python",
   "nbconvert_exporter": "python",
   "pygments_lexer": "ipython3",
   "version": "3.9.6"
  },
  "orig_nbformat": 4,
  "vscode": {
   "interpreter": {
    "hash": "31f2aee4e71d21fbe5cf8b01ff0e069b9275f58929596ceb00d14d90e3e16cd6"
   }
  }
 },
 "nbformat": 4,
 "nbformat_minor": 2
}
