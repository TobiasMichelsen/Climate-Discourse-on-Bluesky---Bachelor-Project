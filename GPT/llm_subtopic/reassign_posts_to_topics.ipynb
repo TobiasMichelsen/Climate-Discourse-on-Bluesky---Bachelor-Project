{
 "cells": [
  {
   "attachments": {},
   "cell_type": "markdown",
   "metadata": {},
   "source": [
    "## Re-assign every post to topic:\n",
    "- We get the \"topic\" from the cluster ID assigned by BERTopic in BERTopic_final_result.json\n",
    "- We get the assigned_label for each topic based on the LLM \n"
   ]
  },
  {
   "cell_type": "code",
   "execution_count": 14,
   "metadata": {},
   "outputs": [
    {
     "name": "stdout",
     "output_type": "stream",
     "text": [
      "[single_label] Saved 90213 labeled posts to /Users/tobiasmichelsen/Bachelor_Project/DS_BachelorProject_PH/data/llm_subtopic/datasets/BERTopic_posts_with_labels_single_label.json\n",
      "[multi_label] Saved 90213 labeled posts to /Users/tobiasmichelsen/Bachelor_Project/DS_BachelorProject_PH/data/llm_subtopic/datasets/BERTopic_posts_with_labels_multi_label.json\n"
     ]
    }
   ],
   "source": [
    "import json\n",
    "import pandas as pd\n",
    "from pathlib import Path\n",
    "\n",
    "# --- Paths ---\n",
    "BASE_PATH = Path(\"/Users/tobiasmichelsen/Bachelor_Project/DS_BachelorProject_PH/data/llm_subtopic\")\n",
    "CSV_PATH = BASE_PATH / \"datasets\" / \"LLM_Clusters_Topic_Assignment.csv\"\n",
    "FINAL_JSON_PATH = \"/Users/tobiasmichelsen/Bachelor_Project/DS_BachelorProject_PH/data/BERTopicResult/BERTopic_final_result.json\"\n",
    "OUTPUT_SINGLE = BASE_PATH / \"datasets\" / \"BERTopic_posts_with_labels_single_label.json\"\n",
    "OUTPUT_MULTI = BASE_PATH / \"datasets\" / \"BERTopic_posts_with_labels_multi_label.json\"\n",
    "\n",
    "# --- Load cluster-to-label assignment ---\n",
    "df_map = pd.read_csv(CSV_PATH)\n",
    "\n",
    "# --- Load all original posts from BERTopic ---\n",
    "with open(FINAL_JSON_PATH, \"r\") as f:\n",
    "    all_posts = [json.loads(line) for line in f]\n",
    "\n",
    "# --- Function to process one mode ---\n",
    "def process_mode(mode, output_path):\n",
    "    topic_to_label = dict(zip(\n",
    "        df_map[df_map[\"mode\"] == mode][\"topic\"],\n",
    "        df_map[df_map[\"mode\"] == mode][\"assigned_label\"]\n",
    "    ))\n",
    "\n",
    "    enriched = []\n",
    "    missing = set()\n",
    "\n",
    "    for post in all_posts:\n",
    "        topic_id = post.get(\"topic\")\n",
    "        label = topic_to_label.get(topic_id)\n",
    "        if label:\n",
    "            post[\"assigned_label\"] = label\n",
    "            enriched.append(post)\n",
    "        else:\n",
    "            missing.add(topic_id)\n",
    "\n",
    "    df_labeled = pd.DataFrame(enriched)\n",
    "    df_labeled.to_json(output_path, orient=\"records\", indent=2)\n",
    "    print(f\"[{mode}] Saved {len(df_labeled)} labeled posts to {output_path}\")\n",
    "\n",
    "    if missing:\n",
    "        print(f\"[{mode}] Warning: {len(missing)} topic IDs had no label mapping.\")\n",
    "        print(\"Missing topic IDs (first 10):\", list(missing)[:10])\n",
    "\n",
    "process_mode(\"single_label\", OUTPUT_SINGLE)\n",
    "process_mode(\"multi_label\", OUTPUT_MULTI)\n"
   ]
  },
  {
   "cell_type": "code",
   "execution_count": 15,
   "metadata": {},
   "outputs": [
    {
     "name": "stdout",
     "output_type": "stream",
     "text": [
      "368 entries are missing CID.\n"
     ]
    }
   ],
   "source": [
    "df_missing_cid = df_labeled[df_labeled[\"cid\"].isnull()]\n",
    "print(len(df_missing_cid), \"entries are missing CID.\")\n"
   ]
  },
  {
   "cell_type": "code",
   "execution_count": null,
   "metadata": {},
   "outputs": [],
   "source": []
  }
 ],
 "metadata": {
  "kernelspec": {
   "display_name": "Python 3",
   "language": "python",
   "name": "python3"
  },
  "language_info": {
   "codemirror_mode": {
    "name": "ipython",
    "version": 3
   },
   "file_extension": ".py",
   "mimetype": "text/x-python",
   "name": "python",
   "nbconvert_exporter": "python",
   "pygments_lexer": "ipython3",
   "version": "3.9.6 (default, Feb  3 2024, 15:58:27) \n[Clang 15.0.0 (clang-1500.3.9.4)]"
  },
  "orig_nbformat": 4,
  "vscode": {
   "interpreter": {
    "hash": "31f2aee4e71d21fbe5cf8b01ff0e069b9275f58929596ceb00d14d90e3e16cd6"
   }
  }
 },
 "nbformat": 4,
 "nbformat_minor": 2
}
