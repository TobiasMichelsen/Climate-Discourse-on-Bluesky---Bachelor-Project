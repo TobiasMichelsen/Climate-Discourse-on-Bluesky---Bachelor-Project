{
 "cells": [
  {
   "cell_type": "code",
   "execution_count": 22,
   "id": "b445bc8c",
   "metadata": {},
   "outputs": [],
   "source": [
    "import pandas as pd\n",
    "from collections import Counter"
   ]
  },
  {
   "cell_type": "code",
   "execution_count": 23,
   "id": "64c4789d",
   "metadata": {},
   "outputs": [],
   "source": [
    "df_run3 = pd.read_json(\"Cluster_Runs/Run3/run3_result_clean.json\",lines=True)\n",
    "df_run4 = pd.read_json(\"Cluster_Runs/Run4/run4_result_clean.json\",lines=True)"
   ]
  },
  {
   "cell_type": "code",
   "execution_count": 24,
   "id": "bd49f8c6",
   "metadata": {},
   "outputs": [],
   "source": [
    "#remove -1 cluster\n",
    "df_run3 = df_run3.loc[df_run3.topic != -1]\n",
    "df_run4 = df_run4.loc[df_run4.topic != -1]"
   ]
  },
  {
   "cell_type": "code",
   "execution_count": 25,
   "id": "e9bd04eb",
   "metadata": {},
   "outputs": [
    {
     "data": {
      "text/html": [
       "<div>\n",
       "<style scoped>\n",
       "    .dataframe tbody tr th:only-of-type {\n",
       "        vertical-align: middle;\n",
       "    }\n",
       "\n",
       "    .dataframe tbody tr th {\n",
       "        vertical-align: top;\n",
       "    }\n",
       "\n",
       "    .dataframe thead th {\n",
       "        text-align: right;\n",
       "    }\n",
       "</style>\n",
       "<table border=\"1\" class=\"dataframe\">\n",
       "  <thead>\n",
       "    <tr style=\"text-align: right;\">\n",
       "      <th></th>\n",
       "      <th>cid</th>\n",
       "      <th>text</th>\n",
       "      <th>topic</th>\n",
       "    </tr>\n",
       "  </thead>\n",
       "  <tbody>\n",
       "    <tr>\n",
       "      <th>0</th>\n",
       "      <td>bafyreihmqtib6dm76dgrnpiz5gdbzzcnskqpjovbi3owy2dnexdubtltoa</td>\n",
       "      <td>Thank you hayleysmith.bsky.social latimes.com for this excellent story spotlighting how the Trump administration's assault on environmental protections endangers Americans' health drives up living costs, for quoting me americanprogress.bsky.social on this www.latimes.comenvironment...</td>\n",
       "      <td>7</td>\n",
       "    </tr>\n",
       "    <tr>\n",
       "      <th>3</th>\n",
       "      <td>bafyreic5q4z3jyudbkjj24t433h3giy6oicy6rv2ih4vzaylrcn77xjjqa</td>\n",
       "      <td>Can't wait for his demise. Never ever have I wished it to anybody, now, I pray everyday it happens. He's not worth his pollution footprint or the oxygen he breathes.</td>\n",
       "      <td>0</td>\n",
       "    </tr>\n",
       "    <tr>\n",
       "      <th>4</th>\n",
       "      <td>bafyreibscp2vq5za5kbs2hw64jxpsu7of3jst2mldlwglafaseysd7vhfu</td>\n",
       "      <td>What aspect of it is art But also please answer my second question do you know how much energy and water computer generated artAI necessitates</td>\n",
       "      <td>3</td>\n",
       "    </tr>\n",
       "    <tr>\n",
       "      <th>12</th>\n",
       "      <td>bafyreiglnfw2lfy6msf7n3cx4bouno75znasu4hrgnnrtu323zwpkszpkm</td>\n",
       "      <td>ClimateChanger denier at my Hurricanes demo started going down the litany of already debunked talking points. As I easily refuted each one, she got more agitated and finally stormed off, in front of everybody. Science deniers don’t want to learn. They just want to win an argument.</td>\n",
       "      <td>0</td>\n",
       "    </tr>\n",
       "    <tr>\n",
       "      <th>15</th>\n",
       "      <td>bafyreiaeny4uerr5osifz7fjsqwivnv7n7d7dpw5svja2weiub7nrpd6cq</td>\n",
       "      <td>Day 56 of trying to work with nature to reduce plastic waste 3</td>\n",
       "      <td>9</td>\n",
       "    </tr>\n",
       "  </tbody>\n",
       "</table>\n",
       "</div>"
      ],
      "text/plain": [
       "                                                            cid  \\\n",
       "0   bafyreihmqtib6dm76dgrnpiz5gdbzzcnskqpjovbi3owy2dnexdubtltoa   \n",
       "3   bafyreic5q4z3jyudbkjj24t433h3giy6oicy6rv2ih4vzaylrcn77xjjqa   \n",
       "4   bafyreibscp2vq5za5kbs2hw64jxpsu7of3jst2mldlwglafaseysd7vhfu   \n",
       "12  bafyreiglnfw2lfy6msf7n3cx4bouno75znasu4hrgnnrtu323zwpkszpkm   \n",
       "15  bafyreiaeny4uerr5osifz7fjsqwivnv7n7d7dpw5svja2weiub7nrpd6cq   \n",
       "\n",
       "                                                                                                                                                                                                                                                                                             text  \\\n",
       "0   Thank you hayleysmith.bsky.social latimes.com for this excellent story spotlighting how the Trump administration's assault on environmental protections endangers Americans' health drives up living costs, for quoting me americanprogress.bsky.social on this www.latimes.comenvironment...   \n",
       "3                                                                                                                           Can't wait for his demise. Never ever have I wished it to anybody, now, I pray everyday it happens. He's not worth his pollution footprint or the oxygen he breathes.   \n",
       "4                                                                                                                                                  What aspect of it is art But also please answer my second question do you know how much energy and water computer generated artAI necessitates   \n",
       "12      ClimateChanger denier at my Hurricanes demo started going down the litany of already debunked talking points. As I easily refuted each one, she got more agitated and finally stormed off, in front of everybody. Science deniers don’t want to learn. They just want to win an argument.   \n",
       "15                                                                                                                                                                                                                                 Day 56 of trying to work with nature to reduce plastic waste 3   \n",
       "\n",
       "    topic  \n",
       "0       7  \n",
       "3       0  \n",
       "4       3  \n",
       "12      0  \n",
       "15      9  "
      ]
     },
     "execution_count": 25,
     "metadata": {},
     "output_type": "execute_result"
    }
   ],
   "source": [
    "df_run3.head()"
   ]
  },
  {
   "cell_type": "code",
   "execution_count": 26,
   "id": "3628ab0b",
   "metadata": {},
   "outputs": [],
   "source": [
    "df_run4.topic = df_run4.topic + 1000"
   ]
  },
  {
   "cell_type": "code",
   "execution_count": 27,
   "id": "94a24545",
   "metadata": {},
   "outputs": [
    {
     "data": {
      "text/html": [
       "<div>\n",
       "<style scoped>\n",
       "    .dataframe tbody tr th:only-of-type {\n",
       "        vertical-align: middle;\n",
       "    }\n",
       "\n",
       "    .dataframe tbody tr th {\n",
       "        vertical-align: top;\n",
       "    }\n",
       "\n",
       "    .dataframe thead th {\n",
       "        text-align: right;\n",
       "    }\n",
       "</style>\n",
       "<table border=\"1\" class=\"dataframe\">\n",
       "  <thead>\n",
       "    <tr style=\"text-align: right;\">\n",
       "      <th></th>\n",
       "      <th>cid</th>\n",
       "      <th>text</th>\n",
       "      <th>topic</th>\n",
       "    </tr>\n",
       "  </thead>\n",
       "  <tbody>\n",
       "    <tr>\n",
       "      <th>1</th>\n",
       "      <td>bafyreifst2eycalqgsrty4cyb2tbq5aqagy3yrvodq3vi7opkyng2622q4</td>\n",
       "      <td>thedailyshow.com of the Environmental Defense Fund founded here in our backyard by local scientists and heroes, opined that the banning of DDT was not necessarily a good thing. and.it turns out that DDT is really really effective at mosquitoes turns out? of course it was, hence its</td>\n",
       "      <td>1004</td>\n",
       "    </tr>\n",
       "    <tr>\n",
       "      <th>3</th>\n",
       "      <td>bafyreiajpsgtq4bdfexacsoia3afoxetxmt46aupi36bax7zwfggyscnym</td>\n",
       "      <td>Ukraine will send a team to the US next week for talks on a new draft mineral deal httpswww.europesays.com1972724 Your support helps us to tell the story From reproductive rights to climate change to Big Tech, The</td>\n",
       "      <td>1014</td>\n",
       "    </tr>\n",
       "    <tr>\n",
       "      <th>4</th>\n",
       "      <td>bafyreien2kbfchnq7w2vbs4prlgyaa253444374exwmoqwywqje3luiane</td>\n",
       "      <td>Ukraine will send a team to the US next week for talks on a new draft mineral deal httpswww.europesays.com1972724 Your support helps us to tell the story From reproductive rights to climate change to Big Tech, The</td>\n",
       "      <td>1014</td>\n",
       "    </tr>\n",
       "    <tr>\n",
       "      <th>6</th>\n",
       "      <td>bafyreiepelb3lqaqshpjliqyg4lrljp375kgmntnpzerhcntyfxn7yuaue</td>\n",
       "      <td>Why doesn’t he put tariffs on Mideast oil that would certainly insure our energy independence</td>\n",
       "      <td>1006</td>\n",
       "    </tr>\n",
       "    <tr>\n",
       "      <th>7</th>\n",
       "      <td>bafyreibnkzfdzpmj5bcx4rja2orwpzreayfchtpumwwq5zizdnj3jd3o64</td>\n",
       "      <td>4. Sustainability Green Tech - Industries like green tech are part of a 12 trillion global market shift. The future is green, and so is the money. 5. Health Wellness Coaching - 79% of consumers now consider wellness important, creating massive demand for personal guidance.</td>\n",
       "      <td>1013</td>\n",
       "    </tr>\n",
       "  </tbody>\n",
       "</table>\n",
       "</div>"
      ],
      "text/plain": [
       "                                                           cid  \\\n",
       "1  bafyreifst2eycalqgsrty4cyb2tbq5aqagy3yrvodq3vi7opkyng2622q4   \n",
       "3  bafyreiajpsgtq4bdfexacsoia3afoxetxmt46aupi36bax7zwfggyscnym   \n",
       "4  bafyreien2kbfchnq7w2vbs4prlgyaa253444374exwmoqwywqje3luiane   \n",
       "6  bafyreiepelb3lqaqshpjliqyg4lrljp375kgmntnpzerhcntyfxn7yuaue   \n",
       "7  bafyreibnkzfdzpmj5bcx4rja2orwpzreayfchtpumwwq5zizdnj3jd3o64   \n",
       "\n",
       "                                                                                                                                                                                                                                                                                         text  \\\n",
       "1  thedailyshow.com of the Environmental Defense Fund founded here in our backyard by local scientists and heroes, opined that the banning of DDT was not necessarily a good thing. and.it turns out that DDT is really really effective at mosquitoes turns out? of course it was, hence its   \n",
       "3                                                                       Ukraine will send a team to the US next week for talks on a new draft mineral deal httpswww.europesays.com1972724 Your support helps us to tell the story From reproductive rights to climate change to Big Tech, The   \n",
       "4                                                                       Ukraine will send a team to the US next week for talks on a new draft mineral deal httpswww.europesays.com1972724 Your support helps us to tell the story From reproductive rights to climate change to Big Tech, The   \n",
       "6                                                                                                                                                                                               Why doesn’t he put tariffs on Mideast oil that would certainly insure our energy independence   \n",
       "7           4. Sustainability Green Tech - Industries like green tech are part of a 12 trillion global market shift. The future is green, and so is the money. 5. Health Wellness Coaching - 79% of consumers now consider wellness important, creating massive demand for personal guidance.   \n",
       "\n",
       "   topic  \n",
       "1   1004  \n",
       "3   1014  \n",
       "4   1014  \n",
       "6   1006  \n",
       "7   1013  "
      ]
     },
     "execution_count": 27,
     "metadata": {},
     "output_type": "execute_result"
    }
   ],
   "source": [
    "df_run4.head()"
   ]
  },
  {
   "cell_type": "code",
   "execution_count": 28,
   "id": "85535b6f",
   "metadata": {},
   "outputs": [],
   "source": [
    "df_final = pd.concat([df_run3, df_run4])"
   ]
  },
  {
   "cell_type": "code",
   "execution_count": 29,
   "id": "90b73346",
   "metadata": {},
   "outputs": [
    {
     "data": {
      "text/plain": [
       "(82269, 3)"
      ]
     },
     "execution_count": 29,
     "metadata": {},
     "output_type": "execute_result"
    }
   ],
   "source": [
    "df_final.shape"
   ]
  },
  {
   "cell_type": "code",
   "execution_count": 30,
   "id": "852b6bbd",
   "metadata": {},
   "outputs": [
    {
     "data": {
      "text/plain": [
       "81"
      ]
     },
     "execution_count": 30,
     "metadata": {},
     "output_type": "execute_result"
    }
   ],
   "source": [
    "len(Counter(df_final.topic))"
   ]
  },
  {
   "cell_type": "code",
   "execution_count": 31,
   "id": "349f1049",
   "metadata": {},
   "outputs": [
    {
     "data": {
      "text/plain": [
       "Series([], Name: count, dtype: int64)"
      ]
     },
     "execution_count": 31,
     "metadata": {},
     "output_type": "execute_result"
    }
   ],
   "source": [
    "#duplicate seq?\n",
    "df_final[\"cid\"].value_counts()[df_final[\"cid\"].value_counts() > 1]"
   ]
  },
  {
   "cell_type": "code",
   "execution_count": 32,
   "id": "822af0e8",
   "metadata": {},
   "outputs": [],
   "source": [
    "pd.set_option('display.max_rows', None)\n",
    "pd.set_option('display.max_columns', None)\n",
    "pd.set_option('display.width', None)\n",
    "pd.set_option('display.max_colwidth', None)  # For older pandas\n",
    "pd.set_option('display.max_colwidth', None)  # For newer pandas\n",
    "\n",
    "# pd.reset_option('display.max_rows')\n",
    "# pd.reset_option('display.max_columns')\n",
    "# pd.reset_option('display.width')\n",
    "# pd.reset_option('display.max_colwidth')\n"
   ]
  },
  {
   "cell_type": "code",
   "execution_count": 33,
   "id": "731b9631",
   "metadata": {},
   "outputs": [
    {
     "data": {
      "text/plain": [
       "text\n",
       "Donald Trump is blackmailing the EU to buy even more fossil gas. Our leaders are now forced to choose a future of gas dependency or renewable freedom. Tell them to break free from fossil fuels! action.wemove.eusign2025-04...                          51\n",
       "Calling all federal leaders It’s time to meet the moment and defend climate progress. Across all political stripes, most people across Canada want political leaders to do more to address climate risks and costs. Take action! cape.caactionmeet-...    28\n",
       "Trump seeks to end climate research at premier U.S. climate agency Science AAAS www.science.orgcontentarti...                                                                                                                                             24\n",
       "This is going to devastate our climate and our national environment. It would take centuries to recover our forests.                                                                                                                                      15\n",
       "Greenpeace Says Latest Keystone Pipeline Spill Shows Why Big Oil Targets Climate Activists www.commondreams.orgnewskeyston...                                                                                                                             14\n",
       "Name: count, dtype: int64"
      ]
     },
     "execution_count": 33,
     "metadata": {},
     "output_type": "execute_result"
    }
   ],
   "source": [
    "#duplicate text?\n",
    "df_final[\"text\"].value_counts()[df_final[\"text\"].value_counts() > 1].head()\n"
   ]
  },
  {
   "cell_type": "code",
   "execution_count": 34,
   "id": "d99ff6ae",
   "metadata": {},
   "outputs": [
    {
     "data": {
      "text/plain": [
       "np.int64(3319)"
      ]
     },
     "execution_count": 34,
     "metadata": {},
     "output_type": "execute_result"
    }
   ],
   "source": [
    "#total rows duplicated 3693-1538=2231\n",
    "df_final[\"text\"].value_counts()[df_final[\"text\"].value_counts() > 1].sum()"
   ]
  },
  {
   "cell_type": "code",
   "execution_count": 35,
   "id": "69e111ce",
   "metadata": {},
   "outputs": [
    {
     "data": {
      "text/plain": [
       "(82269, 3)"
      ]
     },
     "execution_count": 35,
     "metadata": {},
     "output_type": "execute_result"
    }
   ],
   "source": [
    "df_final.shape"
   ]
  },
  {
   "cell_type": "code",
   "execution_count": 36,
   "id": "2c6c5519",
   "metadata": {},
   "outputs": [],
   "source": [
    "df_final.to_json(\"BERTopic_final_result_clean.json\", orient= \"records\", lines=True)\n"
   ]
  },
  {
   "cell_type": "code",
   "execution_count": 37,
   "id": "e423281c",
   "metadata": {},
   "outputs": [],
   "source": [
    "# df_final.groupby(\"topic\").head(5)"
   ]
  },
  {
   "cell_type": "code",
   "execution_count": null,
   "id": "ffa989f1",
   "metadata": {},
   "outputs": [],
   "source": []
  }
 ],
 "metadata": {
  "kernelspec": {
   "display_name": "Python 3",
   "language": "python",
   "name": "python3"
  },
  "language_info": {
   "codemirror_mode": {
    "name": "ipython",
    "version": 3
   },
   "file_extension": ".py",
   "mimetype": "text/x-python",
   "name": "python",
   "nbconvert_exporter": "python",
   "pygments_lexer": "ipython3",
   "version": "3.12.5"
  }
 },
 "nbformat": 4,
 "nbformat_minor": 5
}
