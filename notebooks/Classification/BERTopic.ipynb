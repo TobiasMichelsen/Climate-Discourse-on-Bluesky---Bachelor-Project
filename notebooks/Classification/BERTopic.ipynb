{
 "cells": [
  {
   "attachments": {},
   "cell_type": "markdown",
   "metadata": {},
   "source": [
    "# BERTopic: \n",
    "- Preprocess (normalize text, filter for \"yes\" label)\n",
    "\n",
    "- Embedding (convert text to number representation)\n",
    "\n",
    "- Top Modeling (find different cluster setups)"
   ]
  },
  {
   "cell_type": "code",
   "execution_count": 35,
   "metadata": {},
   "outputs": [],
   "source": [
    "#imports / installs\n",
    "\n",
    "import pandas as pd\n",
    "import re\n",
    "import glob\n",
    "import os\n",
    "import itertools\n",
    "import hdbscan\n"
   ]
  },
  {
   "attachments": {},
   "cell_type": "markdown",
   "metadata": {},
   "source": [
    "## Step 1: Preprocessing"
   ]
  },
  {
   "cell_type": "code",
   "execution_count": 36,
   "metadata": {},
   "outputs": [],
   "source": [
    "def preprocess_text(text):\n",
    "    # Lowercase\n",
    "    text = text.lower()\n",
    "    # Remove URLs\n",
    "    text = re.sub(r\"http\\S+|www\\S+\", \"\", text)\n",
    "    # Remove mentions and hashtags\n",
    "    text = re.sub(r\"@\\w+|#\\w+\", \"\", text)\n",
    "    # Remove non-letter characters (keep punctuation if needed)\n",
    "    text = re.sub(r\"[^a-zA-Z\\s]\", \"\", text)\n",
    "    # Normalize whitespace\n",
    "    text = re.sub(r\"\\s+\", \" \", text).strip()\n",
    "    return text"
   ]
  },
  {
   "cell_type": "code",
   "execution_count": 37,
   "metadata": {},
   "outputs": [],
   "source": [
    "from sentence_transformers import SentenceTransformer\n",
    "\n",
    "def generate_embeddings(texts, model_name=\"all-MiniLM-L6-v2\"):\n",
    "    model = SentenceTransformer(model_name)\n",
    "    embeddings = model.encode(texts, show_progress_bar=True)\n",
    "    return embeddings\n"
   ]
  },
  {
   "cell_type": "code",
   "execution_count": 38,
   "metadata": {},
   "outputs": [],
   "source": [
    "INPUT_PATH = \"../../data/climate_classified/\" #Currently uses the 14 jsons * 100,000 posts \n",
    "\n",
    "json_pattern = os.path.join(INPUT_PATH,'*.json')\n",
    "combined_paths = glob.glob(json_pattern)\n",
    "\n",
    "dfs = []\n",
    "\n",
    "\n",
    "for path in combined_paths:\n",
    "    try:\n",
    "        df = pd.read_json(path)\n",
    "        dfs.append(df)\n",
    "    except ValueError as e:\n",
    "        print(f\"Failed to read {path}: {e}\")\n"
   ]
  },
  {
   "cell_type": "code",
   "execution_count": 39,
   "metadata": {},
   "outputs": [
    {
     "name": "stdout",
     "output_type": "stream",
     "text": [
      "Loaded 1311270 posts from 14 files.\n"
     ]
    }
   ],
   "source": [
    "if dfs:\n",
    "    temp = pd.concat(dfs, ignore_index=True)\n",
    "    print(f\"Loaded {len(temp)} posts from {len(dfs)} files.\")\n",
    "else:\n",
    "    print(\"No data loaded.\")"
   ]
  },
  {
   "attachments": {},
   "cell_type": "markdown",
   "metadata": {},
   "source": [
    "### NOTE: Currently filters for 60+ characters and score >= 0.99 !"
   ]
  },
  {
   "cell_type": "code",
   "execution_count": 40,
   "metadata": {},
   "outputs": [
    {
     "name": "stdout",
     "output_type": "stream",
     "text": [
      "Remaining posts after full filtering: 11467\n"
     ]
    }
   ],
   "source": [
    "# Step 1: Filter for climate-related posts only\n",
    "climate_df = temp[temp[\"label\"] == \"yes\"].copy()\n",
    "\n",
    "# Step 2: Light preprocessing\n",
    "climate_df[\"clean_text\"] = climate_df[\"text\"].astype(str).apply(preprocess_text)\n",
    "\n",
    "# Step 3: Filter on character length and score\n",
    "climate_df = climate_df[\n",
    "    \n",
    "    (climate_df[\"clean_text\"].str.len() >= 60) &\n",
    "    (climate_df[\"score\"] >= 0.99)\n",
    "].copy()\n",
    "\n",
    "print(f\"Remaining posts after full filtering: {len(climate_df)}\")"
   ]
  },
  {
   "cell_type": "code",
   "execution_count": 41,
   "metadata": {},
   "outputs": [
    {
     "name": "stdout",
     "output_type": "stream",
     "text": [
      "Filtered dataset saved to: ../../data/filtered/above60chars_above99score.json\n"
     ]
    }
   ],
   "source": [
    "# Save filtered climate_df\n",
    "\n",
    "output_path = \"../../data/filtered/above60chars_above99score.json\"\n",
    "climate_df.to_json(output_path)\n",
    "\n",
    "print(f\"Filtered dataset saved to: {output_path}\")"
   ]
  },
  {
   "cell_type": "code",
   "execution_count": 42,
   "metadata": {},
   "outputs": [
    {
     "data": {
      "text/plain": [
       "Index(['repo', 'seq', 'text', 'timestamp', 'cid', 'uri', 'label', 'score',\n",
       "       'clean_text'],\n",
       "      dtype='object')"
      ]
     },
     "execution_count": 42,
     "metadata": {},
     "output_type": "execute_result"
    }
   ],
   "source": [
    "climate_df.columns"
   ]
  },
  {
   "cell_type": "code",
   "execution_count": 43,
   "metadata": {},
   "outputs": [
    {
     "data": {
      "text/html": [
       "<div>\n",
       "<style scoped>\n",
       "    .dataframe tbody tr th:only-of-type {\n",
       "        vertical-align: middle;\n",
       "    }\n",
       "\n",
       "    .dataframe tbody tr th {\n",
       "        vertical-align: top;\n",
       "    }\n",
       "\n",
       "    .dataframe thead th {\n",
       "        text-align: right;\n",
       "    }\n",
       "</style>\n",
       "<table border=\"1\" class=\"dataframe\">\n",
       "  <thead>\n",
       "    <tr style=\"text-align: right;\">\n",
       "      <th></th>\n",
       "      <th>repo</th>\n",
       "      <th>seq</th>\n",
       "      <th>text</th>\n",
       "      <th>timestamp</th>\n",
       "      <th>cid</th>\n",
       "      <th>uri</th>\n",
       "      <th>label</th>\n",
       "      <th>score</th>\n",
       "      <th>clean_text</th>\n",
       "    </tr>\n",
       "  </thead>\n",
       "  <tbody>\n",
       "    <tr>\n",
       "      <th>25</th>\n",
       "      <td>did:plc:uli2rqyfqasvuawksu2z5jkc</td>\n",
       "      <td>7778280581</td>\n",
       "      <td>Trump's executive order trying to block state ...</td>\n",
       "      <td>2025-04-09 21:10:45.855</td>\n",
       "      <td>bafyreihbjn7mnkbiytl4wc2jjhukux7xfncg772auwhhu...</td>\n",
       "      <td>at://did:plc:uli2rqyfqasvuawksu2z5jkc/app.bsky...</td>\n",
       "      <td>yes</td>\n",
       "      <td>0.997684</td>\n",
       "      <td>trumps executive order trying to block state c...</td>\n",
       "    </tr>\n",
       "    <tr>\n",
       "      <th>204</th>\n",
       "      <td>did:plc:4zh2idecxr5zudhn3oniodhw</td>\n",
       "      <td>7778286641</td>\n",
       "      <td>Spain and Canada signed agreements on renewabl...</td>\n",
       "      <td>2025-04-09 21:10:53.664</td>\n",
       "      <td>bafyreibvwoj6qzbffnpz4rkgxena26ejvpfqoznkbed7n...</td>\n",
       "      <td>at://did:plc:4zh2idecxr5zudhn3oniodhw/app.bsky...</td>\n",
       "      <td>yes</td>\n",
       "      <td>0.993054</td>\n",
       "      <td>spain and canada signed agreements on renewabl...</td>\n",
       "    </tr>\n",
       "    <tr>\n",
       "      <th>411</th>\n",
       "      <td>did:plc:m6ntt433rso3lp7dxaja3mue</td>\n",
       "      <td>7778293323</td>\n",
       "      <td>When did you bitch about what Republicans were...</td>\n",
       "      <td>2025-04-09 21:11:03.083</td>\n",
       "      <td>bafyreic4vipeqxz6mlm36qa7uw3qqjbxwo3qtvucl2fek...</td>\n",
       "      <td>at://did:plc:m6ntt433rso3lp7dxaja3mue/app.bsky...</td>\n",
       "      <td>yes</td>\n",
       "      <td>0.996543</td>\n",
       "      <td>when did you bitch about what republicans were...</td>\n",
       "    </tr>\n",
       "    <tr>\n",
       "      <th>441</th>\n",
       "      <td>did:plc:cm4nhw2xk43bczonk7mbfvrb</td>\n",
       "      <td>7778294643</td>\n",
       "      <td>Hydrogen, as you know, is useful for decarboni...</td>\n",
       "      <td>2025-04-09 21:11:05.110</td>\n",
       "      <td>bafyreidsl6kwy2dx6rtvqkhjyafcffv6cwdud7aefrubf...</td>\n",
       "      <td>at://did:plc:cm4nhw2xk43bczonk7mbfvrb/app.bsky...</td>\n",
       "      <td>yes</td>\n",
       "      <td>0.997304</td>\n",
       "      <td>hydrogen as you know is useful for decarbonisi...</td>\n",
       "    </tr>\n",
       "    <tr>\n",
       "      <th>448</th>\n",
       "      <td>did:plc:ci5fsjcdjgoct5k3yllky4ud</td>\n",
       "      <td>7778294887</td>\n",
       "      <td>Either we end the Fossil Fuel Era or the Fossi...</td>\n",
       "      <td>2025-04-09 21:11:05.321</td>\n",
       "      <td>bafyreifegyoen4hku664cni3qqh3v6xbnoptueyb76dqm...</td>\n",
       "      <td>at://did:plc:ci5fsjcdjgoct5k3yllky4ud/app.bsky...</td>\n",
       "      <td>yes</td>\n",
       "      <td>0.995790</td>\n",
       "      <td>either we end the fossil fuel era or the fossi...</td>\n",
       "    </tr>\n",
       "  </tbody>\n",
       "</table>\n",
       "</div>"
      ],
      "text/plain": [
       "                                 repo         seq  \\\n",
       "25   did:plc:uli2rqyfqasvuawksu2z5jkc  7778280581   \n",
       "204  did:plc:4zh2idecxr5zudhn3oniodhw  7778286641   \n",
       "411  did:plc:m6ntt433rso3lp7dxaja3mue  7778293323   \n",
       "441  did:plc:cm4nhw2xk43bczonk7mbfvrb  7778294643   \n",
       "448  did:plc:ci5fsjcdjgoct5k3yllky4ud  7778294887   \n",
       "\n",
       "                                                  text  \\\n",
       "25   Trump's executive order trying to block state ...   \n",
       "204  Spain and Canada signed agreements on renewabl...   \n",
       "411  When did you bitch about what Republicans were...   \n",
       "441  Hydrogen, as you know, is useful for decarboni...   \n",
       "448  Either we end the Fossil Fuel Era or the Fossi...   \n",
       "\n",
       "                  timestamp  \\\n",
       "25  2025-04-09 21:10:45.855   \n",
       "204 2025-04-09 21:10:53.664   \n",
       "411 2025-04-09 21:11:03.083   \n",
       "441 2025-04-09 21:11:05.110   \n",
       "448 2025-04-09 21:11:05.321   \n",
       "\n",
       "                                                   cid  \\\n",
       "25   bafyreihbjn7mnkbiytl4wc2jjhukux7xfncg772auwhhu...   \n",
       "204  bafyreibvwoj6qzbffnpz4rkgxena26ejvpfqoznkbed7n...   \n",
       "411  bafyreic4vipeqxz6mlm36qa7uw3qqjbxwo3qtvucl2fek...   \n",
       "441  bafyreidsl6kwy2dx6rtvqkhjyafcffv6cwdud7aefrubf...   \n",
       "448  bafyreifegyoen4hku664cni3qqh3v6xbnoptueyb76dqm...   \n",
       "\n",
       "                                                   uri label     score  \\\n",
       "25   at://did:plc:uli2rqyfqasvuawksu2z5jkc/app.bsky...   yes  0.997684   \n",
       "204  at://did:plc:4zh2idecxr5zudhn3oniodhw/app.bsky...   yes  0.993054   \n",
       "411  at://did:plc:m6ntt433rso3lp7dxaja3mue/app.bsky...   yes  0.996543   \n",
       "441  at://did:plc:cm4nhw2xk43bczonk7mbfvrb/app.bsky...   yes  0.997304   \n",
       "448  at://did:plc:ci5fsjcdjgoct5k3yllky4ud/app.bsky...   yes  0.995790   \n",
       "\n",
       "                                            clean_text  \n",
       "25   trumps executive order trying to block state c...  \n",
       "204  spain and canada signed agreements on renewabl...  \n",
       "411  when did you bitch about what republicans were...  \n",
       "441  hydrogen as you know is useful for decarbonisi...  \n",
       "448  either we end the fossil fuel era or the fossi...  "
      ]
     },
     "execution_count": 43,
     "metadata": {},
     "output_type": "execute_result"
    }
   ],
   "source": [
    "climate_df.head()"
   ]
  },
  {
   "attachments": {},
   "cell_type": "markdown",
   "metadata": {},
   "source": [
    "## Step 2: Embedding Generation"
   ]
  },
  {
   "attachments": {},
   "cell_type": "markdown",
   "metadata": {},
   "source": [
    "pip install -U sentence-transforme"
   ]
  },
  {
   "cell_type": "code",
   "execution_count": 1,
   "metadata": {},
   "outputs": [
    {
     "name": "stdout",
     "output_type": "stream",
     "text": [
      "\u001b[33mWARNING: You are using pip version 21.2.4; however, version 25.0.1 is available.\n",
      "You should consider upgrading via the '/Library/Developer/CommandLineTools/usr/bin/python3 -m pip install --upgrade pip' command.\u001b[0m\n",
      "Note: you may need to restart the kernel to use updated packages.\n"
     ]
    }
   ],
   "source": [
    "pip install -U sentence-transformers -q"
   ]
  },
  {
   "cell_type": "code",
   "execution_count": 16,
   "metadata": {},
   "outputs": [],
   "source": [
    "from sentence_transformers import SentenceTransformer"
   ]
  },
  {
   "cell_type": "code",
   "execution_count": 25,
   "metadata": {},
   "outputs": [
    {
     "data": {
      "text/plain": [
       "11467"
      ]
     },
     "execution_count": 25,
     "metadata": {},
     "output_type": "execute_result"
    }
   ],
   "source": [
    "len(texts_to_embed)"
   ]
  },
  {
   "cell_type": "code",
   "execution_count": 17,
   "metadata": {},
   "outputs": [
    {
     "name": "stderr",
     "output_type": "stream",
     "text": [
      "Batches: 100%|██████████| 359/359 [00:57<00:00,  6.22it/s]\n"
     ]
    }
   ],
   "source": [
    "model = SentenceTransformer('all-miniLM-L6-v2')\n",
    "texts_to_embed = climate_df[\"clean_text\"].tolist()\n",
    "embeddings = model.encode(texts_to_embed, show_progress_bar=True) "
   ]
  },
  {
   "cell_type": "code",
   "execution_count": 64,
   "metadata": {},
   "outputs": [
    {
     "name": "stderr",
     "output_type": "stream",
     "text": [
      "huggingface/tokenizers: The current process just got forked, after parallelism has already been used. Disabling parallelism to avoid deadlocks...\n",
      "To disable this warning, you can either:\n",
      "\t- Avoid using `tokenizers` before the fork if possible\n",
      "\t- Explicitly set the environment variable TOKENIZERS_PARALLELISM=(true | false)\n"
     ]
    },
    {
     "name": "stdout",
     "output_type": "stream",
     "text": [
      "Defaulting to user installation because normal site-packages is not writeable\n",
      "Collecting bertopic\n",
      "  Downloading bertopic-0.17.0-py3-none-any.whl (150 kB)\n",
      "\u001b[K     |████████████████████████████████| 150 kB 261 kB/s eta 0:00:01\n",
      "\u001b[?25hCollecting plotly>=4.7.0\n",
      "  Downloading plotly-6.0.1-py3-none-any.whl (14.8 MB)\n",
      "\u001b[K     |████████████████████████████████| 14.8 MB 167 kB/s eta 0:00:01\n",
      "\u001b[?25hRequirement already satisfied: scikit-learn>=1.0 in /Users/tobiasmichelsen/Library/Python/3.9/lib/python/site-packages (from bertopic) (1.6.1)\n",
      "Collecting hdbscan>=0.8.29\n",
      "  Downloading hdbscan-0.8.40.tar.gz (6.9 MB)\n",
      "\u001b[K     |████████████████████████████████| 6.9 MB 60 kB/s eta 0:00:016\n",
      "\u001b[?25h\u001b[33m  WARNING: Value for prefixed-purelib does not match. Please report this to <https://github.com/pypa/pip/issues/10151>\n",
      "  distutils: /private/var/folders/f3/z043mppd07z6npdj2ch2t1mm0000gn/T/pip-build-env-ljns71ow/normal/lib/python3.9/site-packages\n",
      "  sysconfig: /Library/Python/3.9/site-packages\u001b[0m\n",
      "\u001b[33m  WARNING: Value for prefixed-platlib does not match. Please report this to <https://github.com/pypa/pip/issues/10151>\n",
      "  distutils: /private/var/folders/f3/z043mppd07z6npdj2ch2t1mm0000gn/T/pip-build-env-ljns71ow/normal/lib/python3.9/site-packages\n",
      "  sysconfig: /Library/Python/3.9/site-packages\u001b[0m\n",
      "\u001b[33m  WARNING: Additional context:\n",
      "  user = False\n",
      "  home = None\n",
      "  root = None\n",
      "  prefix = '/private/var/folders/f3/z043mppd07z6npdj2ch2t1mm0000gn/T/pip-build-env-ljns71ow/normal'\u001b[0m\n",
      "\u001b[33m  WARNING: Value for prefixed-purelib does not match. Please report this to <https://github.com/pypa/pip/issues/10151>\n",
      "  distutils: /private/var/folders/f3/z043mppd07z6npdj2ch2t1mm0000gn/T/pip-build-env-ljns71ow/overlay/lib/python3.9/site-packages\n",
      "  sysconfig: /Library/Python/3.9/site-packages\u001b[0m\n",
      "\u001b[33m  WARNING: Value for prefixed-platlib does not match. Please report this to <https://github.com/pypa/pip/issues/10151>\n",
      "  distutils: /private/var/folders/f3/z043mppd07z6npdj2ch2t1mm0000gn/T/pip-build-env-ljns71ow/overlay/lib/python3.9/site-packages\n",
      "  sysconfig: /Library/Python/3.9/site-packages\u001b[0m\n",
      "\u001b[33m  WARNING: Additional context:\n",
      "  user = False\n",
      "  home = None\n",
      "  root = None\n",
      "  prefix = '/private/var/folders/f3/z043mppd07z6npdj2ch2t1mm0000gn/T/pip-build-env-ljns71ow/overlay'\u001b[0m\n",
      "  Installing build dependencies ... \u001b[?25ldone\n",
      "\u001b[?25h  Getting requirements to build wheel ... \u001b[?25ldone\n",
      "\u001b[?25h    Preparing wheel metadata ... \u001b[?25ldone\n",
      "\u001b[?25hRequirement already satisfied: tqdm>=4.41.1 in /Users/tobiasmichelsen/Library/Python/3.9/lib/python/site-packages (from bertopic) (4.67.1)\n",
      "Requirement already satisfied: numpy>=1.20.0 in /Users/tobiasmichelsen/Library/Python/3.9/lib/python/site-packages (from bertopic) (1.26.4)\n",
      "Requirement already satisfied: sentence-transformers>=0.4.1 in /Users/tobiasmichelsen/Library/Python/3.9/lib/python/site-packages (from bertopic) (4.1.0)\n",
      "Requirement already satisfied: pandas>=1.1.5 in /Users/tobiasmichelsen/Library/Python/3.9/lib/python/site-packages (from bertopic) (2.2.3)\n",
      "Collecting umap-learn>=0.5.0\n",
      "  Downloading umap_learn-0.5.7-py3-none-any.whl (88 kB)\n",
      "\u001b[K     |████████████████████████████████| 88 kB 201 kB/s eta 0:00:01\n",
      "\u001b[?25hRequirement already satisfied: joblib>=1.0 in /Users/tobiasmichelsen/Library/Python/3.9/lib/python/site-packages (from hdbscan>=0.8.29->bertopic) (1.4.2)\n",
      "Requirement already satisfied: scipy>=1.0 in /Users/tobiasmichelsen/Library/Python/3.9/lib/python/site-packages (from hdbscan>=0.8.29->bertopic) (1.13.1)\n",
      "Requirement already satisfied: python-dateutil>=2.8.2 in /Users/tobiasmichelsen/Library/Python/3.9/lib/python/site-packages (from pandas>=1.1.5->bertopic) (2.8.2)\n",
      "Requirement already satisfied: pytz>=2020.1 in /Users/tobiasmichelsen/Library/Python/3.9/lib/python/site-packages (from pandas>=1.1.5->bertopic) (2025.1)\n",
      "Requirement already satisfied: tzdata>=2022.7 in /Users/tobiasmichelsen/Library/Python/3.9/lib/python/site-packages (from pandas>=1.1.5->bertopic) (2025.1)\n",
      "Requirement already satisfied: packaging in /Users/tobiasmichelsen/Library/Python/3.9/lib/python/site-packages (from plotly>=4.7.0->bertopic) (23.2)\n",
      "Collecting narwhals>=1.15.1\n",
      "  Downloading narwhals-1.35.0-py3-none-any.whl (325 kB)\n",
      "\u001b[K     |████████████████████████████████| 325 kB 31 kB/s eta 0:00:01\n",
      "\u001b[?25hRequirement already satisfied: six>=1.5 in /Library/Developer/CommandLineTools/Library/Frameworks/Python3.framework/Versions/3.9/lib/python3.9/site-packages (from python-dateutil>=2.8.2->pandas>=1.1.5->bertopic) (1.15.0)\n",
      "Requirement already satisfied: threadpoolctl>=3.1.0 in /Users/tobiasmichelsen/Library/Python/3.9/lib/python/site-packages (from scikit-learn>=1.0->bertopic) (3.6.0)\n",
      "Requirement already satisfied: transformers<5.0.0,>=4.41.0 in /Users/tobiasmichelsen/Library/Python/3.9/lib/python/site-packages (from sentence-transformers>=0.4.1->bertopic) (4.50.3)\n",
      "Requirement already satisfied: Pillow in /Users/tobiasmichelsen/Library/Python/3.9/lib/python/site-packages (from sentence-transformers>=0.4.1->bertopic) (10.3.0)\n",
      "Requirement already satisfied: typing_extensions>=4.5.0 in /Users/tobiasmichelsen/Library/Python/3.9/lib/python/site-packages (from sentence-transformers>=0.4.1->bertopic) (4.12.2)\n",
      "Requirement already satisfied: torch>=1.11.0 in /Users/tobiasmichelsen/Library/Python/3.9/lib/python/site-packages (from sentence-transformers>=0.4.1->bertopic) (2.6.0)\n",
      "Requirement already satisfied: huggingface-hub>=0.20.0 in /Users/tobiasmichelsen/Library/Python/3.9/lib/python/site-packages (from sentence-transformers>=0.4.1->bertopic) (0.30.1)\n",
      "Requirement already satisfied: pyyaml>=5.1 in /Users/tobiasmichelsen/Library/Python/3.9/lib/python/site-packages (from huggingface-hub>=0.20.0->sentence-transformers>=0.4.1->bertopic) (6.0.2)\n",
      "Requirement already satisfied: filelock in /Users/tobiasmichelsen/Library/Python/3.9/lib/python/site-packages (from huggingface-hub>=0.20.0->sentence-transformers>=0.4.1->bertopic) (3.18.0)\n",
      "Requirement already satisfied: fsspec>=2023.5.0 in /Users/tobiasmichelsen/Library/Python/3.9/lib/python/site-packages (from huggingface-hub>=0.20.0->sentence-transformers>=0.4.1->bertopic) (2024.12.0)\n",
      "Requirement already satisfied: requests in /Users/tobiasmichelsen/Library/Python/3.9/lib/python/site-packages (from huggingface-hub>=0.20.0->sentence-transformers>=0.4.1->bertopic) (2.32.3)\n",
      "Requirement already satisfied: jinja2 in /Users/tobiasmichelsen/Library/Python/3.9/lib/python/site-packages (from torch>=1.11.0->sentence-transformers>=0.4.1->bertopic) (3.1.6)\n",
      "Requirement already satisfied: sympy==1.13.1 in /Users/tobiasmichelsen/Library/Python/3.9/lib/python/site-packages (from torch>=1.11.0->sentence-transformers>=0.4.1->bertopic) (1.13.1)\n",
      "Requirement already satisfied: networkx in /Users/tobiasmichelsen/Library/Python/3.9/lib/python/site-packages (from torch>=1.11.0->sentence-transformers>=0.4.1->bertopic) (3.2.1)\n",
      "Requirement already satisfied: mpmath<1.4,>=1.1.0 in /Users/tobiasmichelsen/Library/Python/3.9/lib/python/site-packages (from sympy==1.13.1->torch>=1.11.0->sentence-transformers>=0.4.1->bertopic) (1.3.0)\n",
      "Requirement already satisfied: regex!=2019.12.17 in /Users/tobiasmichelsen/Library/Python/3.9/lib/python/site-packages (from transformers<5.0.0,>=4.41.0->sentence-transformers>=0.4.1->bertopic) (2024.11.6)\n",
      "Requirement already satisfied: tokenizers<0.22,>=0.21 in /Users/tobiasmichelsen/Library/Python/3.9/lib/python/site-packages (from transformers<5.0.0,>=4.41.0->sentence-transformers>=0.4.1->bertopic) (0.21.1)\n",
      "Requirement already satisfied: safetensors>=0.4.3 in /Users/tobiasmichelsen/Library/Python/3.9/lib/python/site-packages (from transformers<5.0.0,>=4.41.0->sentence-transformers>=0.4.1->bertopic) (0.5.3)\n",
      "Collecting pynndescent>=0.5\n",
      "  Downloading pynndescent-0.5.13-py3-none-any.whl (56 kB)\n",
      "\u001b[K     |████████████████████████████████| 56 kB 49 kB/s eta 0:00:011\n",
      "\u001b[?25hCollecting numba>=0.51.2\n",
      "  Downloading numba-0.60.0-cp39-cp39-macosx_11_0_arm64.whl (2.7 MB)\n",
      "\u001b[K     |████████████████████████████████| 2.7 MB 411 kB/s eta 0:00:01\n",
      "\u001b[?25hCollecting llvmlite<0.44,>=0.43.0dev0\n",
      "  Downloading llvmlite-0.43.0-cp39-cp39-macosx_11_0_arm64.whl (28.8 MB)\n",
      "\u001b[K     |████████████████████████████████| 28.8 MB 201 kB/s eta 0:00:01\n",
      "\u001b[?25hRequirement already satisfied: MarkupSafe>=2.0 in /Users/tobiasmichelsen/Library/Python/3.9/lib/python/site-packages (from jinja2->torch>=1.11.0->sentence-transformers>=0.4.1->bertopic) (3.0.2)\n",
      "Requirement already satisfied: idna<4,>=2.5 in /Users/tobiasmichelsen/Library/Python/3.9/lib/python/site-packages (from requests->huggingface-hub>=0.20.0->sentence-transformers>=0.4.1->bertopic) (3.10)\n",
      "Requirement already satisfied: charset-normalizer<4,>=2 in /Users/tobiasmichelsen/Library/Python/3.9/lib/python/site-packages (from requests->huggingface-hub>=0.20.0->sentence-transformers>=0.4.1->bertopic) (3.4.1)\n",
      "Requirement already satisfied: urllib3<3,>=1.21.1 in /Users/tobiasmichelsen/Library/Python/3.9/lib/python/site-packages (from requests->huggingface-hub>=0.20.0->sentence-transformers>=0.4.1->bertopic) (1.26.20)\n",
      "Requirement already satisfied: certifi>=2017.4.17 in /Users/tobiasmichelsen/Library/Python/3.9/lib/python/site-packages (from requests->huggingface-hub>=0.20.0->sentence-transformers>=0.4.1->bertopic) (2025.1.31)\n",
      "Building wheels for collected packages: hdbscan\n",
      "  Building wheel for hdbscan (PEP 517) ... \u001b[?25ldone\n",
      "\u001b[?25h  Created wheel for hdbscan: filename=hdbscan-0.8.40-cp39-cp39-macosx_10_9_universal2.whl size=1496043 sha256=6f58e218ccc9820942fa3f04ba5241d6cd07898c72c37e4e137c8d52c25e1a2f\n",
      "  Stored in directory: /Users/tobiasmichelsen/Library/Caches/pip/wheels/d7/a1/fa/cf52ce36f64d96efeaea8fcebb37b11c9f27308a914381ff0e\n",
      "Successfully built hdbscan\n",
      "Installing collected packages: llvmlite, numba, pynndescent, narwhals, umap-learn, plotly, hdbscan, bertopic\n",
      "Successfully installed bertopic-0.17.0 hdbscan-0.8.40 llvmlite-0.43.0 narwhals-1.35.0 numba-0.60.0 plotly-6.0.1 pynndescent-0.5.13 umap-learn-0.5.7\n",
      "\u001b[33mWARNING: You are using pip version 21.2.4; however, version 25.0.1 is available.\n",
      "You should consider upgrading via the '/Library/Developer/CommandLineTools/usr/bin/python3 -m pip install --upgrade pip' command.\u001b[0m\n",
      "Note: you may need to restart the kernel to use updated packages.\n"
     ]
    }
   ],
   "source": [
    "pip install bertopic -q"
   ]
  },
  {
   "cell_type": "code",
   "execution_count": 65,
   "metadata": {},
   "outputs": [],
   "source": [
    "from bertopic import BERTopic"
   ]
  },
  {
   "cell_type": "code",
   "execution_count": 66,
   "metadata": {},
   "outputs": [],
   "source": [
    "topic_model = BERTopic(language=\"english\", verbose=True)"
   ]
  },
  {
   "cell_type": "code",
   "execution_count": 26,
   "metadata": {},
   "outputs": [
    {
     "ename": "NameError",
     "evalue": "name 'embeddings' is not defined",
     "output_type": "error",
     "traceback": [
      "\u001b[0;31m---------------------------------------------------------------------------\u001b[0m",
      "\u001b[0;31mNameError\u001b[0m                                 Traceback (most recent call last)",
      "Cell \u001b[0;32mIn[26], line 1\u001b[0m\n\u001b[0;32m----> 1\u001b[0m topics, probs \u001b[39m=\u001b[39m topic_model\u001b[39m.\u001b[39mfit_transform(texts_to_embed, embeddings)\n\u001b[1;32m      3\u001b[0m topic_model\u001b[39m.\u001b[39mget_topic_info()\u001b[39m.\u001b[39mhead(\u001b[39m20\u001b[39m)\n",
      "\u001b[0;31mNameError\u001b[0m: name 'embeddings' is not defined"
     ]
    }
   ],
   "source": [
    "topics, probs = topic_model.fit_transform(texts_to_embed, embeddings)\n",
    "\n",
    "topic_model.get_topic_info().head(20)"
   ]
  },
  {
   "attachments": {},
   "cell_type": "markdown",
   "metadata": {},
   "source": [
    "## Tuning\n",
    "\n",
    "To improve the clustering of topics, we can improve the model in several ways:\n",
    "\n",
    "- Change UDBSCAN settings (min_cluster_size, min_samples, metrics = euclidean, manhattan, cosine)\n",
    "- Manual merging of topics (Two related fine-grained topics could be merged into a broader, more general topic)\n",
    "- Change Sentence Transformer to a different model (ie. \"all-mpnet-base-v2\")\n",
    "\n"
   ]
  },
  {
   "attachments": {},
   "cell_type": "markdown",
   "metadata": {},
   "source": [
    "## CURRENT!:\n",
    "\n",
    "- steps of 2 for hyperparameters\n",
    "- uses cosine through normalization as well - in case it doesnt work it goes back to euclidean\n",
    "- logs and saves results in a csv\n",
    "\n",
    "- "
   ]
  },
  {
   "cell_type": "code",
   "execution_count": 44,
   "metadata": {},
   "outputs": [
    {
     "name": "stdout",
     "output_type": "stream",
     "text": [
      "\n",
      "Embedding model: all-MiniLM-L6-v2\n"
     ]
    },
    {
     "name": "stderr",
     "output_type": "stream",
     "text": [
      "Batches: 100%|██████████| 359/359 [00:32<00:00, 11.13it/s]\n"
     ]
    },
    {
     "name": "stdout",
     "output_type": "stream",
     "text": [
      "\n",
      "Running: {'embedding_model': 'all-MiniLM-L6-v2', 'metric': 'euclidean', 'min_cluster_size': 10, 'min_samples': 5, 'nr_topics': 10}\n"
     ]
    },
    {
     "name": "stderr",
     "output_type": "stream",
     "text": [
      "OMP: Info #276: omp_set_nested routine deprecated, please use omp_set_max_active_levels instead.\n",
      "2025-04-22 17:13:54,539 - BERTopic - WARNING: When you use `pickle` to save/load a BERTopic model,please make sure that the environments in which you saveand load the model are **exactly** the same. The version of BERTopic,its dependencies, and python need to remain the same.\n"
     ]
    },
    {
     "name": "stdout",
     "output_type": "stream",
     "text": [
      "Done | Topics: 9, Outliers: 4590 (40.03%) | Time: 13.08s\n",
      "\n",
      "Running: {'embedding_model': 'all-MiniLM-L6-v2', 'metric': 'euclidean', 'min_cluster_size': 10, 'min_samples': 5, 'nr_topics': 15}\n"
     ]
    },
    {
     "name": "stderr",
     "output_type": "stream",
     "text": [
      "2025-04-22 17:14:02,273 - BERTopic - WARNING: When you use `pickle` to save/load a BERTopic model,please make sure that the environments in which you saveand load the model are **exactly** the same. The version of BERTopic,its dependencies, and python need to remain the same.\n"
     ]
    },
    {
     "name": "stdout",
     "output_type": "stream",
     "text": [
      "Done | Topics: 14, Outliers: 4488 (39.14%) | Time: 3.26s\n",
      "\n",
      "Running: {'embedding_model': 'all-MiniLM-L6-v2', 'metric': 'euclidean', 'min_cluster_size': 10, 'min_samples': 5, 'nr_topics': 20}\n"
     ]
    },
    {
     "name": "stderr",
     "output_type": "stream",
     "text": [
      "2025-04-22 17:14:06,575 - BERTopic - WARNING: When you use `pickle` to save/load a BERTopic model,please make sure that the environments in which you saveand load the model are **exactly** the same. The version of BERTopic,its dependencies, and python need to remain the same.\n"
     ]
    },
    {
     "name": "stdout",
     "output_type": "stream",
     "text": [
      "Done | Topics: 19, Outliers: 4584 (39.98%) | Time: 3.33s\n",
      "\n",
      "Running: {'embedding_model': 'all-MiniLM-L6-v2', 'metric': 'manhattan', 'min_cluster_size': 10, 'min_samples': 5, 'nr_topics': 10}\n"
     ]
    },
    {
     "name": "stderr",
     "output_type": "stream",
     "text": [
      "2025-04-22 17:14:11,258 - BERTopic - WARNING: When you use `pickle` to save/load a BERTopic model,please make sure that the environments in which you saveand load the model are **exactly** the same. The version of BERTopic,its dependencies, and python need to remain the same.\n"
     ]
    },
    {
     "name": "stdout",
     "output_type": "stream",
     "text": [
      "Done | Topics: 9, Outliers: 4467 (38.96%) | Time: 3.73s\n",
      "\n",
      "Running: {'embedding_model': 'all-MiniLM-L6-v2', 'metric': 'manhattan', 'min_cluster_size': 10, 'min_samples': 5, 'nr_topics': 15}\n"
     ]
    },
    {
     "name": "stderr",
     "output_type": "stream",
     "text": [
      "2025-04-22 17:14:16,163 - BERTopic - WARNING: When you use `pickle` to save/load a BERTopic model,please make sure that the environments in which you saveand load the model are **exactly** the same. The version of BERTopic,its dependencies, and python need to remain the same.\n"
     ]
    },
    {
     "name": "stdout",
     "output_type": "stream",
     "text": [
      "Done | Topics: 14, Outliers: 4717 (41.14%) | Time: 3.44s\n",
      "\n",
      "Running: {'embedding_model': 'all-MiniLM-L6-v2', 'metric': 'manhattan', 'min_cluster_size': 10, 'min_samples': 5, 'nr_topics': 20}\n"
     ]
    },
    {
     "name": "stderr",
     "output_type": "stream",
     "text": [
      "2025-04-22 17:14:20,553 - BERTopic - WARNING: When you use `pickle` to save/load a BERTopic model,please make sure that the environments in which you saveand load the model are **exactly** the same. The version of BERTopic,its dependencies, and python need to remain the same.\n"
     ]
    },
    {
     "name": "stdout",
     "output_type": "stream",
     "text": [
      "Done | Topics: 19, Outliers: 4484 (39.1%) | Time: 3.43s\n",
      "\n",
      "Running: {'embedding_model': 'all-MiniLM-L6-v2', 'metric': 'cosine', 'min_cluster_size': 10, 'min_samples': 5, 'nr_topics': 10}\n"
     ]
    },
    {
     "name": "stderr",
     "output_type": "stream",
     "text": [
      "2025-04-22 17:14:24,823 - BERTopic - WARNING: When you use `pickle` to save/load a BERTopic model,please make sure that the environments in which you saveand load the model are **exactly** the same. The version of BERTopic,its dependencies, and python need to remain the same.\n"
     ]
    },
    {
     "name": "stdout",
     "output_type": "stream",
     "text": [
      "Done | Topics: 9, Outliers: 4699 (40.98%) | Time: 3.28s\n",
      "\n",
      "Running: {'embedding_model': 'all-MiniLM-L6-v2', 'metric': 'cosine', 'min_cluster_size': 10, 'min_samples': 5, 'nr_topics': 15}\n"
     ]
    },
    {
     "name": "stderr",
     "output_type": "stream",
     "text": [
      "2025-04-22 17:14:29,187 - BERTopic - WARNING: When you use `pickle` to save/load a BERTopic model,please make sure that the environments in which you saveand load the model are **exactly** the same. The version of BERTopic,its dependencies, and python need to remain the same.\n"
     ]
    },
    {
     "name": "stdout",
     "output_type": "stream",
     "text": [
      "Done | Topics: 14, Outliers: 4701 (41.0%) | Time: 3.37s\n",
      "\n",
      "Running: {'embedding_model': 'all-MiniLM-L6-v2', 'metric': 'cosine', 'min_cluster_size': 10, 'min_samples': 5, 'nr_topics': 20}\n"
     ]
    },
    {
     "name": "stderr",
     "output_type": "stream",
     "text": [
      "2025-04-22 17:14:34,099 - BERTopic - WARNING: When you use `pickle` to save/load a BERTopic model,please make sure that the environments in which you saveand load the model are **exactly** the same. The version of BERTopic,its dependencies, and python need to remain the same.\n"
     ]
    },
    {
     "name": "stdout",
     "output_type": "stream",
     "text": [
      "Done | Topics: 19, Outliers: 4736 (41.3%) | Time: 3.48s\n",
      "\n",
      "Running: {'embedding_model': 'all-MiniLM-L6-v2', 'metric': 'euclidean', 'min_cluster_size': 10, 'min_samples': 7, 'nr_topics': 10}\n"
     ]
    },
    {
     "name": "stderr",
     "output_type": "stream",
     "text": [
      "2025-04-22 17:14:38,322 - BERTopic - WARNING: When you use `pickle` to save/load a BERTopic model,please make sure that the environments in which you saveand load the model are **exactly** the same. The version of BERTopic,its dependencies, and python need to remain the same.\n"
     ]
    },
    {
     "name": "stdout",
     "output_type": "stream",
     "text": [
      "Done | Topics: 9, Outliers: 4762 (41.53%) | Time: 3.25s\n",
      "\n",
      "Running: {'embedding_model': 'all-MiniLM-L6-v2', 'metric': 'euclidean', 'min_cluster_size': 10, 'min_samples': 7, 'nr_topics': 15}\n"
     ]
    },
    {
     "name": "stderr",
     "output_type": "stream",
     "text": [
      "2025-04-22 17:14:42,615 - BERTopic - WARNING: When you use `pickle` to save/load a BERTopic model,please make sure that the environments in which you saveand load the model are **exactly** the same. The version of BERTopic,its dependencies, and python need to remain the same.\n"
     ]
    },
    {
     "name": "stdout",
     "output_type": "stream",
     "text": [
      "Done | Topics: 14, Outliers: 5312 (46.32%) | Time: 3.33s\n",
      "\n",
      "Running: {'embedding_model': 'all-MiniLM-L6-v2', 'metric': 'euclidean', 'min_cluster_size': 10, 'min_samples': 7, 'nr_topics': 20}\n"
     ]
    },
    {
     "name": "stderr",
     "output_type": "stream",
     "text": [
      "2025-04-22 17:14:46,855 - BERTopic - WARNING: When you use `pickle` to save/load a BERTopic model,please make sure that the environments in which you saveand load the model are **exactly** the same. The version of BERTopic,its dependencies, and python need to remain the same.\n"
     ]
    },
    {
     "name": "stdout",
     "output_type": "stream",
     "text": [
      "Done | Topics: 19, Outliers: 4825 (42.08%) | Time: 3.27s\n",
      "\n",
      "Running: {'embedding_model': 'all-MiniLM-L6-v2', 'metric': 'manhattan', 'min_cluster_size': 10, 'min_samples': 7, 'nr_topics': 10}\n"
     ]
    },
    {
     "name": "stderr",
     "output_type": "stream",
     "text": [
      "2025-04-22 17:14:51,640 - BERTopic - WARNING: When you use `pickle` to save/load a BERTopic model,please make sure that the environments in which you saveand load the model are **exactly** the same. The version of BERTopic,its dependencies, and python need to remain the same.\n"
     ]
    },
    {
     "name": "stdout",
     "output_type": "stream",
     "text": [
      "Done | Topics: 9, Outliers: 4793 (41.8%) | Time: 3.36s\n",
      "\n",
      "Running: {'embedding_model': 'all-MiniLM-L6-v2', 'metric': 'manhattan', 'min_cluster_size': 10, 'min_samples': 7, 'nr_topics': 15}\n"
     ]
    },
    {
     "name": "stderr",
     "output_type": "stream",
     "text": [
      "2025-04-22 17:14:56,030 - BERTopic - WARNING: When you use `pickle` to save/load a BERTopic model,please make sure that the environments in which you saveand load the model are **exactly** the same. The version of BERTopic,its dependencies, and python need to remain the same.\n"
     ]
    },
    {
     "name": "stdout",
     "output_type": "stream",
     "text": [
      "Done | Topics: 14, Outliers: 5256 (45.84%) | Time: 3.4s\n",
      "\n",
      "Running: {'embedding_model': 'all-MiniLM-L6-v2', 'metric': 'manhattan', 'min_cluster_size': 10, 'min_samples': 7, 'nr_topics': 20}\n"
     ]
    },
    {
     "name": "stderr",
     "output_type": "stream",
     "text": [
      "2025-04-22 17:15:00,869 - BERTopic - WARNING: When you use `pickle` to save/load a BERTopic model,please make sure that the environments in which you saveand load the model are **exactly** the same. The version of BERTopic,its dependencies, and python need to remain the same.\n"
     ]
    },
    {
     "name": "stdout",
     "output_type": "stream",
     "text": [
      "Done | Topics: 19, Outliers: 4944 (43.12%) | Time: 3.78s\n",
      "\n",
      "Running: {'embedding_model': 'all-MiniLM-L6-v2', 'metric': 'cosine', 'min_cluster_size': 10, 'min_samples': 7, 'nr_topics': 10}\n"
     ]
    },
    {
     "name": "stderr",
     "output_type": "stream",
     "text": [
      "2025-04-22 17:15:05,626 - BERTopic - WARNING: When you use `pickle` to save/load a BERTopic model,please make sure that the environments in which you saveand load the model are **exactly** the same. The version of BERTopic,its dependencies, and python need to remain the same.\n"
     ]
    },
    {
     "name": "stdout",
     "output_type": "stream",
     "text": [
      "Done | Topics: 9, Outliers: 5223 (45.55%) | Time: 3.35s\n",
      "\n",
      "Running: {'embedding_model': 'all-MiniLM-L6-v2', 'metric': 'cosine', 'min_cluster_size': 10, 'min_samples': 7, 'nr_topics': 15}\n"
     ]
    },
    {
     "name": "stderr",
     "output_type": "stream",
     "text": [
      "2025-04-22 17:15:10,085 - BERTopic - WARNING: When you use `pickle` to save/load a BERTopic model,please make sure that the environments in which you saveand load the model are **exactly** the same. The version of BERTopic,its dependencies, and python need to remain the same.\n"
     ]
    },
    {
     "name": "stdout",
     "output_type": "stream",
     "text": [
      "Done | Topics: 14, Outliers: 5120 (44.65%) | Time: 3.39s\n",
      "\n",
      "Running: {'embedding_model': 'all-MiniLM-L6-v2', 'metric': 'cosine', 'min_cluster_size': 10, 'min_samples': 7, 'nr_topics': 20}\n"
     ]
    },
    {
     "name": "stderr",
     "output_type": "stream",
     "text": [
      "2025-04-22 17:15:14,637 - BERTopic - WARNING: When you use `pickle` to save/load a BERTopic model,please make sure that the environments in which you saveand load the model are **exactly** the same. The version of BERTopic,its dependencies, and python need to remain the same.\n"
     ]
    },
    {
     "name": "stdout",
     "output_type": "stream",
     "text": [
      "Done | Topics: 19, Outliers: 5076 (44.27%) | Time: 3.56s\n",
      "\n",
      "Running: {'embedding_model': 'all-MiniLM-L6-v2', 'metric': 'euclidean', 'min_cluster_size': 10, 'min_samples': 9, 'nr_topics': 10}\n"
     ]
    },
    {
     "name": "stderr",
     "output_type": "stream",
     "text": [
      "2025-04-22 17:15:19,049 - BERTopic - WARNING: When you use `pickle` to save/load a BERTopic model,please make sure that the environments in which you saveand load the model are **exactly** the same. The version of BERTopic,its dependencies, and python need to remain the same.\n"
     ]
    },
    {
     "name": "stdout",
     "output_type": "stream",
     "text": [
      "Done | Topics: 9, Outliers: 5032 (43.88%) | Time: 3.42s\n",
      "\n",
      "Running: {'embedding_model': 'all-MiniLM-L6-v2', 'metric': 'euclidean', 'min_cluster_size': 10, 'min_samples': 9, 'nr_topics': 15}\n"
     ]
    },
    {
     "name": "stderr",
     "output_type": "stream",
     "text": [
      "2025-04-22 17:15:23,921 - BERTopic - WARNING: When you use `pickle` to save/load a BERTopic model,please make sure that the environments in which you saveand load the model are **exactly** the same. The version of BERTopic,its dependencies, and python need to remain the same.\n"
     ]
    },
    {
     "name": "stdout",
     "output_type": "stream",
     "text": [
      "Done | Topics: 14, Outliers: 5123 (44.68%) | Time: 3.42s\n",
      "\n",
      "Running: {'embedding_model': 'all-MiniLM-L6-v2', 'metric': 'euclidean', 'min_cluster_size': 10, 'min_samples': 9, 'nr_topics': 20}\n"
     ]
    },
    {
     "name": "stderr",
     "output_type": "stream",
     "text": [
      "2025-04-22 17:15:28,756 - BERTopic - WARNING: When you use `pickle` to save/load a BERTopic model,please make sure that the environments in which you saveand load the model are **exactly** the same. The version of BERTopic,its dependencies, and python need to remain the same.\n"
     ]
    },
    {
     "name": "stdout",
     "output_type": "stream",
     "text": [
      "Done | Topics: 19, Outliers: 4975 (43.39%) | Time: 3.76s\n",
      "\n",
      "Running: {'embedding_model': 'all-MiniLM-L6-v2', 'metric': 'manhattan', 'min_cluster_size': 10, 'min_samples': 9, 'nr_topics': 10}\n"
     ]
    },
    {
     "name": "stderr",
     "output_type": "stream",
     "text": [
      "2025-04-22 17:15:33,753 - BERTopic - WARNING: When you use `pickle` to save/load a BERTopic model,please make sure that the environments in which you saveand load the model are **exactly** the same. The version of BERTopic,its dependencies, and python need to remain the same.\n"
     ]
    },
    {
     "name": "stdout",
     "output_type": "stream",
     "text": [
      "Done | Topics: 9, Outliers: 4849 (42.29%) | Time: 3.86s\n",
      "\n",
      "Running: {'embedding_model': 'all-MiniLM-L6-v2', 'metric': 'manhattan', 'min_cluster_size': 10, 'min_samples': 9, 'nr_topics': 15}\n"
     ]
    },
    {
     "name": "stderr",
     "output_type": "stream",
     "text": [
      "2025-04-22 17:15:38,386 - BERTopic - WARNING: When you use `pickle` to save/load a BERTopic model,please make sure that the environments in which you saveand load the model are **exactly** the same. The version of BERTopic,its dependencies, and python need to remain the same.\n"
     ]
    },
    {
     "name": "stdout",
     "output_type": "stream",
     "text": [
      "Done | Topics: 14, Outliers: 5215 (45.48%) | Time: 3.65s\n",
      "\n",
      "Running: {'embedding_model': 'all-MiniLM-L6-v2', 'metric': 'manhattan', 'min_cluster_size': 10, 'min_samples': 9, 'nr_topics': 20}\n"
     ]
    },
    {
     "name": "stderr",
     "output_type": "stream",
     "text": [
      "2025-04-22 17:15:43,350 - BERTopic - WARNING: When you use `pickle` to save/load a BERTopic model,please make sure that the environments in which you saveand load the model are **exactly** the same. The version of BERTopic,its dependencies, and python need to remain the same.\n"
     ]
    },
    {
     "name": "stdout",
     "output_type": "stream",
     "text": [
      "Done | Topics: 19, Outliers: 5234 (45.64%) | Time: 3.53s\n",
      "\n",
      "Running: {'embedding_model': 'all-MiniLM-L6-v2', 'metric': 'cosine', 'min_cluster_size': 10, 'min_samples': 9, 'nr_topics': 10}\n"
     ]
    },
    {
     "name": "stderr",
     "output_type": "stream",
     "text": [
      "2025-04-22 17:15:47,702 - BERTopic - WARNING: When you use `pickle` to save/load a BERTopic model,please make sure that the environments in which you saveand load the model are **exactly** the same. The version of BERTopic,its dependencies, and python need to remain the same.\n"
     ]
    },
    {
     "name": "stdout",
     "output_type": "stream",
     "text": [
      "Done | Topics: 9, Outliers: 4988 (43.5%) | Time: 3.39s\n",
      "\n",
      "Running: {'embedding_model': 'all-MiniLM-L6-v2', 'metric': 'cosine', 'min_cluster_size': 10, 'min_samples': 9, 'nr_topics': 15}\n"
     ]
    },
    {
     "name": "stderr",
     "output_type": "stream",
     "text": [
      "2025-04-22 17:15:52,370 - BERTopic - WARNING: When you use `pickle` to save/load a BERTopic model,please make sure that the environments in which you saveand load the model are **exactly** the same. The version of BERTopic,its dependencies, and python need to remain the same.\n"
     ]
    },
    {
     "name": "stdout",
     "output_type": "stream",
     "text": [
      "Done | Topics: 14, Outliers: 5232 (45.63%) | Time: 3.64s\n",
      "\n",
      "Running: {'embedding_model': 'all-MiniLM-L6-v2', 'metric': 'cosine', 'min_cluster_size': 10, 'min_samples': 9, 'nr_topics': 20}\n"
     ]
    },
    {
     "name": "stderr",
     "output_type": "stream",
     "text": [
      "2025-04-22 17:15:56,836 - BERTopic - WARNING: When you use `pickle` to save/load a BERTopic model,please make sure that the environments in which you saveand load the model are **exactly** the same. The version of BERTopic,its dependencies, and python need to remain the same.\n"
     ]
    },
    {
     "name": "stdout",
     "output_type": "stream",
     "text": [
      "Done | Topics: 19, Outliers: 4926 (42.96%) | Time: 3.5s\n",
      "\n",
      "Running: {'embedding_model': 'all-MiniLM-L6-v2', 'metric': 'euclidean', 'min_cluster_size': 15, 'min_samples': 5, 'nr_topics': 10}\n"
     ]
    },
    {
     "name": "stderr",
     "output_type": "stream",
     "text": [
      "2025-04-22 17:16:01,661 - BERTopic - WARNING: When you use `pickle` to save/load a BERTopic model,please make sure that the environments in which you saveand load the model are **exactly** the same. The version of BERTopic,its dependencies, and python need to remain the same.\n"
     ]
    },
    {
     "name": "stdout",
     "output_type": "stream",
     "text": [
      "Done | Topics: 9, Outliers: 4936 (43.05%) | Time: 3.42s\n",
      "\n",
      "Running: {'embedding_model': 'all-MiniLM-L6-v2', 'metric': 'euclidean', 'min_cluster_size': 15, 'min_samples': 5, 'nr_topics': 15}\n"
     ]
    },
    {
     "name": "stderr",
     "output_type": "stream",
     "text": [
      "2025-04-22 17:16:06,596 - BERTopic - WARNING: When you use `pickle` to save/load a BERTopic model,please make sure that the environments in which you saveand load the model are **exactly** the same. The version of BERTopic,its dependencies, and python need to remain the same.\n"
     ]
    },
    {
     "name": "stdout",
     "output_type": "stream",
     "text": [
      "Done | Topics: 14, Outliers: 4845 (42.25%) | Time: 3.94s\n",
      "\n",
      "Running: {'embedding_model': 'all-MiniLM-L6-v2', 'metric': 'euclidean', 'min_cluster_size': 15, 'min_samples': 5, 'nr_topics': 20}\n"
     ]
    },
    {
     "name": "stderr",
     "output_type": "stream",
     "text": [
      "2025-04-22 17:16:11,825 - BERTopic - WARNING: When you use `pickle` to save/load a BERTopic model,please make sure that the environments in which you saveand load the model are **exactly** the same. The version of BERTopic,its dependencies, and python need to remain the same.\n"
     ]
    },
    {
     "name": "stdout",
     "output_type": "stream",
     "text": [
      "Done | Topics: 19, Outliers: 4817 (42.01%) | Time: 4.18s\n",
      "\n",
      "Running: {'embedding_model': 'all-MiniLM-L6-v2', 'metric': 'manhattan', 'min_cluster_size': 15, 'min_samples': 5, 'nr_topics': 10}\n"
     ]
    },
    {
     "name": "stderr",
     "output_type": "stream",
     "text": [
      "2025-04-22 17:16:16,617 - BERTopic - WARNING: When you use `pickle` to save/load a BERTopic model,please make sure that the environments in which you saveand load the model are **exactly** the same. The version of BERTopic,its dependencies, and python need to remain the same.\n"
     ]
    },
    {
     "name": "stdout",
     "output_type": "stream",
     "text": [
      "Done | Topics: 9, Outliers: 5127 (44.71%) | Time: 3.76s\n",
      "\n",
      "Running: {'embedding_model': 'all-MiniLM-L6-v2', 'metric': 'manhattan', 'min_cluster_size': 15, 'min_samples': 5, 'nr_topics': 15}\n"
     ]
    },
    {
     "name": "stderr",
     "output_type": "stream",
     "text": [
      "2025-04-22 17:16:21,516 - BERTopic - WARNING: When you use `pickle` to save/load a BERTopic model,please make sure that the environments in which you saveand load the model are **exactly** the same. The version of BERTopic,its dependencies, and python need to remain the same.\n"
     ]
    },
    {
     "name": "stdout",
     "output_type": "stream",
     "text": [
      "Done | Topics: 14, Outliers: 4905 (42.77%) | Time: 3.49s\n",
      "\n",
      "Running: {'embedding_model': 'all-MiniLM-L6-v2', 'metric': 'manhattan', 'min_cluster_size': 15, 'min_samples': 5, 'nr_topics': 20}\n"
     ]
    },
    {
     "name": "stderr",
     "output_type": "stream",
     "text": [
      "2025-04-22 17:16:26,639 - BERTopic - WARNING: When you use `pickle` to save/load a BERTopic model,please make sure that the environments in which you saveand load the model are **exactly** the same. The version of BERTopic,its dependencies, and python need to remain the same.\n"
     ]
    },
    {
     "name": "stdout",
     "output_type": "stream",
     "text": [
      "Done | Topics: 19, Outliers: 4790 (41.77%) | Time: 4.14s\n",
      "\n",
      "Running: {'embedding_model': 'all-MiniLM-L6-v2', 'metric': 'cosine', 'min_cluster_size': 15, 'min_samples': 5, 'nr_topics': 10}\n"
     ]
    },
    {
     "name": "stderr",
     "output_type": "stream",
     "text": [
      "2025-04-22 17:16:31,171 - BERTopic - WARNING: When you use `pickle` to save/load a BERTopic model,please make sure that the environments in which you saveand load the model are **exactly** the same. The version of BERTopic,its dependencies, and python need to remain the same.\n"
     ]
    },
    {
     "name": "stdout",
     "output_type": "stream",
     "text": [
      "Done | Topics: 9, Outliers: 5111 (44.57%) | Time: 3.52s\n",
      "\n",
      "Running: {'embedding_model': 'all-MiniLM-L6-v2', 'metric': 'cosine', 'min_cluster_size': 15, 'min_samples': 5, 'nr_topics': 15}\n"
     ]
    },
    {
     "name": "stderr",
     "output_type": "stream",
     "text": [
      "2025-04-22 17:16:35,556 - BERTopic - WARNING: When you use `pickle` to save/load a BERTopic model,please make sure that the environments in which you saveand load the model are **exactly** the same. The version of BERTopic,its dependencies, and python need to remain the same.\n"
     ]
    },
    {
     "name": "stdout",
     "output_type": "stream",
     "text": [
      "Done | Topics: 14, Outliers: 5062 (44.14%) | Time: 3.42s\n",
      "\n",
      "Running: {'embedding_model': 'all-MiniLM-L6-v2', 'metric': 'cosine', 'min_cluster_size': 15, 'min_samples': 5, 'nr_topics': 20}\n"
     ]
    },
    {
     "name": "stderr",
     "output_type": "stream",
     "text": [
      "2025-04-22 17:16:39,960 - BERTopic - WARNING: When you use `pickle` to save/load a BERTopic model,please make sure that the environments in which you saveand load the model are **exactly** the same. The version of BERTopic,its dependencies, and python need to remain the same.\n"
     ]
    },
    {
     "name": "stdout",
     "output_type": "stream",
     "text": [
      "Done | Topics: 19, Outliers: 4766 (41.56%) | Time: 3.43s\n",
      "\n",
      "Running: {'embedding_model': 'all-MiniLM-L6-v2', 'metric': 'euclidean', 'min_cluster_size': 15, 'min_samples': 7, 'nr_topics': 10}\n"
     ]
    },
    {
     "name": "stderr",
     "output_type": "stream",
     "text": [
      "2025-04-22 17:16:44,788 - BERTopic - WARNING: When you use `pickle` to save/load a BERTopic model,please make sure that the environments in which you saveand load the model are **exactly** the same. The version of BERTopic,its dependencies, and python need to remain the same.\n"
     ]
    },
    {
     "name": "stdout",
     "output_type": "stream",
     "text": [
      "Done | Topics: 9, Outliers: 5135 (44.78%) | Time: 3.4s\n",
      "\n",
      "Running: {'embedding_model': 'all-MiniLM-L6-v2', 'metric': 'euclidean', 'min_cluster_size': 15, 'min_samples': 7, 'nr_topics': 15}\n"
     ]
    },
    {
     "name": "stderr",
     "output_type": "stream",
     "text": [
      "2025-04-22 17:16:49,380 - BERTopic - WARNING: When you use `pickle` to save/load a BERTopic model,please make sure that the environments in which you saveand load the model are **exactly** the same. The version of BERTopic,its dependencies, and python need to remain the same.\n"
     ]
    },
    {
     "name": "stdout",
     "output_type": "stream",
     "text": [
      "Done | Topics: 14, Outliers: 4909 (42.81%) | Time: 3.6s\n",
      "\n",
      "Running: {'embedding_model': 'all-MiniLM-L6-v2', 'metric': 'euclidean', 'min_cluster_size': 15, 'min_samples': 7, 'nr_topics': 20}\n"
     ]
    },
    {
     "name": "stderr",
     "output_type": "stream",
     "text": [
      "2025-04-22 17:16:53,766 - BERTopic - WARNING: When you use `pickle` to save/load a BERTopic model,please make sure that the environments in which you saveand load the model are **exactly** the same. The version of BERTopic,its dependencies, and python need to remain the same.\n"
     ]
    },
    {
     "name": "stdout",
     "output_type": "stream",
     "text": [
      "Done | Topics: 19, Outliers: 5087 (44.36%) | Time: 3.33s\n",
      "\n",
      "Running: {'embedding_model': 'all-MiniLM-L6-v2', 'metric': 'manhattan', 'min_cluster_size': 15, 'min_samples': 7, 'nr_topics': 10}\n"
     ]
    },
    {
     "name": "stderr",
     "output_type": "stream",
     "text": [
      "2025-04-22 17:16:58,252 - BERTopic - WARNING: When you use `pickle` to save/load a BERTopic model,please make sure that the environments in which you saveand load the model are **exactly** the same. The version of BERTopic,its dependencies, and python need to remain the same.\n"
     ]
    },
    {
     "name": "stdout",
     "output_type": "stream",
     "text": [
      "Done | Topics: 9, Outliers: 5237 (45.67%) | Time: 3.47s\n",
      "\n",
      "Running: {'embedding_model': 'all-MiniLM-L6-v2', 'metric': 'manhattan', 'min_cluster_size': 15, 'min_samples': 7, 'nr_topics': 15}\n"
     ]
    },
    {
     "name": "stderr",
     "output_type": "stream",
     "text": [
      "2025-04-22 17:17:03,078 - BERTopic - WARNING: When you use `pickle` to save/load a BERTopic model,please make sure that the environments in which you saveand load the model are **exactly** the same. The version of BERTopic,its dependencies, and python need to remain the same.\n"
     ]
    },
    {
     "name": "stdout",
     "output_type": "stream",
     "text": [
      "Done | Topics: 14, Outliers: 5200 (45.35%) | Time: 3.43s\n",
      "\n",
      "Running: {'embedding_model': 'all-MiniLM-L6-v2', 'metric': 'manhattan', 'min_cluster_size': 15, 'min_samples': 7, 'nr_topics': 20}\n"
     ]
    },
    {
     "name": "stderr",
     "output_type": "stream",
     "text": [
      "2025-04-22 17:17:07,850 - BERTopic - WARNING: When you use `pickle` to save/load a BERTopic model,please make sure that the environments in which you saveand load the model are **exactly** the same. The version of BERTopic,its dependencies, and python need to remain the same.\n"
     ]
    },
    {
     "name": "stdout",
     "output_type": "stream",
     "text": [
      "Done | Topics: 19, Outliers: 5183 (45.2%) | Time: 3.75s\n",
      "\n",
      "Running: {'embedding_model': 'all-MiniLM-L6-v2', 'metric': 'cosine', 'min_cluster_size': 15, 'min_samples': 7, 'nr_topics': 10}\n"
     ]
    },
    {
     "name": "stderr",
     "output_type": "stream",
     "text": [
      "2025-04-22 17:17:12,205 - BERTopic - WARNING: When you use `pickle` to save/load a BERTopic model,please make sure that the environments in which you saveand load the model are **exactly** the same. The version of BERTopic,its dependencies, and python need to remain the same.\n"
     ]
    },
    {
     "name": "stdout",
     "output_type": "stream",
     "text": [
      "Done | Topics: 9, Outliers: 4928 (42.98%) | Time: 3.35s\n",
      "\n",
      "Running: {'embedding_model': 'all-MiniLM-L6-v2', 'metric': 'cosine', 'min_cluster_size': 15, 'min_samples': 7, 'nr_topics': 15}\n"
     ]
    },
    {
     "name": "stderr",
     "output_type": "stream",
     "text": [
      "2025-04-22 17:17:16,600 - BERTopic - WARNING: When you use `pickle` to save/load a BERTopic model,please make sure that the environments in which you saveand load the model are **exactly** the same. The version of BERTopic,its dependencies, and python need to remain the same.\n"
     ]
    },
    {
     "name": "stdout",
     "output_type": "stream",
     "text": [
      "Done | Topics: 14, Outliers: 5128 (44.72%) | Time: 3.4s\n",
      "\n",
      "Running: {'embedding_model': 'all-MiniLM-L6-v2', 'metric': 'cosine', 'min_cluster_size': 15, 'min_samples': 7, 'nr_topics': 20}\n"
     ]
    },
    {
     "name": "stderr",
     "output_type": "stream",
     "text": [
      "2025-04-22 17:17:22,369 - BERTopic - WARNING: When you use `pickle` to save/load a BERTopic model,please make sure that the environments in which you saveand load the model are **exactly** the same. The version of BERTopic,its dependencies, and python need to remain the same.\n"
     ]
    },
    {
     "name": "stdout",
     "output_type": "stream",
     "text": [
      "Done | Topics: 19, Outliers: 4648 (40.53%) | Time: 3.99s\n",
      "\n",
      "Running: {'embedding_model': 'all-MiniLM-L6-v2', 'metric': 'euclidean', 'min_cluster_size': 15, 'min_samples': 9, 'nr_topics': 10}\n"
     ]
    },
    {
     "name": "stderr",
     "output_type": "stream",
     "text": [
      "2025-04-22 17:17:27,580 - BERTopic - WARNING: When you use `pickle` to save/load a BERTopic model,please make sure that the environments in which you saveand load the model are **exactly** the same. The version of BERTopic,its dependencies, and python need to remain the same.\n"
     ]
    },
    {
     "name": "stdout",
     "output_type": "stream",
     "text": [
      "Done | Topics: 9, Outliers: 5014 (43.73%) | Time: 4.14s\n",
      "\n",
      "Running: {'embedding_model': 'all-MiniLM-L6-v2', 'metric': 'euclidean', 'min_cluster_size': 15, 'min_samples': 9, 'nr_topics': 15}\n"
     ]
    },
    {
     "name": "stderr",
     "output_type": "stream",
     "text": [
      "2025-04-22 17:17:32,906 - BERTopic - WARNING: When you use `pickle` to save/load a BERTopic model,please make sure that the environments in which you saveand load the model are **exactly** the same. The version of BERTopic,its dependencies, and python need to remain the same.\n"
     ]
    },
    {
     "name": "stdout",
     "output_type": "stream",
     "text": [
      "Done | Topics: 14, Outliers: 5354 (46.69%) | Time: 4.06s\n",
      "\n",
      "Running: {'embedding_model': 'all-MiniLM-L6-v2', 'metric': 'euclidean', 'min_cluster_size': 15, 'min_samples': 9, 'nr_topics': 20}\n"
     ]
    },
    {
     "name": "stderr",
     "output_type": "stream",
     "text": [
      "2025-04-22 17:17:38,078 - BERTopic - WARNING: When you use `pickle` to save/load a BERTopic model,please make sure that the environments in which you saveand load the model are **exactly** the same. The version of BERTopic,its dependencies, and python need to remain the same.\n"
     ]
    },
    {
     "name": "stdout",
     "output_type": "stream",
     "text": [
      "Done | Topics: 19, Outliers: 5304 (46.25%) | Time: 4.08s\n",
      "\n",
      "Running: {'embedding_model': 'all-MiniLM-L6-v2', 'metric': 'manhattan', 'min_cluster_size': 15, 'min_samples': 9, 'nr_topics': 10}\n"
     ]
    },
    {
     "name": "stderr",
     "output_type": "stream",
     "text": [
      "2025-04-22 17:17:43,206 - BERTopic - WARNING: When you use `pickle` to save/load a BERTopic model,please make sure that the environments in which you saveand load the model are **exactly** the same. The version of BERTopic,its dependencies, and python need to remain the same.\n"
     ]
    },
    {
     "name": "stdout",
     "output_type": "stream",
     "text": [
      "Done | Topics: 9, Outliers: 5221 (45.53%) | Time: 3.8s\n",
      "\n",
      "Running: {'embedding_model': 'all-MiniLM-L6-v2', 'metric': 'manhattan', 'min_cluster_size': 15, 'min_samples': 9, 'nr_topics': 15}\n"
     ]
    },
    {
     "name": "stderr",
     "output_type": "stream",
     "text": [
      "2025-04-22 17:17:48,309 - BERTopic - WARNING: When you use `pickle` to save/load a BERTopic model,please make sure that the environments in which you saveand load the model are **exactly** the same. The version of BERTopic,its dependencies, and python need to remain the same.\n"
     ]
    },
    {
     "name": "stdout",
     "output_type": "stream",
     "text": [
      "Done | Topics: 14, Outliers: 5201 (45.36%) | Time: 3.6s\n",
      "\n",
      "Running: {'embedding_model': 'all-MiniLM-L6-v2', 'metric': 'manhattan', 'min_cluster_size': 15, 'min_samples': 9, 'nr_topics': 20}\n"
     ]
    },
    {
     "name": "stderr",
     "output_type": "stream",
     "text": [
      "2025-04-22 17:17:52,864 - BERTopic - WARNING: When you use `pickle` to save/load a BERTopic model,please make sure that the environments in which you saveand load the model are **exactly** the same. The version of BERTopic,its dependencies, and python need to remain the same.\n"
     ]
    },
    {
     "name": "stdout",
     "output_type": "stream",
     "text": [
      "Done | Topics: 19, Outliers: 5294 (46.17%) | Time: 3.57s\n",
      "\n",
      "Running: {'embedding_model': 'all-MiniLM-L6-v2', 'metric': 'cosine', 'min_cluster_size': 15, 'min_samples': 9, 'nr_topics': 10}\n"
     ]
    },
    {
     "name": "stderr",
     "output_type": "stream",
     "text": [
      "2025-04-22 17:17:57,253 - BERTopic - WARNING: When you use `pickle` to save/load a BERTopic model,please make sure that the environments in which you saveand load the model are **exactly** the same. The version of BERTopic,its dependencies, and python need to remain the same.\n"
     ]
    },
    {
     "name": "stdout",
     "output_type": "stream",
     "text": [
      "Done | Topics: 9, Outliers: 5272 (45.98%) | Time: 3.4s\n",
      "\n",
      "Running: {'embedding_model': 'all-MiniLM-L6-v2', 'metric': 'cosine', 'min_cluster_size': 15, 'min_samples': 9, 'nr_topics': 15}\n"
     ]
    },
    {
     "name": "stderr",
     "output_type": "stream",
     "text": [
      "2025-04-22 17:18:01,669 - BERTopic - WARNING: When you use `pickle` to save/load a BERTopic model,please make sure that the environments in which you saveand load the model are **exactly** the same. The version of BERTopic,its dependencies, and python need to remain the same.\n"
     ]
    },
    {
     "name": "stdout",
     "output_type": "stream",
     "text": [
      "Done | Topics: 14, Outliers: 5351 (46.66%) | Time: 3.42s\n",
      "\n",
      "Running: {'embedding_model': 'all-MiniLM-L6-v2', 'metric': 'cosine', 'min_cluster_size': 15, 'min_samples': 9, 'nr_topics': 20}\n"
     ]
    },
    {
     "name": "stderr",
     "output_type": "stream",
     "text": [
      "2025-04-22 17:18:06,583 - BERTopic - WARNING: When you use `pickle` to save/load a BERTopic model,please make sure that the environments in which you saveand load the model are **exactly** the same. The version of BERTopic,its dependencies, and python need to remain the same.\n"
     ]
    },
    {
     "name": "stdout",
     "output_type": "stream",
     "text": [
      "Done | Topics: 19, Outliers: 5270 (45.96%) | Time: 3.44s\n",
      "\n",
      "Running: {'embedding_model': 'all-MiniLM-L6-v2', 'metric': 'euclidean', 'min_cluster_size': 20, 'min_samples': 5, 'nr_topics': 10}\n"
     ]
    },
    {
     "name": "stderr",
     "output_type": "stream",
     "text": [
      "2025-04-22 17:18:11,075 - BERTopic - WARNING: When you use `pickle` to save/load a BERTopic model,please make sure that the environments in which you saveand load the model are **exactly** the same. The version of BERTopic,its dependencies, and python need to remain the same.\n"
     ]
    },
    {
     "name": "stdout",
     "output_type": "stream",
     "text": [
      "Done | Topics: 9, Outliers: 5180 (45.17%) | Time: 3.43s\n",
      "\n",
      "Running: {'embedding_model': 'all-MiniLM-L6-v2', 'metric': 'euclidean', 'min_cluster_size': 20, 'min_samples': 5, 'nr_topics': 15}\n"
     ]
    },
    {
     "name": "stderr",
     "output_type": "stream",
     "text": [
      "2025-04-22 17:18:15,526 - BERTopic - WARNING: When you use `pickle` to save/load a BERTopic model,please make sure that the environments in which you saveand load the model are **exactly** the same. The version of BERTopic,its dependencies, and python need to remain the same.\n"
     ]
    },
    {
     "name": "stdout",
     "output_type": "stream",
     "text": [
      "Done | Topics: 14, Outliers: 5198 (45.33%) | Time: 3.38s\n",
      "\n",
      "Running: {'embedding_model': 'all-MiniLM-L6-v2', 'metric': 'euclidean', 'min_cluster_size': 20, 'min_samples': 5, 'nr_topics': 20}\n"
     ]
    },
    {
     "name": "stderr",
     "output_type": "stream",
     "text": [
      "2025-04-22 17:18:20,271 - BERTopic - WARNING: When you use `pickle` to save/load a BERTopic model,please make sure that the environments in which you saveand load the model are **exactly** the same. The version of BERTopic,its dependencies, and python need to remain the same.\n"
     ]
    },
    {
     "name": "stdout",
     "output_type": "stream",
     "text": [
      "Done | Topics: 19, Outliers: 4984 (43.46%) | Time: 3.71s\n",
      "\n",
      "Running: {'embedding_model': 'all-MiniLM-L6-v2', 'metric': 'manhattan', 'min_cluster_size': 20, 'min_samples': 5, 'nr_topics': 10}\n"
     ]
    },
    {
     "name": "stderr",
     "output_type": "stream",
     "text": [
      "2025-04-22 17:18:25,951 - BERTopic - WARNING: When you use `pickle` to save/load a BERTopic model,please make sure that the environments in which you saveand load the model are **exactly** the same. The version of BERTopic,its dependencies, and python need to remain the same.\n"
     ]
    },
    {
     "name": "stdout",
     "output_type": "stream",
     "text": [
      "Done | Topics: 9, Outliers: 5178 (45.16%) | Time: 4.43s\n",
      "\n",
      "Running: {'embedding_model': 'all-MiniLM-L6-v2', 'metric': 'manhattan', 'min_cluster_size': 20, 'min_samples': 5, 'nr_topics': 15}\n"
     ]
    },
    {
     "name": "stderr",
     "output_type": "stream",
     "text": [
      "2025-04-22 17:18:31,223 - BERTopic - WARNING: When you use `pickle` to save/load a BERTopic model,please make sure that the environments in which you saveand load the model are **exactly** the same. The version of BERTopic,its dependencies, and python need to remain the same.\n"
     ]
    },
    {
     "name": "stdout",
     "output_type": "stream",
     "text": [
      "Done | Topics: 14, Outliers: 5048 (44.02%) | Time: 3.64s\n",
      "\n",
      "Running: {'embedding_model': 'all-MiniLM-L6-v2', 'metric': 'manhattan', 'min_cluster_size': 20, 'min_samples': 5, 'nr_topics': 20}\n"
     ]
    },
    {
     "name": "stderr",
     "output_type": "stream",
     "text": [
      "2025-04-22 17:18:36,169 - BERTopic - WARNING: When you use `pickle` to save/load a BERTopic model,please make sure that the environments in which you saveand load the model are **exactly** the same. The version of BERTopic,its dependencies, and python need to remain the same.\n"
     ]
    },
    {
     "name": "stdout",
     "output_type": "stream",
     "text": [
      "Done | Topics: 19, Outliers: 4951 (43.18%) | Time: 3.87s\n",
      "\n",
      "Running: {'embedding_model': 'all-MiniLM-L6-v2', 'metric': 'cosine', 'min_cluster_size': 20, 'min_samples': 5, 'nr_topics': 10}\n"
     ]
    },
    {
     "name": "stderr",
     "output_type": "stream",
     "text": [
      "2025-04-22 17:18:41,519 - BERTopic - WARNING: When you use `pickle` to save/load a BERTopic model,please make sure that the environments in which you saveand load the model are **exactly** the same. The version of BERTopic,its dependencies, and python need to remain the same.\n"
     ]
    },
    {
     "name": "stdout",
     "output_type": "stream",
     "text": [
      "Done | Topics: 9, Outliers: 4502 (39.26%) | Time: 4.26s\n",
      "\n",
      "Running: {'embedding_model': 'all-MiniLM-L6-v2', 'metric': 'cosine', 'min_cluster_size': 20, 'min_samples': 5, 'nr_topics': 15}\n"
     ]
    },
    {
     "name": "stderr",
     "output_type": "stream",
     "text": [
      "2025-04-22 17:18:45,918 - BERTopic - WARNING: When you use `pickle` to save/load a BERTopic model,please make sure that the environments in which you saveand load the model are **exactly** the same. The version of BERTopic,its dependencies, and python need to remain the same.\n"
     ]
    },
    {
     "name": "stdout",
     "output_type": "stream",
     "text": [
      "Done | Topics: 14, Outliers: 5220 (45.52%) | Time: 3.35s\n",
      "\n",
      "Running: {'embedding_model': 'all-MiniLM-L6-v2', 'metric': 'cosine', 'min_cluster_size': 20, 'min_samples': 5, 'nr_topics': 20}\n"
     ]
    },
    {
     "name": "stderr",
     "output_type": "stream",
     "text": [
      "2025-04-22 17:18:50,766 - BERTopic - WARNING: When you use `pickle` to save/load a BERTopic model,please make sure that the environments in which you saveand load the model are **exactly** the same. The version of BERTopic,its dependencies, and python need to remain the same.\n"
     ]
    },
    {
     "name": "stdout",
     "output_type": "stream",
     "text": [
      "Done | Topics: 19, Outliers: 4779 (41.68%) | Time: 3.4s\n",
      "\n",
      "Running: {'embedding_model': 'all-MiniLM-L6-v2', 'metric': 'euclidean', 'min_cluster_size': 20, 'min_samples': 7, 'nr_topics': 10}\n"
     ]
    },
    {
     "name": "stderr",
     "output_type": "stream",
     "text": [
      "2025-04-22 17:18:55,088 - BERTopic - WARNING: When you use `pickle` to save/load a BERTopic model,please make sure that the environments in which you saveand load the model are **exactly** the same. The version of BERTopic,its dependencies, and python need to remain the same.\n"
     ]
    },
    {
     "name": "stdout",
     "output_type": "stream",
     "text": [
      "Done | Topics: 9, Outliers: 4941 (43.09%) | Time: 3.31s\n",
      "\n",
      "Running: {'embedding_model': 'all-MiniLM-L6-v2', 'metric': 'euclidean', 'min_cluster_size': 20, 'min_samples': 7, 'nr_topics': 15}\n"
     ]
    },
    {
     "name": "stderr",
     "output_type": "stream",
     "text": [
      "2025-04-22 17:18:59,536 - BERTopic - WARNING: When you use `pickle` to save/load a BERTopic model,please make sure that the environments in which you saveand load the model are **exactly** the same. The version of BERTopic,its dependencies, and python need to remain the same.\n"
     ]
    },
    {
     "name": "stdout",
     "output_type": "stream",
     "text": [
      "Done | Topics: 14, Outliers: 4689 (40.89%) | Time: 3.4s\n",
      "\n",
      "Running: {'embedding_model': 'all-MiniLM-L6-v2', 'metric': 'euclidean', 'min_cluster_size': 20, 'min_samples': 7, 'nr_topics': 20}\n"
     ]
    },
    {
     "name": "stderr",
     "output_type": "stream",
     "text": [
      "2025-04-22 17:19:04,636 - BERTopic - WARNING: When you use `pickle` to save/load a BERTopic model,please make sure that the environments in which you saveand load the model are **exactly** the same. The version of BERTopic,its dependencies, and python need to remain the same.\n"
     ]
    },
    {
     "name": "stdout",
     "output_type": "stream",
     "text": [
      "Done | Topics: 19, Outliers: 4921 (42.91%) | Time: 4.06s\n",
      "\n",
      "Running: {'embedding_model': 'all-MiniLM-L6-v2', 'metric': 'manhattan', 'min_cluster_size': 20, 'min_samples': 7, 'nr_topics': 10}\n"
     ]
    },
    {
     "name": "stderr",
     "output_type": "stream",
     "text": [
      "2025-04-22 17:19:09,549 - BERTopic - WARNING: When you use `pickle` to save/load a BERTopic model,please make sure that the environments in which you saveand load the model are **exactly** the same. The version of BERTopic,its dependencies, and python need to remain the same.\n"
     ]
    },
    {
     "name": "stdout",
     "output_type": "stream",
     "text": [
      "Done | Topics: 9, Outliers: 5142 (44.84%) | Time: 3.74s\n",
      "\n",
      "Running: {'embedding_model': 'all-MiniLM-L6-v2', 'metric': 'manhattan', 'min_cluster_size': 20, 'min_samples': 7, 'nr_topics': 15}\n"
     ]
    },
    {
     "name": "stderr",
     "output_type": "stream",
     "text": [
      "2025-04-22 17:19:14,411 - BERTopic - WARNING: When you use `pickle` to save/load a BERTopic model,please make sure that the environments in which you saveand load the model are **exactly** the same. The version of BERTopic,its dependencies, and python need to remain the same.\n"
     ]
    },
    {
     "name": "stdout",
     "output_type": "stream",
     "text": [
      "Done | Topics: 14, Outliers: 4830 (42.12%) | Time: 3.38s\n",
      "\n",
      "Running: {'embedding_model': 'all-MiniLM-L6-v2', 'metric': 'manhattan', 'min_cluster_size': 20, 'min_samples': 7, 'nr_topics': 20}\n"
     ]
    },
    {
     "name": "stderr",
     "output_type": "stream",
     "text": [
      "2025-04-22 17:19:18,918 - BERTopic - WARNING: When you use `pickle` to save/load a BERTopic model,please make sure that the environments in which you saveand load the model are **exactly** the same. The version of BERTopic,its dependencies, and python need to remain the same.\n"
     ]
    },
    {
     "name": "stdout",
     "output_type": "stream",
     "text": [
      "Done | Topics: 19, Outliers: 5035 (43.91%) | Time: 3.47s\n",
      "\n",
      "Running: {'embedding_model': 'all-MiniLM-L6-v2', 'metric': 'cosine', 'min_cluster_size': 20, 'min_samples': 7, 'nr_topics': 10}\n"
     ]
    },
    {
     "name": "stderr",
     "output_type": "stream",
     "text": [
      "2025-04-22 17:19:23,279 - BERTopic - WARNING: When you use `pickle` to save/load a BERTopic model,please make sure that the environments in which you saveand load the model are **exactly** the same. The version of BERTopic,its dependencies, and python need to remain the same.\n"
     ]
    },
    {
     "name": "stdout",
     "output_type": "stream",
     "text": [
      "Done | Topics: 9, Outliers: 5290 (46.13%) | Time: 3.35s\n",
      "\n",
      "Running: {'embedding_model': 'all-MiniLM-L6-v2', 'metric': 'cosine', 'min_cluster_size': 20, 'min_samples': 7, 'nr_topics': 15}\n"
     ]
    },
    {
     "name": "stderr",
     "output_type": "stream",
     "text": [
      "2025-04-22 17:19:27,750 - BERTopic - WARNING: When you use `pickle` to save/load a BERTopic model,please make sure that the environments in which you saveand load the model are **exactly** the same. The version of BERTopic,its dependencies, and python need to remain the same.\n"
     ]
    },
    {
     "name": "stdout",
     "output_type": "stream",
     "text": [
      "Done | Topics: 14, Outliers: 5146 (44.88%) | Time: 3.44s\n",
      "\n",
      "Running: {'embedding_model': 'all-MiniLM-L6-v2', 'metric': 'cosine', 'min_cluster_size': 20, 'min_samples': 7, 'nr_topics': 20}\n"
     ]
    },
    {
     "name": "stderr",
     "output_type": "stream",
     "text": [
      "2025-04-22 17:19:32,281 - BERTopic - WARNING: When you use `pickle` to save/load a BERTopic model,please make sure that the environments in which you saveand load the model are **exactly** the same. The version of BERTopic,its dependencies, and python need to remain the same.\n"
     ]
    },
    {
     "name": "stdout",
     "output_type": "stream",
     "text": [
      "Done | Topics: 19, Outliers: 4936 (43.05%) | Time: 3.49s\n",
      "\n",
      "Running: {'embedding_model': 'all-MiniLM-L6-v2', 'metric': 'euclidean', 'min_cluster_size': 20, 'min_samples': 9, 'nr_topics': 10}\n"
     ]
    },
    {
     "name": "stderr",
     "output_type": "stream",
     "text": [
      "2025-04-22 17:19:37,154 - BERTopic - WARNING: When you use `pickle` to save/load a BERTopic model,please make sure that the environments in which you saveand load the model are **exactly** the same. The version of BERTopic,its dependencies, and python need to remain the same.\n"
     ]
    },
    {
     "name": "stdout",
     "output_type": "stream",
     "text": [
      "Done | Topics: 9, Outliers: 5060 (44.13%) | Time: 3.35s\n",
      "\n",
      "Running: {'embedding_model': 'all-MiniLM-L6-v2', 'metric': 'euclidean', 'min_cluster_size': 20, 'min_samples': 9, 'nr_topics': 15}\n"
     ]
    },
    {
     "name": "stderr",
     "output_type": "stream",
     "text": [
      "2025-04-22 17:19:41,603 - BERTopic - WARNING: When you use `pickle` to save/load a BERTopic model,please make sure that the environments in which you saveand load the model are **exactly** the same. The version of BERTopic,its dependencies, and python need to remain the same.\n"
     ]
    },
    {
     "name": "stdout",
     "output_type": "stream",
     "text": [
      "Done | Topics: 14, Outliers: 5342 (46.59%) | Time: 3.39s\n",
      "\n",
      "Running: {'embedding_model': 'all-MiniLM-L6-v2', 'metric': 'euclidean', 'min_cluster_size': 20, 'min_samples': 9, 'nr_topics': 20}\n"
     ]
    },
    {
     "name": "stderr",
     "output_type": "stream",
     "text": [
      "2025-04-22 17:19:46,004 - BERTopic - WARNING: When you use `pickle` to save/load a BERTopic model,please make sure that the environments in which you saveand load the model are **exactly** the same. The version of BERTopic,its dependencies, and python need to remain the same.\n"
     ]
    },
    {
     "name": "stdout",
     "output_type": "stream",
     "text": [
      "Done | Topics: 19, Outliers: 4560 (39.77%) | Time: 3.36s\n",
      "\n",
      "Running: {'embedding_model': 'all-MiniLM-L6-v2', 'metric': 'manhattan', 'min_cluster_size': 20, 'min_samples': 9, 'nr_topics': 10}\n"
     ]
    },
    {
     "name": "stderr",
     "output_type": "stream",
     "text": [
      "2025-04-22 17:19:51,230 - BERTopic - WARNING: When you use `pickle` to save/load a BERTopic model,please make sure that the environments in which you saveand load the model are **exactly** the same. The version of BERTopic,its dependencies, and python need to remain the same.\n"
     ]
    },
    {
     "name": "stdout",
     "output_type": "stream",
     "text": [
      "Done | Topics: 9, Outliers: 5329 (46.47%) | Time: 4.18s\n",
      "\n",
      "Running: {'embedding_model': 'all-MiniLM-L6-v2', 'metric': 'manhattan', 'min_cluster_size': 20, 'min_samples': 9, 'nr_topics': 15}\n"
     ]
    },
    {
     "name": "stderr",
     "output_type": "stream",
     "text": [
      "2025-04-22 17:19:56,067 - BERTopic - WARNING: When you use `pickle` to save/load a BERTopic model,please make sure that the environments in which you saveand load the model are **exactly** the same. The version of BERTopic,its dependencies, and python need to remain the same.\n"
     ]
    },
    {
     "name": "stdout",
     "output_type": "stream",
     "text": [
      "Done | Topics: 14, Outliers: 5209 (45.43%) | Time: 3.38s\n",
      "\n",
      "Running: {'embedding_model': 'all-MiniLM-L6-v2', 'metric': 'manhattan', 'min_cluster_size': 20, 'min_samples': 9, 'nr_topics': 20}\n"
     ]
    },
    {
     "name": "stderr",
     "output_type": "stream",
     "text": [
      "2025-04-22 17:20:00,454 - BERTopic - WARNING: When you use `pickle` to save/load a BERTopic model,please make sure that the environments in which you saveand load the model are **exactly** the same. The version of BERTopic,its dependencies, and python need to remain the same.\n"
     ]
    },
    {
     "name": "stdout",
     "output_type": "stream",
     "text": [
      "Done | Topics: 19, Outliers: 5357 (46.72%) | Time: 3.37s\n",
      "\n",
      "Running: {'embedding_model': 'all-MiniLM-L6-v2', 'metric': 'cosine', 'min_cluster_size': 20, 'min_samples': 9, 'nr_topics': 10}\n"
     ]
    },
    {
     "name": "stderr",
     "output_type": "stream",
     "text": [
      "2025-04-22 17:20:04,971 - BERTopic - WARNING: When you use `pickle` to save/load a BERTopic model,please make sure that the environments in which you saveand load the model are **exactly** the same. The version of BERTopic,its dependencies, and python need to remain the same.\n"
     ]
    },
    {
     "name": "stdout",
     "output_type": "stream",
     "text": [
      "Done | Topics: 9, Outliers: 4850 (42.3%) | Time: 3.42s\n",
      "\n",
      "Running: {'embedding_model': 'all-MiniLM-L6-v2', 'metric': 'cosine', 'min_cluster_size': 20, 'min_samples': 9, 'nr_topics': 15}\n"
     ]
    },
    {
     "name": "stderr",
     "output_type": "stream",
     "text": [
      "2025-04-22 17:20:09,498 - BERTopic - WARNING: When you use `pickle` to save/load a BERTopic model,please make sure that the environments in which you saveand load the model are **exactly** the same. The version of BERTopic,its dependencies, and python need to remain the same.\n"
     ]
    },
    {
     "name": "stdout",
     "output_type": "stream",
     "text": [
      "Done | Topics: 14, Outliers: 5327 (46.46%) | Time: 3.47s\n",
      "\n",
      "Running: {'embedding_model': 'all-MiniLM-L6-v2', 'metric': 'cosine', 'min_cluster_size': 20, 'min_samples': 9, 'nr_topics': 20}\n"
     ]
    },
    {
     "name": "stderr",
     "output_type": "stream",
     "text": [
      "2025-04-22 17:20:13,897 - BERTopic - WARNING: When you use `pickle` to save/load a BERTopic model,please make sure that the environments in which you saveand load the model are **exactly** the same. The version of BERTopic,its dependencies, and python need to remain the same.\n"
     ]
    },
    {
     "name": "stdout",
     "output_type": "stream",
     "text": [
      "Done | Topics: 19, Outliers: 5112 (44.58%) | Time: 3.35s\n",
      "\n",
      "Running: {'embedding_model': 'all-MiniLM-L6-v2', 'metric': 'euclidean', 'min_cluster_size': 25, 'min_samples': 5, 'nr_topics': 10}\n"
     ]
    },
    {
     "name": "stderr",
     "output_type": "stream",
     "text": [
      "2025-04-22 17:20:19,805 - BERTopic - WARNING: When you use `pickle` to save/load a BERTopic model,please make sure that the environments in which you saveand load the model are **exactly** the same. The version of BERTopic,its dependencies, and python need to remain the same.\n"
     ]
    },
    {
     "name": "stdout",
     "output_type": "stream",
     "text": [
      "Done | Topics: 9, Outliers: 4846 (42.26%) | Time: 4.35s\n",
      "\n",
      "Running: {'embedding_model': 'all-MiniLM-L6-v2', 'metric': 'euclidean', 'min_cluster_size': 25, 'min_samples': 5, 'nr_topics': 15}\n"
     ]
    },
    {
     "name": "stderr",
     "output_type": "stream",
     "text": [
      "2025-04-22 17:20:24,628 - BERTopic - WARNING: When you use `pickle` to save/load a BERTopic model,please make sure that the environments in which you saveand load the model are **exactly** the same. The version of BERTopic,its dependencies, and python need to remain the same.\n"
     ]
    },
    {
     "name": "stdout",
     "output_type": "stream",
     "text": [
      "Done | Topics: 14, Outliers: 4897 (42.71%) | Time: 3.69s\n",
      "\n",
      "Running: {'embedding_model': 'all-MiniLM-L6-v2', 'metric': 'euclidean', 'min_cluster_size': 25, 'min_samples': 5, 'nr_topics': 20}\n"
     ]
    },
    {
     "name": "stderr",
     "output_type": "stream",
     "text": [
      "2025-04-22 17:20:29,017 - BERTopic - WARNING: When you use `pickle` to save/load a BERTopic model,please make sure that the environments in which you saveand load the model are **exactly** the same. The version of BERTopic,its dependencies, and python need to remain the same.\n"
     ]
    },
    {
     "name": "stdout",
     "output_type": "stream",
     "text": [
      "Done | Topics: 19, Outliers: 4917 (42.88%) | Time: 3.34s\n",
      "\n",
      "Running: {'embedding_model': 'all-MiniLM-L6-v2', 'metric': 'manhattan', 'min_cluster_size': 25, 'min_samples': 5, 'nr_topics': 10}\n"
     ]
    },
    {
     "name": "stderr",
     "output_type": "stream",
     "text": [
      "2025-04-22 17:20:33,453 - BERTopic - WARNING: When you use `pickle` to save/load a BERTopic model,please make sure that the environments in which you saveand load the model are **exactly** the same. The version of BERTopic,its dependencies, and python need to remain the same.\n"
     ]
    },
    {
     "name": "stdout",
     "output_type": "stream",
     "text": [
      "Done | Topics: 9, Outliers: 4689 (40.89%) | Time: 3.38s\n",
      "\n",
      "Running: {'embedding_model': 'all-MiniLM-L6-v2', 'metric': 'manhattan', 'min_cluster_size': 25, 'min_samples': 5, 'nr_topics': 15}\n"
     ]
    },
    {
     "name": "stderr",
     "output_type": "stream",
     "text": [
      "2025-04-22 17:20:38,066 - BERTopic - WARNING: When you use `pickle` to save/load a BERTopic model,please make sure that the environments in which you saveand load the model are **exactly** the same. The version of BERTopic,its dependencies, and python need to remain the same.\n"
     ]
    },
    {
     "name": "stdout",
     "output_type": "stream",
     "text": [
      "Done | Topics: 14, Outliers: 4753 (41.45%) | Time: 3.56s\n",
      "\n",
      "Running: {'embedding_model': 'all-MiniLM-L6-v2', 'metric': 'manhattan', 'min_cluster_size': 25, 'min_samples': 5, 'nr_topics': 20}\n"
     ]
    },
    {
     "name": "stderr",
     "output_type": "stream",
     "text": [
      "2025-04-22 17:20:43,373 - BERTopic - WARNING: When you use `pickle` to save/load a BERTopic model,please make sure that the environments in which you saveand load the model are **exactly** the same. The version of BERTopic,its dependencies, and python need to remain the same.\n"
     ]
    },
    {
     "name": "stdout",
     "output_type": "stream",
     "text": [
      "Done | Topics: 19, Outliers: 5278 (46.03%) | Time: 3.71s\n",
      "\n",
      "Running: {'embedding_model': 'all-MiniLM-L6-v2', 'metric': 'cosine', 'min_cluster_size': 25, 'min_samples': 5, 'nr_topics': 10}\n"
     ]
    },
    {
     "name": "stderr",
     "output_type": "stream",
     "text": [
      "2025-04-22 17:20:48,243 - BERTopic - WARNING: When you use `pickle` to save/load a BERTopic model,please make sure that the environments in which you saveand load the model are **exactly** the same. The version of BERTopic,its dependencies, and python need to remain the same.\n"
     ]
    },
    {
     "name": "stdout",
     "output_type": "stream",
     "text": [
      "Done | Topics: 9, Outliers: 4846 (42.26%) | Time: 3.74s\n",
      "\n",
      "Running: {'embedding_model': 'all-MiniLM-L6-v2', 'metric': 'cosine', 'min_cluster_size': 25, 'min_samples': 5, 'nr_topics': 15}\n"
     ]
    },
    {
     "name": "stderr",
     "output_type": "stream",
     "text": [
      "2025-04-22 17:20:53,264 - BERTopic - WARNING: When you use `pickle` to save/load a BERTopic model,please make sure that the environments in which you saveand load the model are **exactly** the same. The version of BERTopic,its dependencies, and python need to remain the same.\n"
     ]
    },
    {
     "name": "stdout",
     "output_type": "stream",
     "text": [
      "Done | Topics: 14, Outliers: 5012 (43.71%) | Time: 3.81s\n",
      "\n",
      "Running: {'embedding_model': 'all-MiniLM-L6-v2', 'metric': 'cosine', 'min_cluster_size': 25, 'min_samples': 5, 'nr_topics': 20}\n"
     ]
    },
    {
     "name": "stderr",
     "output_type": "stream",
     "text": [
      "2025-04-22 17:20:58,143 - BERTopic - WARNING: When you use `pickle` to save/load a BERTopic model,please make sure that the environments in which you saveand load the model are **exactly** the same. The version of BERTopic,its dependencies, and python need to remain the same.\n"
     ]
    },
    {
     "name": "stdout",
     "output_type": "stream",
     "text": [
      "Done | Topics: 19, Outliers: 4849 (42.29%) | Time: 3.6s\n",
      "\n",
      "Running: {'embedding_model': 'all-MiniLM-L6-v2', 'metric': 'euclidean', 'min_cluster_size': 25, 'min_samples': 7, 'nr_topics': 10}\n"
     ]
    },
    {
     "name": "stderr",
     "output_type": "stream",
     "text": [
      "2025-04-22 17:21:02,528 - BERTopic - WARNING: When you use `pickle` to save/load a BERTopic model,please make sure that the environments in which you saveand load the model are **exactly** the same. The version of BERTopic,its dependencies, and python need to remain the same.\n"
     ]
    },
    {
     "name": "stdout",
     "output_type": "stream",
     "text": [
      "Done | Topics: 9, Outliers: 5099 (44.47%) | Time: 3.34s\n",
      "\n",
      "Running: {'embedding_model': 'all-MiniLM-L6-v2', 'metric': 'euclidean', 'min_cluster_size': 25, 'min_samples': 7, 'nr_topics': 15}\n"
     ]
    },
    {
     "name": "stderr",
     "output_type": "stream",
     "text": [
      "2025-04-22 17:21:07,278 - BERTopic - WARNING: When you use `pickle` to save/load a BERTopic model,please make sure that the environments in which you saveand load the model are **exactly** the same. The version of BERTopic,its dependencies, and python need to remain the same.\n"
     ]
    },
    {
     "name": "stdout",
     "output_type": "stream",
     "text": [
      "Done | Topics: 14, Outliers: 4410 (38.46%) | Time: 3.19s\n",
      "\n",
      "Running: {'embedding_model': 'all-MiniLM-L6-v2', 'metric': 'euclidean', 'min_cluster_size': 25, 'min_samples': 7, 'nr_topics': 20}\n"
     ]
    },
    {
     "name": "stderr",
     "output_type": "stream",
     "text": [
      "2025-04-22 17:21:11,581 - BERTopic - WARNING: When you use `pickle` to save/load a BERTopic model,please make sure that the environments in which you saveand load the model are **exactly** the same. The version of BERTopic,its dependencies, and python need to remain the same.\n"
     ]
    },
    {
     "name": "stdout",
     "output_type": "stream",
     "text": [
      "Done | Topics: 19, Outliers: 4709 (41.07%) | Time: 3.24s\n",
      "\n",
      "Running: {'embedding_model': 'all-MiniLM-L6-v2', 'metric': 'manhattan', 'min_cluster_size': 25, 'min_samples': 7, 'nr_topics': 10}\n"
     ]
    },
    {
     "name": "stderr",
     "output_type": "stream",
     "text": [
      "2025-04-22 17:21:15,995 - BERTopic - WARNING: When you use `pickle` to save/load a BERTopic model,please make sure that the environments in which you saveand load the model are **exactly** the same. The version of BERTopic,its dependencies, and python need to remain the same.\n"
     ]
    },
    {
     "name": "stdout",
     "output_type": "stream",
     "text": [
      "Done | Topics: 9, Outliers: 5314 (46.34%) | Time: 3.34s\n",
      "\n",
      "Running: {'embedding_model': 'all-MiniLM-L6-v2', 'metric': 'manhattan', 'min_cluster_size': 25, 'min_samples': 7, 'nr_topics': 15}\n"
     ]
    },
    {
     "name": "stderr",
     "output_type": "stream",
     "text": [
      "2025-04-22 17:21:20,358 - BERTopic - WARNING: When you use `pickle` to save/load a BERTopic model,please make sure that the environments in which you saveand load the model are **exactly** the same. The version of BERTopic,its dependencies, and python need to remain the same.\n"
     ]
    },
    {
     "name": "stdout",
     "output_type": "stream",
     "text": [
      "Done | Topics: 14, Outliers: 5361 (46.75%) | Time: 3.32s\n",
      "\n",
      "Running: {'embedding_model': 'all-MiniLM-L6-v2', 'metric': 'manhattan', 'min_cluster_size': 25, 'min_samples': 7, 'nr_topics': 20}\n"
     ]
    },
    {
     "name": "stderr",
     "output_type": "stream",
     "text": [
      "2025-04-22 17:21:24,980 - BERTopic - WARNING: When you use `pickle` to save/load a BERTopic model,please make sure that the environments in which you saveand load the model are **exactly** the same. The version of BERTopic,its dependencies, and python need to remain the same.\n"
     ]
    },
    {
     "name": "stdout",
     "output_type": "stream",
     "text": [
      "Done | Topics: 19, Outliers: 4900 (42.73%) | Time: 3.53s\n",
      "\n",
      "Running: {'embedding_model': 'all-MiniLM-L6-v2', 'metric': 'cosine', 'min_cluster_size': 25, 'min_samples': 7, 'nr_topics': 10}\n"
     ]
    },
    {
     "name": "stderr",
     "output_type": "stream",
     "text": [
      "2025-04-22 17:21:29,670 - BERTopic - WARNING: When you use `pickle` to save/load a BERTopic model,please make sure that the environments in which you saveand load the model are **exactly** the same. The version of BERTopic,its dependencies, and python need to remain the same.\n"
     ]
    },
    {
     "name": "stdout",
     "output_type": "stream",
     "text": [
      "Done | Topics: 9, Outliers: 4541 (39.6%) | Time: 3.2s\n",
      "\n",
      "Running: {'embedding_model': 'all-MiniLM-L6-v2', 'metric': 'cosine', 'min_cluster_size': 25, 'min_samples': 7, 'nr_topics': 15}\n"
     ]
    },
    {
     "name": "stderr",
     "output_type": "stream",
     "text": [
      "2025-04-22 17:21:34,231 - BERTopic - WARNING: When you use `pickle` to save/load a BERTopic model,please make sure that the environments in which you saveand load the model are **exactly** the same. The version of BERTopic,its dependencies, and python need to remain the same.\n"
     ]
    },
    {
     "name": "stdout",
     "output_type": "stream",
     "text": [
      "Done | Topics: 14, Outliers: 5006 (43.66%) | Time: 3.48s\n",
      "\n",
      "Running: {'embedding_model': 'all-MiniLM-L6-v2', 'metric': 'cosine', 'min_cluster_size': 25, 'min_samples': 7, 'nr_topics': 20}\n"
     ]
    },
    {
     "name": "stderr",
     "output_type": "stream",
     "text": [
      "2025-04-22 17:21:38,670 - BERTopic - WARNING: When you use `pickle` to save/load a BERTopic model,please make sure that the environments in which you saveand load the model are **exactly** the same. The version of BERTopic,its dependencies, and python need to remain the same.\n"
     ]
    },
    {
     "name": "stdout",
     "output_type": "stream",
     "text": [
      "Done | Topics: 19, Outliers: 5080 (44.3%) | Time: 3.35s\n",
      "\n",
      "Running: {'embedding_model': 'all-MiniLM-L6-v2', 'metric': 'euclidean', 'min_cluster_size': 25, 'min_samples': 9, 'nr_topics': 10}\n"
     ]
    },
    {
     "name": "stderr",
     "output_type": "stream",
     "text": [
      "2025-04-22 17:21:43,029 - BERTopic - WARNING: When you use `pickle` to save/load a BERTopic model,please make sure that the environments in which you saveand load the model are **exactly** the same. The version of BERTopic,its dependencies, and python need to remain the same.\n"
     ]
    },
    {
     "name": "stdout",
     "output_type": "stream",
     "text": [
      "Done | Topics: 9, Outliers: 4818 (42.02%) | Time: 3.26s\n",
      "\n",
      "Running: {'embedding_model': 'all-MiniLM-L6-v2', 'metric': 'euclidean', 'min_cluster_size': 25, 'min_samples': 9, 'nr_topics': 15}\n"
     ]
    },
    {
     "name": "stderr",
     "output_type": "stream",
     "text": [
      "2025-04-22 17:21:47,520 - BERTopic - WARNING: When you use `pickle` to save/load a BERTopic model,please make sure that the environments in which you saveand load the model are **exactly** the same. The version of BERTopic,its dependencies, and python need to remain the same.\n"
     ]
    },
    {
     "name": "stdout",
     "output_type": "stream",
     "text": [
      "Done | Topics: 14, Outliers: 5150 (44.91%) | Time: 3.44s\n",
      "\n",
      "Running: {'embedding_model': 'all-MiniLM-L6-v2', 'metric': 'euclidean', 'min_cluster_size': 25, 'min_samples': 9, 'nr_topics': 20}\n"
     ]
    },
    {
     "name": "stderr",
     "output_type": "stream",
     "text": [
      "2025-04-22 17:21:52,497 - BERTopic - WARNING: When you use `pickle` to save/load a BERTopic model,please make sure that the environments in which you saveand load the model are **exactly** the same. The version of BERTopic,its dependencies, and python need to remain the same.\n"
     ]
    },
    {
     "name": "stdout",
     "output_type": "stream",
     "text": [
      "Done | Topics: 19, Outliers: 5004 (43.64%) | Time: 3.34s\n",
      "\n",
      "Running: {'embedding_model': 'all-MiniLM-L6-v2', 'metric': 'manhattan', 'min_cluster_size': 25, 'min_samples': 9, 'nr_topics': 10}\n"
     ]
    },
    {
     "name": "stderr",
     "output_type": "stream",
     "text": [
      "2025-04-22 17:21:56,771 - BERTopic - WARNING: When you use `pickle` to save/load a BERTopic model,please make sure that the environments in which you saveand load the model are **exactly** the same. The version of BERTopic,its dependencies, and python need to remain the same.\n"
     ]
    },
    {
     "name": "stdout",
     "output_type": "stream",
     "text": [
      "Done | Topics: 9, Outliers: 5004 (43.64%) | Time: 3.24s\n",
      "\n",
      "Running: {'embedding_model': 'all-MiniLM-L6-v2', 'metric': 'manhattan', 'min_cluster_size': 25, 'min_samples': 9, 'nr_topics': 15}\n"
     ]
    },
    {
     "name": "stderr",
     "output_type": "stream",
     "text": [
      "2025-04-22 17:22:01,138 - BERTopic - WARNING: When you use `pickle` to save/load a BERTopic model,please make sure that the environments in which you saveand load the model are **exactly** the same. The version of BERTopic,its dependencies, and python need to remain the same.\n"
     ]
    },
    {
     "name": "stdout",
     "output_type": "stream",
     "text": [
      "Done | Topics: 14, Outliers: 5159 (44.99%) | Time: 3.33s\n",
      "\n",
      "Running: {'embedding_model': 'all-MiniLM-L6-v2', 'metric': 'manhattan', 'min_cluster_size': 25, 'min_samples': 9, 'nr_topics': 20}\n"
     ]
    },
    {
     "name": "stderr",
     "output_type": "stream",
     "text": [
      "2025-04-22 17:22:05,505 - BERTopic - WARNING: When you use `pickle` to save/load a BERTopic model,please make sure that the environments in which you saveand load the model are **exactly** the same. The version of BERTopic,its dependencies, and python need to remain the same.\n"
     ]
    },
    {
     "name": "stdout",
     "output_type": "stream",
     "text": [
      "Done | Topics: 19, Outliers: 5514 (48.09%) | Time: 3.31s\n",
      "\n",
      "Running: {'embedding_model': 'all-MiniLM-L6-v2', 'metric': 'cosine', 'min_cluster_size': 25, 'min_samples': 9, 'nr_topics': 10}\n"
     ]
    },
    {
     "name": "stderr",
     "output_type": "stream",
     "text": [
      "2025-04-22 17:22:09,942 - BERTopic - WARNING: When you use `pickle` to save/load a BERTopic model,please make sure that the environments in which you saveand load the model are **exactly** the same. The version of BERTopic,its dependencies, and python need to remain the same.\n"
     ]
    },
    {
     "name": "stdout",
     "output_type": "stream",
     "text": [
      "Done | Topics: 9, Outliers: 5022 (43.8%) | Time: 3.33s\n",
      "\n",
      "Running: {'embedding_model': 'all-MiniLM-L6-v2', 'metric': 'cosine', 'min_cluster_size': 25, 'min_samples': 9, 'nr_topics': 15}\n"
     ]
    },
    {
     "name": "stderr",
     "output_type": "stream",
     "text": [
      "2025-04-22 17:22:15,198 - BERTopic - WARNING: When you use `pickle` to save/load a BERTopic model,please make sure that the environments in which you saveand load the model are **exactly** the same. The version of BERTopic,its dependencies, and python need to remain the same.\n"
     ]
    },
    {
     "name": "stdout",
     "output_type": "stream",
     "text": [
      "Done | Topics: 14, Outliers: 4827 (42.09%) | Time: 3.64s\n",
      "\n",
      "Running: {'embedding_model': 'all-MiniLM-L6-v2', 'metric': 'cosine', 'min_cluster_size': 25, 'min_samples': 9, 'nr_topics': 20}\n"
     ]
    },
    {
     "name": "stderr",
     "output_type": "stream",
     "text": [
      "2025-04-22 17:22:20,225 - BERTopic - WARNING: When you use `pickle` to save/load a BERTopic model,please make sure that the environments in which you saveand load the model are **exactly** the same. The version of BERTopic,its dependencies, and python need to remain the same.\n"
     ]
    },
    {
     "name": "stdout",
     "output_type": "stream",
     "text": [
      "Done | Topics: 19, Outliers: 5570 (48.57%) | Time: 3.8s\n",
      "\n",
      "Running: {'embedding_model': 'all-MiniLM-L6-v2', 'metric': 'euclidean', 'min_cluster_size': 30, 'min_samples': 5, 'nr_topics': 10}\n"
     ]
    },
    {
     "name": "stderr",
     "output_type": "stream",
     "text": [
      "2025-04-22 17:22:25,114 - BERTopic - WARNING: When you use `pickle` to save/load a BERTopic model,please make sure that the environments in which you saveand load the model are **exactly** the same. The version of BERTopic,its dependencies, and python need to remain the same.\n"
     ]
    },
    {
     "name": "stdout",
     "output_type": "stream",
     "text": [
      "Done | Topics: 9, Outliers: 4687 (40.87%) | Time: 3.74s\n",
      "\n",
      "Running: {'embedding_model': 'all-MiniLM-L6-v2', 'metric': 'euclidean', 'min_cluster_size': 30, 'min_samples': 5, 'nr_topics': 15}\n"
     ]
    },
    {
     "name": "stderr",
     "output_type": "stream",
     "text": [
      "2025-04-22 17:22:30,146 - BERTopic - WARNING: When you use `pickle` to save/load a BERTopic model,please make sure that the environments in which you saveand load the model are **exactly** the same. The version of BERTopic,its dependencies, and python need to remain the same.\n"
     ]
    },
    {
     "name": "stdout",
     "output_type": "stream",
     "text": [
      "Done | Topics: 14, Outliers: 4648 (40.53%) | Time: 3.81s\n",
      "\n",
      "Running: {'embedding_model': 'all-MiniLM-L6-v2', 'metric': 'euclidean', 'min_cluster_size': 30, 'min_samples': 5, 'nr_topics': 20}\n"
     ]
    },
    {
     "name": "stderr",
     "output_type": "stream",
     "text": [
      "2025-04-22 17:22:35,566 - BERTopic - WARNING: When you use `pickle` to save/load a BERTopic model,please make sure that the environments in which you saveand load the model are **exactly** the same. The version of BERTopic,its dependencies, and python need to remain the same.\n"
     ]
    },
    {
     "name": "stdout",
     "output_type": "stream",
     "text": [
      "Done | Topics: 19, Outliers: 4521 (39.43%) | Time: 4.2s\n",
      "\n",
      "Running: {'embedding_model': 'all-MiniLM-L6-v2', 'metric': 'manhattan', 'min_cluster_size': 30, 'min_samples': 5, 'nr_topics': 10}\n"
     ]
    },
    {
     "name": "stderr",
     "output_type": "stream",
     "text": [
      "2025-04-22 17:22:40,938 - BERTopic - WARNING: When you use `pickle` to save/load a BERTopic model,please make sure that the environments in which you saveand load the model are **exactly** the same. The version of BERTopic,its dependencies, and python need to remain the same.\n"
     ]
    },
    {
     "name": "stdout",
     "output_type": "stream",
     "text": [
      "Done | Topics: 9, Outliers: 4738 (41.32%) | Time: 3.52s\n",
      "\n",
      "Running: {'embedding_model': 'all-MiniLM-L6-v2', 'metric': 'manhattan', 'min_cluster_size': 30, 'min_samples': 5, 'nr_topics': 15}\n"
     ]
    },
    {
     "name": "stderr",
     "output_type": "stream",
     "text": [
      "2025-04-22 17:22:45,444 - BERTopic - WARNING: When you use `pickle` to save/load a BERTopic model,please make sure that the environments in which you saveand load the model are **exactly** the same. The version of BERTopic,its dependencies, and python need to remain the same.\n"
     ]
    },
    {
     "name": "stdout",
     "output_type": "stream",
     "text": [
      "Done | Topics: 14, Outliers: 4439 (38.71%) | Time: 3.39s\n",
      "\n",
      "Running: {'embedding_model': 'all-MiniLM-L6-v2', 'metric': 'manhattan', 'min_cluster_size': 30, 'min_samples': 5, 'nr_topics': 20}\n"
     ]
    },
    {
     "name": "stderr",
     "output_type": "stream",
     "text": [
      "2025-04-22 17:22:50,466 - BERTopic - WARNING: When you use `pickle` to save/load a BERTopic model,please make sure that the environments in which you saveand load the model are **exactly** the same. The version of BERTopic,its dependencies, and python need to remain the same.\n"
     ]
    },
    {
     "name": "stdout",
     "output_type": "stream",
     "text": [
      "Done | Topics: 19, Outliers: 4804 (41.89%) | Time: 3.91s\n",
      "\n",
      "Running: {'embedding_model': 'all-MiniLM-L6-v2', 'metric': 'cosine', 'min_cluster_size': 30, 'min_samples': 5, 'nr_topics': 10}\n"
     ]
    },
    {
     "name": "stderr",
     "output_type": "stream",
     "text": [
      "2025-04-22 17:22:54,984 - BERTopic - WARNING: When you use `pickle` to save/load a BERTopic model,please make sure that the environments in which you saveand load the model are **exactly** the same. The version of BERTopic,its dependencies, and python need to remain the same.\n"
     ]
    },
    {
     "name": "stdout",
     "output_type": "stream",
     "text": [
      "Done | Topics: 9, Outliers: 4672 (40.74%) | Time: 3.39s\n",
      "\n",
      "Running: {'embedding_model': 'all-MiniLM-L6-v2', 'metric': 'cosine', 'min_cluster_size': 30, 'min_samples': 5, 'nr_topics': 15}\n"
     ]
    },
    {
     "name": "stderr",
     "output_type": "stream",
     "text": [
      "2025-04-22 17:22:59,736 - BERTopic - WARNING: When you use `pickle` to save/load a BERTopic model,please make sure that the environments in which you saveand load the model are **exactly** the same. The version of BERTopic,its dependencies, and python need to remain the same.\n"
     ]
    },
    {
     "name": "stdout",
     "output_type": "stream",
     "text": [
      "Done | Topics: 14, Outliers: 4525 (39.46%) | Time: 3.62s\n",
      "\n",
      "Running: {'embedding_model': 'all-MiniLM-L6-v2', 'metric': 'cosine', 'min_cluster_size': 30, 'min_samples': 5, 'nr_topics': 20}\n"
     ]
    },
    {
     "name": "stderr",
     "output_type": "stream",
     "text": [
      "2025-04-22 17:23:05,604 - BERTopic - WARNING: When you use `pickle` to save/load a BERTopic model,please make sure that the environments in which you saveand load the model are **exactly** the same. The version of BERTopic,its dependencies, and python need to remain the same.\n"
     ]
    },
    {
     "name": "stdout",
     "output_type": "stream",
     "text": [
      "Done | Topics: 19, Outliers: 4686 (40.87%) | Time: 4.2s\n",
      "\n",
      "Running: {'embedding_model': 'all-MiniLM-L6-v2', 'metric': 'euclidean', 'min_cluster_size': 30, 'min_samples': 7, 'nr_topics': 10}\n"
     ]
    },
    {
     "name": "stderr",
     "output_type": "stream",
     "text": [
      "2025-04-22 17:23:10,746 - BERTopic - WARNING: When you use `pickle` to save/load a BERTopic model,please make sure that the environments in which you saveand load the model are **exactly** the same. The version of BERTopic,its dependencies, and python need to remain the same.\n"
     ]
    },
    {
     "name": "stdout",
     "output_type": "stream",
     "text": [
      "Done | Topics: 9, Outliers: 4805 (41.9%) | Time: 3.91s\n",
      "\n",
      "Running: {'embedding_model': 'all-MiniLM-L6-v2', 'metric': 'euclidean', 'min_cluster_size': 30, 'min_samples': 7, 'nr_topics': 15}\n"
     ]
    },
    {
     "name": "stderr",
     "output_type": "stream",
     "text": [
      "2025-04-22 17:23:16,522 - BERTopic - WARNING: When you use `pickle` to save/load a BERTopic model,please make sure that the environments in which you saveand load the model are **exactly** the same. The version of BERTopic,its dependencies, and python need to remain the same.\n"
     ]
    },
    {
     "name": "stdout",
     "output_type": "stream",
     "text": [
      "Done | Topics: 14, Outliers: 5258 (45.85%) | Time: 4.34s\n",
      "\n",
      "Running: {'embedding_model': 'all-MiniLM-L6-v2', 'metric': 'euclidean', 'min_cluster_size': 30, 'min_samples': 7, 'nr_topics': 20}\n"
     ]
    },
    {
     "name": "stderr",
     "output_type": "stream",
     "text": [
      "2025-04-22 17:23:21,362 - BERTopic - WARNING: When you use `pickle` to save/load a BERTopic model,please make sure that the environments in which you saveand load the model are **exactly** the same. The version of BERTopic,its dependencies, and python need to remain the same.\n"
     ]
    },
    {
     "name": "stdout",
     "output_type": "stream",
     "text": [
      "Done | Topics: 19, Outliers: 4656 (40.6%) | Time: 3.66s\n",
      "\n",
      "Running: {'embedding_model': 'all-MiniLM-L6-v2', 'metric': 'manhattan', 'min_cluster_size': 30, 'min_samples': 7, 'nr_topics': 10}\n"
     ]
    },
    {
     "name": "stderr",
     "output_type": "stream",
     "text": [
      "2025-04-22 17:23:25,902 - BERTopic - WARNING: When you use `pickle` to save/load a BERTopic model,please make sure that the environments in which you saveand load the model are **exactly** the same. The version of BERTopic,its dependencies, and python need to remain the same.\n"
     ]
    },
    {
     "name": "stdout",
     "output_type": "stream",
     "text": [
      "Done | Topics: 9, Outliers: 4486 (39.12%) | Time: 3.42s\n",
      "\n",
      "Running: {'embedding_model': 'all-MiniLM-L6-v2', 'metric': 'manhattan', 'min_cluster_size': 30, 'min_samples': 7, 'nr_topics': 15}\n"
     ]
    },
    {
     "name": "stderr",
     "output_type": "stream",
     "text": [
      "2025-04-22 17:23:30,946 - BERTopic - WARNING: When you use `pickle` to save/load a BERTopic model,please make sure that the environments in which you saveand load the model are **exactly** the same. The version of BERTopic,its dependencies, and python need to remain the same.\n"
     ]
    },
    {
     "name": "stdout",
     "output_type": "stream",
     "text": [
      "Done | Topics: 14, Outliers: 5170 (45.09%) | Time: 3.42s\n",
      "\n",
      "Running: {'embedding_model': 'all-MiniLM-L6-v2', 'metric': 'manhattan', 'min_cluster_size': 30, 'min_samples': 7, 'nr_topics': 20}\n"
     ]
    },
    {
     "name": "stderr",
     "output_type": "stream",
     "text": [
      "2025-04-22 17:23:35,459 - BERTopic - WARNING: When you use `pickle` to save/load a BERTopic model,please make sure that the environments in which you saveand load the model are **exactly** the same. The version of BERTopic,its dependencies, and python need to remain the same.\n"
     ]
    },
    {
     "name": "stdout",
     "output_type": "stream",
     "text": [
      "Done | Topics: 19, Outliers: 5089 (44.38%) | Time: 3.42s\n",
      "\n",
      "Running: {'embedding_model': 'all-MiniLM-L6-v2', 'metric': 'cosine', 'min_cluster_size': 30, 'min_samples': 7, 'nr_topics': 10}\n"
     ]
    },
    {
     "name": "stderr",
     "output_type": "stream",
     "text": [
      "2025-04-22 17:23:39,947 - BERTopic - WARNING: When you use `pickle` to save/load a BERTopic model,please make sure that the environments in which you saveand load the model are **exactly** the same. The version of BERTopic,its dependencies, and python need to remain the same.\n"
     ]
    },
    {
     "name": "stdout",
     "output_type": "stream",
     "text": [
      "Done | Topics: 9, Outliers: 5252 (45.8%) | Time: 3.39s\n",
      "\n",
      "Running: {'embedding_model': 'all-MiniLM-L6-v2', 'metric': 'cosine', 'min_cluster_size': 30, 'min_samples': 7, 'nr_topics': 15}\n"
     ]
    },
    {
     "name": "stderr",
     "output_type": "stream",
     "text": [
      "2025-04-22 17:23:44,412 - BERTopic - WARNING: When you use `pickle` to save/load a BERTopic model,please make sure that the environments in which you saveand load the model are **exactly** the same. The version of BERTopic,its dependencies, and python need to remain the same.\n"
     ]
    },
    {
     "name": "stdout",
     "output_type": "stream",
     "text": [
      "Done | Topics: 14, Outliers: 4808 (41.93%) | Time: 3.39s\n",
      "\n",
      "Running: {'embedding_model': 'all-MiniLM-L6-v2', 'metric': 'cosine', 'min_cluster_size': 30, 'min_samples': 7, 'nr_topics': 20}\n"
     ]
    },
    {
     "name": "stderr",
     "output_type": "stream",
     "text": [
      "2025-04-22 17:23:49,062 - BERTopic - WARNING: When you use `pickle` to save/load a BERTopic model,please make sure that the environments in which you saveand load the model are **exactly** the same. The version of BERTopic,its dependencies, and python need to remain the same.\n"
     ]
    },
    {
     "name": "stdout",
     "output_type": "stream",
     "text": [
      "Done | Topics: 19, Outliers: 4997 (43.58%) | Time: 3.56s\n",
      "\n",
      "Running: {'embedding_model': 'all-MiniLM-L6-v2', 'metric': 'euclidean', 'min_cluster_size': 30, 'min_samples': 9, 'nr_topics': 10}\n"
     ]
    },
    {
     "name": "stderr",
     "output_type": "stream",
     "text": [
      "2025-04-22 17:23:54,068 - BERTopic - WARNING: When you use `pickle` to save/load a BERTopic model,please make sure that the environments in which you saveand load the model are **exactly** the same. The version of BERTopic,its dependencies, and python need to remain the same.\n"
     ]
    },
    {
     "name": "stdout",
     "output_type": "stream",
     "text": [
      "Done | Topics: 9, Outliers: 4984 (43.46%) | Time: 3.35s\n",
      "\n",
      "Running: {'embedding_model': 'all-MiniLM-L6-v2', 'metric': 'euclidean', 'min_cluster_size': 30, 'min_samples': 9, 'nr_topics': 15}\n"
     ]
    },
    {
     "name": "stderr",
     "output_type": "stream",
     "text": [
      "2025-04-22 17:23:58,691 - BERTopic - WARNING: When you use `pickle` to save/load a BERTopic model,please make sure that the environments in which you saveand load the model are **exactly** the same. The version of BERTopic,its dependencies, and python need to remain the same.\n"
     ]
    },
    {
     "name": "stdout",
     "output_type": "stream",
     "text": [
      "Done | Topics: 14, Outliers: 4897 (42.71%) | Time: 3.5s\n",
      "\n",
      "Running: {'embedding_model': 'all-MiniLM-L6-v2', 'metric': 'euclidean', 'min_cluster_size': 30, 'min_samples': 9, 'nr_topics': 20}\n"
     ]
    },
    {
     "name": "stderr",
     "output_type": "stream",
     "text": [
      "2025-04-22 17:24:03,500 - BERTopic - WARNING: When you use `pickle` to save/load a BERTopic model,please make sure that the environments in which you saveand load the model are **exactly** the same. The version of BERTopic,its dependencies, and python need to remain the same.\n"
     ]
    },
    {
     "name": "stdout",
     "output_type": "stream",
     "text": [
      "Done | Topics: 19, Outliers: 5383 (46.94%) | Time: 3.68s\n",
      "\n",
      "Running: {'embedding_model': 'all-MiniLM-L6-v2', 'metric': 'manhattan', 'min_cluster_size': 30, 'min_samples': 9, 'nr_topics': 10}\n"
     ]
    },
    {
     "name": "stderr",
     "output_type": "stream",
     "text": [
      "2025-04-22 17:24:08,855 - BERTopic - WARNING: When you use `pickle` to save/load a BERTopic model,please make sure that the environments in which you saveand load the model are **exactly** the same. The version of BERTopic,its dependencies, and python need to remain the same.\n"
     ]
    },
    {
     "name": "stdout",
     "output_type": "stream",
     "text": [
      "Done | Topics: 9, Outliers: 4624 (40.32%) | Time: 4.13s\n",
      "\n",
      "Running: {'embedding_model': 'all-MiniLM-L6-v2', 'metric': 'manhattan', 'min_cluster_size': 30, 'min_samples': 9, 'nr_topics': 15}\n"
     ]
    },
    {
     "name": "stderr",
     "output_type": "stream",
     "text": [
      "2025-04-22 17:24:14,267 - BERTopic - WARNING: When you use `pickle` to save/load a BERTopic model,please make sure that the environments in which you saveand load the model are **exactly** the same. The version of BERTopic,its dependencies, and python need to remain the same.\n"
     ]
    },
    {
     "name": "stdout",
     "output_type": "stream",
     "text": [
      "Done | Topics: 14, Outliers: 4793 (41.8%) | Time: 4.17s\n",
      "\n",
      "Running: {'embedding_model': 'all-MiniLM-L6-v2', 'metric': 'manhattan', 'min_cluster_size': 30, 'min_samples': 9, 'nr_topics': 20}\n"
     ]
    },
    {
     "name": "stderr",
     "output_type": "stream",
     "text": [
      "2025-04-22 17:24:19,943 - BERTopic - WARNING: When you use `pickle` to save/load a BERTopic model,please make sure that the environments in which you saveand load the model are **exactly** the same. The version of BERTopic,its dependencies, and python need to remain the same.\n"
     ]
    },
    {
     "name": "stdout",
     "output_type": "stream",
     "text": [
      "Done | Topics: 19, Outliers: 4518 (39.4%) | Time: 3.91s\n",
      "\n",
      "Running: {'embedding_model': 'all-MiniLM-L6-v2', 'metric': 'cosine', 'min_cluster_size': 30, 'min_samples': 9, 'nr_topics': 10}\n"
     ]
    },
    {
     "name": "stderr",
     "output_type": "stream",
     "text": [
      "2025-04-22 17:24:24,957 - BERTopic - WARNING: When you use `pickle` to save/load a BERTopic model,please make sure that the environments in which you saveand load the model are **exactly** the same. The version of BERTopic,its dependencies, and python need to remain the same.\n"
     ]
    },
    {
     "name": "stdout",
     "output_type": "stream",
     "text": [
      "Done | Topics: 9, Outliers: 5349 (46.65%) | Time: 3.76s\n",
      "\n",
      "Running: {'embedding_model': 'all-MiniLM-L6-v2', 'metric': 'cosine', 'min_cluster_size': 30, 'min_samples': 9, 'nr_topics': 15}\n"
     ]
    },
    {
     "name": "stderr",
     "output_type": "stream",
     "text": [
      "2025-04-22 17:24:29,516 - BERTopic - WARNING: When you use `pickle` to save/load a BERTopic model,please make sure that the environments in which you saveand load the model are **exactly** the same. The version of BERTopic,its dependencies, and python need to remain the same.\n"
     ]
    },
    {
     "name": "stdout",
     "output_type": "stream",
     "text": [
      "Done | Topics: 14, Outliers: 4828 (42.1%) | Time: 3.47s\n",
      "\n",
      "Running: {'embedding_model': 'all-MiniLM-L6-v2', 'metric': 'cosine', 'min_cluster_size': 30, 'min_samples': 9, 'nr_topics': 20}\n"
     ]
    },
    {
     "name": "stderr",
     "output_type": "stream",
     "text": [
      "2025-04-22 17:24:34,582 - BERTopic - WARNING: When you use `pickle` to save/load a BERTopic model,please make sure that the environments in which you saveand load the model are **exactly** the same. The version of BERTopic,its dependencies, and python need to remain the same.\n"
     ]
    },
    {
     "name": "stdout",
     "output_type": "stream",
     "text": [
      "Done | Topics: 19, Outliers: 4673 (40.75%) | Time: 3.92s\n",
      "\n",
      "Running: {'embedding_model': 'all-MiniLM-L6-v2', 'metric': 'euclidean', 'min_cluster_size': 35, 'min_samples': 5, 'nr_topics': 10}\n"
     ]
    },
    {
     "name": "stderr",
     "output_type": "stream",
     "text": [
      "2025-04-22 17:24:39,449 - BERTopic - WARNING: When you use `pickle` to save/load a BERTopic model,please make sure that the environments in which you saveand load the model are **exactly** the same. The version of BERTopic,its dependencies, and python need to remain the same.\n"
     ]
    },
    {
     "name": "stdout",
     "output_type": "stream",
     "text": [
      "Done | Topics: 9, Outliers: 5342 (46.59%) | Time: 3.75s\n",
      "\n",
      "Running: {'embedding_model': 'all-MiniLM-L6-v2', 'metric': 'euclidean', 'min_cluster_size': 35, 'min_samples': 5, 'nr_topics': 15}\n"
     ]
    },
    {
     "name": "stderr",
     "output_type": "stream",
     "text": [
      "2025-04-22 17:24:44,380 - BERTopic - WARNING: When you use `pickle` to save/load a BERTopic model,please make sure that the environments in which you saveand load the model are **exactly** the same. The version of BERTopic,its dependencies, and python need to remain the same.\n"
     ]
    },
    {
     "name": "stdout",
     "output_type": "stream",
     "text": [
      "Done | Topics: 14, Outliers: 5041 (43.96%) | Time: 3.26s\n",
      "\n",
      "Running: {'embedding_model': 'all-MiniLM-L6-v2', 'metric': 'euclidean', 'min_cluster_size': 35, 'min_samples': 5, 'nr_topics': 20}\n"
     ]
    },
    {
     "name": "stderr",
     "output_type": "stream",
     "text": [
      "2025-04-22 17:24:48,987 - BERTopic - WARNING: When you use `pickle` to save/load a BERTopic model,please make sure that the environments in which you saveand load the model are **exactly** the same. The version of BERTopic,its dependencies, and python need to remain the same.\n"
     ]
    },
    {
     "name": "stdout",
     "output_type": "stream",
     "text": [
      "Done | Topics: 19, Outliers: 4401 (38.38%) | Time: 3.5s\n",
      "\n",
      "Running: {'embedding_model': 'all-MiniLM-L6-v2', 'metric': 'manhattan', 'min_cluster_size': 35, 'min_samples': 5, 'nr_topics': 10}\n"
     ]
    },
    {
     "name": "stderr",
     "output_type": "stream",
     "text": [
      "2025-04-22 17:24:53,468 - BERTopic - WARNING: When you use `pickle` to save/load a BERTopic model,please make sure that the environments in which you saveand load the model are **exactly** the same. The version of BERTopic,its dependencies, and python need to remain the same.\n"
     ]
    },
    {
     "name": "stdout",
     "output_type": "stream",
     "text": [
      "Done | Topics: 9, Outliers: 4767 (41.57%) | Time: 3.32s\n",
      "\n",
      "Running: {'embedding_model': 'all-MiniLM-L6-v2', 'metric': 'manhattan', 'min_cluster_size': 35, 'min_samples': 5, 'nr_topics': 15}\n"
     ]
    },
    {
     "name": "stderr",
     "output_type": "stream",
     "text": [
      "2025-04-22 17:24:57,946 - BERTopic - WARNING: When you use `pickle` to save/load a BERTopic model,please make sure that the environments in which you saveand load the model are **exactly** the same. The version of BERTopic,its dependencies, and python need to remain the same.\n"
     ]
    },
    {
     "name": "stdout",
     "output_type": "stream",
     "text": [
      "Done | Topics: 14, Outliers: 4881 (42.57%) | Time: 3.34s\n",
      "\n",
      "Running: {'embedding_model': 'all-MiniLM-L6-v2', 'metric': 'manhattan', 'min_cluster_size': 35, 'min_samples': 5, 'nr_topics': 20}\n"
     ]
    },
    {
     "name": "stderr",
     "output_type": "stream",
     "text": [
      "2025-04-22 17:25:02,402 - BERTopic - WARNING: When you use `pickle` to save/load a BERTopic model,please make sure that the environments in which you saveand load the model are **exactly** the same. The version of BERTopic,its dependencies, and python need to remain the same.\n"
     ]
    },
    {
     "name": "stdout",
     "output_type": "stream",
     "text": [
      "Done | Topics: 19, Outliers: 5245 (45.74%) | Time: 3.38s\n",
      "\n",
      "Running: {'embedding_model': 'all-MiniLM-L6-v2', 'metric': 'cosine', 'min_cluster_size': 35, 'min_samples': 5, 'nr_topics': 10}\n"
     ]
    },
    {
     "name": "stderr",
     "output_type": "stream",
     "text": [
      "2025-04-22 17:25:06,976 - BERTopic - WARNING: When you use `pickle` to save/load a BERTopic model,please make sure that the environments in which you saveand load the model are **exactly** the same. The version of BERTopic,its dependencies, and python need to remain the same.\n"
     ]
    },
    {
     "name": "stdout",
     "output_type": "stream",
     "text": [
      "Done | Topics: 9, Outliers: 4549 (39.67%) | Time: 3.43s\n",
      "\n",
      "Running: {'embedding_model': 'all-MiniLM-L6-v2', 'metric': 'cosine', 'min_cluster_size': 35, 'min_samples': 5, 'nr_topics': 15}\n"
     ]
    },
    {
     "name": "stderr",
     "output_type": "stream",
     "text": [
      "2025-04-22 17:25:13,038 - BERTopic - WARNING: When you use `pickle` to save/load a BERTopic model,please make sure that the environments in which you saveand load the model are **exactly** the same. The version of BERTopic,its dependencies, and python need to remain the same.\n"
     ]
    },
    {
     "name": "stdout",
     "output_type": "stream",
     "text": [
      "Done | Topics: 14, Outliers: 4896 (42.7%) | Time: 4.37s\n",
      "\n",
      "Running: {'embedding_model': 'all-MiniLM-L6-v2', 'metric': 'cosine', 'min_cluster_size': 35, 'min_samples': 5, 'nr_topics': 20}\n"
     ]
    },
    {
     "name": "stderr",
     "output_type": "stream",
     "text": [
      "2025-04-22 17:25:17,583 - BERTopic - WARNING: When you use `pickle` to save/load a BERTopic model,please make sure that the environments in which you saveand load the model are **exactly** the same. The version of BERTopic,its dependencies, and python need to remain the same.\n"
     ]
    },
    {
     "name": "stdout",
     "output_type": "stream",
     "text": [
      "Done | Topics: 19, Outliers: 5050 (44.04%) | Time: 3.36s\n",
      "\n",
      "Running: {'embedding_model': 'all-MiniLM-L6-v2', 'metric': 'euclidean', 'min_cluster_size': 35, 'min_samples': 7, 'nr_topics': 10}\n"
     ]
    },
    {
     "name": "stderr",
     "output_type": "stream",
     "text": [
      "2025-04-22 17:25:21,988 - BERTopic - WARNING: When you use `pickle` to save/load a BERTopic model,please make sure that the environments in which you saveand load the model are **exactly** the same. The version of BERTopic,its dependencies, and python need to remain the same.\n"
     ]
    },
    {
     "name": "stdout",
     "output_type": "stream",
     "text": [
      "Done | Topics: 9, Outliers: 4892 (42.66%) | Time: 3.3s\n",
      "\n",
      "Running: {'embedding_model': 'all-MiniLM-L6-v2', 'metric': 'euclidean', 'min_cluster_size': 35, 'min_samples': 7, 'nr_topics': 15}\n"
     ]
    },
    {
     "name": "stderr",
     "output_type": "stream",
     "text": [
      "2025-04-22 17:25:26,421 - BERTopic - WARNING: When you use `pickle` to save/load a BERTopic model,please make sure that the environments in which you saveand load the model are **exactly** the same. The version of BERTopic,its dependencies, and python need to remain the same.\n"
     ]
    },
    {
     "name": "stdout",
     "output_type": "stream",
     "text": [
      "Done | Topics: 14, Outliers: 4671 (40.73%) | Time: 3.33s\n",
      "\n",
      "Running: {'embedding_model': 'all-MiniLM-L6-v2', 'metric': 'euclidean', 'min_cluster_size': 35, 'min_samples': 7, 'nr_topics': 20}\n"
     ]
    },
    {
     "name": "stderr",
     "output_type": "stream",
     "text": [
      "2025-04-22 17:25:30,917 - BERTopic - WARNING: When you use `pickle` to save/load a BERTopic model,please make sure that the environments in which you saveand load the model are **exactly** the same. The version of BERTopic,its dependencies, and python need to remain the same.\n"
     ]
    },
    {
     "name": "stdout",
     "output_type": "stream",
     "text": [
      "Done | Topics: 19, Outliers: 5260 (45.87%) | Time: 3.4s\n",
      "\n",
      "Running: {'embedding_model': 'all-MiniLM-L6-v2', 'metric': 'manhattan', 'min_cluster_size': 35, 'min_samples': 7, 'nr_topics': 10}\n"
     ]
    },
    {
     "name": "stderr",
     "output_type": "stream",
     "text": [
      "2025-04-22 17:25:36,265 - BERTopic - WARNING: When you use `pickle` to save/load a BERTopic model,please make sure that the environments in which you saveand load the model are **exactly** the same. The version of BERTopic,its dependencies, and python need to remain the same.\n"
     ]
    },
    {
     "name": "stdout",
     "output_type": "stream",
     "text": [
      "Done | Topics: 9, Outliers: 5476 (47.75%) | Time: 3.65s\n",
      "\n",
      "Running: {'embedding_model': 'all-MiniLM-L6-v2', 'metric': 'manhattan', 'min_cluster_size': 35, 'min_samples': 7, 'nr_topics': 15}\n"
     ]
    },
    {
     "name": "stderr",
     "output_type": "stream",
     "text": [
      "2025-04-22 17:25:41,301 - BERTopic - WARNING: When you use `pickle` to save/load a BERTopic model,please make sure that the environments in which you saveand load the model are **exactly** the same. The version of BERTopic,its dependencies, and python need to remain the same.\n"
     ]
    },
    {
     "name": "stdout",
     "output_type": "stream",
     "text": [
      "Done | Topics: 14, Outliers: 4839 (42.2%) | Time: 3.77s\n",
      "\n",
      "Running: {'embedding_model': 'all-MiniLM-L6-v2', 'metric': 'manhattan', 'min_cluster_size': 35, 'min_samples': 7, 'nr_topics': 20}\n"
     ]
    },
    {
     "name": "stderr",
     "output_type": "stream",
     "text": [
      "2025-04-22 17:25:46,200 - BERTopic - WARNING: When you use `pickle` to save/load a BERTopic model,please make sure that the environments in which you saveand load the model are **exactly** the same. The version of BERTopic,its dependencies, and python need to remain the same.\n"
     ]
    },
    {
     "name": "stdout",
     "output_type": "stream",
     "text": [
      "Done | Topics: 19, Outliers: 4671 (40.73%) | Time: 3.74s\n",
      "\n",
      "Running: {'embedding_model': 'all-MiniLM-L6-v2', 'metric': 'cosine', 'min_cluster_size': 35, 'min_samples': 7, 'nr_topics': 10}\n"
     ]
    },
    {
     "name": "stderr",
     "output_type": "stream",
     "text": [
      "2025-04-22 17:25:57,546 - BERTopic - WARNING: When you use `pickle` to save/load a BERTopic model,please make sure that the environments in which you saveand load the model are **exactly** the same. The version of BERTopic,its dependencies, and python need to remain the same.\n"
     ]
    },
    {
     "name": "stdout",
     "output_type": "stream",
     "text": [
      "Done | Topics: 9, Outliers: 5154 (44.95%) | Time: 10.18s\n",
      "\n",
      "Running: {'embedding_model': 'all-MiniLM-L6-v2', 'metric': 'cosine', 'min_cluster_size': 35, 'min_samples': 7, 'nr_topics': 15}\n"
     ]
    },
    {
     "name": "stderr",
     "output_type": "stream",
     "text": [
      "2025-04-22 17:26:04,876 - BERTopic - WARNING: When you use `pickle` to save/load a BERTopic model,please make sure that the environments in which you saveand load the model are **exactly** the same. The version of BERTopic,its dependencies, and python need to remain the same.\n"
     ]
    },
    {
     "name": "stdout",
     "output_type": "stream",
     "text": [
      "Done | Topics: 14, Outliers: 4815 (41.99%) | Time: 5.55s\n",
      "\n",
      "Running: {'embedding_model': 'all-MiniLM-L6-v2', 'metric': 'cosine', 'min_cluster_size': 35, 'min_samples': 7, 'nr_topics': 20}\n"
     ]
    },
    {
     "name": "stderr",
     "output_type": "stream",
     "text": [
      "2025-04-22 17:26:12,021 - BERTopic - WARNING: When you use `pickle` to save/load a BERTopic model,please make sure that the environments in which you saveand load the model are **exactly** the same. The version of BERTopic,its dependencies, and python need to remain the same.\n"
     ]
    },
    {
     "name": "stdout",
     "output_type": "stream",
     "text": [
      "Done | Topics: 19, Outliers: 5052 (44.06%) | Time: 4.9s\n",
      "\n",
      "Running: {'embedding_model': 'all-MiniLM-L6-v2', 'metric': 'euclidean', 'min_cluster_size': 35, 'min_samples': 9, 'nr_topics': 10}\n"
     ]
    },
    {
     "name": "stderr",
     "output_type": "stream",
     "text": [
      "2025-04-22 17:26:16,912 - BERTopic - WARNING: When you use `pickle` to save/load a BERTopic model,please make sure that the environments in which you saveand load the model are **exactly** the same. The version of BERTopic,its dependencies, and python need to remain the same.\n"
     ]
    },
    {
     "name": "stdout",
     "output_type": "stream",
     "text": [
      "Done | Topics: 9, Outliers: 4970 (43.34%) | Time: 3.58s\n",
      "\n",
      "Running: {'embedding_model': 'all-MiniLM-L6-v2', 'metric': 'euclidean', 'min_cluster_size': 35, 'min_samples': 9, 'nr_topics': 15}\n"
     ]
    },
    {
     "name": "stderr",
     "output_type": "stream",
     "text": [
      "2025-04-22 17:26:21,947 - BERTopic - WARNING: When you use `pickle` to save/load a BERTopic model,please make sure that the environments in which you saveand load the model are **exactly** the same. The version of BERTopic,its dependencies, and python need to remain the same.\n"
     ]
    },
    {
     "name": "stdout",
     "output_type": "stream",
     "text": [
      "Done | Topics: 14, Outliers: 4571 (39.86%) | Time: 3.85s\n",
      "\n",
      "Running: {'embedding_model': 'all-MiniLM-L6-v2', 'metric': 'euclidean', 'min_cluster_size': 35, 'min_samples': 9, 'nr_topics': 20}\n"
     ]
    },
    {
     "name": "stderr",
     "output_type": "stream",
     "text": [
      "2025-04-22 17:26:26,894 - BERTopic - WARNING: When you use `pickle` to save/load a BERTopic model,please make sure that the environments in which you saveand load the model are **exactly** the same. The version of BERTopic,its dependencies, and python need to remain the same.\n"
     ]
    },
    {
     "name": "stdout",
     "output_type": "stream",
     "text": [
      "Done | Topics: 19, Outliers: 4971 (43.35%) | Time: 3.73s\n",
      "\n",
      "Running: {'embedding_model': 'all-MiniLM-L6-v2', 'metric': 'manhattan', 'min_cluster_size': 35, 'min_samples': 9, 'nr_topics': 10}\n"
     ]
    },
    {
     "name": "stderr",
     "output_type": "stream",
     "text": [
      "2025-04-22 17:26:32,501 - BERTopic - WARNING: When you use `pickle` to save/load a BERTopic model,please make sure that the environments in which you saveand load the model are **exactly** the same. The version of BERTopic,its dependencies, and python need to remain the same.\n"
     ]
    },
    {
     "name": "stdout",
     "output_type": "stream",
     "text": [
      "Done | Topics: 9, Outliers: 4817 (42.01%) | Time: 4.26s\n",
      "\n",
      "Running: {'embedding_model': 'all-MiniLM-L6-v2', 'metric': 'manhattan', 'min_cluster_size': 35, 'min_samples': 9, 'nr_topics': 15}\n"
     ]
    },
    {
     "name": "stderr",
     "output_type": "stream",
     "text": [
      "2025-04-22 17:26:37,894 - BERTopic - WARNING: When you use `pickle` to save/load a BERTopic model,please make sure that the environments in which you saveand load the model are **exactly** the same. The version of BERTopic,its dependencies, and python need to remain the same.\n"
     ]
    },
    {
     "name": "stdout",
     "output_type": "stream",
     "text": [
      "Done | Topics: 8, Outliers: 212 (1.85%) | Time: 4.18s\n",
      "\n",
      "Running: {'embedding_model': 'all-MiniLM-L6-v2', 'metric': 'manhattan', 'min_cluster_size': 35, 'min_samples': 9, 'nr_topics': 20}\n"
     ]
    },
    {
     "name": "stderr",
     "output_type": "stream",
     "text": [
      "2025-04-22 17:26:44,252 - BERTopic - WARNING: When you use `pickle` to save/load a BERTopic model,please make sure that the environments in which you saveand load the model are **exactly** the same. The version of BERTopic,its dependencies, and python need to remain the same.\n"
     ]
    },
    {
     "name": "stdout",
     "output_type": "stream",
     "text": [
      "Done | Topics: 19, Outliers: 5046 (44.0%) | Time: 4.49s\n",
      "\n",
      "Running: {'embedding_model': 'all-MiniLM-L6-v2', 'metric': 'cosine', 'min_cluster_size': 35, 'min_samples': 9, 'nr_topics': 10}\n"
     ]
    },
    {
     "name": "stderr",
     "output_type": "stream",
     "text": [
      "2025-04-22 17:26:49,863 - BERTopic - WARNING: When you use `pickle` to save/load a BERTopic model,please make sure that the environments in which you saveand load the model are **exactly** the same. The version of BERTopic,its dependencies, and python need to remain the same.\n"
     ]
    },
    {
     "name": "stdout",
     "output_type": "stream",
     "text": [
      "Done | Topics: 9, Outliers: 4967 (43.32%) | Time: 4.36s\n",
      "\n",
      "Running: {'embedding_model': 'all-MiniLM-L6-v2', 'metric': 'cosine', 'min_cluster_size': 35, 'min_samples': 9, 'nr_topics': 15}\n"
     ]
    },
    {
     "name": "stderr",
     "output_type": "stream",
     "text": [
      "2025-04-22 17:26:55,057 - BERTopic - WARNING: When you use `pickle` to save/load a BERTopic model,please make sure that the environments in which you saveand load the model are **exactly** the same. The version of BERTopic,its dependencies, and python need to remain the same.\n"
     ]
    },
    {
     "name": "stdout",
     "output_type": "stream",
     "text": [
      "Done | Topics: 14, Outliers: 5190 (45.26%) | Time: 3.98s\n",
      "\n",
      "Running: {'embedding_model': 'all-MiniLM-L6-v2', 'metric': 'cosine', 'min_cluster_size': 35, 'min_samples': 9, 'nr_topics': 20}\n"
     ]
    },
    {
     "name": "stderr",
     "output_type": "stream",
     "text": [
      "2025-04-22 17:26:59,903 - BERTopic - WARNING: When you use `pickle` to save/load a BERTopic model,please make sure that the environments in which you saveand load the model are **exactly** the same. The version of BERTopic,its dependencies, and python need to remain the same.\n"
     ]
    },
    {
     "name": "stdout",
     "output_type": "stream",
     "text": [
      "Done | Topics: 19, Outliers: 4547 (39.65%) | Time: 3.65s\n",
      "\n",
      "Running: {'embedding_model': 'all-MiniLM-L6-v2', 'metric': 'euclidean', 'min_cluster_size': 40, 'min_samples': 5, 'nr_topics': 10}\n"
     ]
    },
    {
     "name": "stderr",
     "output_type": "stream",
     "text": [
      "2025-04-22 17:27:04,847 - BERTopic - WARNING: When you use `pickle` to save/load a BERTopic model,please make sure that the environments in which you saveand load the model are **exactly** the same. The version of BERTopic,its dependencies, and python need to remain the same.\n"
     ]
    },
    {
     "name": "stdout",
     "output_type": "stream",
     "text": [
      "Done | Topics: 8, Outliers: 315 (2.75%) | Time: 3.77s\n",
      "\n",
      "Running: {'embedding_model': 'all-MiniLM-L6-v2', 'metric': 'euclidean', 'min_cluster_size': 40, 'min_samples': 5, 'nr_topics': 15}\n"
     ]
    },
    {
     "name": "stderr",
     "output_type": "stream",
     "text": [
      "2025-04-22 17:27:10,302 - BERTopic - WARNING: When you use `pickle` to save/load a BERTopic model,please make sure that the environments in which you saveand load the model are **exactly** the same. The version of BERTopic,its dependencies, and python need to remain the same.\n"
     ]
    },
    {
     "name": "stdout",
     "output_type": "stream",
     "text": [
      "Done | Topics: 14, Outliers: 4346 (37.9%) | Time: 3.63s\n",
      "\n",
      "Running: {'embedding_model': 'all-MiniLM-L6-v2', 'metric': 'euclidean', 'min_cluster_size': 40, 'min_samples': 5, 'nr_topics': 20}\n"
     ]
    },
    {
     "name": "stderr",
     "output_type": "stream",
     "text": [
      "2025-04-22 17:27:15,897 - BERTopic - WARNING: When you use `pickle` to save/load a BERTopic model,please make sure that the environments in which you saveand load the model are **exactly** the same. The version of BERTopic,its dependencies, and python need to remain the same.\n"
     ]
    },
    {
     "name": "stdout",
     "output_type": "stream",
     "text": [
      "Done | Topics: 19, Outliers: 4897 (42.71%) | Time: 4.36s\n",
      "\n",
      "Running: {'embedding_model': 'all-MiniLM-L6-v2', 'metric': 'manhattan', 'min_cluster_size': 40, 'min_samples': 5, 'nr_topics': 10}\n"
     ]
    },
    {
     "name": "stderr",
     "output_type": "stream",
     "text": [
      "2025-04-22 17:27:20,849 - BERTopic - WARNING: When you use `pickle` to save/load a BERTopic model,please make sure that the environments in which you saveand load the model are **exactly** the same. The version of BERTopic,its dependencies, and python need to remain the same.\n"
     ]
    },
    {
     "name": "stdout",
     "output_type": "stream",
     "text": [
      "Done | Topics: 9, Outliers: 5036 (43.92%) | Time: 3.71s\n",
      "\n",
      "Running: {'embedding_model': 'all-MiniLM-L6-v2', 'metric': 'manhattan', 'min_cluster_size': 40, 'min_samples': 5, 'nr_topics': 15}\n"
     ]
    },
    {
     "name": "stderr",
     "output_type": "stream",
     "text": [
      "2025-04-22 17:27:25,859 - BERTopic - WARNING: When you use `pickle` to save/load a BERTopic model,please make sure that the environments in which you saveand load the model are **exactly** the same. The version of BERTopic,its dependencies, and python need to remain the same.\n"
     ]
    },
    {
     "name": "stdout",
     "output_type": "stream",
     "text": [
      "Done | Topics: 8, Outliers: 326 (2.84%) | Time: 3.85s\n",
      "\n",
      "Running: {'embedding_model': 'all-MiniLM-L6-v2', 'metric': 'manhattan', 'min_cluster_size': 40, 'min_samples': 5, 'nr_topics': 20}\n"
     ]
    },
    {
     "name": "stderr",
     "output_type": "stream",
     "text": [
      "2025-04-22 17:27:31,244 - BERTopic - WARNING: When you use `pickle` to save/load a BERTopic model,please make sure that the environments in which you saveand load the model are **exactly** the same. The version of BERTopic,its dependencies, and python need to remain the same.\n"
     ]
    },
    {
     "name": "stdout",
     "output_type": "stream",
     "text": [
      "Done | Topics: 19, Outliers: 4935 (43.04%) | Time: 4.27s\n",
      "\n",
      "Running: {'embedding_model': 'all-MiniLM-L6-v2', 'metric': 'cosine', 'min_cluster_size': 40, 'min_samples': 5, 'nr_topics': 10}\n"
     ]
    },
    {
     "name": "stderr",
     "output_type": "stream",
     "text": [
      "2025-04-22 17:27:36,471 - BERTopic - WARNING: When you use `pickle` to save/load a BERTopic model,please make sure that the environments in which you saveand load the model are **exactly** the same. The version of BERTopic,its dependencies, and python need to remain the same.\n"
     ]
    },
    {
     "name": "stdout",
     "output_type": "stream",
     "text": [
      "Done | Topics: 9, Outliers: 5119 (44.64%) | Time: 4.04s\n",
      "\n",
      "Running: {'embedding_model': 'all-MiniLM-L6-v2', 'metric': 'cosine', 'min_cluster_size': 40, 'min_samples': 5, 'nr_topics': 15}\n"
     ]
    },
    {
     "name": "stderr",
     "output_type": "stream",
     "text": [
      "2025-04-22 17:27:41,960 - BERTopic - WARNING: When you use `pickle` to save/load a BERTopic model,please make sure that the environments in which you saveand load the model are **exactly** the same. The version of BERTopic,its dependencies, and python need to remain the same.\n"
     ]
    },
    {
     "name": "stdout",
     "output_type": "stream",
     "text": [
      "Done | Topics: 8, Outliers: 324 (2.83%) | Time: 3.58s\n",
      "\n",
      "Running: {'embedding_model': 'all-MiniLM-L6-v2', 'metric': 'cosine', 'min_cluster_size': 40, 'min_samples': 5, 'nr_topics': 20}\n"
     ]
    },
    {
     "name": "stderr",
     "output_type": "stream",
     "text": [
      "2025-04-22 17:27:47,084 - BERTopic - WARNING: When you use `pickle` to save/load a BERTopic model,please make sure that the environments in which you saveand load the model are **exactly** the same. The version of BERTopic,its dependencies, and python need to remain the same.\n"
     ]
    },
    {
     "name": "stdout",
     "output_type": "stream",
     "text": [
      "Done | Topics: 19, Outliers: 4655 (40.59%) | Time: 3.94s\n",
      "\n",
      "Running: {'embedding_model': 'all-MiniLM-L6-v2', 'metric': 'euclidean', 'min_cluster_size': 40, 'min_samples': 7, 'nr_topics': 10}\n"
     ]
    },
    {
     "name": "stderr",
     "output_type": "stream",
     "text": [
      "2025-04-22 17:27:51,889 - BERTopic - WARNING: When you use `pickle` to save/load a BERTopic model,please make sure that the environments in which you saveand load the model are **exactly** the same. The version of BERTopic,its dependencies, and python need to remain the same.\n"
     ]
    },
    {
     "name": "stdout",
     "output_type": "stream",
     "text": [
      "Done | Topics: 8, Outliers: 377 (3.29%) | Time: 3.51s\n",
      "\n",
      "Running: {'embedding_model': 'all-MiniLM-L6-v2', 'metric': 'euclidean', 'min_cluster_size': 40, 'min_samples': 7, 'nr_topics': 15}\n"
     ]
    },
    {
     "name": "stderr",
     "output_type": "stream",
     "text": [
      "2025-04-22 17:27:56,887 - BERTopic - WARNING: When you use `pickle` to save/load a BERTopic model,please make sure that the environments in which you saveand load the model are **exactly** the same. The version of BERTopic,its dependencies, and python need to remain the same.\n"
     ]
    },
    {
     "name": "stdout",
     "output_type": "stream",
     "text": [
      "Done | Topics: 14, Outliers: 4771 (41.61%) | Time: 3.81s\n",
      "\n",
      "Running: {'embedding_model': 'all-MiniLM-L6-v2', 'metric': 'euclidean', 'min_cluster_size': 40, 'min_samples': 7, 'nr_topics': 20}\n"
     ]
    },
    {
     "name": "stderr",
     "output_type": "stream",
     "text": [
      "2025-04-22 17:28:01,854 - BERTopic - WARNING: When you use `pickle` to save/load a BERTopic model,please make sure that the environments in which you saveand load the model are **exactly** the same. The version of BERTopic,its dependencies, and python need to remain the same.\n"
     ]
    },
    {
     "name": "stdout",
     "output_type": "stream",
     "text": [
      "Done | Topics: 19, Outliers: 4629 (40.37%) | Time: 3.82s\n",
      "\n",
      "Running: {'embedding_model': 'all-MiniLM-L6-v2', 'metric': 'manhattan', 'min_cluster_size': 40, 'min_samples': 7, 'nr_topics': 10}\n"
     ]
    },
    {
     "name": "stderr",
     "output_type": "stream",
     "text": [
      "2025-04-22 17:28:06,821 - BERTopic - WARNING: When you use `pickle` to save/load a BERTopic model,please make sure that the environments in which you saveand load the model are **exactly** the same. The version of BERTopic,its dependencies, and python need to remain the same.\n"
     ]
    },
    {
     "name": "stdout",
     "output_type": "stream",
     "text": [
      "Done | Topics: 9, Outliers: 4888 (42.63%) | Time: 3.79s\n",
      "\n",
      "Running: {'embedding_model': 'all-MiniLM-L6-v2', 'metric': 'manhattan', 'min_cluster_size': 40, 'min_samples': 7, 'nr_topics': 15}\n"
     ]
    },
    {
     "name": "stderr",
     "output_type": "stream",
     "text": [
      "2025-04-22 17:28:12,527 - BERTopic - WARNING: When you use `pickle` to save/load a BERTopic model,please make sure that the environments in which you saveand load the model are **exactly** the same. The version of BERTopic,its dependencies, and python need to remain the same.\n"
     ]
    },
    {
     "name": "stdout",
     "output_type": "stream",
     "text": [
      "Done | Topics: 14, Outliers: 4655 (40.59%) | Time: 3.85s\n",
      "\n",
      "Running: {'embedding_model': 'all-MiniLM-L6-v2', 'metric': 'manhattan', 'min_cluster_size': 40, 'min_samples': 7, 'nr_topics': 20}\n"
     ]
    },
    {
     "name": "stderr",
     "output_type": "stream",
     "text": [
      "2025-04-22 17:28:18,065 - BERTopic - WARNING: When you use `pickle` to save/load a BERTopic model,please make sure that the environments in which you saveand load the model are **exactly** the same. The version of BERTopic,its dependencies, and python need to remain the same.\n"
     ]
    },
    {
     "name": "stdout",
     "output_type": "stream",
     "text": [
      "Done | Topics: 19, Outliers: 4578 (39.92%) | Time: 4.37s\n",
      "\n",
      "Running: {'embedding_model': 'all-MiniLM-L6-v2', 'metric': 'cosine', 'min_cluster_size': 40, 'min_samples': 7, 'nr_topics': 10}\n"
     ]
    },
    {
     "name": "stderr",
     "output_type": "stream",
     "text": [
      "2025-04-22 17:28:23,143 - BERTopic - WARNING: When you use `pickle` to save/load a BERTopic model,please make sure that the environments in which you saveand load the model are **exactly** the same. The version of BERTopic,its dependencies, and python need to remain the same.\n"
     ]
    },
    {
     "name": "stdout",
     "output_type": "stream",
     "text": [
      "Done | Topics: 9, Outliers: 4948 (43.15%) | Time: 3.87s\n",
      "\n",
      "Running: {'embedding_model': 'all-MiniLM-L6-v2', 'metric': 'cosine', 'min_cluster_size': 40, 'min_samples': 7, 'nr_topics': 15}\n"
     ]
    },
    {
     "name": "stderr",
     "output_type": "stream",
     "text": [
      "2025-04-22 17:28:28,184 - BERTopic - WARNING: When you use `pickle` to save/load a BERTopic model,please make sure that the environments in which you saveand load the model are **exactly** the same. The version of BERTopic,its dependencies, and python need to remain the same.\n"
     ]
    },
    {
     "name": "stdout",
     "output_type": "stream",
     "text": [
      "Done | Topics: 14, Outliers: 5110 (44.56%) | Time: 3.94s\n",
      "\n",
      "Running: {'embedding_model': 'all-MiniLM-L6-v2', 'metric': 'cosine', 'min_cluster_size': 40, 'min_samples': 7, 'nr_topics': 20}\n"
     ]
    },
    {
     "name": "stderr",
     "output_type": "stream",
     "text": [
      "2025-04-22 17:28:32,960 - BERTopic - WARNING: When you use `pickle` to save/load a BERTopic model,please make sure that the environments in which you saveand load the model are **exactly** the same. The version of BERTopic,its dependencies, and python need to remain the same.\n"
     ]
    },
    {
     "name": "stdout",
     "output_type": "stream",
     "text": [
      "Done | Topics: 9, Outliers: 351 (3.06%) | Time: 3.57s\n",
      "\n",
      "Running: {'embedding_model': 'all-MiniLM-L6-v2', 'metric': 'euclidean', 'min_cluster_size': 40, 'min_samples': 9, 'nr_topics': 10}\n"
     ]
    },
    {
     "name": "stderr",
     "output_type": "stream",
     "text": [
      "2025-04-22 17:28:39,022 - BERTopic - WARNING: When you use `pickle` to save/load a BERTopic model,please make sure that the environments in which you saveand load the model are **exactly** the same. The version of BERTopic,its dependencies, and python need to remain the same.\n"
     ]
    },
    {
     "name": "stdout",
     "output_type": "stream",
     "text": [
      "Done | Topics: 9, Outliers: 4906 (42.78%) | Time: 4.16s\n",
      "\n",
      "Running: {'embedding_model': 'all-MiniLM-L6-v2', 'metric': 'euclidean', 'min_cluster_size': 40, 'min_samples': 9, 'nr_topics': 15}\n"
     ]
    },
    {
     "name": "stderr",
     "output_type": "stream",
     "text": [
      "2025-04-22 17:28:44,123 - BERTopic - WARNING: When you use `pickle` to save/load a BERTopic model,please make sure that the environments in which you saveand load the model are **exactly** the same. The version of BERTopic,its dependencies, and python need to remain the same.\n"
     ]
    },
    {
     "name": "stdout",
     "output_type": "stream",
     "text": [
      "Done | Topics: 14, Outliers: 4968 (43.32%) | Time: 3.91s\n",
      "\n",
      "Running: {'embedding_model': 'all-MiniLM-L6-v2', 'metric': 'euclidean', 'min_cluster_size': 40, 'min_samples': 9, 'nr_topics': 20}\n"
     ]
    },
    {
     "name": "stderr",
     "output_type": "stream",
     "text": [
      "2025-04-22 17:28:49,325 - BERTopic - WARNING: When you use `pickle` to save/load a BERTopic model,please make sure that the environments in which you saveand load the model are **exactly** the same. The version of BERTopic,its dependencies, and python need to remain the same.\n"
     ]
    },
    {
     "name": "stdout",
     "output_type": "stream",
     "text": [
      "Done | Topics: 7, Outliers: 150 (1.31%) | Time: 3.97s\n",
      "\n",
      "Running: {'embedding_model': 'all-MiniLM-L6-v2', 'metric': 'manhattan', 'min_cluster_size': 40, 'min_samples': 9, 'nr_topics': 10}\n"
     ]
    },
    {
     "name": "stderr",
     "output_type": "stream",
     "text": [
      "2025-04-22 17:28:54,106 - BERTopic - WARNING: When you use `pickle` to save/load a BERTopic model,please make sure that the environments in which you saveand load the model are **exactly** the same. The version of BERTopic,its dependencies, and python need to remain the same.\n"
     ]
    },
    {
     "name": "stdout",
     "output_type": "stream",
     "text": [
      "Done | Topics: 8, Outliers: 279 (2.43%) | Time: 3.59s\n",
      "\n",
      "Running: {'embedding_model': 'all-MiniLM-L6-v2', 'metric': 'manhattan', 'min_cluster_size': 40, 'min_samples': 9, 'nr_topics': 15}\n"
     ]
    },
    {
     "name": "stderr",
     "output_type": "stream",
     "text": [
      "2025-04-22 17:28:59,313 - BERTopic - WARNING: When you use `pickle` to save/load a BERTopic model,please make sure that the environments in which you saveand load the model are **exactly** the same. The version of BERTopic,its dependencies, and python need to remain the same.\n"
     ]
    },
    {
     "name": "stdout",
     "output_type": "stream",
     "text": [
      "Done | Topics: 14, Outliers: 5322 (46.41%) | Time: 4.08s\n",
      "\n",
      "Running: {'embedding_model': 'all-MiniLM-L6-v2', 'metric': 'manhattan', 'min_cluster_size': 40, 'min_samples': 9, 'nr_topics': 20}\n"
     ]
    },
    {
     "name": "stderr",
     "output_type": "stream",
     "text": [
      "2025-04-22 17:29:04,732 - BERTopic - WARNING: When you use `pickle` to save/load a BERTopic model,please make sure that the environments in which you saveand load the model are **exactly** the same. The version of BERTopic,its dependencies, and python need to remain the same.\n"
     ]
    },
    {
     "name": "stdout",
     "output_type": "stream",
     "text": [
      "Done | Topics: 19, Outliers: 4711 (41.08%) | Time: 4.3s\n",
      "\n",
      "Running: {'embedding_model': 'all-MiniLM-L6-v2', 'metric': 'cosine', 'min_cluster_size': 40, 'min_samples': 9, 'nr_topics': 10}\n"
     ]
    },
    {
     "name": "stderr",
     "output_type": "stream",
     "text": [
      "2025-04-22 17:29:10,148 - BERTopic - WARNING: When you use `pickle` to save/load a BERTopic model,please make sure that the environments in which you saveand load the model are **exactly** the same. The version of BERTopic,its dependencies, and python need to remain the same.\n"
     ]
    },
    {
     "name": "stdout",
     "output_type": "stream",
     "text": [
      "Done | Topics: 8, Outliers: 312 (2.72%) | Time: 3.54s\n",
      "\n",
      "Running: {'embedding_model': 'all-MiniLM-L6-v2', 'metric': 'cosine', 'min_cluster_size': 40, 'min_samples': 9, 'nr_topics': 15}\n"
     ]
    },
    {
     "name": "stderr",
     "output_type": "stream",
     "text": [
      "2025-04-22 17:29:15,110 - BERTopic - WARNING: When you use `pickle` to save/load a BERTopic model,please make sure that the environments in which you saveand load the model are **exactly** the same. The version of BERTopic,its dependencies, and python need to remain the same.\n"
     ]
    },
    {
     "name": "stdout",
     "output_type": "stream",
     "text": [
      "Done | Topics: 14, Outliers: 5101 (44.48%) | Time: 3.81s\n",
      "\n",
      "Running: {'embedding_model': 'all-MiniLM-L6-v2', 'metric': 'cosine', 'min_cluster_size': 40, 'min_samples': 9, 'nr_topics': 20}\n"
     ]
    },
    {
     "name": "stderr",
     "output_type": "stream",
     "text": [
      "2025-04-22 17:29:20,140 - BERTopic - WARNING: When you use `pickle` to save/load a BERTopic model,please make sure that the environments in which you saveand load the model are **exactly** the same. The version of BERTopic,its dependencies, and python need to remain the same.\n"
     ]
    },
    {
     "name": "stdout",
     "output_type": "stream",
     "text": [
      "Done | Topics: 7, Outliers: 199 (1.74%) | Time: 3.94s\n",
      "\n",
      "Running: {'embedding_model': 'all-MiniLM-L6-v2', 'metric': 'euclidean', 'min_cluster_size': 45, 'min_samples': 5, 'nr_topics': 10}\n"
     ]
    },
    {
     "name": "stderr",
     "output_type": "stream",
     "text": [
      "2025-04-22 17:29:24,915 - BERTopic - WARNING: When you use `pickle` to save/load a BERTopic model,please make sure that the environments in which you saveand load the model are **exactly** the same. The version of BERTopic,its dependencies, and python need to remain the same.\n"
     ]
    },
    {
     "name": "stdout",
     "output_type": "stream",
     "text": [
      "Done | Topics: 8, Outliers: 291 (2.54%) | Time: 3.66s\n",
      "\n",
      "Running: {'embedding_model': 'all-MiniLM-L6-v2', 'metric': 'euclidean', 'min_cluster_size': 45, 'min_samples': 5, 'nr_topics': 15}\n"
     ]
    },
    {
     "name": "stderr",
     "output_type": "stream",
     "text": [
      "2025-04-22 17:29:29,501 - BERTopic - WARNING: When you use `pickle` to save/load a BERTopic model,please make sure that the environments in which you saveand load the model are **exactly** the same. The version of BERTopic,its dependencies, and python need to remain the same.\n"
     ]
    },
    {
     "name": "stdout",
     "output_type": "stream",
     "text": [
      "Done | Topics: 8, Outliers: 293 (2.56%) | Time: 3.47s\n",
      "\n",
      "Running: {'embedding_model': 'all-MiniLM-L6-v2', 'metric': 'euclidean', 'min_cluster_size': 45, 'min_samples': 5, 'nr_topics': 20}\n"
     ]
    },
    {
     "name": "stderr",
     "output_type": "stream",
     "text": [
      "2025-04-22 17:29:34,267 - BERTopic - WARNING: When you use `pickle` to save/load a BERTopic model,please make sure that the environments in which you saveand load the model are **exactly** the same. The version of BERTopic,its dependencies, and python need to remain the same.\n"
     ]
    },
    {
     "name": "stdout",
     "output_type": "stream",
     "text": [
      "Done | Topics: 8, Outliers: 300 (2.62%) | Time: 3.61s\n",
      "\n",
      "Running: {'embedding_model': 'all-MiniLM-L6-v2', 'metric': 'manhattan', 'min_cluster_size': 45, 'min_samples': 5, 'nr_topics': 10}\n"
     ]
    },
    {
     "name": "stderr",
     "output_type": "stream",
     "text": [
      "2025-04-22 17:29:39,831 - BERTopic - WARNING: When you use `pickle` to save/load a BERTopic model,please make sure that the environments in which you saveand load the model are **exactly** the same. The version of BERTopic,its dependencies, and python need to remain the same.\n"
     ]
    },
    {
     "name": "stdout",
     "output_type": "stream",
     "text": [
      "Done | Topics: 9, Outliers: 5035 (43.91%) | Time: 3.72s\n",
      "\n",
      "Running: {'embedding_model': 'all-MiniLM-L6-v2', 'metric': 'manhattan', 'min_cluster_size': 45, 'min_samples': 5, 'nr_topics': 15}\n"
     ]
    },
    {
     "name": "stderr",
     "output_type": "stream",
     "text": [
      "2025-04-22 17:29:44,823 - BERTopic - WARNING: When you use `pickle` to save/load a BERTopic model,please make sure that the environments in which you saveand load the model are **exactly** the same. The version of BERTopic,its dependencies, and python need to remain the same.\n"
     ]
    },
    {
     "name": "stdout",
     "output_type": "stream",
     "text": [
      "Done | Topics: 14, Outliers: 4693 (40.93%) | Time: 3.81s\n",
      "\n",
      "Running: {'embedding_model': 'all-MiniLM-L6-v2', 'metric': 'manhattan', 'min_cluster_size': 45, 'min_samples': 5, 'nr_topics': 20}\n"
     ]
    },
    {
     "name": "stderr",
     "output_type": "stream",
     "text": [
      "2025-04-22 17:29:49,747 - BERTopic - WARNING: When you use `pickle` to save/load a BERTopic model,please make sure that the environments in which you saveand load the model are **exactly** the same. The version of BERTopic,its dependencies, and python need to remain the same.\n"
     ]
    },
    {
     "name": "stdout",
     "output_type": "stream",
     "text": [
      "Done | Topics: 8, Outliers: 337 (2.94%) | Time: 3.81s\n",
      "\n",
      "Running: {'embedding_model': 'all-MiniLM-L6-v2', 'metric': 'cosine', 'min_cluster_size': 45, 'min_samples': 5, 'nr_topics': 10}\n"
     ]
    },
    {
     "name": "stderr",
     "output_type": "stream",
     "text": [
      "2025-04-22 17:29:54,333 - BERTopic - WARNING: When you use `pickle` to save/load a BERTopic model,please make sure that the environments in which you saveand load the model are **exactly** the same. The version of BERTopic,its dependencies, and python need to remain the same.\n"
     ]
    },
    {
     "name": "stdout",
     "output_type": "stream",
     "text": [
      "Done | Topics: 8, Outliers: 324 (2.83%) | Time: 3.44s\n",
      "\n",
      "Running: {'embedding_model': 'all-MiniLM-L6-v2', 'metric': 'cosine', 'min_cluster_size': 45, 'min_samples': 5, 'nr_topics': 15}\n"
     ]
    },
    {
     "name": "stderr",
     "output_type": "stream",
     "text": [
      "2025-04-22 17:29:58,979 - BERTopic - WARNING: When you use `pickle` to save/load a BERTopic model,please make sure that the environments in which you saveand load the model are **exactly** the same. The version of BERTopic,its dependencies, and python need to remain the same.\n"
     ]
    },
    {
     "name": "stdout",
     "output_type": "stream",
     "text": [
      "Done | Topics: 8, Outliers: 296 (2.58%) | Time: 3.49s\n",
      "\n",
      "Running: {'embedding_model': 'all-MiniLM-L6-v2', 'metric': 'cosine', 'min_cluster_size': 45, 'min_samples': 5, 'nr_topics': 20}\n"
     ]
    },
    {
     "name": "stderr",
     "output_type": "stream",
     "text": [
      "2025-04-22 17:30:03,894 - BERTopic - WARNING: When you use `pickle` to save/load a BERTopic model,please make sure that the environments in which you saveand load the model are **exactly** the same. The version of BERTopic,its dependencies, and python need to remain the same.\n"
     ]
    },
    {
     "name": "stdout",
     "output_type": "stream",
     "text": [
      "Done | Topics: 19, Outliers: 4284 (37.36%) | Time: 3.69s\n",
      "\n",
      "Running: {'embedding_model': 'all-MiniLM-L6-v2', 'metric': 'euclidean', 'min_cluster_size': 45, 'min_samples': 7, 'nr_topics': 10}\n"
     ]
    },
    {
     "name": "stderr",
     "output_type": "stream",
     "text": [
      "2025-04-22 17:30:09,380 - BERTopic - WARNING: When you use `pickle` to save/load a BERTopic model,please make sure that the environments in which you saveand load the model are **exactly** the same. The version of BERTopic,its dependencies, and python need to remain the same.\n"
     ]
    },
    {
     "name": "stdout",
     "output_type": "stream",
     "text": [
      "Done | Topics: 8, Outliers: 337 (2.94%) | Time: 3.56s\n",
      "\n",
      "Running: {'embedding_model': 'all-MiniLM-L6-v2', 'metric': 'euclidean', 'min_cluster_size': 45, 'min_samples': 7, 'nr_topics': 15}\n"
     ]
    },
    {
     "name": "stderr",
     "output_type": "stream",
     "text": [
      "2025-04-22 17:30:14,200 - BERTopic - WARNING: When you use `pickle` to save/load a BERTopic model,please make sure that the environments in which you saveand load the model are **exactly** the same. The version of BERTopic,its dependencies, and python need to remain the same.\n"
     ]
    },
    {
     "name": "stdout",
     "output_type": "stream",
     "text": [
      "Done | Topics: 14, Outliers: 4769 (41.59%) | Time: 3.55s\n",
      "\n",
      "Running: {'embedding_model': 'all-MiniLM-L6-v2', 'metric': 'euclidean', 'min_cluster_size': 45, 'min_samples': 7, 'nr_topics': 20}\n"
     ]
    },
    {
     "name": "stderr",
     "output_type": "stream",
     "text": [
      "2025-04-22 17:30:18,857 - BERTopic - WARNING: When you use `pickle` to save/load a BERTopic model,please make sure that the environments in which you saveand load the model are **exactly** the same. The version of BERTopic,its dependencies, and python need to remain the same.\n"
     ]
    },
    {
     "name": "stdout",
     "output_type": "stream",
     "text": [
      "Done | Topics: 8, Outliers: 340 (2.97%) | Time: 3.47s\n",
      "\n",
      "Running: {'embedding_model': 'all-MiniLM-L6-v2', 'metric': 'manhattan', 'min_cluster_size': 45, 'min_samples': 7, 'nr_topics': 10}\n"
     ]
    },
    {
     "name": "stderr",
     "output_type": "stream",
     "text": [
      "2025-04-22 17:30:23,554 - BERTopic - WARNING: When you use `pickle` to save/load a BERTopic model,please make sure that the environments in which you saveand load the model are **exactly** the same. The version of BERTopic,its dependencies, and python need to remain the same.\n"
     ]
    },
    {
     "name": "stdout",
     "output_type": "stream",
     "text": [
      "Done | Topics: 7, Outliers: 387 (3.37%) | Time: 3.47s\n",
      "\n",
      "Running: {'embedding_model': 'all-MiniLM-L6-v2', 'metric': 'manhattan', 'min_cluster_size': 45, 'min_samples': 7, 'nr_topics': 15}\n"
     ]
    },
    {
     "name": "stderr",
     "output_type": "stream",
     "text": [
      "2025-04-22 17:30:28,401 - BERTopic - WARNING: When you use `pickle` to save/load a BERTopic model,please make sure that the environments in which you saveand load the model are **exactly** the same. The version of BERTopic,its dependencies, and python need to remain the same.\n"
     ]
    },
    {
     "name": "stdout",
     "output_type": "stream",
     "text": [
      "Done | Topics: 14, Outliers: 4896 (42.7%) | Time: 3.7s\n",
      "\n",
      "Running: {'embedding_model': 'all-MiniLM-L6-v2', 'metric': 'manhattan', 'min_cluster_size': 45, 'min_samples': 7, 'nr_topics': 20}\n"
     ]
    },
    {
     "name": "stderr",
     "output_type": "stream",
     "text": [
      "2025-04-22 17:30:33,585 - BERTopic - WARNING: When you use `pickle` to save/load a BERTopic model,please make sure that the environments in which you saveand load the model are **exactly** the same. The version of BERTopic,its dependencies, and python need to remain the same.\n"
     ]
    },
    {
     "name": "stdout",
     "output_type": "stream",
     "text": [
      "Done | Topics: 19, Outliers: 4773 (41.62%) | Time: 3.96s\n",
      "\n",
      "Running: {'embedding_model': 'all-MiniLM-L6-v2', 'metric': 'cosine', 'min_cluster_size': 45, 'min_samples': 7, 'nr_topics': 10}\n"
     ]
    },
    {
     "name": "stderr",
     "output_type": "stream",
     "text": [
      "2025-04-22 17:30:39,072 - BERTopic - WARNING: When you use `pickle` to save/load a BERTopic model,please make sure that the environments in which you saveand load the model are **exactly** the same. The version of BERTopic,its dependencies, and python need to remain the same.\n"
     ]
    },
    {
     "name": "stdout",
     "output_type": "stream",
     "text": [
      "Done | Topics: 9, Outliers: 4677 (40.79%) | Time: 3.55s\n",
      "\n",
      "Running: {'embedding_model': 'all-MiniLM-L6-v2', 'metric': 'cosine', 'min_cluster_size': 45, 'min_samples': 7, 'nr_topics': 15}\n"
     ]
    },
    {
     "name": "stderr",
     "output_type": "stream",
     "text": [
      "2025-04-22 17:30:43,696 - BERTopic - WARNING: When you use `pickle` to save/load a BERTopic model,please make sure that the environments in which you saveand load the model are **exactly** the same. The version of BERTopic,its dependencies, and python need to remain the same.\n"
     ]
    },
    {
     "name": "stdout",
     "output_type": "stream",
     "text": [
      "Done | Topics: 8, Outliers: 258 (2.25%) | Time: 3.44s\n",
      "\n",
      "Running: {'embedding_model': 'all-MiniLM-L6-v2', 'metric': 'cosine', 'min_cluster_size': 45, 'min_samples': 7, 'nr_topics': 20}\n"
     ]
    },
    {
     "name": "stderr",
     "output_type": "stream",
     "text": [
      "2025-04-22 17:30:48,646 - BERTopic - WARNING: When you use `pickle` to save/load a BERTopic model,please make sure that the environments in which you saveand load the model are **exactly** the same. The version of BERTopic,its dependencies, and python need to remain the same.\n"
     ]
    },
    {
     "name": "stdout",
     "output_type": "stream",
     "text": [
      "Done | Topics: 7, Outliers: 386 (3.37%) | Time: 3.77s\n",
      "\n",
      "Running: {'embedding_model': 'all-MiniLM-L6-v2', 'metric': 'euclidean', 'min_cluster_size': 45, 'min_samples': 9, 'nr_topics': 10}\n"
     ]
    },
    {
     "name": "stderr",
     "output_type": "stream",
     "text": [
      "2025-04-22 17:30:53,679 - BERTopic - WARNING: When you use `pickle` to save/load a BERTopic model,please make sure that the environments in which you saveand load the model are **exactly** the same. The version of BERTopic,its dependencies, and python need to remain the same.\n"
     ]
    },
    {
     "name": "stdout",
     "output_type": "stream",
     "text": [
      "Done | Topics: 9, Outliers: 5083 (44.33%) | Time: 3.73s\n",
      "\n",
      "Running: {'embedding_model': 'all-MiniLM-L6-v2', 'metric': 'euclidean', 'min_cluster_size': 45, 'min_samples': 9, 'nr_topics': 15}\n"
     ]
    },
    {
     "name": "stderr",
     "output_type": "stream",
     "text": [
      "2025-04-22 17:30:58,611 - BERTopic - WARNING: When you use `pickle` to save/load a BERTopic model,please make sure that the environments in which you saveand load the model are **exactly** the same. The version of BERTopic,its dependencies, and python need to remain the same.\n"
     ]
    },
    {
     "name": "stdout",
     "output_type": "stream",
     "text": [
      "Done | Topics: 14, Outliers: 4899 (42.72%) | Time: 3.75s\n",
      "\n",
      "Running: {'embedding_model': 'all-MiniLM-L6-v2', 'metric': 'euclidean', 'min_cluster_size': 45, 'min_samples': 9, 'nr_topics': 20}\n"
     ]
    },
    {
     "name": "stderr",
     "output_type": "stream",
     "text": [
      "2025-04-22 17:31:03,337 - BERTopic - WARNING: When you use `pickle` to save/load a BERTopic model,please make sure that the environments in which you saveand load the model are **exactly** the same. The version of BERTopic,its dependencies, and python need to remain the same.\n"
     ]
    },
    {
     "name": "stdout",
     "output_type": "stream",
     "text": [
      "Done | Topics: 8, Outliers: 319 (2.78%) | Time: 3.55s\n",
      "\n",
      "Running: {'embedding_model': 'all-MiniLM-L6-v2', 'metric': 'manhattan', 'min_cluster_size': 45, 'min_samples': 9, 'nr_topics': 10}\n"
     ]
    },
    {
     "name": "stderr",
     "output_type": "stream",
     "text": [
      "2025-04-22 17:31:09,010 - BERTopic - WARNING: When you use `pickle` to save/load a BERTopic model,please make sure that the environments in which you saveand load the model are **exactly** the same. The version of BERTopic,its dependencies, and python need to remain the same.\n"
     ]
    },
    {
     "name": "stdout",
     "output_type": "stream",
     "text": [
      "Done | Topics: 8, Outliers: 271 (2.36%) | Time: 3.63s\n",
      "\n",
      "Running: {'embedding_model': 'all-MiniLM-L6-v2', 'metric': 'manhattan', 'min_cluster_size': 45, 'min_samples': 9, 'nr_topics': 15}\n"
     ]
    },
    {
     "name": "stderr",
     "output_type": "stream",
     "text": [
      "2025-04-22 17:31:13,999 - BERTopic - WARNING: When you use `pickle` to save/load a BERTopic model,please make sure that the environments in which you saveand load the model are **exactly** the same. The version of BERTopic,its dependencies, and python need to remain the same.\n"
     ]
    },
    {
     "name": "stdout",
     "output_type": "stream",
     "text": [
      "Done | Topics: 7, Outliers: 159 (1.39%) | Time: 3.8s\n",
      "\n",
      "Running: {'embedding_model': 'all-MiniLM-L6-v2', 'metric': 'manhattan', 'min_cluster_size': 45, 'min_samples': 9, 'nr_topics': 20}\n"
     ]
    },
    {
     "name": "stderr",
     "output_type": "stream",
     "text": [
      "2025-04-22 17:31:18,884 - BERTopic - WARNING: When you use `pickle` to save/load a BERTopic model,please make sure that the environments in which you saveand load the model are **exactly** the same. The version of BERTopic,its dependencies, and python need to remain the same.\n"
     ]
    },
    {
     "name": "stdout",
     "output_type": "stream",
     "text": [
      "Done | Topics: 8, Outliers: 336 (2.93%) | Time: 3.71s\n",
      "\n",
      "Running: {'embedding_model': 'all-MiniLM-L6-v2', 'metric': 'cosine', 'min_cluster_size': 45, 'min_samples': 9, 'nr_topics': 10}\n"
     ]
    },
    {
     "name": "stderr",
     "output_type": "stream",
     "text": [
      "2025-04-22 17:31:23,478 - BERTopic - WARNING: When you use `pickle` to save/load a BERTopic model,please make sure that the environments in which you saveand load the model are **exactly** the same. The version of BERTopic,its dependencies, and python need to remain the same.\n"
     ]
    },
    {
     "name": "stdout",
     "output_type": "stream",
     "text": [
      "Done | Topics: 6, Outliers: 205 (1.79%) | Time: 3.4s\n",
      "\n",
      "Running: {'embedding_model': 'all-MiniLM-L6-v2', 'metric': 'cosine', 'min_cluster_size': 45, 'min_samples': 9, 'nr_topics': 15}\n"
     ]
    },
    {
     "name": "stderr",
     "output_type": "stream",
     "text": [
      "2025-04-22 17:31:28,183 - BERTopic - WARNING: When you use `pickle` to save/load a BERTopic model,please make sure that the environments in which you saveand load the model are **exactly** the same. The version of BERTopic,its dependencies, and python need to remain the same.\n"
     ]
    },
    {
     "name": "stdout",
     "output_type": "stream",
     "text": [
      "Done | Topics: 8, Outliers: 305 (2.66%) | Time: 3.5s\n",
      "\n",
      "Running: {'embedding_model': 'all-MiniLM-L6-v2', 'metric': 'cosine', 'min_cluster_size': 45, 'min_samples': 9, 'nr_topics': 20}\n"
     ]
    },
    {
     "name": "stderr",
     "output_type": "stream",
     "text": [
      "2025-04-22 17:31:33,148 - BERTopic - WARNING: When you use `pickle` to save/load a BERTopic model,please make sure that the environments in which you saveand load the model are **exactly** the same. The version of BERTopic,its dependencies, and python need to remain the same.\n"
     ]
    },
    {
     "name": "stdout",
     "output_type": "stream",
     "text": [
      "Done | Topics: 19, Outliers: 5310 (46.31%) | Time: 3.79s\n",
      "\n",
      "Running: {'embedding_model': 'all-MiniLM-L6-v2', 'metric': 'euclidean', 'min_cluster_size': 50, 'min_samples': 5, 'nr_topics': 10}\n"
     ]
    },
    {
     "name": "stderr",
     "output_type": "stream",
     "text": [
      "2025-04-22 17:31:38,468 - BERTopic - WARNING: When you use `pickle` to save/load a BERTopic model,please make sure that the environments in which you saveand load the model are **exactly** the same. The version of BERTopic,its dependencies, and python need to remain the same.\n"
     ]
    },
    {
     "name": "stdout",
     "output_type": "stream",
     "text": [
      "Done | Topics: 8, Outliers: 303 (2.64%) | Time: 3.43s\n",
      "\n",
      "Running: {'embedding_model': 'all-MiniLM-L6-v2', 'metric': 'euclidean', 'min_cluster_size': 50, 'min_samples': 5, 'nr_topics': 15}\n"
     ]
    },
    {
     "name": "stderr",
     "output_type": "stream",
     "text": [
      "2025-04-22 17:31:43,295 - BERTopic - WARNING: When you use `pickle` to save/load a BERTopic model,please make sure that the environments in which you saveand load the model are **exactly** the same. The version of BERTopic,its dependencies, and python need to remain the same.\n"
     ]
    },
    {
     "name": "stdout",
     "output_type": "stream",
     "text": [
      "Done | Topics: 14, Outliers: 4719 (41.15%) | Time: 3.68s\n",
      "\n",
      "Running: {'embedding_model': 'all-MiniLM-L6-v2', 'metric': 'euclidean', 'min_cluster_size': 50, 'min_samples': 5, 'nr_topics': 20}\n"
     ]
    },
    {
     "name": "stderr",
     "output_type": "stream",
     "text": [
      "2025-04-22 17:31:48,265 - BERTopic - WARNING: When you use `pickle` to save/load a BERTopic model,please make sure that the environments in which you saveand load the model are **exactly** the same. The version of BERTopic,its dependencies, and python need to remain the same.\n"
     ]
    },
    {
     "name": "stdout",
     "output_type": "stream",
     "text": [
      "Done | Topics: 7, Outliers: 345 (3.01%) | Time: 3.81s\n",
      "\n",
      "Running: {'embedding_model': 'all-MiniLM-L6-v2', 'metric': 'manhattan', 'min_cluster_size': 50, 'min_samples': 5, 'nr_topics': 10}\n"
     ]
    },
    {
     "name": "stderr",
     "output_type": "stream",
     "text": [
      "2025-04-22 17:31:53,251 - BERTopic - WARNING: When you use `pickle` to save/load a BERTopic model,please make sure that the environments in which you saveand load the model are **exactly** the same. The version of BERTopic,its dependencies, and python need to remain the same.\n"
     ]
    },
    {
     "name": "stdout",
     "output_type": "stream",
     "text": [
      "Done | Topics: 9, Outliers: 5074 (44.25%) | Time: 3.82s\n",
      "\n",
      "Running: {'embedding_model': 'all-MiniLM-L6-v2', 'metric': 'manhattan', 'min_cluster_size': 50, 'min_samples': 5, 'nr_topics': 15}\n"
     ]
    },
    {
     "name": "stderr",
     "output_type": "stream",
     "text": [
      "2025-04-22 17:31:57,829 - BERTopic - WARNING: When you use `pickle` to save/load a BERTopic model,please make sure that the environments in which you saveand load the model are **exactly** the same. The version of BERTopic,its dependencies, and python need to remain the same.\n"
     ]
    },
    {
     "name": "stdout",
     "output_type": "stream",
     "text": [
      "Done | Topics: 7, Outliers: 420 (3.66%) | Time: 3.41s\n",
      "\n",
      "Running: {'embedding_model': 'all-MiniLM-L6-v2', 'metric': 'manhattan', 'min_cluster_size': 50, 'min_samples': 5, 'nr_topics': 20}\n"
     ]
    },
    {
     "name": "stderr",
     "output_type": "stream",
     "text": [
      "2025-04-22 17:32:02,872 - BERTopic - WARNING: When you use `pickle` to save/load a BERTopic model,please make sure that the environments in which you saveand load the model are **exactly** the same. The version of BERTopic,its dependencies, and python need to remain the same.\n"
     ]
    },
    {
     "name": "stdout",
     "output_type": "stream",
     "text": [
      "Done | Topics: 19, Outliers: 4500 (39.24%) | Time: 3.86s\n",
      "\n",
      "Running: {'embedding_model': 'all-MiniLM-L6-v2', 'metric': 'cosine', 'min_cluster_size': 50, 'min_samples': 5, 'nr_topics': 10}\n"
     ]
    },
    {
     "name": "stderr",
     "output_type": "stream",
     "text": [
      "2025-04-22 17:32:08,568 - BERTopic - WARNING: When you use `pickle` to save/load a BERTopic model,please make sure that the environments in which you saveand load the model are **exactly** the same. The version of BERTopic,its dependencies, and python need to remain the same.\n"
     ]
    },
    {
     "name": "stdout",
     "output_type": "stream",
     "text": [
      "Done | Topics: 9, Outliers: 5079 (44.29%) | Time: 3.74s\n",
      "\n",
      "Running: {'embedding_model': 'all-MiniLM-L6-v2', 'metric': 'cosine', 'min_cluster_size': 50, 'min_samples': 5, 'nr_topics': 15}\n"
     ]
    },
    {
     "name": "stderr",
     "output_type": "stream",
     "text": [
      "2025-04-22 17:32:13,358 - BERTopic - WARNING: When you use `pickle` to save/load a BERTopic model,please make sure that the environments in which you saveand load the model are **exactly** the same. The version of BERTopic,its dependencies, and python need to remain the same.\n"
     ]
    },
    {
     "name": "stdout",
     "output_type": "stream",
     "text": [
      "Done | Topics: 8, Outliers: 382 (3.33%) | Time: 3.61s\n",
      "\n",
      "Running: {'embedding_model': 'all-MiniLM-L6-v2', 'metric': 'cosine', 'min_cluster_size': 50, 'min_samples': 5, 'nr_topics': 20}\n"
     ]
    },
    {
     "name": "stderr",
     "output_type": "stream",
     "text": [
      "2025-04-22 17:32:18,135 - BERTopic - WARNING: When you use `pickle` to save/load a BERTopic model,please make sure that the environments in which you saveand load the model are **exactly** the same. The version of BERTopic,its dependencies, and python need to remain the same.\n"
     ]
    },
    {
     "name": "stdout",
     "output_type": "stream",
     "text": [
      "Done | Topics: 7, Outliers: 413 (3.6%) | Time: 3.6s\n",
      "\n",
      "Running: {'embedding_model': 'all-MiniLM-L6-v2', 'metric': 'euclidean', 'min_cluster_size': 50, 'min_samples': 7, 'nr_topics': 10}\n"
     ]
    },
    {
     "name": "stderr",
     "output_type": "stream",
     "text": [
      "2025-04-22 17:32:22,960 - BERTopic - WARNING: When you use `pickle` to save/load a BERTopic model,please make sure that the environments in which you saveand load the model are **exactly** the same. The version of BERTopic,its dependencies, and python need to remain the same.\n"
     ]
    },
    {
     "name": "stdout",
     "output_type": "stream",
     "text": [
      "Done | Topics: 9, Outliers: 4609 (40.19%) | Time: 3.71s\n",
      "\n",
      "Running: {'embedding_model': 'all-MiniLM-L6-v2', 'metric': 'euclidean', 'min_cluster_size': 50, 'min_samples': 7, 'nr_topics': 15}\n"
     ]
    },
    {
     "name": "stderr",
     "output_type": "stream",
     "text": [
      "2025-04-22 17:32:27,846 - BERTopic - WARNING: When you use `pickle` to save/load a BERTopic model,please make sure that the environments in which you saveand load the model are **exactly** the same. The version of BERTopic,its dependencies, and python need to remain the same.\n"
     ]
    },
    {
     "name": "stdout",
     "output_type": "stream",
     "text": [
      "Done | Topics: 7, Outliers: 248 (2.16%) | Time: 3.73s\n",
      "\n",
      "Running: {'embedding_model': 'all-MiniLM-L6-v2', 'metric': 'euclidean', 'min_cluster_size': 50, 'min_samples': 7, 'nr_topics': 20}\n"
     ]
    },
    {
     "name": "stderr",
     "output_type": "stream",
     "text": [
      "2025-04-22 17:32:32,706 - BERTopic - WARNING: When you use `pickle` to save/load a BERTopic model,please make sure that the environments in which you saveand load the model are **exactly** the same. The version of BERTopic,its dependencies, and python need to remain the same.\n"
     ]
    },
    {
     "name": "stdout",
     "output_type": "stream",
     "text": [
      "Done | Topics: 8, Outliers: 319 (2.78%) | Time: 3.66s\n",
      "\n",
      "Running: {'embedding_model': 'all-MiniLM-L6-v2', 'metric': 'manhattan', 'min_cluster_size': 50, 'min_samples': 7, 'nr_topics': 10}\n"
     ]
    },
    {
     "name": "stderr",
     "output_type": "stream",
     "text": [
      "2025-04-22 17:32:38,509 - BERTopic - WARNING: When you use `pickle` to save/load a BERTopic model,please make sure that the environments in which you saveand load the model are **exactly** the same. The version of BERTopic,its dependencies, and python need to remain the same.\n"
     ]
    },
    {
     "name": "stdout",
     "output_type": "stream",
     "text": [
      "Done | Topics: 7, Outliers: 398 (3.47%) | Time: 3.87s\n",
      "\n",
      "Running: {'embedding_model': 'all-MiniLM-L6-v2', 'metric': 'manhattan', 'min_cluster_size': 50, 'min_samples': 7, 'nr_topics': 15}\n"
     ]
    },
    {
     "name": "stderr",
     "output_type": "stream",
     "text": [
      "2025-04-22 17:32:43,741 - BERTopic - WARNING: When you use `pickle` to save/load a BERTopic model,please make sure that the environments in which you saveand load the model are **exactly** the same. The version of BERTopic,its dependencies, and python need to remain the same.\n"
     ]
    },
    {
     "name": "stdout",
     "output_type": "stream",
     "text": [
      "Done | Topics: 8, Outliers: 334 (2.91%) | Time: 3.92s\n",
      "\n",
      "Running: {'embedding_model': 'all-MiniLM-L6-v2', 'metric': 'manhattan', 'min_cluster_size': 50, 'min_samples': 7, 'nr_topics': 20}\n"
     ]
    },
    {
     "name": "stderr",
     "output_type": "stream",
     "text": [
      "2025-04-22 17:32:49,086 - BERTopic - WARNING: When you use `pickle` to save/load a BERTopic model,please make sure that the environments in which you saveand load the model are **exactly** the same. The version of BERTopic,its dependencies, and python need to remain the same.\n"
     ]
    },
    {
     "name": "stdout",
     "output_type": "stream",
     "text": [
      "Done | Topics: 8, Outliers: 293 (2.56%) | Time: 4.09s\n",
      "\n",
      "Running: {'embedding_model': 'all-MiniLM-L6-v2', 'metric': 'cosine', 'min_cluster_size': 50, 'min_samples': 7, 'nr_topics': 10}\n"
     ]
    },
    {
     "name": "stderr",
     "output_type": "stream",
     "text": [
      "2025-04-22 17:32:53,794 - BERTopic - WARNING: When you use `pickle` to save/load a BERTopic model,please make sure that the environments in which you saveand load the model are **exactly** the same. The version of BERTopic,its dependencies, and python need to remain the same.\n"
     ]
    },
    {
     "name": "stdout",
     "output_type": "stream",
     "text": [
      "Done | Topics: 8, Outliers: 388 (3.38%) | Time: 3.48s\n",
      "\n",
      "Running: {'embedding_model': 'all-MiniLM-L6-v2', 'metric': 'cosine', 'min_cluster_size': 50, 'min_samples': 7, 'nr_topics': 15}\n"
     ]
    },
    {
     "name": "stderr",
     "output_type": "stream",
     "text": [
      "2025-04-22 17:32:58,814 - BERTopic - WARNING: When you use `pickle` to save/load a BERTopic model,please make sure that the environments in which you saveand load the model are **exactly** the same. The version of BERTopic,its dependencies, and python need to remain the same.\n"
     ]
    },
    {
     "name": "stdout",
     "output_type": "stream",
     "text": [
      "Done | Topics: 14, Outliers: 4892 (42.66%) | Time: 3.87s\n",
      "\n",
      "Running: {'embedding_model': 'all-MiniLM-L6-v2', 'metric': 'cosine', 'min_cluster_size': 50, 'min_samples': 7, 'nr_topics': 20}\n"
     ]
    },
    {
     "name": "stderr",
     "output_type": "stream",
     "text": [
      "2025-04-22 17:33:03,653 - BERTopic - WARNING: When you use `pickle` to save/load a BERTopic model,please make sure that the environments in which you saveand load the model are **exactly** the same. The version of BERTopic,its dependencies, and python need to remain the same.\n"
     ]
    },
    {
     "name": "stdout",
     "output_type": "stream",
     "text": [
      "Done | Topics: 7, Outliers: 397 (3.46%) | Time: 3.73s\n",
      "\n",
      "Running: {'embedding_model': 'all-MiniLM-L6-v2', 'metric': 'euclidean', 'min_cluster_size': 50, 'min_samples': 9, 'nr_topics': 10}\n"
     ]
    },
    {
     "name": "stderr",
     "output_type": "stream",
     "text": [
      "2025-04-22 17:33:09,306 - BERTopic - WARNING: When you use `pickle` to save/load a BERTopic model,please make sure that the environments in which you saveand load the model are **exactly** the same. The version of BERTopic,its dependencies, and python need to remain the same.\n"
     ]
    },
    {
     "name": "stdout",
     "output_type": "stream",
     "text": [
      "Done | Topics: 8, Outliers: 429 (3.74%) | Time: 3.77s\n",
      "\n",
      "Running: {'embedding_model': 'all-MiniLM-L6-v2', 'metric': 'euclidean', 'min_cluster_size': 50, 'min_samples': 9, 'nr_topics': 15}\n"
     ]
    },
    {
     "name": "stderr",
     "output_type": "stream",
     "text": [
      "2025-04-22 17:33:14,220 - BERTopic - WARNING: When you use `pickle` to save/load a BERTopic model,please make sure that the environments in which you saveand load the model are **exactly** the same. The version of BERTopic,its dependencies, and python need to remain the same.\n"
     ]
    },
    {
     "name": "stdout",
     "output_type": "stream",
     "text": [
      "Done | Topics: 7, Outliers: 320 (2.79%) | Time: 3.71s\n",
      "\n",
      "Running: {'embedding_model': 'all-MiniLM-L6-v2', 'metric': 'euclidean', 'min_cluster_size': 50, 'min_samples': 9, 'nr_topics': 20}\n"
     ]
    },
    {
     "name": "stderr",
     "output_type": "stream",
     "text": [
      "2025-04-22 17:33:19,219 - BERTopic - WARNING: When you use `pickle` to save/load a BERTopic model,please make sure that the environments in which you saveand load the model are **exactly** the same. The version of BERTopic,its dependencies, and python need to remain the same.\n"
     ]
    },
    {
     "name": "stdout",
     "output_type": "stream",
     "text": [
      "Done | Topics: 6, Outliers: 78 (0.68%) | Time: 3.85s\n",
      "\n",
      "Running: {'embedding_model': 'all-MiniLM-L6-v2', 'metric': 'manhattan', 'min_cluster_size': 50, 'min_samples': 9, 'nr_topics': 10}\n"
     ]
    },
    {
     "name": "stderr",
     "output_type": "stream",
     "text": [
      "2025-04-22 17:33:24,036 - BERTopic - WARNING: When you use `pickle` to save/load a BERTopic model,please make sure that the environments in which you saveand load the model are **exactly** the same. The version of BERTopic,its dependencies, and python need to remain the same.\n"
     ]
    },
    {
     "name": "stdout",
     "output_type": "stream",
     "text": [
      "Done | Topics: 7, Outliers: 251 (2.19%) | Time: 3.66s\n",
      "\n",
      "Running: {'embedding_model': 'all-MiniLM-L6-v2', 'metric': 'manhattan', 'min_cluster_size': 50, 'min_samples': 9, 'nr_topics': 15}\n"
     ]
    },
    {
     "name": "stderr",
     "output_type": "stream",
     "text": [
      "2025-04-22 17:33:29,022 - BERTopic - WARNING: When you use `pickle` to save/load a BERTopic model,please make sure that the environments in which you saveand load the model are **exactly** the same. The version of BERTopic,its dependencies, and python need to remain the same.\n"
     ]
    },
    {
     "name": "stdout",
     "output_type": "stream",
     "text": [
      "Done | Topics: 7, Outliers: 360 (3.14%) | Time: 3.86s\n",
      "\n",
      "Running: {'embedding_model': 'all-MiniLM-L6-v2', 'metric': 'manhattan', 'min_cluster_size': 50, 'min_samples': 9, 'nr_topics': 20}\n"
     ]
    },
    {
     "name": "stderr",
     "output_type": "stream",
     "text": [
      "2025-04-22 17:33:33,855 - BERTopic - WARNING: When you use `pickle` to save/load a BERTopic model,please make sure that the environments in which you saveand load the model are **exactly** the same. The version of BERTopic,its dependencies, and python need to remain the same.\n"
     ]
    },
    {
     "name": "stdout",
     "output_type": "stream",
     "text": [
      "Done | Topics: 5, Outliers: 243 (2.12%) | Time: 3.67s\n",
      "\n",
      "Running: {'embedding_model': 'all-MiniLM-L6-v2', 'metric': 'cosine', 'min_cluster_size': 50, 'min_samples': 9, 'nr_topics': 10}\n"
     ]
    },
    {
     "name": "stderr",
     "output_type": "stream",
     "text": [
      "2025-04-22 17:33:39,465 - BERTopic - WARNING: When you use `pickle` to save/load a BERTopic model,please make sure that the environments in which you saveand load the model are **exactly** the same. The version of BERTopic,its dependencies, and python need to remain the same.\n"
     ]
    },
    {
     "name": "stdout",
     "output_type": "stream",
     "text": [
      "Done | Topics: 8, Outliers: 354 (3.09%) | Time: 3.62s\n",
      "\n",
      "Running: {'embedding_model': 'all-MiniLM-L6-v2', 'metric': 'cosine', 'min_cluster_size': 50, 'min_samples': 9, 'nr_topics': 15}\n"
     ]
    },
    {
     "name": "stderr",
     "output_type": "stream",
     "text": [
      "2025-04-22 17:33:44,459 - BERTopic - WARNING: When you use `pickle` to save/load a BERTopic model,please make sure that the environments in which you saveand load the model are **exactly** the same. The version of BERTopic,its dependencies, and python need to remain the same.\n"
     ]
    },
    {
     "name": "stdout",
     "output_type": "stream",
     "text": [
      "Done | Topics: 8, Outliers: 368 (3.21%) | Time: 3.77s\n",
      "\n",
      "Running: {'embedding_model': 'all-MiniLM-L6-v2', 'metric': 'cosine', 'min_cluster_size': 50, 'min_samples': 9, 'nr_topics': 20}\n"
     ]
    },
    {
     "name": "stderr",
     "output_type": "stream",
     "text": [
      "2025-04-22 17:33:49,434 - BERTopic - WARNING: When you use `pickle` to save/load a BERTopic model,please make sure that the environments in which you saveand load the model are **exactly** the same. The version of BERTopic,its dependencies, and python need to remain the same.\n"
     ]
    },
    {
     "name": "stdout",
     "output_type": "stream",
     "text": [
      "Done | Topics: 8, Outliers: 263 (2.29%) | Time: 3.8s\n",
      "\n",
      "Embedding model: all-mpnet-base-v2\n"
     ]
    },
    {
     "name": "stderr",
     "output_type": "stream",
     "text": [
      "Batches: 100%|██████████| 359/359 [02:08<00:00,  2.79it/s]\n"
     ]
    },
    {
     "name": "stdout",
     "output_type": "stream",
     "text": [
      "\n",
      "Running: {'embedding_model': 'all-mpnet-base-v2', 'metric': 'euclidean', 'min_cluster_size': 10, 'min_samples': 5, 'nr_topics': 10}\n"
     ]
    },
    {
     "name": "stderr",
     "output_type": "stream",
     "text": [
      "2025-04-22 17:36:12,436 - BERTopic - WARNING: When you use `pickle` to save/load a BERTopic model,please make sure that the environments in which you saveand load the model are **exactly** the same. The version of BERTopic,its dependencies, and python need to remain the same.\n"
     ]
    },
    {
     "name": "stdout",
     "output_type": "stream",
     "text": [
      "Done | Topics: 9, Outliers: 4699 (40.98%) | Time: 5.44s\n",
      "\n",
      "Running: {'embedding_model': 'all-mpnet-base-v2', 'metric': 'euclidean', 'min_cluster_size': 10, 'min_samples': 5, 'nr_topics': 15}\n"
     ]
    },
    {
     "name": "stderr",
     "output_type": "stream",
     "text": [
      "2025-04-22 17:36:19,424 - BERTopic - WARNING: When you use `pickle` to save/load a BERTopic model,please make sure that the environments in which you saveand load the model are **exactly** the same. The version of BERTopic,its dependencies, and python need to remain the same.\n"
     ]
    },
    {
     "name": "stdout",
     "output_type": "stream",
     "text": [
      "Done | Topics: 14, Outliers: 4210 (36.71%) | Time: 4.65s\n",
      "\n",
      "Running: {'embedding_model': 'all-mpnet-base-v2', 'metric': 'euclidean', 'min_cluster_size': 10, 'min_samples': 5, 'nr_topics': 20}\n"
     ]
    },
    {
     "name": "stderr",
     "output_type": "stream",
     "text": [
      "2025-04-22 17:36:25,742 - BERTopic - WARNING: When you use `pickle` to save/load a BERTopic model,please make sure that the environments in which you saveand load the model are **exactly** the same. The version of BERTopic,its dependencies, and python need to remain the same.\n"
     ]
    },
    {
     "name": "stdout",
     "output_type": "stream",
     "text": [
      "Done | Topics: 19, Outliers: 4677 (40.79%) | Time: 4.8s\n",
      "\n",
      "Running: {'embedding_model': 'all-mpnet-base-v2', 'metric': 'manhattan', 'min_cluster_size': 10, 'min_samples': 5, 'nr_topics': 10}\n"
     ]
    },
    {
     "name": "stderr",
     "output_type": "stream",
     "text": [
      "2025-04-22 17:36:33,380 - BERTopic - WARNING: When you use `pickle` to save/load a BERTopic model,please make sure that the environments in which you saveand load the model are **exactly** the same. The version of BERTopic,its dependencies, and python need to remain the same.\n"
     ]
    },
    {
     "name": "stdout",
     "output_type": "stream",
     "text": [
      "Done | Topics: 9, Outliers: 4402 (38.39%) | Time: 4.93s\n",
      "\n",
      "Running: {'embedding_model': 'all-mpnet-base-v2', 'metric': 'manhattan', 'min_cluster_size': 10, 'min_samples': 5, 'nr_topics': 15}\n"
     ]
    },
    {
     "name": "stderr",
     "output_type": "stream",
     "text": [
      "2025-04-22 17:36:39,432 - BERTopic - WARNING: When you use `pickle` to save/load a BERTopic model,please make sure that the environments in which you saveand load the model are **exactly** the same. The version of BERTopic,its dependencies, and python need to remain the same.\n"
     ]
    },
    {
     "name": "stdout",
     "output_type": "stream",
     "text": [
      "Done | Topics: 14, Outliers: 4745 (41.38%) | Time: 4.41s\n",
      "\n",
      "Running: {'embedding_model': 'all-mpnet-base-v2', 'metric': 'manhattan', 'min_cluster_size': 10, 'min_samples': 5, 'nr_topics': 20}\n"
     ]
    },
    {
     "name": "stderr",
     "output_type": "stream",
     "text": [
      "2025-04-22 17:36:45,793 - BERTopic - WARNING: When you use `pickle` to save/load a BERTopic model,please make sure that the environments in which you saveand load the model are **exactly** the same. The version of BERTopic,its dependencies, and python need to remain the same.\n"
     ]
    },
    {
     "name": "stdout",
     "output_type": "stream",
     "text": [
      "Done | Topics: 19, Outliers: 4740 (41.34%) | Time: 4.63s\n",
      "\n",
      "Running: {'embedding_model': 'all-mpnet-base-v2', 'metric': 'cosine', 'min_cluster_size': 10, 'min_samples': 5, 'nr_topics': 10}\n"
     ]
    },
    {
     "name": "stderr",
     "output_type": "stream",
     "text": [
      "2025-04-22 17:36:53,626 - BERTopic - WARNING: When you use `pickle` to save/load a BERTopic model,please make sure that the environments in which you saveand load the model are **exactly** the same. The version of BERTopic,its dependencies, and python need to remain the same.\n"
     ]
    },
    {
     "name": "stdout",
     "output_type": "stream",
     "text": [
      "Done | Topics: 9, Outliers: 4489 (39.15%) | Time: 5.98s\n",
      "\n",
      "Running: {'embedding_model': 'all-mpnet-base-v2', 'metric': 'cosine', 'min_cluster_size': 10, 'min_samples': 5, 'nr_topics': 15}\n"
     ]
    },
    {
     "name": "stderr",
     "output_type": "stream",
     "text": [
      "2025-04-22 17:37:00,082 - BERTopic - WARNING: When you use `pickle` to save/load a BERTopic model,please make sure that the environments in which you saveand load the model are **exactly** the same. The version of BERTopic,its dependencies, and python need to remain the same.\n"
     ]
    },
    {
     "name": "stdout",
     "output_type": "stream",
     "text": [
      "Done | Topics: 14, Outliers: 4571 (39.86%) | Time: 4.76s\n",
      "\n",
      "Running: {'embedding_model': 'all-mpnet-base-v2', 'metric': 'cosine', 'min_cluster_size': 10, 'min_samples': 5, 'nr_topics': 20}\n"
     ]
    },
    {
     "name": "stderr",
     "output_type": "stream",
     "text": [
      "2025-04-22 17:37:06,015 - BERTopic - WARNING: When you use `pickle` to save/load a BERTopic model,please make sure that the environments in which you saveand load the model are **exactly** the same. The version of BERTopic,its dependencies, and python need to remain the same.\n"
     ]
    },
    {
     "name": "stdout",
     "output_type": "stream",
     "text": [
      "Done | Topics: 19, Outliers: 4454 (38.84%) | Time: 4.35s\n",
      "\n",
      "Running: {'embedding_model': 'all-mpnet-base-v2', 'metric': 'euclidean', 'min_cluster_size': 10, 'min_samples': 7, 'nr_topics': 10}\n"
     ]
    },
    {
     "name": "stderr",
     "output_type": "stream",
     "text": [
      "2025-04-22 17:37:13,267 - BERTopic - WARNING: When you use `pickle` to save/load a BERTopic model,please make sure that the environments in which you saveand load the model are **exactly** the same. The version of BERTopic,its dependencies, and python need to remain the same.\n"
     ]
    },
    {
     "name": "stdout",
     "output_type": "stream",
     "text": [
      "Done | Topics: 9, Outliers: 4743 (41.36%) | Time: 4.5s\n",
      "\n",
      "Running: {'embedding_model': 'all-mpnet-base-v2', 'metric': 'euclidean', 'min_cluster_size': 10, 'min_samples': 7, 'nr_topics': 15}\n"
     ]
    },
    {
     "name": "stderr",
     "output_type": "stream",
     "text": [
      "2025-04-22 17:37:19,391 - BERTopic - WARNING: When you use `pickle` to save/load a BERTopic model,please make sure that the environments in which you saveand load the model are **exactly** the same. The version of BERTopic,its dependencies, and python need to remain the same.\n"
     ]
    },
    {
     "name": "stdout",
     "output_type": "stream",
     "text": [
      "Done | Topics: 14, Outliers: 4795 (41.82%) | Time: 4.68s\n",
      "\n",
      "Running: {'embedding_model': 'all-mpnet-base-v2', 'metric': 'euclidean', 'min_cluster_size': 10, 'min_samples': 7, 'nr_topics': 20}\n"
     ]
    },
    {
     "name": "stderr",
     "output_type": "stream",
     "text": [
      "2025-04-22 17:37:25,235 - BERTopic - WARNING: When you use `pickle` to save/load a BERTopic model,please make sure that the environments in which you saveand load the model are **exactly** the same. The version of BERTopic,its dependencies, and python need to remain the same.\n"
     ]
    },
    {
     "name": "stdout",
     "output_type": "stream",
     "text": [
      "Done | Topics: 19, Outliers: 4780 (41.68%) | Time: 4.42s\n",
      "\n",
      "Running: {'embedding_model': 'all-mpnet-base-v2', 'metric': 'manhattan', 'min_cluster_size': 10, 'min_samples': 7, 'nr_topics': 10}\n"
     ]
    },
    {
     "name": "stderr",
     "output_type": "stream",
     "text": [
      "2025-04-22 17:37:31,295 - BERTopic - WARNING: When you use `pickle` to save/load a BERTopic model,please make sure that the environments in which you saveand load the model are **exactly** the same. The version of BERTopic,its dependencies, and python need to remain the same.\n"
     ]
    },
    {
     "name": "stdout",
     "output_type": "stream",
     "text": [
      "Done | Topics: 9, Outliers: 4722 (41.18%) | Time: 4.57s\n",
      "\n",
      "Running: {'embedding_model': 'all-mpnet-base-v2', 'metric': 'manhattan', 'min_cluster_size': 10, 'min_samples': 7, 'nr_topics': 15}\n"
     ]
    },
    {
     "name": "stderr",
     "output_type": "stream",
     "text": [
      "2025-04-22 17:37:36,930 - BERTopic - WARNING: When you use `pickle` to save/load a BERTopic model,please make sure that the environments in which you saveand load the model are **exactly** the same. The version of BERTopic,its dependencies, and python need to remain the same.\n"
     ]
    },
    {
     "name": "stdout",
     "output_type": "stream",
     "text": [
      "Done | Topics: 14, Outliers: 4647 (40.52%) | Time: 4.15s\n",
      "\n",
      "Running: {'embedding_model': 'all-mpnet-base-v2', 'metric': 'manhattan', 'min_cluster_size': 10, 'min_samples': 7, 'nr_topics': 20}\n"
     ]
    },
    {
     "name": "stderr",
     "output_type": "stream",
     "text": [
      "2025-04-22 17:37:42,915 - BERTopic - WARNING: When you use `pickle` to save/load a BERTopic model,please make sure that the environments in which you saveand load the model are **exactly** the same. The version of BERTopic,its dependencies, and python need to remain the same.\n"
     ]
    },
    {
     "name": "stdout",
     "output_type": "stream",
     "text": [
      "Done | Topics: 19, Outliers: 4949 (43.16%) | Time: 4.42s\n",
      "\n",
      "Running: {'embedding_model': 'all-mpnet-base-v2', 'metric': 'cosine', 'min_cluster_size': 10, 'min_samples': 7, 'nr_topics': 10}\n"
     ]
    },
    {
     "name": "stderr",
     "output_type": "stream",
     "text": [
      "2025-04-22 17:37:49,781 - BERTopic - WARNING: When you use `pickle` to save/load a BERTopic model,please make sure that the environments in which you saveand load the model are **exactly** the same. The version of BERTopic,its dependencies, and python need to remain the same.\n"
     ]
    },
    {
     "name": "stdout",
     "output_type": "stream",
     "text": [
      "Done | Topics: 9, Outliers: 4818 (42.02%) | Time: 4.51s\n",
      "\n",
      "Running: {'embedding_model': 'all-mpnet-base-v2', 'metric': 'cosine', 'min_cluster_size': 10, 'min_samples': 7, 'nr_topics': 15}\n"
     ]
    },
    {
     "name": "stderr",
     "output_type": "stream",
     "text": [
      "2025-04-22 17:37:55,471 - BERTopic - WARNING: When you use `pickle` to save/load a BERTopic model,please make sure that the environments in which you saveand load the model are **exactly** the same. The version of BERTopic,its dependencies, and python need to remain the same.\n"
     ]
    },
    {
     "name": "stdout",
     "output_type": "stream",
     "text": [
      "Done | Topics: 14, Outliers: 4847 (42.27%) | Time: 4.13s\n",
      "\n",
      "Running: {'embedding_model': 'all-mpnet-base-v2', 'metric': 'cosine', 'min_cluster_size': 10, 'min_samples': 7, 'nr_topics': 20}\n"
     ]
    },
    {
     "name": "stderr",
     "output_type": "stream",
     "text": [
      "2025-04-22 17:38:01,474 - BERTopic - WARNING: When you use `pickle` to save/load a BERTopic model,please make sure that the environments in which you saveand load the model are **exactly** the same. The version of BERTopic,its dependencies, and python need to remain the same.\n"
     ]
    },
    {
     "name": "stdout",
     "output_type": "stream",
     "text": [
      "Done | Topics: 19, Outliers: 4442 (38.74%) | Time: 4.24s\n",
      "\n",
      "Running: {'embedding_model': 'all-mpnet-base-v2', 'metric': 'euclidean', 'min_cluster_size': 10, 'min_samples': 9, 'nr_topics': 10}\n"
     ]
    },
    {
     "name": "stderr",
     "output_type": "stream",
     "text": [
      "2025-04-22 17:38:07,126 - BERTopic - WARNING: When you use `pickle` to save/load a BERTopic model,please make sure that the environments in which you saveand load the model are **exactly** the same. The version of BERTopic,its dependencies, and python need to remain the same.\n"
     ]
    },
    {
     "name": "stdout",
     "output_type": "stream",
     "text": [
      "Done | Topics: 9, Outliers: 4874 (42.5%) | Time: 4.07s\n",
      "\n",
      "Running: {'embedding_model': 'all-mpnet-base-v2', 'metric': 'euclidean', 'min_cluster_size': 10, 'min_samples': 9, 'nr_topics': 15}\n"
     ]
    },
    {
     "name": "stderr",
     "output_type": "stream",
     "text": [
      "2025-04-22 17:38:12,774 - BERTopic - WARNING: When you use `pickle` to save/load a BERTopic model,please make sure that the environments in which you saveand load the model are **exactly** the same. The version of BERTopic,its dependencies, and python need to remain the same.\n"
     ]
    },
    {
     "name": "stdout",
     "output_type": "stream",
     "text": [
      "Done | Topics: 14, Outliers: 4839 (42.2%) | Time: 4.02s\n",
      "\n",
      "Running: {'embedding_model': 'all-mpnet-base-v2', 'metric': 'euclidean', 'min_cluster_size': 10, 'min_samples': 9, 'nr_topics': 20}\n"
     ]
    },
    {
     "name": "stderr",
     "output_type": "stream",
     "text": [
      "2025-04-22 17:38:18,684 - BERTopic - WARNING: When you use `pickle` to save/load a BERTopic model,please make sure that the environments in which you saveand load the model are **exactly** the same. The version of BERTopic,its dependencies, and python need to remain the same.\n"
     ]
    },
    {
     "name": "stdout",
     "output_type": "stream",
     "text": [
      "Done | Topics: 19, Outliers: 4989 (43.51%) | Time: 4.25s\n",
      "\n",
      "Running: {'embedding_model': 'all-mpnet-base-v2', 'metric': 'manhattan', 'min_cluster_size': 10, 'min_samples': 9, 'nr_topics': 10}\n"
     ]
    },
    {
     "name": "stderr",
     "output_type": "stream",
     "text": [
      "2025-04-22 17:38:24,917 - BERTopic - WARNING: When you use `pickle` to save/load a BERTopic model,please make sure that the environments in which you saveand load the model are **exactly** the same. The version of BERTopic,its dependencies, and python need to remain the same.\n"
     ]
    },
    {
     "name": "stdout",
     "output_type": "stream",
     "text": [
      "Done | Topics: 9, Outliers: 4744 (41.37%) | Time: 4.56s\n",
      "\n",
      "Running: {'embedding_model': 'all-mpnet-base-v2', 'metric': 'manhattan', 'min_cluster_size': 10, 'min_samples': 9, 'nr_topics': 15}\n"
     ]
    },
    {
     "name": "stderr",
     "output_type": "stream",
     "text": [
      "2025-04-22 17:38:32,347 - BERTopic - WARNING: When you use `pickle` to save/load a BERTopic model,please make sure that the environments in which you saveand load the model are **exactly** the same. The version of BERTopic,its dependencies, and python need to remain the same.\n"
     ]
    },
    {
     "name": "stdout",
     "output_type": "stream",
     "text": [
      "Done | Topics: 14, Outliers: 5012 (43.71%) | Time: 4.65s\n",
      "\n",
      "Running: {'embedding_model': 'all-mpnet-base-v2', 'metric': 'manhattan', 'min_cluster_size': 10, 'min_samples': 9, 'nr_topics': 20}\n"
     ]
    },
    {
     "name": "stderr",
     "output_type": "stream",
     "text": [
      "2025-04-22 17:38:39,267 - BERTopic - WARNING: When you use `pickle` to save/load a BERTopic model,please make sure that the environments in which you saveand load the model are **exactly** the same. The version of BERTopic,its dependencies, and python need to remain the same.\n"
     ]
    },
    {
     "name": "stdout",
     "output_type": "stream",
     "text": [
      "Done | Topics: 19, Outliers: 5242 (45.71%) | Time: 4.86s\n",
      "\n",
      "Running: {'embedding_model': 'all-mpnet-base-v2', 'metric': 'cosine', 'min_cluster_size': 10, 'min_samples': 9, 'nr_topics': 10}\n"
     ]
    },
    {
     "name": "stderr",
     "output_type": "stream",
     "text": [
      "2025-04-22 17:38:45,371 - BERTopic - WARNING: When you use `pickle` to save/load a BERTopic model,please make sure that the environments in which you saveand load the model are **exactly** the same. The version of BERTopic,its dependencies, and python need to remain the same.\n"
     ]
    },
    {
     "name": "stdout",
     "output_type": "stream",
     "text": [
      "Done | Topics: 9, Outliers: 4822 (42.05%) | Time: 4.02s\n",
      "\n",
      "Running: {'embedding_model': 'all-mpnet-base-v2', 'metric': 'cosine', 'min_cluster_size': 10, 'min_samples': 9, 'nr_topics': 15}\n"
     ]
    },
    {
     "name": "stderr",
     "output_type": "stream",
     "text": [
      "2025-04-22 17:38:52,127 - BERTopic - WARNING: When you use `pickle` to save/load a BERTopic model,please make sure that the environments in which you saveand load the model are **exactly** the same. The version of BERTopic,its dependencies, and python need to remain the same.\n"
     ]
    },
    {
     "name": "stdout",
     "output_type": "stream",
     "text": [
      "Failed for config: {'embedding_model': 'all-mpnet-base-v2', 'metric': 'cosine', 'min_cluster_size': 10, 'min_samples': 9, 'nr_topics': 15} — [Errno 28] No space left on device\n",
      "\n",
      "Running: {'embedding_model': 'all-mpnet-base-v2', 'metric': 'cosine', 'min_cluster_size': 10, 'min_samples': 9, 'nr_topics': 20}\n"
     ]
    },
    {
     "name": "stderr",
     "output_type": "stream",
     "text": [
      "2025-04-22 17:38:58,482 - BERTopic - WARNING: When you use `pickle` to save/load a BERTopic model,please make sure that the environments in which you saveand load the model are **exactly** the same. The version of BERTopic,its dependencies, and python need to remain the same.\n"
     ]
    },
    {
     "name": "stdout",
     "output_type": "stream",
     "text": [
      "Failed for config: {'embedding_model': 'all-mpnet-base-v2', 'metric': 'cosine', 'min_cluster_size': 10, 'min_samples': 9, 'nr_topics': 20} — [Errno 28] No space left on device\n",
      "\n",
      "Running: {'embedding_model': 'all-mpnet-base-v2', 'metric': 'euclidean', 'min_cluster_size': 15, 'min_samples': 5, 'nr_topics': 10}\n"
     ]
    },
    {
     "name": "stderr",
     "output_type": "stream",
     "text": [
      "2025-04-22 17:39:04,122 - BERTopic - WARNING: When you use `pickle` to save/load a BERTopic model,please make sure that the environments in which you saveand load the model are **exactly** the same. The version of BERTopic,its dependencies, and python need to remain the same.\n"
     ]
    },
    {
     "name": "stdout",
     "output_type": "stream",
     "text": [
      "Failed for config: {'embedding_model': 'all-mpnet-base-v2', 'metric': 'euclidean', 'min_cluster_size': 15, 'min_samples': 5, 'nr_topics': 10} — [Errno 28] No space left on device\n",
      "\n",
      "Running: {'embedding_model': 'all-mpnet-base-v2', 'metric': 'euclidean', 'min_cluster_size': 15, 'min_samples': 5, 'nr_topics': 15}\n"
     ]
    },
    {
     "name": "stderr",
     "output_type": "stream",
     "text": [
      "2025-04-22 17:39:08,359 - BERTopic - WARNING: When you use `pickle` to save/load a BERTopic model,please make sure that the environments in which you saveand load the model are **exactly** the same. The version of BERTopic,its dependencies, and python need to remain the same.\n"
     ]
    },
    {
     "name": "stdout",
     "output_type": "stream",
     "text": [
      "Failed for config: {'embedding_model': 'all-mpnet-base-v2', 'metric': 'euclidean', 'min_cluster_size': 15, 'min_samples': 5, 'nr_topics': 15} — [Errno 28] No space left on device\n",
      "\n",
      "Running: {'embedding_model': 'all-mpnet-base-v2', 'metric': 'euclidean', 'min_cluster_size': 15, 'min_samples': 5, 'nr_topics': 20}\n"
     ]
    },
    {
     "name": "stderr",
     "output_type": "stream",
     "text": [
      "2025-04-22 17:39:12,464 - BERTopic - WARNING: When you use `pickle` to save/load a BERTopic model,please make sure that the environments in which you saveand load the model are **exactly** the same. The version of BERTopic,its dependencies, and python need to remain the same.\n"
     ]
    },
    {
     "name": "stdout",
     "output_type": "stream",
     "text": [
      "Failed for config: {'embedding_model': 'all-mpnet-base-v2', 'metric': 'euclidean', 'min_cluster_size': 15, 'min_samples': 5, 'nr_topics': 20} — [Errno 28] No space left on device\n",
      "\n",
      "Running: {'embedding_model': 'all-mpnet-base-v2', 'metric': 'manhattan', 'min_cluster_size': 15, 'min_samples': 5, 'nr_topics': 10}\n"
     ]
    },
    {
     "name": "stderr",
     "output_type": "stream",
     "text": [
      "2025-04-22 17:39:16,910 - BERTopic - WARNING: When you use `pickle` to save/load a BERTopic model,please make sure that the environments in which you saveand load the model are **exactly** the same. The version of BERTopic,its dependencies, and python need to remain the same.\n"
     ]
    },
    {
     "name": "stdout",
     "output_type": "stream",
     "text": [
      "Failed for config: {'embedding_model': 'all-mpnet-base-v2', 'metric': 'manhattan', 'min_cluster_size': 15, 'min_samples': 5, 'nr_topics': 10} — [Errno 28] No space left on device\n",
      "\n",
      "Running: {'embedding_model': 'all-mpnet-base-v2', 'metric': 'manhattan', 'min_cluster_size': 15, 'min_samples': 5, 'nr_topics': 15}\n"
     ]
    },
    {
     "name": "stderr",
     "output_type": "stream",
     "text": [
      "2025-04-22 17:39:21,106 - BERTopic - WARNING: When you use `pickle` to save/load a BERTopic model,please make sure that the environments in which you saveand load the model are **exactly** the same. The version of BERTopic,its dependencies, and python need to remain the same.\n"
     ]
    },
    {
     "name": "stdout",
     "output_type": "stream",
     "text": [
      "Failed for config: {'embedding_model': 'all-mpnet-base-v2', 'metric': 'manhattan', 'min_cluster_size': 15, 'min_samples': 5, 'nr_topics': 15} — [Errno 28] No space left on device\n",
      "\n",
      "Running: {'embedding_model': 'all-mpnet-base-v2', 'metric': 'manhattan', 'min_cluster_size': 15, 'min_samples': 5, 'nr_topics': 20}\n"
     ]
    },
    {
     "name": "stderr",
     "output_type": "stream",
     "text": [
      "2025-04-22 17:39:25,410 - BERTopic - WARNING: When you use `pickle` to save/load a BERTopic model,please make sure that the environments in which you saveand load the model are **exactly** the same. The version of BERTopic,its dependencies, and python need to remain the same.\n"
     ]
    },
    {
     "name": "stdout",
     "output_type": "stream",
     "text": [
      "Failed for config: {'embedding_model': 'all-mpnet-base-v2', 'metric': 'manhattan', 'min_cluster_size': 15, 'min_samples': 5, 'nr_topics': 20} — [Errno 28] No space left on device\n",
      "\n",
      "Running: {'embedding_model': 'all-mpnet-base-v2', 'metric': 'cosine', 'min_cluster_size': 15, 'min_samples': 5, 'nr_topics': 10}\n"
     ]
    },
    {
     "name": "stderr",
     "output_type": "stream",
     "text": [
      "2025-04-22 17:39:29,607 - BERTopic - WARNING: When you use `pickle` to save/load a BERTopic model,please make sure that the environments in which you saveand load the model are **exactly** the same. The version of BERTopic,its dependencies, and python need to remain the same.\n"
     ]
    },
    {
     "name": "stdout",
     "output_type": "stream",
     "text": [
      "Failed for config: {'embedding_model': 'all-mpnet-base-v2', 'metric': 'cosine', 'min_cluster_size': 15, 'min_samples': 5, 'nr_topics': 10} — [Errno 28] No space left on device\n",
      "\n",
      "Running: {'embedding_model': 'all-mpnet-base-v2', 'metric': 'cosine', 'min_cluster_size': 15, 'min_samples': 5, 'nr_topics': 15}\n"
     ]
    },
    {
     "name": "stderr",
     "output_type": "stream",
     "text": [
      "2025-04-22 17:39:34,019 - BERTopic - WARNING: When you use `pickle` to save/load a BERTopic model,please make sure that the environments in which you saveand load the model are **exactly** the same. The version of BERTopic,its dependencies, and python need to remain the same.\n"
     ]
    },
    {
     "name": "stdout",
     "output_type": "stream",
     "text": [
      "Failed for config: {'embedding_model': 'all-mpnet-base-v2', 'metric': 'cosine', 'min_cluster_size': 15, 'min_samples': 5, 'nr_topics': 15} — [Errno 28] No space left on device\n",
      "\n",
      "Running: {'embedding_model': 'all-mpnet-base-v2', 'metric': 'cosine', 'min_cluster_size': 15, 'min_samples': 5, 'nr_topics': 20}\n"
     ]
    },
    {
     "name": "stderr",
     "output_type": "stream",
     "text": [
      "2025-04-22 17:39:38,452 - BERTopic - WARNING: When you use `pickle` to save/load a BERTopic model,please make sure that the environments in which you saveand load the model are **exactly** the same. The version of BERTopic,its dependencies, and python need to remain the same.\n"
     ]
    },
    {
     "name": "stdout",
     "output_type": "stream",
     "text": [
      "Failed for config: {'embedding_model': 'all-mpnet-base-v2', 'metric': 'cosine', 'min_cluster_size': 15, 'min_samples': 5, 'nr_topics': 20} — [Errno 28] No space left on device\n",
      "\n",
      "Running: {'embedding_model': 'all-mpnet-base-v2', 'metric': 'euclidean', 'min_cluster_size': 15, 'min_samples': 7, 'nr_topics': 10}\n"
     ]
    },
    {
     "name": "stderr",
     "output_type": "stream",
     "text": [
      "2025-04-22 17:39:43,567 - BERTopic - WARNING: When you use `pickle` to save/load a BERTopic model,please make sure that the environments in which you saveand load the model are **exactly** the same. The version of BERTopic,its dependencies, and python need to remain the same.\n"
     ]
    },
    {
     "name": "stdout",
     "output_type": "stream",
     "text": [
      "Failed for config: {'embedding_model': 'all-mpnet-base-v2', 'metric': 'euclidean', 'min_cluster_size': 15, 'min_samples': 7, 'nr_topics': 10} — [Errno 28] No space left on device\n",
      "\n",
      "Running: {'embedding_model': 'all-mpnet-base-v2', 'metric': 'euclidean', 'min_cluster_size': 15, 'min_samples': 7, 'nr_topics': 15}\n"
     ]
    },
    {
     "name": "stderr",
     "output_type": "stream",
     "text": [
      "2025-04-22 17:39:48,145 - BERTopic - WARNING: When you use `pickle` to save/load a BERTopic model,please make sure that the environments in which you saveand load the model are **exactly** the same. The version of BERTopic,its dependencies, and python need to remain the same.\n"
     ]
    },
    {
     "name": "stdout",
     "output_type": "stream",
     "text": [
      "Failed for config: {'embedding_model': 'all-mpnet-base-v2', 'metric': 'euclidean', 'min_cluster_size': 15, 'min_samples': 7, 'nr_topics': 15} — [Errno 28] No space left on device\n",
      "\n",
      "Running: {'embedding_model': 'all-mpnet-base-v2', 'metric': 'euclidean', 'min_cluster_size': 15, 'min_samples': 7, 'nr_topics': 20}\n"
     ]
    },
    {
     "name": "stderr",
     "output_type": "stream",
     "text": [
      "2025-04-22 17:39:52,538 - BERTopic - WARNING: When you use `pickle` to save/load a BERTopic model,please make sure that the environments in which you saveand load the model are **exactly** the same. The version of BERTopic,its dependencies, and python need to remain the same.\n"
     ]
    },
    {
     "name": "stdout",
     "output_type": "stream",
     "text": [
      "Failed for config: {'embedding_model': 'all-mpnet-base-v2', 'metric': 'euclidean', 'min_cluster_size': 15, 'min_samples': 7, 'nr_topics': 20} — [Errno 28] No space left on device\n",
      "\n",
      "Running: {'embedding_model': 'all-mpnet-base-v2', 'metric': 'manhattan', 'min_cluster_size': 15, 'min_samples': 7, 'nr_topics': 10}\n"
     ]
    },
    {
     "name": "stderr",
     "output_type": "stream",
     "text": [
      "2025-04-22 17:39:56,873 - BERTopic - WARNING: When you use `pickle` to save/load a BERTopic model,please make sure that the environments in which you saveand load the model are **exactly** the same. The version of BERTopic,its dependencies, and python need to remain the same.\n"
     ]
    },
    {
     "name": "stdout",
     "output_type": "stream",
     "text": [
      "Failed for config: {'embedding_model': 'all-mpnet-base-v2', 'metric': 'manhattan', 'min_cluster_size': 15, 'min_samples': 7, 'nr_topics': 10} — [Errno 28] No space left on device\n",
      "\n",
      "Running: {'embedding_model': 'all-mpnet-base-v2', 'metric': 'manhattan', 'min_cluster_size': 15, 'min_samples': 7, 'nr_topics': 15}\n"
     ]
    },
    {
     "name": "stderr",
     "output_type": "stream",
     "text": [
      "2025-04-22 17:40:01,334 - BERTopic - WARNING: When you use `pickle` to save/load a BERTopic model,please make sure that the environments in which you saveand load the model are **exactly** the same. The version of BERTopic,its dependencies, and python need to remain the same.\n"
     ]
    },
    {
     "name": "stdout",
     "output_type": "stream",
     "text": [
      "Failed for config: {'embedding_model': 'all-mpnet-base-v2', 'metric': 'manhattan', 'min_cluster_size': 15, 'min_samples': 7, 'nr_topics': 15} — [Errno 28] No space left on device\n",
      "\n",
      "Running: {'embedding_model': 'all-mpnet-base-v2', 'metric': 'manhattan', 'min_cluster_size': 15, 'min_samples': 7, 'nr_topics': 20}\n"
     ]
    },
    {
     "name": "stderr",
     "output_type": "stream",
     "text": [
      "2025-04-22 17:40:06,194 - BERTopic - WARNING: When you use `pickle` to save/load a BERTopic model,please make sure that the environments in which you saveand load the model are **exactly** the same. The version of BERTopic,its dependencies, and python need to remain the same.\n"
     ]
    },
    {
     "name": "stdout",
     "output_type": "stream",
     "text": [
      "Failed for config: {'embedding_model': 'all-mpnet-base-v2', 'metric': 'manhattan', 'min_cluster_size': 15, 'min_samples': 7, 'nr_topics': 20} — [Errno 28] No space left on device\n",
      "\n",
      "Running: {'embedding_model': 'all-mpnet-base-v2', 'metric': 'cosine', 'min_cluster_size': 15, 'min_samples': 7, 'nr_topics': 10}\n"
     ]
    },
    {
     "name": "stderr",
     "output_type": "stream",
     "text": [
      "2025-04-22 17:40:10,763 - BERTopic - WARNING: When you use `pickle` to save/load a BERTopic model,please make sure that the environments in which you saveand load the model are **exactly** the same. The version of BERTopic,its dependencies, and python need to remain the same.\n"
     ]
    },
    {
     "name": "stdout",
     "output_type": "stream",
     "text": [
      "Failed for config: {'embedding_model': 'all-mpnet-base-v2', 'metric': 'cosine', 'min_cluster_size': 15, 'min_samples': 7, 'nr_topics': 10} — [Errno 28] No space left on device\n",
      "\n",
      "Running: {'embedding_model': 'all-mpnet-base-v2', 'metric': 'cosine', 'min_cluster_size': 15, 'min_samples': 7, 'nr_topics': 15}\n",
      "Failed for config: {'embedding_model': 'all-mpnet-base-v2', 'metric': 'cosine', 'min_cluster_size': 15, 'min_samples': 7, 'nr_topics': 15} — [Errno 28] No space left on device: '../../data/BERTopic_Hyperparameters/bertopic_grid_log.csv'\n",
      "\n",
      "Running: {'embedding_model': 'all-mpnet-base-v2', 'metric': 'cosine', 'min_cluster_size': 15, 'min_samples': 7, 'nr_topics': 20}\n"
     ]
    },
    {
     "name": "stderr",
     "output_type": "stream",
     "text": [
      "2025-04-22 17:40:19,620 - BERTopic - WARNING: When you use `pickle` to save/load a BERTopic model,please make sure that the environments in which you saveand load the model are **exactly** the same. The version of BERTopic,its dependencies, and python need to remain the same.\n"
     ]
    },
    {
     "name": "stdout",
     "output_type": "stream",
     "text": [
      "Failed for config: {'embedding_model': 'all-mpnet-base-v2', 'metric': 'cosine', 'min_cluster_size': 15, 'min_samples': 7, 'nr_topics': 20} — [Errno 28] No space left on device\n",
      "\n",
      "Running: {'embedding_model': 'all-mpnet-base-v2', 'metric': 'euclidean', 'min_cluster_size': 15, 'min_samples': 9, 'nr_topics': 10}\n",
      "Failed for config: {'embedding_model': 'all-mpnet-base-v2', 'metric': 'euclidean', 'min_cluster_size': 15, 'min_samples': 9, 'nr_topics': 10} — [Errno 28] No space left on device: '../../data/BERTopic_Hyperparameters/bertopic_grid_log.csv'\n",
      "\n",
      "Running: {'embedding_model': 'all-mpnet-base-v2', 'metric': 'euclidean', 'min_cluster_size': 15, 'min_samples': 9, 'nr_topics': 15}\n",
      "Failed for config: {'embedding_model': 'all-mpnet-base-v2', 'metric': 'euclidean', 'min_cluster_size': 15, 'min_samples': 9, 'nr_topics': 15} — [Errno 28] No space left on device: '../../data/BERTopic_Hyperparameters/bertopic_grid_log.csv'\n",
      "\n",
      "Running: {'embedding_model': 'all-mpnet-base-v2', 'metric': 'euclidean', 'min_cluster_size': 15, 'min_samples': 9, 'nr_topics': 20}\n",
      "Failed for config: {'embedding_model': 'all-mpnet-base-v2', 'metric': 'euclidean', 'min_cluster_size': 15, 'min_samples': 9, 'nr_topics': 20} — [Errno 28] No space left on device: '../../data/BERTopic_Hyperparameters/bertopic_grid_log.csv'\n",
      "\n",
      "Running: {'embedding_model': 'all-mpnet-base-v2', 'metric': 'manhattan', 'min_cluster_size': 15, 'min_samples': 9, 'nr_topics': 10}\n",
      "Failed for config: {'embedding_model': 'all-mpnet-base-v2', 'metric': 'manhattan', 'min_cluster_size': 15, 'min_samples': 9, 'nr_topics': 10} — [Errno 28] No space left on device: '../../data/BERTopic_Hyperparameters/bertopic_grid_log.csv'\n",
      "\n",
      "Running: {'embedding_model': 'all-mpnet-base-v2', 'metric': 'manhattan', 'min_cluster_size': 15, 'min_samples': 9, 'nr_topics': 15}\n",
      "Failed for config: {'embedding_model': 'all-mpnet-base-v2', 'metric': 'manhattan', 'min_cluster_size': 15, 'min_samples': 9, 'nr_topics': 15} — [Errno 28] No space left on device: '../../data/BERTopic_Hyperparameters/bertopic_grid_log.csv'\n",
      "\n",
      "Running: {'embedding_model': 'all-mpnet-base-v2', 'metric': 'manhattan', 'min_cluster_size': 15, 'min_samples': 9, 'nr_topics': 20}\n",
      "Failed for config: {'embedding_model': 'all-mpnet-base-v2', 'metric': 'manhattan', 'min_cluster_size': 15, 'min_samples': 9, 'nr_topics': 20} — [Errno 28] No space left on device: '../../data/BERTopic_Hyperparameters/bertopic_grid_log.csv'\n",
      "\n",
      "Running: {'embedding_model': 'all-mpnet-base-v2', 'metric': 'cosine', 'min_cluster_size': 15, 'min_samples': 9, 'nr_topics': 10}\n",
      "Failed for config: {'embedding_model': 'all-mpnet-base-v2', 'metric': 'cosine', 'min_cluster_size': 15, 'min_samples': 9, 'nr_topics': 10} — [Errno 28] No space left on device: '../../data/BERTopic_Hyperparameters/bertopic_grid_log.csv'\n",
      "\n",
      "Running: {'embedding_model': 'all-mpnet-base-v2', 'metric': 'cosine', 'min_cluster_size': 15, 'min_samples': 9, 'nr_topics': 15}\n",
      "Failed for config: {'embedding_model': 'all-mpnet-base-v2', 'metric': 'cosine', 'min_cluster_size': 15, 'min_samples': 9, 'nr_topics': 15} — [Errno 28] No space left on device: '../../data/BERTopic_Hyperparameters/bertopic_grid_log.csv'\n",
      "\n",
      "Running: {'embedding_model': 'all-mpnet-base-v2', 'metric': 'cosine', 'min_cluster_size': 15, 'min_samples': 9, 'nr_topics': 20}\n",
      "Failed for config: {'embedding_model': 'all-mpnet-base-v2', 'metric': 'cosine', 'min_cluster_size': 15, 'min_samples': 9, 'nr_topics': 20} — [Errno 28] No space left on device: '../../data/BERTopic_Hyperparameters/bertopic_grid_log.csv'\n",
      "\n",
      "Running: {'embedding_model': 'all-mpnet-base-v2', 'metric': 'euclidean', 'min_cluster_size': 20, 'min_samples': 5, 'nr_topics': 10}\n",
      "Failed for config: {'embedding_model': 'all-mpnet-base-v2', 'metric': 'euclidean', 'min_cluster_size': 20, 'min_samples': 5, 'nr_topics': 10} — [Errno 28] No space left on device: '../../data/BERTopic_Hyperparameters/bertopic_grid_log.csv'\n",
      "\n",
      "Running: {'embedding_model': 'all-mpnet-base-v2', 'metric': 'euclidean', 'min_cluster_size': 20, 'min_samples': 5, 'nr_topics': 15}\n",
      "Failed for config: {'embedding_model': 'all-mpnet-base-v2', 'metric': 'euclidean', 'min_cluster_size': 20, 'min_samples': 5, 'nr_topics': 15} — [Errno 28] No space left on device: '../../data/BERTopic_Hyperparameters/bertopic_grid_log.csv'\n",
      "\n",
      "Running: {'embedding_model': 'all-mpnet-base-v2', 'metric': 'euclidean', 'min_cluster_size': 20, 'min_samples': 5, 'nr_topics': 20}\n",
      "Failed for config: {'embedding_model': 'all-mpnet-base-v2', 'metric': 'euclidean', 'min_cluster_size': 20, 'min_samples': 5, 'nr_topics': 20} — [Errno 28] No space left on device: '../../data/BERTopic_Hyperparameters/bertopic_grid_log.csv'\n",
      "\n",
      "Running: {'embedding_model': 'all-mpnet-base-v2', 'metric': 'manhattan', 'min_cluster_size': 20, 'min_samples': 5, 'nr_topics': 10}\n",
      "Failed for config: {'embedding_model': 'all-mpnet-base-v2', 'metric': 'manhattan', 'min_cluster_size': 20, 'min_samples': 5, 'nr_topics': 10} — [Errno 28] No space left on device: '../../data/BERTopic_Hyperparameters/bertopic_grid_log.csv'\n",
      "\n",
      "Running: {'embedding_model': 'all-mpnet-base-v2', 'metric': 'manhattan', 'min_cluster_size': 20, 'min_samples': 5, 'nr_topics': 15}\n",
      "Failed for config: {'embedding_model': 'all-mpnet-base-v2', 'metric': 'manhattan', 'min_cluster_size': 20, 'min_samples': 5, 'nr_topics': 15} — [Errno 28] No space left on device: '../../data/BERTopic_Hyperparameters/bertopic_grid_log.csv'\n",
      "\n",
      "Running: {'embedding_model': 'all-mpnet-base-v2', 'metric': 'manhattan', 'min_cluster_size': 20, 'min_samples': 5, 'nr_topics': 20}\n",
      "Failed for config: {'embedding_model': 'all-mpnet-base-v2', 'metric': 'manhattan', 'min_cluster_size': 20, 'min_samples': 5, 'nr_topics': 20} — [Errno 28] No space left on device: '../../data/BERTopic_Hyperparameters/bertopic_grid_log.csv'\n",
      "\n",
      "Running: {'embedding_model': 'all-mpnet-base-v2', 'metric': 'cosine', 'min_cluster_size': 20, 'min_samples': 5, 'nr_topics': 10}\n",
      "Failed for config: {'embedding_model': 'all-mpnet-base-v2', 'metric': 'cosine', 'min_cluster_size': 20, 'min_samples': 5, 'nr_topics': 10} — [Errno 28] No space left on device: '../../data/BERTopic_Hyperparameters/bertopic_grid_log.csv'\n",
      "\n",
      "Running: {'embedding_model': 'all-mpnet-base-v2', 'metric': 'cosine', 'min_cluster_size': 20, 'min_samples': 5, 'nr_topics': 15}\n",
      "Failed for config: {'embedding_model': 'all-mpnet-base-v2', 'metric': 'cosine', 'min_cluster_size': 20, 'min_samples': 5, 'nr_topics': 15} — [Errno 28] No space left on device: '../../data/BERTopic_Hyperparameters/bertopic_grid_log.csv'\n",
      "\n",
      "Running: {'embedding_model': 'all-mpnet-base-v2', 'metric': 'cosine', 'min_cluster_size': 20, 'min_samples': 5, 'nr_topics': 20}\n",
      "Failed for config: {'embedding_model': 'all-mpnet-base-v2', 'metric': 'cosine', 'min_cluster_size': 20, 'min_samples': 5, 'nr_topics': 20} — [Errno 28] No space left on device: '../../data/BERTopic_Hyperparameters/bertopic_grid_log.csv'\n",
      "\n",
      "Running: {'embedding_model': 'all-mpnet-base-v2', 'metric': 'euclidean', 'min_cluster_size': 20, 'min_samples': 7, 'nr_topics': 10}\n",
      "Failed for config: {'embedding_model': 'all-mpnet-base-v2', 'metric': 'euclidean', 'min_cluster_size': 20, 'min_samples': 7, 'nr_topics': 10} — [Errno 28] No space left on device: '../../data/BERTopic_Hyperparameters/bertopic_grid_log.csv'\n",
      "\n",
      "Running: {'embedding_model': 'all-mpnet-base-v2', 'metric': 'euclidean', 'min_cluster_size': 20, 'min_samples': 7, 'nr_topics': 15}\n",
      "Failed for config: {'embedding_model': 'all-mpnet-base-v2', 'metric': 'euclidean', 'min_cluster_size': 20, 'min_samples': 7, 'nr_topics': 15} — [Errno 28] No space left on device: '../../data/BERTopic_Hyperparameters/bertopic_grid_log.csv'\n",
      "\n",
      "Running: {'embedding_model': 'all-mpnet-base-v2', 'metric': 'euclidean', 'min_cluster_size': 20, 'min_samples': 7, 'nr_topics': 20}\n",
      "Failed for config: {'embedding_model': 'all-mpnet-base-v2', 'metric': 'euclidean', 'min_cluster_size': 20, 'min_samples': 7, 'nr_topics': 20} — [Errno 28] No space left on device: '../../data/BERTopic_Hyperparameters/bertopic_grid_log.csv'\n",
      "\n",
      "Running: {'embedding_model': 'all-mpnet-base-v2', 'metric': 'manhattan', 'min_cluster_size': 20, 'min_samples': 7, 'nr_topics': 10}\n",
      "Failed for config: {'embedding_model': 'all-mpnet-base-v2', 'metric': 'manhattan', 'min_cluster_size': 20, 'min_samples': 7, 'nr_topics': 10} — [Errno 28] No space left on device: '../../data/BERTopic_Hyperparameters/bertopic_grid_log.csv'\n",
      "\n",
      "Running: {'embedding_model': 'all-mpnet-base-v2', 'metric': 'manhattan', 'min_cluster_size': 20, 'min_samples': 7, 'nr_topics': 15}\n",
      "Failed for config: {'embedding_model': 'all-mpnet-base-v2', 'metric': 'manhattan', 'min_cluster_size': 20, 'min_samples': 7, 'nr_topics': 15} — [Errno 28] No space left on device: '../../data/BERTopic_Hyperparameters/bertopic_grid_log.csv'\n",
      "\n",
      "Running: {'embedding_model': 'all-mpnet-base-v2', 'metric': 'manhattan', 'min_cluster_size': 20, 'min_samples': 7, 'nr_topics': 20}\n",
      "Failed for config: {'embedding_model': 'all-mpnet-base-v2', 'metric': 'manhattan', 'min_cluster_size': 20, 'min_samples': 7, 'nr_topics': 20} — [Errno 28] No space left on device: '../../data/BERTopic_Hyperparameters/bertopic_grid_log.csv'\n",
      "\n",
      "Running: {'embedding_model': 'all-mpnet-base-v2', 'metric': 'cosine', 'min_cluster_size': 20, 'min_samples': 7, 'nr_topics': 10}\n",
      "Failed for config: {'embedding_model': 'all-mpnet-base-v2', 'metric': 'cosine', 'min_cluster_size': 20, 'min_samples': 7, 'nr_topics': 10} — [Errno 28] No space left on device: '../../data/BERTopic_Hyperparameters/bertopic_grid_log.csv'\n",
      "\n",
      "Running: {'embedding_model': 'all-mpnet-base-v2', 'metric': 'cosine', 'min_cluster_size': 20, 'min_samples': 7, 'nr_topics': 15}\n",
      "Failed for config: {'embedding_model': 'all-mpnet-base-v2', 'metric': 'cosine', 'min_cluster_size': 20, 'min_samples': 7, 'nr_topics': 15} — [Errno 28] No space left on device: '../../data/BERTopic_Hyperparameters/bertopic_grid_log.csv'\n",
      "\n",
      "Running: {'embedding_model': 'all-mpnet-base-v2', 'metric': 'cosine', 'min_cluster_size': 20, 'min_samples': 7, 'nr_topics': 20}\n",
      "Failed for config: {'embedding_model': 'all-mpnet-base-v2', 'metric': 'cosine', 'min_cluster_size': 20, 'min_samples': 7, 'nr_topics': 20} — [Errno 28] No space left on device: '../../data/BERTopic_Hyperparameters/bertopic_grid_log.csv'\n",
      "\n",
      "Running: {'embedding_model': 'all-mpnet-base-v2', 'metric': 'euclidean', 'min_cluster_size': 20, 'min_samples': 9, 'nr_topics': 10}\n",
      "Failed for config: {'embedding_model': 'all-mpnet-base-v2', 'metric': 'euclidean', 'min_cluster_size': 20, 'min_samples': 9, 'nr_topics': 10} — [Errno 28] No space left on device: '../../data/BERTopic_Hyperparameters/bertopic_grid_log.csv'\n",
      "\n",
      "Running: {'embedding_model': 'all-mpnet-base-v2', 'metric': 'euclidean', 'min_cluster_size': 20, 'min_samples': 9, 'nr_topics': 15}\n",
      "Failed for config: {'embedding_model': 'all-mpnet-base-v2', 'metric': 'euclidean', 'min_cluster_size': 20, 'min_samples': 9, 'nr_topics': 15} — [Errno 28] No space left on device: '../../data/BERTopic_Hyperparameters/bertopic_grid_log.csv'\n",
      "\n",
      "Running: {'embedding_model': 'all-mpnet-base-v2', 'metric': 'euclidean', 'min_cluster_size': 20, 'min_samples': 9, 'nr_topics': 20}\n",
      "Failed for config: {'embedding_model': 'all-mpnet-base-v2', 'metric': 'euclidean', 'min_cluster_size': 20, 'min_samples': 9, 'nr_topics': 20} — [Errno 28] No space left on device: '../../data/BERTopic_Hyperparameters/bertopic_grid_log.csv'\n",
      "\n",
      "Running: {'embedding_model': 'all-mpnet-base-v2', 'metric': 'manhattan', 'min_cluster_size': 20, 'min_samples': 9, 'nr_topics': 10}\n",
      "Failed for config: {'embedding_model': 'all-mpnet-base-v2', 'metric': 'manhattan', 'min_cluster_size': 20, 'min_samples': 9, 'nr_topics': 10} — [Errno 28] No space left on device: '../../data/BERTopic_Hyperparameters/bertopic_grid_log.csv'\n",
      "\n",
      "Running: {'embedding_model': 'all-mpnet-base-v2', 'metric': 'manhattan', 'min_cluster_size': 20, 'min_samples': 9, 'nr_topics': 15}\n",
      "Failed for config: {'embedding_model': 'all-mpnet-base-v2', 'metric': 'manhattan', 'min_cluster_size': 20, 'min_samples': 9, 'nr_topics': 15} — [Errno 28] No space left on device: '../../data/BERTopic_Hyperparameters/bertopic_grid_log.csv'\n",
      "\n",
      "Running: {'embedding_model': 'all-mpnet-base-v2', 'metric': 'manhattan', 'min_cluster_size': 20, 'min_samples': 9, 'nr_topics': 20}\n",
      "Failed for config: {'embedding_model': 'all-mpnet-base-v2', 'metric': 'manhattan', 'min_cluster_size': 20, 'min_samples': 9, 'nr_topics': 20} — [Errno 28] No space left on device: '../../data/BERTopic_Hyperparameters/bertopic_grid_log.csv'\n",
      "\n",
      "Running: {'embedding_model': 'all-mpnet-base-v2', 'metric': 'cosine', 'min_cluster_size': 20, 'min_samples': 9, 'nr_topics': 10}\n",
      "Failed for config: {'embedding_model': 'all-mpnet-base-v2', 'metric': 'cosine', 'min_cluster_size': 20, 'min_samples': 9, 'nr_topics': 10} — [Errno 28] No space left on device: '../../data/BERTopic_Hyperparameters/bertopic_grid_log.csv'\n",
      "\n",
      "Running: {'embedding_model': 'all-mpnet-base-v2', 'metric': 'cosine', 'min_cluster_size': 20, 'min_samples': 9, 'nr_topics': 15}\n",
      "Failed for config: {'embedding_model': 'all-mpnet-base-v2', 'metric': 'cosine', 'min_cluster_size': 20, 'min_samples': 9, 'nr_topics': 15} — [Errno 28] No space left on device: '../../data/BERTopic_Hyperparameters/bertopic_grid_log.csv'\n",
      "\n",
      "Running: {'embedding_model': 'all-mpnet-base-v2', 'metric': 'cosine', 'min_cluster_size': 20, 'min_samples': 9, 'nr_topics': 20}\n",
      "Failed for config: {'embedding_model': 'all-mpnet-base-v2', 'metric': 'cosine', 'min_cluster_size': 20, 'min_samples': 9, 'nr_topics': 20} — [Errno 28] No space left on device: '../../data/BERTopic_Hyperparameters/bertopic_grid_log.csv'\n",
      "\n",
      "Running: {'embedding_model': 'all-mpnet-base-v2', 'metric': 'euclidean', 'min_cluster_size': 25, 'min_samples': 5, 'nr_topics': 10}\n",
      "Failed for config: {'embedding_model': 'all-mpnet-base-v2', 'metric': 'euclidean', 'min_cluster_size': 25, 'min_samples': 5, 'nr_topics': 10} — [Errno 28] No space left on device: '../../data/BERTopic_Hyperparameters/bertopic_grid_log.csv'\n",
      "\n",
      "Running: {'embedding_model': 'all-mpnet-base-v2', 'metric': 'euclidean', 'min_cluster_size': 25, 'min_samples': 5, 'nr_topics': 15}\n",
      "Failed for config: {'embedding_model': 'all-mpnet-base-v2', 'metric': 'euclidean', 'min_cluster_size': 25, 'min_samples': 5, 'nr_topics': 15} — [Errno 28] No space left on device: '../../data/BERTopic_Hyperparameters/bertopic_grid_log.csv'\n",
      "\n",
      "Running: {'embedding_model': 'all-mpnet-base-v2', 'metric': 'euclidean', 'min_cluster_size': 25, 'min_samples': 5, 'nr_topics': 20}\n",
      "Failed for config: {'embedding_model': 'all-mpnet-base-v2', 'metric': 'euclidean', 'min_cluster_size': 25, 'min_samples': 5, 'nr_topics': 20} — [Errno 28] No space left on device: '../../data/BERTopic_Hyperparameters/bertopic_grid_log.csv'\n",
      "\n",
      "Running: {'embedding_model': 'all-mpnet-base-v2', 'metric': 'manhattan', 'min_cluster_size': 25, 'min_samples': 5, 'nr_topics': 10}\n",
      "Failed for config: {'embedding_model': 'all-mpnet-base-v2', 'metric': 'manhattan', 'min_cluster_size': 25, 'min_samples': 5, 'nr_topics': 10} — [Errno 28] No space left on device: '../../data/BERTopic_Hyperparameters/bertopic_grid_log.csv'\n",
      "\n",
      "Running: {'embedding_model': 'all-mpnet-base-v2', 'metric': 'manhattan', 'min_cluster_size': 25, 'min_samples': 5, 'nr_topics': 15}\n",
      "Failed for config: {'embedding_model': 'all-mpnet-base-v2', 'metric': 'manhattan', 'min_cluster_size': 25, 'min_samples': 5, 'nr_topics': 15} — [Errno 28] No space left on device: '../../data/BERTopic_Hyperparameters/bertopic_grid_log.csv'\n",
      "\n",
      "Running: {'embedding_model': 'all-mpnet-base-v2', 'metric': 'manhattan', 'min_cluster_size': 25, 'min_samples': 5, 'nr_topics': 20}\n",
      "Failed for config: {'embedding_model': 'all-mpnet-base-v2', 'metric': 'manhattan', 'min_cluster_size': 25, 'min_samples': 5, 'nr_topics': 20} — [Errno 28] No space left on device: '../../data/BERTopic_Hyperparameters/bertopic_grid_log.csv'\n",
      "\n",
      "Running: {'embedding_model': 'all-mpnet-base-v2', 'metric': 'cosine', 'min_cluster_size': 25, 'min_samples': 5, 'nr_topics': 10}\n",
      "Failed for config: {'embedding_model': 'all-mpnet-base-v2', 'metric': 'cosine', 'min_cluster_size': 25, 'min_samples': 5, 'nr_topics': 10} — [Errno 28] No space left on device: '../../data/BERTopic_Hyperparameters/bertopic_grid_log.csv'\n",
      "\n",
      "Running: {'embedding_model': 'all-mpnet-base-v2', 'metric': 'cosine', 'min_cluster_size': 25, 'min_samples': 5, 'nr_topics': 15}\n",
      "Failed for config: {'embedding_model': 'all-mpnet-base-v2', 'metric': 'cosine', 'min_cluster_size': 25, 'min_samples': 5, 'nr_topics': 15} — [Errno 28] No space left on device: '../../data/BERTopic_Hyperparameters/bertopic_grid_log.csv'\n",
      "\n",
      "Running: {'embedding_model': 'all-mpnet-base-v2', 'metric': 'cosine', 'min_cluster_size': 25, 'min_samples': 5, 'nr_topics': 20}\n",
      "Failed for config: {'embedding_model': 'all-mpnet-base-v2', 'metric': 'cosine', 'min_cluster_size': 25, 'min_samples': 5, 'nr_topics': 20} — [Errno 28] No space left on device: '../../data/BERTopic_Hyperparameters/bertopic_grid_log.csv'\n",
      "\n",
      "Running: {'embedding_model': 'all-mpnet-base-v2', 'metric': 'euclidean', 'min_cluster_size': 25, 'min_samples': 7, 'nr_topics': 10}\n",
      "Failed for config: {'embedding_model': 'all-mpnet-base-v2', 'metric': 'euclidean', 'min_cluster_size': 25, 'min_samples': 7, 'nr_topics': 10} — [Errno 28] No space left on device: '../../data/BERTopic_Hyperparameters/bertopic_grid_log.csv'\n",
      "\n",
      "Running: {'embedding_model': 'all-mpnet-base-v2', 'metric': 'euclidean', 'min_cluster_size': 25, 'min_samples': 7, 'nr_topics': 15}\n",
      "Failed for config: {'embedding_model': 'all-mpnet-base-v2', 'metric': 'euclidean', 'min_cluster_size': 25, 'min_samples': 7, 'nr_topics': 15} — [Errno 28] No space left on device: '../../data/BERTopic_Hyperparameters/bertopic_grid_log.csv'\n",
      "\n",
      "Running: {'embedding_model': 'all-mpnet-base-v2', 'metric': 'euclidean', 'min_cluster_size': 25, 'min_samples': 7, 'nr_topics': 20}\n",
      "Failed for config: {'embedding_model': 'all-mpnet-base-v2', 'metric': 'euclidean', 'min_cluster_size': 25, 'min_samples': 7, 'nr_topics': 20} — [Errno 28] No space left on device: '../../data/BERTopic_Hyperparameters/bertopic_grid_log.csv'\n",
      "\n",
      "Running: {'embedding_model': 'all-mpnet-base-v2', 'metric': 'manhattan', 'min_cluster_size': 25, 'min_samples': 7, 'nr_topics': 10}\n",
      "Failed for config: {'embedding_model': 'all-mpnet-base-v2', 'metric': 'manhattan', 'min_cluster_size': 25, 'min_samples': 7, 'nr_topics': 10} — [Errno 28] No space left on device: '../../data/BERTopic_Hyperparameters/bertopic_grid_log.csv'\n",
      "\n",
      "Running: {'embedding_model': 'all-mpnet-base-v2', 'metric': 'manhattan', 'min_cluster_size': 25, 'min_samples': 7, 'nr_topics': 15}\n",
      "Failed for config: {'embedding_model': 'all-mpnet-base-v2', 'metric': 'manhattan', 'min_cluster_size': 25, 'min_samples': 7, 'nr_topics': 15} — [Errno 28] No space left on device: '../../data/BERTopic_Hyperparameters/bertopic_grid_log.csv'\n",
      "\n",
      "Running: {'embedding_model': 'all-mpnet-base-v2', 'metric': 'manhattan', 'min_cluster_size': 25, 'min_samples': 7, 'nr_topics': 20}\n",
      "Failed for config: {'embedding_model': 'all-mpnet-base-v2', 'metric': 'manhattan', 'min_cluster_size': 25, 'min_samples': 7, 'nr_topics': 20} — [Errno 28] No space left on device: '../../data/BERTopic_Hyperparameters/bertopic_grid_log.csv'\n",
      "\n",
      "Running: {'embedding_model': 'all-mpnet-base-v2', 'metric': 'cosine', 'min_cluster_size': 25, 'min_samples': 7, 'nr_topics': 10}\n",
      "Failed for config: {'embedding_model': 'all-mpnet-base-v2', 'metric': 'cosine', 'min_cluster_size': 25, 'min_samples': 7, 'nr_topics': 10} — [Errno 28] No space left on device: '../../data/BERTopic_Hyperparameters/bertopic_grid_log.csv'\n",
      "\n",
      "Running: {'embedding_model': 'all-mpnet-base-v2', 'metric': 'cosine', 'min_cluster_size': 25, 'min_samples': 7, 'nr_topics': 15}\n",
      "Failed for config: {'embedding_model': 'all-mpnet-base-v2', 'metric': 'cosine', 'min_cluster_size': 25, 'min_samples': 7, 'nr_topics': 15} — [Errno 28] No space left on device: '../../data/BERTopic_Hyperparameters/bertopic_grid_log.csv'\n",
      "\n",
      "Running: {'embedding_model': 'all-mpnet-base-v2', 'metric': 'cosine', 'min_cluster_size': 25, 'min_samples': 7, 'nr_topics': 20}\n",
      "Failed for config: {'embedding_model': 'all-mpnet-base-v2', 'metric': 'cosine', 'min_cluster_size': 25, 'min_samples': 7, 'nr_topics': 20} — [Errno 28] No space left on device: '../../data/BERTopic_Hyperparameters/bertopic_grid_log.csv'\n",
      "\n",
      "Running: {'embedding_model': 'all-mpnet-base-v2', 'metric': 'euclidean', 'min_cluster_size': 25, 'min_samples': 9, 'nr_topics': 10}\n"
     ]
    },
    {
     "name": "stderr",
     "output_type": "stream",
     "text": [
      "2025-04-22 17:44:11,524 - BERTopic - WARNING: When you use `pickle` to save/load a BERTopic model,please make sure that the environments in which you saveand load the model are **exactly** the same. The version of BERTopic,its dependencies, and python need to remain the same.\n"
     ]
    },
    {
     "name": "stdout",
     "output_type": "stream",
     "text": [
      "Failed for config: {'embedding_model': 'all-mpnet-base-v2', 'metric': 'euclidean', 'min_cluster_size': 25, 'min_samples': 9, 'nr_topics': 10} — [Errno 28] No space left on device\n",
      "\n",
      "Running: {'embedding_model': 'all-mpnet-base-v2', 'metric': 'euclidean', 'min_cluster_size': 25, 'min_samples': 9, 'nr_topics': 15}\n"
     ]
    },
    {
     "name": "stderr",
     "output_type": "stream",
     "text": [
      "2025-04-22 17:44:16,364 - BERTopic - WARNING: When you use `pickle` to save/load a BERTopic model,please make sure that the environments in which you saveand load the model are **exactly** the same. The version of BERTopic,its dependencies, and python need to remain the same.\n"
     ]
    },
    {
     "name": "stdout",
     "output_type": "stream",
     "text": [
      "Done | Topics: 14, Outliers: 4866 (42.43%) | Time: 4.7s\n",
      "\n",
      "Running: {'embedding_model': 'all-mpnet-base-v2', 'metric': 'euclidean', 'min_cluster_size': 25, 'min_samples': 9, 'nr_topics': 20}\n"
     ]
    },
    {
     "name": "stderr",
     "output_type": "stream",
     "text": [
      "2025-04-22 17:44:23,444 - BERTopic - WARNING: When you use `pickle` to save/load a BERTopic model,please make sure that the environments in which you saveand load the model are **exactly** the same. The version of BERTopic,its dependencies, and python need to remain the same.\n"
     ]
    },
    {
     "name": "stdout",
     "output_type": "stream",
     "text": [
      "Done | Topics: 19, Outliers: 4800 (41.86%) | Time: 4.79s\n",
      "\n",
      "Running: {'embedding_model': 'all-mpnet-base-v2', 'metric': 'manhattan', 'min_cluster_size': 25, 'min_samples': 9, 'nr_topics': 10}\n"
     ]
    },
    {
     "name": "stderr",
     "output_type": "stream",
     "text": [
      "2025-04-22 17:44:31,096 - BERTopic - WARNING: When you use `pickle` to save/load a BERTopic model,please make sure that the environments in which you saveand load the model are **exactly** the same. The version of BERTopic,its dependencies, and python need to remain the same.\n"
     ]
    },
    {
     "name": "stdout",
     "output_type": "stream",
     "text": [
      "Failed for config: {'embedding_model': 'all-mpnet-base-v2', 'metric': 'manhattan', 'min_cluster_size': 25, 'min_samples': 9, 'nr_topics': 10} — [Errno 28] No space left on device\n",
      "\n",
      "Running: {'embedding_model': 'all-mpnet-base-v2', 'metric': 'manhattan', 'min_cluster_size': 25, 'min_samples': 9, 'nr_topics': 15}\n"
     ]
    },
    {
     "name": "stderr",
     "output_type": "stream",
     "text": [
      "2025-04-22 17:44:37,362 - BERTopic - WARNING: When you use `pickle` to save/load a BERTopic model,please make sure that the environments in which you saveand load the model are **exactly** the same. The version of BERTopic,its dependencies, and python need to remain the same.\n"
     ]
    },
    {
     "name": "stdout",
     "output_type": "stream",
     "text": [
      "Failed for config: {'embedding_model': 'all-mpnet-base-v2', 'metric': 'manhattan', 'min_cluster_size': 25, 'min_samples': 9, 'nr_topics': 15} — [Errno 28] No space left on device\n",
      "\n",
      "Running: {'embedding_model': 'all-mpnet-base-v2', 'metric': 'manhattan', 'min_cluster_size': 25, 'min_samples': 9, 'nr_topics': 20}\n",
      "Failed for config: {'embedding_model': 'all-mpnet-base-v2', 'metric': 'manhattan', 'min_cluster_size': 25, 'min_samples': 9, 'nr_topics': 20} — [Errno 28] No space left on device: '../../data/BERTopic_Hyperparameters/bertopic_grid_log.csv'\n",
      "\n",
      "Running: {'embedding_model': 'all-mpnet-base-v2', 'metric': 'cosine', 'min_cluster_size': 25, 'min_samples': 9, 'nr_topics': 10}\n"
     ]
    },
    {
     "name": "stderr",
     "output_type": "stream",
     "text": [
      "2025-04-22 17:44:47,526 - BERTopic - WARNING: When you use `pickle` to save/load a BERTopic model,please make sure that the environments in which you saveand load the model are **exactly** the same. The version of BERTopic,its dependencies, and python need to remain the same.\n"
     ]
    },
    {
     "name": "stdout",
     "output_type": "stream",
     "text": [
      "Failed for config: {'embedding_model': 'all-mpnet-base-v2', 'metric': 'cosine', 'min_cluster_size': 25, 'min_samples': 9, 'nr_topics': 10} — [Errno 28] No space left on device\n",
      "\n",
      "Running: {'embedding_model': 'all-mpnet-base-v2', 'metric': 'cosine', 'min_cluster_size': 25, 'min_samples': 9, 'nr_topics': 15}\n"
     ]
    },
    {
     "name": "stderr",
     "output_type": "stream",
     "text": [
      "2025-04-22 17:44:52,264 - BERTopic - WARNING: When you use `pickle` to save/load a BERTopic model,please make sure that the environments in which you saveand load the model are **exactly** the same. The version of BERTopic,its dependencies, and python need to remain the same.\n"
     ]
    },
    {
     "name": "stdout",
     "output_type": "stream",
     "text": [
      "Failed for config: {'embedding_model': 'all-mpnet-base-v2', 'metric': 'cosine', 'min_cluster_size': 25, 'min_samples': 9, 'nr_topics': 15} — [Errno 28] No space left on device\n",
      "\n",
      "Running: {'embedding_model': 'all-mpnet-base-v2', 'metric': 'cosine', 'min_cluster_size': 25, 'min_samples': 9, 'nr_topics': 20}\n",
      "Failed for config: {'embedding_model': 'all-mpnet-base-v2', 'metric': 'cosine', 'min_cluster_size': 25, 'min_samples': 9, 'nr_topics': 20} — [Errno 28] No space left on device: '../../data/BERTopic_Hyperparameters/bertopic_grid_log.csv'\n",
      "\n",
      "Running: {'embedding_model': 'all-mpnet-base-v2', 'metric': 'euclidean', 'min_cluster_size': 30, 'min_samples': 5, 'nr_topics': 10}\n",
      "Failed for config: {'embedding_model': 'all-mpnet-base-v2', 'metric': 'euclidean', 'min_cluster_size': 30, 'min_samples': 5, 'nr_topics': 10} — [Errno 28] No space left on device: '../../data/BERTopic_Hyperparameters/bertopic_grid_log.csv'\n",
      "\n",
      "Running: {'embedding_model': 'all-mpnet-base-v2', 'metric': 'euclidean', 'min_cluster_size': 30, 'min_samples': 5, 'nr_topics': 15}\n",
      "Failed for config: {'embedding_model': 'all-mpnet-base-v2', 'metric': 'euclidean', 'min_cluster_size': 30, 'min_samples': 5, 'nr_topics': 15} — [Errno 28] No space left on device: '../../data/BERTopic_Hyperparameters/bertopic_grid_log.csv'\n",
      "\n",
      "Running: {'embedding_model': 'all-mpnet-base-v2', 'metric': 'euclidean', 'min_cluster_size': 30, 'min_samples': 5, 'nr_topics': 20}\n",
      "Failed for config: {'embedding_model': 'all-mpnet-base-v2', 'metric': 'euclidean', 'min_cluster_size': 30, 'min_samples': 5, 'nr_topics': 20} — [Errno 28] No space left on device: '../../data/BERTopic_Hyperparameters/bertopic_grid_log.csv'\n",
      "\n",
      "Running: {'embedding_model': 'all-mpnet-base-v2', 'metric': 'manhattan', 'min_cluster_size': 30, 'min_samples': 5, 'nr_topics': 10}\n",
      "Failed for config: {'embedding_model': 'all-mpnet-base-v2', 'metric': 'manhattan', 'min_cluster_size': 30, 'min_samples': 5, 'nr_topics': 10} — [Errno 28] No space left on device: '../../data/BERTopic_Hyperparameters/bertopic_grid_log.csv'\n",
      "\n",
      "Running: {'embedding_model': 'all-mpnet-base-v2', 'metric': 'manhattan', 'min_cluster_size': 30, 'min_samples': 5, 'nr_topics': 15}\n",
      "Failed for config: {'embedding_model': 'all-mpnet-base-v2', 'metric': 'manhattan', 'min_cluster_size': 30, 'min_samples': 5, 'nr_topics': 15} — [Errno 28] No space left on device: '../../data/BERTopic_Hyperparameters/bertopic_grid_log.csv'\n",
      "\n",
      "Running: {'embedding_model': 'all-mpnet-base-v2', 'metric': 'manhattan', 'min_cluster_size': 30, 'min_samples': 5, 'nr_topics': 20}\n",
      "Failed for config: {'embedding_model': 'all-mpnet-base-v2', 'metric': 'manhattan', 'min_cluster_size': 30, 'min_samples': 5, 'nr_topics': 20} — [Errno 28] No space left on device: '../../data/BERTopic_Hyperparameters/bertopic_grid_log.csv'\n",
      "\n",
      "Running: {'embedding_model': 'all-mpnet-base-v2', 'metric': 'cosine', 'min_cluster_size': 30, 'min_samples': 5, 'nr_topics': 10}\n",
      "Failed for config: {'embedding_model': 'all-mpnet-base-v2', 'metric': 'cosine', 'min_cluster_size': 30, 'min_samples': 5, 'nr_topics': 10} — [Errno 28] No space left on device: '../../data/BERTopic_Hyperparameters/bertopic_grid_log.csv'\n",
      "\n",
      "Running: {'embedding_model': 'all-mpnet-base-v2', 'metric': 'cosine', 'min_cluster_size': 30, 'min_samples': 5, 'nr_topics': 15}\n",
      "Failed for config: {'embedding_model': 'all-mpnet-base-v2', 'metric': 'cosine', 'min_cluster_size': 30, 'min_samples': 5, 'nr_topics': 15} — [Errno 28] No space left on device: '../../data/BERTopic_Hyperparameters/bertopic_grid_log.csv'\n",
      "\n",
      "Running: {'embedding_model': 'all-mpnet-base-v2', 'metric': 'cosine', 'min_cluster_size': 30, 'min_samples': 5, 'nr_topics': 20}\n",
      "Failed for config: {'embedding_model': 'all-mpnet-base-v2', 'metric': 'cosine', 'min_cluster_size': 30, 'min_samples': 5, 'nr_topics': 20} — [Errno 28] No space left on device: '../../data/BERTopic_Hyperparameters/bertopic_grid_log.csv'\n",
      "\n",
      "Running: {'embedding_model': 'all-mpnet-base-v2', 'metric': 'euclidean', 'min_cluster_size': 30, 'min_samples': 7, 'nr_topics': 10}\n",
      "Failed for config: {'embedding_model': 'all-mpnet-base-v2', 'metric': 'euclidean', 'min_cluster_size': 30, 'min_samples': 7, 'nr_topics': 10} — [Errno 28] No space left on device: '../../data/BERTopic_Hyperparameters/bertopic_grid_log.csv'\n",
      "\n",
      "Running: {'embedding_model': 'all-mpnet-base-v2', 'metric': 'euclidean', 'min_cluster_size': 30, 'min_samples': 7, 'nr_topics': 15}\n",
      "Failed for config: {'embedding_model': 'all-mpnet-base-v2', 'metric': 'euclidean', 'min_cluster_size': 30, 'min_samples': 7, 'nr_topics': 15} — [Errno 28] No space left on device: '../../data/BERTopic_Hyperparameters/bertopic_grid_log.csv'\n",
      "\n",
      "Running: {'embedding_model': 'all-mpnet-base-v2', 'metric': 'euclidean', 'min_cluster_size': 30, 'min_samples': 7, 'nr_topics': 20}\n",
      "Failed for config: {'embedding_model': 'all-mpnet-base-v2', 'metric': 'euclidean', 'min_cluster_size': 30, 'min_samples': 7, 'nr_topics': 20} — [Errno 28] No space left on device: '../../data/BERTopic_Hyperparameters/bertopic_grid_log.csv'\n",
      "\n",
      "Running: {'embedding_model': 'all-mpnet-base-v2', 'metric': 'manhattan', 'min_cluster_size': 30, 'min_samples': 7, 'nr_topics': 10}\n",
      "Failed for config: {'embedding_model': 'all-mpnet-base-v2', 'metric': 'manhattan', 'min_cluster_size': 30, 'min_samples': 7, 'nr_topics': 10} — [Errno 28] No space left on device: '../../data/BERTopic_Hyperparameters/bertopic_grid_log.csv'\n",
      "\n",
      "Running: {'embedding_model': 'all-mpnet-base-v2', 'metric': 'manhattan', 'min_cluster_size': 30, 'min_samples': 7, 'nr_topics': 15}\n",
      "Failed for config: {'embedding_model': 'all-mpnet-base-v2', 'metric': 'manhattan', 'min_cluster_size': 30, 'min_samples': 7, 'nr_topics': 15} — [Errno 28] No space left on device: '../../data/BERTopic_Hyperparameters/bertopic_grid_log.csv'\n",
      "\n",
      "Running: {'embedding_model': 'all-mpnet-base-v2', 'metric': 'manhattan', 'min_cluster_size': 30, 'min_samples': 7, 'nr_topics': 20}\n",
      "Failed for config: {'embedding_model': 'all-mpnet-base-v2', 'metric': 'manhattan', 'min_cluster_size': 30, 'min_samples': 7, 'nr_topics': 20} — [Errno 28] No space left on device: '../../data/BERTopic_Hyperparameters/bertopic_grid_log.csv'\n",
      "\n",
      "Running: {'embedding_model': 'all-mpnet-base-v2', 'metric': 'cosine', 'min_cluster_size': 30, 'min_samples': 7, 'nr_topics': 10}\n",
      "Failed for config: {'embedding_model': 'all-mpnet-base-v2', 'metric': 'cosine', 'min_cluster_size': 30, 'min_samples': 7, 'nr_topics': 10} — [Errno 28] No space left on device: '../../data/BERTopic_Hyperparameters/bertopic_grid_log.csv'\n",
      "\n",
      "Running: {'embedding_model': 'all-mpnet-base-v2', 'metric': 'cosine', 'min_cluster_size': 30, 'min_samples': 7, 'nr_topics': 15}\n",
      "Failed for config: {'embedding_model': 'all-mpnet-base-v2', 'metric': 'cosine', 'min_cluster_size': 30, 'min_samples': 7, 'nr_topics': 15} — [Errno 28] No space left on device: '../../data/BERTopic_Hyperparameters/bertopic_grid_log.csv'\n",
      "\n",
      "Running: {'embedding_model': 'all-mpnet-base-v2', 'metric': 'cosine', 'min_cluster_size': 30, 'min_samples': 7, 'nr_topics': 20}\n",
      "Failed for config: {'embedding_model': 'all-mpnet-base-v2', 'metric': 'cosine', 'min_cluster_size': 30, 'min_samples': 7, 'nr_topics': 20} — [Errno 28] No space left on device: '../../data/BERTopic_Hyperparameters/bertopic_grid_log.csv'\n",
      "\n",
      "Running: {'embedding_model': 'all-mpnet-base-v2', 'metric': 'euclidean', 'min_cluster_size': 30, 'min_samples': 9, 'nr_topics': 10}\n",
      "Failed for config: {'embedding_model': 'all-mpnet-base-v2', 'metric': 'euclidean', 'min_cluster_size': 30, 'min_samples': 9, 'nr_topics': 10} — [Errno 28] No space left on device: '../../data/BERTopic_Hyperparameters/bertopic_grid_log.csv'\n",
      "\n",
      "Running: {'embedding_model': 'all-mpnet-base-v2', 'metric': 'euclidean', 'min_cluster_size': 30, 'min_samples': 9, 'nr_topics': 15}\n",
      "Failed for config: {'embedding_model': 'all-mpnet-base-v2', 'metric': 'euclidean', 'min_cluster_size': 30, 'min_samples': 9, 'nr_topics': 15} — [Errno 28] No space left on device: '../../data/BERTopic_Hyperparameters/bertopic_grid_log.csv'\n",
      "\n",
      "Running: {'embedding_model': 'all-mpnet-base-v2', 'metric': 'euclidean', 'min_cluster_size': 30, 'min_samples': 9, 'nr_topics': 20}\n",
      "Failed for config: {'embedding_model': 'all-mpnet-base-v2', 'metric': 'euclidean', 'min_cluster_size': 30, 'min_samples': 9, 'nr_topics': 20} — [Errno 28] No space left on device: '../../data/BERTopic_Hyperparameters/bertopic_grid_log.csv'\n",
      "\n",
      "Running: {'embedding_model': 'all-mpnet-base-v2', 'metric': 'manhattan', 'min_cluster_size': 30, 'min_samples': 9, 'nr_topics': 10}\n",
      "Failed for config: {'embedding_model': 'all-mpnet-base-v2', 'metric': 'manhattan', 'min_cluster_size': 30, 'min_samples': 9, 'nr_topics': 10} — [Errno 28] No space left on device: '../../data/BERTopic_Hyperparameters/bertopic_grid_log.csv'\n",
      "\n",
      "Running: {'embedding_model': 'all-mpnet-base-v2', 'metric': 'manhattan', 'min_cluster_size': 30, 'min_samples': 9, 'nr_topics': 15}\n",
      "Failed for config: {'embedding_model': 'all-mpnet-base-v2', 'metric': 'manhattan', 'min_cluster_size': 30, 'min_samples': 9, 'nr_topics': 15} — [Errno 28] No space left on device: '../../data/BERTopic_Hyperparameters/bertopic_grid_log.csv'\n",
      "\n",
      "Running: {'embedding_model': 'all-mpnet-base-v2', 'metric': 'manhattan', 'min_cluster_size': 30, 'min_samples': 9, 'nr_topics': 20}\n",
      "Failed for config: {'embedding_model': 'all-mpnet-base-v2', 'metric': 'manhattan', 'min_cluster_size': 30, 'min_samples': 9, 'nr_topics': 20} — [Errno 28] No space left on device: '../../data/BERTopic_Hyperparameters/bertopic_grid_log.csv'\n",
      "\n",
      "Running: {'embedding_model': 'all-mpnet-base-v2', 'metric': 'cosine', 'min_cluster_size': 30, 'min_samples': 9, 'nr_topics': 10}\n",
      "Failed for config: {'embedding_model': 'all-mpnet-base-v2', 'metric': 'cosine', 'min_cluster_size': 30, 'min_samples': 9, 'nr_topics': 10} — [Errno 28] No space left on device: '../../data/BERTopic_Hyperparameters/bertopic_grid_log.csv'\n",
      "\n",
      "Running: {'embedding_model': 'all-mpnet-base-v2', 'metric': 'cosine', 'min_cluster_size': 30, 'min_samples': 9, 'nr_topics': 15}\n",
      "Failed for config: {'embedding_model': 'all-mpnet-base-v2', 'metric': 'cosine', 'min_cluster_size': 30, 'min_samples': 9, 'nr_topics': 15} — [Errno 28] No space left on device: '../../data/BERTopic_Hyperparameters/bertopic_grid_log.csv'\n",
      "\n",
      "Running: {'embedding_model': 'all-mpnet-base-v2', 'metric': 'cosine', 'min_cluster_size': 30, 'min_samples': 9, 'nr_topics': 20}\n",
      "Failed for config: {'embedding_model': 'all-mpnet-base-v2', 'metric': 'cosine', 'min_cluster_size': 30, 'min_samples': 9, 'nr_topics': 20} — [Errno 28] No space left on device: '../../data/BERTopic_Hyperparameters/bertopic_grid_log.csv'\n",
      "\n",
      "Running: {'embedding_model': 'all-mpnet-base-v2', 'metric': 'euclidean', 'min_cluster_size': 35, 'min_samples': 5, 'nr_topics': 10}\n",
      "Failed for config: {'embedding_model': 'all-mpnet-base-v2', 'metric': 'euclidean', 'min_cluster_size': 35, 'min_samples': 5, 'nr_topics': 10} — [Errno 28] No space left on device: '../../data/BERTopic_Hyperparameters/bertopic_grid_log.csv'\n",
      "\n",
      "Running: {'embedding_model': 'all-mpnet-base-v2', 'metric': 'euclidean', 'min_cluster_size': 35, 'min_samples': 5, 'nr_topics': 15}\n",
      "Failed for config: {'embedding_model': 'all-mpnet-base-v2', 'metric': 'euclidean', 'min_cluster_size': 35, 'min_samples': 5, 'nr_topics': 15} — [Errno 28] No space left on device: '../../data/BERTopic_Hyperparameters/bertopic_grid_log.csv'\n",
      "\n",
      "Running: {'embedding_model': 'all-mpnet-base-v2', 'metric': 'euclidean', 'min_cluster_size': 35, 'min_samples': 5, 'nr_topics': 20}\n",
      "Failed for config: {'embedding_model': 'all-mpnet-base-v2', 'metric': 'euclidean', 'min_cluster_size': 35, 'min_samples': 5, 'nr_topics': 20} — [Errno 28] No space left on device: '../../data/BERTopic_Hyperparameters/bertopic_grid_log.csv'\n",
      "\n",
      "Running: {'embedding_model': 'all-mpnet-base-v2', 'metric': 'manhattan', 'min_cluster_size': 35, 'min_samples': 5, 'nr_topics': 10}\n",
      "Failed for config: {'embedding_model': 'all-mpnet-base-v2', 'metric': 'manhattan', 'min_cluster_size': 35, 'min_samples': 5, 'nr_topics': 10} — [Errno 28] No space left on device: '../../data/BERTopic_Hyperparameters/bertopic_grid_log.csv'\n",
      "\n",
      "Running: {'embedding_model': 'all-mpnet-base-v2', 'metric': 'manhattan', 'min_cluster_size': 35, 'min_samples': 5, 'nr_topics': 15}\n",
      "Failed for config: {'embedding_model': 'all-mpnet-base-v2', 'metric': 'manhattan', 'min_cluster_size': 35, 'min_samples': 5, 'nr_topics': 15} — [Errno 28] No space left on device: '../../data/BERTopic_Hyperparameters/bertopic_grid_log.csv'\n",
      "\n",
      "Running: {'embedding_model': 'all-mpnet-base-v2', 'metric': 'manhattan', 'min_cluster_size': 35, 'min_samples': 5, 'nr_topics': 20}\n",
      "Failed for config: {'embedding_model': 'all-mpnet-base-v2', 'metric': 'manhattan', 'min_cluster_size': 35, 'min_samples': 5, 'nr_topics': 20} — [Errno 28] No space left on device: '../../data/BERTopic_Hyperparameters/bertopic_grid_log.csv'\n",
      "\n",
      "Running: {'embedding_model': 'all-mpnet-base-v2', 'metric': 'cosine', 'min_cluster_size': 35, 'min_samples': 5, 'nr_topics': 10}\n",
      "Failed for config: {'embedding_model': 'all-mpnet-base-v2', 'metric': 'cosine', 'min_cluster_size': 35, 'min_samples': 5, 'nr_topics': 10} — [Errno 28] No space left on device: '../../data/BERTopic_Hyperparameters/bertopic_grid_log.csv'\n",
      "\n",
      "Running: {'embedding_model': 'all-mpnet-base-v2', 'metric': 'cosine', 'min_cluster_size': 35, 'min_samples': 5, 'nr_topics': 15}\n",
      "Failed for config: {'embedding_model': 'all-mpnet-base-v2', 'metric': 'cosine', 'min_cluster_size': 35, 'min_samples': 5, 'nr_topics': 15} — [Errno 28] No space left on device: '../../data/BERTopic_Hyperparameters/bertopic_grid_log.csv'\n",
      "\n",
      "Running: {'embedding_model': 'all-mpnet-base-v2', 'metric': 'cosine', 'min_cluster_size': 35, 'min_samples': 5, 'nr_topics': 20}\n",
      "Failed for config: {'embedding_model': 'all-mpnet-base-v2', 'metric': 'cosine', 'min_cluster_size': 35, 'min_samples': 5, 'nr_topics': 20} — [Errno 28] No space left on device: '../../data/BERTopic_Hyperparameters/bertopic_grid_log.csv'\n",
      "\n",
      "Running: {'embedding_model': 'all-mpnet-base-v2', 'metric': 'euclidean', 'min_cluster_size': 35, 'min_samples': 7, 'nr_topics': 10}\n",
      "Failed for config: {'embedding_model': 'all-mpnet-base-v2', 'metric': 'euclidean', 'min_cluster_size': 35, 'min_samples': 7, 'nr_topics': 10} — [Errno 28] No space left on device: '../../data/BERTopic_Hyperparameters/bertopic_grid_log.csv'\n",
      "\n",
      "Running: {'embedding_model': 'all-mpnet-base-v2', 'metric': 'euclidean', 'min_cluster_size': 35, 'min_samples': 7, 'nr_topics': 15}\n",
      "Failed for config: {'embedding_model': 'all-mpnet-base-v2', 'metric': 'euclidean', 'min_cluster_size': 35, 'min_samples': 7, 'nr_topics': 15} — [Errno 28] No space left on device: '../../data/BERTopic_Hyperparameters/bertopic_grid_log.csv'\n",
      "\n",
      "Running: {'embedding_model': 'all-mpnet-base-v2', 'metric': 'euclidean', 'min_cluster_size': 35, 'min_samples': 7, 'nr_topics': 20}\n",
      "Failed for config: {'embedding_model': 'all-mpnet-base-v2', 'metric': 'euclidean', 'min_cluster_size': 35, 'min_samples': 7, 'nr_topics': 20} — [Errno 28] No space left on device: '../../data/BERTopic_Hyperparameters/bertopic_grid_log.csv'\n",
      "\n",
      "Running: {'embedding_model': 'all-mpnet-base-v2', 'metric': 'manhattan', 'min_cluster_size': 35, 'min_samples': 7, 'nr_topics': 10}\n",
      "Failed for config: {'embedding_model': 'all-mpnet-base-v2', 'metric': 'manhattan', 'min_cluster_size': 35, 'min_samples': 7, 'nr_topics': 10} — [Errno 28] No space left on device: '../../data/BERTopic_Hyperparameters/bertopic_grid_log.csv'\n",
      "\n",
      "Running: {'embedding_model': 'all-mpnet-base-v2', 'metric': 'manhattan', 'min_cluster_size': 35, 'min_samples': 7, 'nr_topics': 15}\n",
      "Failed for config: {'embedding_model': 'all-mpnet-base-v2', 'metric': 'manhattan', 'min_cluster_size': 35, 'min_samples': 7, 'nr_topics': 15} — [Errno 28] No space left on device: '../../data/BERTopic_Hyperparameters/bertopic_grid_log.csv'\n",
      "\n",
      "Running: {'embedding_model': 'all-mpnet-base-v2', 'metric': 'manhattan', 'min_cluster_size': 35, 'min_samples': 7, 'nr_topics': 20}\n",
      "Failed for config: {'embedding_model': 'all-mpnet-base-v2', 'metric': 'manhattan', 'min_cluster_size': 35, 'min_samples': 7, 'nr_topics': 20} — [Errno 28] No space left on device: '../../data/BERTopic_Hyperparameters/bertopic_grid_log.csv'\n",
      "\n",
      "Running: {'embedding_model': 'all-mpnet-base-v2', 'metric': 'cosine', 'min_cluster_size': 35, 'min_samples': 7, 'nr_topics': 10}\n",
      "Failed for config: {'embedding_model': 'all-mpnet-base-v2', 'metric': 'cosine', 'min_cluster_size': 35, 'min_samples': 7, 'nr_topics': 10} — [Errno 28] No space left on device: '../../data/BERTopic_Hyperparameters/bertopic_grid_log.csv'\n",
      "\n",
      "Running: {'embedding_model': 'all-mpnet-base-v2', 'metric': 'cosine', 'min_cluster_size': 35, 'min_samples': 7, 'nr_topics': 15}\n",
      "Failed for config: {'embedding_model': 'all-mpnet-base-v2', 'metric': 'cosine', 'min_cluster_size': 35, 'min_samples': 7, 'nr_topics': 15} — [Errno 28] No space left on device: '../../data/BERTopic_Hyperparameters/bertopic_grid_log.csv'\n",
      "\n",
      "Running: {'embedding_model': 'all-mpnet-base-v2', 'metric': 'cosine', 'min_cluster_size': 35, 'min_samples': 7, 'nr_topics': 20}\n"
     ]
    },
    {
     "name": "stderr",
     "output_type": "stream",
     "text": [
      "2025-04-22 17:47:48,314 - BERTopic - WARNING: When you use `pickle` to save/load a BERTopic model,please make sure that the environments in which you saveand load the model are **exactly** the same. The version of BERTopic,its dependencies, and python need to remain the same.\n"
     ]
    },
    {
     "name": "stdout",
     "output_type": "stream",
     "text": [
      "Failed for config: {'embedding_model': 'all-mpnet-base-v2', 'metric': 'cosine', 'min_cluster_size': 35, 'min_samples': 7, 'nr_topics': 20} — [Errno 28] No space left on device\n",
      "\n",
      "Running: {'embedding_model': 'all-mpnet-base-v2', 'metric': 'euclidean', 'min_cluster_size': 35, 'min_samples': 9, 'nr_topics': 10}\n"
     ]
    },
    {
     "name": "stderr",
     "output_type": "stream",
     "text": [
      "2025-04-22 17:47:52,889 - BERTopic - WARNING: When you use `pickle` to save/load a BERTopic model,please make sure that the environments in which you saveand load the model are **exactly** the same. The version of BERTopic,its dependencies, and python need to remain the same.\n"
     ]
    },
    {
     "name": "stdout",
     "output_type": "stream",
     "text": [
      "Failed for config: {'embedding_model': 'all-mpnet-base-v2', 'metric': 'euclidean', 'min_cluster_size': 35, 'min_samples': 9, 'nr_topics': 10} — [Errno 28] No space left on device\n",
      "\n",
      "Running: {'embedding_model': 'all-mpnet-base-v2', 'metric': 'euclidean', 'min_cluster_size': 35, 'min_samples': 9, 'nr_topics': 15}\n"
     ]
    },
    {
     "name": "stderr",
     "output_type": "stream",
     "text": [
      "2025-04-22 17:47:56,480 - BERTopic - WARNING: When you use `pickle` to save/load a BERTopic model,please make sure that the environments in which you saveand load the model are **exactly** the same. The version of BERTopic,its dependencies, and python need to remain the same.\n"
     ]
    },
    {
     "name": "stdout",
     "output_type": "stream",
     "text": [
      "Failed for config: {'embedding_model': 'all-mpnet-base-v2', 'metric': 'euclidean', 'min_cluster_size': 35, 'min_samples': 9, 'nr_topics': 15} — [Errno 28] No space left on device\n",
      "\n",
      "Running: {'embedding_model': 'all-mpnet-base-v2', 'metric': 'euclidean', 'min_cluster_size': 35, 'min_samples': 9, 'nr_topics': 20}\n"
     ]
    },
    {
     "name": "stderr",
     "output_type": "stream",
     "text": [
      "2025-04-22 17:48:00,440 - BERTopic - WARNING: When you use `pickle` to save/load a BERTopic model,please make sure that the environments in which you saveand load the model are **exactly** the same. The version of BERTopic,its dependencies, and python need to remain the same.\n"
     ]
    },
    {
     "name": "stdout",
     "output_type": "stream",
     "text": [
      "Failed for config: {'embedding_model': 'all-mpnet-base-v2', 'metric': 'euclidean', 'min_cluster_size': 35, 'min_samples': 9, 'nr_topics': 20} — [Errno 28] No space left on device\n",
      "\n",
      "Running: {'embedding_model': 'all-mpnet-base-v2', 'metric': 'manhattan', 'min_cluster_size': 35, 'min_samples': 9, 'nr_topics': 10}\n"
     ]
    },
    {
     "name": "stderr",
     "output_type": "stream",
     "text": [
      "2025-04-22 17:48:04,473 - BERTopic - WARNING: When you use `pickle` to save/load a BERTopic model,please make sure that the environments in which you saveand load the model are **exactly** the same. The version of BERTopic,its dependencies, and python need to remain the same.\n"
     ]
    },
    {
     "name": "stdout",
     "output_type": "stream",
     "text": [
      "Failed for config: {'embedding_model': 'all-mpnet-base-v2', 'metric': 'manhattan', 'min_cluster_size': 35, 'min_samples': 9, 'nr_topics': 10} — [Errno 28] No space left on device\n",
      "\n",
      "Running: {'embedding_model': 'all-mpnet-base-v2', 'metric': 'manhattan', 'min_cluster_size': 35, 'min_samples': 9, 'nr_topics': 15}\n"
     ]
    },
    {
     "name": "stderr",
     "output_type": "stream",
     "text": [
      "2025-04-22 17:48:09,145 - BERTopic - WARNING: When you use `pickle` to save/load a BERTopic model,please make sure that the environments in which you saveand load the model are **exactly** the same. The version of BERTopic,its dependencies, and python need to remain the same.\n"
     ]
    },
    {
     "name": "stdout",
     "output_type": "stream",
     "text": [
      "Failed for config: {'embedding_model': 'all-mpnet-base-v2', 'metric': 'manhattan', 'min_cluster_size': 35, 'min_samples': 9, 'nr_topics': 15} — [Errno 28] No space left on device\n",
      "\n",
      "Running: {'embedding_model': 'all-mpnet-base-v2', 'metric': 'manhattan', 'min_cluster_size': 35, 'min_samples': 9, 'nr_topics': 20}\n"
     ]
    },
    {
     "name": "stderr",
     "output_type": "stream",
     "text": [
      "2025-04-22 17:48:14,816 - BERTopic - WARNING: When you use `pickle` to save/load a BERTopic model,please make sure that the environments in which you saveand load the model are **exactly** the same. The version of BERTopic,its dependencies, and python need to remain the same.\n"
     ]
    },
    {
     "name": "stdout",
     "output_type": "stream",
     "text": [
      "Failed for config: {'embedding_model': 'all-mpnet-base-v2', 'metric': 'manhattan', 'min_cluster_size': 35, 'min_samples': 9, 'nr_topics': 20} — [Errno 28] No space left on device\n",
      "\n",
      "Running: {'embedding_model': 'all-mpnet-base-v2', 'metric': 'cosine', 'min_cluster_size': 35, 'min_samples': 9, 'nr_topics': 10}\n"
     ]
    },
    {
     "name": "stderr",
     "output_type": "stream",
     "text": [
      "2025-04-22 17:48:18,715 - BERTopic - WARNING: When you use `pickle` to save/load a BERTopic model,please make sure that the environments in which you saveand load the model are **exactly** the same. The version of BERTopic,its dependencies, and python need to remain the same.\n"
     ]
    },
    {
     "name": "stdout",
     "output_type": "stream",
     "text": [
      "Failed for config: {'embedding_model': 'all-mpnet-base-v2', 'metric': 'cosine', 'min_cluster_size': 35, 'min_samples': 9, 'nr_topics': 10} — [Errno 28] No space left on device\n",
      "\n",
      "Running: {'embedding_model': 'all-mpnet-base-v2', 'metric': 'cosine', 'min_cluster_size': 35, 'min_samples': 9, 'nr_topics': 15}\n"
     ]
    },
    {
     "name": "stderr",
     "output_type": "stream",
     "text": [
      "2025-04-22 17:48:23,246 - BERTopic - WARNING: When you use `pickle` to save/load a BERTopic model,please make sure that the environments in which you saveand load the model are **exactly** the same. The version of BERTopic,its dependencies, and python need to remain the same.\n"
     ]
    },
    {
     "name": "stdout",
     "output_type": "stream",
     "text": [
      "Failed for config: {'embedding_model': 'all-mpnet-base-v2', 'metric': 'cosine', 'min_cluster_size': 35, 'min_samples': 9, 'nr_topics': 15} — [Errno 28] No space left on device\n",
      "\n",
      "Running: {'embedding_model': 'all-mpnet-base-v2', 'metric': 'cosine', 'min_cluster_size': 35, 'min_samples': 9, 'nr_topics': 20}\n"
     ]
    },
    {
     "name": "stderr",
     "output_type": "stream",
     "text": [
      "2025-04-22 17:48:30,229 - BERTopic - WARNING: When you use `pickle` to save/load a BERTopic model,please make sure that the environments in which you saveand load the model are **exactly** the same. The version of BERTopic,its dependencies, and python need to remain the same.\n"
     ]
    },
    {
     "name": "stdout",
     "output_type": "stream",
     "text": [
      "Failed for config: {'embedding_model': 'all-mpnet-base-v2', 'metric': 'cosine', 'min_cluster_size': 35, 'min_samples': 9, 'nr_topics': 20} — [Errno 28] No space left on device\n",
      "\n",
      "Running: {'embedding_model': 'all-mpnet-base-v2', 'metric': 'euclidean', 'min_cluster_size': 40, 'min_samples': 5, 'nr_topics': 10}\n"
     ]
    },
    {
     "name": "stderr",
     "output_type": "stream",
     "text": [
      "2025-04-22 17:48:34,958 - BERTopic - WARNING: When you use `pickle` to save/load a BERTopic model,please make sure that the environments in which you saveand load the model are **exactly** the same. The version of BERTopic,its dependencies, and python need to remain the same.\n"
     ]
    },
    {
     "name": "stdout",
     "output_type": "stream",
     "text": [
      "Failed for config: {'embedding_model': 'all-mpnet-base-v2', 'metric': 'euclidean', 'min_cluster_size': 40, 'min_samples': 5, 'nr_topics': 10} — [Errno 28] No space left on device\n",
      "\n",
      "Running: {'embedding_model': 'all-mpnet-base-v2', 'metric': 'euclidean', 'min_cluster_size': 40, 'min_samples': 5, 'nr_topics': 15}\n"
     ]
    },
    {
     "name": "stderr",
     "output_type": "stream",
     "text": [
      "2025-04-22 17:48:39,459 - BERTopic - WARNING: When you use `pickle` to save/load a BERTopic model,please make sure that the environments in which you saveand load the model are **exactly** the same. The version of BERTopic,its dependencies, and python need to remain the same.\n"
     ]
    },
    {
     "name": "stdout",
     "output_type": "stream",
     "text": [
      "Failed for config: {'embedding_model': 'all-mpnet-base-v2', 'metric': 'euclidean', 'min_cluster_size': 40, 'min_samples': 5, 'nr_topics': 15} — [Errno 28] No space left on device\n",
      "\n",
      "Running: {'embedding_model': 'all-mpnet-base-v2', 'metric': 'euclidean', 'min_cluster_size': 40, 'min_samples': 5, 'nr_topics': 20}\n",
      "Failed for config: {'embedding_model': 'all-mpnet-base-v2', 'metric': 'euclidean', 'min_cluster_size': 40, 'min_samples': 5, 'nr_topics': 20} — [Errno 28] No space left on device: '../../data/BERTopic_Hyperparameters/bertopic_grid_log.csv'\n",
      "\n",
      "Running: {'embedding_model': 'all-mpnet-base-v2', 'metric': 'manhattan', 'min_cluster_size': 40, 'min_samples': 5, 'nr_topics': 10}\n",
      "Failed for config: {'embedding_model': 'all-mpnet-base-v2', 'metric': 'manhattan', 'min_cluster_size': 40, 'min_samples': 5, 'nr_topics': 10} — [Errno 28] No space left on device: '../../data/BERTopic_Hyperparameters/bertopic_grid_log.csv'\n",
      "\n",
      "Running: {'embedding_model': 'all-mpnet-base-v2', 'metric': 'manhattan', 'min_cluster_size': 40, 'min_samples': 5, 'nr_topics': 15}\n",
      "Failed for config: {'embedding_model': 'all-mpnet-base-v2', 'metric': 'manhattan', 'min_cluster_size': 40, 'min_samples': 5, 'nr_topics': 15} — [Errno 28] No space left on device: '../../data/BERTopic_Hyperparameters/bertopic_grid_log.csv'\n",
      "\n",
      "Running: {'embedding_model': 'all-mpnet-base-v2', 'metric': 'manhattan', 'min_cluster_size': 40, 'min_samples': 5, 'nr_topics': 20}\n",
      "Failed for config: {'embedding_model': 'all-mpnet-base-v2', 'metric': 'manhattan', 'min_cluster_size': 40, 'min_samples': 5, 'nr_topics': 20} — [Errno 28] No space left on device: '../../data/BERTopic_Hyperparameters/bertopic_grid_log.csv'\n",
      "\n",
      "Running: {'embedding_model': 'all-mpnet-base-v2', 'metric': 'cosine', 'min_cluster_size': 40, 'min_samples': 5, 'nr_topics': 10}\n",
      "Failed for config: {'embedding_model': 'all-mpnet-base-v2', 'metric': 'cosine', 'min_cluster_size': 40, 'min_samples': 5, 'nr_topics': 10} — [Errno 28] No space left on device: '../../data/BERTopic_Hyperparameters/bertopic_grid_log.csv'\n",
      "\n",
      "Running: {'embedding_model': 'all-mpnet-base-v2', 'metric': 'cosine', 'min_cluster_size': 40, 'min_samples': 5, 'nr_topics': 15}\n"
     ]
    },
    {
     "name": "stderr",
     "output_type": "stream",
     "text": [
      "2025-04-22 17:49:06,177 - BERTopic - WARNING: When you use `pickle` to save/load a BERTopic model,please make sure that the environments in which you saveand load the model are **exactly** the same. The version of BERTopic,its dependencies, and python need to remain the same.\n"
     ]
    },
    {
     "name": "stdout",
     "output_type": "stream",
     "text": [
      "Done | Topics: 14, Outliers: 4770 (41.6%) | Time: 4.51s\n",
      "\n",
      "Running: {'embedding_model': 'all-mpnet-base-v2', 'metric': 'cosine', 'min_cluster_size': 40, 'min_samples': 5, 'nr_topics': 20}\n"
     ]
    },
    {
     "name": "stderr",
     "output_type": "stream",
     "text": [
      "2025-04-22 17:49:11,903 - BERTopic - WARNING: When you use `pickle` to save/load a BERTopic model,please make sure that the environments in which you saveand load the model are **exactly** the same. The version of BERTopic,its dependencies, and python need to remain the same.\n"
     ]
    },
    {
     "name": "stdout",
     "output_type": "stream",
     "text": [
      "Failed for config: {'embedding_model': 'all-mpnet-base-v2', 'metric': 'cosine', 'min_cluster_size': 40, 'min_samples': 5, 'nr_topics': 20} — [Errno 28] No space left on device\n",
      "\n",
      "Running: {'embedding_model': 'all-mpnet-base-v2', 'metric': 'euclidean', 'min_cluster_size': 40, 'min_samples': 7, 'nr_topics': 10}\n"
     ]
    },
    {
     "name": "stderr",
     "output_type": "stream",
     "text": [
      "2025-04-22 17:49:18,366 - BERTopic - WARNING: When you use `pickle` to save/load a BERTopic model,please make sure that the environments in which you saveand load the model are **exactly** the same. The version of BERTopic,its dependencies, and python need to remain the same.\n"
     ]
    },
    {
     "name": "stdout",
     "output_type": "stream",
     "text": [
      "Failed for config: {'embedding_model': 'all-mpnet-base-v2', 'metric': 'euclidean', 'min_cluster_size': 40, 'min_samples': 7, 'nr_topics': 10} — [Errno 28] No space left on device\n",
      "\n",
      "Running: {'embedding_model': 'all-mpnet-base-v2', 'metric': 'euclidean', 'min_cluster_size': 40, 'min_samples': 7, 'nr_topics': 15}\n"
     ]
    },
    {
     "name": "stderr",
     "output_type": "stream",
     "text": [
      "2025-04-22 17:49:23,329 - BERTopic - WARNING: When you use `pickle` to save/load a BERTopic model,please make sure that the environments in which you saveand load the model are **exactly** the same. The version of BERTopic,its dependencies, and python need to remain the same.\n"
     ]
    },
    {
     "name": "stdout",
     "output_type": "stream",
     "text": [
      "Failed for config: {'embedding_model': 'all-mpnet-base-v2', 'metric': 'euclidean', 'min_cluster_size': 40, 'min_samples': 7, 'nr_topics': 15} — [Errno 28] No space left on device\n",
      "\n",
      "Running: {'embedding_model': 'all-mpnet-base-v2', 'metric': 'euclidean', 'min_cluster_size': 40, 'min_samples': 7, 'nr_topics': 20}\n"
     ]
    },
    {
     "name": "stderr",
     "output_type": "stream",
     "text": [
      "2025-04-22 17:49:27,793 - BERTopic - WARNING: When you use `pickle` to save/load a BERTopic model,please make sure that the environments in which you saveand load the model are **exactly** the same. The version of BERTopic,its dependencies, and python need to remain the same.\n"
     ]
    },
    {
     "name": "stdout",
     "output_type": "stream",
     "text": [
      "Failed for config: {'embedding_model': 'all-mpnet-base-v2', 'metric': 'euclidean', 'min_cluster_size': 40, 'min_samples': 7, 'nr_topics': 20} — [Errno 28] No space left on device\n",
      "\n",
      "Running: {'embedding_model': 'all-mpnet-base-v2', 'metric': 'manhattan', 'min_cluster_size': 40, 'min_samples': 7, 'nr_topics': 10}\n",
      "Failed for config: {'embedding_model': 'all-mpnet-base-v2', 'metric': 'manhattan', 'min_cluster_size': 40, 'min_samples': 7, 'nr_topics': 10} — [Errno 28] No space left on device: '../../data/BERTopic_Hyperparameters/bertopic_grid_log.csv'\n",
      "\n",
      "Running: {'embedding_model': 'all-mpnet-base-v2', 'metric': 'manhattan', 'min_cluster_size': 40, 'min_samples': 7, 'nr_topics': 15}\n",
      "Failed for config: {'embedding_model': 'all-mpnet-base-v2', 'metric': 'manhattan', 'min_cluster_size': 40, 'min_samples': 7, 'nr_topics': 15} — [Errno 28] No space left on device: '../../data/BERTopic_Hyperparameters/bertopic_grid_log.csv'\n",
      "\n",
      "Running: {'embedding_model': 'all-mpnet-base-v2', 'metric': 'manhattan', 'min_cluster_size': 40, 'min_samples': 7, 'nr_topics': 20}\n",
      "Failed for config: {'embedding_model': 'all-mpnet-base-v2', 'metric': 'manhattan', 'min_cluster_size': 40, 'min_samples': 7, 'nr_topics': 20} — [Errno 28] No space left on device: '../../data/BERTopic_Hyperparameters/bertopic_grid_log.csv'\n",
      "\n",
      "Running: {'embedding_model': 'all-mpnet-base-v2', 'metric': 'cosine', 'min_cluster_size': 40, 'min_samples': 7, 'nr_topics': 10}\n"
     ]
    },
    {
     "name": "stderr",
     "output_type": "stream",
     "text": [
      "2025-04-22 17:49:45,309 - BERTopic - WARNING: When you use `pickle` to save/load a BERTopic model,please make sure that the environments in which you saveand load the model are **exactly** the same. The version of BERTopic,its dependencies, and python need to remain the same.\n"
     ]
    },
    {
     "name": "stdout",
     "output_type": "stream",
     "text": [
      "Failed for config: {'embedding_model': 'all-mpnet-base-v2', 'metric': 'cosine', 'min_cluster_size': 40, 'min_samples': 7, 'nr_topics': 10} — [Errno 28] No space left on device\n",
      "\n",
      "Running: {'embedding_model': 'all-mpnet-base-v2', 'metric': 'cosine', 'min_cluster_size': 40, 'min_samples': 7, 'nr_topics': 15}\n"
     ]
    },
    {
     "name": "stderr",
     "output_type": "stream",
     "text": [
      "2025-04-22 17:49:51,336 - BERTopic - WARNING: When you use `pickle` to save/load a BERTopic model,please make sure that the environments in which you saveand load the model are **exactly** the same. The version of BERTopic,its dependencies, and python need to remain the same.\n"
     ]
    },
    {
     "name": "stdout",
     "output_type": "stream",
     "text": [
      "Failed for config: {'embedding_model': 'all-mpnet-base-v2', 'metric': 'cosine', 'min_cluster_size': 40, 'min_samples': 7, 'nr_topics': 15} — [Errno 28] No space left on device\n",
      "\n",
      "Running: {'embedding_model': 'all-mpnet-base-v2', 'metric': 'cosine', 'min_cluster_size': 40, 'min_samples': 7, 'nr_topics': 20}\n"
     ]
    },
    {
     "name": "stderr",
     "output_type": "stream",
     "text": [
      "2025-04-22 17:49:55,499 - BERTopic - WARNING: When you use `pickle` to save/load a BERTopic model,please make sure that the environments in which you saveand load the model are **exactly** the same. The version of BERTopic,its dependencies, and python need to remain the same.\n"
     ]
    },
    {
     "name": "stdout",
     "output_type": "stream",
     "text": [
      "Failed for config: {'embedding_model': 'all-mpnet-base-v2', 'metric': 'cosine', 'min_cluster_size': 40, 'min_samples': 7, 'nr_topics': 20} — [Errno 28] No space left on device\n",
      "\n",
      "Running: {'embedding_model': 'all-mpnet-base-v2', 'metric': 'euclidean', 'min_cluster_size': 40, 'min_samples': 9, 'nr_topics': 10}\n"
     ]
    },
    {
     "name": "stderr",
     "output_type": "stream",
     "text": [
      "2025-04-22 17:49:59,557 - BERTopic - WARNING: When you use `pickle` to save/load a BERTopic model,please make sure that the environments in which you saveand load the model are **exactly** the same. The version of BERTopic,its dependencies, and python need to remain the same.\n"
     ]
    },
    {
     "name": "stdout",
     "output_type": "stream",
     "text": [
      "Failed for config: {'embedding_model': 'all-mpnet-base-v2', 'metric': 'euclidean', 'min_cluster_size': 40, 'min_samples': 9, 'nr_topics': 10} — [Errno 28] No space left on device\n",
      "\n",
      "Running: {'embedding_model': 'all-mpnet-base-v2', 'metric': 'euclidean', 'min_cluster_size': 40, 'min_samples': 9, 'nr_topics': 15}\n"
     ]
    },
    {
     "name": "stderr",
     "output_type": "stream",
     "text": [
      "2025-04-22 17:50:04,521 - BERTopic - WARNING: When you use `pickle` to save/load a BERTopic model,please make sure that the environments in which you saveand load the model are **exactly** the same. The version of BERTopic,its dependencies, and python need to remain the same.\n"
     ]
    },
    {
     "name": "stdout",
     "output_type": "stream",
     "text": [
      "Failed for config: {'embedding_model': 'all-mpnet-base-v2', 'metric': 'euclidean', 'min_cluster_size': 40, 'min_samples': 9, 'nr_topics': 15} — [Errno 28] No space left on device\n",
      "\n",
      "Running: {'embedding_model': 'all-mpnet-base-v2', 'metric': 'euclidean', 'min_cluster_size': 40, 'min_samples': 9, 'nr_topics': 20}\n"
     ]
    },
    {
     "name": "stderr",
     "output_type": "stream",
     "text": [
      "2025-04-22 17:50:09,079 - BERTopic - WARNING: When you use `pickle` to save/load a BERTopic model,please make sure that the environments in which you saveand load the model are **exactly** the same. The version of BERTopic,its dependencies, and python need to remain the same.\n"
     ]
    },
    {
     "name": "stdout",
     "output_type": "stream",
     "text": [
      "Failed for config: {'embedding_model': 'all-mpnet-base-v2', 'metric': 'euclidean', 'min_cluster_size': 40, 'min_samples': 9, 'nr_topics': 20} — [Errno 28] No space left on device\n",
      "\n",
      "Running: {'embedding_model': 'all-mpnet-base-v2', 'metric': 'manhattan', 'min_cluster_size': 40, 'min_samples': 9, 'nr_topics': 10}\n"
     ]
    },
    {
     "name": "stderr",
     "output_type": "stream",
     "text": [
      "2025-04-22 17:50:13,732 - BERTopic - WARNING: When you use `pickle` to save/load a BERTopic model,please make sure that the environments in which you saveand load the model are **exactly** the same. The version of BERTopic,its dependencies, and python need to remain the same.\n"
     ]
    },
    {
     "name": "stdout",
     "output_type": "stream",
     "text": [
      "Failed for config: {'embedding_model': 'all-mpnet-base-v2', 'metric': 'manhattan', 'min_cluster_size': 40, 'min_samples': 9, 'nr_topics': 10} — [Errno 28] No space left on device\n",
      "\n",
      "Running: {'embedding_model': 'all-mpnet-base-v2', 'metric': 'manhattan', 'min_cluster_size': 40, 'min_samples': 9, 'nr_topics': 15}\n",
      "Failed for config: {'embedding_model': 'all-mpnet-base-v2', 'metric': 'manhattan', 'min_cluster_size': 40, 'min_samples': 9, 'nr_topics': 15} — [Errno 28] No space left on device: '../../data/BERTopic_Hyperparameters/bertopic_grid_log.csv'\n",
      "\n",
      "Running: {'embedding_model': 'all-mpnet-base-v2', 'metric': 'manhattan', 'min_cluster_size': 40, 'min_samples': 9, 'nr_topics': 20}\n",
      "Failed for config: {'embedding_model': 'all-mpnet-base-v2', 'metric': 'manhattan', 'min_cluster_size': 40, 'min_samples': 9, 'nr_topics': 20} — [Errno 28] No space left on device: '../../data/BERTopic_Hyperparameters/bertopic_grid_log.csv'\n",
      "\n",
      "Running: {'embedding_model': 'all-mpnet-base-v2', 'metric': 'cosine', 'min_cluster_size': 40, 'min_samples': 9, 'nr_topics': 10}\n",
      "Failed for config: {'embedding_model': 'all-mpnet-base-v2', 'metric': 'cosine', 'min_cluster_size': 40, 'min_samples': 9, 'nr_topics': 10} — [Errno 28] No space left on device: '../../data/BERTopic_Hyperparameters/bertopic_grid_log.csv'\n",
      "\n",
      "Running: {'embedding_model': 'all-mpnet-base-v2', 'metric': 'cosine', 'min_cluster_size': 40, 'min_samples': 9, 'nr_topics': 15}\n",
      "Failed for config: {'embedding_model': 'all-mpnet-base-v2', 'metric': 'cosine', 'min_cluster_size': 40, 'min_samples': 9, 'nr_topics': 15} — [Errno 28] No space left on device: '../../data/BERTopic_Hyperparameters/bertopic_grid_log.csv'\n",
      "\n",
      "Running: {'embedding_model': 'all-mpnet-base-v2', 'metric': 'cosine', 'min_cluster_size': 40, 'min_samples': 9, 'nr_topics': 20}\n"
     ]
    },
    {
     "name": "stderr",
     "output_type": "stream",
     "text": [
      "2025-04-22 17:50:34,410 - BERTopic - WARNING: When you use `pickle` to save/load a BERTopic model,please make sure that the environments in which you saveand load the model are **exactly** the same. The version of BERTopic,its dependencies, and python need to remain the same.\n"
     ]
    },
    {
     "name": "stdout",
     "output_type": "stream",
     "text": [
      "Done | Topics: 7, Outliers: 166 (1.45%) | Time: 4.45s\n",
      "\n",
      "Running: {'embedding_model': 'all-mpnet-base-v2', 'metric': 'euclidean', 'min_cluster_size': 45, 'min_samples': 5, 'nr_topics': 10}\n"
     ]
    },
    {
     "name": "stderr",
     "output_type": "stream",
     "text": [
      "2025-04-22 17:50:40,579 - BERTopic - WARNING: When you use `pickle` to save/load a BERTopic model,please make sure that the environments in which you saveand load the model are **exactly** the same. The version of BERTopic,its dependencies, and python need to remain the same.\n"
     ]
    },
    {
     "name": "stdout",
     "output_type": "stream",
     "text": [
      "Done | Topics: 6, Outliers: 243 (2.12%) | Time: 4.82s\n",
      "\n",
      "Running: {'embedding_model': 'all-mpnet-base-v2', 'metric': 'euclidean', 'min_cluster_size': 45, 'min_samples': 5, 'nr_topics': 15}\n"
     ]
    },
    {
     "name": "stderr",
     "output_type": "stream",
     "text": [
      "2025-04-22 17:50:46,460 - BERTopic - WARNING: When you use `pickle` to save/load a BERTopic model,please make sure that the environments in which you saveand load the model are **exactly** the same. The version of BERTopic,its dependencies, and python need to remain the same.\n"
     ]
    },
    {
     "name": "stdout",
     "output_type": "stream",
     "text": [
      "Failed for config: {'embedding_model': 'all-mpnet-base-v2', 'metric': 'euclidean', 'min_cluster_size': 45, 'min_samples': 5, 'nr_topics': 15} — [Errno 28] No space left on device\n",
      "\n",
      "Running: {'embedding_model': 'all-mpnet-base-v2', 'metric': 'euclidean', 'min_cluster_size': 45, 'min_samples': 5, 'nr_topics': 20}\n"
     ]
    },
    {
     "name": "stderr",
     "output_type": "stream",
     "text": [
      "2025-04-22 17:50:53,308 - BERTopic - WARNING: When you use `pickle` to save/load a BERTopic model,please make sure that the environments in which you saveand load the model are **exactly** the same. The version of BERTopic,its dependencies, and python need to remain the same.\n"
     ]
    },
    {
     "name": "stdout",
     "output_type": "stream",
     "text": [
      "Failed for config: {'embedding_model': 'all-mpnet-base-v2', 'metric': 'euclidean', 'min_cluster_size': 45, 'min_samples': 5, 'nr_topics': 20} — [Errno 28] No space left on device\n",
      "\n",
      "Running: {'embedding_model': 'all-mpnet-base-v2', 'metric': 'manhattan', 'min_cluster_size': 45, 'min_samples': 5, 'nr_topics': 10}\n"
     ]
    },
    {
     "name": "stderr",
     "output_type": "stream",
     "text": [
      "2025-04-22 17:50:58,278 - BERTopic - WARNING: When you use `pickle` to save/load a BERTopic model,please make sure that the environments in which you saveand load the model are **exactly** the same. The version of BERTopic,its dependencies, and python need to remain the same.\n"
     ]
    },
    {
     "name": "stdout",
     "output_type": "stream",
     "text": [
      "Failed for config: {'embedding_model': 'all-mpnet-base-v2', 'metric': 'manhattan', 'min_cluster_size': 45, 'min_samples': 5, 'nr_topics': 10} — [Errno 28] No space left on device\n",
      "\n",
      "Running: {'embedding_model': 'all-mpnet-base-v2', 'metric': 'manhattan', 'min_cluster_size': 45, 'min_samples': 5, 'nr_topics': 15}\n"
     ]
    },
    {
     "name": "stderr",
     "output_type": "stream",
     "text": [
      "2025-04-22 17:51:03,953 - BERTopic - WARNING: When you use `pickle` to save/load a BERTopic model,please make sure that the environments in which you saveand load the model are **exactly** the same. The version of BERTopic,its dependencies, and python need to remain the same.\n"
     ]
    },
    {
     "name": "stdout",
     "output_type": "stream",
     "text": [
      "Failed for config: {'embedding_model': 'all-mpnet-base-v2', 'metric': 'manhattan', 'min_cluster_size': 45, 'min_samples': 5, 'nr_topics': 15} — [Errno 28] No space left on device\n",
      "\n",
      "Running: {'embedding_model': 'all-mpnet-base-v2', 'metric': 'manhattan', 'min_cluster_size': 45, 'min_samples': 5, 'nr_topics': 20}\n"
     ]
    },
    {
     "name": "stderr",
     "output_type": "stream",
     "text": [
      "2025-04-22 17:51:08,910 - BERTopic - WARNING: When you use `pickle` to save/load a BERTopic model,please make sure that the environments in which you saveand load the model are **exactly** the same. The version of BERTopic,its dependencies, and python need to remain the same.\n"
     ]
    },
    {
     "name": "stdout",
     "output_type": "stream",
     "text": [
      "Failed for config: {'embedding_model': 'all-mpnet-base-v2', 'metric': 'manhattan', 'min_cluster_size': 45, 'min_samples': 5, 'nr_topics': 20} — [Errno 28] No space left on device\n",
      "\n",
      "Running: {'embedding_model': 'all-mpnet-base-v2', 'metric': 'cosine', 'min_cluster_size': 45, 'min_samples': 5, 'nr_topics': 10}\n",
      "Failed for config: {'embedding_model': 'all-mpnet-base-v2', 'metric': 'cosine', 'min_cluster_size': 45, 'min_samples': 5, 'nr_topics': 10} — [Errno 28] No space left on device: '../../data/BERTopic_Hyperparameters/bertopic_grid_log.csv'\n",
      "\n",
      "Running: {'embedding_model': 'all-mpnet-base-v2', 'metric': 'cosine', 'min_cluster_size': 45, 'min_samples': 5, 'nr_topics': 15}\n"
     ]
    },
    {
     "ename": "KeyboardInterrupt",
     "evalue": "",
     "output_type": "error",
     "traceback": [
      "\u001b[0;31m---------------------------------------------------------------------------\u001b[0m",
      "\u001b[0;31mKeyboardInterrupt\u001b[0m                         Traceback (most recent call last)",
      "Cell \u001b[0;32mIn[44], line 93\u001b[0m\n\u001b[1;32m     84\u001b[0m topic_model \u001b[39m=\u001b[39m BERTopic(\n\u001b[1;32m     85\u001b[0m     hdbscan_model\u001b[39m=\u001b[39mhdbscan_model,\n\u001b[1;32m     86\u001b[0m     language\u001b[39m=\u001b[39m\u001b[39m\"\u001b[39m\u001b[39menglish\u001b[39m\u001b[39m\"\u001b[39m,\n\u001b[0;32m   (...)\u001b[0m\n\u001b[1;32m     89\u001b[0m     low_memory\u001b[39m=\u001b[39m\u001b[39mTrue\u001b[39;00m                                  \u001b[39m# OBS: Remove if we want to train on new docs/entries and need .transform()!!!\u001b[39;00m\n\u001b[1;32m     90\u001b[0m )\n\u001b[1;32m     92\u001b[0m \u001b[39mtry\u001b[39;00m:\n\u001b[0;32m---> 93\u001b[0m     topics, _ \u001b[39m=\u001b[39m topic_model\u001b[39m.\u001b[39;49mfit_transform(texts_to_embed, embeddings_used)\n\u001b[1;32m     95\u001b[0m     \u001b[39mif\u001b[39;00m nr_topics:\n\u001b[1;32m     96\u001b[0m         topic_model\u001b[39m.\u001b[39mreduce_topics(texts_to_embed, nr_topics\u001b[39m=\u001b[39mnr_topics)\n",
      "File \u001b[0;32m~/Library/Python/3.9/lib/python/site-packages/bertopic/_bertopic.py:472\u001b[0m, in \u001b[0;36mBERTopic.fit_transform\u001b[0;34m(self, documents, embeddings, images, y)\u001b[0m\n\u001b[1;32m    469\u001b[0m     y, embeddings \u001b[39m=\u001b[39m \u001b[39mself\u001b[39m\u001b[39m.\u001b[39m_guided_topic_modeling(embeddings)\n\u001b[1;32m    471\u001b[0m \u001b[39m# Reduce dimensionality and fit UMAP model\u001b[39;00m\n\u001b[0;32m--> 472\u001b[0m umap_embeddings \u001b[39m=\u001b[39m \u001b[39mself\u001b[39;49m\u001b[39m.\u001b[39;49m_reduce_dimensionality(embeddings, y)\n\u001b[1;32m    474\u001b[0m \u001b[39m# Zero-shot Topic Modeling\u001b[39;00m\n\u001b[1;32m    475\u001b[0m \u001b[39mif\u001b[39;00m \u001b[39mself\u001b[39m\u001b[39m.\u001b[39m_is_zeroshot():\n",
      "File \u001b[0;32m~/Library/Python/3.9/lib/python/site-packages/bertopic/_bertopic.py:3776\u001b[0m, in \u001b[0;36mBERTopic._reduce_dimensionality\u001b[0;34m(self, embeddings, y, partial_fit)\u001b[0m\n\u001b[1;32m   3773\u001b[0m \u001b[39mtry\u001b[39;00m:\n\u001b[1;32m   3774\u001b[0m     \u001b[39m# cuml umap needs y to be an numpy array\u001b[39;00m\n\u001b[1;32m   3775\u001b[0m     y \u001b[39m=\u001b[39m np\u001b[39m.\u001b[39marray(y) \u001b[39mif\u001b[39;00m y \u001b[39mis\u001b[39;00m \u001b[39mnot\u001b[39;00m \u001b[39mNone\u001b[39;00m \u001b[39melse\u001b[39;00m \u001b[39mNone\u001b[39;00m\n\u001b[0;32m-> 3776\u001b[0m     \u001b[39mself\u001b[39;49m\u001b[39m.\u001b[39;49mumap_model\u001b[39m.\u001b[39;49mfit(embeddings, y\u001b[39m=\u001b[39;49my)\n\u001b[1;32m   3777\u001b[0m \u001b[39mexcept\u001b[39;00m \u001b[39mTypeError\u001b[39;00m:\n\u001b[1;32m   3778\u001b[0m     \u001b[39mself\u001b[39m\u001b[39m.\u001b[39mumap_model\u001b[39m.\u001b[39mfit(embeddings)\n",
      "File \u001b[0;32m~/Library/Python/3.9/lib/python/site-packages/umap/umap_.py:2817\u001b[0m, in \u001b[0;36mUMAP.fit\u001b[0;34m(self, X, y, force_all_finite, **kwargs)\u001b[0m\n\u001b[1;32m   2813\u001b[0m \u001b[39mif\u001b[39;00m \u001b[39mself\u001b[39m\u001b[39m.\u001b[39mtransform_mode \u001b[39m==\u001b[39m \u001b[39m\"\u001b[39m\u001b[39membedding\u001b[39m\u001b[39m\"\u001b[39m:\n\u001b[1;32m   2814\u001b[0m     epochs \u001b[39m=\u001b[39m (\n\u001b[1;32m   2815\u001b[0m         \u001b[39mself\u001b[39m\u001b[39m.\u001b[39mn_epochs_list \u001b[39mif\u001b[39;00m \u001b[39mself\u001b[39m\u001b[39m.\u001b[39mn_epochs_list \u001b[39mis\u001b[39;00m \u001b[39mnot\u001b[39;00m \u001b[39mNone\u001b[39;00m \u001b[39melse\u001b[39;00m \u001b[39mself\u001b[39m\u001b[39m.\u001b[39mn_epochs\n\u001b[1;32m   2816\u001b[0m     )\n\u001b[0;32m-> 2817\u001b[0m     \u001b[39mself\u001b[39m\u001b[39m.\u001b[39membedding_, aux_data \u001b[39m=\u001b[39m \u001b[39mself\u001b[39;49m\u001b[39m.\u001b[39;49m_fit_embed_data(\n\u001b[1;32m   2818\u001b[0m         \u001b[39mself\u001b[39;49m\u001b[39m.\u001b[39;49m_raw_data[index],\n\u001b[1;32m   2819\u001b[0m         epochs,\n\u001b[1;32m   2820\u001b[0m         init,\n\u001b[1;32m   2821\u001b[0m         random_state,  \u001b[39m# JH why raw data?\u001b[39;49;00m\n\u001b[1;32m   2822\u001b[0m         \u001b[39m*\u001b[39;49m\u001b[39m*\u001b[39;49mkwargs,\n\u001b[1;32m   2823\u001b[0m     )\n\u001b[1;32m   2825\u001b[0m     \u001b[39mif\u001b[39;00m \u001b[39mself\u001b[39m\u001b[39m.\u001b[39mn_epochs_list \u001b[39mis\u001b[39;00m \u001b[39mnot\u001b[39;00m \u001b[39mNone\u001b[39;00m:\n\u001b[1;32m   2826\u001b[0m         \u001b[39mif\u001b[39;00m \u001b[39m\"\u001b[39m\u001b[39membedding_list\u001b[39m\u001b[39m\"\u001b[39m \u001b[39mnot\u001b[39;00m \u001b[39min\u001b[39;00m aux_data:\n",
      "File \u001b[0;32m~/Library/Python/3.9/lib/python/site-packages/umap/umap_.py:2865\u001b[0m, in \u001b[0;36mUMAP._fit_embed_data\u001b[0;34m(self, X, n_epochs, init, random_state, **kwargs)\u001b[0m\n\u001b[1;32m   2860\u001b[0m \u001b[39mdef\u001b[39;00m \u001b[39m_fit_embed_data\u001b[39m(\u001b[39mself\u001b[39m, X, n_epochs, init, random_state, \u001b[39m*\u001b[39m\u001b[39m*\u001b[39mkwargs):\n\u001b[1;32m   2861\u001b[0m \u001b[39m    \u001b[39m\u001b[39m\"\"\"A method wrapper for simplicial_set_embedding that can be\u001b[39;00m\n\u001b[1;32m   2862\u001b[0m \u001b[39m    replaced by subclasses. Arbitrary keyword arguments can be passed\u001b[39;00m\n\u001b[1;32m   2863\u001b[0m \u001b[39m    through .fit() and .fit_transform().\u001b[39;00m\n\u001b[1;32m   2864\u001b[0m \u001b[39m    \"\"\"\u001b[39;00m\n\u001b[0;32m-> 2865\u001b[0m     \u001b[39mreturn\u001b[39;00m simplicial_set_embedding(\n\u001b[1;32m   2866\u001b[0m         X,\n\u001b[1;32m   2867\u001b[0m         \u001b[39mself\u001b[39;49m\u001b[39m.\u001b[39;49mgraph_,\n\u001b[1;32m   2868\u001b[0m         \u001b[39mself\u001b[39;49m\u001b[39m.\u001b[39;49mn_components,\n\u001b[1;32m   2869\u001b[0m         \u001b[39mself\u001b[39;49m\u001b[39m.\u001b[39;49m_initial_alpha,\n\u001b[1;32m   2870\u001b[0m         \u001b[39mself\u001b[39;49m\u001b[39m.\u001b[39;49m_a,\n\u001b[1;32m   2871\u001b[0m         \u001b[39mself\u001b[39;49m\u001b[39m.\u001b[39;49m_b,\n\u001b[1;32m   2872\u001b[0m         \u001b[39mself\u001b[39;49m\u001b[39m.\u001b[39;49mrepulsion_strength,\n\u001b[1;32m   2873\u001b[0m         \u001b[39mself\u001b[39;49m\u001b[39m.\u001b[39;49mnegative_sample_rate,\n\u001b[1;32m   2874\u001b[0m         n_epochs,\n\u001b[1;32m   2875\u001b[0m         init,\n\u001b[1;32m   2876\u001b[0m         random_state,\n\u001b[1;32m   2877\u001b[0m         \u001b[39mself\u001b[39;49m\u001b[39m.\u001b[39;49m_input_distance_func,\n\u001b[1;32m   2878\u001b[0m         \u001b[39mself\u001b[39;49m\u001b[39m.\u001b[39;49m_metric_kwds,\n\u001b[1;32m   2879\u001b[0m         \u001b[39mself\u001b[39;49m\u001b[39m.\u001b[39;49mdensmap,\n\u001b[1;32m   2880\u001b[0m         \u001b[39mself\u001b[39;49m\u001b[39m.\u001b[39;49m_densmap_kwds,\n\u001b[1;32m   2881\u001b[0m         \u001b[39mself\u001b[39;49m\u001b[39m.\u001b[39;49moutput_dens,\n\u001b[1;32m   2882\u001b[0m         \u001b[39mself\u001b[39;49m\u001b[39m.\u001b[39;49m_output_distance_func,\n\u001b[1;32m   2883\u001b[0m         \u001b[39mself\u001b[39;49m\u001b[39m.\u001b[39;49m_output_metric_kwds,\n\u001b[1;32m   2884\u001b[0m         \u001b[39mself\u001b[39;49m\u001b[39m.\u001b[39;49moutput_metric \u001b[39min\u001b[39;49;00m (\u001b[39m\"\u001b[39;49m\u001b[39meuclidean\u001b[39;49m\u001b[39m\"\u001b[39;49m, \u001b[39m\"\u001b[39;49m\u001b[39ml2\u001b[39;49m\u001b[39m\"\u001b[39;49m),\n\u001b[1;32m   2885\u001b[0m         \u001b[39mself\u001b[39;49m\u001b[39m.\u001b[39;49mrandom_state \u001b[39mis\u001b[39;49;00m \u001b[39mNone\u001b[39;49;00m,\n\u001b[1;32m   2886\u001b[0m         \u001b[39mself\u001b[39;49m\u001b[39m.\u001b[39;49mverbose,\n\u001b[1;32m   2887\u001b[0m         tqdm_kwds\u001b[39m=\u001b[39;49m\u001b[39mself\u001b[39;49m\u001b[39m.\u001b[39;49mtqdm_kwds,\n\u001b[1;32m   2888\u001b[0m     )\n",
      "File \u001b[0;32m~/Library/Python/3.9/lib/python/site-packages/umap/umap_.py:1195\u001b[0m, in \u001b[0;36msimplicial_set_embedding\u001b[0;34m(data, graph, n_components, initial_alpha, a, b, gamma, negative_sample_rate, n_epochs, init, random_state, metric, metric_kwds, densmap, densmap_kwds, output_dens, output_metric, output_metric_kwds, euclidean_output, parallel, verbose, tqdm_kwds)\u001b[0m\n\u001b[1;32m   1188\u001b[0m embedding \u001b[39m=\u001b[39m (\n\u001b[1;32m   1189\u001b[0m     \u001b[39m10.0\u001b[39m\n\u001b[1;32m   1190\u001b[0m     \u001b[39m*\u001b[39m (embedding \u001b[39m-\u001b[39m np\u001b[39m.\u001b[39mmin(embedding, \u001b[39m0\u001b[39m))\n\u001b[1;32m   1191\u001b[0m     \u001b[39m/\u001b[39m (np\u001b[39m.\u001b[39mmax(embedding, \u001b[39m0\u001b[39m) \u001b[39m-\u001b[39m np\u001b[39m.\u001b[39mmin(embedding, \u001b[39m0\u001b[39m))\n\u001b[1;32m   1192\u001b[0m )\u001b[39m.\u001b[39mastype(np\u001b[39m.\u001b[39mfloat32, order\u001b[39m=\u001b[39m\u001b[39m\"\u001b[39m\u001b[39mC\u001b[39m\u001b[39m\"\u001b[39m)\n\u001b[1;32m   1194\u001b[0m \u001b[39mif\u001b[39;00m euclidean_output:\n\u001b[0;32m-> 1195\u001b[0m     embedding \u001b[39m=\u001b[39m optimize_layout_euclidean(\n\u001b[1;32m   1196\u001b[0m         embedding,\n\u001b[1;32m   1197\u001b[0m         embedding,\n\u001b[1;32m   1198\u001b[0m         head,\n\u001b[1;32m   1199\u001b[0m         tail,\n\u001b[1;32m   1200\u001b[0m         n_epochs,\n\u001b[1;32m   1201\u001b[0m         n_vertices,\n\u001b[1;32m   1202\u001b[0m         epochs_per_sample,\n\u001b[1;32m   1203\u001b[0m         a,\n\u001b[1;32m   1204\u001b[0m         b,\n\u001b[1;32m   1205\u001b[0m         rng_state,\n\u001b[1;32m   1206\u001b[0m         gamma,\n\u001b[1;32m   1207\u001b[0m         initial_alpha,\n\u001b[1;32m   1208\u001b[0m         negative_sample_rate,\n\u001b[1;32m   1209\u001b[0m         parallel\u001b[39m=\u001b[39;49mparallel,\n\u001b[1;32m   1210\u001b[0m         verbose\u001b[39m=\u001b[39;49mverbose,\n\u001b[1;32m   1211\u001b[0m         densmap\u001b[39m=\u001b[39;49mdensmap,\n\u001b[1;32m   1212\u001b[0m         densmap_kwds\u001b[39m=\u001b[39;49mdensmap_kwds,\n\u001b[1;32m   1213\u001b[0m         tqdm_kwds\u001b[39m=\u001b[39;49mtqdm_kwds,\n\u001b[1;32m   1214\u001b[0m         move_other\u001b[39m=\u001b[39;49m\u001b[39mTrue\u001b[39;49;00m,\n\u001b[1;32m   1215\u001b[0m     )\n\u001b[1;32m   1216\u001b[0m \u001b[39melse\u001b[39;00m:\n\u001b[1;32m   1217\u001b[0m     embedding \u001b[39m=\u001b[39m optimize_layout_generic(\n\u001b[1;32m   1218\u001b[0m         embedding,\n\u001b[1;32m   1219\u001b[0m         embedding,\n\u001b[0;32m   (...)\u001b[0m\n\u001b[1;32m   1235\u001b[0m         move_other\u001b[39m=\u001b[39m\u001b[39mTrue\u001b[39;00m,\n\u001b[1;32m   1236\u001b[0m     )\n",
      "File \u001b[0;32m~/Library/Python/3.9/lib/python/site-packages/umap/layouts.py:401\u001b[0m, in \u001b[0;36moptimize_layout_euclidean\u001b[0;34m(head_embedding, tail_embedding, head, tail, n_epochs, n_vertices, epochs_per_sample, a, b, rng_state, gamma, initial_alpha, negative_sample_rate, parallel, verbose, densmap, densmap_kwds, tqdm_kwds, move_other)\u001b[0m\n\u001b[1;32m    398\u001b[0m     dens_re_mean \u001b[39m=\u001b[39m \u001b[39m0\u001b[39m\n\u001b[1;32m    399\u001b[0m     dens_re_cov \u001b[39m=\u001b[39m \u001b[39m0\u001b[39m\n\u001b[0;32m--> 401\u001b[0m optimize_fn(\n\u001b[1;32m    402\u001b[0m     head_embedding,\n\u001b[1;32m    403\u001b[0m     tail_embedding,\n\u001b[1;32m    404\u001b[0m     head,\n\u001b[1;32m    405\u001b[0m     tail,\n\u001b[1;32m    406\u001b[0m     n_vertices,\n\u001b[1;32m    407\u001b[0m     epochs_per_sample,\n\u001b[1;32m    408\u001b[0m     a,\n\u001b[1;32m    409\u001b[0m     b,\n\u001b[1;32m    410\u001b[0m     rng_state_per_sample,\n\u001b[1;32m    411\u001b[0m     gamma,\n\u001b[1;32m    412\u001b[0m     dim,\n\u001b[1;32m    413\u001b[0m     move_other,\n\u001b[1;32m    414\u001b[0m     alpha,\n\u001b[1;32m    415\u001b[0m     epochs_per_negative_sample,\n\u001b[1;32m    416\u001b[0m     epoch_of_next_negative_sample,\n\u001b[1;32m    417\u001b[0m     epoch_of_next_sample,\n\u001b[1;32m    418\u001b[0m     n,\n\u001b[1;32m    419\u001b[0m     densmap_flag,\n\u001b[1;32m    420\u001b[0m     dens_phi_sum,\n\u001b[1;32m    421\u001b[0m     dens_re_sum,\n\u001b[1;32m    422\u001b[0m     dens_re_cov,\n\u001b[1;32m    423\u001b[0m     dens_re_std,\n\u001b[1;32m    424\u001b[0m     dens_re_mean,\n\u001b[1;32m    425\u001b[0m     dens_lambda,\n\u001b[1;32m    426\u001b[0m     dens_R,\n\u001b[1;32m    427\u001b[0m     dens_mu,\n\u001b[1;32m    428\u001b[0m     dens_mu_tot,\n\u001b[1;32m    429\u001b[0m )\n\u001b[1;32m    431\u001b[0m alpha \u001b[39m=\u001b[39m initial_alpha \u001b[39m*\u001b[39m (\u001b[39m1.0\u001b[39m \u001b[39m-\u001b[39m (\u001b[39mfloat\u001b[39m(n) \u001b[39m/\u001b[39m \u001b[39mfloat\u001b[39m(n_epochs)))\n\u001b[1;32m    433\u001b[0m \u001b[39mif\u001b[39;00m verbose \u001b[39mand\u001b[39;00m n \u001b[39m%\u001b[39m \u001b[39mint\u001b[39m(n_epochs \u001b[39m/\u001b[39m \u001b[39m10\u001b[39m) \u001b[39m==\u001b[39m \u001b[39m0\u001b[39m:\n",
      "\u001b[0;31mKeyboardInterrupt\u001b[0m: "
     ]
    }
   ],
   "source": [
    "import os\n",
    "from bertopic import BERTopic\n",
    "from sentence_transformers import SentenceTransformer\n",
    "from hdbscan import HDBSCAN\n",
    "from sklearn.preprocessing import normalize\n",
    "import itertools\n",
    "import pandas as pd\n",
    "import time\n",
    "\n",
    "#data\n",
    "texts_to_embed = climate_df[\"clean_text\"].tolist()\n",
    "\n",
    "# Hyperparameter ranges\n",
    "embedding_models = [\"all-MiniLM-L6-v2\", \"all-mpnet-base-v2\"]\n",
    "min_cluster_sizes = list(range(10, 51, 5))     # 10 to 50, step 5\n",
    "min_samples_vals = list(range(5, 11, 2))       # 5, 7, 9\n",
    "nr_topics_vals = [10, 15,20]\n",
    "distance_metrics = [\"euclidean\", \"manhattan\", \"cosine\"]\n",
    "\n",
    "# Logging setup\n",
    "log_path = \"../../data/BERTopic_Hyperparameters/bertopic_grid_log.csv\"\n",
    "log_columns = [\n",
    "    \"embedding_model\", \"metric\", \"min_cluster_size\", \"min_samples\",\n",
    "    \"nr_topics\", \"n_topics\", \"outliers\", \"outlier_pct\", \"time_sec\"\n",
    "]\n",
    "\n",
    "# Load or initialize log\n",
    "if os.path.exists(log_path):\n",
    "    log_df = pd.read_csv(log_path)\n",
    "else:\n",
    "    log_df = pd.DataFrame(columns=log_columns)\n",
    "    log_df.to_csv(log_path, index=False)\n",
    "\n",
    "# Main loop\n",
    "for embed_model in embedding_models:\n",
    "    print(f\"\\nEmbedding model: {embed_model}\")\n",
    "    model = SentenceTransformer(embed_model)\n",
    "    embeddings_local = model.encode(texts_to_embed, show_progress_bar=True)\n",
    "\n",
    "    for min_cluster_size, min_samples, metric, nr_topics in itertools.product(\n",
    "        min_cluster_sizes, min_samples_vals, distance_metrics, nr_topics_vals\n",
    "    ):\n",
    "        # Check if already done\n",
    "        run_key = {\n",
    "            \"embedding_model\": embed_model,\n",
    "            \"metric\": metric,\n",
    "            \"min_cluster_size\": min_cluster_size,\n",
    "            \"min_samples\": min_samples,\n",
    "            \"nr_topics\": nr_topics if nr_topics else \"None\"\n",
    "        }\n",
    "\n",
    "        existing = log_df[\n",
    "            (log_df.embedding_model == run_key[\"embedding_model\"]) &\n",
    "            (log_df.metric == run_key[\"metric\"]) &\n",
    "            (log_df.min_cluster_size == run_key[\"min_cluster_size\"]) &\n",
    "            (log_df.min_samples == run_key[\"min_samples\"]) &\n",
    "            (log_df.nr_topics == run_key[\"nr_topics\"])\n",
    "        ]\n",
    "\n",
    "        if not existing.empty:\n",
    "            print(f\"Skipping already completed: {run_key}\")\n",
    "            continue\n",
    "\n",
    "        print(f\"\\nRunning: {run_key}\")\n",
    "        start = time.time()\n",
    "\n",
    "        # Normalize for cosine\n",
    "        if metric == \"cosine\":\n",
    "            embeddings_used = normalize(embeddings_local, norm=\"l2\")\n",
    "            hdbscan_metric = \"euclidean\"\n",
    "        else:\n",
    "            embeddings_used = embeddings_local\n",
    "            hdbscan_metric = metric\n",
    "\n",
    "        # HDBSCAN setup\n",
    "        hdbscan_model = HDBSCAN(\n",
    "            min_cluster_size=min_cluster_size,\n",
    "            min_samples=min_samples,\n",
    "            metric=hdbscan_metric,\n",
    "            cluster_selection_method=\"eom\"\n",
    "        )\n",
    "\n",
    "        # BERTopic setup\n",
    "        topic_model = BERTopic(\n",
    "            hdbscan_model=hdbscan_model,\n",
    "            language=\"english\",\n",
    "            calculate_probabilities=False,\n",
    "            verbose=False,\n",
    "            low_memory=True                                  # OBS: Remove if we want to train on new docs/entries and need .transform()!!!\n",
    "        )\n",
    "\n",
    "        try:\n",
    "            topics, _ = topic_model.fit_transform(texts_to_embed, embeddings_used)\n",
    "\n",
    "            if nr_topics:\n",
    "                topic_model.reduce_topics(texts_to_embed, nr_topics=nr_topics)\n",
    "                topics = topic_model.topics_\n",
    "\n",
    "            topic_info = topic_model.get_topic_info()\n",
    "            n_topics = len(topic_info[topic_info.Topic != -1])\n",
    "            n_outliers = topic_info[topic_info.Topic == -1].Count.values[0] if -1 in topic_info.Topic.values else 0\n",
    "            n_total = sum(topic_info.Count)\n",
    "            duration = round(time.time() - start, 2)\n",
    "\n",
    "            log_entry = {\n",
    "                **run_key,\n",
    "                \"n_topics\": n_topics,\n",
    "                \"outliers\": n_outliers,\n",
    "                \"outlier_pct\": round(n_outliers / n_total * 100, 2),\n",
    "                \"time_sec\": duration\n",
    "            }\n",
    "\n",
    "            log_df = pd.concat([log_df, pd.DataFrame([log_entry])], ignore_index=True)\n",
    "            log_df.to_csv(log_path, index=False)\n",
    "            \n",
    "            model_name = f\"{embed_model}_{metric}_c{min_cluster_size}_s{min_samples}_nt{nr_topics or 'none'}\"\n",
    "            save_path = f\"../../data/BERTopic_Hyperparameters/_{model_name}\"\n",
    "\n",
    "\n",
    "\n",
    "            # Save model\n",
    "            topic_model.save(save_path)\n",
    "\n",
    "\n",
    "            print(f\"Done | Topics: {n_topics}, Outliers: {n_outliers} ({log_entry['outlier_pct']}%) | Time: {duration}s\")\n",
    "\n",
    "        except Exception as e:\n",
    "            print(f\"Failed for config: {run_key} — {e}\")\n"
   ]
  },
  {
   "attachments": {},
   "cell_type": "markdown",
   "metadata": {},
   "source": [
    "## View saved topic_model (CURRENT):"
   ]
  },
  {
   "cell_type": "code",
   "execution_count": null,
   "metadata": {},
   "outputs": [
    {
     "data": {
      "text/html": [
       "<div>\n",
       "<style scoped>\n",
       "    .dataframe tbody tr th:only-of-type {\n",
       "        vertical-align: middle;\n",
       "    }\n",
       "\n",
       "    .dataframe tbody tr th {\n",
       "        vertical-align: top;\n",
       "    }\n",
       "\n",
       "    .dataframe thead th {\n",
       "        text-align: right;\n",
       "    }\n",
       "</style>\n",
       "<table border=\"1\" class=\"dataframe\">\n",
       "  <thead>\n",
       "    <tr style=\"text-align: right;\">\n",
       "      <th></th>\n",
       "      <th>Topic</th>\n",
       "      <th>Count</th>\n",
       "      <th>Name</th>\n",
       "      <th>Representation</th>\n",
       "      <th>Representative_Docs</th>\n",
       "    </tr>\n",
       "  </thead>\n",
       "  <tbody>\n",
       "    <tr>\n",
       "      <th>0</th>\n",
       "      <td>-1</td>\n",
       "      <td>4566</td>\n",
       "      <td>-1_the_and_to_of</td>\n",
       "      <td>[the, and, to, of, in, for, is, that, we, it]</td>\n",
       "      <td>[understandable i know a lot of people essenti...</td>\n",
       "    </tr>\n",
       "    <tr>\n",
       "      <th>1</th>\n",
       "      <td>0</td>\n",
       "      <td>334</td>\n",
       "      <td>0_coal_clean_plants_trump</td>\n",
       "      <td>[coal, clean, plants, trump, mine, beautiful, ...</td>\n",
       "      <td>[trump tried to bring back coal in his first t...</td>\n",
       "    </tr>\n",
       "    <tr>\n",
       "      <th>2</th>\n",
       "      <td>1</td>\n",
       "      <td>269</td>\n",
       "      <td>1_solar_electricity_panels_power</td>\n",
       "      <td>[solar, electricity, panels, power, generation...</td>\n",
       "      <td>[renewables met of the growth in electricity d...</td>\n",
       "    </tr>\n",
       "    <tr>\n",
       "      <th>3</th>\n",
       "      <td>2</td>\n",
       "      <td>266</td>\n",
       "      <td>2_depth_snow_apr_precip</td>\n",
       "      <td>[depth, snow, apr, precip, low, high, iembot, ...</td>\n",
       "      <td>[birmingham apr climate report high low precip...</td>\n",
       "    </tr>\n",
       "    <tr>\n",
       "      <th>4</th>\n",
       "      <td>3</td>\n",
       "      <td>246</td>\n",
       "      <td>3_apr_missing_iembot_additional</td>\n",
       "      <td>[apr, missing, iembot, additional, details, vi...</td>\n",
       "      <td>[key west apr climate report high low precip s...</td>\n",
       "    </tr>\n",
       "    <tr>\n",
       "      <th>...</th>\n",
       "      <td>...</td>\n",
       "      <td>...</td>\n",
       "      <td>...</td>\n",
       "      <td>...</td>\n",
       "      <td>...</td>\n",
       "    </tr>\n",
       "    <tr>\n",
       "      <th>193</th>\n",
       "      <td>192</td>\n",
       "      <td>10</td>\n",
       "      <td>192_bags_ecofriendly_plastic_tree</td>\n",
       "      <td>[bags, ecofriendly, plastic, tree, canadianwil...</td>\n",
       "      <td>[every item ordered plants a tree and removes ...</td>\n",
       "    </tr>\n",
       "    <tr>\n",
       "      <th>194</th>\n",
       "      <td>193</td>\n",
       "      <td>10</td>\n",
       "      <td>193_water_facilities_carries_desalination</td>\n",
       "      <td>[water, facilities, carries, desalination, sma...</td>\n",
       "      <td>[we support latvias largest water utility rgas...</td>\n",
       "    </tr>\n",
       "    <tr>\n",
       "      <th>195</th>\n",
       "      <td>194</td>\n",
       "      <td>10</td>\n",
       "      <td>194_dinner_functioningcore_alreadydirty_dishes...</td>\n",
       "      <td>[dinner, functioningcore, alreadydirty, dishes...</td>\n",
       "      <td>[clean space clean mind why tidying up is good...</td>\n",
       "    </tr>\n",
       "    <tr>\n",
       "      <th>196</th>\n",
       "      <td>195</td>\n",
       "      <td>10</td>\n",
       "      <td>195_indoors_cooking_propane_stove</td>\n",
       "      <td>[indoors, cooking, propane, stove, gas, showin...</td>\n",
       "      <td>[natural gas is linked with cancer not wind po...</td>\n",
       "    </tr>\n",
       "    <tr>\n",
       "      <th>197</th>\n",
       "      <td>196</td>\n",
       "      <td>10</td>\n",
       "      <td>196_program_staff_assistance_reneweconomycomau...</td>\n",
       "      <td>[program, staff, assistance, reneweconomycomau...</td>\n",
       "      <td>[simonahacbskysocial coalition and labor agree...</td>\n",
       "    </tr>\n",
       "  </tbody>\n",
       "</table>\n",
       "<p>198 rows × 5 columns</p>\n",
       "</div>"
      ],
      "text/plain": [
       "     Topic  Count                                               Name  \\\n",
       "0       -1   4566                                   -1_the_and_to_of   \n",
       "1        0    334                          0_coal_clean_plants_trump   \n",
       "2        1    269                   1_solar_electricity_panels_power   \n",
       "3        2    266                            2_depth_snow_apr_precip   \n",
       "4        3    246                    3_apr_missing_iembot_additional   \n",
       "..     ...    ...                                                ...   \n",
       "193    192     10                  192_bags_ecofriendly_plastic_tree   \n",
       "194    193     10          193_water_facilities_carries_desalination   \n",
       "195    194     10  194_dinner_functioningcore_alreadydirty_dishes...   \n",
       "196    195     10                  195_indoors_cooking_propane_stove   \n",
       "197    196     10  196_program_staff_assistance_reneweconomycomau...   \n",
       "\n",
       "                                        Representation  \\\n",
       "0        [the, and, to, of, in, for, is, that, we, it]   \n",
       "1    [coal, clean, plants, trump, mine, beautiful, ...   \n",
       "2    [solar, electricity, panels, power, generation...   \n",
       "3    [depth, snow, apr, precip, low, high, iembot, ...   \n",
       "4    [apr, missing, iembot, additional, details, vi...   \n",
       "..                                                 ...   \n",
       "193  [bags, ecofriendly, plastic, tree, canadianwil...   \n",
       "194  [water, facilities, carries, desalination, sma...   \n",
       "195  [dinner, functioningcore, alreadydirty, dishes...   \n",
       "196  [indoors, cooking, propane, stove, gas, showin...   \n",
       "197  [program, staff, assistance, reneweconomycomau...   \n",
       "\n",
       "                                   Representative_Docs  \n",
       "0    [understandable i know a lot of people essenti...  \n",
       "1    [trump tried to bring back coal in his first t...  \n",
       "2    [renewables met of the growth in electricity d...  \n",
       "3    [birmingham apr climate report high low precip...  \n",
       "4    [key west apr climate report high low precip s...  \n",
       "..                                                 ...  \n",
       "193  [every item ordered plants a tree and removes ...  \n",
       "194  [we support latvias largest water utility rgas...  \n",
       "195  [clean space clean mind why tidying up is good...  \n",
       "196  [natural gas is linked with cancer not wind po...  \n",
       "197  [simonahacbskysocial coalition and labor agree...  \n",
       "\n",
       "[198 rows x 5 columns]"
      ]
     },
     "execution_count": 17,
     "metadata": {},
     "output_type": "execute_result"
    }
   ],
   "source": [
    "from bertopic import BERTopic\n",
    "topic_model = BERTopic.load(\"/Users/tobiasmichelsen/Bachelor_Project/DS_BachelorProject_PH/data/BERTopic_Hyperparameters/_all-MiniLM-L6-v2_euclidean_c10_s5_ntnone\")\n",
    "\n",
    "# Inspect\n",
    "topic_model.get_topic_info()\n"
   ]
  },
  {
   "cell_type": "code",
   "execution_count": 15,
   "metadata": {},
   "outputs": [
    {
     "name": "stdout",
     "output_type": "stream",
     "text": [
      "   Topic  Count                          Name  \\\n",
      "0     -1   4955              -1_the_to_and_of   \n",
      "1      0   4852               0_the_to_and_of   \n",
      "2      1   1052         1_apr_snow_precip_low   \n",
      "3      2    199            2_green_the_and_of   \n",
      "4      3    133  3_plastic_plastics_waste_the   \n",
      "5      4    105          4_air_the_autism_and   \n",
      "6      5     65                 5_de_en_la_es   \n",
      "7      6     47     6_carbon_carbonated_it_my   \n",
      "8      7     31         7_of_emission_the_and   \n",
      "9      8     28         8_reg_promo_code_deal   \n",
      "\n",
      "                                      Representation  \\\n",
      "0  [the, to, and, of, in, is, for, that, on, clim...   \n",
      "1  [the, to, and, of, in, is, for, that, climate,...   \n",
      "2  [apr, snow, precip, low, high, iembot, additio...   \n",
      "3  [green, the, and, of, to, like, for, my, game,...   \n",
      "4  [plastic, plastics, waste, the, and, microplas...   \n",
      "5  [air, the, autism, and, of, environmental, to,...   \n",
      "6        [de, en, la, es, les, que, des, et, le, el]   \n",
      "7  [carbon, carbonated, it, my, to, and, tea, the...   \n",
      "8  [of, emission, the, and, in, transition, we, q...   \n",
      "9  [reg, promo, code, deal, use, amazon, price, b...   \n",
      "\n",
      "                                 Representative_Docs  \n",
      "0  [so now we officially have confirmation that i...  \n",
      "1  [more water is needed because climate change w...  \n",
      "2  [monroe apr climate report high low precip sno...  \n",
      "3  [blue prince a game i like a lot but wish i co...  \n",
      "4  [the sooner we can use bioplastics the better ...  \n",
      "5  [trumps obsession with finding the cause of au...  \n",
      "6  [reporte del clima en este momento la temperat...  \n",
      "7  [question about my bikes fork im about to do m...  \n",
      "8  [quasiperiodic pulsations in ionospheric tec s...  \n",
      "9  [tesla model y allweather tpe floor mats set o...  \n"
     ]
    }
   ],
   "source": [
    "from bertopic import BERTopic\n",
    "\n",
    "# Load saved model\n",
    "topic_model = BERTopic.load(\"/Users/tobiasmichelsen/Bachelor_Project/DS_BachelorProject_PH/data/BERTopic_Hyperparameters/_all-MiniLM-L6-v2_manhattan_c22_s9_nt10\")\n",
    "\n",
    "# Get original texts\n",
    "texts = climate_df[\"clean_text\"].tolist()  \n",
    "\n",
    "# Reduce to 10 topics\n",
    "topic_model.reduce_topics(docs=texts, nr_topics=10)\n",
    "\n",
    "# View updated topic summary\n",
    "reduced_topic_info = topic_model.get_topic_info()\n",
    "print(reduced_topic_info.head(11))\n"
   ]
  },
  {
   "cell_type": "code",
   "execution_count": 17,
   "metadata": {},
   "outputs": [
    {
     "name": "stdout",
     "output_type": "stream",
     "text": [
      "      embedding_model     metric  min_cluster_size  min_samples  nr_topics  \\\n",
      "9    all-MiniLM-L6-v2     cosine                10            5         10   \n",
      "7    all-MiniLM-L6-v2  manhattan                10            5         14   \n",
      "10   all-MiniLM-L6-v2     cosine                10            5         12   \n",
      "50   all-MiniLM-L6-v2  euclidean                12            7         12   \n",
      "155  all-MiniLM-L6-v2     cosine                18            5         14   \n",
      "38   all-MiniLM-L6-v2  euclidean                12            5         12   \n",
      "39   all-MiniLM-L6-v2  euclidean                12            5         14   \n",
      "146  all-MiniLM-L6-v2  euclidean                18            5         12   \n",
      "46   all-MiniLM-L6-v2     cosine                12            5         12   \n",
      "111  all-MiniLM-L6-v2  euclidean                16            5         14   \n",
      "\n",
      "     n_topics  outliers  outlier_pct  time_sec  \n",
      "9           9      4372        38.13      8.30  \n",
      "7          13      4402        38.39      8.34  \n",
      "10         11      4421        38.55      6.98  \n",
      "50         11      4430        38.63      6.14  \n",
      "155        13      4461        38.90     12.34  \n",
      "38         11      4463        38.92      6.65  \n",
      "39         13      4463        38.92      7.83  \n",
      "146        11      4491        39.16     12.91  \n",
      "46         11      4503        39.27      7.24  \n",
      "111        13      4505        39.29     23.67  \n"
     ]
    }
   ],
   "source": [
    "## Filter for lowest outlier percentage\n",
    "\n",
    "import pandas as pd\n",
    "import os\n",
    "\n",
    "# Load the log\n",
    "log_path = \"../../data/BERTopic_Hyperparameters/bertopic_grid_log.csv\"\n",
    "log_df = pd.read_csv(log_path)\n",
    "\n",
    "# Sort by outlier percentage (ascending = best first)\n",
    "log_df_sorted = log_df.sort_values(by=\"outlier_pct\")\n",
    "\n",
    "# Show top 10\n",
    "print(log_df_sorted.head(10))\n"
   ]
  },
  {
   "cell_type": "code",
   "execution_count": 52,
   "metadata": {},
   "outputs": [
    {
     "name": "stdout",
     "output_type": "stream",
     "text": [
      "all-MiniLM-L6-v2_cosine_c10_s5_nt10: /Users/tobiasmichelsen/Bachelor_Project/DS_BachelorProject_PH/data/BERTopic_Hyperparameters/_all-MiniLM-L6-v2_cosine_c10_s5_nt10\n",
      "all-MiniLM-L6-v2_manhattan_c10_s5_nt14: /Users/tobiasmichelsen/Bachelor_Project/DS_BachelorProject_PH/data/BERTopic_Hyperparameters/_all-MiniLM-L6-v2_manhattan_c10_s5_nt14\n",
      "all-MiniLM-L6-v2_cosine_c10_s5_nt12: /Users/tobiasmichelsen/Bachelor_Project/DS_BachelorProject_PH/data/BERTopic_Hyperparameters/_all-MiniLM-L6-v2_cosine_c10_s5_nt12\n",
      "all-MiniLM-L6-v2_euclidean_c12_s7_nt12: /Users/tobiasmichelsen/Bachelor_Project/DS_BachelorProject_PH/data/BERTopic_Hyperparameters/_all-MiniLM-L6-v2_euclidean_c12_s7_nt12\n",
      "all-MiniLM-L6-v2_cosine_c18_s5_nt14: /Users/tobiasmichelsen/Bachelor_Project/DS_BachelorProject_PH/data/BERTopic_Hyperparameters/_all-MiniLM-L6-v2_cosine_c18_s5_nt14\n",
      "all-MiniLM-L6-v2_euclidean_c12_s5_nt12: /Users/tobiasmichelsen/Bachelor_Project/DS_BachelorProject_PH/data/BERTopic_Hyperparameters/_all-MiniLM-L6-v2_euclidean_c12_s5_nt12\n",
      "all-MiniLM-L6-v2_euclidean_c12_s5_nt14: /Users/tobiasmichelsen/Bachelor_Project/DS_BachelorProject_PH/data/BERTopic_Hyperparameters/_all-MiniLM-L6-v2_euclidean_c12_s5_nt14\n",
      "all-MiniLM-L6-v2_euclidean_c18_s5_nt12: /Users/tobiasmichelsen/Bachelor_Project/DS_BachelorProject_PH/data/BERTopic_Hyperparameters/_all-MiniLM-L6-v2_euclidean_c18_s5_nt12\n",
      "all-MiniLM-L6-v2_cosine_c12_s5_nt12: /Users/tobiasmichelsen/Bachelor_Project/DS_BachelorProject_PH/data/BERTopic_Hyperparameters/_all-MiniLM-L6-v2_cosine_c12_s5_nt12\n",
      "all-MiniLM-L6-v2_euclidean_c16_s5_nt14: /Users/tobiasmichelsen/Bachelor_Project/DS_BachelorProject_PH/data/BERTopic_Hyperparameters/_all-MiniLM-L6-v2_euclidean_c16_s5_nt14\n"
     ]
    }
   ],
   "source": [
    "top_n = 10\n",
    "base_model_dir = \"/Users/tobiasmichelsen/Bachelor_Project/DS_BachelorProject_PH/data/BERTopic_Hyperparameters\"\n",
    "\n",
    "top_models = []\n",
    "\n",
    "for row in log_df_sorted.head(top_n).itertuples():\n",
    "    model_name = f\"{row.embedding_model}_{row.metric}_c{row.min_cluster_size}_s{row.min_samples}_nt{row.nr_topics}\"\n",
    "    model_path = os.path.join(base_model_dir, f\"_{model_name}\")\n",
    "    top_models.append((model_name, model_path))\n",
    "\n",
    "# Print top model paths\n",
    "for name, path in top_models:\n",
    "    print(f\"{name}: {path}\")\n"
   ]
  },
  {
   "cell_type": "code",
   "execution_count": 59,
   "metadata": {},
   "outputs": [
    {
     "name": "stdout",
     "output_type": "stream",
     "text": [
      "    Topic  Count  \\\n",
      "0      -1   5270   \n",
      "1       0   2708   \n",
      "2       1    863   \n",
      "3       2    603   \n",
      "4       3    595   \n",
      "5       4    357   \n",
      "6       5    225   \n",
      "7       6    195   \n",
      "8       7    140   \n",
      "9       8    114   \n",
      "10      9     74   \n",
      "11     10     71   \n",
      "12     11     65   \n",
      "13     12     39   \n",
      "14     13     28   \n",
      "\n",
      "                                                                   Name  \\\n",
      "0                                                      -1_the_to_and_of   \n",
      "1                                                       0_the_to_and_of   \n",
      "2                                                 1_apr_snow_precip_low   \n",
      "3                                                 2_ai_energy_the_solar   \n",
      "4                                                  3_the_and_climate_of   \n",
      "5                                                4_water_plastic_the_to   \n",
      "6                                                  5_green_flag_red_the   \n",
      "7                                                    6_cars_tesla_to_ev   \n",
      "8                                            7_air_pollution_autism_the   \n",
      "9                                                8_mph_weather_wind_kmh   \n",
      "10                                            9_wind_net_zero_windmills   \n",
      "11                                                10_birds_and_dogs_the   \n",
      "12                                                       11_de_en_la_es   \n",
      "13                                                   12_she_her_shes_to   \n",
      "14  13_stopdeforestation_keepitintheground_davidattenborough_eastereggs   \n",
      "\n",
      "                                                                                                                                                                  Representation  \\\n",
      "0                                                                                                                             [the, to, and, of, in, is, for, that, climate, it]   \n",
      "1                                                                                                                           [the, to, and, of, is, in, for, that, coal, climate]   \n",
      "2                                                                                                      [apr, snow, precip, low, high, missing, iembot, additional, details, via]   \n",
      "3                                                                                                                             [ai, energy, the, solar, of, to, in, and, is, for]   \n",
      "4                                                                                                                         [the, and, climate, of, to, in, for, change, on, this]   \n",
      "5                                                                                                                         [water, plastic, the, to, of, in, and, it, for, waste]   \n",
      "6                                                                                                                          [green, flag, red, the, art, of, my, and, like, game]   \n",
      "7                                                                                                                              [cars, tesla, to, ev, evs, and, the, are, is, of]   \n",
      "8                                                                                                           [air, pollution, autism, the, environmental, and, of, noise, to, in]   \n",
      "9                                                                                                             [mph, weather, wind, kmh, humidity, hpa, rain, pressure, mm, mmhr]   \n",
      "10                                                                                                       [wind, net, zero, windmills, offshore, end, the, to, energy, cleantech]   \n",
      "11                                                                                                                      [birds, and, dogs, the, pet, dog, cat, in, wildlife, of]   \n",
      "12                                                                                                                                   [de, en, la, es, les, que, des, et, le, el]   \n",
      "13                                                                                                                            [she, her, shes, to, what, and, the, was, for, of]   \n",
      "14  [stopdeforestation, keepitintheground, davidattenborough, eastereggs, exctinctionisforever, thegreenplanet, easterchocolate, stopgreenwashing, orangutanfriendly, noplanetb]   \n",
      "\n",
      "                                                                                                                                                                                                                                                                                                                                                                                                                                                                                                                                                                                                                                                                                                                                                                                                                                                   Representative_Docs  \n",
      "0                                                                                [theres only one solution to our climate crisis in terms of how to get climate actions from enough people in order to begin reducing the amount of greenhouse gases in our thin precious atmosphere and that is to create the political will for doing that in the majority of the electorate, renewable energy not oil and gas i know there has to be transition but lets invest in that not in more pipelines climate has to be top priority if we want to have a planet to live on, we are the first generation that is affected by climate change and the last generation that can do something about it and how will we explain to future generations that it was good for the economy when they cant farm the landbreathe the air or drink the water thats what i want to know]  \n",
      "1                                                                                                                                                                                                            [the energy industry employs million workers in the us including about people in coal as of thats less than a halfpercent of the energy sector, its not like these people dont believe climate change is real the people in charge in the us do think its a hoax literally these countries and business people know it is good for business because they know it is real, all signs point to trump tanking the us economy and that will cause hundreds of millions of people to suffer adding to the toll from gutting the epa usaid nih but i cant claim to understand what this means for the rest of the world especially for climate in the longterm]  \n",
      "2                                                                                                                                                                                                                                                                                                                                                                                                                                                                                                                                        [atlanta apr climate report high low precip snow missing at mon apr via iembot additional details here, victoria apr climate report high low precip snow snow depth at mon apr via iembot additional details here, victoria apr climate report high low precip snow snow depth at wed apr via iembot additional details here]  \n",
      "3                                                                                                                                                                                                         [a friend asked me about my thoughts feelings about ai the other day i told them about how ai energy centers guzzle water to stay cool and not burn up and they had no idea ai is accelerating the climate crisis ai polycrisis climatecrisis water, ai energy rise of ai energy demand for ai ai for energy optimization ai for energy innovation future interdependence between ai energy technology security policy and more iea, electricity demand will skyrocket because of ai and data centres the web and ai in particular is the leading environmental issue of our time your tech choices have an impact even if you cant see them from your desk]  \n",
      "4                                                                    [as extremely bad weather we all know is due to climate change trump is recommending warning systems then those that track these storms and doesnt believe in the science behind climate change, we were able to conduct measurements of temperature salinity and oxygen directly in front of the glacier an area that has never been explored before this was only possible due to the exceptionally low sea ice cover this year an opportunity for research yet an alarming sign of climate change, yikes thats pretty warm the weather has been weird here in northern az through winter and spring so far have no idea what summer is about to be like they try to preserve a lot of land out here too but with climate change happening globally were all going to experience strange stuff]  \n",
      "5                                                                                                                                                                                                                                                      [private companies are polluting our rivers hiking up bills and failing to deliver of us want public ownership lets make it happen sign the open letter now demand action youdegreesorgukpetitionspu, private companies are polluting our rivers hiking up bills and failing to deliver of us want public ownership lets make it happen sign the open letter now demand action youdegreesorgukpetitionspu, private companies are polluting our rivers hiking up bills and failing to deliver of us want public ownership lets make it happen sign the open letter now demand action youdegreesorgukpetitionspu]  \n",
      "6                                                                                 [tinymightyturtle gorgeous watercolors kirkus sweethuffp captivatesnyt onomatopoeiapw courageous sfgate tranquilala serenadesnatgeo amazoncomdp kidlit writerslift books art nature ocean kids writingcommunity booksky artsky illustration climate turtles, tinymightyturtle gorgeous watercolors kirkus sweethuffp captivatesnyt onomatopoeiapw courageous sfgate tranquilala serenadesnatgeo amazoncomdp kidlit writerslift books art nature ocean kids writingcommunity booksky artsky illustration climate turtles, tinymightyturtle gorgeous watercolors kirkus sweethuffp captivatesnyt onomatopoeiapw courageous sfgate tranquilala serenadesnatgeo amazoncomdp kidlit writerslift books art nature ocean kids writingcommunity booksky artsky illustration climate turtles]  \n",
      "7                                                                         [oh cmon man we need elon musk gone at least anything related to government if he wants to sell evs and robots to maga then go ahead but that is all musk picked his side and we are not going to forget he is a bad man tesla gets of profits selling carbon tax credits to real car companies, also european countries are serious about reducing emissions so big american gas guzzlers are not going to be popular the are aiming for less cars on their streets what is trumps hangup with cars he hasnt had a license for years in fact he probably wouldnt pass the medical to get one now, i live in europe the streets are too small for large american cars eu cars also are way more fuel efficient because laws we dont want big gas guzzling polluting us cars its that simple]  \n",
      "8   [cars turn our living quarters to slowly killing poison air road dust is massive in dry season causing respiratory illnesses world wide think about our children we all drink car tyres every day microplastic granulate also in babies mothers milk our blood and brains resist cars, cars turn our living quarters to slowly killing poison air road dust is massive in dry season causing respiratory illnesses world wide think about our children we all drink car tyres every day microplastic granulate also in babies mothers milk our blood and brains resist cars, cars turn our living quarters to slowly killing poison air road dust is massive in dry season causing respiratory illnesses world wide think about our children we all drink car tyres every day microplastic granulate also in babies mothers milk our blood and brains resist cars]  \n",
      "9                                                                                                                                                                                                                                                                                                                                                                        [currently at its c air pressure is hpa wind speed is mph from gusting to mph rainrate is mmhr humidity is sigingstone weather website weewx weatherstation wh, currently at its c air pressure is hpa wind speed is mph from gusting to mph rainrate is mmhr humidity is sigingstone weather website weewx weatherstation wh, currently at its c air pressure is hpa wind speed is mph from gusting to mph rainrate is mmhr humidity is sigingstone weather website weewx weatherstation wh]  \n",
      "10                                                                                                                           [watch net zero industry wales ben burggraaf and ukercs meysam qadrdan and dr jessica britton talk about the key challenges in achieving a net zero transition and how the ukerc review of energy policy helps bridge the gap between academia policy and civil society, what has this got to do with net zero uk steel is too expensive the chinese owners decision to run down the scunthorpe works was an economic one and was not based on net zero ideology, key stage took part in the net zero whats it got to do with you workshop they reviewed the net zero targets researched retrofit measures to make homes more energy efficient and analysed which renewable technologies they could use to build their own net zero town]  \n",
      "11                                    [a reminder to check in and through every bush you never know what might turn up in this case a nice patch year tick with a pair of avocets at needingworth quarry lakes today brief phonescoped footage through heat haze and vegetation wont win any prizes cambsbirdclubbskysocial ukbirding, my cat never goes outside i wish more cat and dog owners would understand how affect they affect wildlife our beloved pet dogs have a far greater more insidious and more concerning effect on wildlife and the environment than we would like to be the case, my cat never goes outside i wish more cat and dog owners would acknowledge the affect they have on wildlife our beloved pet dogs have a far greater more insidious and more concerning effect on wildlife and the environment than we would like to be the case]  \n",
      "12                                                                                                                                                                                                                                                                                                                                                                                                                                                                                             [reporte del clima en este momento la temperatura en sartenejas es de c la condicin es nublado ten un da productivo y feliz, reporte del clima en este momento la temperatura en sartenejas es de c la condicin es nublado tmate el da con calma, te traigo el clima en este momento la temperatura en sartenejas es de c la condicin es despejado a estudiar un da ms]  \n",
      "13                                                                                                                                                                                                                                                                                                               [i hate her so much what shes doing is not what she said shed do and its going to do more than harm gas prices, i am all for what shes doing because she is trying to protect the environment and she knows how to play him hes not hard to read, she was there to help secure funding make sure that he doesnt take away from what shes trying to accomplish that saves the environment so she had to be there she wants to do the right thing for the american people sometimes you have to go and explain things to him she knows how to play him]  \n",
      "14                                                                                                                                                                                                           [boycottpalmoil boycottwildlife eastereggs easterchocolate orangutanfriendly noplanetb climateactionnow stopdeforestation keepitintheground stopgreenwashing exctinctionisforever davidattenborough thegreenplanet, boycottpalmoil boycottwildlife eastereggs easterchocolate orangutanfriendly noplanetb climateactionnow stopdeforestation keepitintheground stopgreenwashing exctinctionisforever davidattenborough thegreenplanet, boycottpalmoil boycottwildlife eastereggs easterchocolate orangutanfriendly noplanetb climateactionnow stopdeforestation keepitintheground stopgreenwashing exctinctionisforever davidattenborough thegreenplanet]  \n"
     ]
    }
   ],
   "source": [
    "from bertopic import BERTopic\n",
    "\n",
    "# Load saved model\n",
    "topic_model = BERTopic.load(\"/Users/tobiasmichelsen/Bachelor_Project/DS_BachelorProject_PH/data/BERTopic_Hyperparameters/_all-MiniLM-L6-v2_cosine_c15_s9_nt20\")\n",
    "\n",
    "# Get original texts\n",
    "texts = climate_df[\"clean_text\"].tolist()  \n",
    "\n",
    "# Reduce to 10 topics\n",
    "\n",
    "pd.set_option('display.max_colwidth', None)\n",
    "# View updated topic summary\n",
    "reduced_topic_info = topic_model.get_topic_info()\n",
    "print(reduced_topic_info.head(15))\n"
   ]
  },
  {
   "cell_type": "code",
   "execution_count": 72,
   "metadata": {},
   "outputs": [
    {
     "name": "stdout",
     "output_type": "stream",
     "text": [
      "                                     repo         seq  \\\n",
      "25       did:plc:uli2rqyfqasvuawksu2z5jkc  7778280581   \n",
      "204      did:plc:4zh2idecxr5zudhn3oniodhw  7778286641   \n",
      "411      did:plc:m6ntt433rso3lp7dxaja3mue  7778293323   \n",
      "441      did:plc:cm4nhw2xk43bczonk7mbfvrb  7778294643   \n",
      "448      did:plc:ci5fsjcdjgoct5k3yllky4ud  7778294887   \n",
      "...                                   ...         ...   \n",
      "1310384  did:plc:33jio4po2g6jowei4lxedlwb  7606048401   \n",
      "1310614  did:plc:nkatt34qgc76mncywdyafngb  7606056509   \n",
      "1310970  did:plc:k46un34mwzrvyyifeuyu6uie  7606071491   \n",
      "1310979  did:plc:23a3ahyixkin56ejpbsnbhec  7606072018   \n",
      "1311000  did:plc:fvmllofyyrsll5skmykmbug3  7606072608   \n",
      "\n",
      "                                                                                                                                                                                                                                                                                                             text  \\\n",
      "25       Trump's executive order trying to block state climate laws is yet another attempt to undermine local control and raise prices on everyday Americans in order to bailout polluting corporations. States aren't going to stand for it. If the federal government won't act on climate change, states will.   \n",
      "204       Spain and Canada signed agreements on renewable energy, Trudeau and Sánchez. Attention to the poll Trumpism remains a threat. It is known that Canadians ignore the US's support for the jihadist entity morocco that carried out the 911 attacks NY - Poll April 7, 2025 electomania.esencuesta-can...   \n",
      "411          When did you bitch about what Republicans were doing? All you did was whine and bitch about the only people standing between the world and a fascist dictator, you fucked everything up, now we will never address climate change, and every vulnerable person is terrified of the future. You suck!   \n",
      "441                                                                                                                                                                           Hydrogen, as you know, is useful for decarbonising. For transport, heating and energy storage it simply is not a logistical option.   \n",
      "448                                                                                                                  Either we end the Fossil Fuel Era or the Fossil Fuel Era will end us fossilfueltreaty.bsky.social FossilFuelNonproliferationTreaty JustTransitionNow GreenTransitionNow Equity SocialJustice   \n",
      "...                                                                                                                                                                                                                                                                                                           ...   \n",
      "1310384                                                                                                                                            This is something that we should be very proactive on as reducing wildfire risk within suburban urban city limits is possible. We actually just need to do it.   \n",
      "1310614                                                                              www.theguardian.comaustralia-ne... Australia 's Minister for Environment claims \"we can't afford it\" ie do anything meanwhile colleague Treasurer Chalmers smiles and doesn't tax gas exports. only deserve hung parliament.   \n",
      "1310970     More Yarvin The trouble with the biodiesel solution is that no one would want to live in a city whose public transportation was fueled, even just partly, by the distilled remains of its late underclass. ........the goal, in short, is a humane alternative to genocide. Are you the 'underclass'?   \n",
      "1310979                                            Project 2025 NORTH Source Martin Lukacs An investigative journalist, former environmental writer for The Guardian, and has written for The New York Review of Books, Toronto Star, Walrus, CBC, and other Canadian publications. breachmedia.cainside-the-g...   \n",
      "1311000                                                                        unpopular take i DON'T CARE at this point, that climate change is human-created. do you hear! i. don't. care. what i CARE about is that we DO EVERYTHING WE CAN. we can fight about semantics and assigning blame LATER. djiz loiz   \n",
      "\n",
      "                      timestamp  \\\n",
      "25      2025-04-09 21:10:45.855   \n",
      "204     2025-04-09 21:10:53.664   \n",
      "411     2025-04-09 21:11:03.083   \n",
      "441     2025-04-09 21:11:05.110   \n",
      "448     2025-04-09 21:11:05.321   \n",
      "...                         ...   \n",
      "1310384 2025-04-06 19:25:12.155   \n",
      "1310614 2025-04-06 19:25:20.559   \n",
      "1310970 2025-04-06 19:25:36.007   \n",
      "1310979 2025-04-06 19:25:36.532   \n",
      "1311000 2025-04-06 19:25:37.157   \n",
      "\n",
      "                                                                 cid  \\\n",
      "25       bafyreihbjn7mnkbiytl4wc2jjhukux7xfncg772auwhhuvb5myqydpbtp4   \n",
      "204      bafyreibvwoj6qzbffnpz4rkgxena26ejvpfqoznkbed7nmoxfw4k474gjy   \n",
      "411      bafyreic4vipeqxz6mlm36qa7uw3qqjbxwo3qtvucl2fekckz3o3udhw2ly   \n",
      "441      bafyreidsl6kwy2dx6rtvqkhjyafcffv6cwdud7aefrubfpghizelawrtty   \n",
      "448      bafyreifegyoen4hku664cni3qqh3v6xbnoptueyb76dqmdfobpsesd6cuu   \n",
      "...                                                              ...   \n",
      "1310384  bafyreie7ydp5624ug3alxbq7xz355bpabkkmplhufsxtdzuw3spo7256ua   \n",
      "1310614  bafyreidlqk3mk2getn3my7fdvefmgp7wyprlwsscaxcvela6ssfwxajzoe   \n",
      "1310970  bafyreid3dtroclqw64n3wbvxzgfjtafalrdtkro3cey6r6b32y4wxz2jvq   \n",
      "1310979  bafyreigzoxnx7r5i4gj62fn3left4rk2aiposoajk4lrwmqqii54hglpgi   \n",
      "1311000  bafyreiaugd3dktydhc2ya37hz7lhowcpxoufi5sqppjs3jlspbxgod7d3q   \n",
      "\n",
      "                                                                            uri  \\\n",
      "25       at://did:plc:uli2rqyfqasvuawksu2z5jkc/app.bsky.feed.post/3lmfvnjnj7c2x   \n",
      "204      at://did:plc:4zh2idecxr5zudhn3oniodhw/app.bsky.feed.post/3lmfvnrc2fk2z   \n",
      "411      at://did:plc:m6ntt433rso3lp7dxaja3mue/app.bsky.feed.post/3lmfvo3z3ws2g   \n",
      "441      at://did:plc:cm4nhw2xk43bczonk7mbfvrb/app.bsky.feed.post/3lmfvo5fewk25   \n",
      "448      at://did:plc:ci5fsjcdjgoct5k3yllky4ud/app.bsky.feed.post/3lmfvo5ovmk2k   \n",
      "...                                                                         ...   \n",
      "1310384  at://did:plc:33jio4po2g6jowei4lxedlwb/app.bsky.feed.post/3lm66e3w34c2w   \n",
      "1310614  at://did:plc:nkatt34qgc76mncywdyafngb/app.bsky.feed.post/3lm66ea5oxc2c   \n",
      "1310970  at://did:plc:k46un34mwzrvyyifeuyu6uie/app.bsky.feed.post/3lm66er7cw226   \n",
      "1310979  at://did:plc:23a3ahyixkin56ejpbsnbhec/app.bsky.feed.post/3lm66engfrk2f   \n",
      "1311000  at://did:plc:fvmllofyyrsll5skmykmbug3/app.bsky.feed.post/3lm66estr3l2c   \n",
      "\n",
      "        label     score  \\\n",
      "25        yes  0.997684   \n",
      "204       yes  0.993054   \n",
      "411       yes  0.996543   \n",
      "441       yes  0.997304   \n",
      "448       yes  0.995790   \n",
      "...       ...       ...   \n",
      "1310384   yes  0.996961   \n",
      "1310614   yes  0.996347   \n",
      "1310970   yes  0.992141   \n",
      "1310979   yes  0.995507   \n",
      "1311000   yes  0.997123   \n",
      "\n",
      "                                                                                                                                                                                                                                                                                                clean_text  \n",
      "25       trumps executive order trying to block state climate laws is yet another attempt to undermine local control and raise prices on everyday americans in order to bailout polluting corporations states arent going to stand for it if the federal government wont act on climate change states will  \n",
      "204                        spain and canada signed agreements on renewable energy trudeau and snchez attention to the poll trumpism remains a threat it is known that canadians ignore the uss support for the jihadist entity morocco that carried out the attacks ny poll april electomaniaesencuestacan  \n",
      "411         when did you bitch about what republicans were doing all you did was whine and bitch about the only people standing between the world and a fascist dictator you fucked everything up now we will never address climate change and every vulnerable person is terrified of the future you suck  \n",
      "441                                                                                                                                                                         hydrogen as you know is useful for decarbonising for transport heating and energy storage it simply is not a logistical option  \n",
      "448                                                                                                             either we end the fossil fuel era or the fossil fuel era will end us fossilfueltreatybskysocial fossilfuelnonproliferationtreaty justtransitionnow greentransitionnow equity socialjustice  \n",
      "...                                                                                                                                                                                                                                                                                                    ...  \n",
      "1310384                                                                                                                                       this is something that we should be very proactive on as reducing wildfire risk within suburban urban city limits is possible we actually just need to do it  \n",
      "1310614                                                                                                                 australia s minister for environment claims we cant afford it ie do anything meanwhile colleague treasurer chalmers smiles and doesnt tax gas exports only deserve hung parliament  \n",
      "1310970               more yarvin the trouble with the biodiesel solution is that no one would want to live in a city whose public transportation was fueled even just partly by the distilled remains of its late underclass the goal in short is a humane alternative to genocide are you the underclass  \n",
      "1310979                                                       project north source martin lukacs an investigative journalist former environmental writer for the guardian and has written for the new york review of books toronto star walrus cbc and other canadian publications breachmediacainsidetheg  \n",
      "1311000                                                                            unpopular take i dont care at this point that climate change is humancreated do you hear i dont care what i care about is that we do everything we can we can fight about semantics and assigning blame later djiz loiz  \n",
      "\n",
      "[11467 rows x 9 columns]\n"
     ]
    },
    {
     "ename": "TypeError",
     "evalue": "__init__() got an unexpected keyword argument 'reset_index'",
     "output_type": "error",
     "traceback": [
      "\u001b[0;31m---------------------------------------------------------------------------\u001b[0m",
      "\u001b[0;31mTypeError\u001b[0m                                 Traceback (most recent call last)",
      "Cell \u001b[0;32mIn[72], line 6\u001b[0m\n\u001b[1;32m      4\u001b[0m df_asd \u001b[39m=\u001b[39m pd\u001b[39m.\u001b[39mread_json(\u001b[39m\"\u001b[39m\u001b[39m../../data/filtered/above60chars_above99score.json\u001b[39m\u001b[39m\"\u001b[39m)\n\u001b[1;32m      5\u001b[0m \u001b[39mprint\u001b[39m(df_asd)\n\u001b[0;32m----> 6\u001b[0m df_asd \u001b[39m=\u001b[39m pd\u001b[39m.\u001b[39;49mDataFrame(df_asd,topics,reset_index\u001b[39m=\u001b[39;49m\u001b[39mTrue\u001b[39;49;00m)\n",
      "\u001b[0;31mTypeError\u001b[0m: __init__() got an unexpected keyword argument 'reset_index'"
     ]
    }
   ],
   "source": [
    "topic_id = 6\n",
    "#\n",
    "topic_model.get_representative_docs(topic_id)\n",
    "df_asd = pd.read_json(\"../../data/filtered/above60chars_above99score.json\")\n",
    "print(df_asd)\n",
    "df_asd = pd.DataFrame(df_asd,topics,reset_index=True)\n"
   ]
  },
  {
   "cell_type": "code",
   "execution_count": 58,
   "metadata": {},
   "outputs": [
    {
     "name": "stdout",
     "output_type": "stream",
     "text": [
      "\n",
      "Topic 1 | Count: 324\n",
      "Top words: snow, apr, depth, precip, low, high, iembot, additional, details, via\n",
      "Example post: lansing apr climate report high low precip snow snow depth at wed apr via iembot additional details here\n",
      "\n",
      "Topic 2 | Count: 256\n",
      "Top words: airport, apr, snow, precip, low, high, missing, climate, link, iembot\n",
      "Example post: oceanside airport ca apr climate report high low precip snow missing at mon apr via iembot additional details here\n",
      "\n",
      "Topic 3 | Count: 229\n",
      "Top words: apr, missing, iembot, additional, details, via, report, precip, low, here\n",
      "Example post: jackson apr climate report high low precip snow missing at wed apr via iembot additional details here\n",
      "\n",
      "Topic 4 | Count: 62\n",
      "Top words: missing, link, precip, low, high, snow, apr, climate, trace, austin\n",
      "Example post: peachtree city apr climate high low precip trace snow missing link\n",
      "\n",
      "Topic 5 | Count: 48\n",
      "Top words: issues, spc, risk, elevated, day, link, fire, weather, apr, at\n",
      "Example post: spc issues day elevated fire weather risk at apr z for jax link\n"
     ]
    }
   ],
   "source": [
    "topics_cleaned = topic_info[topic_info[\"Topic\"] != -1]\n",
    "\n",
    "def is_high_quality_topic(keywords):\n",
    "    stopwords = {\"the\", \"to\", \"and\", \"of\", \"in\", \"is\", \"for\", \"that\", \"it\"}\n",
    "    return len([w for w in keywords if w not in stopwords]) >= 5\n",
    "\n",
    "topics_cleaned[\"high_quality\"] = topics_cleaned[\"Representation\"].apply(is_high_quality_topic)\n",
    "\n",
    "good_topics = topics_cleaned[topics_cleaned[\"high_quality\"] == True]\n",
    "\n",
    "for _, row in good_topics.iterrows():\n",
    "    print(f\"\\nTopic {row['Topic']} | Count: {row['Count']}\")\n",
    "    print(\"Top words:\", \", \".join(row[\"Representation\"][:30]))\n",
    "    print(\"Example post:\", row[\"Representative_Docs\"][0])\n",
    "\n"
   ]
  },
  {
   "cell_type": "code",
   "execution_count": 33,
   "metadata": {},
   "outputs": [
    {
     "data": {
      "text/html": [
       "<div>\n",
       "<style scoped>\n",
       "    .dataframe tbody tr th:only-of-type {\n",
       "        vertical-align: middle;\n",
       "    }\n",
       "\n",
       "    .dataframe tbody tr th {\n",
       "        vertical-align: top;\n",
       "    }\n",
       "\n",
       "    .dataframe thead th {\n",
       "        text-align: right;\n",
       "    }\n",
       "</style>\n",
       "<table border=\"1\" class=\"dataframe\">\n",
       "  <thead>\n",
       "    <tr style=\"text-align: right;\">\n",
       "      <th></th>\n",
       "      <th>min_cluster_size</th>\n",
       "      <th>min_samples</th>\n",
       "      <th>nr_topics</th>\n",
       "      <th>n_topics</th>\n",
       "      <th>outlier_pct</th>\n",
       "      <th>time_sec</th>\n",
       "    </tr>\n",
       "  </thead>\n",
       "  <tbody>\n",
       "    <tr>\n",
       "      <th>3</th>\n",
       "      <td>10</td>\n",
       "      <td>5</td>\n",
       "      <td>14</td>\n",
       "      <td>13.0</td>\n",
       "      <td>39.736667</td>\n",
       "      <td>8.266667</td>\n",
       "    </tr>\n",
       "    <tr>\n",
       "      <th>14</th>\n",
       "      <td>12</td>\n",
       "      <td>5</td>\n",
       "      <td>12</td>\n",
       "      <td>11.0</td>\n",
       "      <td>40.183333</td>\n",
       "      <td>7.163333</td>\n",
       "    </tr>\n",
       "    <tr>\n",
       "      <th>1</th>\n",
       "      <td>10</td>\n",
       "      <td>5</td>\n",
       "      <td>10</td>\n",
       "      <td>9.0</td>\n",
       "      <td>40.250000</td>\n",
       "      <td>6.996667</td>\n",
       "    </tr>\n",
       "    <tr>\n",
       "      <th>15</th>\n",
       "      <td>12</td>\n",
       "      <td>5</td>\n",
       "      <td>14</td>\n",
       "      <td>13.0</td>\n",
       "      <td>40.460000</td>\n",
       "      <td>7.380000</td>\n",
       "    </tr>\n",
       "    <tr>\n",
       "      <th>2</th>\n",
       "      <td>10</td>\n",
       "      <td>5</td>\n",
       "      <td>12</td>\n",
       "      <td>11.0</td>\n",
       "      <td>40.640000</td>\n",
       "      <td>6.973333</td>\n",
       "    </tr>\n",
       "  </tbody>\n",
       "</table>\n",
       "</div>"
      ],
      "text/plain": [
       "    min_cluster_size  min_samples  nr_topics  n_topics  outlier_pct  time_sec\n",
       "3                 10            5         14      13.0    39.736667  8.266667\n",
       "14                12            5         12      11.0    40.183333  7.163333\n",
       "1                 10            5         10       9.0    40.250000  6.996667\n",
       "15                12            5         14      13.0    40.460000  7.380000\n",
       "2                 10            5         12      11.0    40.640000  6.973333"
      ]
     },
     "execution_count": 33,
     "metadata": {},
     "output_type": "execute_result"
    }
   ],
   "source": [
    "import pandas as pd\n",
    "\n",
    "df = pd.read_csv(\"../../data/BERTopic_Hyperparameters/bertopic_grid_log.csv\")\n",
    "\n",
    "# Group and average by hyperparameter config\n",
    "agg = df.groupby([\"min_cluster_size\", \"min_samples\", \"nr_topics\"]).agg({\n",
    "    \"n_topics\": \"mean\",\n",
    "    \"outlier_pct\": \"mean\",\n",
    "    \"time_sec\": \"mean\"\n",
    "}).reset_index()\n",
    "\n",
    "agg.sort_values(\"outlier_pct\").head()\n"
   ]
  },
  {
   "cell_type": "code",
   "execution_count": null,
   "metadata": {},
   "outputs": [],
   "source": []
  }
 ],
 "metadata": {
  "kernelspec": {
   "display_name": "Python 3",
   "language": "python",
   "name": "python3"
  },
  "language_info": {
   "codemirror_mode": {
    "name": "ipython",
    "version": 3
   },
   "file_extension": ".py",
   "mimetype": "text/x-python",
   "name": "python",
   "nbconvert_exporter": "python",
   "pygments_lexer": "ipython3",
   "version": "3.9.6 (default, Feb  3 2024, 15:58:27) \n[Clang 15.0.0 (clang-1500.3.9.4)]"
  },
  "orig_nbformat": 4,
  "vscode": {
   "interpreter": {
    "hash": "31f2aee4e71d21fbe5cf8b01ff0e069b9275f58929596ceb00d14d90e3e16cd6"
   }
  }
 },
 "nbformat": 4,
 "nbformat_minor": 2
}
