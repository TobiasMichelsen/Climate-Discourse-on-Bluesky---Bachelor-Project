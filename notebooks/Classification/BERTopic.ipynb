{
 "cells": [
  {
   "attachments": {},
   "cell_type": "markdown",
   "metadata": {},
   "source": [
    "# BERTopic: \n",
    "- Preprocess (normalize text, filter for \"yes\" label)\n",
    "\n",
    "- Embedding (convert text to number representation)\n",
    "\n",
    "- Top Modeling (find different cluster setups)"
   ]
  },
  {
   "cell_type": "code",
   "execution_count": 6,
   "metadata": {},
   "outputs": [],
   "source": [
    "#imports / installs\n",
    "\n",
    "import pandas as pd\n",
    "import re\n",
    "import glob\n",
    "import os\n",
    "import itertools\n",
    "import hdbscan\n"
   ]
  },
  {
   "attachments": {},
   "cell_type": "markdown",
   "metadata": {},
   "source": [
    "## Step 1: Preprocessing"
   ]
  },
  {
   "cell_type": "code",
   "execution_count": 7,
   "metadata": {},
   "outputs": [],
   "source": [
    "def preprocess_text(text):\n",
    "    # Lowercase\n",
    "    text = text.lower()\n",
    "    # Remove URLs\n",
    "    text = re.sub(r\"http\\S+|www\\S+\", \"\", text)\n",
    "    # Remove mentions and hashtags\n",
    "    text = re.sub(r\"@\\w+|#\\w+\", \"\", text)\n",
    "    # Remove non-letter characters (keep punctuation if needed)\n",
    "    text = re.sub(r\"[^a-zA-Z\\s]\", \"\", text)\n",
    "    # Normalize whitespace\n",
    "    text = re.sub(r\"\\s+\", \" \", text).strip()\n",
    "    return text"
   ]
  },
  {
   "cell_type": "code",
   "execution_count": 8,
   "metadata": {},
   "outputs": [],
   "source": [
    "from sentence_transformers import SentenceTransformer\n",
    "\n",
    "def generate_embeddings(texts, model_name=\"all-MiniLM-L6-v2\"):\n",
    "    model = SentenceTransformer(model_name)\n",
    "    embeddings = model.encode(texts, show_progress_bar=True)\n",
    "    return embeddings\n"
   ]
  },
  {
   "cell_type": "code",
   "execution_count": 9,
   "metadata": {},
   "outputs": [],
   "source": [
    "INPUT_PATH = \"../../data/climate_classified/\" #Currently uses the 14 jsons * 100,000 posts \n",
    "\n",
    "json_pattern = os.path.join(INPUT_PATH,'*.json')\n",
    "combined_paths = glob.glob(json_pattern)\n",
    "\n",
    "dfs = []\n",
    "\n",
    "\n",
    "for path in combined_paths:\n",
    "    try:\n",
    "        df = pd.read_json(path)\n",
    "        dfs.append(df)\n",
    "    except ValueError as e:\n",
    "        print(f\"Failed to read {path}: {e}\")\n"
   ]
  },
  {
   "cell_type": "code",
   "execution_count": 10,
   "metadata": {},
   "outputs": [
    {
     "name": "stdout",
     "output_type": "stream",
     "text": [
      "Loaded 1311270 posts from 14 files.\n"
     ]
    }
   ],
   "source": [
    "if dfs:\n",
    "    temp = pd.concat(dfs, ignore_index=True)\n",
    "    print(f\"Loaded {len(temp)} posts from {len(dfs)} files.\")\n",
    "else:\n",
    "    print(\"No data loaded.\")"
   ]
  },
  {
   "attachments": {},
   "cell_type": "markdown",
   "metadata": {},
   "source": [
    "### NOTE: Currently filters for 60+ characters and score >= 0.99 !"
   ]
  },
  {
   "cell_type": "code",
   "execution_count": 11,
   "metadata": {},
   "outputs": [
    {
     "name": "stdout",
     "output_type": "stream",
     "text": [
      "Remaining posts after full filtering: 11467\n"
     ]
    }
   ],
   "source": [
    "# Step 1: Filter for climate-related posts only\n",
    "climate_df = temp[temp[\"label\"] == \"yes\"].copy()\n",
    "\n",
    "# Step 2: Light preprocessing\n",
    "climate_df[\"clean_text\"] = climate_df[\"text\"].astype(str).apply(preprocess_text)\n",
    "\n",
    "# Step 3: Filter on character length and score\n",
    "climate_df = climate_df[\n",
    "    \n",
    "    (climate_df[\"clean_text\"].str.len() >= 60) &\n",
    "    (climate_df[\"score\"] >= 0.99)\n",
    "].copy()\n",
    "\n",
    "print(f\"Remaining posts after full filtering: {len(climate_df)}\")"
   ]
  },
  {
   "cell_type": "code",
   "execution_count": 9,
   "metadata": {},
   "outputs": [
    {
     "name": "stdout",
     "output_type": "stream",
     "text": [
      "Filtered dataset saved to: ../../data/filtered/above60chars_above99score.json\n"
     ]
    }
   ],
   "source": [
    "# Save filtered climate_df\n",
    "\n",
    "output_path = \"../../data/filtered/above60chars_above99score.json\"\n",
    "climate_df.to_json(output_path)\n",
    "\n",
    "print(f\"Filtered dataset saved to: {output_path}\")"
   ]
  },
  {
   "cell_type": "code",
   "execution_count": 13,
   "metadata": {},
   "outputs": [
    {
     "data": {
      "text/plain": [
       "Index(['repo', 'seq', 'text', 'timestamp', 'cid', 'uri', 'label', 'score',\n",
       "       'clean_text'],\n",
       "      dtype='object')"
      ]
     },
     "execution_count": 13,
     "metadata": {},
     "output_type": "execute_result"
    }
   ],
   "source": [
    "climate_df.columns"
   ]
  },
  {
   "cell_type": "code",
   "execution_count": 14,
   "metadata": {},
   "outputs": [
    {
     "data": {
      "text/html": [
       "<div>\n",
       "<style scoped>\n",
       "    .dataframe tbody tr th:only-of-type {\n",
       "        vertical-align: middle;\n",
       "    }\n",
       "\n",
       "    .dataframe tbody tr th {\n",
       "        vertical-align: top;\n",
       "    }\n",
       "\n",
       "    .dataframe thead th {\n",
       "        text-align: right;\n",
       "    }\n",
       "</style>\n",
       "<table border=\"1\" class=\"dataframe\">\n",
       "  <thead>\n",
       "    <tr style=\"text-align: right;\">\n",
       "      <th></th>\n",
       "      <th>repo</th>\n",
       "      <th>seq</th>\n",
       "      <th>text</th>\n",
       "      <th>timestamp</th>\n",
       "      <th>cid</th>\n",
       "      <th>uri</th>\n",
       "      <th>label</th>\n",
       "      <th>score</th>\n",
       "      <th>clean_text</th>\n",
       "    </tr>\n",
       "  </thead>\n",
       "  <tbody>\n",
       "    <tr>\n",
       "      <th>25</th>\n",
       "      <td>did:plc:uli2rqyfqasvuawksu2z5jkc</td>\n",
       "      <td>7778280581</td>\n",
       "      <td>Trump's executive order trying to block state ...</td>\n",
       "      <td>2025-04-09 21:10:45.855</td>\n",
       "      <td>bafyreihbjn7mnkbiytl4wc2jjhukux7xfncg772auwhhu...</td>\n",
       "      <td>at://did:plc:uli2rqyfqasvuawksu2z5jkc/app.bsky...</td>\n",
       "      <td>yes</td>\n",
       "      <td>0.997684</td>\n",
       "      <td>trumps executive order trying to block state c...</td>\n",
       "    </tr>\n",
       "    <tr>\n",
       "      <th>204</th>\n",
       "      <td>did:plc:4zh2idecxr5zudhn3oniodhw</td>\n",
       "      <td>7778286641</td>\n",
       "      <td>Spain and Canada signed agreements on renewabl...</td>\n",
       "      <td>2025-04-09 21:10:53.664</td>\n",
       "      <td>bafyreibvwoj6qzbffnpz4rkgxena26ejvpfqoznkbed7n...</td>\n",
       "      <td>at://did:plc:4zh2idecxr5zudhn3oniodhw/app.bsky...</td>\n",
       "      <td>yes</td>\n",
       "      <td>0.993054</td>\n",
       "      <td>spain and canada signed agreements on renewabl...</td>\n",
       "    </tr>\n",
       "    <tr>\n",
       "      <th>411</th>\n",
       "      <td>did:plc:m6ntt433rso3lp7dxaja3mue</td>\n",
       "      <td>7778293323</td>\n",
       "      <td>When did you bitch about what Republicans were...</td>\n",
       "      <td>2025-04-09 21:11:03.083</td>\n",
       "      <td>bafyreic4vipeqxz6mlm36qa7uw3qqjbxwo3qtvucl2fek...</td>\n",
       "      <td>at://did:plc:m6ntt433rso3lp7dxaja3mue/app.bsky...</td>\n",
       "      <td>yes</td>\n",
       "      <td>0.996543</td>\n",
       "      <td>when did you bitch about what republicans were...</td>\n",
       "    </tr>\n",
       "    <tr>\n",
       "      <th>441</th>\n",
       "      <td>did:plc:cm4nhw2xk43bczonk7mbfvrb</td>\n",
       "      <td>7778294643</td>\n",
       "      <td>Hydrogen, as you know, is useful for decarboni...</td>\n",
       "      <td>2025-04-09 21:11:05.110</td>\n",
       "      <td>bafyreidsl6kwy2dx6rtvqkhjyafcffv6cwdud7aefrubf...</td>\n",
       "      <td>at://did:plc:cm4nhw2xk43bczonk7mbfvrb/app.bsky...</td>\n",
       "      <td>yes</td>\n",
       "      <td>0.997304</td>\n",
       "      <td>hydrogen as you know is useful for decarbonisi...</td>\n",
       "    </tr>\n",
       "    <tr>\n",
       "      <th>448</th>\n",
       "      <td>did:plc:ci5fsjcdjgoct5k3yllky4ud</td>\n",
       "      <td>7778294887</td>\n",
       "      <td>Either we end the Fossil Fuel Era or the Fossi...</td>\n",
       "      <td>2025-04-09 21:11:05.321</td>\n",
       "      <td>bafyreifegyoen4hku664cni3qqh3v6xbnoptueyb76dqm...</td>\n",
       "      <td>at://did:plc:ci5fsjcdjgoct5k3yllky4ud/app.bsky...</td>\n",
       "      <td>yes</td>\n",
       "      <td>0.995790</td>\n",
       "      <td>either we end the fossil fuel era or the fossi...</td>\n",
       "    </tr>\n",
       "  </tbody>\n",
       "</table>\n",
       "</div>"
      ],
      "text/plain": [
       "                                 repo         seq  \\\n",
       "25   did:plc:uli2rqyfqasvuawksu2z5jkc  7778280581   \n",
       "204  did:plc:4zh2idecxr5zudhn3oniodhw  7778286641   \n",
       "411  did:plc:m6ntt433rso3lp7dxaja3mue  7778293323   \n",
       "441  did:plc:cm4nhw2xk43bczonk7mbfvrb  7778294643   \n",
       "448  did:plc:ci5fsjcdjgoct5k3yllky4ud  7778294887   \n",
       "\n",
       "                                                  text  \\\n",
       "25   Trump's executive order trying to block state ...   \n",
       "204  Spain and Canada signed agreements on renewabl...   \n",
       "411  When did you bitch about what Republicans were...   \n",
       "441  Hydrogen, as you know, is useful for decarboni...   \n",
       "448  Either we end the Fossil Fuel Era or the Fossi...   \n",
       "\n",
       "                  timestamp  \\\n",
       "25  2025-04-09 21:10:45.855   \n",
       "204 2025-04-09 21:10:53.664   \n",
       "411 2025-04-09 21:11:03.083   \n",
       "441 2025-04-09 21:11:05.110   \n",
       "448 2025-04-09 21:11:05.321   \n",
       "\n",
       "                                                   cid  \\\n",
       "25   bafyreihbjn7mnkbiytl4wc2jjhukux7xfncg772auwhhu...   \n",
       "204  bafyreibvwoj6qzbffnpz4rkgxena26ejvpfqoznkbed7n...   \n",
       "411  bafyreic4vipeqxz6mlm36qa7uw3qqjbxwo3qtvucl2fek...   \n",
       "441  bafyreidsl6kwy2dx6rtvqkhjyafcffv6cwdud7aefrubf...   \n",
       "448  bafyreifegyoen4hku664cni3qqh3v6xbnoptueyb76dqm...   \n",
       "\n",
       "                                                   uri label     score  \\\n",
       "25   at://did:plc:uli2rqyfqasvuawksu2z5jkc/app.bsky...   yes  0.997684   \n",
       "204  at://did:plc:4zh2idecxr5zudhn3oniodhw/app.bsky...   yes  0.993054   \n",
       "411  at://did:plc:m6ntt433rso3lp7dxaja3mue/app.bsky...   yes  0.996543   \n",
       "441  at://did:plc:cm4nhw2xk43bczonk7mbfvrb/app.bsky...   yes  0.997304   \n",
       "448  at://did:plc:ci5fsjcdjgoct5k3yllky4ud/app.bsky...   yes  0.995790   \n",
       "\n",
       "                                            clean_text  \n",
       "25   trumps executive order trying to block state c...  \n",
       "204  spain and canada signed agreements on renewabl...  \n",
       "411  when did you bitch about what republicans were...  \n",
       "441  hydrogen as you know is useful for decarbonisi...  \n",
       "448  either we end the fossil fuel era or the fossi...  "
      ]
     },
     "execution_count": 14,
     "metadata": {},
     "output_type": "execute_result"
    }
   ],
   "source": [
    "climate_df.head()"
   ]
  },
  {
   "attachments": {},
   "cell_type": "markdown",
   "metadata": {},
   "source": [
    "## Step 2: Embedding Generation"
   ]
  },
  {
   "attachments": {},
   "cell_type": "markdown",
   "metadata": {},
   "source": [
    "pip install -U sentence-transforme"
   ]
  },
  {
   "cell_type": "code",
   "execution_count": 15,
   "metadata": {},
   "outputs": [
    {
     "name": "stdout",
     "output_type": "stream",
     "text": [
      "\u001b[33mWARNING: You are using pip version 21.2.4; however, version 25.0.1 is available.\n",
      "You should consider upgrading via the '/Library/Developer/CommandLineTools/usr/bin/python3 -m pip install --upgrade pip' command.\u001b[0m\n",
      "Note: you may need to restart the kernel to use updated packages.\n"
     ]
    }
   ],
   "source": [
    "pip install -U sentence-transformers -q"
   ]
  },
  {
   "cell_type": "code",
   "execution_count": 16,
   "metadata": {},
   "outputs": [],
   "source": [
    "from sentence_transformers import SentenceTransformer"
   ]
  },
  {
   "cell_type": "code",
   "execution_count": 25,
   "metadata": {},
   "outputs": [
    {
     "data": {
      "text/plain": [
       "11467"
      ]
     },
     "execution_count": 25,
     "metadata": {},
     "output_type": "execute_result"
    }
   ],
   "source": [
    "len(texts_to_embed)"
   ]
  },
  {
   "cell_type": "code",
   "execution_count": 17,
   "metadata": {},
   "outputs": [
    {
     "name": "stderr",
     "output_type": "stream",
     "text": [
      "Batches: 100%|██████████| 359/359 [00:57<00:00,  6.22it/s]\n"
     ]
    }
   ],
   "source": [
    "model = SentenceTransformer('all-miniLM-L6-v2')\n",
    "texts_to_embed = climate_df[\"clean_text\"].tolist()\n",
    "embeddings = model.encode(texts_to_embed, show_progress_bar=True) "
   ]
  },
  {
   "cell_type": "code",
   "execution_count": 64,
   "metadata": {},
   "outputs": [
    {
     "name": "stderr",
     "output_type": "stream",
     "text": [
      "huggingface/tokenizers: The current process just got forked, after parallelism has already been used. Disabling parallelism to avoid deadlocks...\n",
      "To disable this warning, you can either:\n",
      "\t- Avoid using `tokenizers` before the fork if possible\n",
      "\t- Explicitly set the environment variable TOKENIZERS_PARALLELISM=(true | false)\n"
     ]
    },
    {
     "name": "stdout",
     "output_type": "stream",
     "text": [
      "Defaulting to user installation because normal site-packages is not writeable\n",
      "Collecting bertopic\n",
      "  Downloading bertopic-0.17.0-py3-none-any.whl (150 kB)\n",
      "\u001b[K     |████████████████████████████████| 150 kB 261 kB/s eta 0:00:01\n",
      "\u001b[?25hCollecting plotly>=4.7.0\n",
      "  Downloading plotly-6.0.1-py3-none-any.whl (14.8 MB)\n",
      "\u001b[K     |████████████████████████████████| 14.8 MB 167 kB/s eta 0:00:01\n",
      "\u001b[?25hRequirement already satisfied: scikit-learn>=1.0 in /Users/tobiasmichelsen/Library/Python/3.9/lib/python/site-packages (from bertopic) (1.6.1)\n",
      "Collecting hdbscan>=0.8.29\n",
      "  Downloading hdbscan-0.8.40.tar.gz (6.9 MB)\n",
      "\u001b[K     |████████████████████████████████| 6.9 MB 60 kB/s eta 0:00:016\n",
      "\u001b[?25h\u001b[33m  WARNING: Value for prefixed-purelib does not match. Please report this to <https://github.com/pypa/pip/issues/10151>\n",
      "  distutils: /private/var/folders/f3/z043mppd07z6npdj2ch2t1mm0000gn/T/pip-build-env-ljns71ow/normal/lib/python3.9/site-packages\n",
      "  sysconfig: /Library/Python/3.9/site-packages\u001b[0m\n",
      "\u001b[33m  WARNING: Value for prefixed-platlib does not match. Please report this to <https://github.com/pypa/pip/issues/10151>\n",
      "  distutils: /private/var/folders/f3/z043mppd07z6npdj2ch2t1mm0000gn/T/pip-build-env-ljns71ow/normal/lib/python3.9/site-packages\n",
      "  sysconfig: /Library/Python/3.9/site-packages\u001b[0m\n",
      "\u001b[33m  WARNING: Additional context:\n",
      "  user = False\n",
      "  home = None\n",
      "  root = None\n",
      "  prefix = '/private/var/folders/f3/z043mppd07z6npdj2ch2t1mm0000gn/T/pip-build-env-ljns71ow/normal'\u001b[0m\n",
      "\u001b[33m  WARNING: Value for prefixed-purelib does not match. Please report this to <https://github.com/pypa/pip/issues/10151>\n",
      "  distutils: /private/var/folders/f3/z043mppd07z6npdj2ch2t1mm0000gn/T/pip-build-env-ljns71ow/overlay/lib/python3.9/site-packages\n",
      "  sysconfig: /Library/Python/3.9/site-packages\u001b[0m\n",
      "\u001b[33m  WARNING: Value for prefixed-platlib does not match. Please report this to <https://github.com/pypa/pip/issues/10151>\n",
      "  distutils: /private/var/folders/f3/z043mppd07z6npdj2ch2t1mm0000gn/T/pip-build-env-ljns71ow/overlay/lib/python3.9/site-packages\n",
      "  sysconfig: /Library/Python/3.9/site-packages\u001b[0m\n",
      "\u001b[33m  WARNING: Additional context:\n",
      "  user = False\n",
      "  home = None\n",
      "  root = None\n",
      "  prefix = '/private/var/folders/f3/z043mppd07z6npdj2ch2t1mm0000gn/T/pip-build-env-ljns71ow/overlay'\u001b[0m\n",
      "  Installing build dependencies ... \u001b[?25ldone\n",
      "\u001b[?25h  Getting requirements to build wheel ... \u001b[?25ldone\n",
      "\u001b[?25h    Preparing wheel metadata ... \u001b[?25ldone\n",
      "\u001b[?25hRequirement already satisfied: tqdm>=4.41.1 in /Users/tobiasmichelsen/Library/Python/3.9/lib/python/site-packages (from bertopic) (4.67.1)\n",
      "Requirement already satisfied: numpy>=1.20.0 in /Users/tobiasmichelsen/Library/Python/3.9/lib/python/site-packages (from bertopic) (1.26.4)\n",
      "Requirement already satisfied: sentence-transformers>=0.4.1 in /Users/tobiasmichelsen/Library/Python/3.9/lib/python/site-packages (from bertopic) (4.1.0)\n",
      "Requirement already satisfied: pandas>=1.1.5 in /Users/tobiasmichelsen/Library/Python/3.9/lib/python/site-packages (from bertopic) (2.2.3)\n",
      "Collecting umap-learn>=0.5.0\n",
      "  Downloading umap_learn-0.5.7-py3-none-any.whl (88 kB)\n",
      "\u001b[K     |████████████████████████████████| 88 kB 201 kB/s eta 0:00:01\n",
      "\u001b[?25hRequirement already satisfied: joblib>=1.0 in /Users/tobiasmichelsen/Library/Python/3.9/lib/python/site-packages (from hdbscan>=0.8.29->bertopic) (1.4.2)\n",
      "Requirement already satisfied: scipy>=1.0 in /Users/tobiasmichelsen/Library/Python/3.9/lib/python/site-packages (from hdbscan>=0.8.29->bertopic) (1.13.1)\n",
      "Requirement already satisfied: python-dateutil>=2.8.2 in /Users/tobiasmichelsen/Library/Python/3.9/lib/python/site-packages (from pandas>=1.1.5->bertopic) (2.8.2)\n",
      "Requirement already satisfied: pytz>=2020.1 in /Users/tobiasmichelsen/Library/Python/3.9/lib/python/site-packages (from pandas>=1.1.5->bertopic) (2025.1)\n",
      "Requirement already satisfied: tzdata>=2022.7 in /Users/tobiasmichelsen/Library/Python/3.9/lib/python/site-packages (from pandas>=1.1.5->bertopic) (2025.1)\n",
      "Requirement already satisfied: packaging in /Users/tobiasmichelsen/Library/Python/3.9/lib/python/site-packages (from plotly>=4.7.0->bertopic) (23.2)\n",
      "Collecting narwhals>=1.15.1\n",
      "  Downloading narwhals-1.35.0-py3-none-any.whl (325 kB)\n",
      "\u001b[K     |████████████████████████████████| 325 kB 31 kB/s eta 0:00:01\n",
      "\u001b[?25hRequirement already satisfied: six>=1.5 in /Library/Developer/CommandLineTools/Library/Frameworks/Python3.framework/Versions/3.9/lib/python3.9/site-packages (from python-dateutil>=2.8.2->pandas>=1.1.5->bertopic) (1.15.0)\n",
      "Requirement already satisfied: threadpoolctl>=3.1.0 in /Users/tobiasmichelsen/Library/Python/3.9/lib/python/site-packages (from scikit-learn>=1.0->bertopic) (3.6.0)\n",
      "Requirement already satisfied: transformers<5.0.0,>=4.41.0 in /Users/tobiasmichelsen/Library/Python/3.9/lib/python/site-packages (from sentence-transformers>=0.4.1->bertopic) (4.50.3)\n",
      "Requirement already satisfied: Pillow in /Users/tobiasmichelsen/Library/Python/3.9/lib/python/site-packages (from sentence-transformers>=0.4.1->bertopic) (10.3.0)\n",
      "Requirement already satisfied: typing_extensions>=4.5.0 in /Users/tobiasmichelsen/Library/Python/3.9/lib/python/site-packages (from sentence-transformers>=0.4.1->bertopic) (4.12.2)\n",
      "Requirement already satisfied: torch>=1.11.0 in /Users/tobiasmichelsen/Library/Python/3.9/lib/python/site-packages (from sentence-transformers>=0.4.1->bertopic) (2.6.0)\n",
      "Requirement already satisfied: huggingface-hub>=0.20.0 in /Users/tobiasmichelsen/Library/Python/3.9/lib/python/site-packages (from sentence-transformers>=0.4.1->bertopic) (0.30.1)\n",
      "Requirement already satisfied: pyyaml>=5.1 in /Users/tobiasmichelsen/Library/Python/3.9/lib/python/site-packages (from huggingface-hub>=0.20.0->sentence-transformers>=0.4.1->bertopic) (6.0.2)\n",
      "Requirement already satisfied: filelock in /Users/tobiasmichelsen/Library/Python/3.9/lib/python/site-packages (from huggingface-hub>=0.20.0->sentence-transformers>=0.4.1->bertopic) (3.18.0)\n",
      "Requirement already satisfied: fsspec>=2023.5.0 in /Users/tobiasmichelsen/Library/Python/3.9/lib/python/site-packages (from huggingface-hub>=0.20.0->sentence-transformers>=0.4.1->bertopic) (2024.12.0)\n",
      "Requirement already satisfied: requests in /Users/tobiasmichelsen/Library/Python/3.9/lib/python/site-packages (from huggingface-hub>=0.20.0->sentence-transformers>=0.4.1->bertopic) (2.32.3)\n",
      "Requirement already satisfied: jinja2 in /Users/tobiasmichelsen/Library/Python/3.9/lib/python/site-packages (from torch>=1.11.0->sentence-transformers>=0.4.1->bertopic) (3.1.6)\n",
      "Requirement already satisfied: sympy==1.13.1 in /Users/tobiasmichelsen/Library/Python/3.9/lib/python/site-packages (from torch>=1.11.0->sentence-transformers>=0.4.1->bertopic) (1.13.1)\n",
      "Requirement already satisfied: networkx in /Users/tobiasmichelsen/Library/Python/3.9/lib/python/site-packages (from torch>=1.11.0->sentence-transformers>=0.4.1->bertopic) (3.2.1)\n",
      "Requirement already satisfied: mpmath<1.4,>=1.1.0 in /Users/tobiasmichelsen/Library/Python/3.9/lib/python/site-packages (from sympy==1.13.1->torch>=1.11.0->sentence-transformers>=0.4.1->bertopic) (1.3.0)\n",
      "Requirement already satisfied: regex!=2019.12.17 in /Users/tobiasmichelsen/Library/Python/3.9/lib/python/site-packages (from transformers<5.0.0,>=4.41.0->sentence-transformers>=0.4.1->bertopic) (2024.11.6)\n",
      "Requirement already satisfied: tokenizers<0.22,>=0.21 in /Users/tobiasmichelsen/Library/Python/3.9/lib/python/site-packages (from transformers<5.0.0,>=4.41.0->sentence-transformers>=0.4.1->bertopic) (0.21.1)\n",
      "Requirement already satisfied: safetensors>=0.4.3 in /Users/tobiasmichelsen/Library/Python/3.9/lib/python/site-packages (from transformers<5.0.0,>=4.41.0->sentence-transformers>=0.4.1->bertopic) (0.5.3)\n",
      "Collecting pynndescent>=0.5\n",
      "  Downloading pynndescent-0.5.13-py3-none-any.whl (56 kB)\n",
      "\u001b[K     |████████████████████████████████| 56 kB 49 kB/s eta 0:00:011\n",
      "\u001b[?25hCollecting numba>=0.51.2\n",
      "  Downloading numba-0.60.0-cp39-cp39-macosx_11_0_arm64.whl (2.7 MB)\n",
      "\u001b[K     |████████████████████████████████| 2.7 MB 411 kB/s eta 0:00:01\n",
      "\u001b[?25hCollecting llvmlite<0.44,>=0.43.0dev0\n",
      "  Downloading llvmlite-0.43.0-cp39-cp39-macosx_11_0_arm64.whl (28.8 MB)\n",
      "\u001b[K     |████████████████████████████████| 28.8 MB 201 kB/s eta 0:00:01\n",
      "\u001b[?25hRequirement already satisfied: MarkupSafe>=2.0 in /Users/tobiasmichelsen/Library/Python/3.9/lib/python/site-packages (from jinja2->torch>=1.11.0->sentence-transformers>=0.4.1->bertopic) (3.0.2)\n",
      "Requirement already satisfied: idna<4,>=2.5 in /Users/tobiasmichelsen/Library/Python/3.9/lib/python/site-packages (from requests->huggingface-hub>=0.20.0->sentence-transformers>=0.4.1->bertopic) (3.10)\n",
      "Requirement already satisfied: charset-normalizer<4,>=2 in /Users/tobiasmichelsen/Library/Python/3.9/lib/python/site-packages (from requests->huggingface-hub>=0.20.0->sentence-transformers>=0.4.1->bertopic) (3.4.1)\n",
      "Requirement already satisfied: urllib3<3,>=1.21.1 in /Users/tobiasmichelsen/Library/Python/3.9/lib/python/site-packages (from requests->huggingface-hub>=0.20.0->sentence-transformers>=0.4.1->bertopic) (1.26.20)\n",
      "Requirement already satisfied: certifi>=2017.4.17 in /Users/tobiasmichelsen/Library/Python/3.9/lib/python/site-packages (from requests->huggingface-hub>=0.20.0->sentence-transformers>=0.4.1->bertopic) (2025.1.31)\n",
      "Building wheels for collected packages: hdbscan\n",
      "  Building wheel for hdbscan (PEP 517) ... \u001b[?25ldone\n",
      "\u001b[?25h  Created wheel for hdbscan: filename=hdbscan-0.8.40-cp39-cp39-macosx_10_9_universal2.whl size=1496043 sha256=6f58e218ccc9820942fa3f04ba5241d6cd07898c72c37e4e137c8d52c25e1a2f\n",
      "  Stored in directory: /Users/tobiasmichelsen/Library/Caches/pip/wheels/d7/a1/fa/cf52ce36f64d96efeaea8fcebb37b11c9f27308a914381ff0e\n",
      "Successfully built hdbscan\n",
      "Installing collected packages: llvmlite, numba, pynndescent, narwhals, umap-learn, plotly, hdbscan, bertopic\n",
      "Successfully installed bertopic-0.17.0 hdbscan-0.8.40 llvmlite-0.43.0 narwhals-1.35.0 numba-0.60.0 plotly-6.0.1 pynndescent-0.5.13 umap-learn-0.5.7\n",
      "\u001b[33mWARNING: You are using pip version 21.2.4; however, version 25.0.1 is available.\n",
      "You should consider upgrading via the '/Library/Developer/CommandLineTools/usr/bin/python3 -m pip install --upgrade pip' command.\u001b[0m\n",
      "Note: you may need to restart the kernel to use updated packages.\n"
     ]
    }
   ],
   "source": [
    "pip install bertopic -q"
   ]
  },
  {
   "cell_type": "code",
   "execution_count": 65,
   "metadata": {},
   "outputs": [],
   "source": [
    "from bertopic import BERTopic"
   ]
  },
  {
   "cell_type": "code",
   "execution_count": 66,
   "metadata": {},
   "outputs": [],
   "source": [
    "topic_model = BERTopic(language=\"english\", verbose=True)"
   ]
  },
  {
   "cell_type": "code",
   "execution_count": 26,
   "metadata": {},
   "outputs": [
    {
     "ename": "NameError",
     "evalue": "name 'embeddings' is not defined",
     "output_type": "error",
     "traceback": [
      "\u001b[0;31m---------------------------------------------------------------------------\u001b[0m",
      "\u001b[0;31mNameError\u001b[0m                                 Traceback (most recent call last)",
      "Cell \u001b[0;32mIn[26], line 1\u001b[0m\n\u001b[0;32m----> 1\u001b[0m topics, probs \u001b[39m=\u001b[39m topic_model\u001b[39m.\u001b[39mfit_transform(texts_to_embed, embeddings)\n\u001b[1;32m      3\u001b[0m topic_model\u001b[39m.\u001b[39mget_topic_info()\u001b[39m.\u001b[39mhead(\u001b[39m20\u001b[39m)\n",
      "\u001b[0;31mNameError\u001b[0m: name 'embeddings' is not defined"
     ]
    }
   ],
   "source": [
    "topics, probs = topic_model.fit_transform(texts_to_embed, embeddings)\n",
    "\n",
    "topic_model.get_topic_info().head(20)"
   ]
  },
  {
   "attachments": {},
   "cell_type": "markdown",
   "metadata": {},
   "source": [
    "## Tuning\n",
    "\n",
    "To improve the clustering of topics, we can improve the model in several ways:\n",
    "\n",
    "- Change UDBSCAN settings (min_cluster_size, min_samples, metrics = euclidean, manhattan, cosine)\n",
    "- Manual merging of topics (Two related fine-grained topics could be merged into a broader, more general topic)\n",
    "- Change Sentence Transformer to a different model (ie. \"all-mpnet-base-v2\")\n",
    "\n"
   ]
  },
  {
   "attachments": {},
   "cell_type": "markdown",
   "metadata": {},
   "source": [
    "## CURRENT!:\n",
    "\n",
    "- steps of 2 for hyperparameters\n",
    "- uses cosine through normalization as well - in case it doesnt work it goes back to euclidean\n",
    "- logs and saves results in a csv\n",
    "\n",
    "- "
   ]
  },
  {
   "cell_type": "code",
   "execution_count": 29,
   "metadata": {},
   "outputs": [
    {
     "name": "stdout",
     "output_type": "stream",
     "text": [
      "\n",
      "Embedding model: all-MiniLM-L6-v2\n"
     ]
    },
    {
     "name": "stderr",
     "output_type": "stream",
     "text": [
      "Batches: 100%|██████████| 359/359 [01:12<00:00,  4.93it/s]\n"
     ]
    },
    {
     "name": "stdout",
     "output_type": "stream",
     "text": [
      "\n",
      "Running: {'embedding_model': 'all-MiniLM-L6-v2', 'metric': 'euclidean', 'min_cluster_size': 10, 'min_samples': 5, 'nr_topics': 8}\n"
     ]
    },
    {
     "name": "stderr",
     "output_type": "stream",
     "text": [
      "2025-04-22 05:28:19,141 - BERTopic - WARNING: When you use `pickle` to save/load a BERTopic model,please make sure that the environments in which you saveand load the model are **exactly** the same. The version of BERTopic,its dependencies, and python need to remain the same.\n"
     ]
    },
    {
     "name": "stdout",
     "output_type": "stream",
     "text": [
      "Done | Topics: 7, Outliers: 4856 (42.35%) | Time: 9.35s\n",
      "\n",
      "Running: {'embedding_model': 'all-MiniLM-L6-v2', 'metric': 'euclidean', 'min_cluster_size': 10, 'min_samples': 5, 'nr_topics': 10}\n"
     ]
    },
    {
     "name": "stderr",
     "output_type": "stream",
     "text": [
      "2025-04-22 05:28:28,134 - BERTopic - WARNING: When you use `pickle` to save/load a BERTopic model,please make sure that the environments in which you saveand load the model are **exactly** the same. The version of BERTopic,its dependencies, and python need to remain the same.\n"
     ]
    },
    {
     "name": "stdout",
     "output_type": "stream",
     "text": [
      "Done | Topics: 9, Outliers: 4789 (41.76%) | Time: 6.44s\n",
      "\n",
      "Running: {'embedding_model': 'all-MiniLM-L6-v2', 'metric': 'euclidean', 'min_cluster_size': 10, 'min_samples': 5, 'nr_topics': 12}\n"
     ]
    },
    {
     "name": "stderr",
     "output_type": "stream",
     "text": [
      "2025-04-22 05:28:36,572 - BERTopic - WARNING: When you use `pickle` to save/load a BERTopic model,please make sure that the environments in which you saveand load the model are **exactly** the same. The version of BERTopic,its dependencies, and python need to remain the same.\n"
     ]
    },
    {
     "name": "stdout",
     "output_type": "stream",
     "text": [
      "Done | Topics: 11, Outliers: 4830 (42.12%) | Time: 6.23s\n",
      "\n",
      "Running: {'embedding_model': 'all-MiniLM-L6-v2', 'metric': 'euclidean', 'min_cluster_size': 10, 'min_samples': 5, 'nr_topics': 14}\n"
     ]
    },
    {
     "name": "stderr",
     "output_type": "stream",
     "text": [
      "2025-04-22 05:28:45,381 - BERTopic - WARNING: When you use `pickle` to save/load a BERTopic model,please make sure that the environments in which you saveand load the model are **exactly** the same. The version of BERTopic,its dependencies, and python need to remain the same.\n"
     ]
    },
    {
     "name": "stdout",
     "output_type": "stream",
     "text": [
      "Done | Topics: 13, Outliers: 4694 (40.93%) | Time: 6.84s\n",
      "\n",
      "Running: {'embedding_model': 'all-MiniLM-L6-v2', 'metric': 'manhattan', 'min_cluster_size': 10, 'min_samples': 5, 'nr_topics': 8}\n"
     ]
    },
    {
     "name": "stderr",
     "output_type": "stream",
     "text": [
      "2025-04-22 05:28:54,833 - BERTopic - WARNING: When you use `pickle` to save/load a BERTopic model,please make sure that the environments in which you saveand load the model are **exactly** the same. The version of BERTopic,its dependencies, and python need to remain the same.\n"
     ]
    },
    {
     "name": "stdout",
     "output_type": "stream",
     "text": [
      "Done | Topics: 7, Outliers: 4581 (39.95%) | Time: 7.24s\n",
      "\n",
      "Running: {'embedding_model': 'all-MiniLM-L6-v2', 'metric': 'manhattan', 'min_cluster_size': 10, 'min_samples': 5, 'nr_topics': 10}\n"
     ]
    },
    {
     "name": "stderr",
     "output_type": "stream",
     "text": [
      "2025-04-22 05:29:03,146 - BERTopic - WARNING: When you use `pickle` to save/load a BERTopic model,please make sure that the environments in which you saveand load the model are **exactly** the same. The version of BERTopic,its dependencies, and python need to remain the same.\n"
     ]
    },
    {
     "name": "stdout",
     "output_type": "stream",
     "text": [
      "Done | Topics: 9, Outliers: 4685 (40.86%) | Time: 6.25s\n",
      "\n",
      "Running: {'embedding_model': 'all-MiniLM-L6-v2', 'metric': 'manhattan', 'min_cluster_size': 10, 'min_samples': 5, 'nr_topics': 12}\n"
     ]
    },
    {
     "name": "stderr",
     "output_type": "stream",
     "text": [
      "2025-04-22 05:29:14,124 - BERTopic - WARNING: When you use `pickle` to save/load a BERTopic model,please make sure that the environments in which you saveand load the model are **exactly** the same. The version of BERTopic,its dependencies, and python need to remain the same.\n"
     ]
    },
    {
     "name": "stdout",
     "output_type": "stream",
     "text": [
      "Done | Topics: 11, Outliers: 4730 (41.25%) | Time: 7.71s\n",
      "\n",
      "Running: {'embedding_model': 'all-MiniLM-L6-v2', 'metric': 'manhattan', 'min_cluster_size': 10, 'min_samples': 5, 'nr_topics': 14}\n"
     ]
    },
    {
     "name": "stderr",
     "output_type": "stream",
     "text": [
      "2025-04-22 05:29:24,435 - BERTopic - WARNING: When you use `pickle` to save/load a BERTopic model,please make sure that the environments in which you saveand load the model are **exactly** the same. The version of BERTopic,its dependencies, and python need to remain the same.\n"
     ]
    },
    {
     "name": "stdout",
     "output_type": "stream",
     "text": [
      "Done | Topics: 13, Outliers: 4402 (38.39%) | Time: 8.34s\n",
      "\n",
      "Running: {'embedding_model': 'all-MiniLM-L6-v2', 'metric': 'cosine', 'min_cluster_size': 10, 'min_samples': 5, 'nr_topics': 8}\n"
     ]
    },
    {
     "name": "stderr",
     "output_type": "stream",
     "text": [
      "2025-04-22 05:29:37,017 - BERTopic - WARNING: When you use `pickle` to save/load a BERTopic model,please make sure that the environments in which you saveand load the model are **exactly** the same. The version of BERTopic,its dependencies, and python need to remain the same.\n"
     ]
    },
    {
     "name": "stdout",
     "output_type": "stream",
     "text": [
      "Done | Topics: 7, Outliers: 4637 (40.44%) | Time: 9.81s\n",
      "\n",
      "Running: {'embedding_model': 'all-MiniLM-L6-v2', 'metric': 'cosine', 'min_cluster_size': 10, 'min_samples': 5, 'nr_topics': 10}\n"
     ]
    },
    {
     "name": "stderr",
     "output_type": "stream",
     "text": [
      "2025-04-22 05:29:47,367 - BERTopic - WARNING: When you use `pickle` to save/load a BERTopic model,please make sure that the environments in which you saveand load the model are **exactly** the same. The version of BERTopic,its dependencies, and python need to remain the same.\n"
     ]
    },
    {
     "name": "stdout",
     "output_type": "stream",
     "text": [
      "Done | Topics: 9, Outliers: 4372 (38.13%) | Time: 8.3s\n",
      "\n",
      "Running: {'embedding_model': 'all-MiniLM-L6-v2', 'metric': 'cosine', 'min_cluster_size': 10, 'min_samples': 5, 'nr_topics': 12}\n"
     ]
    },
    {
     "name": "stderr",
     "output_type": "stream",
     "text": [
      "2025-04-22 05:29:56,623 - BERTopic - WARNING: When you use `pickle` to save/load a BERTopic model,please make sure that the environments in which you saveand load the model are **exactly** the same. The version of BERTopic,its dependencies, and python need to remain the same.\n"
     ]
    },
    {
     "name": "stdout",
     "output_type": "stream",
     "text": [
      "Done | Topics: 11, Outliers: 4421 (38.55%) | Time: 6.98s\n",
      "\n",
      "Running: {'embedding_model': 'all-MiniLM-L6-v2', 'metric': 'cosine', 'min_cluster_size': 10, 'min_samples': 5, 'nr_topics': 14}\n"
     ]
    },
    {
     "name": "stderr",
     "output_type": "stream",
     "text": [
      "2025-04-22 05:30:09,902 - BERTopic - WARNING: When you use `pickle` to save/load a BERTopic model,please make sure that the environments in which you saveand load the model are **exactly** the same. The version of BERTopic,its dependencies, and python need to remain the same.\n"
     ]
    },
    {
     "name": "stdout",
     "output_type": "stream",
     "text": [
      "Done | Topics: 13, Outliers: 4574 (39.89%) | Time: 9.62s\n",
      "\n",
      "Running: {'embedding_model': 'all-MiniLM-L6-v2', 'metric': 'euclidean', 'min_cluster_size': 10, 'min_samples': 7, 'nr_topics': 8}\n"
     ]
    },
    {
     "name": "stderr",
     "output_type": "stream",
     "text": [
      "2025-04-22 05:30:19,371 - BERTopic - WARNING: When you use `pickle` to save/load a BERTopic model,please make sure that the environments in which you saveand load the model are **exactly** the same. The version of BERTopic,its dependencies, and python need to remain the same.\n"
     ]
    },
    {
     "name": "stdout",
     "output_type": "stream",
     "text": [
      "Done | Topics: 7, Outliers: 4758 (41.49%) | Time: 7.07s\n",
      "\n",
      "Running: {'embedding_model': 'all-MiniLM-L6-v2', 'metric': 'euclidean', 'min_cluster_size': 10, 'min_samples': 7, 'nr_topics': 10}\n"
     ]
    },
    {
     "name": "stderr",
     "output_type": "stream",
     "text": [
      "2025-04-22 05:30:27,269 - BERTopic - WARNING: When you use `pickle` to save/load a BERTopic model,please make sure that the environments in which you saveand load the model are **exactly** the same. The version of BERTopic,its dependencies, and python need to remain the same.\n"
     ]
    },
    {
     "name": "stdout",
     "output_type": "stream",
     "text": [
      "Done | Topics: 9, Outliers: 4895 (42.69%) | Time: 5.98s\n",
      "\n",
      "Running: {'embedding_model': 'all-MiniLM-L6-v2', 'metric': 'euclidean', 'min_cluster_size': 10, 'min_samples': 7, 'nr_topics': 12}\n"
     ]
    },
    {
     "name": "stderr",
     "output_type": "stream",
     "text": [
      "2025-04-22 05:30:36,619 - BERTopic - WARNING: When you use `pickle` to save/load a BERTopic model,please make sure that the environments in which you saveand load the model are **exactly** the same. The version of BERTopic,its dependencies, and python need to remain the same.\n"
     ]
    },
    {
     "name": "stdout",
     "output_type": "stream",
     "text": [
      "Done | Topics: 11, Outliers: 4857 (42.36%) | Time: 7.41s\n",
      "\n",
      "Running: {'embedding_model': 'all-MiniLM-L6-v2', 'metric': 'euclidean', 'min_cluster_size': 10, 'min_samples': 7, 'nr_topics': 14}\n"
     ]
    },
    {
     "name": "stderr",
     "output_type": "stream",
     "text": [
      "2025-04-22 05:30:48,323 - BERTopic - WARNING: When you use `pickle` to save/load a BERTopic model,please make sure that the environments in which you saveand load the model are **exactly** the same. The version of BERTopic,its dependencies, and python need to remain the same.\n"
     ]
    },
    {
     "name": "stdout",
     "output_type": "stream",
     "text": [
      "Done | Topics: 13, Outliers: 5114 (44.6%) | Time: 9.79s\n",
      "\n",
      "Running: {'embedding_model': 'all-MiniLM-L6-v2', 'metric': 'manhattan', 'min_cluster_size': 10, 'min_samples': 7, 'nr_topics': 8}\n"
     ]
    },
    {
     "name": "stderr",
     "output_type": "stream",
     "text": [
      "2025-04-22 05:31:00,795 - BERTopic - WARNING: When you use `pickle` to save/load a BERTopic model,please make sure that the environments in which you saveand load the model are **exactly** the same. The version of BERTopic,its dependencies, and python need to remain the same.\n"
     ]
    },
    {
     "name": "stdout",
     "output_type": "stream",
     "text": [
      "Done | Topics: 7, Outliers: 4887 (42.62%) | Time: 8.9s\n",
      "\n",
      "Running: {'embedding_model': 'all-MiniLM-L6-v2', 'metric': 'manhattan', 'min_cluster_size': 10, 'min_samples': 7, 'nr_topics': 10}\n"
     ]
    },
    {
     "name": "stderr",
     "output_type": "stream",
     "text": [
      "2025-04-22 05:31:11,747 - BERTopic - WARNING: When you use `pickle` to save/load a BERTopic model,please make sure that the environments in which you saveand load the model are **exactly** the same. The version of BERTopic,its dependencies, and python need to remain the same.\n"
     ]
    },
    {
     "name": "stdout",
     "output_type": "stream",
     "text": [
      "Done | Topics: 9, Outliers: 5109 (44.55%) | Time: 8.63s\n",
      "\n",
      "Running: {'embedding_model': 'all-MiniLM-L6-v2', 'metric': 'manhattan', 'min_cluster_size': 10, 'min_samples': 7, 'nr_topics': 12}\n"
     ]
    },
    {
     "name": "stderr",
     "output_type": "stream",
     "text": [
      "2025-04-22 05:31:20,401 - BERTopic - WARNING: When you use `pickle` to save/load a BERTopic model,please make sure that the environments in which you saveand load the model are **exactly** the same. The version of BERTopic,its dependencies, and python need to remain the same.\n"
     ]
    },
    {
     "name": "stdout",
     "output_type": "stream",
     "text": [
      "Done | Topics: 11, Outliers: 5021 (43.79%) | Time: 6.65s\n",
      "\n",
      "Running: {'embedding_model': 'all-MiniLM-L6-v2', 'metric': 'manhattan', 'min_cluster_size': 10, 'min_samples': 7, 'nr_topics': 14}\n"
     ]
    },
    {
     "name": "stderr",
     "output_type": "stream",
     "text": [
      "2025-04-22 05:31:28,757 - BERTopic - WARNING: When you use `pickle` to save/load a BERTopic model,please make sure that the environments in which you saveand load the model are **exactly** the same. The version of BERTopic,its dependencies, and python need to remain the same.\n"
     ]
    },
    {
     "name": "stdout",
     "output_type": "stream",
     "text": [
      "Done | Topics: 13, Outliers: 4996 (43.57%) | Time: 6.41s\n",
      "\n",
      "Running: {'embedding_model': 'all-MiniLM-L6-v2', 'metric': 'cosine', 'min_cluster_size': 10, 'min_samples': 7, 'nr_topics': 8}\n"
     ]
    },
    {
     "name": "stderr",
     "output_type": "stream",
     "text": [
      "2025-04-22 05:31:37,968 - BERTopic - WARNING: When you use `pickle` to save/load a BERTopic model,please make sure that the environments in which you saveand load the model are **exactly** the same. The version of BERTopic,its dependencies, and python need to remain the same.\n"
     ]
    },
    {
     "name": "stdout",
     "output_type": "stream",
     "text": [
      "Done | Topics: 7, Outliers: 4784 (41.72%) | Time: 7.28s\n",
      "\n",
      "Running: {'embedding_model': 'all-MiniLM-L6-v2', 'metric': 'cosine', 'min_cluster_size': 10, 'min_samples': 7, 'nr_topics': 10}\n"
     ]
    },
    {
     "name": "stderr",
     "output_type": "stream",
     "text": [
      "2025-04-22 05:31:51,609 - BERTopic - WARNING: When you use `pickle` to save/load a BERTopic model,please make sure that the environments in which you saveand load the model are **exactly** the same. The version of BERTopic,its dependencies, and python need to remain the same.\n"
     ]
    },
    {
     "name": "stdout",
     "output_type": "stream",
     "text": [
      "Done | Topics: 9, Outliers: 5156 (44.96%) | Time: 11.27s\n",
      "\n",
      "Running: {'embedding_model': 'all-MiniLM-L6-v2', 'metric': 'cosine', 'min_cluster_size': 10, 'min_samples': 7, 'nr_topics': 12}\n"
     ]
    },
    {
     "name": "stderr",
     "output_type": "stream",
     "text": [
      "2025-04-22 05:32:00,978 - BERTopic - WARNING: When you use `pickle` to save/load a BERTopic model,please make sure that the environments in which you saveand load the model are **exactly** the same. The version of BERTopic,its dependencies, and python need to remain the same.\n"
     ]
    },
    {
     "name": "stdout",
     "output_type": "stream",
     "text": [
      "Done | Topics: 11, Outliers: 4748 (41.41%) | Time: 6.13s\n",
      "\n",
      "Running: {'embedding_model': 'all-MiniLM-L6-v2', 'metric': 'cosine', 'min_cluster_size': 10, 'min_samples': 7, 'nr_topics': 14}\n"
     ]
    },
    {
     "name": "stderr",
     "output_type": "stream",
     "text": [
      "2025-04-22 05:32:08,560 - BERTopic - WARNING: When you use `pickle` to save/load a BERTopic model,please make sure that the environments in which you saveand load the model are **exactly** the same. The version of BERTopic,its dependencies, and python need to remain the same.\n"
     ]
    },
    {
     "name": "stdout",
     "output_type": "stream",
     "text": [
      "Done | Topics: 13, Outliers: 5023 (43.8%) | Time: 5.8s\n",
      "\n",
      "Running: {'embedding_model': 'all-MiniLM-L6-v2', 'metric': 'euclidean', 'min_cluster_size': 10, 'min_samples': 9, 'nr_topics': 8}\n"
     ]
    },
    {
     "name": "stderr",
     "output_type": "stream",
     "text": [
      "2025-04-22 05:32:16,588 - BERTopic - WARNING: When you use `pickle` to save/load a BERTopic model,please make sure that the environments in which you saveand load the model are **exactly** the same. The version of BERTopic,its dependencies, and python need to remain the same.\n"
     ]
    },
    {
     "name": "stdout",
     "output_type": "stream",
     "text": [
      "Done | Topics: 7, Outliers: 5379 (46.91%) | Time: 6.36s\n",
      "\n",
      "Running: {'embedding_model': 'all-MiniLM-L6-v2', 'metric': 'euclidean', 'min_cluster_size': 10, 'min_samples': 9, 'nr_topics': 10}\n"
     ]
    },
    {
     "name": "stderr",
     "output_type": "stream",
     "text": [
      "2025-04-22 05:32:26,322 - BERTopic - WARNING: When you use `pickle` to save/load a BERTopic model,please make sure that the environments in which you saveand load the model are **exactly** the same. The version of BERTopic,its dependencies, and python need to remain the same.\n"
     ]
    },
    {
     "name": "stdout",
     "output_type": "stream",
     "text": [
      "Done | Topics: 9, Outliers: 5420 (47.27%) | Time: 7.69s\n",
      "\n",
      "Running: {'embedding_model': 'all-MiniLM-L6-v2', 'metric': 'euclidean', 'min_cluster_size': 10, 'min_samples': 9, 'nr_topics': 12}\n"
     ]
    },
    {
     "name": "stderr",
     "output_type": "stream",
     "text": [
      "2025-04-22 05:32:37,529 - BERTopic - WARNING: When you use `pickle` to save/load a BERTopic model,please make sure that the environments in which you saveand load the model are **exactly** the same. The version of BERTopic,its dependencies, and python need to remain the same.\n"
     ]
    },
    {
     "name": "stdout",
     "output_type": "stream",
     "text": [
      "Done | Topics: 11, Outliers: 4849 (42.29%) | Time: 9.32s\n",
      "\n",
      "Running: {'embedding_model': 'all-MiniLM-L6-v2', 'metric': 'euclidean', 'min_cluster_size': 10, 'min_samples': 9, 'nr_topics': 14}\n"
     ]
    },
    {
     "name": "stderr",
     "output_type": "stream",
     "text": [
      "2025-04-22 05:32:48,087 - BERTopic - WARNING: When you use `pickle` to save/load a BERTopic model,please make sure that the environments in which you saveand load the model are **exactly** the same. The version of BERTopic,its dependencies, and python need to remain the same.\n"
     ]
    },
    {
     "name": "stdout",
     "output_type": "stream",
     "text": [
      "Done | Topics: 13, Outliers: 4882 (42.57%) | Time: 6.44s\n",
      "\n",
      "Running: {'embedding_model': 'all-MiniLM-L6-v2', 'metric': 'manhattan', 'min_cluster_size': 10, 'min_samples': 9, 'nr_topics': 8}\n"
     ]
    },
    {
     "name": "stderr",
     "output_type": "stream",
     "text": [
      "2025-04-22 05:32:56,814 - BERTopic - WARNING: When you use `pickle` to save/load a BERTopic model,please make sure that the environments in which you saveand load the model are **exactly** the same. The version of BERTopic,its dependencies, and python need to remain the same.\n"
     ]
    },
    {
     "name": "stdout",
     "output_type": "stream",
     "text": [
      "Done | Topics: 7, Outliers: 5026 (43.83%) | Time: 6.86s\n",
      "\n",
      "Running: {'embedding_model': 'all-MiniLM-L6-v2', 'metric': 'manhattan', 'min_cluster_size': 10, 'min_samples': 9, 'nr_topics': 10}\n"
     ]
    },
    {
     "name": "stderr",
     "output_type": "stream",
     "text": [
      "2025-04-22 05:33:05,443 - BERTopic - WARNING: When you use `pickle` to save/load a BERTopic model,please make sure that the environments in which you saveand load the model are **exactly** the same. The version of BERTopic,its dependencies, and python need to remain the same.\n"
     ]
    },
    {
     "name": "stdout",
     "output_type": "stream",
     "text": [
      "Done | Topics: 9, Outliers: 5378 (46.9%) | Time: 6.35s\n",
      "\n",
      "Running: {'embedding_model': 'all-MiniLM-L6-v2', 'metric': 'manhattan', 'min_cluster_size': 10, 'min_samples': 9, 'nr_topics': 12}\n"
     ]
    },
    {
     "name": "stderr",
     "output_type": "stream",
     "text": [
      "2025-04-22 05:33:13,813 - BERTopic - WARNING: When you use `pickle` to save/load a BERTopic model,please make sure that the environments in which you saveand load the model are **exactly** the same. The version of BERTopic,its dependencies, and python need to remain the same.\n"
     ]
    },
    {
     "name": "stdout",
     "output_type": "stream",
     "text": [
      "Done | Topics: 11, Outliers: 5015 (43.73%) | Time: 6.6s\n",
      "\n",
      "Running: {'embedding_model': 'all-MiniLM-L6-v2', 'metric': 'manhattan', 'min_cluster_size': 10, 'min_samples': 9, 'nr_topics': 14}\n"
     ]
    },
    {
     "name": "stderr",
     "output_type": "stream",
     "text": [
      "2025-04-22 05:33:23,300 - BERTopic - WARNING: When you use `pickle` to save/load a BERTopic model,please make sure that the environments in which you saveand load the model are **exactly** the same. The version of BERTopic,its dependencies, and python need to remain the same.\n"
     ]
    },
    {
     "name": "stdout",
     "output_type": "stream",
     "text": [
      "Done | Topics: 13, Outliers: 5353 (46.68%) | Time: 7.12s\n",
      "\n",
      "Running: {'embedding_model': 'all-MiniLM-L6-v2', 'metric': 'cosine', 'min_cluster_size': 10, 'min_samples': 9, 'nr_topics': 8}\n"
     ]
    },
    {
     "name": "stderr",
     "output_type": "stream",
     "text": [
      "2025-04-22 05:33:31,992 - BERTopic - WARNING: When you use `pickle` to save/load a BERTopic model,please make sure that the environments in which you saveand load the model are **exactly** the same. The version of BERTopic,its dependencies, and python need to remain the same.\n"
     ]
    },
    {
     "name": "stdout",
     "output_type": "stream",
     "text": [
      "Done | Topics: 7, Outliers: 5022 (43.8%) | Time: 6.61s\n",
      "\n",
      "Running: {'embedding_model': 'all-MiniLM-L6-v2', 'metric': 'cosine', 'min_cluster_size': 10, 'min_samples': 9, 'nr_topics': 10}\n"
     ]
    },
    {
     "name": "stderr",
     "output_type": "stream",
     "text": [
      "2025-04-22 05:33:41,979 - BERTopic - WARNING: When you use `pickle` to save/load a BERTopic model,please make sure that the environments in which you saveand load the model are **exactly** the same. The version of BERTopic,its dependencies, and python need to remain the same.\n"
     ]
    },
    {
     "name": "stdout",
     "output_type": "stream",
     "text": [
      "Done | Topics: 9, Outliers: 4890 (42.64%) | Time: 7.14s\n",
      "\n",
      "Running: {'embedding_model': 'all-MiniLM-L6-v2', 'metric': 'cosine', 'min_cluster_size': 10, 'min_samples': 9, 'nr_topics': 12}\n"
     ]
    },
    {
     "name": "stderr",
     "output_type": "stream",
     "text": [
      "2025-04-22 05:33:51,901 - BERTopic - WARNING: When you use `pickle` to save/load a BERTopic model,please make sure that the environments in which you saveand load the model are **exactly** the same. The version of BERTopic,its dependencies, and python need to remain the same.\n"
     ]
    },
    {
     "name": "stdout",
     "output_type": "stream",
     "text": [
      "Done | Topics: 11, Outliers: 5164 (45.03%) | Time: 7.34s\n",
      "\n",
      "Running: {'embedding_model': 'all-MiniLM-L6-v2', 'metric': 'cosine', 'min_cluster_size': 10, 'min_samples': 9, 'nr_topics': 14}\n"
     ]
    },
    {
     "name": "stderr",
     "output_type": "stream",
     "text": [
      "2025-04-22 05:34:00,195 - BERTopic - WARNING: When you use `pickle` to save/load a BERTopic model,please make sure that the environments in which you saveand load the model are **exactly** the same. The version of BERTopic,its dependencies, and python need to remain the same.\n"
     ]
    },
    {
     "name": "stdout",
     "output_type": "stream",
     "text": [
      "Done | Topics: 13, Outliers: 5223 (45.55%) | Time: 6.34s\n",
      "\n",
      "Running: {'embedding_model': 'all-MiniLM-L6-v2', 'metric': 'euclidean', 'min_cluster_size': 12, 'min_samples': 5, 'nr_topics': 8}\n"
     ]
    },
    {
     "name": "stderr",
     "output_type": "stream",
     "text": [
      "2025-04-22 05:34:08,164 - BERTopic - WARNING: When you use `pickle` to save/load a BERTopic model,please make sure that the environments in which you saveand load the model are **exactly** the same. The version of BERTopic,its dependencies, and python need to remain the same.\n"
     ]
    },
    {
     "name": "stdout",
     "output_type": "stream",
     "text": [
      "Done | Topics: 7, Outliers: 4869 (42.46%) | Time: 6.02s\n",
      "\n",
      "Running: {'embedding_model': 'all-MiniLM-L6-v2', 'metric': 'euclidean', 'min_cluster_size': 12, 'min_samples': 5, 'nr_topics': 10}\n"
     ]
    },
    {
     "name": "stderr",
     "output_type": "stream",
     "text": [
      "2025-04-22 05:34:16,977 - BERTopic - WARNING: When you use `pickle` to save/load a BERTopic model,please make sure that the environments in which you saveand load the model are **exactly** the same. The version of BERTopic,its dependencies, and python need to remain the same.\n"
     ]
    },
    {
     "name": "stdout",
     "output_type": "stream",
     "text": [
      "Done | Topics: 9, Outliers: 4772 (41.62%) | Time: 6.82s\n",
      "\n",
      "Running: {'embedding_model': 'all-MiniLM-L6-v2', 'metric': 'euclidean', 'min_cluster_size': 12, 'min_samples': 5, 'nr_topics': 12}\n"
     ]
    },
    {
     "name": "stderr",
     "output_type": "stream",
     "text": [
      "2025-04-22 05:34:27,728 - BERTopic - WARNING: When you use `pickle` to save/load a BERTopic model,please make sure that the environments in which you saveand load the model are **exactly** the same. The version of BERTopic,its dependencies, and python need to remain the same.\n"
     ]
    },
    {
     "name": "stdout",
     "output_type": "stream",
     "text": [
      "Done | Topics: 11, Outliers: 4463 (38.92%) | Time: 6.65s\n",
      "\n",
      "Running: {'embedding_model': 'all-MiniLM-L6-v2', 'metric': 'euclidean', 'min_cluster_size': 12, 'min_samples': 5, 'nr_topics': 14}\n"
     ]
    },
    {
     "name": "stderr",
     "output_type": "stream",
     "text": [
      "2025-04-22 05:34:37,682 - BERTopic - WARNING: When you use `pickle` to save/load a BERTopic model,please make sure that the environments in which you saveand load the model are **exactly** the same. The version of BERTopic,its dependencies, and python need to remain the same.\n"
     ]
    },
    {
     "name": "stdout",
     "output_type": "stream",
     "text": [
      "Done | Topics: 13, Outliers: 4463 (38.92%) | Time: 7.83s\n",
      "\n",
      "Running: {'embedding_model': 'all-MiniLM-L6-v2', 'metric': 'manhattan', 'min_cluster_size': 12, 'min_samples': 5, 'nr_topics': 8}\n"
     ]
    },
    {
     "name": "stderr",
     "output_type": "stream",
     "text": [
      "2025-04-22 05:34:46,207 - BERTopic - WARNING: When you use `pickle` to save/load a BERTopic model,please make sure that the environments in which you saveand load the model are **exactly** the same. The version of BERTopic,its dependencies, and python need to remain the same.\n"
     ]
    },
    {
     "name": "stdout",
     "output_type": "stream",
     "text": [
      "Done | Topics: 7, Outliers: 4855 (42.34%) | Time: 6.46s\n",
      "\n",
      "Running: {'embedding_model': 'all-MiniLM-L6-v2', 'metric': 'manhattan', 'min_cluster_size': 12, 'min_samples': 5, 'nr_topics': 10}\n"
     ]
    },
    {
     "name": "stderr",
     "output_type": "stream",
     "text": [
      "2025-04-22 05:34:55,693 - BERTopic - WARNING: When you use `pickle` to save/load a BERTopic model,please make sure that the environments in which you saveand load the model are **exactly** the same. The version of BERTopic,its dependencies, and python need to remain the same.\n"
     ]
    },
    {
     "name": "stdout",
     "output_type": "stream",
     "text": [
      "Done | Topics: 9, Outliers: 4876 (42.52%) | Time: 7.15s\n",
      "\n",
      "Running: {'embedding_model': 'all-MiniLM-L6-v2', 'metric': 'manhattan', 'min_cluster_size': 12, 'min_samples': 5, 'nr_topics': 12}\n"
     ]
    },
    {
     "name": "stderr",
     "output_type": "stream",
     "text": [
      "2025-04-22 05:35:05,269 - BERTopic - WARNING: When you use `pickle` to save/load a BERTopic model,please make sure that the environments in which you saveand load the model are **exactly** the same. The version of BERTopic,its dependencies, and python need to remain the same.\n"
     ]
    },
    {
     "name": "stdout",
     "output_type": "stream",
     "text": [
      "Done | Topics: 11, Outliers: 4857 (42.36%) | Time: 7.6s\n",
      "\n",
      "Running: {'embedding_model': 'all-MiniLM-L6-v2', 'metric': 'manhattan', 'min_cluster_size': 12, 'min_samples': 5, 'nr_topics': 14}\n"
     ]
    },
    {
     "name": "stderr",
     "output_type": "stream",
     "text": [
      "2025-04-22 05:35:15,227 - BERTopic - WARNING: When you use `pickle` to save/load a BERTopic model,please make sure that the environments in which you saveand load the model are **exactly** the same. The version of BERTopic,its dependencies, and python need to remain the same.\n"
     ]
    },
    {
     "name": "stdout",
     "output_type": "stream",
     "text": [
      "Done | Topics: 13, Outliers: 4691 (40.91%) | Time: 6.5s\n",
      "\n",
      "Running: {'embedding_model': 'all-MiniLM-L6-v2', 'metric': 'cosine', 'min_cluster_size': 12, 'min_samples': 5, 'nr_topics': 8}\n"
     ]
    },
    {
     "name": "stderr",
     "output_type": "stream",
     "text": [
      "2025-04-22 05:35:27,893 - BERTopic - WARNING: When you use `pickle` to save/load a BERTopic model,please make sure that the environments in which you saveand load the model are **exactly** the same. The version of BERTopic,its dependencies, and python need to remain the same.\n"
     ]
    },
    {
     "name": "stdout",
     "output_type": "stream",
     "text": [
      "Done | Topics: 7, Outliers: 4746 (41.39%) | Time: 9.77s\n",
      "\n",
      "Running: {'embedding_model': 'all-MiniLM-L6-v2', 'metric': 'cosine', 'min_cluster_size': 12, 'min_samples': 5, 'nr_topics': 10}\n"
     ]
    },
    {
     "name": "stderr",
     "output_type": "stream",
     "text": [
      "2025-04-22 05:35:39,536 - BERTopic - WARNING: When you use `pickle` to save/load a BERTopic model,please make sure that the environments in which you saveand load the model are **exactly** the same. The version of BERTopic,its dependencies, and python need to remain the same.\n"
     ]
    },
    {
     "name": "stdout",
     "output_type": "stream",
     "text": [
      "Done | Topics: 9, Outliers: 4692 (40.92%) | Time: 9.46s\n",
      "\n",
      "Running: {'embedding_model': 'all-MiniLM-L6-v2', 'metric': 'cosine', 'min_cluster_size': 12, 'min_samples': 5, 'nr_topics': 12}\n"
     ]
    },
    {
     "name": "stderr",
     "output_type": "stream",
     "text": [
      "2025-04-22 05:35:49,326 - BERTopic - WARNING: When you use `pickle` to save/load a BERTopic model,please make sure that the environments in which you saveand load the model are **exactly** the same. The version of BERTopic,its dependencies, and python need to remain the same.\n"
     ]
    },
    {
     "name": "stdout",
     "output_type": "stream",
     "text": [
      "Done | Topics: 11, Outliers: 4503 (39.27%) | Time: 7.24s\n",
      "\n",
      "Running: {'embedding_model': 'all-MiniLM-L6-v2', 'metric': 'cosine', 'min_cluster_size': 12, 'min_samples': 5, 'nr_topics': 14}\n"
     ]
    },
    {
     "name": "stderr",
     "output_type": "stream",
     "text": [
      "2025-04-22 05:35:59,037 - BERTopic - WARNING: When you use `pickle` to save/load a BERTopic model,please make sure that the environments in which you saveand load the model are **exactly** the same. The version of BERTopic,its dependencies, and python need to remain the same.\n"
     ]
    },
    {
     "name": "stdout",
     "output_type": "stream",
     "text": [
      "Done | Topics: 13, Outliers: 4764 (41.55%) | Time: 7.81s\n",
      "\n",
      "Running: {'embedding_model': 'all-MiniLM-L6-v2', 'metric': 'euclidean', 'min_cluster_size': 12, 'min_samples': 7, 'nr_topics': 8}\n"
     ]
    },
    {
     "name": "stderr",
     "output_type": "stream",
     "text": [
      "2025-04-22 05:36:08,058 - BERTopic - WARNING: When you use `pickle` to save/load a BERTopic model,please make sure that the environments in which you saveand load the model are **exactly** the same. The version of BERTopic,its dependencies, and python need to remain the same.\n"
     ]
    },
    {
     "name": "stdout",
     "output_type": "stream",
     "text": [
      "Done | Topics: 7, Outliers: 4886 (42.61%) | Time: 6.78s\n",
      "\n",
      "Running: {'embedding_model': 'all-MiniLM-L6-v2', 'metric': 'euclidean', 'min_cluster_size': 12, 'min_samples': 7, 'nr_topics': 10}\n"
     ]
    },
    {
     "name": "stderr",
     "output_type": "stream",
     "text": [
      "2025-04-22 05:36:18,626 - BERTopic - WARNING: When you use `pickle` to save/load a BERTopic model,please make sure that the environments in which you saveand load the model are **exactly** the same. The version of BERTopic,its dependencies, and python need to remain the same.\n"
     ]
    },
    {
     "name": "stdout",
     "output_type": "stream",
     "text": [
      "Done | Topics: 9, Outliers: 5174 (45.12%) | Time: 7.48s\n",
      "\n",
      "Running: {'embedding_model': 'all-MiniLM-L6-v2', 'metric': 'euclidean', 'min_cluster_size': 12, 'min_samples': 7, 'nr_topics': 12}\n"
     ]
    },
    {
     "name": "stderr",
     "output_type": "stream",
     "text": [
      "2025-04-22 05:36:27,546 - BERTopic - WARNING: When you use `pickle` to save/load a BERTopic model,please make sure that the environments in which you saveand load the model are **exactly** the same. The version of BERTopic,its dependencies, and python need to remain the same.\n"
     ]
    },
    {
     "name": "stdout",
     "output_type": "stream",
     "text": [
      "Done | Topics: 11, Outliers: 4430 (38.63%) | Time: 6.14s\n",
      "\n",
      "Running: {'embedding_model': 'all-MiniLM-L6-v2', 'metric': 'euclidean', 'min_cluster_size': 12, 'min_samples': 7, 'nr_topics': 14}\n"
     ]
    },
    {
     "name": "stderr",
     "output_type": "stream",
     "text": [
      "2025-04-22 05:36:35,303 - BERTopic - WARNING: When you use `pickle` to save/load a BERTopic model,please make sure that the environments in which you saveand load the model are **exactly** the same. The version of BERTopic,its dependencies, and python need to remain the same.\n"
     ]
    },
    {
     "name": "stdout",
     "output_type": "stream",
     "text": [
      "Done | Topics: 13, Outliers: 5131 (44.75%) | Time: 6.04s\n",
      "\n",
      "Running: {'embedding_model': 'all-MiniLM-L6-v2', 'metric': 'manhattan', 'min_cluster_size': 12, 'min_samples': 7, 'nr_topics': 8}\n"
     ]
    },
    {
     "name": "stderr",
     "output_type": "stream",
     "text": [
      "2025-04-22 05:36:43,400 - BERTopic - WARNING: When you use `pickle` to save/load a BERTopic model,please make sure that the environments in which you saveand load the model are **exactly** the same. The version of BERTopic,its dependencies, and python need to remain the same.\n"
     ]
    },
    {
     "name": "stdout",
     "output_type": "stream",
     "text": [
      "Done | Topics: 7, Outliers: 4945 (43.12%) | Time: 6.21s\n",
      "\n",
      "Running: {'embedding_model': 'all-MiniLM-L6-v2', 'metric': 'manhattan', 'min_cluster_size': 12, 'min_samples': 7, 'nr_topics': 10}\n"
     ]
    },
    {
     "name": "stderr",
     "output_type": "stream",
     "text": [
      "2025-04-22 05:36:51,632 - BERTopic - WARNING: When you use `pickle` to save/load a BERTopic model,please make sure that the environments in which you saveand load the model are **exactly** the same. The version of BERTopic,its dependencies, and python need to remain the same.\n"
     ]
    },
    {
     "name": "stdout",
     "output_type": "stream",
     "text": [
      "Done | Topics: 9, Outliers: 4924 (42.94%) | Time: 6.35s\n",
      "\n",
      "Running: {'embedding_model': 'all-MiniLM-L6-v2', 'metric': 'manhattan', 'min_cluster_size': 12, 'min_samples': 7, 'nr_topics': 12}\n"
     ]
    },
    {
     "name": "stderr",
     "output_type": "stream",
     "text": [
      "2025-04-22 05:36:58,375 - BERTopic - WARNING: When you use `pickle` to save/load a BERTopic model,please make sure that the environments in which you saveand load the model are **exactly** the same. The version of BERTopic,its dependencies, and python need to remain the same.\n"
     ]
    },
    {
     "name": "stdout",
     "output_type": "stream",
     "text": [
      "Done | Topics: 11, Outliers: 4843 (42.23%) | Time: 5.07s\n",
      "\n",
      "Running: {'embedding_model': 'all-MiniLM-L6-v2', 'metric': 'manhattan', 'min_cluster_size': 12, 'min_samples': 7, 'nr_topics': 14}\n"
     ]
    },
    {
     "name": "stderr",
     "output_type": "stream",
     "text": [
      "2025-04-22 05:37:07,718 - BERTopic - WARNING: When you use `pickle` to save/load a BERTopic model,please make sure that the environments in which you saveand load the model are **exactly** the same. The version of BERTopic,its dependencies, and python need to remain the same.\n"
     ]
    },
    {
     "name": "stdout",
     "output_type": "stream",
     "text": [
      "Done | Topics: 13, Outliers: 5033 (43.89%) | Time: 7.75s\n",
      "\n",
      "Running: {'embedding_model': 'all-MiniLM-L6-v2', 'metric': 'cosine', 'min_cluster_size': 12, 'min_samples': 7, 'nr_topics': 8}\n"
     ]
    },
    {
     "name": "stderr",
     "output_type": "stream",
     "text": [
      "2025-04-22 05:37:16,611 - BERTopic - WARNING: When you use `pickle` to save/load a BERTopic model,please make sure that the environments in which you saveand load the model are **exactly** the same. The version of BERTopic,its dependencies, and python need to remain the same.\n"
     ]
    },
    {
     "name": "stdout",
     "output_type": "stream",
     "text": [
      "Done | Topics: 7, Outliers: 4840 (42.21%) | Time: 6.86s\n",
      "\n",
      "Running: {'embedding_model': 'all-MiniLM-L6-v2', 'metric': 'cosine', 'min_cluster_size': 12, 'min_samples': 7, 'nr_topics': 10}\n"
     ]
    },
    {
     "name": "stderr",
     "output_type": "stream",
     "text": [
      "2025-04-22 05:37:24,972 - BERTopic - WARNING: When you use `pickle` to save/load a BERTopic model,please make sure that the environments in which you saveand load the model are **exactly** the same. The version of BERTopic,its dependencies, and python need to remain the same.\n"
     ]
    },
    {
     "name": "stdout",
     "output_type": "stream",
     "text": [
      "Done | Topics: 9, Outliers: 4712 (41.09%) | Time: 6.25s\n",
      "\n",
      "Running: {'embedding_model': 'all-MiniLM-L6-v2', 'metric': 'cosine', 'min_cluster_size': 12, 'min_samples': 7, 'nr_topics': 12}\n"
     ]
    },
    {
     "name": "stderr",
     "output_type": "stream",
     "text": [
      "2025-04-22 05:37:33,067 - BERTopic - WARNING: When you use `pickle` to save/load a BERTopic model,please make sure that the environments in which you saveand load the model are **exactly** the same. The version of BERTopic,its dependencies, and python need to remain the same.\n"
     ]
    },
    {
     "name": "stdout",
     "output_type": "stream",
     "text": [
      "Done | Topics: 11, Outliers: 4904 (42.77%) | Time: 6.32s\n",
      "\n",
      "Running: {'embedding_model': 'all-MiniLM-L6-v2', 'metric': 'cosine', 'min_cluster_size': 12, 'min_samples': 7, 'nr_topics': 14}\n"
     ]
    },
    {
     "name": "stderr",
     "output_type": "stream",
     "text": [
      "2025-04-22 05:37:42,051 - BERTopic - WARNING: When you use `pickle` to save/load a BERTopic model,please make sure that the environments in which you saveand load the model are **exactly** the same. The version of BERTopic,its dependencies, and python need to remain the same.\n"
     ]
    },
    {
     "name": "stdout",
     "output_type": "stream",
     "text": [
      "Done | Topics: 13, Outliers: 4719 (41.15%) | Time: 7.18s\n",
      "\n",
      "Running: {'embedding_model': 'all-MiniLM-L6-v2', 'metric': 'euclidean', 'min_cluster_size': 12, 'min_samples': 9, 'nr_topics': 8}\n"
     ]
    },
    {
     "name": "stderr",
     "output_type": "stream",
     "text": [
      "2025-04-22 05:37:49,830 - BERTopic - WARNING: When you use `pickle` to save/load a BERTopic model,please make sure that the environments in which you saveand load the model are **exactly** the same. The version of BERTopic,its dependencies, and python need to remain the same.\n"
     ]
    },
    {
     "name": "stdout",
     "output_type": "stream",
     "text": [
      "Done | Topics: 7, Outliers: 4890 (42.64%) | Time: 5.94s\n",
      "\n",
      "Running: {'embedding_model': 'all-MiniLM-L6-v2', 'metric': 'euclidean', 'min_cluster_size': 12, 'min_samples': 9, 'nr_topics': 10}\n"
     ]
    },
    {
     "name": "stderr",
     "output_type": "stream",
     "text": [
      "2025-04-22 05:37:58,631 - BERTopic - WARNING: When you use `pickle` to save/load a BERTopic model,please make sure that the environments in which you saveand load the model are **exactly** the same. The version of BERTopic,its dependencies, and python need to remain the same.\n"
     ]
    },
    {
     "name": "stdout",
     "output_type": "stream",
     "text": [
      "Done | Topics: 9, Outliers: 5246 (45.75%) | Time: 5.94s\n",
      "\n",
      "Running: {'embedding_model': 'all-MiniLM-L6-v2', 'metric': 'euclidean', 'min_cluster_size': 12, 'min_samples': 9, 'nr_topics': 12}\n"
     ]
    },
    {
     "name": "stderr",
     "output_type": "stream",
     "text": [
      "2025-04-22 05:38:07,660 - BERTopic - WARNING: When you use `pickle` to save/load a BERTopic model,please make sure that the environments in which you saveand load the model are **exactly** the same. The version of BERTopic,its dependencies, and python need to remain the same.\n"
     ]
    },
    {
     "name": "stdout",
     "output_type": "stream",
     "text": [
      "Done | Topics: 11, Outliers: 5056 (44.09%) | Time: 7.02s\n",
      "\n",
      "Running: {'embedding_model': 'all-MiniLM-L6-v2', 'metric': 'euclidean', 'min_cluster_size': 12, 'min_samples': 9, 'nr_topics': 14}\n"
     ]
    },
    {
     "name": "stderr",
     "output_type": "stream",
     "text": [
      "2025-04-22 05:38:19,642 - BERTopic - WARNING: When you use `pickle` to save/load a BERTopic model,please make sure that the environments in which you saveand load the model are **exactly** the same. The version of BERTopic,its dependencies, and python need to remain the same.\n"
     ]
    },
    {
     "name": "stdout",
     "output_type": "stream",
     "text": [
      "Done | Topics: 13, Outliers: 4925 (42.95%) | Time: 8.69s\n",
      "\n",
      "Running: {'embedding_model': 'all-MiniLM-L6-v2', 'metric': 'manhattan', 'min_cluster_size': 12, 'min_samples': 9, 'nr_topics': 8}\n"
     ]
    },
    {
     "name": "stderr",
     "output_type": "stream",
     "text": [
      "2025-04-22 05:38:32,076 - BERTopic - WARNING: When you use `pickle` to save/load a BERTopic model,please make sure that the environments in which you saveand load the model are **exactly** the same. The version of BERTopic,its dependencies, and python need to remain the same.\n"
     ]
    },
    {
     "name": "stdout",
     "output_type": "stream",
     "text": [
      "Done | Topics: 7, Outliers: 5172 (45.1%) | Time: 9.09s\n",
      "\n",
      "Running: {'embedding_model': 'all-MiniLM-L6-v2', 'metric': 'manhattan', 'min_cluster_size': 12, 'min_samples': 9, 'nr_topics': 10}\n"
     ]
    },
    {
     "name": "stderr",
     "output_type": "stream",
     "text": [
      "2025-04-22 05:38:42,634 - BERTopic - WARNING: When you use `pickle` to save/load a BERTopic model,please make sure that the environments in which you saveand load the model are **exactly** the same. The version of BERTopic,its dependencies, and python need to remain the same.\n"
     ]
    },
    {
     "name": "stdout",
     "output_type": "stream",
     "text": [
      "Done | Topics: 9, Outliers: 5171 (45.09%) | Time: 8.24s\n",
      "\n",
      "Running: {'embedding_model': 'all-MiniLM-L6-v2', 'metric': 'manhattan', 'min_cluster_size': 12, 'min_samples': 9, 'nr_topics': 12}\n"
     ]
    },
    {
     "name": "stderr",
     "output_type": "stream",
     "text": [
      "2025-04-22 05:38:52,068 - BERTopic - WARNING: When you use `pickle` to save/load a BERTopic model,please make sure that the environments in which you saveand load the model are **exactly** the same. The version of BERTopic,its dependencies, and python need to remain the same.\n"
     ]
    },
    {
     "name": "stdout",
     "output_type": "stream",
     "text": [
      "Done | Topics: 11, Outliers: 5093 (44.41%) | Time: 7.34s\n",
      "\n",
      "Running: {'embedding_model': 'all-MiniLM-L6-v2', 'metric': 'manhattan', 'min_cluster_size': 12, 'min_samples': 9, 'nr_topics': 14}\n"
     ]
    },
    {
     "name": "stderr",
     "output_type": "stream",
     "text": [
      "2025-04-22 05:39:02,516 - BERTopic - WARNING: When you use `pickle` to save/load a BERTopic model,please make sure that the environments in which you saveand load the model are **exactly** the same. The version of BERTopic,its dependencies, and python need to remain the same.\n"
     ]
    },
    {
     "name": "stdout",
     "output_type": "stream",
     "text": [
      "Done | Topics: 13, Outliers: 5222 (45.54%) | Time: 7.2s\n",
      "\n",
      "Running: {'embedding_model': 'all-MiniLM-L6-v2', 'metric': 'cosine', 'min_cluster_size': 12, 'min_samples': 9, 'nr_topics': 8}\n"
     ]
    },
    {
     "name": "stderr",
     "output_type": "stream",
     "text": [
      "2025-04-22 05:39:11,835 - BERTopic - WARNING: When you use `pickle` to save/load a BERTopic model,please make sure that the environments in which you saveand load the model are **exactly** the same. The version of BERTopic,its dependencies, and python need to remain the same.\n"
     ]
    },
    {
     "name": "stdout",
     "output_type": "stream",
     "text": [
      "Done | Topics: 7, Outliers: 5265 (45.91%) | Time: 6.67s\n",
      "\n",
      "Running: {'embedding_model': 'all-MiniLM-L6-v2', 'metric': 'cosine', 'min_cluster_size': 12, 'min_samples': 9, 'nr_topics': 10}\n"
     ]
    },
    {
     "name": "stderr",
     "output_type": "stream",
     "text": [
      "2025-04-22 05:39:20,591 - BERTopic - WARNING: When you use `pickle` to save/load a BERTopic model,please make sure that the environments in which you saveand load the model are **exactly** the same. The version of BERTopic,its dependencies, and python need to remain the same.\n"
     ]
    },
    {
     "name": "stdout",
     "output_type": "stream",
     "text": [
      "Done | Topics: 9, Outliers: 5127 (44.71%) | Time: 6.8s\n",
      "\n",
      "Running: {'embedding_model': 'all-MiniLM-L6-v2', 'metric': 'cosine', 'min_cluster_size': 12, 'min_samples': 9, 'nr_topics': 12}\n"
     ]
    },
    {
     "name": "stderr",
     "output_type": "stream",
     "text": [
      "2025-04-22 05:39:28,064 - BERTopic - WARNING: When you use `pickle` to save/load a BERTopic model,please make sure that the environments in which you saveand load the model are **exactly** the same. The version of BERTopic,its dependencies, and python need to remain the same.\n"
     ]
    },
    {
     "name": "stdout",
     "output_type": "stream",
     "text": [
      "Done | Topics: 11, Outliers: 4874 (42.5%) | Time: 5.59s\n",
      "\n",
      "Running: {'embedding_model': 'all-MiniLM-L6-v2', 'metric': 'cosine', 'min_cluster_size': 12, 'min_samples': 9, 'nr_topics': 14}\n"
     ]
    },
    {
     "name": "stderr",
     "output_type": "stream",
     "text": [
      "2025-04-22 05:39:39,041 - BERTopic - WARNING: When you use `pickle` to save/load a BERTopic model,please make sure that the environments in which you saveand load the model are **exactly** the same. The version of BERTopic,its dependencies, and python need to remain the same.\n"
     ]
    },
    {
     "name": "stdout",
     "output_type": "stream",
     "text": [
      "Done | Topics: 13, Outliers: 5150 (44.91%) | Time: 8.09s\n",
      "\n",
      "Running: {'embedding_model': 'all-MiniLM-L6-v2', 'metric': 'euclidean', 'min_cluster_size': 14, 'min_samples': 5, 'nr_topics': 8}\n"
     ]
    },
    {
     "name": "stderr",
     "output_type": "stream",
     "text": [
      "2025-04-22 05:39:49,552 - BERTopic - WARNING: When you use `pickle` to save/load a BERTopic model,please make sure that the environments in which you saveand load the model are **exactly** the same. The version of BERTopic,its dependencies, and python need to remain the same.\n"
     ]
    },
    {
     "name": "stdout",
     "output_type": "stream",
     "text": [
      "Done | Topics: 7, Outliers: 4608 (40.18%) | Time: 7.97s\n",
      "\n",
      "Running: {'embedding_model': 'all-MiniLM-L6-v2', 'metric': 'euclidean', 'min_cluster_size': 14, 'min_samples': 5, 'nr_topics': 10}\n"
     ]
    },
    {
     "name": "stderr",
     "output_type": "stream",
     "text": [
      "2025-04-22 05:39:58,315 - BERTopic - WARNING: When you use `pickle` to save/load a BERTopic model,please make sure that the environments in which you saveand load the model are **exactly** the same. The version of BERTopic,its dependencies, and python need to remain the same.\n"
     ]
    },
    {
     "name": "stdout",
     "output_type": "stream",
     "text": [
      "Done | Topics: 9, Outliers: 4584 (39.98%) | Time: 5.77s\n",
      "\n",
      "Running: {'embedding_model': 'all-MiniLM-L6-v2', 'metric': 'euclidean', 'min_cluster_size': 14, 'min_samples': 5, 'nr_topics': 12}\n"
     ]
    },
    {
     "name": "stderr",
     "output_type": "stream",
     "text": [
      "2025-04-22 05:40:06,329 - BERTopic - WARNING: When you use `pickle` to save/load a BERTopic model,please make sure that the environments in which you saveand load the model are **exactly** the same. The version of BERTopic,its dependencies, and python need to remain the same.\n"
     ]
    },
    {
     "name": "stdout",
     "output_type": "stream",
     "text": [
      "Done | Topics: 11, Outliers: 4905 (42.77%) | Time: 5.95s\n",
      "\n",
      "Running: {'embedding_model': 'all-MiniLM-L6-v2', 'metric': 'euclidean', 'min_cluster_size': 14, 'min_samples': 5, 'nr_topics': 14}\n"
     ]
    },
    {
     "name": "stderr",
     "output_type": "stream",
     "text": [
      "2025-04-22 05:40:18,081 - BERTopic - WARNING: When you use `pickle` to save/load a BERTopic model,please make sure that the environments in which you saveand load the model are **exactly** the same. The version of BERTopic,its dependencies, and python need to remain the same.\n"
     ]
    },
    {
     "name": "stdout",
     "output_type": "stream",
     "text": [
      "Done | Topics: 13, Outliers: 4849 (42.29%) | Time: 9.56s\n",
      "\n",
      "Running: {'embedding_model': 'all-MiniLM-L6-v2', 'metric': 'manhattan', 'min_cluster_size': 14, 'min_samples': 5, 'nr_topics': 8}\n"
     ]
    },
    {
     "name": "stderr",
     "output_type": "stream",
     "text": [
      "2025-04-22 05:40:33,342 - BERTopic - WARNING: When you use `pickle` to save/load a BERTopic model,please make sure that the environments in which you saveand load the model are **exactly** the same. The version of BERTopic,its dependencies, and python need to remain the same.\n"
     ]
    },
    {
     "name": "stdout",
     "output_type": "stream",
     "text": [
      "Done | Topics: 7, Outliers: 4753 (41.45%) | Time: 12.06s\n",
      "\n",
      "Running: {'embedding_model': 'all-MiniLM-L6-v2', 'metric': 'manhattan', 'min_cluster_size': 14, 'min_samples': 5, 'nr_topics': 10}\n"
     ]
    },
    {
     "name": "stderr",
     "output_type": "stream",
     "text": [
      "2025-04-22 05:40:46,280 - BERTopic - WARNING: When you use `pickle` to save/load a BERTopic model,please make sure that the environments in which you saveand load the model are **exactly** the same. The version of BERTopic,its dependencies, and python need to remain the same.\n"
     ]
    },
    {
     "name": "stdout",
     "output_type": "stream",
     "text": [
      "Done | Topics: 9, Outliers: 4684 (40.85%) | Time: 9.61s\n",
      "\n",
      "Running: {'embedding_model': 'all-MiniLM-L6-v2', 'metric': 'manhattan', 'min_cluster_size': 14, 'min_samples': 5, 'nr_topics': 12}\n"
     ]
    },
    {
     "name": "stderr",
     "output_type": "stream",
     "text": [
      "2025-04-22 05:40:59,028 - BERTopic - WARNING: When you use `pickle` to save/load a BERTopic model,please make sure that the environments in which you saveand load the model are **exactly** the same. The version of BERTopic,its dependencies, and python need to remain the same.\n"
     ]
    },
    {
     "name": "stdout",
     "output_type": "stream",
     "text": [
      "Done | Topics: 11, Outliers: 4884 (42.59%) | Time: 9.86s\n",
      "\n",
      "Running: {'embedding_model': 'all-MiniLM-L6-v2', 'metric': 'manhattan', 'min_cluster_size': 14, 'min_samples': 5, 'nr_topics': 14}\n"
     ]
    },
    {
     "name": "stderr",
     "output_type": "stream",
     "text": [
      "2025-04-22 05:41:12,785 - BERTopic - WARNING: When you use `pickle` to save/load a BERTopic model,please make sure that the environments in which you saveand load the model are **exactly** the same. The version of BERTopic,its dependencies, and python need to remain the same.\n"
     ]
    },
    {
     "name": "stdout",
     "output_type": "stream",
     "text": [
      "Done | Topics: 13, Outliers: 4885 (42.6%) | Time: 9.68s\n",
      "\n",
      "Running: {'embedding_model': 'all-MiniLM-L6-v2', 'metric': 'cosine', 'min_cluster_size': 14, 'min_samples': 5, 'nr_topics': 8}\n"
     ]
    },
    {
     "name": "stderr",
     "output_type": "stream",
     "text": [
      "2025-04-22 05:41:29,475 - BERTopic - WARNING: When you use `pickle` to save/load a BERTopic model,please make sure that the environments in which you saveand load the model are **exactly** the same. The version of BERTopic,its dependencies, and python need to remain the same.\n"
     ]
    },
    {
     "name": "stdout",
     "output_type": "stream",
     "text": [
      "Done | Topics: 7, Outliers: 4831 (42.13%) | Time: 12.98s\n",
      "\n",
      "Running: {'embedding_model': 'all-MiniLM-L6-v2', 'metric': 'cosine', 'min_cluster_size': 14, 'min_samples': 5, 'nr_topics': 10}\n"
     ]
    },
    {
     "name": "stderr",
     "output_type": "stream",
     "text": [
      "2025-04-22 05:41:41,378 - BERTopic - WARNING: When you use `pickle` to save/load a BERTopic model,please make sure that the environments in which you saveand load the model are **exactly** the same. The version of BERTopic,its dependencies, and python need to remain the same.\n"
     ]
    },
    {
     "name": "stdout",
     "output_type": "stream",
     "text": [
      "Done | Topics: 9, Outliers: 4831 (42.13%) | Time: 8.64s\n",
      "\n",
      "Running: {'embedding_model': 'all-MiniLM-L6-v2', 'metric': 'cosine', 'min_cluster_size': 14, 'min_samples': 5, 'nr_topics': 12}\n"
     ]
    },
    {
     "name": "stderr",
     "output_type": "stream",
     "text": [
      "2025-04-22 05:41:51,947 - BERTopic - WARNING: When you use `pickle` to save/load a BERTopic model,please make sure that the environments in which you saveand load the model are **exactly** the same. The version of BERTopic,its dependencies, and python need to remain the same.\n"
     ]
    },
    {
     "name": "stdout",
     "output_type": "stream",
     "text": [
      "Done | Topics: 11, Outliers: 4565 (39.81%) | Time: 8.06s\n",
      "\n",
      "Running: {'embedding_model': 'all-MiniLM-L6-v2', 'metric': 'cosine', 'min_cluster_size': 14, 'min_samples': 5, 'nr_topics': 14}\n"
     ]
    },
    {
     "name": "stderr",
     "output_type": "stream",
     "text": [
      "2025-04-22 05:42:02,512 - BERTopic - WARNING: When you use `pickle` to save/load a BERTopic model,please make sure that the environments in which you saveand load the model are **exactly** the same. The version of BERTopic,its dependencies, and python need to remain the same.\n"
     ]
    },
    {
     "name": "stdout",
     "output_type": "stream",
     "text": [
      "Done | Topics: 13, Outliers: 4852 (42.31%) | Time: 7.73s\n",
      "\n",
      "Running: {'embedding_model': 'all-MiniLM-L6-v2', 'metric': 'euclidean', 'min_cluster_size': 14, 'min_samples': 7, 'nr_topics': 8}\n"
     ]
    },
    {
     "name": "stderr",
     "output_type": "stream",
     "text": [
      "2025-04-22 05:42:11,996 - BERTopic - WARNING: When you use `pickle` to save/load a BERTopic model,please make sure that the environments in which you saveand load the model are **exactly** the same. The version of BERTopic,its dependencies, and python need to remain the same.\n"
     ]
    },
    {
     "name": "stdout",
     "output_type": "stream",
     "text": [
      "Done | Topics: 7, Outliers: 4643 (40.49%) | Time: 7.13s\n",
      "\n",
      "Running: {'embedding_model': 'all-MiniLM-L6-v2', 'metric': 'euclidean', 'min_cluster_size': 14, 'min_samples': 7, 'nr_topics': 10}\n"
     ]
    },
    {
     "name": "stderr",
     "output_type": "stream",
     "text": [
      "2025-04-22 05:42:31,169 - BERTopic - WARNING: When you use `pickle` to save/load a BERTopic model,please make sure that the environments in which you saveand load the model are **exactly** the same. The version of BERTopic,its dependencies, and python need to remain the same.\n"
     ]
    },
    {
     "name": "stdout",
     "output_type": "stream",
     "text": [
      "Done | Topics: 9, Outliers: 4738 (41.32%) | Time: 15.59s\n",
      "\n",
      "Running: {'embedding_model': 'all-MiniLM-L6-v2', 'metric': 'euclidean', 'min_cluster_size': 14, 'min_samples': 7, 'nr_topics': 12}\n"
     ]
    },
    {
     "name": "stderr",
     "output_type": "stream",
     "text": [
      "2025-04-22 05:42:45,520 - BERTopic - WARNING: When you use `pickle` to save/load a BERTopic model,please make sure that the environments in which you saveand load the model are **exactly** the same. The version of BERTopic,its dependencies, and python need to remain the same.\n"
     ]
    },
    {
     "name": "stdout",
     "output_type": "stream",
     "text": [
      "Done | Topics: 11, Outliers: 5025 (43.82%) | Time: 10.13s\n",
      "\n",
      "Running: {'embedding_model': 'all-MiniLM-L6-v2', 'metric': 'euclidean', 'min_cluster_size': 14, 'min_samples': 7, 'nr_topics': 14}\n"
     ]
    },
    {
     "name": "stderr",
     "output_type": "stream",
     "text": [
      "2025-04-22 05:43:00,605 - BERTopic - WARNING: When you use `pickle` to save/load a BERTopic model,please make sure that the environments in which you saveand load the model are **exactly** the same. The version of BERTopic,its dependencies, and python need to remain the same.\n"
     ]
    },
    {
     "name": "stdout",
     "output_type": "stream",
     "text": [
      "Done | Topics: 13, Outliers: 5210 (45.43%) | Time: 11.97s\n",
      "\n",
      "Running: {'embedding_model': 'all-MiniLM-L6-v2', 'metric': 'manhattan', 'min_cluster_size': 14, 'min_samples': 7, 'nr_topics': 8}\n"
     ]
    },
    {
     "name": "stderr",
     "output_type": "stream",
     "text": [
      "2025-04-22 05:43:13,894 - BERTopic - WARNING: When you use `pickle` to save/load a BERTopic model,please make sure that the environments in which you saveand load the model are **exactly** the same. The version of BERTopic,its dependencies, and python need to remain the same.\n"
     ]
    },
    {
     "name": "stdout",
     "output_type": "stream",
     "text": [
      "Done | Topics: 7, Outliers: 4733 (41.27%) | Time: 10.25s\n",
      "\n",
      "Running: {'embedding_model': 'all-MiniLM-L6-v2', 'metric': 'manhattan', 'min_cluster_size': 14, 'min_samples': 7, 'nr_topics': 10}\n"
     ]
    },
    {
     "name": "stderr",
     "output_type": "stream",
     "text": [
      "2025-04-22 05:43:24,257 - BERTopic - WARNING: When you use `pickle` to save/load a BERTopic model,please make sure that the environments in which you saveand load the model are **exactly** the same. The version of BERTopic,its dependencies, and python need to remain the same.\n"
     ]
    },
    {
     "name": "stdout",
     "output_type": "stream",
     "text": [
      "Done | Topics: 9, Outliers: 5216 (45.49%) | Time: 7.9s\n",
      "\n",
      "Running: {'embedding_model': 'all-MiniLM-L6-v2', 'metric': 'manhattan', 'min_cluster_size': 14, 'min_samples': 7, 'nr_topics': 12}\n"
     ]
    },
    {
     "name": "stderr",
     "output_type": "stream",
     "text": [
      "2025-04-22 05:43:36,840 - BERTopic - WARNING: When you use `pickle` to save/load a BERTopic model,please make sure that the environments in which you saveand load the model are **exactly** the same. The version of BERTopic,its dependencies, and python need to remain the same.\n"
     ]
    },
    {
     "name": "stdout",
     "output_type": "stream",
     "text": [
      "Done | Topics: 11, Outliers: 5235 (45.65%) | Time: 10.33s\n",
      "\n",
      "Running: {'embedding_model': 'all-MiniLM-L6-v2', 'metric': 'manhattan', 'min_cluster_size': 14, 'min_samples': 7, 'nr_topics': 14}\n"
     ]
    },
    {
     "name": "stderr",
     "output_type": "stream",
     "text": [
      "2025-04-22 05:43:49,507 - BERTopic - WARNING: When you use `pickle` to save/load a BERTopic model,please make sure that the environments in which you saveand load the model are **exactly** the same. The version of BERTopic,its dependencies, and python need to remain the same.\n"
     ]
    },
    {
     "name": "stdout",
     "output_type": "stream",
     "text": [
      "Done | Topics: 13, Outliers: 4941 (43.09%) | Time: 10.02s\n",
      "\n",
      "Running: {'embedding_model': 'all-MiniLM-L6-v2', 'metric': 'cosine', 'min_cluster_size': 14, 'min_samples': 7, 'nr_topics': 8}\n"
     ]
    },
    {
     "name": "stderr",
     "output_type": "stream",
     "text": [
      "2025-04-22 05:44:01,438 - BERTopic - WARNING: When you use `pickle` to save/load a BERTopic model,please make sure that the environments in which you saveand load the model are **exactly** the same. The version of BERTopic,its dependencies, and python need to remain the same.\n"
     ]
    },
    {
     "name": "stdout",
     "output_type": "stream",
     "text": [
      "Done | Topics: 7, Outliers: 4935 (43.04%) | Time: 8.38s\n",
      "\n",
      "Running: {'embedding_model': 'all-MiniLM-L6-v2', 'metric': 'cosine', 'min_cluster_size': 14, 'min_samples': 7, 'nr_topics': 10}\n"
     ]
    },
    {
     "name": "stderr",
     "output_type": "stream",
     "text": [
      "2025-04-22 05:44:13,134 - BERTopic - WARNING: When you use `pickle` to save/load a BERTopic model,please make sure that the environments in which you saveand load the model are **exactly** the same. The version of BERTopic,its dependencies, and python need to remain the same.\n"
     ]
    },
    {
     "name": "stdout",
     "output_type": "stream",
     "text": [
      "Done | Topics: 9, Outliers: 4717 (41.14%) | Time: 9.15s\n",
      "\n",
      "Running: {'embedding_model': 'all-MiniLM-L6-v2', 'metric': 'cosine', 'min_cluster_size': 14, 'min_samples': 7, 'nr_topics': 12}\n"
     ]
    },
    {
     "name": "stderr",
     "output_type": "stream",
     "text": [
      "2025-04-22 05:44:31,895 - BERTopic - WARNING: When you use `pickle` to save/load a BERTopic model,please make sure that the environments in which you saveand load the model are **exactly** the same. The version of BERTopic,its dependencies, and python need to remain the same.\n"
     ]
    },
    {
     "name": "stdout",
     "output_type": "stream",
     "text": [
      "Done | Topics: 11, Outliers: 5058 (44.11%) | Time: 16.07s\n",
      "\n",
      "Running: {'embedding_model': 'all-MiniLM-L6-v2', 'metric': 'cosine', 'min_cluster_size': 14, 'min_samples': 7, 'nr_topics': 14}\n"
     ]
    },
    {
     "name": "stderr",
     "output_type": "stream",
     "text": [
      "2025-04-22 05:44:47,357 - BERTopic - WARNING: When you use `pickle` to save/load a BERTopic model,please make sure that the environments in which you saveand load the model are **exactly** the same. The version of BERTopic,its dependencies, and python need to remain the same.\n"
     ]
    },
    {
     "name": "stdout",
     "output_type": "stream",
     "text": [
      "Done | Topics: 13, Outliers: 4889 (42.64%) | Time: 11.19s\n",
      "\n",
      "Running: {'embedding_model': 'all-MiniLM-L6-v2', 'metric': 'euclidean', 'min_cluster_size': 14, 'min_samples': 9, 'nr_topics': 8}\n"
     ]
    },
    {
     "name": "stderr",
     "output_type": "stream",
     "text": [
      "2025-04-22 05:45:01,412 - BERTopic - WARNING: When you use `pickle` to save/load a BERTopic model,please make sure that the environments in which you saveand load the model are **exactly** the same. The version of BERTopic,its dependencies, and python need to remain the same.\n"
     ]
    },
    {
     "name": "stdout",
     "output_type": "stream",
     "text": [
      "Done | Topics: 7, Outliers: 5186 (45.23%) | Time: 10.75s\n",
      "\n",
      "Running: {'embedding_model': 'all-MiniLM-L6-v2', 'metric': 'euclidean', 'min_cluster_size': 14, 'min_samples': 9, 'nr_topics': 10}\n"
     ]
    },
    {
     "name": "stderr",
     "output_type": "stream",
     "text": [
      "2025-04-22 05:45:14,845 - BERTopic - WARNING: When you use `pickle` to save/load a BERTopic model,please make sure that the environments in which you saveand load the model are **exactly** the same. The version of BERTopic,its dependencies, and python need to remain the same.\n"
     ]
    },
    {
     "name": "stdout",
     "output_type": "stream",
     "text": [
      "Done | Topics: 9, Outliers: 5019 (43.77%) | Time: 9.86s\n",
      "\n",
      "Running: {'embedding_model': 'all-MiniLM-L6-v2', 'metric': 'euclidean', 'min_cluster_size': 14, 'min_samples': 9, 'nr_topics': 12}\n"
     ]
    },
    {
     "name": "stderr",
     "output_type": "stream",
     "text": [
      "2025-04-22 05:45:30,263 - BERTopic - WARNING: When you use `pickle` to save/load a BERTopic model,please make sure that the environments in which you saveand load the model are **exactly** the same. The version of BERTopic,its dependencies, and python need to remain the same.\n"
     ]
    },
    {
     "name": "stdout",
     "output_type": "stream",
     "text": [
      "Done | Topics: 11, Outliers: 5232 (45.63%) | Time: 9.78s\n",
      "\n",
      "Running: {'embedding_model': 'all-MiniLM-L6-v2', 'metric': 'euclidean', 'min_cluster_size': 14, 'min_samples': 9, 'nr_topics': 14}\n"
     ]
    },
    {
     "name": "stderr",
     "output_type": "stream",
     "text": [
      "2025-04-22 05:45:45,285 - BERTopic - WARNING: When you use `pickle` to save/load a BERTopic model,please make sure that the environments in which you saveand load the model are **exactly** the same. The version of BERTopic,its dependencies, and python need to remain the same.\n"
     ]
    },
    {
     "name": "stdout",
     "output_type": "stream",
     "text": [
      "Done | Topics: 13, Outliers: 4872 (42.49%) | Time: 11.41s\n",
      "\n",
      "Running: {'embedding_model': 'all-MiniLM-L6-v2', 'metric': 'manhattan', 'min_cluster_size': 14, 'min_samples': 9, 'nr_topics': 8}\n"
     ]
    },
    {
     "name": "stderr",
     "output_type": "stream",
     "text": [
      "2025-04-22 05:46:01,296 - BERTopic - WARNING: When you use `pickle` to save/load a BERTopic model,please make sure that the environments in which you saveand load the model are **exactly** the same. The version of BERTopic,its dependencies, and python need to remain the same.\n"
     ]
    },
    {
     "name": "stdout",
     "output_type": "stream",
     "text": [
      "Done | Topics: 7, Outliers: 5281 (46.05%) | Time: 12.26s\n",
      "\n",
      "Running: {'embedding_model': 'all-MiniLM-L6-v2', 'metric': 'manhattan', 'min_cluster_size': 14, 'min_samples': 9, 'nr_topics': 10}\n"
     ]
    },
    {
     "name": "stderr",
     "output_type": "stream",
     "text": [
      "2025-04-22 05:46:16,520 - BERTopic - WARNING: When you use `pickle` to save/load a BERTopic model,please make sure that the environments in which you saveand load the model are **exactly** the same. The version of BERTopic,its dependencies, and python need to remain the same.\n"
     ]
    },
    {
     "name": "stdout",
     "output_type": "stream",
     "text": [
      "Done | Topics: 9, Outliers: 5075 (44.26%) | Time: 11.61s\n",
      "\n",
      "Running: {'embedding_model': 'all-MiniLM-L6-v2', 'metric': 'manhattan', 'min_cluster_size': 14, 'min_samples': 9, 'nr_topics': 12}\n"
     ]
    },
    {
     "name": "stderr",
     "output_type": "stream",
     "text": [
      "2025-04-22 05:46:35,194 - BERTopic - WARNING: When you use `pickle` to save/load a BERTopic model,please make sure that the environments in which you saveand load the model are **exactly** the same. The version of BERTopic,its dependencies, and python need to remain the same.\n"
     ]
    },
    {
     "name": "stdout",
     "output_type": "stream",
     "text": [
      "Done | Topics: 11, Outliers: 5311 (46.32%) | Time: 14.03s\n",
      "\n",
      "Running: {'embedding_model': 'all-MiniLM-L6-v2', 'metric': 'manhattan', 'min_cluster_size': 14, 'min_samples': 9, 'nr_topics': 14}\n"
     ]
    },
    {
     "name": "stderr",
     "output_type": "stream",
     "text": [
      "2025-04-22 05:46:48,291 - BERTopic - WARNING: When you use `pickle` to save/load a BERTopic model,please make sure that the environments in which you saveand load the model are **exactly** the same. The version of BERTopic,its dependencies, and python need to remain the same.\n"
     ]
    },
    {
     "name": "stdout",
     "output_type": "stream",
     "text": [
      "Done | Topics: 13, Outliers: 5235 (45.65%) | Time: 9.3s\n",
      "\n",
      "Running: {'embedding_model': 'all-MiniLM-L6-v2', 'metric': 'cosine', 'min_cluster_size': 14, 'min_samples': 9, 'nr_topics': 8}\n"
     ]
    },
    {
     "name": "stderr",
     "output_type": "stream",
     "text": [
      "2025-04-22 05:47:02,516 - BERTopic - WARNING: When you use `pickle` to save/load a BERTopic model,please make sure that the environments in which you saveand load the model are **exactly** the same. The version of BERTopic,its dependencies, and python need to remain the same.\n"
     ]
    },
    {
     "name": "stdout",
     "output_type": "stream",
     "text": [
      "Done | Topics: 7, Outliers: 5060 (44.13%) | Time: 10.15s\n",
      "\n",
      "Running: {'embedding_model': 'all-MiniLM-L6-v2', 'metric': 'cosine', 'min_cluster_size': 14, 'min_samples': 9, 'nr_topics': 10}\n"
     ]
    },
    {
     "name": "stderr",
     "output_type": "stream",
     "text": [
      "2025-04-22 05:47:13,841 - BERTopic - WARNING: When you use `pickle` to save/load a BERTopic model,please make sure that the environments in which you saveand load the model are **exactly** the same. The version of BERTopic,its dependencies, and python need to remain the same.\n"
     ]
    },
    {
     "name": "stdout",
     "output_type": "stream",
     "text": [
      "Done | Topics: 9, Outliers: 5122 (44.67%) | Time: 8.3s\n",
      "\n",
      "Running: {'embedding_model': 'all-MiniLM-L6-v2', 'metric': 'cosine', 'min_cluster_size': 14, 'min_samples': 9, 'nr_topics': 12}\n"
     ]
    },
    {
     "name": "stderr",
     "output_type": "stream",
     "text": [
      "2025-04-22 05:47:28,090 - BERTopic - WARNING: When you use `pickle` to save/load a BERTopic model,please make sure that the environments in which you saveand load the model are **exactly** the same. The version of BERTopic,its dependencies, and python need to remain the same.\n"
     ]
    },
    {
     "name": "stdout",
     "output_type": "stream",
     "text": [
      "Done | Topics: 11, Outliers: 5321 (46.4%) | Time: 10.84s\n",
      "\n",
      "Running: {'embedding_model': 'all-MiniLM-L6-v2', 'metric': 'cosine', 'min_cluster_size': 14, 'min_samples': 9, 'nr_topics': 14}\n"
     ]
    },
    {
     "name": "stderr",
     "output_type": "stream",
     "text": [
      "2025-04-22 05:47:58,498 - BERTopic - WARNING: When you use `pickle` to save/load a BERTopic model,please make sure that the environments in which you saveand load the model are **exactly** the same. The version of BERTopic,its dependencies, and python need to remain the same.\n"
     ]
    },
    {
     "name": "stdout",
     "output_type": "stream",
     "text": [
      "Done | Topics: 13, Outliers: 4921 (42.91%) | Time: 23.58s\n",
      "\n",
      "Running: {'embedding_model': 'all-MiniLM-L6-v2', 'metric': 'euclidean', 'min_cluster_size': 16, 'min_samples': 5, 'nr_topics': 8}\n"
     ]
    },
    {
     "name": "stderr",
     "output_type": "stream",
     "text": [
      "2025-04-22 05:48:35,574 - BERTopic - WARNING: When you use `pickle` to save/load a BERTopic model,please make sure that the environments in which you saveand load the model are **exactly** the same. The version of BERTopic,its dependencies, and python need to remain the same.\n"
     ]
    },
    {
     "name": "stdout",
     "output_type": "stream",
     "text": [
      "Done | Topics: 7, Outliers: 4814 (41.98%) | Time: 29.36s\n",
      "\n",
      "Running: {'embedding_model': 'all-MiniLM-L6-v2', 'metric': 'euclidean', 'min_cluster_size': 16, 'min_samples': 5, 'nr_topics': 10}\n"
     ]
    },
    {
     "name": "stderr",
     "output_type": "stream",
     "text": [
      "2025-04-22 05:49:11,956 - BERTopic - WARNING: When you use `pickle` to save/load a BERTopic model,please make sure that the environments in which you saveand load the model are **exactly** the same. The version of BERTopic,its dependencies, and python need to remain the same.\n"
     ]
    },
    {
     "name": "stdout",
     "output_type": "stream",
     "text": [
      "Done | Topics: 9, Outliers: 4522 (39.43%) | Time: 28.51s\n",
      "\n",
      "Running: {'embedding_model': 'all-MiniLM-L6-v2', 'metric': 'euclidean', 'min_cluster_size': 16, 'min_samples': 5, 'nr_topics': 12}\n"
     ]
    },
    {
     "name": "stderr",
     "output_type": "stream",
     "text": [
      "2025-04-22 05:49:59,010 - BERTopic - WARNING: When you use `pickle` to save/load a BERTopic model,please make sure that the environments in which you saveand load the model are **exactly** the same. The version of BERTopic,its dependencies, and python need to remain the same.\n"
     ]
    },
    {
     "name": "stdout",
     "output_type": "stream",
     "text": [
      "Done | Topics: 11, Outliers: 4923 (42.93%) | Time: 24.26s\n",
      "\n",
      "Running: {'embedding_model': 'all-MiniLM-L6-v2', 'metric': 'euclidean', 'min_cluster_size': 16, 'min_samples': 5, 'nr_topics': 14}\n"
     ]
    },
    {
     "name": "stderr",
     "output_type": "stream",
     "text": [
      "2025-04-22 05:50:33,202 - BERTopic - WARNING: When you use `pickle` to save/load a BERTopic model,please make sure that the environments in which you saveand load the model are **exactly** the same. The version of BERTopic,its dependencies, and python need to remain the same.\n"
     ]
    },
    {
     "name": "stdout",
     "output_type": "stream",
     "text": [
      "Done | Topics: 13, Outliers: 4505 (39.29%) | Time: 23.67s\n",
      "\n",
      "Running: {'embedding_model': 'all-MiniLM-L6-v2', 'metric': 'manhattan', 'min_cluster_size': 16, 'min_samples': 5, 'nr_topics': 8}\n"
     ]
    },
    {
     "name": "stderr",
     "output_type": "stream",
     "text": [
      "2025-04-22 05:51:19,555 - BERTopic - WARNING: When you use `pickle` to save/load a BERTopic model,please make sure that the environments in which you saveand load the model are **exactly** the same. The version of BERTopic,its dependencies, and python need to remain the same.\n"
     ]
    },
    {
     "name": "stdout",
     "output_type": "stream",
     "text": [
      "Done | Topics: 7, Outliers: 4561 (39.78%) | Time: 28.16s\n",
      "\n",
      "Running: {'embedding_model': 'all-MiniLM-L6-v2', 'metric': 'manhattan', 'min_cluster_size': 16, 'min_samples': 5, 'nr_topics': 10}\n"
     ]
    },
    {
     "name": "stderr",
     "output_type": "stream",
     "text": [
      "2025-04-22 05:52:05,665 - BERTopic - WARNING: When you use `pickle` to save/load a BERTopic model,please make sure that the environments in which you saveand load the model are **exactly** the same. The version of BERTopic,its dependencies, and python need to remain the same.\n"
     ]
    },
    {
     "name": "stdout",
     "output_type": "stream",
     "text": [
      "Done | Topics: 9, Outliers: 4795 (41.82%) | Time: 30.46s\n",
      "\n",
      "Running: {'embedding_model': 'all-MiniLM-L6-v2', 'metric': 'manhattan', 'min_cluster_size': 16, 'min_samples': 5, 'nr_topics': 12}\n"
     ]
    },
    {
     "name": "stderr",
     "output_type": "stream",
     "text": [
      "2025-04-22 05:52:34,815 - BERTopic - WARNING: When you use `pickle` to save/load a BERTopic model,please make sure that the environments in which you saveand load the model are **exactly** the same. The version of BERTopic,its dependencies, and python need to remain the same.\n"
     ]
    },
    {
     "name": "stdout",
     "output_type": "stream",
     "text": [
      "Done | Topics: 11, Outliers: 4778 (41.67%) | Time: 19.59s\n",
      "\n",
      "Running: {'embedding_model': 'all-MiniLM-L6-v2', 'metric': 'manhattan', 'min_cluster_size': 16, 'min_samples': 5, 'nr_topics': 14}\n"
     ]
    },
    {
     "name": "stderr",
     "output_type": "stream",
     "text": [
      "2025-04-22 05:53:06,115 - BERTopic - WARNING: When you use `pickle` to save/load a BERTopic model,please make sure that the environments in which you saveand load the model are **exactly** the same. The version of BERTopic,its dependencies, and python need to remain the same.\n"
     ]
    },
    {
     "name": "stdout",
     "output_type": "stream",
     "text": [
      "Done | Topics: 13, Outliers: 5033 (43.89%) | Time: 20.1s\n",
      "\n",
      "Running: {'embedding_model': 'all-MiniLM-L6-v2', 'metric': 'cosine', 'min_cluster_size': 16, 'min_samples': 5, 'nr_topics': 8}\n"
     ]
    },
    {
     "name": "stderr",
     "output_type": "stream",
     "text": [
      "2025-04-22 05:54:02,012 - BERTopic - WARNING: When you use `pickle` to save/load a BERTopic model,please make sure that the environments in which you saveand load the model are **exactly** the same. The version of BERTopic,its dependencies, and python need to remain the same.\n"
     ]
    },
    {
     "name": "stdout",
     "output_type": "stream",
     "text": [
      "Done | Topics: 7, Outliers: 4849 (42.29%) | Time: 17.61s\n",
      "\n",
      "Running: {'embedding_model': 'all-MiniLM-L6-v2', 'metric': 'cosine', 'min_cluster_size': 16, 'min_samples': 5, 'nr_topics': 10}\n"
     ]
    },
    {
     "name": "stderr",
     "output_type": "stream",
     "text": [
      "2025-04-22 05:54:35,574 - BERTopic - WARNING: When you use `pickle` to save/load a BERTopic model,please make sure that the environments in which you saveand load the model are **exactly** the same. The version of BERTopic,its dependencies, and python need to remain the same.\n"
     ]
    },
    {
     "name": "stdout",
     "output_type": "stream",
     "text": [
      "Done | Topics: 9, Outliers: 4995 (43.56%) | Time: 21.84s\n",
      "\n",
      "Running: {'embedding_model': 'all-MiniLM-L6-v2', 'metric': 'cosine', 'min_cluster_size': 16, 'min_samples': 5, 'nr_topics': 12}\n"
     ]
    },
    {
     "name": "stderr",
     "output_type": "stream",
     "text": [
      "2025-04-22 05:55:20,800 - BERTopic - WARNING: When you use `pickle` to save/load a BERTopic model,please make sure that the environments in which you saveand load the model are **exactly** the same. The version of BERTopic,its dependencies, and python need to remain the same.\n"
     ]
    },
    {
     "name": "stdout",
     "output_type": "stream",
     "text": [
      "Done | Topics: 11, Outliers: 4980 (43.43%) | Time: 30.48s\n",
      "\n",
      "Running: {'embedding_model': 'all-MiniLM-L6-v2', 'metric': 'cosine', 'min_cluster_size': 16, 'min_samples': 5, 'nr_topics': 14}\n"
     ]
    },
    {
     "name": "stderr",
     "output_type": "stream",
     "text": [
      "2025-04-22 05:55:57,694 - BERTopic - WARNING: When you use `pickle` to save/load a BERTopic model,please make sure that the environments in which you saveand load the model are **exactly** the same. The version of BERTopic,its dependencies, and python need to remain the same.\n"
     ]
    },
    {
     "name": "stdout",
     "output_type": "stream",
     "text": [
      "Done | Topics: 13, Outliers: 4796 (41.82%) | Time: 26.03s\n",
      "\n",
      "Running: {'embedding_model': 'all-MiniLM-L6-v2', 'metric': 'euclidean', 'min_cluster_size': 16, 'min_samples': 7, 'nr_topics': 8}\n"
     ]
    },
    {
     "name": "stderr",
     "output_type": "stream",
     "text": [
      "2025-04-22 05:56:47,381 - BERTopic - WARNING: When you use `pickle` to save/load a BERTopic model,please make sure that the environments in which you saveand load the model are **exactly** the same. The version of BERTopic,its dependencies, and python need to remain the same.\n"
     ]
    },
    {
     "name": "stdout",
     "output_type": "stream",
     "text": [
      "Done | Topics: 7, Outliers: 4729 (41.24%) | Time: 28.77s\n",
      "\n",
      "Running: {'embedding_model': 'all-MiniLM-L6-v2', 'metric': 'euclidean', 'min_cluster_size': 16, 'min_samples': 7, 'nr_topics': 10}\n"
     ]
    },
    {
     "name": "stderr",
     "output_type": "stream",
     "text": [
      "2025-04-22 05:57:27,449 - BERTopic - WARNING: When you use `pickle` to save/load a BERTopic model,please make sure that the environments in which you saveand load the model are **exactly** the same. The version of BERTopic,its dependencies, and python need to remain the same.\n"
     ]
    },
    {
     "name": "stdout",
     "output_type": "stream",
     "text": [
      "Done | Topics: 9, Outliers: 5011 (43.7%) | Time: 25.96s\n",
      "\n",
      "Running: {'embedding_model': 'all-MiniLM-L6-v2', 'metric': 'euclidean', 'min_cluster_size': 16, 'min_samples': 7, 'nr_topics': 12}\n"
     ]
    },
    {
     "name": "stderr",
     "output_type": "stream",
     "text": [
      "2025-04-22 05:58:21,262 - BERTopic - WARNING: When you use `pickle` to save/load a BERTopic model,please make sure that the environments in which you saveand load the model are **exactly** the same. The version of BERTopic,its dependencies, and python need to remain the same.\n"
     ]
    },
    {
     "name": "stdout",
     "output_type": "stream",
     "text": [
      "Done | Topics: 11, Outliers: 4967 (43.32%) | Time: 33.11s\n",
      "\n",
      "Running: {'embedding_model': 'all-MiniLM-L6-v2', 'metric': 'euclidean', 'min_cluster_size': 16, 'min_samples': 7, 'nr_topics': 14}\n"
     ]
    },
    {
     "name": "stderr",
     "output_type": "stream",
     "text": [
      "2025-04-22 05:59:30,797 - BERTopic - WARNING: When you use `pickle` to save/load a BERTopic model,please make sure that the environments in which you saveand load the model are **exactly** the same. The version of BERTopic,its dependencies, and python need to remain the same.\n"
     ]
    },
    {
     "name": "stdout",
     "output_type": "stream",
     "text": [
      "Done | Topics: 13, Outliers: 5189 (45.25%) | Time: 13.47s\n",
      "\n",
      "Running: {'embedding_model': 'all-MiniLM-L6-v2', 'metric': 'manhattan', 'min_cluster_size': 16, 'min_samples': 7, 'nr_topics': 8}\n"
     ]
    },
    {
     "name": "stderr",
     "output_type": "stream",
     "text": [
      "2025-04-22 05:59:43,562 - BERTopic - WARNING: When you use `pickle` to save/load a BERTopic model,please make sure that the environments in which you saveand load the model are **exactly** the same. The version of BERTopic,its dependencies, and python need to remain the same.\n"
     ]
    },
    {
     "name": "stdout",
     "output_type": "stream",
     "text": [
      "Done | Topics: 7, Outliers: 5051 (44.05%) | Time: 8.9s\n",
      "\n",
      "Running: {'embedding_model': 'all-MiniLM-L6-v2', 'metric': 'manhattan', 'min_cluster_size': 16, 'min_samples': 7, 'nr_topics': 10}\n"
     ]
    },
    {
     "name": "stderr",
     "output_type": "stream",
     "text": [
      "2025-04-22 05:59:59,977 - BERTopic - WARNING: When you use `pickle` to save/load a BERTopic model,please make sure that the environments in which you saveand load the model are **exactly** the same. The version of BERTopic,its dependencies, and python need to remain the same.\n"
     ]
    },
    {
     "name": "stdout",
     "output_type": "stream",
     "text": [
      "Done | Topics: 9, Outliers: 5145 (44.87%) | Time: 10.11s\n",
      "\n",
      "Running: {'embedding_model': 'all-MiniLM-L6-v2', 'metric': 'manhattan', 'min_cluster_size': 16, 'min_samples': 7, 'nr_topics': 12}\n"
     ]
    },
    {
     "name": "stderr",
     "output_type": "stream",
     "text": [
      "2025-04-22 06:00:14,587 - BERTopic - WARNING: When you use `pickle` to save/load a BERTopic model,please make sure that the environments in which you saveand load the model are **exactly** the same. The version of BERTopic,its dependencies, and python need to remain the same.\n"
     ]
    },
    {
     "name": "stdout",
     "output_type": "stream",
     "text": [
      "Done | Topics: 11, Outliers: 5211 (45.44%) | Time: 9.22s\n",
      "\n",
      "Running: {'embedding_model': 'all-MiniLM-L6-v2', 'metric': 'manhattan', 'min_cluster_size': 16, 'min_samples': 7, 'nr_topics': 14}\n"
     ]
    },
    {
     "name": "stderr",
     "output_type": "stream",
     "text": [
      "2025-04-22 06:00:26,323 - BERTopic - WARNING: When you use `pickle` to save/load a BERTopic model,please make sure that the environments in which you saveand load the model are **exactly** the same. The version of BERTopic,its dependencies, and python need to remain the same.\n"
     ]
    },
    {
     "name": "stdout",
     "output_type": "stream",
     "text": [
      "Done | Topics: 13, Outliers: 4993 (43.54%) | Time: 8.72s\n",
      "\n",
      "Running: {'embedding_model': 'all-MiniLM-L6-v2', 'metric': 'cosine', 'min_cluster_size': 16, 'min_samples': 7, 'nr_topics': 8}\n"
     ]
    },
    {
     "name": "stderr",
     "output_type": "stream",
     "text": [
      "2025-04-22 06:00:41,873 - BERTopic - WARNING: When you use `pickle` to save/load a BERTopic model,please make sure that the environments in which you saveand load the model are **exactly** the same. The version of BERTopic,its dependencies, and python need to remain the same.\n"
     ]
    },
    {
     "name": "stdout",
     "output_type": "stream",
     "text": [
      "Done | Topics: 7, Outliers: 5002 (43.62%) | Time: 12.15s\n",
      "\n",
      "Running: {'embedding_model': 'all-MiniLM-L6-v2', 'metric': 'cosine', 'min_cluster_size': 16, 'min_samples': 7, 'nr_topics': 10}\n"
     ]
    },
    {
     "name": "stderr",
     "output_type": "stream",
     "text": [
      "2025-04-22 06:01:01,143 - BERTopic - WARNING: When you use `pickle` to save/load a BERTopic model,please make sure that the environments in which you saveand load the model are **exactly** the same. The version of BERTopic,its dependencies, and python need to remain the same.\n"
     ]
    },
    {
     "name": "stdout",
     "output_type": "stream",
     "text": [
      "Done | Topics: 9, Outliers: 4772 (41.62%) | Time: 9.2s\n",
      "\n",
      "Running: {'embedding_model': 'all-MiniLM-L6-v2', 'metric': 'cosine', 'min_cluster_size': 16, 'min_samples': 7, 'nr_topics': 12}\n"
     ]
    },
    {
     "name": "stderr",
     "output_type": "stream",
     "text": [
      "2025-04-22 06:01:15,214 - BERTopic - WARNING: When you use `pickle` to save/load a BERTopic model,please make sure that the environments in which you saveand load the model are **exactly** the same. The version of BERTopic,its dependencies, and python need to remain the same.\n"
     ]
    },
    {
     "name": "stdout",
     "output_type": "stream",
     "text": [
      "Done | Topics: 11, Outliers: 4861 (42.39%) | Time: 9.45s\n",
      "\n",
      "Running: {'embedding_model': 'all-MiniLM-L6-v2', 'metric': 'cosine', 'min_cluster_size': 16, 'min_samples': 7, 'nr_topics': 14}\n"
     ]
    },
    {
     "name": "stderr",
     "output_type": "stream",
     "text": [
      "2025-04-22 06:01:28,963 - BERTopic - WARNING: When you use `pickle` to save/load a BERTopic model,please make sure that the environments in which you saveand load the model are **exactly** the same. The version of BERTopic,its dependencies, and python need to remain the same.\n"
     ]
    },
    {
     "name": "stdout",
     "output_type": "stream",
     "text": [
      "Done | Topics: 13, Outliers: 4827 (42.09%) | Time: 11.4s\n",
      "\n",
      "Running: {'embedding_model': 'all-MiniLM-L6-v2', 'metric': 'euclidean', 'min_cluster_size': 16, 'min_samples': 9, 'nr_topics': 8}\n"
     ]
    },
    {
     "name": "stderr",
     "output_type": "stream",
     "text": [
      "2025-04-22 06:01:42,702 - BERTopic - WARNING: When you use `pickle` to save/load a BERTopic model,please make sure that the environments in which you saveand load the model are **exactly** the same. The version of BERTopic,its dependencies, and python need to remain the same.\n"
     ]
    },
    {
     "name": "stdout",
     "output_type": "stream",
     "text": [
      "Done | Topics: 7, Outliers: 5351 (46.66%) | Time: 9.84s\n",
      "\n",
      "Running: {'embedding_model': 'all-MiniLM-L6-v2', 'metric': 'euclidean', 'min_cluster_size': 16, 'min_samples': 9, 'nr_topics': 10}\n"
     ]
    },
    {
     "name": "stderr",
     "output_type": "stream",
     "text": [
      "2025-04-22 06:01:53,620 - BERTopic - WARNING: When you use `pickle` to save/load a BERTopic model,please make sure that the environments in which you saveand load the model are **exactly** the same. The version of BERTopic,its dependencies, and python need to remain the same.\n"
     ]
    },
    {
     "name": "stdout",
     "output_type": "stream",
     "text": [
      "Done | Topics: 9, Outliers: 4894 (42.68%) | Time: 8.12s\n",
      "\n",
      "Running: {'embedding_model': 'all-MiniLM-L6-v2', 'metric': 'euclidean', 'min_cluster_size': 16, 'min_samples': 9, 'nr_topics': 12}\n"
     ]
    },
    {
     "name": "stderr",
     "output_type": "stream",
     "text": [
      "2025-04-22 06:02:05,609 - BERTopic - WARNING: When you use `pickle` to save/load a BERTopic model,please make sure that the environments in which you saveand load the model are **exactly** the same. The version of BERTopic,its dependencies, and python need to remain the same.\n"
     ]
    },
    {
     "name": "stdout",
     "output_type": "stream",
     "text": [
      "Done | Topics: 11, Outliers: 5401 (47.1%) | Time: 9.48s\n",
      "\n",
      "Running: {'embedding_model': 'all-MiniLM-L6-v2', 'metric': 'euclidean', 'min_cluster_size': 16, 'min_samples': 9, 'nr_topics': 14}\n"
     ]
    },
    {
     "name": "stderr",
     "output_type": "stream",
     "text": [
      "2025-04-22 06:02:15,419 - BERTopic - WARNING: When you use `pickle` to save/load a BERTopic model,please make sure that the environments in which you saveand load the model are **exactly** the same. The version of BERTopic,its dependencies, and python need to remain the same.\n"
     ]
    },
    {
     "name": "stdout",
     "output_type": "stream",
     "text": [
      "Done | Topics: 13, Outliers: 5209 (45.43%) | Time: 7.5s\n",
      "\n",
      "Running: {'embedding_model': 'all-MiniLM-L6-v2', 'metric': 'manhattan', 'min_cluster_size': 16, 'min_samples': 9, 'nr_topics': 8}\n"
     ]
    },
    {
     "name": "stderr",
     "output_type": "stream",
     "text": [
      "2025-04-22 06:02:28,193 - BERTopic - WARNING: When you use `pickle` to save/load a BERTopic model,please make sure that the environments in which you saveand load the model are **exactly** the same. The version of BERTopic,its dependencies, and python need to remain the same.\n"
     ]
    },
    {
     "name": "stdout",
     "output_type": "stream",
     "text": [
      "Done | Topics: 7, Outliers: 5388 (46.99%) | Time: 8.62s\n",
      "\n",
      "Running: {'embedding_model': 'all-MiniLM-L6-v2', 'metric': 'manhattan', 'min_cluster_size': 16, 'min_samples': 9, 'nr_topics': 10}\n"
     ]
    },
    {
     "name": "stderr",
     "output_type": "stream",
     "text": [
      "2025-04-22 06:02:37,846 - BERTopic - WARNING: When you use `pickle` to save/load a BERTopic model,please make sure that the environments in which you saveand load the model are **exactly** the same. The version of BERTopic,its dependencies, and python need to remain the same.\n"
     ]
    },
    {
     "name": "stdout",
     "output_type": "stream",
     "text": [
      "Done | Topics: 9, Outliers: 4954 (43.2%) | Time: 7.63s\n",
      "\n",
      "Running: {'embedding_model': 'all-MiniLM-L6-v2', 'metric': 'manhattan', 'min_cluster_size': 16, 'min_samples': 9, 'nr_topics': 12}\n"
     ]
    },
    {
     "name": "stderr",
     "output_type": "stream",
     "text": [
      "2025-04-22 06:02:47,783 - BERTopic - WARNING: When you use `pickle` to save/load a BERTopic model,please make sure that the environments in which you saveand load the model are **exactly** the same. The version of BERTopic,its dependencies, and python need to remain the same.\n"
     ]
    },
    {
     "name": "stdout",
     "output_type": "stream",
     "text": [
      "Done | Topics: 11, Outliers: 5417 (47.24%) | Time: 7.77s\n",
      "\n",
      "Running: {'embedding_model': 'all-MiniLM-L6-v2', 'metric': 'manhattan', 'min_cluster_size': 16, 'min_samples': 9, 'nr_topics': 14}\n"
     ]
    },
    {
     "name": "stderr",
     "output_type": "stream",
     "text": [
      "2025-04-22 06:03:02,233 - BERTopic - WARNING: When you use `pickle` to save/load a BERTopic model,please make sure that the environments in which you saveand load the model are **exactly** the same. The version of BERTopic,its dependencies, and python need to remain the same.\n"
     ]
    },
    {
     "name": "stdout",
     "output_type": "stream",
     "text": [
      "Done | Topics: 13, Outliers: 4850 (42.3%) | Time: 11.29s\n",
      "\n",
      "Running: {'embedding_model': 'all-MiniLM-L6-v2', 'metric': 'cosine', 'min_cluster_size': 16, 'min_samples': 9, 'nr_topics': 8}\n"
     ]
    },
    {
     "name": "stderr",
     "output_type": "stream",
     "text": [
      "2025-04-22 06:03:15,830 - BERTopic - WARNING: When you use `pickle` to save/load a BERTopic model,please make sure that the environments in which you saveand load the model are **exactly** the same. The version of BERTopic,its dependencies, and python need to remain the same.\n"
     ]
    },
    {
     "name": "stdout",
     "output_type": "stream",
     "text": [
      "Done | Topics: 7, Outliers: 5392 (47.02%) | Time: 10.22s\n",
      "\n",
      "Running: {'embedding_model': 'all-MiniLM-L6-v2', 'metric': 'cosine', 'min_cluster_size': 16, 'min_samples': 9, 'nr_topics': 10}\n"
     ]
    },
    {
     "name": "stderr",
     "output_type": "stream",
     "text": [
      "2025-04-22 06:03:29,124 - BERTopic - WARNING: When you use `pickle` to save/load a BERTopic model,please make sure that the environments in which you saveand load the model are **exactly** the same. The version of BERTopic,its dependencies, and python need to remain the same.\n"
     ]
    },
    {
     "name": "stdout",
     "output_type": "stream",
     "text": [
      "Done | Topics: 9, Outliers: 5007 (43.66%) | Time: 9.57s\n",
      "\n",
      "Running: {'embedding_model': 'all-MiniLM-L6-v2', 'metric': 'cosine', 'min_cluster_size': 16, 'min_samples': 9, 'nr_topics': 12}\n"
     ]
    },
    {
     "name": "stderr",
     "output_type": "stream",
     "text": [
      "2025-04-22 06:03:44,864 - BERTopic - WARNING: When you use `pickle` to save/load a BERTopic model,please make sure that the environments in which you saveand load the model are **exactly** the same. The version of BERTopic,its dependencies, and python need to remain the same.\n"
     ]
    },
    {
     "name": "stdout",
     "output_type": "stream",
     "text": [
      "Done | Topics: 11, Outliers: 5045 (44.0%) | Time: 9.78s\n",
      "\n",
      "Running: {'embedding_model': 'all-MiniLM-L6-v2', 'metric': 'cosine', 'min_cluster_size': 16, 'min_samples': 9, 'nr_topics': 14}\n"
     ]
    },
    {
     "name": "stderr",
     "output_type": "stream",
     "text": [
      "2025-04-22 06:03:58,416 - BERTopic - WARNING: When you use `pickle` to save/load a BERTopic model,please make sure that the environments in which you saveand load the model are **exactly** the same. The version of BERTopic,its dependencies, and python need to remain the same.\n"
     ]
    },
    {
     "name": "stdout",
     "output_type": "stream",
     "text": [
      "Done | Topics: 13, Outliers: 5484 (47.82%) | Time: 10.8s\n",
      "\n",
      "Running: {'embedding_model': 'all-MiniLM-L6-v2', 'metric': 'euclidean', 'min_cluster_size': 18, 'min_samples': 5, 'nr_topics': 8}\n"
     ]
    },
    {
     "name": "stderr",
     "output_type": "stream",
     "text": [
      "2025-04-22 06:04:11,827 - BERTopic - WARNING: When you use `pickle` to save/load a BERTopic model,please make sure that the environments in which you saveand load the model are **exactly** the same. The version of BERTopic,its dependencies, and python need to remain the same.\n"
     ]
    },
    {
     "name": "stdout",
     "output_type": "stream",
     "text": [
      "Done | Topics: 7, Outliers: 4783 (41.71%) | Time: 10.45s\n",
      "\n",
      "Running: {'embedding_model': 'all-MiniLM-L6-v2', 'metric': 'euclidean', 'min_cluster_size': 18, 'min_samples': 5, 'nr_topics': 10}\n"
     ]
    },
    {
     "name": "stderr",
     "output_type": "stream",
     "text": [
      "2025-04-22 06:04:30,767 - BERTopic - WARNING: When you use `pickle` to save/load a BERTopic model,please make sure that the environments in which you saveand load the model are **exactly** the same. The version of BERTopic,its dependencies, and python need to remain the same.\n"
     ]
    },
    {
     "name": "stdout",
     "output_type": "stream",
     "text": [
      "Done | Topics: 9, Outliers: 4914 (42.85%) | Time: 16.13s\n",
      "\n",
      "Running: {'embedding_model': 'all-MiniLM-L6-v2', 'metric': 'euclidean', 'min_cluster_size': 18, 'min_samples': 5, 'nr_topics': 12}\n"
     ]
    },
    {
     "name": "stderr",
     "output_type": "stream",
     "text": [
      "2025-04-22 06:04:46,956 - BERTopic - WARNING: When you use `pickle` to save/load a BERTopic model,please make sure that the environments in which you saveand load the model are **exactly** the same. The version of BERTopic,its dependencies, and python need to remain the same.\n"
     ]
    },
    {
     "name": "stdout",
     "output_type": "stream",
     "text": [
      "Done | Topics: 11, Outliers: 4491 (39.16%) | Time: 12.91s\n",
      "\n",
      "Running: {'embedding_model': 'all-MiniLM-L6-v2', 'metric': 'euclidean', 'min_cluster_size': 18, 'min_samples': 5, 'nr_topics': 14}\n"
     ]
    },
    {
     "name": "stderr",
     "output_type": "stream",
     "text": [
      "2025-04-22 06:05:01,115 - BERTopic - WARNING: When you use `pickle` to save/load a BERTopic model,please make sure that the environments in which you saveand load the model are **exactly** the same. The version of BERTopic,its dependencies, and python need to remain the same.\n"
     ]
    },
    {
     "name": "stdout",
     "output_type": "stream",
     "text": [
      "Done | Topics: 13, Outliers: 4923 (42.93%) | Time: 10.0s\n",
      "\n",
      "Running: {'embedding_model': 'all-MiniLM-L6-v2', 'metric': 'manhattan', 'min_cluster_size': 18, 'min_samples': 5, 'nr_topics': 8}\n"
     ]
    },
    {
     "name": "stderr",
     "output_type": "stream",
     "text": [
      "2025-04-22 06:05:11,494 - BERTopic - WARNING: When you use `pickle` to save/load a BERTopic model,please make sure that the environments in which you saveand load the model are **exactly** the same. The version of BERTopic,its dependencies, and python need to remain the same.\n"
     ]
    },
    {
     "name": "stdout",
     "output_type": "stream",
     "text": [
      "Done | Topics: 7, Outliers: 4995 (43.56%) | Time: 7.87s\n",
      "\n",
      "Running: {'embedding_model': 'all-MiniLM-L6-v2', 'metric': 'manhattan', 'min_cluster_size': 18, 'min_samples': 5, 'nr_topics': 10}\n"
     ]
    },
    {
     "name": "stderr",
     "output_type": "stream",
     "text": [
      "2025-04-22 06:05:24,659 - BERTopic - WARNING: When you use `pickle` to save/load a BERTopic model,please make sure that the environments in which you saveand load the model are **exactly** the same. The version of BERTopic,its dependencies, and python need to remain the same.\n"
     ]
    },
    {
     "name": "stdout",
     "output_type": "stream",
     "text": [
      "Done | Topics: 9, Outliers: 4815 (41.99%) | Time: 8.28s\n",
      "\n",
      "Running: {'embedding_model': 'all-MiniLM-L6-v2', 'metric': 'manhattan', 'min_cluster_size': 18, 'min_samples': 5, 'nr_topics': 12}\n"
     ]
    },
    {
     "name": "stderr",
     "output_type": "stream",
     "text": [
      "2025-04-22 06:05:37,212 - BERTopic - WARNING: When you use `pickle` to save/load a BERTopic model,please make sure that the environments in which you saveand load the model are **exactly** the same. The version of BERTopic,its dependencies, and python need to remain the same.\n"
     ]
    },
    {
     "name": "stdout",
     "output_type": "stream",
     "text": [
      "Done | Topics: 11, Outliers: 4689 (40.89%) | Time: 9.98s\n",
      "\n",
      "Running: {'embedding_model': 'all-MiniLM-L6-v2', 'metric': 'manhattan', 'min_cluster_size': 18, 'min_samples': 5, 'nr_topics': 14}\n"
     ]
    },
    {
     "name": "stderr",
     "output_type": "stream",
     "text": [
      "2025-04-22 06:05:49,408 - BERTopic - WARNING: When you use `pickle` to save/load a BERTopic model,please make sure that the environments in which you saveand load the model are **exactly** the same. The version of BERTopic,its dependencies, and python need to remain the same.\n"
     ]
    },
    {
     "name": "stdout",
     "output_type": "stream",
     "text": [
      "Done | Topics: 13, Outliers: 4795 (41.82%) | Time: 9.94s\n",
      "\n",
      "Running: {'embedding_model': 'all-MiniLM-L6-v2', 'metric': 'cosine', 'min_cluster_size': 18, 'min_samples': 5, 'nr_topics': 8}\n"
     ]
    },
    {
     "name": "stderr",
     "output_type": "stream",
     "text": [
      "2025-04-22 06:06:01,633 - BERTopic - WARNING: When you use `pickle` to save/load a BERTopic model,please make sure that the environments in which you saveand load the model are **exactly** the same. The version of BERTopic,its dependencies, and python need to remain the same.\n"
     ]
    },
    {
     "name": "stdout",
     "output_type": "stream",
     "text": [
      "Done | Topics: 7, Outliers: 4889 (42.64%) | Time: 8.86s\n",
      "\n",
      "Running: {'embedding_model': 'all-MiniLM-L6-v2', 'metric': 'cosine', 'min_cluster_size': 18, 'min_samples': 5, 'nr_topics': 10}\n"
     ]
    },
    {
     "name": "stderr",
     "output_type": "stream",
     "text": [
      "2025-04-22 06:06:12,644 - BERTopic - WARNING: When you use `pickle` to save/load a BERTopic model,please make sure that the environments in which you saveand load the model are **exactly** the same. The version of BERTopic,its dependencies, and python need to remain the same.\n"
     ]
    },
    {
     "name": "stdout",
     "output_type": "stream",
     "text": [
      "Done | Topics: 9, Outliers: 4716 (41.13%) | Time: 8.64s\n",
      "\n",
      "Running: {'embedding_model': 'all-MiniLM-L6-v2', 'metric': 'cosine', 'min_cluster_size': 18, 'min_samples': 5, 'nr_topics': 12}\n"
     ]
    },
    {
     "name": "stderr",
     "output_type": "stream",
     "text": [
      "2025-04-22 06:06:24,888 - BERTopic - WARNING: When you use `pickle` to save/load a BERTopic model,please make sure that the environments in which you saveand load the model are **exactly** the same. The version of BERTopic,its dependencies, and python need to remain the same.\n"
     ]
    },
    {
     "name": "stdout",
     "output_type": "stream",
     "text": [
      "Done | Topics: 11, Outliers: 5013 (43.72%) | Time: 9.61s\n",
      "\n",
      "Running: {'embedding_model': 'all-MiniLM-L6-v2', 'metric': 'cosine', 'min_cluster_size': 18, 'min_samples': 5, 'nr_topics': 14}\n"
     ]
    },
    {
     "name": "stderr",
     "output_type": "stream",
     "text": [
      "2025-04-22 06:06:39,618 - BERTopic - WARNING: When you use `pickle` to save/load a BERTopic model,please make sure that the environments in which you saveand load the model are **exactly** the same. The version of BERTopic,its dependencies, and python need to remain the same.\n"
     ]
    },
    {
     "name": "stdout",
     "output_type": "stream",
     "text": [
      "Done | Topics: 13, Outliers: 4461 (38.9%) | Time: 12.34s\n",
      "\n",
      "Running: {'embedding_model': 'all-MiniLM-L6-v2', 'metric': 'euclidean', 'min_cluster_size': 18, 'min_samples': 7, 'nr_topics': 8}\n"
     ]
    },
    {
     "name": "stderr",
     "output_type": "stream",
     "text": [
      "2025-04-22 06:06:52,270 - BERTopic - WARNING: When you use `pickle` to save/load a BERTopic model,please make sure that the environments in which you saveand load the model are **exactly** the same. The version of BERTopic,its dependencies, and python need to remain the same.\n"
     ]
    },
    {
     "name": "stdout",
     "output_type": "stream",
     "text": [
      "Done | Topics: 7, Outliers: 5224 (45.56%) | Time: 10.01s\n",
      "\n",
      "Running: {'embedding_model': 'all-MiniLM-L6-v2', 'metric': 'euclidean', 'min_cluster_size': 18, 'min_samples': 7, 'nr_topics': 10}\n"
     ]
    },
    {
     "name": "stderr",
     "output_type": "stream",
     "text": [
      "2025-04-22 06:07:04,920 - BERTopic - WARNING: When you use `pickle` to save/load a BERTopic model,please make sure that the environments in which you saveand load the model are **exactly** the same. The version of BERTopic,its dependencies, and python need to remain the same.\n"
     ]
    },
    {
     "name": "stdout",
     "output_type": "stream",
     "text": [
      "Done | Topics: 9, Outliers: 4840 (42.21%) | Time: 9.54s\n",
      "\n",
      "Running: {'embedding_model': 'all-MiniLM-L6-v2', 'metric': 'euclidean', 'min_cluster_size': 18, 'min_samples': 7, 'nr_topics': 12}\n"
     ]
    },
    {
     "name": "stderr",
     "output_type": "stream",
     "text": [
      "2025-04-22 06:07:17,715 - BERTopic - WARNING: When you use `pickle` to save/load a BERTopic model,please make sure that the environments in which you saveand load the model are **exactly** the same. The version of BERTopic,its dependencies, and python need to remain the same.\n"
     ]
    },
    {
     "name": "stdout",
     "output_type": "stream",
     "text": [
      "Done | Topics: 11, Outliers: 5011 (43.7%) | Time: 10.05s\n",
      "\n",
      "Running: {'embedding_model': 'all-MiniLM-L6-v2', 'metric': 'euclidean', 'min_cluster_size': 18, 'min_samples': 7, 'nr_topics': 14}\n"
     ]
    },
    {
     "name": "stderr",
     "output_type": "stream",
     "text": [
      "2025-04-22 06:07:27,695 - BERTopic - WARNING: When you use `pickle` to save/load a BERTopic model,please make sure that the environments in which you saveand load the model are **exactly** the same. The version of BERTopic,its dependencies, and python need to remain the same.\n"
     ]
    },
    {
     "name": "stdout",
     "output_type": "stream",
     "text": [
      "Done | Topics: 13, Outliers: 5304 (46.25%) | Time: 6.9s\n",
      "\n",
      "Running: {'embedding_model': 'all-MiniLM-L6-v2', 'metric': 'manhattan', 'min_cluster_size': 18, 'min_samples': 7, 'nr_topics': 8}\n"
     ]
    },
    {
     "name": "stderr",
     "output_type": "stream",
     "text": [
      "2025-04-22 06:07:37,220 - BERTopic - WARNING: When you use `pickle` to save/load a BERTopic model,please make sure that the environments in which you saveand load the model are **exactly** the same. The version of BERTopic,its dependencies, and python need to remain the same.\n"
     ]
    },
    {
     "name": "stdout",
     "output_type": "stream",
     "text": [
      "Done | Topics: 7, Outliers: 4770 (41.6%) | Time: 7.77s\n",
      "\n",
      "Running: {'embedding_model': 'all-MiniLM-L6-v2', 'metric': 'manhattan', 'min_cluster_size': 18, 'min_samples': 7, 'nr_topics': 10}\n"
     ]
    },
    {
     "name": "stderr",
     "output_type": "stream",
     "text": [
      "2025-04-22 06:07:47,936 - BERTopic - WARNING: When you use `pickle` to save/load a BERTopic model,please make sure that the environments in which you saveand load the model are **exactly** the same. The version of BERTopic,its dependencies, and python need to remain the same.\n"
     ]
    },
    {
     "name": "stdout",
     "output_type": "stream",
     "text": [
      "Done | Topics: 9, Outliers: 4812 (41.96%) | Time: 8.64s\n",
      "\n",
      "Running: {'embedding_model': 'all-MiniLM-L6-v2', 'metric': 'manhattan', 'min_cluster_size': 18, 'min_samples': 7, 'nr_topics': 12}\n"
     ]
    },
    {
     "name": "stderr",
     "output_type": "stream",
     "text": [
      "2025-04-22 06:08:00,455 - BERTopic - WARNING: When you use `pickle` to save/load a BERTopic model,please make sure that the environments in which you saveand load the model are **exactly** the same. The version of BERTopic,its dependencies, and python need to remain the same.\n"
     ]
    },
    {
     "name": "stdout",
     "output_type": "stream",
     "text": [
      "Done | Topics: 11, Outliers: 5065 (44.17%) | Time: 8.37s\n",
      "\n",
      "Running: {'embedding_model': 'all-MiniLM-L6-v2', 'metric': 'manhattan', 'min_cluster_size': 18, 'min_samples': 7, 'nr_topics': 14}\n"
     ]
    },
    {
     "name": "stderr",
     "output_type": "stream",
     "text": [
      "2025-04-22 06:08:08,936 - BERTopic - WARNING: When you use `pickle` to save/load a BERTopic model,please make sure that the environments in which you saveand load the model are **exactly** the same. The version of BERTopic,its dependencies, and python need to remain the same.\n"
     ]
    },
    {
     "name": "stdout",
     "output_type": "stream",
     "text": [
      "Done | Topics: 13, Outliers: 4743 (41.36%) | Time: 6.63s\n",
      "\n",
      "Running: {'embedding_model': 'all-MiniLM-L6-v2', 'metric': 'cosine', 'min_cluster_size': 18, 'min_samples': 7, 'nr_topics': 8}\n"
     ]
    },
    {
     "name": "stderr",
     "output_type": "stream",
     "text": [
      "2025-04-22 06:08:18,385 - BERTopic - WARNING: When you use `pickle` to save/load a BERTopic model,please make sure that the environments in which you saveand load the model are **exactly** the same. The version of BERTopic,its dependencies, and python need to remain the same.\n"
     ]
    },
    {
     "name": "stdout",
     "output_type": "stream",
     "text": [
      "Done | Topics: 7, Outliers: 4918 (42.89%) | Time: 7.13s\n",
      "\n",
      "Running: {'embedding_model': 'all-MiniLM-L6-v2', 'metric': 'cosine', 'min_cluster_size': 18, 'min_samples': 7, 'nr_topics': 10}\n"
     ]
    },
    {
     "name": "stderr",
     "output_type": "stream",
     "text": [
      "2025-04-22 06:08:28,271 - BERTopic - WARNING: When you use `pickle` to save/load a BERTopic model,please make sure that the environments in which you saveand load the model are **exactly** the same. The version of BERTopic,its dependencies, and python need to remain the same.\n"
     ]
    },
    {
     "name": "stdout",
     "output_type": "stream",
     "text": [
      "Done | Topics: 9, Outliers: 4771 (41.61%) | Time: 7.77s\n",
      "\n",
      "Running: {'embedding_model': 'all-MiniLM-L6-v2', 'metric': 'cosine', 'min_cluster_size': 18, 'min_samples': 7, 'nr_topics': 12}\n"
     ]
    },
    {
     "name": "stderr",
     "output_type": "stream",
     "text": [
      "2025-04-22 06:08:39,800 - BERTopic - WARNING: When you use `pickle` to save/load a BERTopic model,please make sure that the environments in which you saveand load the model are **exactly** the same. The version of BERTopic,its dependencies, and python need to remain the same.\n"
     ]
    },
    {
     "name": "stdout",
     "output_type": "stream",
     "text": [
      "Done | Topics: 11, Outliers: 4775 (41.64%) | Time: 8.11s\n",
      "\n",
      "Running: {'embedding_model': 'all-MiniLM-L6-v2', 'metric': 'cosine', 'min_cluster_size': 18, 'min_samples': 7, 'nr_topics': 14}\n"
     ]
    },
    {
     "name": "stderr",
     "output_type": "stream",
     "text": [
      "2025-04-22 06:08:50,169 - BERTopic - WARNING: When you use `pickle` to save/load a BERTopic model,please make sure that the environments in which you saveand load the model are **exactly** the same. The version of BERTopic,its dependencies, and python need to remain the same.\n"
     ]
    },
    {
     "name": "stdout",
     "output_type": "stream",
     "text": [
      "Done | Topics: 13, Outliers: 5068 (44.2%) | Time: 7.12s\n",
      "\n",
      "Running: {'embedding_model': 'all-MiniLM-L6-v2', 'metric': 'euclidean', 'min_cluster_size': 18, 'min_samples': 9, 'nr_topics': 8}\n"
     ]
    },
    {
     "name": "stderr",
     "output_type": "stream",
     "text": [
      "2025-04-22 06:08:58,462 - BERTopic - WARNING: When you use `pickle` to save/load a BERTopic model,please make sure that the environments in which you saveand load the model are **exactly** the same. The version of BERTopic,its dependencies, and python need to remain the same.\n"
     ]
    },
    {
     "name": "stdout",
     "output_type": "stream",
     "text": [
      "Done | Topics: 7, Outliers: 5042 (43.97%) | Time: 6.27s\n",
      "\n",
      "Running: {'embedding_model': 'all-MiniLM-L6-v2', 'metric': 'euclidean', 'min_cluster_size': 18, 'min_samples': 9, 'nr_topics': 10}\n"
     ]
    },
    {
     "name": "stderr",
     "output_type": "stream",
     "text": [
      "2025-04-22 06:09:08,679 - BERTopic - WARNING: When you use `pickle` to save/load a BERTopic model,please make sure that the environments in which you saveand load the model are **exactly** the same. The version of BERTopic,its dependencies, and python need to remain the same.\n"
     ]
    },
    {
     "name": "stdout",
     "output_type": "stream",
     "text": [
      "Done | Topics: 9, Outliers: 4935 (43.04%) | Time: 6.38s\n",
      "\n",
      "Running: {'embedding_model': 'all-MiniLM-L6-v2', 'metric': 'euclidean', 'min_cluster_size': 18, 'min_samples': 9, 'nr_topics': 12}\n"
     ]
    },
    {
     "name": "stderr",
     "output_type": "stream",
     "text": [
      "2025-04-22 06:09:17,291 - BERTopic - WARNING: When you use `pickle` to save/load a BERTopic model,please make sure that the environments in which you saveand load the model are **exactly** the same. The version of BERTopic,its dependencies, and python need to remain the same.\n"
     ]
    },
    {
     "name": "stdout",
     "output_type": "stream",
     "text": [
      "Done | Topics: 11, Outliers: 5122 (44.67%) | Time: 6.72s\n",
      "\n",
      "Running: {'embedding_model': 'all-MiniLM-L6-v2', 'metric': 'euclidean', 'min_cluster_size': 18, 'min_samples': 9, 'nr_topics': 14}\n"
     ]
    },
    {
     "name": "stderr",
     "output_type": "stream",
     "text": [
      "2025-04-22 06:09:27,393 - BERTopic - WARNING: When you use `pickle` to save/load a BERTopic model,please make sure that the environments in which you saveand load the model are **exactly** the same. The version of BERTopic,its dependencies, and python need to remain the same.\n"
     ]
    },
    {
     "name": "stdout",
     "output_type": "stream",
     "text": [
      "Done | Topics: 13, Outliers: 5092 (44.41%) | Time: 7.47s\n",
      "\n",
      "Running: {'embedding_model': 'all-MiniLM-L6-v2', 'metric': 'manhattan', 'min_cluster_size': 18, 'min_samples': 9, 'nr_topics': 8}\n"
     ]
    },
    {
     "name": "stderr",
     "output_type": "stream",
     "text": [
      "2025-04-22 06:09:38,464 - BERTopic - WARNING: When you use `pickle` to save/load a BERTopic model,please make sure that the environments in which you saveand load the model are **exactly** the same. The version of BERTopic,its dependencies, and python need to remain the same.\n"
     ]
    },
    {
     "name": "stdout",
     "output_type": "stream",
     "text": [
      "Done | Topics: 7, Outliers: 5161 (45.01%) | Time: 8.41s\n",
      "\n",
      "Running: {'embedding_model': 'all-MiniLM-L6-v2', 'metric': 'manhattan', 'min_cluster_size': 18, 'min_samples': 9, 'nr_topics': 10}\n"
     ]
    },
    {
     "name": "stderr",
     "output_type": "stream",
     "text": [
      "2025-04-22 06:09:46,736 - BERTopic - WARNING: When you use `pickle` to save/load a BERTopic model,please make sure that the environments in which you saveand load the model are **exactly** the same. The version of BERTopic,its dependencies, and python need to remain the same.\n"
     ]
    },
    {
     "name": "stdout",
     "output_type": "stream",
     "text": [
      "Done | Topics: 9, Outliers: 5071 (44.22%) | Time: 6.23s\n",
      "\n",
      "Running: {'embedding_model': 'all-MiniLM-L6-v2', 'metric': 'manhattan', 'min_cluster_size': 18, 'min_samples': 9, 'nr_topics': 12}\n"
     ]
    },
    {
     "name": "stderr",
     "output_type": "stream",
     "text": [
      "2025-04-22 06:09:59,349 - BERTopic - WARNING: When you use `pickle` to save/load a BERTopic model,please make sure that the environments in which you saveand load the model are **exactly** the same. The version of BERTopic,its dependencies, and python need to remain the same.\n"
     ]
    },
    {
     "name": "stdout",
     "output_type": "stream",
     "text": [
      "Done | Topics: 11, Outliers: 5136 (44.79%) | Time: 10.35s\n",
      "\n",
      "Running: {'embedding_model': 'all-MiniLM-L6-v2', 'metric': 'manhattan', 'min_cluster_size': 18, 'min_samples': 9, 'nr_topics': 14}\n"
     ]
    },
    {
     "name": "stderr",
     "output_type": "stream",
     "text": [
      "2025-04-22 06:10:09,589 - BERTopic - WARNING: When you use `pickle` to save/load a BERTopic model,please make sure that the environments in which you saveand load the model are **exactly** the same. The version of BERTopic,its dependencies, and python need to remain the same.\n"
     ]
    },
    {
     "name": "stdout",
     "output_type": "stream",
     "text": [
      "Done | Topics: 13, Outliers: 4867 (42.44%) | Time: 7.44s\n",
      "\n",
      "Running: {'embedding_model': 'all-MiniLM-L6-v2', 'metric': 'cosine', 'min_cluster_size': 18, 'min_samples': 9, 'nr_topics': 8}\n"
     ]
    },
    {
     "name": "stderr",
     "output_type": "stream",
     "text": [
      "2025-04-22 06:10:28,602 - BERTopic - WARNING: When you use `pickle` to save/load a BERTopic model,please make sure that the environments in which you saveand load the model are **exactly** the same. The version of BERTopic,its dependencies, and python need to remain the same.\n"
     ]
    },
    {
     "name": "stdout",
     "output_type": "stream",
     "text": [
      "Done | Topics: 7, Outliers: 5143 (44.85%) | Time: 13.9s\n",
      "\n",
      "Running: {'embedding_model': 'all-MiniLM-L6-v2', 'metric': 'cosine', 'min_cluster_size': 18, 'min_samples': 9, 'nr_topics': 10}\n"
     ]
    },
    {
     "name": "stderr",
     "output_type": "stream",
     "text": [
      "2025-04-22 06:10:39,283 - BERTopic - WARNING: When you use `pickle` to save/load a BERTopic model,please make sure that the environments in which you saveand load the model are **exactly** the same. The version of BERTopic,its dependencies, and python need to remain the same.\n"
     ]
    },
    {
     "name": "stdout",
     "output_type": "stream",
     "text": [
      "Done | Topics: 9, Outliers: 5117 (44.62%) | Time: 7.89s\n",
      "\n",
      "Running: {'embedding_model': 'all-MiniLM-L6-v2', 'metric': 'cosine', 'min_cluster_size': 18, 'min_samples': 9, 'nr_topics': 12}\n"
     ]
    },
    {
     "name": "stderr",
     "output_type": "stream",
     "text": [
      "2025-04-22 06:10:49,961 - BERTopic - WARNING: When you use `pickle` to save/load a BERTopic model,please make sure that the environments in which you saveand load the model are **exactly** the same. The version of BERTopic,its dependencies, and python need to remain the same.\n"
     ]
    },
    {
     "name": "stdout",
     "output_type": "stream",
     "text": [
      "Done | Topics: 11, Outliers: 5112 (44.58%) | Time: 7.51s\n",
      "\n",
      "Running: {'embedding_model': 'all-MiniLM-L6-v2', 'metric': 'cosine', 'min_cluster_size': 18, 'min_samples': 9, 'nr_topics': 14}\n"
     ]
    },
    {
     "name": "stderr",
     "output_type": "stream",
     "text": [
      "2025-04-22 06:10:57,950 - BERTopic - WARNING: When you use `pickle` to save/load a BERTopic model,please make sure that the environments in which you saveand load the model are **exactly** the same. The version of BERTopic,its dependencies, and python need to remain the same.\n"
     ]
    },
    {
     "name": "stdout",
     "output_type": "stream",
     "text": [
      "Done | Topics: 13, Outliers: 5082 (44.32%) | Time: 6.01s\n",
      "\n",
      "Running: {'embedding_model': 'all-MiniLM-L6-v2', 'metric': 'euclidean', 'min_cluster_size': 20, 'min_samples': 5, 'nr_topics': 8}\n"
     ]
    },
    {
     "name": "stderr",
     "output_type": "stream",
     "text": [
      "2025-04-22 06:11:06,223 - BERTopic - WARNING: When you use `pickle` to save/load a BERTopic model,please make sure that the environments in which you saveand load the model are **exactly** the same. The version of BERTopic,its dependencies, and python need to remain the same.\n"
     ]
    },
    {
     "name": "stdout",
     "output_type": "stream",
     "text": [
      "Done | Topics: 7, Outliers: 4974 (43.38%) | Time: 6.42s\n",
      "\n",
      "Running: {'embedding_model': 'all-MiniLM-L6-v2', 'metric': 'euclidean', 'min_cluster_size': 20, 'min_samples': 5, 'nr_topics': 10}\n"
     ]
    },
    {
     "name": "stderr",
     "output_type": "stream",
     "text": [
      "2025-04-22 06:11:14,772 - BERTopic - WARNING: When you use `pickle` to save/load a BERTopic model,please make sure that the environments in which you saveand load the model are **exactly** the same. The version of BERTopic,its dependencies, and python need to remain the same.\n"
     ]
    },
    {
     "name": "stdout",
     "output_type": "stream",
     "text": [
      "Done | Topics: 9, Outliers: 4725 (41.21%) | Time: 6.43s\n",
      "\n",
      "Running: {'embedding_model': 'all-MiniLM-L6-v2', 'metric': 'euclidean', 'min_cluster_size': 20, 'min_samples': 5, 'nr_topics': 12}\n"
     ]
    },
    {
     "name": "stderr",
     "output_type": "stream",
     "text": [
      "2025-04-22 06:11:24,562 - BERTopic - WARNING: When you use `pickle` to save/load a BERTopic model,please make sure that the environments in which you saveand load the model are **exactly** the same. The version of BERTopic,its dependencies, and python need to remain the same.\n"
     ]
    },
    {
     "name": "stdout",
     "output_type": "stream",
     "text": [
      "Done | Topics: 11, Outliers: 4702 (41.0%) | Time: 7.82s\n",
      "\n",
      "Running: {'embedding_model': 'all-MiniLM-L6-v2', 'metric': 'euclidean', 'min_cluster_size': 20, 'min_samples': 5, 'nr_topics': 14}\n"
     ]
    },
    {
     "name": "stderr",
     "output_type": "stream",
     "text": [
      "2025-04-22 06:11:34,431 - BERTopic - WARNING: When you use `pickle` to save/load a BERTopic model,please make sure that the environments in which you saveand load the model are **exactly** the same. The version of BERTopic,its dependencies, and python need to remain the same.\n"
     ]
    },
    {
     "name": "stdout",
     "output_type": "stream",
     "text": [
      "Done | Topics: 13, Outliers: 4517 (39.39%) | Time: 6.62s\n",
      "\n",
      "Running: {'embedding_model': 'all-MiniLM-L6-v2', 'metric': 'manhattan', 'min_cluster_size': 20, 'min_samples': 5, 'nr_topics': 8}\n"
     ]
    },
    {
     "name": "stderr",
     "output_type": "stream",
     "text": [
      "2025-04-22 06:11:44,701 - BERTopic - WARNING: When you use `pickle` to save/load a BERTopic model,please make sure that the environments in which you saveand load the model are **exactly** the same. The version of BERTopic,its dependencies, and python need to remain the same.\n"
     ]
    },
    {
     "name": "stdout",
     "output_type": "stream",
     "text": [
      "Done | Topics: 7, Outliers: 4987 (43.49%) | Time: 8.29s\n",
      "\n",
      "Running: {'embedding_model': 'all-MiniLM-L6-v2', 'metric': 'manhattan', 'min_cluster_size': 20, 'min_samples': 5, 'nr_topics': 10}\n"
     ]
    },
    {
     "name": "stderr",
     "output_type": "stream",
     "text": [
      "2025-04-22 06:11:55,391 - BERTopic - WARNING: When you use `pickle` to save/load a BERTopic model,please make sure that the environments in which you saveand load the model are **exactly** the same. The version of BERTopic,its dependencies, and python need to remain the same.\n"
     ]
    },
    {
     "name": "stdout",
     "output_type": "stream",
     "text": [
      "Done | Topics: 9, Outliers: 4999 (43.59%) | Time: 8.41s\n",
      "\n",
      "Running: {'embedding_model': 'all-MiniLM-L6-v2', 'metric': 'manhattan', 'min_cluster_size': 20, 'min_samples': 5, 'nr_topics': 12}\n"
     ]
    },
    {
     "name": "stderr",
     "output_type": "stream",
     "text": [
      "2025-04-22 06:12:05,529 - BERTopic - WARNING: When you use `pickle` to save/load a BERTopic model,please make sure that the environments in which you saveand load the model are **exactly** the same. The version of BERTopic,its dependencies, and python need to remain the same.\n"
     ]
    },
    {
     "name": "stdout",
     "output_type": "stream",
     "text": [
      "Done | Topics: 11, Outliers: 4612 (40.22%) | Time: 7.97s\n",
      "\n",
      "Running: {'embedding_model': 'all-MiniLM-L6-v2', 'metric': 'manhattan', 'min_cluster_size': 20, 'min_samples': 5, 'nr_topics': 14}\n"
     ]
    },
    {
     "name": "stderr",
     "output_type": "stream",
     "text": [
      "2025-04-22 06:12:14,508 - BERTopic - WARNING: When you use `pickle` to save/load a BERTopic model,please make sure that the environments in which you saveand load the model are **exactly** the same. The version of BERTopic,its dependencies, and python need to remain the same.\n"
     ]
    },
    {
     "name": "stdout",
     "output_type": "stream",
     "text": [
      "Done | Topics: 13, Outliers: 4802 (41.88%) | Time: 6.7s\n",
      "\n",
      "Running: {'embedding_model': 'all-MiniLM-L6-v2', 'metric': 'cosine', 'min_cluster_size': 20, 'min_samples': 5, 'nr_topics': 8}\n"
     ]
    },
    {
     "name": "stderr",
     "output_type": "stream",
     "text": [
      "2025-04-22 06:12:23,685 - BERTopic - WARNING: When you use `pickle` to save/load a BERTopic model,please make sure that the environments in which you saveand load the model are **exactly** the same. The version of BERTopic,its dependencies, and python need to remain the same.\n"
     ]
    },
    {
     "name": "stdout",
     "output_type": "stream",
     "text": [
      "Done | Topics: 7, Outliers: 4759 (41.5%) | Time: 6.78s\n",
      "\n",
      "Running: {'embedding_model': 'all-MiniLM-L6-v2', 'metric': 'cosine', 'min_cluster_size': 20, 'min_samples': 5, 'nr_topics': 10}\n"
     ]
    },
    {
     "name": "stderr",
     "output_type": "stream",
     "text": [
      "2025-04-22 06:12:32,879 - BERTopic - WARNING: When you use `pickle` to save/load a BERTopic model,please make sure that the environments in which you saveand load the model are **exactly** the same. The version of BERTopic,its dependencies, and python need to remain the same.\n"
     ]
    },
    {
     "name": "stdout",
     "output_type": "stream",
     "text": [
      "Done | Topics: 9, Outliers: 4572 (39.87%) | Time: 7.19s\n",
      "\n",
      "Running: {'embedding_model': 'all-MiniLM-L6-v2', 'metric': 'cosine', 'min_cluster_size': 20, 'min_samples': 5, 'nr_topics': 12}\n"
     ]
    },
    {
     "name": "stderr",
     "output_type": "stream",
     "text": [
      "2025-04-22 06:12:42,895 - BERTopic - WARNING: When you use `pickle` to save/load a BERTopic model,please make sure that the environments in which you saveand load the model are **exactly** the same. The version of BERTopic,its dependencies, and python need to remain the same.\n"
     ]
    },
    {
     "name": "stdout",
     "output_type": "stream",
     "text": [
      "Done | Topics: 11, Outliers: 4815 (41.99%) | Time: 6.65s\n",
      "\n",
      "Running: {'embedding_model': 'all-MiniLM-L6-v2', 'metric': 'cosine', 'min_cluster_size': 20, 'min_samples': 5, 'nr_topics': 14}\n"
     ]
    },
    {
     "name": "stderr",
     "output_type": "stream",
     "text": [
      "2025-04-22 06:12:51,627 - BERTopic - WARNING: When you use `pickle` to save/load a BERTopic model,please make sure that the environments in which you saveand load the model are **exactly** the same. The version of BERTopic,its dependencies, and python need to remain the same.\n"
     ]
    },
    {
     "name": "stdout",
     "output_type": "stream",
     "text": [
      "Done | Topics: 13, Outliers: 4789 (41.76%) | Time: 6.69s\n",
      "\n",
      "Running: {'embedding_model': 'all-MiniLM-L6-v2', 'metric': 'euclidean', 'min_cluster_size': 20, 'min_samples': 7, 'nr_topics': 8}\n"
     ]
    },
    {
     "name": "stderr",
     "output_type": "stream",
     "text": [
      "2025-04-22 06:12:59,780 - BERTopic - WARNING: When you use `pickle` to save/load a BERTopic model,please make sure that the environments in which you saveand load the model are **exactly** the same. The version of BERTopic,its dependencies, and python need to remain the same.\n"
     ]
    },
    {
     "name": "stdout",
     "output_type": "stream",
     "text": [
      "Done | Topics: 7, Outliers: 4784 (41.72%) | Time: 6.27s\n",
      "\n",
      "Running: {'embedding_model': 'all-MiniLM-L6-v2', 'metric': 'euclidean', 'min_cluster_size': 20, 'min_samples': 7, 'nr_topics': 10}\n"
     ]
    },
    {
     "name": "stderr",
     "output_type": "stream",
     "text": [
      "2025-04-22 06:13:09,271 - BERTopic - WARNING: When you use `pickle` to save/load a BERTopic model,please make sure that the environments in which you saveand load the model are **exactly** the same. The version of BERTopic,its dependencies, and python need to remain the same.\n"
     ]
    },
    {
     "name": "stdout",
     "output_type": "stream",
     "text": [
      "Done | Topics: 9, Outliers: 5079 (44.29%) | Time: 6.85s\n",
      "\n",
      "Running: {'embedding_model': 'all-MiniLM-L6-v2', 'metric': 'euclidean', 'min_cluster_size': 20, 'min_samples': 7, 'nr_topics': 12}\n"
     ]
    },
    {
     "name": "stderr",
     "output_type": "stream",
     "text": [
      "2025-04-22 06:13:18,941 - BERTopic - WARNING: When you use `pickle` to save/load a BERTopic model,please make sure that the environments in which you saveand load the model are **exactly** the same. The version of BERTopic,its dependencies, and python need to remain the same.\n"
     ]
    },
    {
     "name": "stdout",
     "output_type": "stream",
     "text": [
      "Done | Topics: 11, Outliers: 4761 (41.52%) | Time: 7.72s\n",
      "\n",
      "Running: {'embedding_model': 'all-MiniLM-L6-v2', 'metric': 'euclidean', 'min_cluster_size': 20, 'min_samples': 7, 'nr_topics': 14}\n"
     ]
    },
    {
     "name": "stderr",
     "output_type": "stream",
     "text": [
      "2025-04-22 06:13:27,814 - BERTopic - WARNING: When you use `pickle` to save/load a BERTopic model,please make sure that the environments in which you saveand load the model are **exactly** the same. The version of BERTopic,its dependencies, and python need to remain the same.\n"
     ]
    },
    {
     "name": "stdout",
     "output_type": "stream",
     "text": [
      "Done | Topics: 13, Outliers: 5499 (47.96%) | Time: 6.07s\n",
      "\n",
      "Running: {'embedding_model': 'all-MiniLM-L6-v2', 'metric': 'manhattan', 'min_cluster_size': 20, 'min_samples': 7, 'nr_topics': 8}\n"
     ]
    },
    {
     "name": "stderr",
     "output_type": "stream",
     "text": [
      "2025-04-22 06:13:37,872 - BERTopic - WARNING: When you use `pickle` to save/load a BERTopic model,please make sure that the environments in which you saveand load the model are **exactly** the same. The version of BERTopic,its dependencies, and python need to remain the same.\n"
     ]
    },
    {
     "name": "stdout",
     "output_type": "stream",
     "text": [
      "Done | Topics: 7, Outliers: 5083 (44.33%) | Time: 8.25s\n",
      "\n",
      "Running: {'embedding_model': 'all-MiniLM-L6-v2', 'metric': 'manhattan', 'min_cluster_size': 20, 'min_samples': 7, 'nr_topics': 10}\n"
     ]
    },
    {
     "name": "stderr",
     "output_type": "stream",
     "text": [
      "2025-04-22 06:13:51,726 - BERTopic - WARNING: When you use `pickle` to save/load a BERTopic model,please make sure that the environments in which you saveand load the model are **exactly** the same. The version of BERTopic,its dependencies, and python need to remain the same.\n"
     ]
    },
    {
     "name": "stdout",
     "output_type": "stream",
     "text": [
      "Done | Topics: 9, Outliers: 5225 (45.57%) | Time: 10.29s\n",
      "\n",
      "Running: {'embedding_model': 'all-MiniLM-L6-v2', 'metric': 'manhattan', 'min_cluster_size': 20, 'min_samples': 7, 'nr_topics': 12}\n"
     ]
    },
    {
     "name": "stderr",
     "output_type": "stream",
     "text": [
      "2025-04-22 06:14:06,885 - BERTopic - WARNING: When you use `pickle` to save/load a BERTopic model,please make sure that the environments in which you saveand load the model are **exactly** the same. The version of BERTopic,its dependencies, and python need to remain the same.\n"
     ]
    },
    {
     "name": "stdout",
     "output_type": "stream",
     "text": [
      "Done | Topics: 11, Outliers: 5087 (44.36%) | Time: 11.21s\n",
      "\n",
      "Running: {'embedding_model': 'all-MiniLM-L6-v2', 'metric': 'manhattan', 'min_cluster_size': 20, 'min_samples': 7, 'nr_topics': 14}\n"
     ]
    },
    {
     "name": "stderr",
     "output_type": "stream",
     "text": [
      "2025-04-22 06:14:16,786 - BERTopic - WARNING: When you use `pickle` to save/load a BERTopic model,please make sure that the environments in which you saveand load the model are **exactly** the same. The version of BERTopic,its dependencies, and python need to remain the same.\n"
     ]
    },
    {
     "name": "stdout",
     "output_type": "stream",
     "text": [
      "Done | Topics: 13, Outliers: 5024 (43.81%) | Time: 6.78s\n",
      "\n",
      "Running: {'embedding_model': 'all-MiniLM-L6-v2', 'metric': 'cosine', 'min_cluster_size': 20, 'min_samples': 7, 'nr_topics': 8}\n"
     ]
    },
    {
     "name": "stderr",
     "output_type": "stream",
     "text": [
      "2025-04-22 06:14:24,823 - BERTopic - WARNING: When you use `pickle` to save/load a BERTopic model,please make sure that the environments in which you saveand load the model are **exactly** the same. The version of BERTopic,its dependencies, and python need to remain the same.\n"
     ]
    },
    {
     "name": "stdout",
     "output_type": "stream",
     "text": [
      "Done | Topics: 7, Outliers: 5259 (45.86%) | Time: 5.92s\n",
      "\n",
      "Running: {'embedding_model': 'all-MiniLM-L6-v2', 'metric': 'cosine', 'min_cluster_size': 20, 'min_samples': 7, 'nr_topics': 10}\n"
     ]
    },
    {
     "name": "stderr",
     "output_type": "stream",
     "text": [
      "2025-04-22 06:14:33,649 - BERTopic - WARNING: When you use `pickle` to save/load a BERTopic model,please make sure that the environments in which you saveand load the model are **exactly** the same. The version of BERTopic,its dependencies, and python need to remain the same.\n"
     ]
    },
    {
     "name": "stdout",
     "output_type": "stream",
     "text": [
      "Done | Topics: 9, Outliers: 4765 (41.55%) | Time: 6.38s\n",
      "\n",
      "Running: {'embedding_model': 'all-MiniLM-L6-v2', 'metric': 'cosine', 'min_cluster_size': 20, 'min_samples': 7, 'nr_topics': 12}\n"
     ]
    },
    {
     "name": "stderr",
     "output_type": "stream",
     "text": [
      "2025-04-22 06:14:41,262 - BERTopic - WARNING: When you use `pickle` to save/load a BERTopic model,please make sure that the environments in which you saveand load the model are **exactly** the same. The version of BERTopic,its dependencies, and python need to remain the same.\n"
     ]
    },
    {
     "name": "stdout",
     "output_type": "stream",
     "text": [
      "Done | Topics: 11, Outliers: 5069 (44.21%) | Time: 5.59s\n",
      "\n",
      "Running: {'embedding_model': 'all-MiniLM-L6-v2', 'metric': 'cosine', 'min_cluster_size': 20, 'min_samples': 7, 'nr_topics': 14}\n"
     ]
    },
    {
     "name": "stderr",
     "output_type": "stream",
     "text": [
      "2025-04-22 06:14:49,343 - BERTopic - WARNING: When you use `pickle` to save/load a BERTopic model,please make sure that the environments in which you saveand load the model are **exactly** the same. The version of BERTopic,its dependencies, and python need to remain the same.\n"
     ]
    },
    {
     "name": "stdout",
     "output_type": "stream",
     "text": [
      "Done | Topics: 13, Outliers: 5322 (46.41%) | Time: 6.0s\n",
      "\n",
      "Running: {'embedding_model': 'all-MiniLM-L6-v2', 'metric': 'euclidean', 'min_cluster_size': 20, 'min_samples': 9, 'nr_topics': 8}\n"
     ]
    },
    {
     "name": "stderr",
     "output_type": "stream",
     "text": [
      "2025-04-22 06:14:58,168 - BERTopic - WARNING: When you use `pickle` to save/load a BERTopic model,please make sure that the environments in which you saveand load the model are **exactly** the same. The version of BERTopic,its dependencies, and python need to remain the same.\n"
     ]
    },
    {
     "name": "stdout",
     "output_type": "stream",
     "text": [
      "Done | Topics: 7, Outliers: 4970 (43.34%) | Time: 5.54s\n",
      "\n",
      "Running: {'embedding_model': 'all-MiniLM-L6-v2', 'metric': 'euclidean', 'min_cluster_size': 20, 'min_samples': 9, 'nr_topics': 10}\n"
     ]
    },
    {
     "name": "stderr",
     "output_type": "stream",
     "text": [
      "2025-04-22 06:15:06,162 - BERTopic - WARNING: When you use `pickle` to save/load a BERTopic model,please make sure that the environments in which you saveand load the model are **exactly** the same. The version of BERTopic,its dependencies, and python need to remain the same.\n"
     ]
    },
    {
     "name": "stdout",
     "output_type": "stream",
     "text": [
      "Done | Topics: 9, Outliers: 5215 (45.48%) | Time: 5.91s\n",
      "\n",
      "Running: {'embedding_model': 'all-MiniLM-L6-v2', 'metric': 'euclidean', 'min_cluster_size': 20, 'min_samples': 9, 'nr_topics': 12}\n"
     ]
    },
    {
     "name": "stderr",
     "output_type": "stream",
     "text": [
      "2025-04-22 06:15:13,602 - BERTopic - WARNING: When you use `pickle` to save/load a BERTopic model,please make sure that the environments in which you saveand load the model are **exactly** the same. The version of BERTopic,its dependencies, and python need to remain the same.\n"
     ]
    },
    {
     "name": "stdout",
     "output_type": "stream",
     "text": [
      "Done | Topics: 11, Outliers: 5106 (44.53%) | Time: 5.37s\n",
      "\n",
      "Running: {'embedding_model': 'all-MiniLM-L6-v2', 'metric': 'euclidean', 'min_cluster_size': 20, 'min_samples': 9, 'nr_topics': 14}\n"
     ]
    },
    {
     "name": "stderr",
     "output_type": "stream",
     "text": [
      "2025-04-22 06:15:21,874 - BERTopic - WARNING: When you use `pickle` to save/load a BERTopic model,please make sure that the environments in which you saveand load the model are **exactly** the same. The version of BERTopic,its dependencies, and python need to remain the same.\n"
     ]
    },
    {
     "name": "stdout",
     "output_type": "stream",
     "text": [
      "Done | Topics: 13, Outliers: 4807 (41.92%) | Time: 6.3s\n",
      "\n",
      "Running: {'embedding_model': 'all-MiniLM-L6-v2', 'metric': 'manhattan', 'min_cluster_size': 20, 'min_samples': 9, 'nr_topics': 8}\n"
     ]
    },
    {
     "name": "stderr",
     "output_type": "stream",
     "text": [
      "2025-04-22 06:15:35,442 - BERTopic - WARNING: When you use `pickle` to save/load a BERTopic model,please make sure that the environments in which you saveand load the model are **exactly** the same. The version of BERTopic,its dependencies, and python need to remain the same.\n"
     ]
    },
    {
     "name": "stdout",
     "output_type": "stream",
     "text": [
      "Done | Topics: 7, Outliers: 5441 (47.45%) | Time: 11.58s\n",
      "\n",
      "Running: {'embedding_model': 'all-MiniLM-L6-v2', 'metric': 'manhattan', 'min_cluster_size': 20, 'min_samples': 9, 'nr_topics': 10}\n"
     ]
    },
    {
     "name": "stderr",
     "output_type": "stream",
     "text": [
      "2025-04-22 06:15:46,850 - BERTopic - WARNING: When you use `pickle` to save/load a BERTopic model,please make sure that the environments in which you saveand load the model are **exactly** the same. The version of BERTopic,its dependencies, and python need to remain the same.\n"
     ]
    },
    {
     "name": "stdout",
     "output_type": "stream",
     "text": [
      "Done | Topics: 9, Outliers: 5053 (44.07%) | Time: 8.01s\n",
      "\n",
      "Running: {'embedding_model': 'all-MiniLM-L6-v2', 'metric': 'manhattan', 'min_cluster_size': 20, 'min_samples': 9, 'nr_topics': 12}\n"
     ]
    },
    {
     "name": "stderr",
     "output_type": "stream",
     "text": [
      "2025-04-22 06:15:57,450 - BERTopic - WARNING: When you use `pickle` to save/load a BERTopic model,please make sure that the environments in which you saveand load the model are **exactly** the same. The version of BERTopic,its dependencies, and python need to remain the same.\n"
     ]
    },
    {
     "name": "stdout",
     "output_type": "stream",
     "text": [
      "Done | Topics: 11, Outliers: 5225 (45.57%) | Time: 7.74s\n",
      "\n",
      "Running: {'embedding_model': 'all-MiniLM-L6-v2', 'metric': 'manhattan', 'min_cluster_size': 20, 'min_samples': 9, 'nr_topics': 14}\n"
     ]
    },
    {
     "name": "stderr",
     "output_type": "stream",
     "text": [
      "2025-04-22 06:16:09,609 - BERTopic - WARNING: When you use `pickle` to save/load a BERTopic model,please make sure that the environments in which you saveand load the model are **exactly** the same. The version of BERTopic,its dependencies, and python need to remain the same.\n"
     ]
    },
    {
     "name": "stdout",
     "output_type": "stream",
     "text": [
      "Done | Topics: 13, Outliers: 5639 (49.18%) | Time: 7.89s\n",
      "\n",
      "Running: {'embedding_model': 'all-MiniLM-L6-v2', 'metric': 'cosine', 'min_cluster_size': 20, 'min_samples': 9, 'nr_topics': 8}\n"
     ]
    },
    {
     "name": "stderr",
     "output_type": "stream",
     "text": [
      "2025-04-22 06:16:20,270 - BERTopic - WARNING: When you use `pickle` to save/load a BERTopic model,please make sure that the environments in which you saveand load the model are **exactly** the same. The version of BERTopic,its dependencies, and python need to remain the same.\n"
     ]
    },
    {
     "name": "stdout",
     "output_type": "stream",
     "text": [
      "Done | Topics: 7, Outliers: 5059 (44.12%) | Time: 8.17s\n",
      "\n",
      "Running: {'embedding_model': 'all-MiniLM-L6-v2', 'metric': 'cosine', 'min_cluster_size': 20, 'min_samples': 9, 'nr_topics': 10}\n"
     ]
    },
    {
     "name": "stderr",
     "output_type": "stream",
     "text": [
      "2025-04-22 06:16:32,029 - BERTopic - WARNING: When you use `pickle` to save/load a BERTopic model,please make sure that the environments in which you saveand load the model are **exactly** the same. The version of BERTopic,its dependencies, and python need to remain the same.\n"
     ]
    },
    {
     "name": "stdout",
     "output_type": "stream",
     "text": [
      "Done | Topics: 9, Outliers: 5378 (46.9%) | Time: 8.2s\n",
      "\n",
      "Running: {'embedding_model': 'all-MiniLM-L6-v2', 'metric': 'cosine', 'min_cluster_size': 20, 'min_samples': 9, 'nr_topics': 12}\n"
     ]
    },
    {
     "name": "stderr",
     "output_type": "stream",
     "text": [
      "2025-04-22 06:16:41,142 - BERTopic - WARNING: When you use `pickle` to save/load a BERTopic model,please make sure that the environments in which you saveand load the model are **exactly** the same. The version of BERTopic,its dependencies, and python need to remain the same.\n"
     ]
    },
    {
     "name": "stdout",
     "output_type": "stream",
     "text": [
      "Done | Topics: 11, Outliers: 5415 (47.22%) | Time: 7.08s\n",
      "\n",
      "Running: {'embedding_model': 'all-MiniLM-L6-v2', 'metric': 'cosine', 'min_cluster_size': 20, 'min_samples': 9, 'nr_topics': 14}\n"
     ]
    },
    {
     "name": "stderr",
     "output_type": "stream",
     "text": [
      "2025-04-22 06:16:49,452 - BERTopic - WARNING: When you use `pickle` to save/load a BERTopic model,please make sure that the environments in which you saveand load the model are **exactly** the same. The version of BERTopic,its dependencies, and python need to remain the same.\n"
     ]
    },
    {
     "name": "stdout",
     "output_type": "stream",
     "text": [
      "Done | Topics: 13, Outliers: 5150 (44.91%) | Time: 6.04s\n",
      "\n",
      "Running: {'embedding_model': 'all-MiniLM-L6-v2', 'metric': 'euclidean', 'min_cluster_size': 22, 'min_samples': 5, 'nr_topics': 8}\n"
     ]
    },
    {
     "name": "stderr",
     "output_type": "stream",
     "text": [
      "2025-04-22 06:16:57,405 - BERTopic - WARNING: When you use `pickle` to save/load a BERTopic model,please make sure that the environments in which you saveand load the model are **exactly** the same. The version of BERTopic,its dependencies, and python need to remain the same.\n"
     ]
    },
    {
     "name": "stdout",
     "output_type": "stream",
     "text": [
      "Done | Topics: 7, Outliers: 4950 (43.17%) | Time: 6.02s\n",
      "\n",
      "Running: {'embedding_model': 'all-MiniLM-L6-v2', 'metric': 'euclidean', 'min_cluster_size': 22, 'min_samples': 5, 'nr_topics': 10}\n"
     ]
    },
    {
     "name": "stderr",
     "output_type": "stream",
     "text": [
      "2025-04-22 06:17:05,754 - BERTopic - WARNING: When you use `pickle` to save/load a BERTopic model,please make sure that the environments in which you saveand load the model are **exactly** the same. The version of BERTopic,its dependencies, and python need to remain the same.\n"
     ]
    },
    {
     "name": "stdout",
     "output_type": "stream",
     "text": [
      "Done | Topics: 9, Outliers: 4691 (40.91%) | Time: 6.38s\n",
      "\n",
      "Running: {'embedding_model': 'all-MiniLM-L6-v2', 'metric': 'euclidean', 'min_cluster_size': 22, 'min_samples': 5, 'nr_topics': 12}\n"
     ]
    },
    {
     "name": "stderr",
     "output_type": "stream",
     "text": [
      "2025-04-22 06:17:15,540 - BERTopic - WARNING: When you use `pickle` to save/load a BERTopic model,please make sure that the environments in which you saveand load the model are **exactly** the same. The version of BERTopic,its dependencies, and python need to remain the same.\n"
     ]
    },
    {
     "name": "stdout",
     "output_type": "stream",
     "text": [
      "Done | Topics: 11, Outliers: 5018 (43.76%) | Time: 6.51s\n",
      "\n",
      "Running: {'embedding_model': 'all-MiniLM-L6-v2', 'metric': 'euclidean', 'min_cluster_size': 22, 'min_samples': 5, 'nr_topics': 14}\n"
     ]
    },
    {
     "name": "stderr",
     "output_type": "stream",
     "text": [
      "2025-04-22 06:17:25,539 - BERTopic - WARNING: When you use `pickle` to save/load a BERTopic model,please make sure that the environments in which you saveand load the model are **exactly** the same. The version of BERTopic,its dependencies, and python need to remain the same.\n"
     ]
    },
    {
     "name": "stdout",
     "output_type": "stream",
     "text": [
      "Done | Topics: 13, Outliers: 4794 (41.81%) | Time: 6.67s\n",
      "\n",
      "Running: {'embedding_model': 'all-MiniLM-L6-v2', 'metric': 'manhattan', 'min_cluster_size': 22, 'min_samples': 5, 'nr_topics': 8}\n"
     ]
    },
    {
     "name": "stderr",
     "output_type": "stream",
     "text": [
      "2025-04-22 06:17:35,878 - BERTopic - WARNING: When you use `pickle` to save/load a BERTopic model,please make sure that the environments in which you saveand load the model are **exactly** the same. The version of BERTopic,its dependencies, and python need to remain the same.\n"
     ]
    },
    {
     "name": "stdout",
     "output_type": "stream",
     "text": [
      "Done | Topics: 7, Outliers: 5043 (43.98%) | Time: 7.67s\n",
      "\n",
      "Running: {'embedding_model': 'all-MiniLM-L6-v2', 'metric': 'manhattan', 'min_cluster_size': 22, 'min_samples': 5, 'nr_topics': 10}\n"
     ]
    },
    {
     "name": "stderr",
     "output_type": "stream",
     "text": [
      "2025-04-22 06:17:46,104 - BERTopic - WARNING: When you use `pickle` to save/load a BERTopic model,please make sure that the environments in which you saveand load the model are **exactly** the same. The version of BERTopic,its dependencies, and python need to remain the same.\n"
     ]
    },
    {
     "name": "stdout",
     "output_type": "stream",
     "text": [
      "Done | Topics: 9, Outliers: 4807 (41.92%) | Time: 7.29s\n",
      "\n",
      "Running: {'embedding_model': 'all-MiniLM-L6-v2', 'metric': 'manhattan', 'min_cluster_size': 22, 'min_samples': 5, 'nr_topics': 12}\n"
     ]
    },
    {
     "name": "stderr",
     "output_type": "stream",
     "text": [
      "2025-04-22 06:17:56,263 - BERTopic - WARNING: When you use `pickle` to save/load a BERTopic model,please make sure that the environments in which you saveand load the model are **exactly** the same. The version of BERTopic,its dependencies, and python need to remain the same.\n"
     ]
    },
    {
     "name": "stdout",
     "output_type": "stream",
     "text": [
      "Done | Topics: 11, Outliers: 5172 (45.1%) | Time: 7.65s\n",
      "\n",
      "Running: {'embedding_model': 'all-MiniLM-L6-v2', 'metric': 'manhattan', 'min_cluster_size': 22, 'min_samples': 5, 'nr_topics': 14}\n"
     ]
    },
    {
     "name": "stderr",
     "output_type": "stream",
     "text": [
      "2025-04-22 06:18:05,455 - BERTopic - WARNING: When you use `pickle` to save/load a BERTopic model,please make sure that the environments in which you saveand load the model are **exactly** the same. The version of BERTopic,its dependencies, and python need to remain the same.\n"
     ]
    },
    {
     "name": "stdout",
     "output_type": "stream",
     "text": [
      "Done | Topics: 13, Outliers: 4988 (43.5%) | Time: 6.11s\n",
      "\n",
      "Running: {'embedding_model': 'all-MiniLM-L6-v2', 'metric': 'cosine', 'min_cluster_size': 22, 'min_samples': 5, 'nr_topics': 8}\n"
     ]
    },
    {
     "name": "stderr",
     "output_type": "stream",
     "text": [
      "2025-04-22 06:18:15,612 - BERTopic - WARNING: When you use `pickle` to save/load a BERTopic model,please make sure that the environments in which you saveand load the model are **exactly** the same. The version of BERTopic,its dependencies, and python need to remain the same.\n"
     ]
    },
    {
     "name": "stdout",
     "output_type": "stream",
     "text": [
      "Done | Topics: 7, Outliers: 5052 (44.06%) | Time: 7.94s\n",
      "\n",
      "Running: {'embedding_model': 'all-MiniLM-L6-v2', 'metric': 'cosine', 'min_cluster_size': 22, 'min_samples': 5, 'nr_topics': 10}\n"
     ]
    },
    {
     "name": "stderr",
     "output_type": "stream",
     "text": [
      "2025-04-22 06:18:25,740 - BERTopic - WARNING: When you use `pickle` to save/load a BERTopic model,please make sure that the environments in which you saveand load the model are **exactly** the same. The version of BERTopic,its dependencies, and python need to remain the same.\n"
     ]
    },
    {
     "name": "stdout",
     "output_type": "stream",
     "text": [
      "Done | Topics: 9, Outliers: 5087 (44.36%) | Time: 6.83s\n",
      "\n",
      "Running: {'embedding_model': 'all-MiniLM-L6-v2', 'metric': 'cosine', 'min_cluster_size': 22, 'min_samples': 5, 'nr_topics': 12}\n"
     ]
    },
    {
     "name": "stderr",
     "output_type": "stream",
     "text": [
      "2025-04-22 06:18:35,529 - BERTopic - WARNING: When you use `pickle` to save/load a BERTopic model,please make sure that the environments in which you saveand load the model are **exactly** the same. The version of BERTopic,its dependencies, and python need to remain the same.\n"
     ]
    },
    {
     "name": "stdout",
     "output_type": "stream",
     "text": [
      "Done | Topics: 11, Outliers: 4732 (41.27%) | Time: 6.18s\n",
      "\n",
      "Running: {'embedding_model': 'all-MiniLM-L6-v2', 'metric': 'cosine', 'min_cluster_size': 22, 'min_samples': 5, 'nr_topics': 14}\n"
     ]
    },
    {
     "name": "stderr",
     "output_type": "stream",
     "text": [
      "2025-04-22 06:18:44,293 - BERTopic - WARNING: When you use `pickle` to save/load a BERTopic model,please make sure that the environments in which you saveand load the model are **exactly** the same. The version of BERTopic,its dependencies, and python need to remain the same.\n"
     ]
    },
    {
     "name": "stdout",
     "output_type": "stream",
     "text": [
      "Done | Topics: 13, Outliers: 4671 (40.73%) | Time: 6.4s\n",
      "\n",
      "Running: {'embedding_model': 'all-MiniLM-L6-v2', 'metric': 'euclidean', 'min_cluster_size': 22, 'min_samples': 7, 'nr_topics': 8}\n"
     ]
    },
    {
     "name": "stderr",
     "output_type": "stream",
     "text": [
      "2025-04-22 06:18:53,201 - BERTopic - WARNING: When you use `pickle` to save/load a BERTopic model,please make sure that the environments in which you saveand load the model are **exactly** the same. The version of BERTopic,its dependencies, and python need to remain the same.\n"
     ]
    },
    {
     "name": "stdout",
     "output_type": "stream",
     "text": [
      "Done | Topics: 7, Outliers: 5062 (44.14%) | Time: 6.41s\n",
      "\n",
      "Running: {'embedding_model': 'all-MiniLM-L6-v2', 'metric': 'euclidean', 'min_cluster_size': 22, 'min_samples': 7, 'nr_topics': 10}\n"
     ]
    },
    {
     "name": "stderr",
     "output_type": "stream",
     "text": [
      "2025-04-22 06:19:04,467 - BERTopic - WARNING: When you use `pickle` to save/load a BERTopic model,please make sure that the environments in which you saveand load the model are **exactly** the same. The version of BERTopic,its dependencies, and python need to remain the same.\n"
     ]
    },
    {
     "name": "stdout",
     "output_type": "stream",
     "text": [
      "Done | Topics: 9, Outliers: 4931 (43.0%) | Time: 7.77s\n",
      "\n",
      "Running: {'embedding_model': 'all-MiniLM-L6-v2', 'metric': 'euclidean', 'min_cluster_size': 22, 'min_samples': 7, 'nr_topics': 12}\n"
     ]
    },
    {
     "name": "stderr",
     "output_type": "stream",
     "text": [
      "2025-04-22 06:19:18,274 - BERTopic - WARNING: When you use `pickle` to save/load a BERTopic model,please make sure that the environments in which you saveand load the model are **exactly** the same. The version of BERTopic,its dependencies, and python need to remain the same.\n"
     ]
    },
    {
     "name": "stdout",
     "output_type": "stream",
     "text": [
      "Done | Topics: 11, Outliers: 5225 (45.57%) | Time: 9.25s\n",
      "\n",
      "Running: {'embedding_model': 'all-MiniLM-L6-v2', 'metric': 'euclidean', 'min_cluster_size': 22, 'min_samples': 7, 'nr_topics': 14}\n"
     ]
    },
    {
     "name": "stderr",
     "output_type": "stream",
     "text": [
      "2025-04-22 06:19:26,751 - BERTopic - WARNING: When you use `pickle` to save/load a BERTopic model,please make sure that the environments in which you saveand load the model are **exactly** the same. The version of BERTopic,its dependencies, and python need to remain the same.\n"
     ]
    },
    {
     "name": "stdout",
     "output_type": "stream",
     "text": [
      "Done | Topics: 13, Outliers: 5277 (46.02%) | Time: 5.9s\n",
      "\n",
      "Running: {'embedding_model': 'all-MiniLM-L6-v2', 'metric': 'manhattan', 'min_cluster_size': 22, 'min_samples': 7, 'nr_topics': 8}\n"
     ]
    },
    {
     "name": "stderr",
     "output_type": "stream",
     "text": [
      "2025-04-22 06:19:35,260 - BERTopic - WARNING: When you use `pickle` to save/load a BERTopic model,please make sure that the environments in which you saveand load the model are **exactly** the same. The version of BERTopic,its dependencies, and python need to remain the same.\n"
     ]
    },
    {
     "name": "stdout",
     "output_type": "stream",
     "text": [
      "Done | Topics: 7, Outliers: 5091 (44.4%) | Time: 6.13s\n",
      "\n",
      "Running: {'embedding_model': 'all-MiniLM-L6-v2', 'metric': 'manhattan', 'min_cluster_size': 22, 'min_samples': 7, 'nr_topics': 10}\n"
     ]
    },
    {
     "name": "stderr",
     "output_type": "stream",
     "text": [
      "2025-04-22 06:19:47,895 - BERTopic - WARNING: When you use `pickle` to save/load a BERTopic model,please make sure that the environments in which you saveand load the model are **exactly** the same. The version of BERTopic,its dependencies, and python need to remain the same.\n"
     ]
    },
    {
     "name": "stdout",
     "output_type": "stream",
     "text": [
      "Done | Topics: 9, Outliers: 5328 (46.46%) | Time: 7.95s\n",
      "\n",
      "Running: {'embedding_model': 'all-MiniLM-L6-v2', 'metric': 'manhattan', 'min_cluster_size': 22, 'min_samples': 7, 'nr_topics': 12}\n"
     ]
    },
    {
     "name": "stderr",
     "output_type": "stream",
     "text": [
      "2025-04-22 06:19:57,568 - BERTopic - WARNING: When you use `pickle` to save/load a BERTopic model,please make sure that the environments in which you saveand load the model are **exactly** the same. The version of BERTopic,its dependencies, and python need to remain the same.\n"
     ]
    },
    {
     "name": "stdout",
     "output_type": "stream",
     "text": [
      "Done | Topics: 11, Outliers: 5293 (46.16%) | Time: 6.85s\n",
      "\n",
      "Running: {'embedding_model': 'all-MiniLM-L6-v2', 'metric': 'manhattan', 'min_cluster_size': 22, 'min_samples': 7, 'nr_topics': 14}\n"
     ]
    },
    {
     "name": "stderr",
     "output_type": "stream",
     "text": [
      "2025-04-22 06:20:07,704 - BERTopic - WARNING: When you use `pickle` to save/load a BERTopic model,please make sure that the environments in which you saveand load the model are **exactly** the same. The version of BERTopic,its dependencies, and python need to remain the same.\n"
     ]
    },
    {
     "name": "stdout",
     "output_type": "stream",
     "text": [
      "Done | Topics: 13, Outliers: 5069 (44.21%) | Time: 6.58s\n",
      "\n",
      "Running: {'embedding_model': 'all-MiniLM-L6-v2', 'metric': 'cosine', 'min_cluster_size': 22, 'min_samples': 7, 'nr_topics': 8}\n"
     ]
    },
    {
     "name": "stderr",
     "output_type": "stream",
     "text": [
      "2025-04-22 06:20:16,743 - BERTopic - WARNING: When you use `pickle` to save/load a BERTopic model,please make sure that the environments in which you saveand load the model are **exactly** the same. The version of BERTopic,its dependencies, and python need to remain the same.\n"
     ]
    },
    {
     "name": "stdout",
     "output_type": "stream",
     "text": [
      "Done | Topics: 7, Outliers: 4912 (42.84%) | Time: 6.68s\n",
      "\n",
      "Running: {'embedding_model': 'all-MiniLM-L6-v2', 'metric': 'cosine', 'min_cluster_size': 22, 'min_samples': 7, 'nr_topics': 10}\n"
     ]
    },
    {
     "name": "stderr",
     "output_type": "stream",
     "text": [
      "2025-04-22 06:20:26,007 - BERTopic - WARNING: When you use `pickle` to save/load a BERTopic model,please make sure that the environments in which you saveand load the model are **exactly** the same. The version of BERTopic,its dependencies, and python need to remain the same.\n"
     ]
    },
    {
     "name": "stdout",
     "output_type": "stream",
     "text": [
      "Done | Topics: 9, Outliers: 4815 (41.99%) | Time: 6.43s\n",
      "\n",
      "Running: {'embedding_model': 'all-MiniLM-L6-v2', 'metric': 'cosine', 'min_cluster_size': 22, 'min_samples': 7, 'nr_topics': 12}\n"
     ]
    },
    {
     "name": "stderr",
     "output_type": "stream",
     "text": [
      "2025-04-22 06:20:38,183 - BERTopic - WARNING: When you use `pickle` to save/load a BERTopic model,please make sure that the environments in which you saveand load the model are **exactly** the same. The version of BERTopic,its dependencies, and python need to remain the same.\n"
     ]
    },
    {
     "name": "stdout",
     "output_type": "stream",
     "text": [
      "Done | Topics: 11, Outliers: 5288 (46.11%) | Time: 9.67s\n",
      "\n",
      "Running: {'embedding_model': 'all-MiniLM-L6-v2', 'metric': 'cosine', 'min_cluster_size': 22, 'min_samples': 7, 'nr_topics': 14}\n"
     ]
    },
    {
     "name": "stderr",
     "output_type": "stream",
     "text": [
      "2025-04-22 06:20:52,107 - BERTopic - WARNING: When you use `pickle` to save/load a BERTopic model,please make sure that the environments in which you saveand load the model are **exactly** the same. The version of BERTopic,its dependencies, and python need to remain the same.\n"
     ]
    },
    {
     "name": "stdout",
     "output_type": "stream",
     "text": [
      "Done | Topics: 13, Outliers: 4837 (42.18%) | Time: 8.19s\n",
      "\n",
      "Running: {'embedding_model': 'all-MiniLM-L6-v2', 'metric': 'euclidean', 'min_cluster_size': 22, 'min_samples': 9, 'nr_topics': 8}\n"
     ]
    },
    {
     "name": "stderr",
     "output_type": "stream",
     "text": [
      "2025-04-22 06:21:02,261 - BERTopic - WARNING: When you use `pickle` to save/load a BERTopic model,please make sure that the environments in which you saveand load the model are **exactly** the same. The version of BERTopic,its dependencies, and python need to remain the same.\n"
     ]
    },
    {
     "name": "stdout",
     "output_type": "stream",
     "text": [
      "Done | Topics: 7, Outliers: 4954 (43.2%) | Time: 7.36s\n",
      "\n",
      "Running: {'embedding_model': 'all-MiniLM-L6-v2', 'metric': 'euclidean', 'min_cluster_size': 22, 'min_samples': 9, 'nr_topics': 10}\n"
     ]
    },
    {
     "name": "stderr",
     "output_type": "stream",
     "text": [
      "2025-04-22 06:21:15,622 - BERTopic - WARNING: When you use `pickle` to save/load a BERTopic model,please make sure that the environments in which you saveand load the model are **exactly** the same. The version of BERTopic,its dependencies, and python need to remain the same.\n"
     ]
    },
    {
     "name": "stdout",
     "output_type": "stream",
     "text": [
      "Done | Topics: 9, Outliers: 5291 (46.14%) | Time: 6.98s\n",
      "\n",
      "Running: {'embedding_model': 'all-MiniLM-L6-v2', 'metric': 'euclidean', 'min_cluster_size': 22, 'min_samples': 9, 'nr_topics': 12}\n"
     ]
    },
    {
     "name": "stderr",
     "output_type": "stream",
     "text": [
      "2025-04-22 06:21:25,422 - BERTopic - WARNING: When you use `pickle` to save/load a BERTopic model,please make sure that the environments in which you saveand load the model are **exactly** the same. The version of BERTopic,its dependencies, and python need to remain the same.\n"
     ]
    },
    {
     "name": "stdout",
     "output_type": "stream",
     "text": [
      "Done | Topics: 11, Outliers: 5040 (43.95%) | Time: 6.29s\n",
      "\n",
      "Running: {'embedding_model': 'all-MiniLM-L6-v2', 'metric': 'euclidean', 'min_cluster_size': 22, 'min_samples': 9, 'nr_topics': 14}\n"
     ]
    },
    {
     "name": "stderr",
     "output_type": "stream",
     "text": [
      "2025-04-22 06:21:33,696 - BERTopic - WARNING: When you use `pickle` to save/load a BERTopic model,please make sure that the environments in which you saveand load the model are **exactly** the same. The version of BERTopic,its dependencies, and python need to remain the same.\n"
     ]
    },
    {
     "name": "stdout",
     "output_type": "stream",
     "text": [
      "Done | Topics: 13, Outliers: 5584 (48.7%) | Time: 5.73s\n",
      "\n",
      "Running: {'embedding_model': 'all-MiniLM-L6-v2', 'metric': 'manhattan', 'min_cluster_size': 22, 'min_samples': 9, 'nr_topics': 8}\n"
     ]
    },
    {
     "name": "stderr",
     "output_type": "stream",
     "text": [
      "2025-04-22 06:21:44,826 - BERTopic - WARNING: When you use `pickle` to save/load a BERTopic model,please make sure that the environments in which you saveand load the model are **exactly** the same. The version of BERTopic,its dependencies, and python need to remain the same.\n"
     ]
    },
    {
     "name": "stdout",
     "output_type": "stream",
     "text": [
      "Done | Topics: 7, Outliers: 5681 (49.54%) | Time: 8.46s\n",
      "\n",
      "Running: {'embedding_model': 'all-MiniLM-L6-v2', 'metric': 'manhattan', 'min_cluster_size': 22, 'min_samples': 9, 'nr_topics': 10}\n"
     ]
    },
    {
     "name": "stderr",
     "output_type": "stream",
     "text": [
      "2025-04-22 06:21:57,300 - BERTopic - WARNING: When you use `pickle` to save/load a BERTopic model,please make sure that the environments in which you saveand load the model are **exactly** the same. The version of BERTopic,its dependencies, and python need to remain the same.\n"
     ]
    },
    {
     "name": "stdout",
     "output_type": "stream",
     "text": [
      "Done | Topics: 9, Outliers: 4955 (43.21%) | Time: 8.33s\n",
      "\n",
      "Running: {'embedding_model': 'all-MiniLM-L6-v2', 'metric': 'manhattan', 'min_cluster_size': 22, 'min_samples': 9, 'nr_topics': 12}\n"
     ]
    },
    {
     "name": "stderr",
     "output_type": "stream",
     "text": [
      "2025-04-22 06:22:09,960 - BERTopic - WARNING: When you use `pickle` to save/load a BERTopic model,please make sure that the environments in which you saveand load the model are **exactly** the same. The version of BERTopic,its dependencies, and python need to remain the same.\n"
     ]
    },
    {
     "name": "stdout",
     "output_type": "stream",
     "text": [
      "Failed for config: {'embedding_model': 'all-MiniLM-L6-v2', 'metric': 'manhattan', 'min_cluster_size': 22, 'min_samples': 9, 'nr_topics': 12} — [Errno 28] No space left on device\n",
      "\n",
      "Running: {'embedding_model': 'all-MiniLM-L6-v2', 'metric': 'manhattan', 'min_cluster_size': 22, 'min_samples': 9, 'nr_topics': 14}\n"
     ]
    },
    {
     "ename": "KeyboardInterrupt",
     "evalue": "",
     "output_type": "error",
     "traceback": [
      "\u001b[0;31m---------------------------------------------------------------------------\u001b[0m",
      "\u001b[0;31mKeyboardInterrupt\u001b[0m                         Traceback (most recent call last)",
      "Cell \u001b[0;32mIn[29], line 93\u001b[0m\n\u001b[1;32m     84\u001b[0m topic_model \u001b[39m=\u001b[39m BERTopic(\n\u001b[1;32m     85\u001b[0m     hdbscan_model\u001b[39m=\u001b[39mhdbscan_model,\n\u001b[1;32m     86\u001b[0m     language\u001b[39m=\u001b[39m\u001b[39m\"\u001b[39m\u001b[39menglish\u001b[39m\u001b[39m\"\u001b[39m,\n\u001b[0;32m   (...)\u001b[0m\n\u001b[1;32m     89\u001b[0m     low_memory\u001b[39m=\u001b[39m\u001b[39mTrue\u001b[39;00m                                  \u001b[39m# OBS: Set to 'True' if we want to train on new docs/entries and need .transform()!!!\u001b[39;00m\n\u001b[1;32m     90\u001b[0m )\n\u001b[1;32m     92\u001b[0m \u001b[39mtry\u001b[39;00m:\n\u001b[0;32m---> 93\u001b[0m     topics, _ \u001b[39m=\u001b[39m topic_model\u001b[39m.\u001b[39;49mfit_transform(texts_to_embed, embeddings_used)\n\u001b[1;32m     95\u001b[0m     \u001b[39mif\u001b[39;00m nr_topics:\n\u001b[1;32m     96\u001b[0m         topic_model\u001b[39m.\u001b[39mreduce_topics(texts_to_embed, nr_topics\u001b[39m=\u001b[39mnr_topics)\n",
      "File \u001b[0;32m~/Library/Python/3.9/lib/python/site-packages/bertopic/_bertopic.py:472\u001b[0m, in \u001b[0;36mBERTopic.fit_transform\u001b[0;34m(self, documents, embeddings, images, y)\u001b[0m\n\u001b[1;32m    469\u001b[0m     y, embeddings \u001b[39m=\u001b[39m \u001b[39mself\u001b[39m\u001b[39m.\u001b[39m_guided_topic_modeling(embeddings)\n\u001b[1;32m    471\u001b[0m \u001b[39m# Reduce dimensionality and fit UMAP model\u001b[39;00m\n\u001b[0;32m--> 472\u001b[0m umap_embeddings \u001b[39m=\u001b[39m \u001b[39mself\u001b[39;49m\u001b[39m.\u001b[39;49m_reduce_dimensionality(embeddings, y)\n\u001b[1;32m    474\u001b[0m \u001b[39m# Zero-shot Topic Modeling\u001b[39;00m\n\u001b[1;32m    475\u001b[0m \u001b[39mif\u001b[39;00m \u001b[39mself\u001b[39m\u001b[39m.\u001b[39m_is_zeroshot():\n",
      "File \u001b[0;32m~/Library/Python/3.9/lib/python/site-packages/bertopic/_bertopic.py:3776\u001b[0m, in \u001b[0;36mBERTopic._reduce_dimensionality\u001b[0;34m(self, embeddings, y, partial_fit)\u001b[0m\n\u001b[1;32m   3773\u001b[0m \u001b[39mtry\u001b[39;00m:\n\u001b[1;32m   3774\u001b[0m     \u001b[39m# cuml umap needs y to be an numpy array\u001b[39;00m\n\u001b[1;32m   3775\u001b[0m     y \u001b[39m=\u001b[39m np\u001b[39m.\u001b[39marray(y) \u001b[39mif\u001b[39;00m y \u001b[39mis\u001b[39;00m \u001b[39mnot\u001b[39;00m \u001b[39mNone\u001b[39;00m \u001b[39melse\u001b[39;00m \u001b[39mNone\u001b[39;00m\n\u001b[0;32m-> 3776\u001b[0m     \u001b[39mself\u001b[39;49m\u001b[39m.\u001b[39;49mumap_model\u001b[39m.\u001b[39;49mfit(embeddings, y\u001b[39m=\u001b[39;49my)\n\u001b[1;32m   3777\u001b[0m \u001b[39mexcept\u001b[39;00m \u001b[39mTypeError\u001b[39;00m:\n\u001b[1;32m   3778\u001b[0m     \u001b[39mself\u001b[39m\u001b[39m.\u001b[39mumap_model\u001b[39m.\u001b[39mfit(embeddings)\n",
      "File \u001b[0;32m~/Library/Python/3.9/lib/python/site-packages/umap/umap_.py:2817\u001b[0m, in \u001b[0;36mUMAP.fit\u001b[0;34m(self, X, y, force_all_finite, **kwargs)\u001b[0m\n\u001b[1;32m   2813\u001b[0m \u001b[39mif\u001b[39;00m \u001b[39mself\u001b[39m\u001b[39m.\u001b[39mtransform_mode \u001b[39m==\u001b[39m \u001b[39m\"\u001b[39m\u001b[39membedding\u001b[39m\u001b[39m\"\u001b[39m:\n\u001b[1;32m   2814\u001b[0m     epochs \u001b[39m=\u001b[39m (\n\u001b[1;32m   2815\u001b[0m         \u001b[39mself\u001b[39m\u001b[39m.\u001b[39mn_epochs_list \u001b[39mif\u001b[39;00m \u001b[39mself\u001b[39m\u001b[39m.\u001b[39mn_epochs_list \u001b[39mis\u001b[39;00m \u001b[39mnot\u001b[39;00m \u001b[39mNone\u001b[39;00m \u001b[39melse\u001b[39;00m \u001b[39mself\u001b[39m\u001b[39m.\u001b[39mn_epochs\n\u001b[1;32m   2816\u001b[0m     )\n\u001b[0;32m-> 2817\u001b[0m     \u001b[39mself\u001b[39m\u001b[39m.\u001b[39membedding_, aux_data \u001b[39m=\u001b[39m \u001b[39mself\u001b[39;49m\u001b[39m.\u001b[39;49m_fit_embed_data(\n\u001b[1;32m   2818\u001b[0m         \u001b[39mself\u001b[39;49m\u001b[39m.\u001b[39;49m_raw_data[index],\n\u001b[1;32m   2819\u001b[0m         epochs,\n\u001b[1;32m   2820\u001b[0m         init,\n\u001b[1;32m   2821\u001b[0m         random_state,  \u001b[39m# JH why raw data?\u001b[39;49;00m\n\u001b[1;32m   2822\u001b[0m         \u001b[39m*\u001b[39;49m\u001b[39m*\u001b[39;49mkwargs,\n\u001b[1;32m   2823\u001b[0m     )\n\u001b[1;32m   2825\u001b[0m     \u001b[39mif\u001b[39;00m \u001b[39mself\u001b[39m\u001b[39m.\u001b[39mn_epochs_list \u001b[39mis\u001b[39;00m \u001b[39mnot\u001b[39;00m \u001b[39mNone\u001b[39;00m:\n\u001b[1;32m   2826\u001b[0m         \u001b[39mif\u001b[39;00m \u001b[39m\"\u001b[39m\u001b[39membedding_list\u001b[39m\u001b[39m\"\u001b[39m \u001b[39mnot\u001b[39;00m \u001b[39min\u001b[39;00m aux_data:\n",
      "File \u001b[0;32m~/Library/Python/3.9/lib/python/site-packages/umap/umap_.py:2865\u001b[0m, in \u001b[0;36mUMAP._fit_embed_data\u001b[0;34m(self, X, n_epochs, init, random_state, **kwargs)\u001b[0m\n\u001b[1;32m   2860\u001b[0m \u001b[39mdef\u001b[39;00m \u001b[39m_fit_embed_data\u001b[39m(\u001b[39mself\u001b[39m, X, n_epochs, init, random_state, \u001b[39m*\u001b[39m\u001b[39m*\u001b[39mkwargs):\n\u001b[1;32m   2861\u001b[0m \u001b[39m    \u001b[39m\u001b[39m\"\"\"A method wrapper for simplicial_set_embedding that can be\u001b[39;00m\n\u001b[1;32m   2862\u001b[0m \u001b[39m    replaced by subclasses. Arbitrary keyword arguments can be passed\u001b[39;00m\n\u001b[1;32m   2863\u001b[0m \u001b[39m    through .fit() and .fit_transform().\u001b[39;00m\n\u001b[1;32m   2864\u001b[0m \u001b[39m    \"\"\"\u001b[39;00m\n\u001b[0;32m-> 2865\u001b[0m     \u001b[39mreturn\u001b[39;00m simplicial_set_embedding(\n\u001b[1;32m   2866\u001b[0m         X,\n\u001b[1;32m   2867\u001b[0m         \u001b[39mself\u001b[39;49m\u001b[39m.\u001b[39;49mgraph_,\n\u001b[1;32m   2868\u001b[0m         \u001b[39mself\u001b[39;49m\u001b[39m.\u001b[39;49mn_components,\n\u001b[1;32m   2869\u001b[0m         \u001b[39mself\u001b[39;49m\u001b[39m.\u001b[39;49m_initial_alpha,\n\u001b[1;32m   2870\u001b[0m         \u001b[39mself\u001b[39;49m\u001b[39m.\u001b[39;49m_a,\n\u001b[1;32m   2871\u001b[0m         \u001b[39mself\u001b[39;49m\u001b[39m.\u001b[39;49m_b,\n\u001b[1;32m   2872\u001b[0m         \u001b[39mself\u001b[39;49m\u001b[39m.\u001b[39;49mrepulsion_strength,\n\u001b[1;32m   2873\u001b[0m         \u001b[39mself\u001b[39;49m\u001b[39m.\u001b[39;49mnegative_sample_rate,\n\u001b[1;32m   2874\u001b[0m         n_epochs,\n\u001b[1;32m   2875\u001b[0m         init,\n\u001b[1;32m   2876\u001b[0m         random_state,\n\u001b[1;32m   2877\u001b[0m         \u001b[39mself\u001b[39;49m\u001b[39m.\u001b[39;49m_input_distance_func,\n\u001b[1;32m   2878\u001b[0m         \u001b[39mself\u001b[39;49m\u001b[39m.\u001b[39;49m_metric_kwds,\n\u001b[1;32m   2879\u001b[0m         \u001b[39mself\u001b[39;49m\u001b[39m.\u001b[39;49mdensmap,\n\u001b[1;32m   2880\u001b[0m         \u001b[39mself\u001b[39;49m\u001b[39m.\u001b[39;49m_densmap_kwds,\n\u001b[1;32m   2881\u001b[0m         \u001b[39mself\u001b[39;49m\u001b[39m.\u001b[39;49moutput_dens,\n\u001b[1;32m   2882\u001b[0m         \u001b[39mself\u001b[39;49m\u001b[39m.\u001b[39;49m_output_distance_func,\n\u001b[1;32m   2883\u001b[0m         \u001b[39mself\u001b[39;49m\u001b[39m.\u001b[39;49m_output_metric_kwds,\n\u001b[1;32m   2884\u001b[0m         \u001b[39mself\u001b[39;49m\u001b[39m.\u001b[39;49moutput_metric \u001b[39min\u001b[39;49;00m (\u001b[39m\"\u001b[39;49m\u001b[39meuclidean\u001b[39;49m\u001b[39m\"\u001b[39;49m, \u001b[39m\"\u001b[39;49m\u001b[39ml2\u001b[39;49m\u001b[39m\"\u001b[39;49m),\n\u001b[1;32m   2885\u001b[0m         \u001b[39mself\u001b[39;49m\u001b[39m.\u001b[39;49mrandom_state \u001b[39mis\u001b[39;49;00m \u001b[39mNone\u001b[39;49;00m,\n\u001b[1;32m   2886\u001b[0m         \u001b[39mself\u001b[39;49m\u001b[39m.\u001b[39;49mverbose,\n\u001b[1;32m   2887\u001b[0m         tqdm_kwds\u001b[39m=\u001b[39;49m\u001b[39mself\u001b[39;49m\u001b[39m.\u001b[39;49mtqdm_kwds,\n\u001b[1;32m   2888\u001b[0m     )\n",
      "File \u001b[0;32m~/Library/Python/3.9/lib/python/site-packages/umap/umap_.py:1195\u001b[0m, in \u001b[0;36msimplicial_set_embedding\u001b[0;34m(data, graph, n_components, initial_alpha, a, b, gamma, negative_sample_rate, n_epochs, init, random_state, metric, metric_kwds, densmap, densmap_kwds, output_dens, output_metric, output_metric_kwds, euclidean_output, parallel, verbose, tqdm_kwds)\u001b[0m\n\u001b[1;32m   1188\u001b[0m embedding \u001b[39m=\u001b[39m (\n\u001b[1;32m   1189\u001b[0m     \u001b[39m10.0\u001b[39m\n\u001b[1;32m   1190\u001b[0m     \u001b[39m*\u001b[39m (embedding \u001b[39m-\u001b[39m np\u001b[39m.\u001b[39mmin(embedding, \u001b[39m0\u001b[39m))\n\u001b[1;32m   1191\u001b[0m     \u001b[39m/\u001b[39m (np\u001b[39m.\u001b[39mmax(embedding, \u001b[39m0\u001b[39m) \u001b[39m-\u001b[39m np\u001b[39m.\u001b[39mmin(embedding, \u001b[39m0\u001b[39m))\n\u001b[1;32m   1192\u001b[0m )\u001b[39m.\u001b[39mastype(np\u001b[39m.\u001b[39mfloat32, order\u001b[39m=\u001b[39m\u001b[39m\"\u001b[39m\u001b[39mC\u001b[39m\u001b[39m\"\u001b[39m)\n\u001b[1;32m   1194\u001b[0m \u001b[39mif\u001b[39;00m euclidean_output:\n\u001b[0;32m-> 1195\u001b[0m     embedding \u001b[39m=\u001b[39m optimize_layout_euclidean(\n\u001b[1;32m   1196\u001b[0m         embedding,\n\u001b[1;32m   1197\u001b[0m         embedding,\n\u001b[1;32m   1198\u001b[0m         head,\n\u001b[1;32m   1199\u001b[0m         tail,\n\u001b[1;32m   1200\u001b[0m         n_epochs,\n\u001b[1;32m   1201\u001b[0m         n_vertices,\n\u001b[1;32m   1202\u001b[0m         epochs_per_sample,\n\u001b[1;32m   1203\u001b[0m         a,\n\u001b[1;32m   1204\u001b[0m         b,\n\u001b[1;32m   1205\u001b[0m         rng_state,\n\u001b[1;32m   1206\u001b[0m         gamma,\n\u001b[1;32m   1207\u001b[0m         initial_alpha,\n\u001b[1;32m   1208\u001b[0m         negative_sample_rate,\n\u001b[1;32m   1209\u001b[0m         parallel\u001b[39m=\u001b[39;49mparallel,\n\u001b[1;32m   1210\u001b[0m         verbose\u001b[39m=\u001b[39;49mverbose,\n\u001b[1;32m   1211\u001b[0m         densmap\u001b[39m=\u001b[39;49mdensmap,\n\u001b[1;32m   1212\u001b[0m         densmap_kwds\u001b[39m=\u001b[39;49mdensmap_kwds,\n\u001b[1;32m   1213\u001b[0m         tqdm_kwds\u001b[39m=\u001b[39;49mtqdm_kwds,\n\u001b[1;32m   1214\u001b[0m         move_other\u001b[39m=\u001b[39;49m\u001b[39mTrue\u001b[39;49;00m,\n\u001b[1;32m   1215\u001b[0m     )\n\u001b[1;32m   1216\u001b[0m \u001b[39melse\u001b[39;00m:\n\u001b[1;32m   1217\u001b[0m     embedding \u001b[39m=\u001b[39m optimize_layout_generic(\n\u001b[1;32m   1218\u001b[0m         embedding,\n\u001b[1;32m   1219\u001b[0m         embedding,\n\u001b[0;32m   (...)\u001b[0m\n\u001b[1;32m   1235\u001b[0m         move_other\u001b[39m=\u001b[39m\u001b[39mTrue\u001b[39;00m,\n\u001b[1;32m   1236\u001b[0m     )\n",
      "File \u001b[0;32m~/Library/Python/3.9/lib/python/site-packages/umap/layouts.py:401\u001b[0m, in \u001b[0;36moptimize_layout_euclidean\u001b[0;34m(head_embedding, tail_embedding, head, tail, n_epochs, n_vertices, epochs_per_sample, a, b, rng_state, gamma, initial_alpha, negative_sample_rate, parallel, verbose, densmap, densmap_kwds, tqdm_kwds, move_other)\u001b[0m\n\u001b[1;32m    398\u001b[0m     dens_re_mean \u001b[39m=\u001b[39m \u001b[39m0\u001b[39m\n\u001b[1;32m    399\u001b[0m     dens_re_cov \u001b[39m=\u001b[39m \u001b[39m0\u001b[39m\n\u001b[0;32m--> 401\u001b[0m optimize_fn(\n\u001b[1;32m    402\u001b[0m     head_embedding,\n\u001b[1;32m    403\u001b[0m     tail_embedding,\n\u001b[1;32m    404\u001b[0m     head,\n\u001b[1;32m    405\u001b[0m     tail,\n\u001b[1;32m    406\u001b[0m     n_vertices,\n\u001b[1;32m    407\u001b[0m     epochs_per_sample,\n\u001b[1;32m    408\u001b[0m     a,\n\u001b[1;32m    409\u001b[0m     b,\n\u001b[1;32m    410\u001b[0m     rng_state_per_sample,\n\u001b[1;32m    411\u001b[0m     gamma,\n\u001b[1;32m    412\u001b[0m     dim,\n\u001b[1;32m    413\u001b[0m     move_other,\n\u001b[1;32m    414\u001b[0m     alpha,\n\u001b[1;32m    415\u001b[0m     epochs_per_negative_sample,\n\u001b[1;32m    416\u001b[0m     epoch_of_next_negative_sample,\n\u001b[1;32m    417\u001b[0m     epoch_of_next_sample,\n\u001b[1;32m    418\u001b[0m     n,\n\u001b[1;32m    419\u001b[0m     densmap_flag,\n\u001b[1;32m    420\u001b[0m     dens_phi_sum,\n\u001b[1;32m    421\u001b[0m     dens_re_sum,\n\u001b[1;32m    422\u001b[0m     dens_re_cov,\n\u001b[1;32m    423\u001b[0m     dens_re_std,\n\u001b[1;32m    424\u001b[0m     dens_re_mean,\n\u001b[1;32m    425\u001b[0m     dens_lambda,\n\u001b[1;32m    426\u001b[0m     dens_R,\n\u001b[1;32m    427\u001b[0m     dens_mu,\n\u001b[1;32m    428\u001b[0m     dens_mu_tot,\n\u001b[1;32m    429\u001b[0m )\n\u001b[1;32m    431\u001b[0m alpha \u001b[39m=\u001b[39m initial_alpha \u001b[39m*\u001b[39m (\u001b[39m1.0\u001b[39m \u001b[39m-\u001b[39m (\u001b[39mfloat\u001b[39m(n) \u001b[39m/\u001b[39m \u001b[39mfloat\u001b[39m(n_epochs)))\n\u001b[1;32m    433\u001b[0m \u001b[39mif\u001b[39;00m verbose \u001b[39mand\u001b[39;00m n \u001b[39m%\u001b[39m \u001b[39mint\u001b[39m(n_epochs \u001b[39m/\u001b[39m \u001b[39m10\u001b[39m) \u001b[39m==\u001b[39m \u001b[39m0\u001b[39m:\n",
      "\u001b[0;31mKeyboardInterrupt\u001b[0m: "
     ]
    }
   ],
   "source": [
    "import os\n",
    "from bertopic import BERTopic\n",
    "from sentence_transformers import SentenceTransformer\n",
    "from hdbscan import HDBSCAN\n",
    "from sklearn.preprocessing import normalize\n",
    "import itertools\n",
    "import pandas as pd\n",
    "import time\n",
    "\n",
    "#data\n",
    "texts_to_embed = climate_df[\"clean_text\"].tolist()\n",
    "\n",
    "# Hyperparameter ranges\n",
    "embedding_models = [\"all-MiniLM-L6-v2\", \"all-mpnet-base-v2\"]\n",
    "min_cluster_sizes = list(range(10, 51, 5))     # 10 to 30, step 2\n",
    "min_samples_vals = list(range(5, 11, 2))       # 5, 7, 9\n",
    "nr_topics_vals = [8, 10, 12,14]\n",
    "distance_metrics = [\"euclidean\", \"manhattan\", \"cosine\"]\n",
    "\n",
    "# Logging setup\n",
    "log_path = \"../../data/BERTopic_Hyperparameters/bertopic_grid_log.csv\"\n",
    "log_columns = [\n",
    "    \"embedding_model\", \"metric\", \"min_cluster_size\", \"min_samples\",\n",
    "    \"nr_topics\", \"n_topics\", \"outliers\", \"outlier_pct\", \"time_sec\"\n",
    "]\n",
    "\n",
    "# Load or initialize log\n",
    "if os.path.exists(log_path):\n",
    "    log_df = pd.read_csv(log_path)\n",
    "else:\n",
    "    log_df = pd.DataFrame(columns=log_columns)\n",
    "    log_df.to_csv(log_path, index=False)\n",
    "\n",
    "# Main loop\n",
    "for embed_model in embedding_models:\n",
    "    print(f\"\\nEmbedding model: {embed_model}\")\n",
    "    model = SentenceTransformer(embed_model)\n",
    "    embeddings_local = model.encode(texts_to_embed, show_progress_bar=True)\n",
    "\n",
    "    for min_cluster_size, min_samples, metric, nr_topics in itertools.product(\n",
    "        min_cluster_sizes, min_samples_vals, distance_metrics, nr_topics_vals\n",
    "    ):\n",
    "        # Check if already done\n",
    "        run_key = {\n",
    "            \"embedding_model\": embed_model,\n",
    "            \"metric\": metric,\n",
    "            \"min_cluster_size\": min_cluster_size,\n",
    "            \"min_samples\": min_samples,\n",
    "            \"nr_topics\": nr_topics if nr_topics else \"None\"\n",
    "        }\n",
    "\n",
    "        existing = log_df[\n",
    "            (log_df.embedding_model == run_key[\"embedding_model\"]) &\n",
    "            (log_df.metric == run_key[\"metric\"]) &\n",
    "            (log_df.min_cluster_size == run_key[\"min_cluster_size\"]) &\n",
    "            (log_df.min_samples == run_key[\"min_samples\"]) &\n",
    "            (log_df.nr_topics == run_key[\"nr_topics\"])\n",
    "        ]\n",
    "\n",
    "        if not existing.empty:\n",
    "            print(f\"Skipping already completed: {run_key}\")\n",
    "            continue\n",
    "\n",
    "        print(f\"\\nRunning: {run_key}\")\n",
    "        start = time.time()\n",
    "\n",
    "        # Normalize for cosine\n",
    "        if metric == \"cosine\":\n",
    "            embeddings_used = normalize(embeddings_local, norm=\"l2\")\n",
    "            hdbscan_metric = \"euclidean\"\n",
    "        else:\n",
    "            embeddings_used = embeddings_local\n",
    "            hdbscan_metric = metric\n",
    "\n",
    "        # HDBSCAN setup\n",
    "        hdbscan_model = HDBSCAN(\n",
    "            min_cluster_size=min_cluster_size,\n",
    "            min_samples=min_samples,\n",
    "            metric=hdbscan_metric,\n",
    "            cluster_selection_method=\"eom\"\n",
    "        )\n",
    "\n",
    "        # BERTopic setup\n",
    "        topic_model = BERTopic(\n",
    "            hdbscan_model=hdbscan_model,\n",
    "            language=\"english\",\n",
    "            calculate_probabilities=False,\n",
    "            verbose=False,\n",
    "            low_memory=True                                  # OBS: Remove if we want to train on new docs/entries and need .transform()!!!\n",
    "        )\n",
    "\n",
    "        try:\n",
    "            topics, _ = topic_model.fit_transform(texts_to_embed, embeddings_used)\n",
    "\n",
    "            if nr_topics:\n",
    "                topic_model.reduce_topics(texts_to_embed, nr_topics=nr_topics)\n",
    "                topics = topic_model.topics_\n",
    "\n",
    "            topic_info = topic_model.get_topic_info()\n",
    "            n_topics = len(topic_info[topic_info.Topic != -1])\n",
    "            n_outliers = topic_info[topic_info.Topic == -1].Count.values[0] if -1 in topic_info.Topic.values else 0\n",
    "            n_total = sum(topic_info.Count)\n",
    "            duration = round(time.time() - start, 2)\n",
    "\n",
    "            log_entry = {\n",
    "                **run_key,\n",
    "                \"n_topics\": n_topics,\n",
    "                \"outliers\": n_outliers,\n",
    "                \"outlier_pct\": round(n_outliers / n_total * 100, 2),\n",
    "                \"time_sec\": duration\n",
    "            }\n",
    "\n",
    "            log_df = pd.concat([log_df, pd.DataFrame([log_entry])], ignore_index=True)\n",
    "            log_df.to_csv(log_path, index=False)\n",
    "            \n",
    "            model_name = f\"{embed_model}_{metric}_c{min_cluster_size}_s{min_samples}_nt{nr_topics or 'none'}\"\n",
    "            save_path = f\"../../data/BERTopic_Hyperparameters/_{model_name}\"\n",
    "\n",
    "\n",
    "\n",
    "            # Save model\n",
    "            topic_model.save(save_path)\n",
    "\n",
    "\n",
    "            print(f\"Done | Topics: {n_topics}, Outliers: {n_outliers} ({log_entry['outlier_pct']}%) | Time: {duration}s\")\n",
    "\n",
    "        except Exception as e:\n",
    "            print(f\"Failed for config: {run_key} — {e}\")\n"
   ]
  },
  {
   "attachments": {},
   "cell_type": "markdown",
   "metadata": {},
   "source": [
    "## View saved topic_model (CURRENT):"
   ]
  },
  {
   "cell_type": "code",
   "execution_count": null,
   "metadata": {},
   "outputs": [
    {
     "data": {
      "text/html": [
       "<div>\n",
       "<style scoped>\n",
       "    .dataframe tbody tr th:only-of-type {\n",
       "        vertical-align: middle;\n",
       "    }\n",
       "\n",
       "    .dataframe tbody tr th {\n",
       "        vertical-align: top;\n",
       "    }\n",
       "\n",
       "    .dataframe thead th {\n",
       "        text-align: right;\n",
       "    }\n",
       "</style>\n",
       "<table border=\"1\" class=\"dataframe\">\n",
       "  <thead>\n",
       "    <tr style=\"text-align: right;\">\n",
       "      <th></th>\n",
       "      <th>Topic</th>\n",
       "      <th>Count</th>\n",
       "      <th>Name</th>\n",
       "      <th>Representation</th>\n",
       "      <th>Representative_Docs</th>\n",
       "    </tr>\n",
       "  </thead>\n",
       "  <tbody>\n",
       "    <tr>\n",
       "      <th>0</th>\n",
       "      <td>-1</td>\n",
       "      <td>4566</td>\n",
       "      <td>-1_the_and_to_of</td>\n",
       "      <td>[the, and, to, of, in, for, is, that, we, it]</td>\n",
       "      <td>[understandable i know a lot of people essenti...</td>\n",
       "    </tr>\n",
       "    <tr>\n",
       "      <th>1</th>\n",
       "      <td>0</td>\n",
       "      <td>334</td>\n",
       "      <td>0_coal_clean_plants_trump</td>\n",
       "      <td>[coal, clean, plants, trump, mine, beautiful, ...</td>\n",
       "      <td>[trump tried to bring back coal in his first t...</td>\n",
       "    </tr>\n",
       "    <tr>\n",
       "      <th>2</th>\n",
       "      <td>1</td>\n",
       "      <td>269</td>\n",
       "      <td>1_solar_electricity_panels_power</td>\n",
       "      <td>[solar, electricity, panels, power, generation...</td>\n",
       "      <td>[renewables met of the growth in electricity d...</td>\n",
       "    </tr>\n",
       "    <tr>\n",
       "      <th>3</th>\n",
       "      <td>2</td>\n",
       "      <td>266</td>\n",
       "      <td>2_depth_snow_apr_precip</td>\n",
       "      <td>[depth, snow, apr, precip, low, high, iembot, ...</td>\n",
       "      <td>[birmingham apr climate report high low precip...</td>\n",
       "    </tr>\n",
       "    <tr>\n",
       "      <th>4</th>\n",
       "      <td>3</td>\n",
       "      <td>246</td>\n",
       "      <td>3_apr_missing_iembot_additional</td>\n",
       "      <td>[apr, missing, iembot, additional, details, vi...</td>\n",
       "      <td>[key west apr climate report high low precip s...</td>\n",
       "    </tr>\n",
       "    <tr>\n",
       "      <th>...</th>\n",
       "      <td>...</td>\n",
       "      <td>...</td>\n",
       "      <td>...</td>\n",
       "      <td>...</td>\n",
       "      <td>...</td>\n",
       "    </tr>\n",
       "    <tr>\n",
       "      <th>193</th>\n",
       "      <td>192</td>\n",
       "      <td>10</td>\n",
       "      <td>192_bags_ecofriendly_plastic_tree</td>\n",
       "      <td>[bags, ecofriendly, plastic, tree, canadianwil...</td>\n",
       "      <td>[every item ordered plants a tree and removes ...</td>\n",
       "    </tr>\n",
       "    <tr>\n",
       "      <th>194</th>\n",
       "      <td>193</td>\n",
       "      <td>10</td>\n",
       "      <td>193_water_facilities_carries_desalination</td>\n",
       "      <td>[water, facilities, carries, desalination, sma...</td>\n",
       "      <td>[we support latvias largest water utility rgas...</td>\n",
       "    </tr>\n",
       "    <tr>\n",
       "      <th>195</th>\n",
       "      <td>194</td>\n",
       "      <td>10</td>\n",
       "      <td>194_dinner_functioningcore_alreadydirty_dishes...</td>\n",
       "      <td>[dinner, functioningcore, alreadydirty, dishes...</td>\n",
       "      <td>[clean space clean mind why tidying up is good...</td>\n",
       "    </tr>\n",
       "    <tr>\n",
       "      <th>196</th>\n",
       "      <td>195</td>\n",
       "      <td>10</td>\n",
       "      <td>195_indoors_cooking_propane_stove</td>\n",
       "      <td>[indoors, cooking, propane, stove, gas, showin...</td>\n",
       "      <td>[natural gas is linked with cancer not wind po...</td>\n",
       "    </tr>\n",
       "    <tr>\n",
       "      <th>197</th>\n",
       "      <td>196</td>\n",
       "      <td>10</td>\n",
       "      <td>196_program_staff_assistance_reneweconomycomau...</td>\n",
       "      <td>[program, staff, assistance, reneweconomycomau...</td>\n",
       "      <td>[simonahacbskysocial coalition and labor agree...</td>\n",
       "    </tr>\n",
       "  </tbody>\n",
       "</table>\n",
       "<p>198 rows × 5 columns</p>\n",
       "</div>"
      ],
      "text/plain": [
       "     Topic  Count                                               Name  \\\n",
       "0       -1   4566                                   -1_the_and_to_of   \n",
       "1        0    334                          0_coal_clean_plants_trump   \n",
       "2        1    269                   1_solar_electricity_panels_power   \n",
       "3        2    266                            2_depth_snow_apr_precip   \n",
       "4        3    246                    3_apr_missing_iembot_additional   \n",
       "..     ...    ...                                                ...   \n",
       "193    192     10                  192_bags_ecofriendly_plastic_tree   \n",
       "194    193     10          193_water_facilities_carries_desalination   \n",
       "195    194     10  194_dinner_functioningcore_alreadydirty_dishes...   \n",
       "196    195     10                  195_indoors_cooking_propane_stove   \n",
       "197    196     10  196_program_staff_assistance_reneweconomycomau...   \n",
       "\n",
       "                                        Representation  \\\n",
       "0        [the, and, to, of, in, for, is, that, we, it]   \n",
       "1    [coal, clean, plants, trump, mine, beautiful, ...   \n",
       "2    [solar, electricity, panels, power, generation...   \n",
       "3    [depth, snow, apr, precip, low, high, iembot, ...   \n",
       "4    [apr, missing, iembot, additional, details, vi...   \n",
       "..                                                 ...   \n",
       "193  [bags, ecofriendly, plastic, tree, canadianwil...   \n",
       "194  [water, facilities, carries, desalination, sma...   \n",
       "195  [dinner, functioningcore, alreadydirty, dishes...   \n",
       "196  [indoors, cooking, propane, stove, gas, showin...   \n",
       "197  [program, staff, assistance, reneweconomycomau...   \n",
       "\n",
       "                                   Representative_Docs  \n",
       "0    [understandable i know a lot of people essenti...  \n",
       "1    [trump tried to bring back coal in his first t...  \n",
       "2    [renewables met of the growth in electricity d...  \n",
       "3    [birmingham apr climate report high low precip...  \n",
       "4    [key west apr climate report high low precip s...  \n",
       "..                                                 ...  \n",
       "193  [every item ordered plants a tree and removes ...  \n",
       "194  [we support latvias largest water utility rgas...  \n",
       "195  [clean space clean mind why tidying up is good...  \n",
       "196  [natural gas is linked with cancer not wind po...  \n",
       "197  [simonahacbskysocial coalition and labor agree...  \n",
       "\n",
       "[198 rows x 5 columns]"
      ]
     },
     "execution_count": 17,
     "metadata": {},
     "output_type": "execute_result"
    }
   ],
   "source": [
    "from bertopic import BERTopic\n",
    "topic_model = BERTopic.load(\"/Users/tobiasmichelsen/Bachelor_Project/DS_BachelorProject_PH/data/BERTopic_Hyperparameters/_all-MiniLM-L6-v2_euclidean_c10_s5_ntnone\")\n",
    "\n",
    "# Inspect\n",
    "topic_model.get_topic_info()\n"
   ]
  },
  {
   "cell_type": "code",
   "execution_count": 15,
   "metadata": {},
   "outputs": [
    {
     "name": "stdout",
     "output_type": "stream",
     "text": [
      "   Topic  Count                          Name  \\\n",
      "0     -1   4955              -1_the_to_and_of   \n",
      "1      0   4852               0_the_to_and_of   \n",
      "2      1   1052         1_apr_snow_precip_low   \n",
      "3      2    199            2_green_the_and_of   \n",
      "4      3    133  3_plastic_plastics_waste_the   \n",
      "5      4    105          4_air_the_autism_and   \n",
      "6      5     65                 5_de_en_la_es   \n",
      "7      6     47     6_carbon_carbonated_it_my   \n",
      "8      7     31         7_of_emission_the_and   \n",
      "9      8     28         8_reg_promo_code_deal   \n",
      "\n",
      "                                      Representation  \\\n",
      "0  [the, to, and, of, in, is, for, that, on, clim...   \n",
      "1  [the, to, and, of, in, is, for, that, climate,...   \n",
      "2  [apr, snow, precip, low, high, iembot, additio...   \n",
      "3  [green, the, and, of, to, like, for, my, game,...   \n",
      "4  [plastic, plastics, waste, the, and, microplas...   \n",
      "5  [air, the, autism, and, of, environmental, to,...   \n",
      "6        [de, en, la, es, les, que, des, et, le, el]   \n",
      "7  [carbon, carbonated, it, my, to, and, tea, the...   \n",
      "8  [of, emission, the, and, in, transition, we, q...   \n",
      "9  [reg, promo, code, deal, use, amazon, price, b...   \n",
      "\n",
      "                                 Representative_Docs  \n",
      "0  [so now we officially have confirmation that i...  \n",
      "1  [more water is needed because climate change w...  \n",
      "2  [monroe apr climate report high low precip sno...  \n",
      "3  [blue prince a game i like a lot but wish i co...  \n",
      "4  [the sooner we can use bioplastics the better ...  \n",
      "5  [trumps obsession with finding the cause of au...  \n",
      "6  [reporte del clima en este momento la temperat...  \n",
      "7  [question about my bikes fork im about to do m...  \n",
      "8  [quasiperiodic pulsations in ionospheric tec s...  \n",
      "9  [tesla model y allweather tpe floor mats set o...  \n"
     ]
    }
   ],
   "source": [
    "from bertopic import BERTopic\n",
    "\n",
    "# Load saved model\n",
    "topic_model = BERTopic.load(\"/Users/tobiasmichelsen/Bachelor_Project/DS_BachelorProject_PH/data/BERTopic_Hyperparameters/_all-MiniLM-L6-v2_manhattan_c22_s9_nt10\")\n",
    "\n",
    "# Get original texts\n",
    "texts = climate_df[\"clean_text\"].tolist()  \n",
    "\n",
    "# Reduce to 10 topics\n",
    "topic_model.reduce_topics(docs=texts, nr_topics=10)\n",
    "\n",
    "# View updated topic summary\n",
    "reduced_topic_info = topic_model.get_topic_info()\n",
    "print(reduced_topic_info.head(11))\n"
   ]
  },
  {
   "cell_type": "code",
   "execution_count": 17,
   "metadata": {},
   "outputs": [
    {
     "name": "stdout",
     "output_type": "stream",
     "text": [
      "      embedding_model     metric  min_cluster_size  min_samples  nr_topics  \\\n",
      "9    all-MiniLM-L6-v2     cosine                10            5         10   \n",
      "7    all-MiniLM-L6-v2  manhattan                10            5         14   \n",
      "10   all-MiniLM-L6-v2     cosine                10            5         12   \n",
      "50   all-MiniLM-L6-v2  euclidean                12            7         12   \n",
      "155  all-MiniLM-L6-v2     cosine                18            5         14   \n",
      "38   all-MiniLM-L6-v2  euclidean                12            5         12   \n",
      "39   all-MiniLM-L6-v2  euclidean                12            5         14   \n",
      "146  all-MiniLM-L6-v2  euclidean                18            5         12   \n",
      "46   all-MiniLM-L6-v2     cosine                12            5         12   \n",
      "111  all-MiniLM-L6-v2  euclidean                16            5         14   \n",
      "\n",
      "     n_topics  outliers  outlier_pct  time_sec  \n",
      "9           9      4372        38.13      8.30  \n",
      "7          13      4402        38.39      8.34  \n",
      "10         11      4421        38.55      6.98  \n",
      "50         11      4430        38.63      6.14  \n",
      "155        13      4461        38.90     12.34  \n",
      "38         11      4463        38.92      6.65  \n",
      "39         13      4463        38.92      7.83  \n",
      "146        11      4491        39.16     12.91  \n",
      "46         11      4503        39.27      7.24  \n",
      "111        13      4505        39.29     23.67  \n"
     ]
    }
   ],
   "source": [
    "## Filter for lowest outlier percentage\n",
    "\n",
    "import pandas as pd\n",
    "import os\n",
    "\n",
    "# Load the log\n",
    "log_path = \"../../data/BERTopic_Hyperparameters/bertopic_grid_log.csv\"\n",
    "log_df = pd.read_csv(log_path)\n",
    "\n",
    "# Sort by outlier percentage (ascending = best first)\n",
    "log_df_sorted = log_df.sort_values(by=\"outlier_pct\")\n",
    "\n",
    "# Show top 10\n",
    "print(log_df_sorted.head(10))\n"
   ]
  },
  {
   "cell_type": "code",
   "execution_count": 18,
   "metadata": {},
   "outputs": [
    {
     "name": "stdout",
     "output_type": "stream",
     "text": [
      "all-MiniLM-L6-v2_cosine_c10_s5_nt10: ../../data/BERTopic_Hyperparameters/_all-MiniLM-L6-v2_cosine_c10_s5_nt10\n",
      "all-MiniLM-L6-v2_manhattan_c10_s5_nt14: ../../data/BERTopic_Hyperparameters/_all-MiniLM-L6-v2_manhattan_c10_s5_nt14\n",
      "all-MiniLM-L6-v2_cosine_c10_s5_nt12: ../../data/BERTopic_Hyperparameters/_all-MiniLM-L6-v2_cosine_c10_s5_nt12\n",
      "all-MiniLM-L6-v2_euclidean_c12_s7_nt12: ../../data/BERTopic_Hyperparameters/_all-MiniLM-L6-v2_euclidean_c12_s7_nt12\n",
      "all-MiniLM-L6-v2_cosine_c18_s5_nt14: ../../data/BERTopic_Hyperparameters/_all-MiniLM-L6-v2_cosine_c18_s5_nt14\n",
      "all-MiniLM-L6-v2_euclidean_c12_s5_nt12: ../../data/BERTopic_Hyperparameters/_all-MiniLM-L6-v2_euclidean_c12_s5_nt12\n",
      "all-MiniLM-L6-v2_euclidean_c12_s5_nt14: ../../data/BERTopic_Hyperparameters/_all-MiniLM-L6-v2_euclidean_c12_s5_nt14\n",
      "all-MiniLM-L6-v2_euclidean_c18_s5_nt12: ../../data/BERTopic_Hyperparameters/_all-MiniLM-L6-v2_euclidean_c18_s5_nt12\n",
      "all-MiniLM-L6-v2_cosine_c12_s5_nt12: ../../data/BERTopic_Hyperparameters/_all-MiniLM-L6-v2_cosine_c12_s5_nt12\n",
      "all-MiniLM-L6-v2_euclidean_c16_s5_nt14: ../../data/BERTopic_Hyperparameters/_all-MiniLM-L6-v2_euclidean_c16_s5_nt14\n"
     ]
    }
   ],
   "source": [
    "top_n = 10\n",
    "base_model_dir = \"../../data/BERTopic_Hyperparameters\"\n",
    "\n",
    "top_models = []\n",
    "\n",
    "for row in log_df_sorted.head(top_n).itertuples():\n",
    "    model_name = f\"{row.embedding_model}_{row.metric}_c{row.min_cluster_size}_s{row.min_samples}_nt{row.nr_topics}\"\n",
    "    model_path = os.path.join(base_model_dir, f\"_{model_name}\")\n",
    "    top_models.append((model_name, model_path))\n",
    "\n",
    "# Print top model paths\n",
    "for name, path in top_models:\n",
    "    print(f\"{name}: {path}\")\n"
   ]
  },
  {
   "cell_type": "code",
   "execution_count": 29,
   "metadata": {},
   "outputs": [
    {
     "name": "stdout",
     "output_type": "stream",
     "text": [
      "    Topic  Count                                               Name  \\\n",
      "0      -1   4505                                   -1_the_to_and_of   \n",
      "1       0   4110                                    0_the_to_and_of   \n",
      "2       1   1446                              1_apr_snow_precip_low   \n",
      "3       2    545                                    2_the_to_and_of   \n",
      "4       3    332                               3_the_plastic_and_to   \n",
      "5       4    144                                  4_the_and_of_game   \n",
      "6       5    108                               5_green_flag_red_the   \n",
      "7       6     66                                      6_de_la_en_es   \n",
      "8       7     43                                  7_she_her_shes_to   \n",
      "9       8     41                            8_noise_the_monoxide_it   \n",
      "10      9     37                      9_autism_rfk_environmental_jr   \n",
      "11     10     33  10_thegreenplanet_davidattenborough_stopgreenw...   \n",
      "12     11     31                             11_of_emission_the_and   \n",
      "13     12     26                             12_reg_promo_code_deal   \n",
      "\n",
      "                                       Representation  \\\n",
      "0   [the, to, and, of, in, is, for, that, climate,...   \n",
      "1   [the, to, and, of, in, is, for, that, climate,...   \n",
      "2   [apr, snow, precip, low, high, iembot, additio...   \n",
      "3   [the, to, and, of, in, is, forests, are, for, ...   \n",
      "4   [the, plastic, and, to, of, air, pollution, in...   \n",
      "5   [the, and, of, game, artist, art, my, for, lik...   \n",
      "6   [green, flag, red, the, it, is, to, its, like,...   \n",
      "7        [de, la, en, es, que, les, des, et, el, und]   \n",
      "8   [she, her, shes, to, and, the, what, was, for,...   \n",
      "9   [noise, the, monoxide, it, landlord, carbon, m...   \n",
      "10  [autism, rfk, environmental, jr, he, of, is, g...   \n",
      "11  [thegreenplanet, davidattenborough, stopgreenw...   \n",
      "12  [of, emission, the, and, transition, we, in, t...   \n",
      "13  [reg, promo, code, deal, use, amazon, price, b...   \n",
      "\n",
      "                                  Representative_Docs  \n",
      "0   [the us energy institute of america eia foreca...  \n",
      "1   [oh i agree the old guard needs to go but ther...  \n",
      "2   [jackson apr climate report high low precip sn...  \n",
      "3   [under trumps executive order usda to cut more...  \n",
      "4   [worrying when theres nothing you can do about...  \n",
      "5   [gh jaughn voss jemma emmoss gemma all right f...  \n",
      "6   [my stock app is showing a bunch of green i wa...  \n",
      "7   [reporte del clima en este momento la temperat...  \n",
      "8   [i hate her so much what shes doing is not wha...  \n",
      "9   [this landlord management did not mind taking ...  \n",
      "10  [fact there is no medical detection or cure fo...  \n",
      "11  [boycottpalmoil boycottwildlife eastereggs eas...  \n",
      "12  [quasiperiodic pulsations in ionospheric tec s...  \n",
      "13  [electric heated blanket throw fast heating he...  \n"
     ]
    }
   ],
   "source": [
    "from bertopic import BERTopic\n",
    "\n",
    "# Load saved model\n",
    "topic_model = BERTopic.load(\"../../data/BERTopic_Hyperparameters/_all-MiniLM-L6-v2_euclidean_c16_s5_nt14\")\n",
    "\n",
    "# Get original texts\n",
    "texts = climate_df[\"clean_text\"].tolist()  \n",
    "\n",
    "# Reduce to 10 topics\n",
    "\n",
    "\n",
    "# View updated topic summary\n",
    "reduced_topic_info = topic_model.get_topic_info()\n",
    "print(reduced_topic_info.head(15))\n"
   ]
  },
  {
   "cell_type": "code",
   "execution_count": 28,
   "metadata": {},
   "outputs": [
    {
     "name": "stdout",
     "output_type": "stream",
     "text": [
      "\n",
      "Topic 1 | Count: 1052\n",
      "Top words: apr, snow, precip, low, high, iembot, additional, details, via, missing\n",
      "Example post: monroe apr climate report high low precip snow snow depth at wed apr via iembot additional details here\n",
      "\n",
      "Topic 5 | Count: 65\n",
      "Top words: de, en, la, es, les, que, des, et, le, el\n",
      "Example post: reporte del clima en este momento la temperatura en sartenejas es de c la condicin es nublado ten un da productivo y feliz\n",
      "\n",
      "Topic 7 | Count: 31\n",
      "Top words: of, emission, the, and, in, transition, we, quasiperiodic, tropomi, with\n",
      "Example post: quasiperiodic pulsations in ionospheric tec synchronized with solar flare euv emission aisling n ohare et al\n",
      "\n",
      "Topic 8 | Count: 28\n",
      "Top words: reg, promo, code, deal, use, amazon, price, buy, off, lights\n",
      "Example post: tesla model y allweather tpe floor mats set of off deal price reg use promo code liklpx buy on amazon\n"
     ]
    }
   ],
   "source": [
    "topics_cleaned = topic_info[topic_info[\"Topic\"] != -1]\n",
    "\n",
    "def is_high_quality_topic(keywords):\n",
    "    stopwords = {\"the\", \"to\", \"and\", \"of\", \"in\", \"is\", \"for\", \"that\", \"it\"}\n",
    "    return len([w for w in keywords if w not in stopwords]) >= 5\n",
    "\n",
    "topics_cleaned[\"high_quality\"] = topics_cleaned[\"Representation\"].apply(is_high_quality_topic)\n",
    "\n",
    "good_topics = topics_cleaned[topics_cleaned[\"high_quality\"] == True]\n",
    "\n",
    "for _, row in good_topics.iterrows():\n",
    "    print(f\"\\nTopic {row['Topic']} | Count: {row['Count']}\")\n",
    "    print(\"Top words:\", \", \".join(row[\"Representation\"][:30]))\n",
    "    print(\"Example post:\", row[\"Representative_Docs\"][0])\n",
    "\n"
   ]
  },
  {
   "cell_type": "code",
   "execution_count": null,
   "metadata": {},
   "outputs": [],
   "source": []
  }
 ],
 "metadata": {
  "kernelspec": {
   "display_name": "Python 3",
   "language": "python",
   "name": "python3"
  },
  "language_info": {
   "codemirror_mode": {
    "name": "ipython",
    "version": 3
   },
   "file_extension": ".py",
   "mimetype": "text/x-python",
   "name": "python",
   "nbconvert_exporter": "python",
   "pygments_lexer": "ipython3",
   "version": "3.9.6"
  },
  "orig_nbformat": 4,
  "vscode": {
   "interpreter": {
    "hash": "31f2aee4e71d21fbe5cf8b01ff0e069b9275f58929596ceb00d14d90e3e16cd6"
   }
  }
 },
 "nbformat": 4,
 "nbformat_minor": 2
}
