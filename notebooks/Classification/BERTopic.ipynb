{
 "cells": [
  {
   "attachments": {},
   "cell_type": "markdown",
   "metadata": {},
   "source": [
    "# BERTopic: \n",
    "- Preprocess (normalize text, filter for \"yes\" label)\n",
    "\n",
    "- Embedding (convert text to number representation)\n",
    "\n",
    "- Top Modeling (find different cluster setups)"
   ]
  },
  {
   "cell_type": "code",
   "execution_count": 21,
   "metadata": {},
   "outputs": [],
   "source": [
    "#imports / installs\n",
    "\n",
    "import pandas as pd\n",
    "import re\n",
    "import glob\n",
    "import os\n"
   ]
  },
  {
   "attachments": {},
   "cell_type": "markdown",
   "metadata": {},
   "source": [
    "## Step 1: Preprocessing"
   ]
  },
  {
   "cell_type": "code",
   "execution_count": 49,
   "metadata": {},
   "outputs": [],
   "source": [
    "def preprocess_text(text):\n",
    "    # Lowercase\n",
    "    text = text.lower()\n",
    "    # Remove URLs\n",
    "    text = re.sub(r\"http\\S+|www\\S+\", \"\", text)\n",
    "    # Remove mentions and hashtags\n",
    "    text = re.sub(r\"@\\w+|#\\w+\", \"\", text)\n",
    "    # Remove non-letter characters (keep punctuation if needed)\n",
    "    text = re.sub(r\"[^a-zA-Z\\s]\", \"\", text)\n",
    "    # Normalize whitespace\n",
    "    text = re.sub(r\"\\s+\", \" \", text).strip()\n",
    "    return text"
   ]
  },
  {
   "cell_type": "code",
   "execution_count": 50,
   "metadata": {},
   "outputs": [],
   "source": [
    "from sentence_transformers import SentenceTransformer\n",
    "\n",
    "def generate_embeddings(texts, model_name=\"all-MiniLM-L6-v2\"):\n",
    "    model = SentenceTransformer(model_name)\n",
    "    embeddings = model.encode(texts, show_progress_bar=True)\n",
    "    return embeddings\n"
   ]
  },
  {
   "cell_type": "code",
   "execution_count": 51,
   "metadata": {},
   "outputs": [],
   "source": [
    "INPUT_PATH = \"../../data/climate_classified/\" #Currently uses the 14 jsons * 100,000 posts \n",
    "\n",
    "json_pattern = os.path.join(INPUT_PATH,'*.json')\n",
    "combined_paths = glob.glob(json_pattern)\n",
    "\n",
    "dfs = []\n",
    "\n",
    "\n",
    "for path in combined_paths:\n",
    "    try:\n",
    "        df = pd.read_json(path)\n",
    "        dfs.append(df)\n",
    "    except ValueError as e:\n",
    "        print(f\"Failed to read {path}: {e}\")\n"
   ]
  },
  {
   "cell_type": "code",
   "execution_count": 52,
   "metadata": {},
   "outputs": [
    {
     "name": "stdout",
     "output_type": "stream",
     "text": [
      "Loaded 1311270 posts from 14 files.\n"
     ]
    }
   ],
   "source": [
    "if dfs:\n",
    "    temp = pd.concat(dfs, ignore_index=True)\n",
    "    print(f\"Loaded {len(temp)} posts from {len(dfs)} files.\")\n",
    "else:\n",
    "    print(\"No data loaded.\")"
   ]
  },
  {
   "attachments": {},
   "cell_type": "markdown",
   "metadata": {},
   "source": [
    "### NOTE: Currently filters for 60+ characters and score >= 0.99 !"
   ]
  },
  {
   "cell_type": "code",
   "execution_count": 53,
   "metadata": {},
   "outputs": [
    {
     "name": "stdout",
     "output_type": "stream",
     "text": [
      "Remaining posts after full filtering: 11467\n"
     ]
    }
   ],
   "source": [
    "# Step 1: Filter for climate-related posts only\n",
    "climate_df = temp[temp[\"label\"] == \"yes\"].copy()\n",
    "\n",
    "# Step 2: Light preprocessing\n",
    "climate_df[\"clean_text\"] = climate_df[\"text\"].astype(str).apply(preprocess_text)\n",
    "\n",
    "# Step 3: Filter on character length and score\n",
    "climate_df = climate_df[\n",
    "    \n",
    "    (climate_df[\"clean_text\"].str.len() >= 60) &\n",
    "    (climate_df[\"score\"] >= 0.99)\n",
    "].copy()\n",
    "\n",
    "print(f\"Remaining posts after full filtering: {len(climate_df)}\")"
   ]
  },
  {
   "cell_type": "code",
   "execution_count": 54,
   "metadata": {},
   "outputs": [
    {
     "name": "stdout",
     "output_type": "stream",
     "text": [
      "Filtered dataset saved to: ../../data/filtered/above60chars_above99score.json\n"
     ]
    }
   ],
   "source": [
    "# Save filtered climate_df\n",
    "\n",
    "output_path = \"../../data/filtered/above60chars_above99score.json\"\n",
    "climate_df.to_json(output_path)\n",
    "\n",
    "print(f\"Filtered dataset saved to: {output_path}\")"
   ]
  },
  {
   "cell_type": "code",
   "execution_count": 55,
   "metadata": {},
   "outputs": [
    {
     "data": {
      "text/plain": [
       "Index(['repo', 'seq', 'text', 'timestamp', 'cid', 'uri', 'label', 'score',\n",
       "       'clean_text'],\n",
       "      dtype='object')"
      ]
     },
     "execution_count": 55,
     "metadata": {},
     "output_type": "execute_result"
    }
   ],
   "source": [
    "climate_df.columns"
   ]
  },
  {
   "cell_type": "code",
   "execution_count": 56,
   "metadata": {},
   "outputs": [
    {
     "data": {
      "text/html": [
       "<div>\n",
       "<style scoped>\n",
       "    .dataframe tbody tr th:only-of-type {\n",
       "        vertical-align: middle;\n",
       "    }\n",
       "\n",
       "    .dataframe tbody tr th {\n",
       "        vertical-align: top;\n",
       "    }\n",
       "\n",
       "    .dataframe thead th {\n",
       "        text-align: right;\n",
       "    }\n",
       "</style>\n",
       "<table border=\"1\" class=\"dataframe\">\n",
       "  <thead>\n",
       "    <tr style=\"text-align: right;\">\n",
       "      <th></th>\n",
       "      <th>repo</th>\n",
       "      <th>seq</th>\n",
       "      <th>text</th>\n",
       "      <th>timestamp</th>\n",
       "      <th>cid</th>\n",
       "      <th>uri</th>\n",
       "      <th>label</th>\n",
       "      <th>score</th>\n",
       "      <th>clean_text</th>\n",
       "    </tr>\n",
       "  </thead>\n",
       "  <tbody>\n",
       "    <tr>\n",
       "      <th>25</th>\n",
       "      <td>did:plc:uli2rqyfqasvuawksu2z5jkc</td>\n",
       "      <td>7778280581</td>\n",
       "      <td>Trump's executive order trying to block state ...</td>\n",
       "      <td>2025-04-09 21:10:45.855</td>\n",
       "      <td>bafyreihbjn7mnkbiytl4wc2jjhukux7xfncg772auwhhu...</td>\n",
       "      <td>at://did:plc:uli2rqyfqasvuawksu2z5jkc/app.bsky...</td>\n",
       "      <td>yes</td>\n",
       "      <td>0.997684</td>\n",
       "      <td>trumps executive order trying to block state c...</td>\n",
       "    </tr>\n",
       "    <tr>\n",
       "      <th>204</th>\n",
       "      <td>did:plc:4zh2idecxr5zudhn3oniodhw</td>\n",
       "      <td>7778286641</td>\n",
       "      <td>Spain and Canada signed agreements on renewabl...</td>\n",
       "      <td>2025-04-09 21:10:53.664</td>\n",
       "      <td>bafyreibvwoj6qzbffnpz4rkgxena26ejvpfqoznkbed7n...</td>\n",
       "      <td>at://did:plc:4zh2idecxr5zudhn3oniodhw/app.bsky...</td>\n",
       "      <td>yes</td>\n",
       "      <td>0.993054</td>\n",
       "      <td>spain and canada signed agreements on renewabl...</td>\n",
       "    </tr>\n",
       "    <tr>\n",
       "      <th>411</th>\n",
       "      <td>did:plc:m6ntt433rso3lp7dxaja3mue</td>\n",
       "      <td>7778293323</td>\n",
       "      <td>When did you bitch about what Republicans were...</td>\n",
       "      <td>2025-04-09 21:11:03.083</td>\n",
       "      <td>bafyreic4vipeqxz6mlm36qa7uw3qqjbxwo3qtvucl2fek...</td>\n",
       "      <td>at://did:plc:m6ntt433rso3lp7dxaja3mue/app.bsky...</td>\n",
       "      <td>yes</td>\n",
       "      <td>0.996543</td>\n",
       "      <td>when did you bitch about what republicans were...</td>\n",
       "    </tr>\n",
       "    <tr>\n",
       "      <th>441</th>\n",
       "      <td>did:plc:cm4nhw2xk43bczonk7mbfvrb</td>\n",
       "      <td>7778294643</td>\n",
       "      <td>Hydrogen, as you know, is useful for decarboni...</td>\n",
       "      <td>2025-04-09 21:11:05.110</td>\n",
       "      <td>bafyreidsl6kwy2dx6rtvqkhjyafcffv6cwdud7aefrubf...</td>\n",
       "      <td>at://did:plc:cm4nhw2xk43bczonk7mbfvrb/app.bsky...</td>\n",
       "      <td>yes</td>\n",
       "      <td>0.997304</td>\n",
       "      <td>hydrogen as you know is useful for decarbonisi...</td>\n",
       "    </tr>\n",
       "    <tr>\n",
       "      <th>448</th>\n",
       "      <td>did:plc:ci5fsjcdjgoct5k3yllky4ud</td>\n",
       "      <td>7778294887</td>\n",
       "      <td>Either we end the Fossil Fuel Era or the Fossi...</td>\n",
       "      <td>2025-04-09 21:11:05.321</td>\n",
       "      <td>bafyreifegyoen4hku664cni3qqh3v6xbnoptueyb76dqm...</td>\n",
       "      <td>at://did:plc:ci5fsjcdjgoct5k3yllky4ud/app.bsky...</td>\n",
       "      <td>yes</td>\n",
       "      <td>0.995790</td>\n",
       "      <td>either we end the fossil fuel era or the fossi...</td>\n",
       "    </tr>\n",
       "  </tbody>\n",
       "</table>\n",
       "</div>"
      ],
      "text/plain": [
       "                                 repo         seq  \\\n",
       "25   did:plc:uli2rqyfqasvuawksu2z5jkc  7778280581   \n",
       "204  did:plc:4zh2idecxr5zudhn3oniodhw  7778286641   \n",
       "411  did:plc:m6ntt433rso3lp7dxaja3mue  7778293323   \n",
       "441  did:plc:cm4nhw2xk43bczonk7mbfvrb  7778294643   \n",
       "448  did:plc:ci5fsjcdjgoct5k3yllky4ud  7778294887   \n",
       "\n",
       "                                                  text  \\\n",
       "25   Trump's executive order trying to block state ...   \n",
       "204  Spain and Canada signed agreements on renewabl...   \n",
       "411  When did you bitch about what Republicans were...   \n",
       "441  Hydrogen, as you know, is useful for decarboni...   \n",
       "448  Either we end the Fossil Fuel Era or the Fossi...   \n",
       "\n",
       "                  timestamp  \\\n",
       "25  2025-04-09 21:10:45.855   \n",
       "204 2025-04-09 21:10:53.664   \n",
       "411 2025-04-09 21:11:03.083   \n",
       "441 2025-04-09 21:11:05.110   \n",
       "448 2025-04-09 21:11:05.321   \n",
       "\n",
       "                                                   cid  \\\n",
       "25   bafyreihbjn7mnkbiytl4wc2jjhukux7xfncg772auwhhu...   \n",
       "204  bafyreibvwoj6qzbffnpz4rkgxena26ejvpfqoznkbed7n...   \n",
       "411  bafyreic4vipeqxz6mlm36qa7uw3qqjbxwo3qtvucl2fek...   \n",
       "441  bafyreidsl6kwy2dx6rtvqkhjyafcffv6cwdud7aefrubf...   \n",
       "448  bafyreifegyoen4hku664cni3qqh3v6xbnoptueyb76dqm...   \n",
       "\n",
       "                                                   uri label     score  \\\n",
       "25   at://did:plc:uli2rqyfqasvuawksu2z5jkc/app.bsky...   yes  0.997684   \n",
       "204  at://did:plc:4zh2idecxr5zudhn3oniodhw/app.bsky...   yes  0.993054   \n",
       "411  at://did:plc:m6ntt433rso3lp7dxaja3mue/app.bsky...   yes  0.996543   \n",
       "441  at://did:plc:cm4nhw2xk43bczonk7mbfvrb/app.bsky...   yes  0.997304   \n",
       "448  at://did:plc:ci5fsjcdjgoct5k3yllky4ud/app.bsky...   yes  0.995790   \n",
       "\n",
       "                                            clean_text  \n",
       "25   trumps executive order trying to block state c...  \n",
       "204  spain and canada signed agreements on renewabl...  \n",
       "411  when did you bitch about what republicans were...  \n",
       "441  hydrogen as you know is useful for decarbonisi...  \n",
       "448  either we end the fossil fuel era or the fossi...  "
      ]
     },
     "execution_count": 56,
     "metadata": {},
     "output_type": "execute_result"
    }
   ],
   "source": [
    "climate_df.head()"
   ]
  },
  {
   "attachments": {},
   "cell_type": "markdown",
   "metadata": {},
   "source": [
    "## Step 2: Embedding Generation"
   ]
  },
  {
   "cell_type": "markdown",
   "metadata": {},
   "source": []
  }
 ],
 "metadata": {
  "kernelspec": {
   "display_name": "Python 3",
   "language": "python",
   "name": "python3"
  },
  "language_info": {
   "codemirror_mode": {
    "name": "ipython",
    "version": 3
   },
   "file_extension": ".py",
   "mimetype": "text/x-python",
   "name": "python",
   "nbconvert_exporter": "python",
   "pygments_lexer": "ipython3",
   "version": "3.9.6"
  },
  "orig_nbformat": 4,
  "vscode": {
   "interpreter": {
    "hash": "31f2aee4e71d21fbe5cf8b01ff0e069b9275f58929596ceb00d14d90e3e16cd6"
   }
  }
 },
 "nbformat": 4,
 "nbformat_minor": 2
}
