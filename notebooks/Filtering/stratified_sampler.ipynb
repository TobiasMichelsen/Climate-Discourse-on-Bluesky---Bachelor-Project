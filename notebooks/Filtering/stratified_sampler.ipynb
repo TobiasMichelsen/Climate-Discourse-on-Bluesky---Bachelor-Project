{
 "cells": [
  {
   "attachments": {},
   "cell_type": "markdown",
   "metadata": {},
   "source": [
    "### Script to stratify sampling of filtered data to be used for Manual Labeling\n",
    "### Goal: Evaluate the classifier's performance"
   ]
  },
  {
   "cell_type": "code",
   "execution_count": 1,
   "metadata": {},
   "outputs": [],
   "source": [
    "import pandas as pd\n",
    "import os\n",
    "import json\n",
    "from datetime import datetime"
   ]
  },
  {
   "cell_type": "code",
   "execution_count": null,
   "metadata": {},
   "outputs": [],
   "source": []
  },
  {
   "cell_type": "code",
   "execution_count": 2,
   "metadata": {},
   "outputs": [],
   "source": [
    "# Parameters\n",
    "\n",
    "\n",
    "\n",
    "INPUT_JSON = [\n",
    "    \"/Users/tobiasmichelsen/Bachelor_Project/DS_BachelorProject_PH/data/climate_classified/climate_classified_posts_2.json\",\n",
    "\"/Users/tobiasmichelsen/Bachelor_Project/DS_BachelorProject_PH/data/climate_classified/climate_classified_posts_3.json\",\n",
    "\"/Users/tobiasmichelsen/Bachelor_Project/DS_BachelorProject_PH/data/climate_classified/climate_classified_posts_8.json\",\n",
    "\"/Users/tobiasmichelsen/Bachelor_Project/DS_BachelorProject_PH/data/climate_classified/climate_classified_posts_20.json\",\n",
    "\"/Users/tobiasmichelsen/Bachelor_Project/DS_BachelorProject_PH/data/climate_classified/climate_classified_posts_21.json\",\n",
    "\"/Users/tobiasmichelsen/Bachelor_Project/DS_BachelorProject_PH/data/climate_classified/climate_classified_posts_40.json\",\n",
    "\"/Users/tobiasmichelsen/Bachelor_Project/DS_BachelorProject_PH/data/climate_classified/climate_classified_posts_46.json\",\n",
    "\"/Users/tobiasmichelsen/Bachelor_Project/DS_BachelorProject_PH/data/climate_classified/climate_classified_posts_60.json\",\n",
    "\"/Users/tobiasmichelsen/Bachelor_Project/DS_BachelorProject_PH/data/climate_classified/climate_classified_posts_67.json\",\n",
    "\"/Users/tobiasmichelsen/Bachelor_Project/DS_BachelorProject_PH/data/climate_classified/climate_classified_posts_77.json\",\n",
    "\"/Users/tobiasmichelsen/Bachelor_Project/DS_BachelorProject_PH/data/climate_classified/climate_classified_posts_94.json\",\n",
    "\"/Users/tobiasmichelsen/Bachelor_Project/DS_BachelorProject_PH/data/climate_classified/climate_classified_posts_113.json\",\n",
    "\"/Users/tobiasmichelsen/Bachelor_Project/DS_BachelorProject_PH/data/climate_classified/climate_classified_posts_129.json\",\n",
    "]\n",
    "\n",
    "Iteration_2_PATH = \"/Users/tobiasmichelsen/Bachelor_Project/DS_BachelorProject_PH/data/processed/annotated/Labeled_Posts_23_04\"\n",
    "OUTPUT_DIR = f\"/Users/tobiasmichelsen/Bachelor_Project/DS_BachelorProject_PH/data/processed/annotated{Iteration_2_PATH}\"\n",
    "os.makedirs(OUTPUT_DIR, exist_ok=True)\n",
    "\n",
    "\n",
    "\n",
    "SUBSETS = {\n",
    "    \"fullsample\": {\"filter\": None, \"sample_size\": 200},\n",
    "    \"score95\": {\"filter\": lambda df: df[df[\"score\"] >= 0.95], \"sample_size\": 100},\n",
    "    \"score99\": {\"filter\": lambda df: df[df[\"score\"] >= 0.99], \"sample_size\": 100},\n",
    "}"
   ]
  },
  {
   "cell_type": "code",
   "execution_count": 3,
   "metadata": {},
   "outputs": [],
   "source": [
    "all_posts = []\n",
    "for file in INPUT_JSON:\n",
    "    with open(file, \"r\", encoding=\"utf-8\") as f:\n",
    "        all_posts.extend(json.load(f))\n",
    "\n",
    "df = pd.DataFrame(all_posts)\n"
   ]
  },
  {
   "cell_type": "code",
   "execution_count": null,
   "metadata": {},
   "outputs": [],
   "source": []
  },
  {
   "cell_type": "code",
   "execution_count": 4,
   "metadata": {},
   "outputs": [],
   "source": [
    "def length_bucket(text):\n",
    "    l = len(text)\n",
    "    if l < 100:\n",
    "        return \"short\"\n",
    "    elif l < 300:\n",
    "        return \"medium\"\n",
    "    else:\n",
    "        return \"long\"\n",
    "\n",
    "def extract_hour(ts):\n",
    "    try:\n",
    "        return datetime.fromisoformat(ts.replace(\"Z\", \"+00:00\")).hour\n",
    "    except:\n",
    "        return None"
   ]
  },
  {
   "cell_type": "code",
   "execution_count": 5,
   "metadata": {},
   "outputs": [],
   "source": [
    "def stratified_sample(df, sample_size):\n",
    "    df = df.copy()  # Avoid chained assignment warnings\n",
    "\n",
    "    df[\"hour\"] = df[\"timestamp\"].apply(extract_hour)\n",
    "    df[\"length_bucket\"] = df[\"text\"].apply(length_bucket)\n",
    "    df = df.dropna(subset=[\"hour\", \"length_bucket\"])\n",
    "    df[\"hour\"] = df[\"hour\"].astype(int)\n",
    "\n",
    "    strata = df.groupby([\"hour\", \"length_bucket\"])\n",
    "    proportions = strata.size() / len(df)\n",
    "    samples_per_stratum = (proportions * sample_size).round().astype(int)\n",
    "\n",
    "    sampled_rows = []\n",
    "    for (key, group), (_, n) in zip(strata, samples_per_stratum.items()):\n",
    "        n_safe = min(n, len(group))  # never try to oversample a small group\n",
    "        if n_safe > 0:\n",
    "            sampled_rows.append(group.sample(n=n_safe, random_state=42))\n",
    "\n",
    "    df_sampled = pd.concat(sampled_rows)\n",
    "\n",
    "\n",
    "    if len(df_sampled) > sample_size:\n",
    "        df_sampled = df_sampled.sample(n=sample_size, random_state=43) #iteration 1 uses random_state 42, iteration 2 uses random_state 43\n",
    "\n",
    "\n",
    "    if len(df_sampled) < sample_size:\n",
    "        print(f\"Only got {len(df_sampled)} rows after stratified sampling. Sampling remaining randomly...\")\n",
    "        remaining = sample_size - len(df_sampled)\n",
    "        rest = df.drop(df_sampled.index, errors=\"ignore\")\n",
    "        df_sampled = pd.concat([\n",
    "            df_sampled,\n",
    "            rest.sample(n=min(remaining, len(rest)), random_state=42)\n",
    "        ])\n",
    "\n",
    "    return df_sampled.sample(frac=1, random_state=42).reset_index(drop=True)\n"
   ]
  },
  {
   "cell_type": "code",
   "execution_count": 6,
   "metadata": {},
   "outputs": [],
   "source": [
    "def split_and_save(df, name):\n",
    "    df[\"annotation\"] = \"\"\n",
    "    half = len(df) // 2\n",
    "    df_tobias = df.iloc[:half].reset_index(drop=True)\n",
    "    df_abel = df.iloc[half:].reset_index(drop=True)\n",
    "\n",
    "    annotation_fields = [\"repo\", \"seq\", \"text\", \"timestamp\", \"cid\", \"uri\", \"annotation\"]\n",
    "    full_fields = annotation_fields + [\"label\", \"score\"]\n",
    "\n",
    "    # Save anonymized sets\n",
    "    df_tobias[annotation_fields].to_json(os.path.join(OUTPUT_DIR, f\"manual_labels_{name}_tobias.json\"),orient=\"records\", indent=2, force_ascii=False)\n",
    "    df_abel[annotation_fields].to_json(os.path.join(OUTPUT_DIR, f\"manual_labels_{name}_abel.json\"),orient=\"records\", indent=2, force_ascii=False)\n",
    "\n",
    "    # Save full version with label + score\n",
    "    df[full_fields].to_json(os.path.join(OUTPUT_DIR, f\"manual_labels_{name}_full.json\"),orient=\"records\", indent=2, force_ascii=False)\n",
    "\n",
    "    print(f\" Saved 3 files for subset '{name}': {len(df)} total posts\")"
   ]
  },
  {
   "cell_type": "code",
   "execution_count": 7,
   "metadata": {},
   "outputs": [],
   "source": [
    "all_posts = []\n",
    "for file in INPUT_JSON:\n",
    "    with open(file, \"r\", encoding=\"utf-8\") as f:\n",
    "        all_posts.extend(json.load(f))\n",
    "\n",
    "df = pd.DataFrame(all_posts)\n"
   ]
  },
  {
   "cell_type": "code",
   "execution_count": 8,
   "metadata": {},
   "outputs": [
    {
     "name": "stdout",
     "output_type": "stream",
     "text": [
      "Processing subset: fullsample\n",
      "📊 Filtered posts available: 1300000\n",
      " Saved 3 files for subset 'fullsample': 200 total posts\n",
      "Processing subset: score95\n",
      "📊 Filtered posts available: 743520\n",
      "Only got 46 rows after stratified sampling. Sampling remaining randomly...\n",
      "Only got 47 rows after stratified sampling. Sampling remaining randomly...\n",
      " Saved 3 files for subset 'score95': 100 total posts\n",
      "Processing subset: score99\n",
      "📊 Filtered posts available: 104237\n",
      "Only got 47 rows after stratified sampling. Sampling remaining randomly...\n",
      "Only got 47 rows after stratified sampling. Sampling remaining randomly...\n",
      " Saved 3 files for subset 'score99': 100 total posts\n"
     ]
    }
   ],
   "source": [
    "for subset_name, config in SUBSETS.items():\n",
    "    try:\n",
    "        print(f\"Processing subset: {subset_name}\")\n",
    "\n",
    "        df_filtered = config[\"filter\"](df) if config[\"filter\"] else df\n",
    "\n",
    "        print(f\"📊 Filtered posts available: {len(df_filtered)}\")\n",
    "\n",
    "        sample_size = config[\"sample_size\"] // 2\n",
    "\n",
    "        df_yes = df_filtered[df_filtered[\"label\"] == \"yes\"]\n",
    "        df_no = df_filtered[df_filtered[\"label\"] == \"no\"]\n",
    "\n",
    "        if len(df_yes) < sample_size or len(df_no) < sample_size:\n",
    "            print(f\"⚠️ Not enough data for a 50/50 label split in '{subset_name}' — skipping\")\n",
    "            continue\n",
    "\n",
    "        df_yes_sampled = stratified_sample(df_yes, sample_size)\n",
    "        df_no_sampled = stratified_sample(df_no, sample_size)\n",
    "\n",
    "        df_sampled = pd.concat([df_yes_sampled, df_no_sampled]).sample(frac=1, random_state=42).reset_index(drop=True)\n",
    "\n",
    "        split_and_save(df_sampled, subset_name)\n",
    "\n",
    "    except Exception as e:\n",
    "        print(f\"❌ Failed to process '{subset_name}': {e}\")\n",
    "        continue\n"
   ]
  },
  {
   "cell_type": "code",
   "execution_count": 9,
   "metadata": {},
   "outputs": [
    {
     "name": "stdout",
     "output_type": "stream",
     "text": [
      "Total posts loaded: 1300000\n",
      "Posts with score ≥ 0.99: 104237\n"
     ]
    }
   ],
   "source": [
    "print(f\"Total posts loaded: {len(df)}\")\n",
    "print(f\"Posts with score ≥ 0.99: {len(df[df['score'] >= 0.99])}\")"
   ]
  },
  {
   "cell_type": "code",
   "execution_count": 12,
   "metadata": {},
   "outputs": [
    {
     "name": "stdout",
     "output_type": "stream",
     "text": [
      "\n",
      " manual_labels_fullsample_full.json\n",
      "label\n",
      "yes    100\n",
      "no     100\n",
      "Name: count, dtype: int64\n",
      "Total: 200 rows\n",
      "\n",
      " manual_labels_score95_full.json\n",
      "label\n",
      "no     50\n",
      "yes    50\n",
      "Name: count, dtype: int64\n",
      "Total: 100 rows\n",
      "\n",
      " manual_labels_score99_full.json\n",
      "label\n",
      "no     50\n",
      "yes    50\n",
      "Name: count, dtype: int64\n",
      "Total: 100 rows\n"
     ]
    }
   ],
   "source": [
    "# check distribution\n",
    "\n",
    "import pandas as pd\n",
    "import os\n",
    "\n",
    "# Set your annotated output folder\n",
    "OUTPUT_DIR = \"/Users/tobiasmichelsen/Bachelor_Project/DS_BachelorProject_PH/data/processed/annotated/Labeled_Posts_23_04\"\n",
    "# List of full files to check\n",
    "full_files = [\n",
    "\n",
    "    \"manual_labels_fullsample_full.json\",\n",
    "    \"manual_labels_score95_full.json\",\n",
    "    \"manual_labels_score99_full.json\"\n",
    "]\n",
    "\n",
    "# Check and print label distributions\n",
    "for filename in full_files:\n",
    "    filepath = os.path.join(OUTPUT_DIR, filename)\n",
    "    df = pd.read_json(filepath)\n",
    "    label_counts = df[\"label\"].value_counts()\n",
    "\n",
    "    print(f\"\\n {filename}\")\n",
    "    print(label_counts)\n",
    "    print(f\"Total: {label_counts.sum()} rows\")\n"
   ]
  },
  {
   "cell_type": "code",
   "execution_count": null,
   "metadata": {},
   "outputs": [],
   "source": []
  },
  {
   "cell_type": "code",
   "execution_count": null,
   "metadata": {},
   "outputs": [],
   "source": []
  }
 ],
 "metadata": {
  "kernelspec": {
   "display_name": "Python 3",
   "language": "python",
   "name": "python3"
  },
  "language_info": {
   "codemirror_mode": {
    "name": "ipython",
    "version": 3
   },
   "file_extension": ".py",
   "mimetype": "text/x-python",
   "name": "python",
   "nbconvert_exporter": "python",
   "pygments_lexer": "ipython3",
   "version": "3.9.6"
  },
  "orig_nbformat": 4,
  "vscode": {
   "interpreter": {
    "hash": "31f2aee4e71d21fbe5cf8b01ff0e069b9275f58929596ceb00d14d90e3e16cd6"
   }
  }
 },
 "nbformat": 4,
 "nbformat_minor": 2
}
