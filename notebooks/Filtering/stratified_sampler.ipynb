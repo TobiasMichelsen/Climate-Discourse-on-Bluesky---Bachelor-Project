{
 "cells": [
  {
   "attachments": {},
   "cell_type": "markdown",
   "metadata": {},
   "source": [
    "### Script to stratify sampling of filtered data to be used for Manual Labeling\n",
    "### Goal: Evaluate the classifier's performance"
   ]
  },
  {
   "cell_type": "code",
   "execution_count": 31,
   "metadata": {},
   "outputs": [],
   "source": [
    "import pandas as pd\n",
    "import os\n",
    "import json\n",
    "from datetime import datetime"
   ]
  },
  {
   "cell_type": "code",
   "execution_count": null,
   "metadata": {},
   "outputs": [],
   "source": []
  },
  {
   "cell_type": "code",
   "execution_count": 66,
   "metadata": {},
   "outputs": [],
   "source": [
    "# Parameters\n",
    "\n",
    "\n",
    "\n",
    "INPUT_JSON = [\n",
    "    \"/Users/tobiasmichelsen/Bachelor_Project/DS_BachelorProject_PH/data/climate_classified/climate_classified_posts_2.json\",\n",
    "    \"/Users/tobiasmichelsen/Bachelor_Project/DS_BachelorProject_PH/data/climate_classified/climate_classified_posts_3.json\",\n",
    "    \"/Users/tobiasmichelsen/Bachelor_Project/DS_BachelorProject_PH/data/climate_classified/climate_classified_posts_67.json\",\n",
    "    \"/Users/tobiasmichelsen/Bachelor_Project/DS_BachelorProject_PH/data/climate_classified/climate_classified_posts_129.json\",\n",
    "]\n",
    "\n",
    "\n",
    "OUTPUT_DIR = \"../data/processed/annotated\"\n",
    "\n",
    "SAMPLE_SIZE = 500\n",
    "SAMPLE_PER_LABEL = 250 "
   ]
  },
  {
   "cell_type": "code",
   "execution_count": 60,
   "metadata": {},
   "outputs": [],
   "source": [
    "all_posts = []\n",
    "for file in INPUT_JSON:\n",
    "    with open(file, \"r\", encoding=\"utf-8\") as f:\n",
    "        all_posts.extend(json.load(f))\n",
    "\n",
    "df = pd.DataFrame(all_posts)\n"
   ]
  },
  {
   "cell_type": "code",
   "execution_count": null,
   "metadata": {},
   "outputs": [],
   "source": []
  },
  {
   "cell_type": "code",
   "execution_count": 61,
   "metadata": {},
   "outputs": [],
   "source": [
    "def length_bucket(text):\n",
    "    l = len(text)\n",
    "    if l < 100:\n",
    "        return \"short\"\n",
    "    elif l < 300:\n",
    "        return \"medium\"\n",
    "    else:\n",
    "        return \"long\"\n",
    "\n",
    "def extract_hour(ts):\n",
    "    try:\n",
    "        return datetime.fromisoformat(ts.replace(\"Z\", \"+00:00\")).hour\n",
    "    except:\n",
    "        return None"
   ]
  },
  {
   "cell_type": "code",
   "execution_count": 62,
   "metadata": {},
   "outputs": [],
   "source": [
    "df[\"text_length\"] = df[\"text\"].apply(len)\n",
    "df[\"length_bucket\"] = df[\"text\"].apply(length_bucket)\n",
    "df[\"hour\"] = df[\"timestamp\"].apply(extract_hour)\n",
    "df = df.dropna(subset=[\"length_bucket\", \"hour\"])\n",
    "df[\"hour\"] = df[\"hour\"].astype(int)\n"
   ]
  },
  {
   "cell_type": "code",
   "execution_count": null,
   "metadata": {},
   "outputs": [],
   "source": []
  },
  {
   "cell_type": "code",
   "execution_count": 39,
   "metadata": {},
   "outputs": [],
   "source": [
    "sampled_rows = []\n",
    "for (group_key, group_df), n_samples in zip(strata, samples_per_stratum.items()):\n",
    "    n = min(n_samples[1], len(group_df))\n",
    "    if n > 0:\n",
    "        sampled_rows.append(group_df.sample(n=n, random_state=42))\n",
    "\n",
    "sample_df = pd.concat(sampled_rows, ignore_index=True)\n",
    "sample_df = sample_df.sample(n=SAMPLE_SIZE, random_state=42)"
   ]
  },
  {
   "cell_type": "code",
   "execution_count": 64,
   "metadata": {},
   "outputs": [],
   "source": [
    "def stratified_sample(df_label, n):\n",
    "    strata = df_label.groupby([\"hour\", \"length_bucket\"])\n",
    "    total_count = len(df_label)\n",
    "    stratum_sizes = strata.size()\n",
    "    proportions = stratum_sizes / total_count\n",
    "    samples_per_stratum = (proportions * n).round().astype(int)\n",
    "\n",
    "    sampled_rows = []\n",
    "    for (group_key, group_df), n_samples in zip(strata, samples_per_stratum.items()):\n",
    "        count = min(n_samples[1], len(group_df))\n",
    "        if count > 0:\n",
    "            sampled_rows.append(group_df.sample(n=count, random_state=42))\n",
    "\n",
    "    return pd.concat(sampled_rows, ignore_index=True)"
   ]
  },
  {
   "cell_type": "code",
   "execution_count": 67,
   "metadata": {},
   "outputs": [],
   "source": [
    "yes_df = df[df[\"label\"] == \"yes\"]\n",
    "no_df = df[df[\"label\"] == \"no\"]\n",
    "\n",
    "sampled_yes = stratified_sample(yes_df, SAMPLE_PER_LABEL)\n",
    "sampled_no = stratified_sample(no_df, SAMPLE_PER_LABEL)\n",
    "\n",
    "sample_df = pd.concat([sampled_yes, sampled_no], ignore_index=True)\n",
    "sample_df = sample_df.sample(frac=1, random_state=42).reset_index(drop=True)"
   ]
  },
  {
   "cell_type": "code",
   "execution_count": 68,
   "metadata": {},
   "outputs": [],
   "source": [
    "#Write our label / annotation in extra field (Could be changed if we get biased by score but shouldnt matter)\n",
    "sample_df[\"annotation\"] = \"\""
   ]
  },
  {
   "cell_type": "code",
   "execution_count": 70,
   "metadata": {},
   "outputs": [],
   "source": [
    "half = len(sample_df) // 2\n",
    "\n",
    "df_tobias = sample_df.iloc[:half].reset_index(drop=True)\n",
    "df_abel = sample_df.iloc[half:].reset_index(drop=True)"
   ]
  },
  {
   "cell_type": "code",
   "execution_count": 71,
   "metadata": {},
   "outputs": [],
   "source": [
    "#Interested metadata for annotated file:\n",
    "annotation_fields = [\"repo\", \"seq\", \"text\", \"timestamp\", \"cid\", \"uri\", \"annotation\"]\n",
    "#Complete file\n",
    "full_fields = annotation_fields + [\"label\", \"score\"]"
   ]
  },
  {
   "cell_type": "code",
   "execution_count": 36,
   "metadata": {},
   "outputs": [
    {
     "ename": "FileNotFoundError",
     "evalue": "[Errno 2] No such file or directory: '../data/processed/annotated/manual_labels_climate_Tobias.json'",
     "output_type": "error",
     "traceback": [
      "\u001b[0;31m---------------------------------------------------------------------------\u001b[0m",
      "\u001b[0;31mFileNotFoundError\u001b[0m                         Traceback (most recent call last)",
      "Cell \u001b[0;32mIn[36], line 1\u001b[0m\n\u001b[0;32m----> 1\u001b[0m \u001b[39mwith\u001b[39;00m \u001b[39mopen\u001b[39;49m(os\u001b[39m.\u001b[39;49mpath\u001b[39m.\u001b[39;49mjoin(OUTPUT_PATH, \u001b[39m\"\u001b[39;49m\u001b[39mmanual_labels_climate_Tobias.json\u001b[39;49m\u001b[39m\"\u001b[39;49m), \u001b[39m\"\u001b[39;49m\u001b[39mw\u001b[39;49m\u001b[39m\"\u001b[39;49m, encoding\u001b[39m=\u001b[39;49m\u001b[39m\"\u001b[39;49m\u001b[39mutf-8\u001b[39;49m\u001b[39m\"\u001b[39;49m) \u001b[39mas\u001b[39;00m f:\n\u001b[1;32m      2\u001b[0m     json\u001b[39m.\u001b[39mdump(tobias_data, f, indent\u001b[39m=\u001b[39m\u001b[39m2\u001b[39m, ensure_ascii\u001b[39m=\u001b[39m\u001b[39mFalse\u001b[39;00m)\n\u001b[1;32m      4\u001b[0m \u001b[39mwith\u001b[39;00m \u001b[39mopen\u001b[39m(os\u001b[39m.\u001b[39mpath\u001b[39m.\u001b[39mjoin(OUTPUT_PATH, \u001b[39m\"\u001b[39m\u001b[39mmanual_labels_climate_Abel.json\u001b[39m\u001b[39m\"\u001b[39m), \u001b[39m\"\u001b[39m\u001b[39mw\u001b[39m\u001b[39m\"\u001b[39m, encoding\u001b[39m=\u001b[39m\u001b[39m\"\u001b[39m\u001b[39mutf-8\u001b[39m\u001b[39m\"\u001b[39m) \u001b[39mas\u001b[39;00m f:\n",
      "File \u001b[0;32m~/Library/Python/3.9/lib/python/site-packages/IPython/core/interactiveshell.py:308\u001b[0m, in \u001b[0;36m_modified_open\u001b[0;34m(file, *args, **kwargs)\u001b[0m\n\u001b[1;32m    301\u001b[0m \u001b[39mif\u001b[39;00m file \u001b[39min\u001b[39;00m {\u001b[39m0\u001b[39m, \u001b[39m1\u001b[39m, \u001b[39m2\u001b[39m}:\n\u001b[1;32m    302\u001b[0m     \u001b[39mraise\u001b[39;00m \u001b[39mValueError\u001b[39;00m(\n\u001b[1;32m    303\u001b[0m         \u001b[39mf\u001b[39m\u001b[39m\"\u001b[39m\u001b[39mIPython won\u001b[39m\u001b[39m'\u001b[39m\u001b[39mt let you open fd=\u001b[39m\u001b[39m{\u001b[39;00mfile\u001b[39m}\u001b[39;00m\u001b[39m by default \u001b[39m\u001b[39m\"\u001b[39m\n\u001b[1;32m    304\u001b[0m         \u001b[39m\"\u001b[39m\u001b[39mas it is likely to crash IPython. If you know what you are doing, \u001b[39m\u001b[39m\"\u001b[39m\n\u001b[1;32m    305\u001b[0m         \u001b[39m\"\u001b[39m\u001b[39myou can use builtins\u001b[39m\u001b[39m'\u001b[39m\u001b[39m open.\u001b[39m\u001b[39m\"\u001b[39m\n\u001b[1;32m    306\u001b[0m     )\n\u001b[0;32m--> 308\u001b[0m \u001b[39mreturn\u001b[39;00m io_open(file, \u001b[39m*\u001b[39;49margs, \u001b[39m*\u001b[39;49m\u001b[39m*\u001b[39;49mkwargs)\n",
      "\u001b[0;31mFileNotFoundError\u001b[0m: [Errno 2] No such file or directory: '../data/processed/annotated/manual_labels_climate_Tobias.json'"
     ]
    }
   ],
   "source": [
    "with open(os.path.join(OUTPUT_DIR, \"manual_labels_climate_tobias.json\"), \"w\", encoding=\"utf-8\") as f:\n",
    "    json.dump(df_tobias[annotation_fields].to_dict(orient=\"records\"), f, indent=2, ensure_ascii=False)\n",
    "\n",
    "with open(os.path.join(OUTPUT_DIR, \"manual_labels_climate_friend.json\"), \"w\", encoding=\"utf-8\") as f:\n",
    "    json.dump(df_friend[annotation_fields].to_dict(orient=\"records\"), f, indent=2, ensure_ascii=False)\n",
    "\n",
    "with open(os.path.join(OUTPUT_DIR, \"manual_labels_climate_full.json\"), \"w\", encoding=\"utf-8\") as f:\n",
    "    json.dump(sample_df[full_fields].to_dict(orient=\"records\"), f, indent=2, ensure_ascii=False)"
   ]
  },
  {
   "cell_type": "code",
   "execution_count": null,
   "metadata": {},
   "outputs": [],
   "source": []
  },
  {
   "cell_type": "code",
   "execution_count": null,
   "metadata": {},
   "outputs": [],
   "source": []
  }
 ],
 "metadata": {
  "kernelspec": {
   "display_name": "Python 3",
   "language": "python",
   "name": "python3"
  },
  "language_info": {
   "codemirror_mode": {
    "name": "ipython",
    "version": 3
   },
   "file_extension": ".py",
   "mimetype": "text/x-python",
   "name": "python",
   "nbconvert_exporter": "python",
   "pygments_lexer": "ipython3",
   "version": "3.9.6"
  },
  "orig_nbformat": 4,
  "vscode": {
   "interpreter": {
    "hash": "31f2aee4e71d21fbe5cf8b01ff0e069b9275f58929596ceb00d14d90e3e16cd6"
   }
  }
 },
 "nbformat": 4,
 "nbformat_minor": 2
}
