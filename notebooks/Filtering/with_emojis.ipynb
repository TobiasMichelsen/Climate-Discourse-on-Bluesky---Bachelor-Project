{
 "cells": [
  {
   "attachments": {},
   "cell_type": "markdown",
   "metadata": {},
   "source": [
    "### Filtering Workflow: All Posts --> English Posts --> Keep english symbols and emojis\n"
   ]
  },
  {
   "cell_type": "code",
   "execution_count": 5,
   "metadata": {},
   "outputs": [
    {
     "name": "stdout",
     "output_type": "stream",
     "text": [
      "\u001b[33mWARNING: You are using pip version 21.2.4; however, version 25.0.1 is available.\n",
      "You should consider upgrading via the '/Library/Developer/CommandLineTools/usr/bin/python3 -m pip install --upgrade pip' command.\u001b[0m\n",
      "Note: you may need to restart the kernel to use updated packages.\n"
     ]
    }
   ],
   "source": [
    "pip install emoji -q"
   ]
  },
  {
   "cell_type": "code",
   "execution_count": 6,
   "metadata": {},
   "outputs": [],
   "source": [
    "import json\n",
    "import glob\n",
    "import os\n",
    "from langdetect import detect\n",
    "import codecs\n",
    "import regex as re\n",
    "import emoji"
   ]
  },
  {
   "cell_type": "code",
   "execution_count": 8,
   "metadata": {},
   "outputs": [],
   "source": [
    "backup_folder = \"/Users/tobiasmichelsen/Bachelor_Project/DS_BachelorProject_PH/data/backups_test/posts/\"\n",
    "output_directory = \"/Users/tobiasmichelsen/Bachelor_Project/DS_BachelorProject_PH/data/filtered\"\n",
    "output_file = os.path.join(output_directory, \"en_posts_including_emojis.json\")"
   ]
  },
  {
   "cell_type": "code",
   "execution_count": 9,
   "metadata": {},
   "outputs": [],
   "source": [
    "post_files = glob.glob(os.path.join(backup_folder, \"posts_backup_*.json\"))\n",
    "\n",
    "all_posts = []\n",
    "for file_path in post_files:\n",
    "    with open(file_path, \"r\") as f:\n",
    "        posts = json.load(f)\n",
    "        all_posts.extend(posts)\n",
    "\n",
    "\n",
    "#Glob is used for pattern matching. Combines all posts into one list: all_posts. Note: Change later to several? "
   ]
  },
  {
   "cell_type": "code",
   "execution_count": 15,
   "metadata": {},
   "outputs": [],
   "source": [
    "def clean_case_2(text):\n",
    "    def remove_non_latin_but_keep_emoji(s):\n",
    "        # Normalize line breaks to spaces\n",
    "        s = s.replace('\\n', ' ').replace('\\r', ' ')\n",
    "        # Remove disallowed characters\n",
    "        filtered = ''.join(ch for ch in s if (\n",
    "            ch in emoji.EMOJI_DATA or\n",
    "            re.match(r\"[\\p{Latin}0-9\\s.,!?%°℃'’\\\"-]\", ch)\n",
    "        ))\n",
    "        # Collapse multiple spaces and trim\n",
    "        return re.sub(r'\\s+', ' ', filtered).strip()\n",
    "    \n",
    "    return remove_non_latin_but_keep_emoji(text)"
   ]
  },
  {
   "cell_type": "code",
   "execution_count": 16,
   "metadata": {},
   "outputs": [],
   "source": [
    "english_langs = [\"en\", \"ca\", \"en-US\", \"uk\", \"en-AU\", \"en-GB\", \"en-UK\", \"en-CA\", \"en-us\"]\n",
    "english_posts = []"
   ]
  },
  {
   "cell_type": "code",
   "execution_count": 17,
   "metadata": {},
   "outputs": [],
   "source": [
    "for post in all_posts:\n",
    "    langs = post.get(\"langs\")\n",
    "    text = (post.get(\"text\") or \"\").strip()\n",
    "\n",
    "    if langs and all(lang in english_langs for lang in langs) and text:\n",
    "        post[\"text\"] = clean_case_2(text)\n",
    "        english_posts.append(post)"
   ]
  },
  {
   "cell_type": "code",
   "execution_count": 18,
   "metadata": {},
   "outputs": [],
   "source": [
    "os.makedirs(output_directory, exist_ok=True)"
   ]
  },
  {
   "cell_type": "code",
   "execution_count": 19,
   "metadata": {},
   "outputs": [
    {
     "name": "stdout",
     "output_type": "stream",
     "text": [
      "Saved 137890 English posts with emojis to: /Users/tobiasmichelsen/Bachelor_Project/DS_BachelorProject_PH/data/filtered/en_posts_including_emojis.json\n"
     ]
    }
   ],
   "source": [
    "with open(output_file, \"w\") as f:\n",
    "    json.dump(english_posts, f, indent=2, ensure_ascii=False)\n",
    "\n",
    "print(f\"Saved {len(english_posts)} English posts with emojis to: {output_file}\")"
   ]
  },
  {
   "cell_type": "code",
   "execution_count": null,
   "metadata": {},
   "outputs": [],
   "source": []
  }
 ],
 "metadata": {
  "kernelspec": {
   "display_name": "Python 3",
   "language": "python",
   "name": "python3"
  },
  "language_info": {
   "codemirror_mode": {
    "name": "ipython",
    "version": 3
   },
   "file_extension": ".py",
   "mimetype": "text/x-python",
   "name": "python",
   "nbconvert_exporter": "python",
   "pygments_lexer": "ipython3",
   "version": "3.9.6 (default, Feb  3 2024, 15:58:27) \n[Clang 15.0.0 (clang-1500.3.9.4)]"
  },
  "orig_nbformat": 4,
  "vscode": {
   "interpreter": {
    "hash": "31f2aee4e71d21fbe5cf8b01ff0e069b9275f58929596ceb00d14d90e3e16cd6"
   }
  }
 },
 "nbformat": 4,
 "nbformat_minor": 2
}
