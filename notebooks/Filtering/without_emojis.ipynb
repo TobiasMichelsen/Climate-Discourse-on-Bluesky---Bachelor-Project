{
 "cells": [
  {
   "cell_type": "code",
   "execution_count": 1,
   "metadata": {},
   "outputs": [],
   "source": [
    "import json\n",
    "import glob\n",
    "import os\n",
    "import codecs\n",
    "import regex as re\n",
    "import emoji"
   ]
  },
  {
   "cell_type": "code",
   "execution_count": 2,
   "metadata": {},
   "outputs": [],
   "source": [
    "backup_folder = \"/Users/tobiasmichelsen/Bachelor_Project/DS_BachelorProject_PH/data/backups_test/posts/\"\n",
    "output_directory = \"/Users/tobiasmichelsen/Bachelor_Project/DS_BachelorProject_PH/data/filtered\"\n",
    "output_file = os.path.join(output_directory, \"en_posts_excluding_emojis.json\")"
   ]
  },
  {
   "cell_type": "code",
   "execution_count": 3,
   "metadata": {},
   "outputs": [],
   "source": [
    "post_files = glob.glob(os.path.join(backup_folder, \"posts_backup_*.json\"))\n",
    "\n",
    "all_posts = []\n",
    "for file_path in post_files:\n",
    "    with open(file_path, \"r\") as f:\n",
    "        posts = json.load(f)\n",
    "        all_posts.extend(posts)\n",
    "\n",
    "\n",
    "#Glob is used for pattern matching. Combines all posts into one list: all_posts. Note: Change later to several? "
   ]
  },
  {
   "cell_type": "code",
   "execution_count": 4,
   "metadata": {},
   "outputs": [],
   "source": [
    "def clean_case_1(text):\n",
    "    # Normalize line breaks\n",
    "    text = text.replace('\\n', ' ').replace('\\r', ' ')\n",
    "    # Remove any character that’s not:\n",
    "    # Latin letters, numbers, basic punctuation, and symbols like °, ℃, %, etc.\n",
    "    cleaned = re.sub(r\"[^\\p{Latin}0-9\\s.,!?%°℃'’\\\"-]\", '', text)\n",
    "    # Collapse multiple spaces and trim\n",
    "    return re.sub(r'\\s+', ' ', cleaned).strip()\n"
   ]
  },
  {
   "cell_type": "code",
   "execution_count": 5,
   "metadata": {},
   "outputs": [],
   "source": [
    "english_langs = [\"en\", \"ca\", \"en-US\", \"uk\", \"en-AU\", \"en-GB\", \"en-UK\", \"en-CA\", \"en-us\"]\n",
    "english_posts = []"
   ]
  },
  {
   "cell_type": "code",
   "execution_count": 7,
   "metadata": {},
   "outputs": [],
   "source": [
    "for post in all_posts:\n",
    "    langs = post.get(\"langs\")\n",
    "    text = (post.get(\"text\") or \"\").strip()\n",
    "\n",
    "    if langs and all(lang in english_langs for lang in langs):\n",
    "        cleaned_text = clean_case_1(text)\n",
    "        if cleaned_text:\n",
    "            post[\"text\"] = cleaned_text\n",
    "            english_posts.append(post)\n"
   ]
  },
  {
   "cell_type": "code",
   "execution_count": 6,
   "metadata": {},
   "outputs": [],
   "source": [
    "os.makedirs(output_directory, exist_ok=True)"
   ]
  },
  {
   "cell_type": "code",
   "execution_count": 8,
   "metadata": {},
   "outputs": [
    {
     "name": "stdout",
     "output_type": "stream",
     "text": [
      "Saved 134652 emoji-filtered English posts to: /Users/tobiasmichelsen/Bachelor_Project/DS_BachelorProject_PH/data/filtered/en_posts_excluding_emojis.json\n"
     ]
    }
   ],
   "source": [
    "with open(output_file, \"w\", encoding=\"utf-8\") as f:\n",
    "    json.dump(english_posts, f, indent=2, ensure_ascii=False)\n",
    "\n",
    "print(f\"Saved {len(english_posts)} emoji-filtered English posts to: {output_file}\")\n"
   ]
  },
  {
   "cell_type": "code",
   "execution_count": null,
   "metadata": {},
   "outputs": [],
   "source": []
  }
 ],
 "metadata": {
  "kernelspec": {
   "display_name": "Python 3",
   "language": "python",
   "name": "python3"
  },
  "language_info": {
   "codemirror_mode": {
    "name": "ipython",
    "version": 3
   },
   "file_extension": ".py",
   "mimetype": "text/x-python",
   "name": "python",
   "nbconvert_exporter": "python",
   "pygments_lexer": "ipython3",
   "version": "3.9.6 (default, Feb  3 2024, 15:58:27) \n[Clang 15.0.0 (clang-1500.3.9.4)]"
  },
  "orig_nbformat": 4,
  "vscode": {
   "interpreter": {
    "hash": "31f2aee4e71d21fbe5cf8b01ff0e069b9275f58929596ceb00d14d90e3e16cd6"
   }
  }
 },
 "nbformat": 4,
 "nbformat_minor": 2
}
