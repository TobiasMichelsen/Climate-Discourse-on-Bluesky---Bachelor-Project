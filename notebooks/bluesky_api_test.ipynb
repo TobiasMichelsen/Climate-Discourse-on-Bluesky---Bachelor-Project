{
 "cells": [
  {
   "cell_type": "code",
   "execution_count": null,
   "metadata": {},
   "outputs": [],
   "source": [
    "## https://atproto.blue/en/latest/readme.content.html\n",
    "\n"
   ]
  },
  {
   "cell_type": "code",
   "execution_count": 2,
   "metadata": {},
   "outputs": [
    {
     "name": "stdout",
     "output_type": "stream",
     "text": [
      "Defaulting to user installation because normal site-packages is not writeable\n",
      "Requirement already satisfied: atproto in /Users/tobiasmichelsen/Library/Python/3.9/lib/python/site-packages (0.0.58)\n",
      "Requirement already satisfied: libipld<4,>=2.0.0 in /Users/tobiasmichelsen/Library/Python/3.9/lib/python/site-packages (from atproto) (3.0.0)\n",
      "Requirement already satisfied: websockets<14,>=12 in /Users/tobiasmichelsen/Library/Python/3.9/lib/python/site-packages (from atproto) (13.1)\n",
      "Requirement already satisfied: httpx<0.28.0,>=0.25.0 in /Users/tobiasmichelsen/Library/Python/3.9/lib/python/site-packages (from atproto) (0.27.2)\n",
      "Requirement already satisfied: dnspython<3,>=2.4.0 in /Users/tobiasmichelsen/Library/Python/3.9/lib/python/site-packages (from atproto) (2.7.0)\n",
      "Requirement already satisfied: cryptography<44,>=41.0.7 in /Users/tobiasmichelsen/Library/Python/3.9/lib/python/site-packages (from atproto) (43.0.3)\n",
      "Requirement already satisfied: click<9,>=8.1.3 in /Users/tobiasmichelsen/Library/Python/3.9/lib/python/site-packages (from atproto) (8.1.8)\n",
      "Requirement already satisfied: typing-extensions<5,>=4.8.0 in /Users/tobiasmichelsen/Library/Python/3.9/lib/python/site-packages (from atproto) (4.12.2)\n",
      "Requirement already satisfied: pydantic<3,>=2.7 in /Users/tobiasmichelsen/Library/Python/3.9/lib/python/site-packages (from atproto) (2.10.6)\n",
      "Requirement already satisfied: cffi>=1.12 in /Users/tobiasmichelsen/Library/Python/3.9/lib/python/site-packages (from cryptography<44,>=41.0.7->atproto) (1.17.1)\n",
      "Requirement already satisfied: pycparser in /Users/tobiasmichelsen/Library/Python/3.9/lib/python/site-packages (from cffi>=1.12->cryptography<44,>=41.0.7->atproto) (2.22)\n",
      "Requirement already satisfied: httpcore==1.* in /Users/tobiasmichelsen/Library/Python/3.9/lib/python/site-packages (from httpx<0.28.0,>=0.25.0->atproto) (1.0.7)\n",
      "Requirement already satisfied: idna in /Users/tobiasmichelsen/Library/Python/3.9/lib/python/site-packages (from httpx<0.28.0,>=0.25.0->atproto) (3.10)\n",
      "Requirement already satisfied: certifi in /Users/tobiasmichelsen/Library/Python/3.9/lib/python/site-packages (from httpx<0.28.0,>=0.25.0->atproto) (2025.1.31)\n",
      "Requirement already satisfied: sniffio in /Users/tobiasmichelsen/Library/Python/3.9/lib/python/site-packages (from httpx<0.28.0,>=0.25.0->atproto) (1.3.1)\n",
      "Requirement already satisfied: anyio in /Users/tobiasmichelsen/Library/Python/3.9/lib/python/site-packages (from httpx<0.28.0,>=0.25.0->atproto) (4.8.0)\n",
      "Requirement already satisfied: h11<0.15,>=0.13 in /Users/tobiasmichelsen/Library/Python/3.9/lib/python/site-packages (from httpcore==1.*->httpx<0.28.0,>=0.25.0->atproto) (0.14.0)\n",
      "Requirement already satisfied: annotated-types>=0.6.0 in /Users/tobiasmichelsen/Library/Python/3.9/lib/python/site-packages (from pydantic<3,>=2.7->atproto) (0.7.0)\n",
      "Requirement already satisfied: pydantic-core==2.27.2 in /Users/tobiasmichelsen/Library/Python/3.9/lib/python/site-packages (from pydantic<3,>=2.7->atproto) (2.27.2)\n",
      "Requirement already satisfied: exceptiongroup>=1.0.2 in /Users/tobiasmichelsen/Library/Python/3.9/lib/python/site-packages (from anyio->httpx<0.28.0,>=0.25.0->atproto) (1.1.3)\n",
      "\u001b[33mWARNING: You are using pip version 21.2.4; however, version 25.0 is available.\n",
      "You should consider upgrading via the '/Library/Developer/CommandLineTools/usr/bin/python3 -m pip install --upgrade pip' command.\u001b[0m\n",
      "Note: you may need to restart the kernel to use updated packages.\n"
     ]
    }
   ],
   "source": [
    "pip install atproto\n"
   ]
  },
  {
   "cell_type": "code",
   "execution_count": 3,
   "metadata": {},
   "outputs": [
    {
     "name": "stdout",
     "output_type": "stream",
     "text": [
      "Defaulting to user installation because normal site-packages is not writeable\n",
      "Collecting python-dotenv\n",
      "  Using cached python_dotenv-1.0.1-py3-none-any.whl (19 kB)\n",
      "Installing collected packages: python-dotenv\n",
      "\u001b[33m  WARNING: The script dotenv is installed in '/Users/tobiasmichelsen/Library/Python/3.9/bin' which is not on PATH.\n",
      "  Consider adding this directory to PATH or, if you prefer to suppress this warning, use --no-warn-script-location.\u001b[0m\n",
      "Successfully installed python-dotenv-1.0.1\n",
      "\u001b[33mWARNING: You are using pip version 21.2.4; however, version 25.0 is available.\n",
      "You should consider upgrading via the '/Library/Developer/CommandLineTools/usr/bin/python3 -m pip install --upgrade pip' command.\u001b[0m\n",
      "Note: you may need to restart the kernel to use updated packages.\n"
     ]
    }
   ],
   "source": [
    "pip install python-dotenv"
   ]
  },
  {
   "cell_type": "code",
   "execution_count": 22,
   "metadata": {},
   "outputs": [],
   "source": [
    "import os\n",
    "from atproto import Client\n",
    "from dotenv import load_dotenv\n"
   ]
  },
  {
   "cell_type": "code",
   "execution_count": 26,
   "metadata": {},
   "outputs": [],
   "source": [
    "load_dotenv()\n",
    "\n",
    "\n",
    "client = Client()\n",
    "\n",
    "username = os.getenv(\"BLUESKY_USERNAME\")\n",
    "password = os.getenv(\"BLUESKY_PASSWORD\")\n"
   ]
  },
  {
   "cell_type": "code",
   "execution_count": 27,
   "metadata": {},
   "outputs": [
    {
     "data": {
      "text/plain": [
       "ProfileViewDetailed(did='did:plc:2xyl3n4a6iwyypv4ykwna2vi', handle='tobmic.bsky.social', associated=ProfileAssociated(chat=None, feedgens=0, labeler=False, lists=0, starter_packs=0, py_type='app.bsky.actor.defs#profileAssociated'), avatar='https://cdn.bsky.app/img/avatar/plain/did:plc:2xyl3n4a6iwyypv4ykwna2vi/bafkreifiqsw6lon2ysterag3ktcvq6tc2yr242vsbfwrmtccqxo2khwypq@jpeg', banner=None, created_at='2025-02-06T17:34:25.446Z', description=None, display_name='', followers_count=0, follows_count=1, indexed_at='2025-02-06T17:34:25.446Z', joined_via_starter_pack=None, labels=[], pinned_post=None, posts_count=0, viewer=ViewerState(blocked_by=False, blocking=None, blocking_by_list=None, followed_by=None, following=None, known_followers=None, muted=False, muted_by_list=None, py_type='app.bsky.actor.defs#viewerState'), py_type='app.bsky.actor.defs#profileViewDetailed')"
      ]
     },
     "execution_count": 27,
     "metadata": {},
     "output_type": "execute_result"
    }
   ],
   "source": [
    "client.login(username,password)"
   ]
  },
  {
   "cell_type": "code",
   "execution_count": null,
   "metadata": {},
   "outputs": [],
   "source": [
    "\n"
   ]
  },
  {
   "cell_type": "code",
   "execution_count": null,
   "metadata": {},
   "outputs": [],
   "source": []
  },
  {
   "cell_type": "code",
   "execution_count": null,
   "metadata": {},
   "outputs": [],
   "source": []
  }
 ],
 "metadata": {
  "kernelspec": {
   "display_name": "Python 3",
   "language": "python",
   "name": "python3"
  },
  "language_info": {
   "codemirror_mode": {
    "name": "ipython",
    "version": 3
   },
   "file_extension": ".py",
   "mimetype": "text/x-python",
   "name": "python",
   "nbconvert_exporter": "python",
   "pygments_lexer": "ipython3",
   "version": "3.9.6 (default, Feb  3 2024, 15:58:27) \n[Clang 15.0.0 (clang-1500.3.9.4)]"
  },
  "orig_nbformat": 4,
  "vscode": {
   "interpreter": {
    "hash": "31f2aee4e71d21fbe5cf8b01ff0e069b9275f58929596ceb00d14d90e3e16cd6"
   }
  }
 },
 "nbformat": 4,
 "nbformat_minor": 2
}
