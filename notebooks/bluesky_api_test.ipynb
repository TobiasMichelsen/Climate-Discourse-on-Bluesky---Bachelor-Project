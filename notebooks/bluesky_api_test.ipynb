{
 "cells": [
  {
   "cell_type": "code",
   "execution_count": null,
   "metadata": {},
   "outputs": [],
   "source": [
    "## https://atproto.blue/en/latest/readme.content.html\n",
    "\n"
   ]
  },
  {
   "cell_type": "code",
   "execution_count": 1,
   "metadata": {},
   "outputs": [
    {
     "name": "stdout",
     "output_type": "stream",
     "text": [
      "Defaulting to user installation because normal site-packages is not writeable\n",
      "Requirement already satisfied: atproto in /Users/tobiasmichelsen/Library/Python/3.9/lib/python/site-packages (0.0.58)\n",
      "Requirement already satisfied: pydantic<3,>=2.7 in /Users/tobiasmichelsen/Library/Python/3.9/lib/python/site-packages (from atproto) (2.10.6)\n",
      "Requirement already satisfied: httpx<0.28.0,>=0.25.0 in /Users/tobiasmichelsen/Library/Python/3.9/lib/python/site-packages (from atproto) (0.27.2)\n",
      "Requirement already satisfied: dnspython<3,>=2.4.0 in /Users/tobiasmichelsen/Library/Python/3.9/lib/python/site-packages (from atproto) (2.7.0)\n",
      "Requirement already satisfied: websockets<14,>=12 in /Users/tobiasmichelsen/Library/Python/3.9/lib/python/site-packages (from atproto) (13.1)\n",
      "Requirement already satisfied: cryptography<44,>=41.0.7 in /Users/tobiasmichelsen/Library/Python/3.9/lib/python/site-packages (from atproto) (43.0.3)\n",
      "Requirement already satisfied: click<9,>=8.1.3 in /Users/tobiasmichelsen/Library/Python/3.9/lib/python/site-packages (from atproto) (8.1.8)\n",
      "Requirement already satisfied: libipld<4,>=2.0.0 in /Users/tobiasmichelsen/Library/Python/3.9/lib/python/site-packages (from atproto) (3.0.0)\n",
      "Requirement already satisfied: typing-extensions<5,>=4.8.0 in /Users/tobiasmichelsen/Library/Python/3.9/lib/python/site-packages (from atproto) (4.12.2)\n",
      "Requirement already satisfied: cffi>=1.12 in /Users/tobiasmichelsen/Library/Python/3.9/lib/python/site-packages (from cryptography<44,>=41.0.7->atproto) (1.17.1)\n",
      "Requirement already satisfied: pycparser in /Users/tobiasmichelsen/Library/Python/3.9/lib/python/site-packages (from cffi>=1.12->cryptography<44,>=41.0.7->atproto) (2.22)\n",
      "Requirement already satisfied: certifi in /Users/tobiasmichelsen/Library/Python/3.9/lib/python/site-packages (from httpx<0.28.0,>=0.25.0->atproto) (2025.1.31)\n",
      "Requirement already satisfied: anyio in /Users/tobiasmichelsen/Library/Python/3.9/lib/python/site-packages (from httpx<0.28.0,>=0.25.0->atproto) (4.8.0)\n",
      "Requirement already satisfied: idna in /Users/tobiasmichelsen/Library/Python/3.9/lib/python/site-packages (from httpx<0.28.0,>=0.25.0->atproto) (3.10)\n",
      "Requirement already satisfied: sniffio in /Users/tobiasmichelsen/Library/Python/3.9/lib/python/site-packages (from httpx<0.28.0,>=0.25.0->atproto) (1.3.1)\n",
      "Requirement already satisfied: httpcore==1.* in /Users/tobiasmichelsen/Library/Python/3.9/lib/python/site-packages (from httpx<0.28.0,>=0.25.0->atproto) (1.0.7)\n",
      "Requirement already satisfied: h11<0.15,>=0.13 in /Users/tobiasmichelsen/Library/Python/3.9/lib/python/site-packages (from httpcore==1.*->httpx<0.28.0,>=0.25.0->atproto) (0.14.0)\n",
      "Requirement already satisfied: pydantic-core==2.27.2 in /Users/tobiasmichelsen/Library/Python/3.9/lib/python/site-packages (from pydantic<3,>=2.7->atproto) (2.27.2)\n",
      "Requirement already satisfied: annotated-types>=0.6.0 in /Users/tobiasmichelsen/Library/Python/3.9/lib/python/site-packages (from pydantic<3,>=2.7->atproto) (0.7.0)\n",
      "Requirement already satisfied: exceptiongroup>=1.0.2 in /Users/tobiasmichelsen/Library/Python/3.9/lib/python/site-packages (from anyio->httpx<0.28.0,>=0.25.0->atproto) (1.1.3)\n",
      "\u001b[33mWARNING: You are using pip version 21.2.4; however, version 25.0 is available.\n",
      "You should consider upgrading via the '/Library/Developer/CommandLineTools/usr/bin/python3 -m pip install --upgrade pip' command.\u001b[0m\n",
      "Note: you may need to restart the kernel to use updated packages.\n"
     ]
    }
   ],
   "source": [
    "pip install atproto\n"
   ]
  },
  {
   "cell_type": "code",
   "execution_count": 2,
   "metadata": {},
   "outputs": [
    {
     "name": "stdout",
     "output_type": "stream",
     "text": [
      "Defaulting to user installation because normal site-packages is not writeable\n",
      "Requirement already satisfied: python-dotenv in /Users/tobiasmichelsen/Library/Python/3.9/lib/python/site-packages (1.0.1)\n",
      "\u001b[33mWARNING: You are using pip version 21.2.4; however, version 25.0 is available.\n",
      "You should consider upgrading via the '/Library/Developer/CommandLineTools/usr/bin/python3 -m pip install --upgrade pip' command.\u001b[0m\n",
      "Note: you may need to restart the kernel to use updated packages.\n"
     ]
    }
   ],
   "source": [
    "pip install python-dotenv"
   ]
  },
  {
   "cell_type": "code",
   "execution_count": 3,
   "metadata": {},
   "outputs": [
    {
     "name": "stdout",
     "output_type": "stream",
     "text": [
      "Defaulting to user installation because normal site-packages is not writeable\n",
      "Requirement already satisfied: bluesky-python in /Users/tobiasmichelsen/Library/Python/3.9/lib/python/site-packages (0.0.2)\n",
      "\u001b[33mWARNING: You are using pip version 21.2.4; however, version 25.0 is available.\n",
      "You should consider upgrading via the '/Library/Developer/CommandLineTools/usr/bin/python3 -m pip install --upgrade pip' command.\u001b[0m\n",
      "Note: you may need to restart the kernel to use updated packages.\n"
     ]
    }
   ],
   "source": [
    "pip install -U bluesky-python"
   ]
  },
  {
   "cell_type": "code",
   "execution_count": 4,
   "metadata": {},
   "outputs": [],
   "source": [
    "import os\n",
    "from atproto import Client\n",
    "from dotenv import load_dotenv\n"
   ]
  },
  {
   "cell_type": "code",
   "execution_count": 5,
   "metadata": {},
   "outputs": [],
   "source": [
    "load_dotenv()\n",
    "\n",
    "\n",
    "client = Client()\n",
    "\n",
    "username = os.getenv(\"BLUESKY_USERNAME\")\n",
    "password = os.getenv(\"BLUESKY_PASSWORD\")\n"
   ]
  },
  {
   "cell_type": "code",
   "execution_count": 6,
   "metadata": {},
   "outputs": [
    {
     "data": {
      "text/plain": [
       "ProfileViewDetailed(did='did:plc:2xyl3n4a6iwyypv4ykwna2vi', handle='tobmic.bsky.social', associated=ProfileAssociated(chat=None, feedgens=0, labeler=False, lists=0, starter_packs=0, py_type='app.bsky.actor.defs#profileAssociated'), avatar='https://cdn.bsky.app/img/avatar/plain/did:plc:2xyl3n4a6iwyypv4ykwna2vi/bafkreifiqsw6lon2ysterag3ktcvq6tc2yr242vsbfwrmtccqxo2khwypq@jpeg', banner=None, created_at='2025-02-06T17:34:25.446Z', description=None, display_name='', followers_count=0, follows_count=1, indexed_at='2025-02-06T17:34:25.446Z', joined_via_starter_pack=None, labels=[], pinned_post=None, posts_count=0, viewer=ViewerState(blocked_by=False, blocking=None, blocking_by_list=None, followed_by=None, following=None, known_followers=None, muted=False, muted_by_list=None, py_type='app.bsky.actor.defs#viewerState'), py_type='app.bsky.actor.defs#profileViewDetailed')"
      ]
     },
     "execution_count": 6,
     "metadata": {},
     "output_type": "execute_result"
    }
   ],
   "source": [
    "client.login(username,password)"
   ]
  },
  {
   "cell_type": "code",
   "execution_count": 7,
   "metadata": {},
   "outputs": [
    {
     "name": "stdout",
     "output_type": "stream",
     "text": [
      "User: Kye | Followers: 17015\n",
      "Truth.\n",
      "The Supreme Court is about to find out after they fucked around.\n",
      "We don’t elect kings. If leaders refuse to follow the law, they don’t belong in power.\n",
      "The Constitution only works if we enforce it. If the courts have no power, neither do the people.\n",
      "If democracy had a breaking point, would you recognize it? Because we’re standing on the edge of one right now.\n",
      "“Musk’s Billionaire Power Grab—And What It Means for America”\n",
      "\n",
      "medium.com/@gxldsociety...\n",
      "Slashing the NIH budget isn’t just a policy decision—it’s an attack on science, medicine, and the future of innovation. Cancer research, life-saving treatments, and our global leadership in health are all on the line. Pay attention.\n",
      "The Constitution only works if we enforce it. If the courts have no power, neither do the people.\n",
      "If democracy had a breaking point, would you recognize it? Because we’re standing on the edge of one right now.\n",
      "We don’t elect kings. If leaders refuse to follow the law, they don’t belong in power.\n",
      "Slashing the NIH budget isn’t just a policy decision—it’s an attack on science, medicine, and the future of innovation. Cancer research, life-saving treatments, and our global leadership in health are all on the line. Pay attention.\n",
      "I stopped posting every time I call Schumer's office bc it's been nearly daily—but today's small action that's not calling Schumer or one of my existing recurring donations was giving to Blake Gendebien's campaign for the special election in NY-21 bsky.app/profile/gxld...\n",
      "Thank you so much. \n",
      "\n",
      "For those interested in elections news, I def recommend following @gxldsociety.bsky.social and @ariellaelm.bsky.social for election information.\n",
      "This is my reminder to update my poll worker application.\n",
      "THEY JUST TOOK CONTROL OF EDUCATION. President Elon Musk and the GOP just made their move—public schools are on the chopping block. No more student loans, no more future for the working class. BOTH red & blue states will suffer. If you’re not outraged, you’re not paying attention.\n",
      "Cincinnati standing on BUSINESS.❤️🖤💚\n",
      "Do it NY! Full turnout!\n",
      "Ohioan here, keep in mind that Vance isn’t even his name! We don’t know who TF this male couch fucker really is? He sold himself out years ago! Anyone who used their mom’s addiction to make a point about fentanyl is lost! Given his mom was a nurse stealing meds from patients! 🤬 F him and his voters!\n",
      "Wonder what it feels like to get hit with a paper straw?\n",
      "Florida Resistors-\n",
      "Voting machines can’t steal paper ballots. \n",
      "Register for a mail in ballot NOW! \n",
      "Key Dates:\n",
      "Deadline to register: March 3, 2025\n",
      "Deadline to request vote-by-mail ballot be mailed: March 20, 2025\n",
      "Mandatory early voting period: March 22 – 29, 2025\n",
      "Election Day: April 1, 2025\n",
      "This look familiar face from the past Kye\n",
      "Teachers need to go on strike. Families of students can offer water and food and supplies to support. High school students can be taught how to organize sit ins at school. PUSH YOUR FAMILY AND FRIENDS IN TECH TO STRIKE! IMMEDIATELY. Employees of big corps too. Your community wants to support you.\n",
      "Our 22yr son is one of those people. He has autism and a 3.8 GPA in college. I want all kids to have even BETTER opportunities than he did, better support, better services, & better success. I don't want parents to have to fight & beg to get help for their kids.\n",
      "Item by item, Trump keeps checking off the list. Latest: Eliminate the Department of Education (p 319)\n",
      "Flordians, get your fucking asses out there and VOTE!\n",
      "White women in Florida \n",
      "\n",
      "Your protests don’t matter but showing up and voting for the Dems in these elections does\n",
      "\n",
      "So grow a spine and do what’s right\n",
      "Let's do this! Flip those district\n",
      "👏👏\n",
      "Donate to this Florida Democratic candidate, 1 of 3 current races that could give Democrats control of Congress\n",
      "Attn: Floridians \n",
      "\n",
      "Do Something!\n",
      "April 1st\n",
      "\n",
      "VOTE!!\n",
      "Call these republicans and demand transparency\n",
      "Help him get elected! Join a phone bank, donate do what ever you can!\n",
      "Wow!\n",
      "\n",
      "THIS ISN’T A DRILL. THIS IS WAR. NY-21, they’re coming for your Social Security, health care, and your kids’ future. Project 2025 will take EVERYTHING—unless we stop it. The special election is our last chance. WAKE UP. SHOW UP. FIGHT BACK. VOTE.\n",
      "Let’s take back our government!!!!! #FloridaVoteBlue\n",
      "Oh motherfuckers…hell no. I worked entirely too goddamned hard to get here, and I am GOING to get my fucking DNP one day, but it won’t happen without public schooling and financial aid.\n",
      "\n",
      "These fuckers need to fucking fuck right the fuck off into the depths of Satan’s asshole.\n",
      "Elon Musk is waging a war on kids. Shutting down the Department of Education also means NO free school lunches, NO support for struggling families, and NO future for millions of children. This is what happens when billionaires have too much power. THIS IS UNACCEPTABLE!\n",
      "GOOD‼️ His supporters need a wake-up call! Rich/poor red/blue there’s one area we ALL draw the line, our children! Even if it shuts down for a week, it WILL unite us! The GOP own all 3 branches of government! Let’s go! 💯💯\n",
      "People told me I was being “paranoid” and that there was NO WAY this would happen …\n",
      "I forgot to add Distrct 1 details. My bad! Kye here has extra details. Please signal boost these as well, and make sure your registration is up to date if you're in these counties.\n",
      "\n",
      "bsky.app/profile/gxld...\n",
      "Cincinnati standing on BUSINESS.❤️🖤💚\n",
      "I did they’re tagged in the comments\n",
      "What’s happening right now is an attack on our children AND us.\n",
      "Elon Musk got rich from the government—& paid little to NO taxes for it. He took over $15 billion in federal contracts through Tesla & SpaceX, & yet, Tesla’s been dodging federal taxes using loopholes. He made billions off YOUR money & now he’s turning his back on the very system that made him rich.\n",
      "bsky.app/profile/gxld...\n",
      "Can we even call it an education system if special needs kids can’t succeed in it? No classroom support, no accommodations, no chance for success. This will destroy public education and destroy the futures of children who need the most help.\n",
      "Technically yes, but it’s arguably still a school. Sorry I wasn’t more technical.\n",
      "www.edweek.org/policy-polit...\n",
      "Is head start not considered a school to you? Because that’s what I’m talking about. Also, cutting students loans and grants from the department of education will definitely decrease access to education.\n"
     ]
    }
   ],
   "source": [
    "\n",
    "handle = \"gxldsociety.bsky.social\"\n",
    "profile = client.app.bsky.actor.get_profile({'actor': handle})\n",
    "print(f\"User: {profile.display_name} | Followers: {profile.followers_count}\")\n",
    "\n",
    "posts = client.app.bsky.feed.get_author_feed({'actor': handle})\n",
    "for post in posts.feed:\n",
    "    print(post.post.record.text)\n"
   ]
  },
  {
   "cell_type": "code",
   "execution_count": 8,
   "metadata": {},
   "outputs": [
    {
     "name": "stdout",
     "output_type": "stream",
     "text": [
      "Users posting about climate topics: set()\n"
     ]
    }
   ],
   "source": [
    "keywords = [\"climate change\", \"global warming\", \"fossil fuels\", \"carbon tax\", \"net zero\"]\n",
    "climate_users = set()\n",
    "\n",
    "feed = client.app.bsky.feed.get_timeline()\n",
    "for post in feed.feed:\n",
    "    text = post.post.record.text.lower()\n",
    "    if any(keyword in text for keyword in keywords):\n",
    "        climate_users.add(post.post.author)\n",
    "\n",
    "print(\"Users posting about climate topics:\", climate_users)\n"
   ]
  },
  {
   "cell_type": "code",
   "execution_count": 11,
   "metadata": {},
   "outputs": [
    {
     "ename": "TypeError",
     "evalue": "unhashable type: 'ProfileViewBasic'",
     "output_type": "error",
     "traceback": [
      "\u001b[0;31m---------------------------------------------------------------------------\u001b[0m",
      "\u001b[0;31mTypeError\u001b[0m                                 Traceback (most recent call last)",
      "Cell \u001b[0;32mIn[11], line 18\u001b[0m\n\u001b[1;32m     16\u001b[0m feed \u001b[39m=\u001b[39m client\u001b[39m.\u001b[39mapp\u001b[39m.\u001b[39mbsky\u001b[39m.\u001b[39mfeed\u001b[39m.\u001b[39mget_timeline()\n\u001b[1;32m     17\u001b[0m \u001b[39mfor\u001b[39;00m post \u001b[39min\u001b[39;00m feed\u001b[39m.\u001b[39mfeed:\n\u001b[0;32m---> 18\u001b[0m     users\u001b[39m.\u001b[39;49madd(post\u001b[39m.\u001b[39;49mpost\u001b[39m.\u001b[39;49mauthor)\n\u001b[1;32m     20\u001b[0m \u001b[39mprint\u001b[39m(\u001b[39mf\u001b[39m\u001b[39m\"\u001b[39m\u001b[39m✅ Collected \u001b[39m\u001b[39m{\u001b[39;00m\u001b[39mlen\u001b[39m(users)\u001b[39m}\u001b[39;00m\u001b[39m users from timeline.\u001b[39m\u001b[39m\"\u001b[39m)\n\u001b[1;32m     22\u001b[0m \u001b[39m# Create a dictionary to store user follower counts\u001b[39;00m\n",
      "\u001b[0;31mTypeError\u001b[0m: unhashable type: 'ProfileViewBasic'"
     ]
    }
   ],
   "source": [
    "import os\n",
    "from dotenv import load_dotenv\n",
    "from atproto import Client\n",
    "\n",
    "# Load credentials\n",
    "load_dotenv()\n",
    "username = os.getenv(\"BLUESKY_USERNAME\")\n",
    "password = os.getenv(\"BLUESKY_PASSWORD\")\n",
    "\n",
    "# Authenticate with Bluesky\n",
    "client = Client()\n",
    "client.login(username, password)\n",
    "\n",
    "# Collect users from timeline\n",
    "users = set()\n",
    "feed = client.app.bsky.feed.get_timeline()\n",
    "for post in feed.feed:\n",
    "    users.add(post.post.author)\n",
    "\n",
    "print(f\"✅ Collected {len(users)} users from timeline.\")\n",
    "\n",
    "# Create a dictionary to store user follower counts\n",
    "user_followers = {}\n",
    "\n",
    "# Fetch follower counts\n",
    "for user in users:\n",
    "    try:\n",
    "        profile = client.app.bsky.actor.get_profile({'actor': user})\n",
    "        user_followers[user] = profile.followers_count\n",
    "    except Exception as e:\n",
    "        print(f\"❌ Could not fetch profile for {user}: {e}\")\n",
    "\n",
    "# Sort users by follower count (descending)\n",
    "sorted_users = sorted(user_followers.items(), key=lambda x: x[1], reverse=True)\n",
    "\n"
   ]
  },
  {
   "cell_type": "code",
   "execution_count": null,
   "metadata": {},
   "outputs": [],
   "source": []
  }
 ],
 "metadata": {
  "kernelspec": {
   "display_name": "Python 3",
   "language": "python",
   "name": "python3"
  },
  "language_info": {
   "codemirror_mode": {
    "name": "ipython",
    "version": 3
   },
   "file_extension": ".py",
   "mimetype": "text/x-python",
   "name": "python",
   "nbconvert_exporter": "python",
   "pygments_lexer": "ipython3",
   "version": "3.9.6"
  },
  "orig_nbformat": 4,
  "vscode": {
   "interpreter": {
    "hash": "31f2aee4e71d21fbe5cf8b01ff0e069b9275f58929596ceb00d14d90e3e16cd6"
   }
  }
 },
 "nbformat": 4,
 "nbformat_minor": 2
}
