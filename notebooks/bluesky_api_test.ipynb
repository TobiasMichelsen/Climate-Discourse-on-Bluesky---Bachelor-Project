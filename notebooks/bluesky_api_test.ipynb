{
 "cells": [
  {
   "cell_type": "code",
   "execution_count": null,
   "metadata": {},
   "outputs": [
    {
     "name": "stdout",
     "output_type": "stream",
     "text": [
      "asd\n"
     ]
    }
   ],
   "source": [
    "## https://atproto.blue/en/latest/readme.content.html"
   ]
  },
  {
   "cell_type": "code",
   "execution_count": 2,
   "metadata": {},
   "outputs": [
    {
     "name": "stdout",
     "output_type": "stream",
     "text": [
      "Note: you may need to restart the kernel to use updated packages.\n"
     ]
    }
   ],
   "source": [
    "pip install atproto"
   ]
  },
  {
   "cell_type": "code",
   "execution_count": 4,
   "metadata": {},
   "outputs": [
    {
     "name": "stdout",
     "output_type": "stream",
     "text": [
      "Note: you may need to restart the kernel to use updated packages.\n"
     ]
    }
   ],
   "source": [
    "pip install python-dotenv"
   ]
  },
  {
   "cell_type": "code",
   "execution_count": 1,
   "metadata": {},
   "outputs": [],
   "source": [
    "import os\n",
    "from atproto import Client\n",
    "from dotenv import load_dotenv"
   ]
  },
  {
   "cell_type": "code",
   "execution_count": 2,
   "metadata": {},
   "outputs": [],
   "source": [
    "load_dotenv()\n",
    "\n",
    "\n",
    "client = Client()\n",
    "\n",
    "username = os.getenv(\"BLUESKY_USERNAME\")\n",
    "password = os.getenv(\"BLUESKY_PASSWORD\")\n"
   ]
  },
  {
   "cell_type": "code",
   "execution_count": 22,
   "metadata": {},
   "outputs": [],
   "source": [
    "client.login(username,password)\n",
    "handle = {\"sioldridge.bsky.social\"}"
   ]
  },
  {
   "cell_type": "code",
   "execution_count": null,
   "metadata": {},
   "outputs": [
    {
     "name": "stdout",
     "output_type": "stream",
     "text": [
      "at://did:plc:kfqvsnaktgllblu77a7gb3x7/app.bsky.feed.post/3lhjnutci5z2t https://www.youtube.com/watch?v=nlLhw1mtCFA\n",
      "at://did:plc:kfqvsnaktgllblu77a7gb3x7/app.bsky.feed.post/3lgxlskk6cm2k Haro, everinyan\n"
     ]
    }
   ],
   "source": [
    "#gets post uri, post content\n",
    "posts = client.app.bsky.feed.post.list(client.me.did, limit=10)\n",
    "for uri, post in posts.records.items():\n",
    "    print(uri, post.text)"
   ]
  },
  {
   "cell_type": "code",
   "execution_count": null,
   "metadata": {},
   "outputs": [
    {
     "name": "stdout",
     "output_type": "stream",
     "text": [
      "did='did:plc:kfqvsnaktgllblu77a7gb3x7'\n"
     ]
    }
   ],
   "source": [
    "print(client.com.atproto.identity.resolve_handle({'handle': 'biobab.bsky.social'})) # this gives DID for handle\n"
   ]
  },
  {
   "cell_type": "code",
   "execution_count": 31,
   "metadata": {},
   "outputs": [],
   "source": [
    "# client.app.bsky.feed.get_actor_feeds(\"sioldridge.bsky.social\")"
   ]
  },
  {
   "cell_type": "code",
   "execution_count": null,
   "metadata": {},
   "outputs": [
    {
     "name": "stdout",
     "output_type": "stream",
     "text": [
      "feed=[FeedViewPost(post=PostView(author=ProfileViewBasic(did='did:plc:eg336dt7kyike5xkyed3iwcv', handle='lukelukeluke.bsky.social', associated=ProfileAssociated(chat=ProfileAssociatedChat(allow_incoming='all', py_type='app.bsky.actor.defs#profileAssociatedChat'), feedgens=None, labeler=None, lists=None, starter_packs=None, py_type='app.bsky.actor.defs#profileAssociated'), avatar='https://cdn.bsky.app/img/avatar/plain/did:plc:eg336dt7kyike5xkyed3iwcv/bafkreiaey2qqua57ltbrdgllho5cnxepscwqmjrxas3adw5npjiq7htw2i@jpeg', created_at='2023-07-03T13:49:23.621Z', display_name='lukelukeluke', labels=[], viewer=ViewerState(blocked_by=False, blocking=None, blocking_by_list=None, followed_by=None, following=None, known_followers=None, muted=False, muted_by_list=None, py_type='app.bsky.actor.defs#viewerState'), py_type='app.bsky.actor.defs#profileViewBasic'), cid='bafyreidcdlxf2cejwujfrxuyqrgulqi26w5e446nqk6q45cyynvsdbka6e', indexed_at='2025-01-29T13:38:23.645Z', record=Record(created_at='2025-01-29T13:38:20.063Z', text='Here are some nice mushrooms', embed=Main(images=[Image(alt='A family of Stereum lobatum mushrooms grows off the side of a dark fallen log, their red shelves resembling lobster tails\\n\\nThis is a new angle of a photo I posted one month ago\\n\\nAll photos by me', image=BlobRef(mime_type='image/jpeg', size=910590, ref=IpldLink(link='bafkreicalvqvwt4sz3bxp7epqcgh7xpa3aia3jjdpfd3pp2rkccy7hlplq'), py_type='blob'), aspect_ratio=AspectRatio(height=2000, width=1243, py_type='app.bsky.embed.defs#aspectRatio'), py_type='app.bsky.embed.images#image')], py_type='app.bsky.embed.images'), entities=None, facets=None, labels=None, langs=['en'], reply=None, tags=None, py_type='app.bsky.feed.post'), uri='at://did:plc:eg336dt7kyike5xkyed3iwcv/app.bsky.feed.post/3lgv3q57bws24', embed=View(images=[ViewImage(alt='A family of Stereum lobatum mushrooms grows off the side of a dark fallen log, their red shelves resembling lobster tails\\n\\nThis is a new angle of a photo I posted one month ago\\n\\nAll photos by me', fullsize='https://cdn.bsky.app/img/feed_fullsize/plain/did:plc:eg336dt7kyike5xkyed3iwcv/bafkreicalvqvwt4sz3bxp7epqcgh7xpa3aia3jjdpfd3pp2rkccy7hlplq@jpeg', thumb='https://cdn.bsky.app/img/feed_thumbnail/plain/did:plc:eg336dt7kyike5xkyed3iwcv/bafkreicalvqvwt4sz3bxp7epqcgh7xpa3aia3jjdpfd3pp2rkccy7hlplq@jpeg', aspect_ratio=AspectRatio(height=2000, width=1243, py_type='app.bsky.embed.defs#aspectRatio'), py_type='app.bsky.embed.images#viewImage')], py_type='app.bsky.embed.images#view'), labels=[], like_count=19985, quote_count=47, reply_count=382, repost_count=790, threadgate=ThreadgateView(cid='bafyreib6cd4sxw6uum5ojgtf57z67jop3qszgvugxubgme3mzbf2gk6dom', lists=[], record=Record(created_at='2025-01-30T13:54:17.935Z', post='at://did:plc:eg336dt7kyike5xkyed3iwcv/app.bsky.feed.post/3lgv3q57bws24', allow=None, hidden_replies=['at://did:plc:spoadsloh44f6le652ixac3w/app.bsky.feed.post/3lgvde4s4nc2r', 'at://did:plc:27zprdaxmzjdffob56z2jbx3/app.bsky.feed.post/3lgvgv7sdwc2f', 'at://did:plc:q2gd7sp4ngveddmumaqfmwoa/app.bsky.feed.post/3lgxayrhsks2t', 'at://did:plc:kajtuoohliqf3ufx3g5fsuao/app.bsky.feed.post/3lgwij5nzkt2s'], py_type='app.bsky.feed.threadgate'), uri='at://did:plc:eg336dt7kyike5xkyed3iwcv/app.bsky.feed.threadgate/3lgv3q57bws24', py_type='app.bsky.feed.defs#threadgateView'), viewer=ViewerState(embedding_disabled=False, like='at://did:plc:kfqvsnaktgllblu77a7gb3x7/app.bsky.feed.like/3lgxlqdkcyb2r', pinned=None, reply_disabled=False, repost=None, thread_muted=False, py_type='app.bsky.feed.defs#viewerState'), py_type='app.bsky.feed.defs#postView'), feed_context=None, reason=None, reply=None, py_type='app.bsky.feed.defs#feedViewPost')] cursor='3lcjee7ejzz22'\n"
     ]
    }
   ],
   "source": [
    "\n",
    "response = client.app.bsky.feed.get_actor_likes(params={\"actor\": \"biobab.bsky.social\"}) #it works with my handle, doesnt work with sioldridge\n",
    "print(response) #lukelukeluke has a post I liked\n"
   ]
  }
 ],
 "metadata": {
  "kernelspec": {
   "display_name": "Python 3",
   "language": "python",
   "name": "python3"
  },
  "language_info": {
   "codemirror_mode": {
    "name": "ipython",
    "version": 3
   },
   "file_extension": ".py",
   "mimetype": "text/x-python",
   "name": "python",
   "nbconvert_exporter": "python",
   "pygments_lexer": "ipython3",
   "version": "3.12.5"
  },
  "orig_nbformat": 4,
  "vscode": {
   "interpreter": {
    "hash": "31f2aee4e71d21fbe5cf8b01ff0e069b9275f58929596ceb00d14d90e3e16cd6"
   }
  }
 },
 "nbformat": 4,
 "nbformat_minor": 2
}
