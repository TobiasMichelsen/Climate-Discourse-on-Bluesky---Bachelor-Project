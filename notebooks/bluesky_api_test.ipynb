{
 "cells": [
  {
   "cell_type": "code",
   "execution_count": null,
   "metadata": {},
   "outputs": [],
   "source": [
    "## https://atproto.blue/en/latest/readme.content.html\n",
    "\n"
   ]
  },
  {
   "cell_type": "code",
   "execution_count": 1,
   "metadata": {},
   "outputs": [
    {
     "name": "stdout",
     "output_type": "stream",
     "text": [
      "Defaulting to user installation because normal site-packages is not writeable\n",
      "Requirement already satisfied: atproto in /Users/tobiasmichelsen/Library/Python/3.9/lib/python/site-packages (0.0.58)\n",
      "Requirement already satisfied: typing-extensions<5,>=4.8.0 in /Users/tobiasmichelsen/Library/Python/3.9/lib/python/site-packages (from atproto) (4.12.2)\n",
      "Requirement already satisfied: pydantic<3,>=2.7 in /Users/tobiasmichelsen/Library/Python/3.9/lib/python/site-packages (from atproto) (2.10.6)\n",
      "Requirement already satisfied: click<9,>=8.1.3 in /Users/tobiasmichelsen/Library/Python/3.9/lib/python/site-packages (from atproto) (8.1.8)\n",
      "Requirement already satisfied: websockets<14,>=12 in /Users/tobiasmichelsen/Library/Python/3.9/lib/python/site-packages (from atproto) (13.1)\n",
      "Requirement already satisfied: libipld<4,>=2.0.0 in /Users/tobiasmichelsen/Library/Python/3.9/lib/python/site-packages (from atproto) (3.0.0)\n",
      "Requirement already satisfied: httpx<0.28.0,>=0.25.0 in /Users/tobiasmichelsen/Library/Python/3.9/lib/python/site-packages (from atproto) (0.27.2)\n",
      "Requirement already satisfied: dnspython<3,>=2.4.0 in /Users/tobiasmichelsen/Library/Python/3.9/lib/python/site-packages (from atproto) (2.7.0)\n",
      "Requirement already satisfied: cryptography<44,>=41.0.7 in /Users/tobiasmichelsen/Library/Python/3.9/lib/python/site-packages (from atproto) (43.0.3)\n",
      "Requirement already satisfied: cffi>=1.12 in /Users/tobiasmichelsen/Library/Python/3.9/lib/python/site-packages (from cryptography<44,>=41.0.7->atproto) (1.17.1)\n",
      "Requirement already satisfied: pycparser in /Users/tobiasmichelsen/Library/Python/3.9/lib/python/site-packages (from cffi>=1.12->cryptography<44,>=41.0.7->atproto) (2.22)\n",
      "Requirement already satisfied: idna in /Users/tobiasmichelsen/Library/Python/3.9/lib/python/site-packages (from httpx<0.28.0,>=0.25.0->atproto) (3.10)\n",
      "Requirement already satisfied: httpcore==1.* in /Users/tobiasmichelsen/Library/Python/3.9/lib/python/site-packages (from httpx<0.28.0,>=0.25.0->atproto) (1.0.7)\n",
      "Requirement already satisfied: certifi in /Users/tobiasmichelsen/Library/Python/3.9/lib/python/site-packages (from httpx<0.28.0,>=0.25.0->atproto) (2025.1.31)\n",
      "Requirement already satisfied: anyio in /Users/tobiasmichelsen/Library/Python/3.9/lib/python/site-packages (from httpx<0.28.0,>=0.25.0->atproto) (4.8.0)\n",
      "Requirement already satisfied: sniffio in /Users/tobiasmichelsen/Library/Python/3.9/lib/python/site-packages (from httpx<0.28.0,>=0.25.0->atproto) (1.3.1)\n",
      "Requirement already satisfied: h11<0.15,>=0.13 in /Users/tobiasmichelsen/Library/Python/3.9/lib/python/site-packages (from httpcore==1.*->httpx<0.28.0,>=0.25.0->atproto) (0.14.0)\n",
      "Requirement already satisfied: annotated-types>=0.6.0 in /Users/tobiasmichelsen/Library/Python/3.9/lib/python/site-packages (from pydantic<3,>=2.7->atproto) (0.7.0)\n",
      "Requirement already satisfied: pydantic-core==2.27.2 in /Users/tobiasmichelsen/Library/Python/3.9/lib/python/site-packages (from pydantic<3,>=2.7->atproto) (2.27.2)\n",
      "Requirement already satisfied: exceptiongroup>=1.0.2 in /Users/tobiasmichelsen/Library/Python/3.9/lib/python/site-packages (from anyio->httpx<0.28.0,>=0.25.0->atproto) (1.1.3)\n",
      "\u001b[33mWARNING: You are using pip version 21.2.4; however, version 25.0 is available.\n",
      "You should consider upgrading via the '/Library/Developer/CommandLineTools/usr/bin/python3 -m pip install --upgrade pip' command.\u001b[0m\n",
      "Note: you may need to restart the kernel to use updated packages.\n"
     ]
    }
   ],
   "source": [
    "pip install atproto\n"
   ]
  },
  {
   "cell_type": "code",
   "execution_count": 2,
   "metadata": {},
   "outputs": [
    {
     "name": "stdout",
     "output_type": "stream",
     "text": [
      "Defaulting to user installation because normal site-packages is not writeable\n",
      "Requirement already satisfied: python-dotenv in /Users/tobiasmichelsen/Library/Python/3.9/lib/python/site-packages (1.0.1)\n",
      "\u001b[33mWARNING: You are using pip version 21.2.4; however, version 25.0 is available.\n",
      "You should consider upgrading via the '/Library/Developer/CommandLineTools/usr/bin/python3 -m pip install --upgrade pip' command.\u001b[0m\n",
      "Note: you may need to restart the kernel to use updated packages.\n"
     ]
    }
   ],
   "source": [
    "pip install python-dotenv"
   ]
  },
  {
   "cell_type": "code",
   "execution_count": 6,
   "metadata": {},
   "outputs": [
    {
     "name": "stdout",
     "output_type": "stream",
     "text": [
      "Defaulting to user installation because normal site-packages is not writeable\n",
      "Collecting bluesky-python\n",
      "  Downloading bluesky_python-0.0.2-py3-none-any.whl (4.6 kB)\n",
      "Installing collected packages: bluesky-python\n",
      "Successfully installed bluesky-python-0.0.2\n",
      "\u001b[33mWARNING: You are using pip version 21.2.4; however, version 25.0 is available.\n",
      "You should consider upgrading via the '/Library/Developer/CommandLineTools/usr/bin/python3 -m pip install --upgrade pip' command.\u001b[0m\n",
      "Note: you may need to restart the kernel to use updated packages.\n"
     ]
    }
   ],
   "source": [
    "pip install -U bluesky-python"
   ]
  },
  {
   "cell_type": "code",
   "execution_count": 11,
   "metadata": {},
   "outputs": [
    {
     "ename": "ModuleNotFoundError",
     "evalue": "No module named 'requests'",
     "output_type": "error",
     "traceback": [
      "\u001b[0;31m---------------------------------------------------------------------------\u001b[0m",
      "\u001b[0;31mModuleNotFoundError\u001b[0m                       Traceback (most recent call last)",
      "Cell \u001b[0;32mIn[11], line 4\u001b[0m\n\u001b[1;32m      2\u001b[0m \u001b[39mfrom\u001b[39;00m \u001b[39matproto\u001b[39;00m \u001b[39mimport\u001b[39;00m Client\n\u001b[1;32m      3\u001b[0m \u001b[39mfrom\u001b[39;00m \u001b[39mdotenv\u001b[39;00m \u001b[39mimport\u001b[39;00m load_dotenv\n\u001b[0;32m----> 4\u001b[0m \u001b[39mimport\u001b[39;00m \u001b[39mbluesky\u001b[39;00m\n",
      "File \u001b[0;32m~/Library/Python/3.9/lib/python/site-packages/bluesky/__init__.py:1\u001b[0m\n\u001b[0;32m----> 1\u001b[0m \u001b[39mfrom\u001b[39;00m \u001b[39mbluesky\u001b[39;00m \u001b[39mimport\u001b[39;00m utils\n\u001b[1;32m      2\u001b[0m \u001b[39mfrom\u001b[39;00m \u001b[39mbluesky\u001b[39;00m\u001b[39m.\u001b[39;00m\u001b[39mmodels\u001b[39;00m \u001b[39mimport\u001b[39;00m File, BlueskyBasicClient\n",
      "File \u001b[0;32m~/Library/Python/3.9/lib/python/site-packages/bluesky/utils.py:3\u001b[0m\n\u001b[1;32m      1\u001b[0m \u001b[39mimport\u001b[39;00m \u001b[39mre\u001b[39;00m\n\u001b[1;32m      2\u001b[0m \u001b[39mfrom\u001b[39;00m \u001b[39mtyping\u001b[39;00m \u001b[39mimport\u001b[39;00m List, Dict\n\u001b[0;32m----> 3\u001b[0m \u001b[39mimport\u001b[39;00m \u001b[39mrequests\u001b[39;00m\n\u001b[1;32m      6\u001b[0m \u001b[39mdef\u001b[39;00m \u001b[39mparse_facets\u001b[39m(text: \u001b[39mstr\u001b[39m) \u001b[39m-\u001b[39m\u001b[39m>\u001b[39m List[Dict]:\n\u001b[1;32m      7\u001b[0m     facets \u001b[39m=\u001b[39m []\n",
      "\u001b[0;31mModuleNotFoundError\u001b[0m: No module named 'requests'"
     ]
    }
   ],
   "source": [
    "import os\n",
    "from atproto import Client\n",
    "from dotenv import load_dotenv\n"
   ]
  },
  {
   "cell_type": "code",
   "execution_count": 4,
   "metadata": {},
   "outputs": [],
   "source": [
    "load_dotenv()\n",
    "\n",
    "\n",
    "client = Client()\n",
    "\n",
    "username = os.getenv(\"BLUESKY_USERNAME\")\n",
    "password = os.getenv(\"BLUESKY_PASSWORD\")\n"
   ]
  },
  {
   "cell_type": "code",
   "execution_count": 5,
   "metadata": {},
   "outputs": [
    {
     "data": {
      "text/plain": [
       "ProfileViewDetailed(did='did:plc:2xyl3n4a6iwyypv4ykwna2vi', handle='tobmic.bsky.social', associated=ProfileAssociated(chat=None, feedgens=0, labeler=False, lists=0, starter_packs=0, py_type='app.bsky.actor.defs#profileAssociated'), avatar='https://cdn.bsky.app/img/avatar/plain/did:plc:2xyl3n4a6iwyypv4ykwna2vi/bafkreifiqsw6lon2ysterag3ktcvq6tc2yr242vsbfwrmtccqxo2khwypq@jpeg', banner=None, created_at='2025-02-06T17:34:25.446Z', description=None, display_name='', followers_count=0, follows_count=1, indexed_at='2025-02-06T17:34:25.446Z', joined_via_starter_pack=None, labels=[], pinned_post=None, posts_count=0, viewer=ViewerState(blocked_by=False, blocking=None, blocking_by_list=None, followed_by=None, following=None, known_followers=None, muted=False, muted_by_list=None, py_type='app.bsky.actor.defs#viewerState'), py_type='app.bsky.actor.defs#profileViewDetailed')"
      ]
     },
     "execution_count": 5,
     "metadata": {},
     "output_type": "execute_result"
    }
   ],
   "source": [
    "client.login(username,password)"
   ]
  },
  {
   "cell_type": "code",
   "execution_count": 12,
   "metadata": {},
   "outputs": [
    {
     "name": "stdout",
     "output_type": "stream",
     "text": [
      "User: Kye | Followers: 14910\n",
      "BREAKING: Rep. Melanie Stansbury just TORCHED House Republicans for letting Elon Musk ILLEGALLY access YOUR data & dismantle government agencies! The GOP refuses to hold an unelected billionaire accountable. Things are EXPLOSIVE on the House floor!\n",
      "bsky.app/profile/gxld...\n",
      "bsky.app/profile/gxld...\n",
      "NEW YORK—YOU’RE UP NEXT.\n",
      "\n",
      "NY-21’s special election is coming SOON. Stefanik is out, and this seat is WIDE OPEN. Winning this means we STOP the GOP’s destruction in Congress. Get ready. Be prepared. We CANNOT afford to lose this one\n",
      "ALERT: FLORIDA 6TH DISTRICT —Elon Musk is NOT your friend! GOP is letting Musk steal your data, access your medical records, social security payments & Trump plans to hit you with tariffs. Project 2025 is here. VOTE Josh Weil on April 1! \n",
      "\n",
      "@joshweil.bsky.social\n",
      "secure.actblue.com/donate/jweil...\n",
      "Y’all know what do to. 🫶🏽💙💪🏽💯\n",
      "ALERT: FLORIDA 6TH DISTRICT —Elon Musk is NOT your friend! GOP is letting Musk steal your data, access your medical records, social security payments & Trump plans to hit you with tariffs. Project 2025 is here. VOTE Josh Weil on April 1! \n",
      "\n",
      "@joshweil.bsky.social\n",
      "secure.actblue.com/donate/jweil...\n",
      "Thank you\n",
      "Keep them coming!\n",
      "SAVE OUR COUNTRY: Don’t let the GOP push through Project 2025! Vote Gay Valimont for Congress in Florida’s 1st District on APRIL 1, 2025. Stop tariffs, protect your privacy, and stop Elon Musk from illegally accessing your medical records! \n",
      "\n",
      "gayforcongress.com\n",
      "@gayforcongress.bsky.social\n",
      "“Musk’s Billionaire Power Grab—And What It Means for America”\n",
      "\n",
      "medium.com/@gxldsociety...\n",
      "\n",
      "It's better than no plan at all. Some people aren't sure where to start or how to go about it. So, any plans to help protect democracy are worth listening to.\n",
      "And we love you for it! 💕\n",
      "I really been coming hard with these battle plans for resistance💙🫶🏽🤣\n",
      "Send it to my dm my mentions are moving too fast. I think I reposted it?\n",
      "This got to go viral. We got to do our part on pushing the Democratic Party for these last 3 seats, or we’re really cooked.\n",
      "We better win as many elections as possible while there are still elections in America.\n",
      "SAVE OUR COUNTRY: Don’t let the GOP push through Project 2025! Vote Gay Valimont for Congress in Florida’s 1st District on APRIL 1, 2025. Stop tariffs, protect your privacy, and stop Elon Musk from illegally accessing your medical records! \n",
      "\n",
      "gayforcongress.com\n",
      "@gayforcongress.bsky.social\n",
      "@gayforcongress.bsky.social\n",
      "I’ll do it for her.\n",
      "This needs to be @gayforcongress.bsky.social message - stop project 2025!! She NEEDS to get the msg out there asap!\n",
      "Alright, listen up! The future of this country depends on THREE key House seats still up for grabs. Two Florida seats (FL-1 & FL-6) + One New York seat (NY-21). If Democrats take them, they can slam the brakes on Project 2025 and the GOP’s takeover.\n",
      "\n",
      "DON’T. FUCK. THIS. UP.\n",
      "You see what’s at stake!\n",
      "Your job, Mr Phelps, is to make sure NO Republican MAGAT (and All Republicans are magats now) Ever wins any election again anywhere EVER. \n",
      "\n",
      "Send money, and lawyers and get ready with that FAN!!!\n",
      "And since this is Florida, where the vote suppression is extreme, verify your registration well in advance, and do absolutely everything by the book. Make sure your signature is the same as when you registered (down to middle initial use or not etc). Fill out everything precisely per instructions.\n",
      "Florida GUARD YOUR VOTES! VOTE!\n",
      "New York!!\n",
      "Your up ne t!\n",
      "Flip the house ! Vote!!!\n",
      "\n",
      "bsky.app/profile/gxld...\n",
      "Make this go viral.👏🏾👏🏾💯💯👍🏾👍🏾\n",
      "bsky.app/profile/gxld...\n",
      "bsky.app/profile/gxld...\n",
      "bsky.app/profile/gxld...\n",
      "bsky.app/profile/gxld...\n",
      "bsky.app/profile/gxld...\n",
      "We are counting on you Florida. Please prove us all wrong about your state's ability to elect competent leaders.\n",
      "NEW YORK, NEW YORK, NEW YORK… here’s something you can do…\n",
      "bsky.app/profile/gxld...\n",
      "bsky.app/profile/gxld...\n",
      "Yeah but they don’t love their social security benefits being paid with or the national weather being illegally accessed ( no hurricane warnings ), or their personal information being compromised by a private citizen. Idk we might have a chance.\n",
      "The rest of us are fully with you, Blue Florida! STOP the fascism In. Its. Trackes!\n",
      "Absolutely, I agree with you..\n",
      "bsky.app/profile/gxld...\n",
      "THIS IS IT. The special general elections for Florida’s 1st & 6th Congressional Districts are on APRIL 1, 2025. If we flip these seats, we can STOP Project 2025. No excuses! Mark your calendars! Show up!\n",
      "bsky.app/profile/gxld...\n",
      "bsky.app/profile/gxld...\n",
      "bsky.app/profile/gxld...\n",
      "bsky.app/profile/gxld...\n",
      "bsky.app/profile/gxld...\n"
     ]
    }
   ],
   "source": [
    "\n",
    "handle = \"gxldsociety.bsky.social\"\n",
    "profile = client.app.bsky.actor.get_profile({'actor': handle})\n",
    "print(f\"User: {profile.display_name} | Followers: {profile.followers_count}\")\n",
    "\n",
    "posts = client.app.bsky.feed.get_author_feed({'actor': handle})\n",
    "for post in posts.feed:\n",
    "    print(post.post.record.text)\n"
   ]
  },
  {
   "cell_type": "code",
   "execution_count": null,
   "metadata": {},
   "outputs": [],
   "source": []
  },
  {
   "cell_type": "code",
   "execution_count": null,
   "metadata": {},
   "outputs": [],
   "source": []
  }
 ],
 "metadata": {
  "kernelspec": {
   "display_name": "Python 3",
   "language": "python",
   "name": "python3"
  },
  "language_info": {
   "codemirror_mode": {
    "name": "ipython",
    "version": 3
   },
   "file_extension": ".py",
   "mimetype": "text/x-python",
   "name": "python",
   "nbconvert_exporter": "python",
   "pygments_lexer": "ipython3",
   "version": "3.9.6"
  },
  "orig_nbformat": 4,
  "vscode": {
   "interpreter": {
    "hash": "31f2aee4e71d21fbe5cf8b01ff0e069b9275f58929596ceb00d14d90e3e16cd6"
   }
  }
 },
 "nbformat": 4,
 "nbformat_minor": 2
}
